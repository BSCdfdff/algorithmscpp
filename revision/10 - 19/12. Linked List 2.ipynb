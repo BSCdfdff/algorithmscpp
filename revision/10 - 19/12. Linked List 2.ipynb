{
 "cells": [
  {
   "cell_type": "markdown",
   "metadata": {},
   "source": [
    "# Messing with\n",
    "\n",
    "1. Doubly linked list - Same process for linear LL, Insert(Head, specific position, tail), Insert using Array, Display, Delete(Head, specific position, tail).\n",
    "\n",
    "2. Reverse DLL, Again my own implementation. Main Point here, 1) set next = prev, 2) set prev =next. Now since we swapped things aroung, to go forward, we need to set p to prev to go forward. Next main point, check how to set first. first must be set.\n",
    "\n",
    "3. Displaying Circular DDL, Then Insert and delete. But first create and check for loop. No change from previous code,except only line for prev node.\n",
    "\n",
    "4. Comparison: Different types and with arrays"
   ]
  },
  {
   "cell_type": "code",
   "execution_count": 1,
   "metadata": {},
   "outputs": [],
   "source": [
    "#include <iostream>\n",
    "#include <climits>\n",
    "#include <bitset>\n",
    "#include <math.h>\n",
    "#include <string>\n",
    "#define INSERTION_OPERATOR operator>>\n",
    "#define EXTRACTION_OPERATOR operator<<\n",
    "\n",
    "#define ADDITION_OPERATOR operator+\n",
    "#define SUBTRACT_OPERATOR operator-\n",
    "#define nn 8\n",
    "//#define n 16\n",
    "using namespace std;"
   ]
  },
  {
   "cell_type": "markdown",
   "metadata": {},
   "source": [
    "## Here we go..."
   ]
  },
  {
   "cell_type": "code",
   "execution_count": 2,
   "metadata": {},
   "outputs": [],
   "source": [
    "class Node{\n",
    "public:    \n",
    "    Node *prev;\n",
    "    int data;\n",
    "    Node *next;\n",
    "};"
   ]
  },
  {
   "cell_type": "code",
   "execution_count": 3,
   "metadata": {},
   "outputs": [],
   "source": [
    "class LinkedList{\n",
    "private:\n",
    "    Node *first;\n",
    "    void Swap(Node *x, Node *y);\n",
    "public:    \n",
    "    LinkedList(){\n",
    "        first = new Node();\n",
    "        first = NULL;\n",
    "    }\n",
    "    LinkedList(int A[], int n);\n",
    "    ~LinkedList();\n",
    "    void Display();\n",
    "    void Display_Reverse();\n",
    "    int Len();\n",
    "    int Delete(int index);\n",
    "    void Insert(int index, int x);\n",
    "    Node* GetFirst();\n",
    "    void RecursiveDisplay_Reverse_Head(Node *p);\n",
    "    void ReversingList();\n",
    "    int Loop_CheckforLoop();\n",
    "    int Loop_CreateAndCheckforLoop();\n",
    "    void Loop_DisplayCircular();\n",
    "    int LenCircular();\n",
    "    void InsertCircular(int index, int x);\n",
    "    int DeleteCircular(int index);\n",
    "    \n",
    "    //void Recurse_Display_Tail(Node *p);\n",
    "    //void Recurse_Display_Head(Node *p);\n",
    "    //int Recurse_CountNodes_Tail(Node *p);\n",
    "    //int Recurse_MaxValueinNode_Tail(Node *p);\n",
    "    //int Recurse_SearchKey(Node *p, int key);\n",
    "    //int Loop_SearchKey(int key);\n",
    "    ///Node* Loop_ImprovedSearchKey(Node *p,int key);\n",
    "    //void Loop_InsertSortedList(int x);\n",
    "    //int Loop_CheckifListSorted();\n",
    "    //void Loop_RemoveDuplicatesInSorted();\n",
    "    //void Loop_ReversingSortedList_ByElements();\n",
    "    //void Loop_ReversingSortedList_ByAddressLinks();\n",
    "    //void Recurse_ReversingSortedList_ByAddressLinks(Node *q, Node *p);\n",
    "    //Node* Loop_MergingSortedlist(Node *q, Node *p,Node *r);\n",
    "    //void Recurse_DisplayCircular(Node *p);\n",
    "    \n",
    "    \n",
    "    \n",
    "    \n",
    "};"
   ]
  },
  {
   "cell_type": "code",
   "execution_count": 4,
   "metadata": {},
   "outputs": [],
   "source": [
    "int LinkedList::DeleteCircular(int index){\n",
    "    \n",
    "    Node *p, *q, *last;\n",
    "    \n",
    "    int x = -1;\n",
    "    \n",
    "    p=first;\n",
    "    \n",
    "    if (index < 0 || index  > LenCircular() ) //Its called covering your ass\n",
    "        return x;               \n",
    "    \n",
    "    if (index==0){\n",
    "        if (first==NULL){             //Empty list, so nothing to delete\n",
    "            return x;\n",
    "        }\n",
    "        else{\n",
    "            last = first;\n",
    "            while(last->next !=first){   //Empty list, but need to get last value\n",
    "                last=last->next;\n",
    "            }\n",
    "            \n",
    "            x=p->data;\n",
    "            first = p->next;\n",
    "            last->next = p->next;\n",
    "            p->prev=last;\n",
    "            delete p;\n",
    "        }\n",
    "        \n",
    "    }else{\n",
    "       for (int i =1;i < index; i++){\n",
    "            q=p;\n",
    "            p=p->next;\n",
    "        }\n",
    "        \n",
    "        \n",
    "        q->next=p->next;\n",
    "        p->next->prev=q->next;\n",
    "        x=p->data;\n",
    "        delete p;\n",
    "        \n",
    "    }\n",
    "    \n",
    "    return x;\n",
    "};"
   ]
  },
  {
   "cell_type": "code",
   "execution_count": 5,
   "metadata": {},
   "outputs": [],
   "source": [
    "void LinkedList::InsertCircular(int index, int x){\n",
    "    \n",
    "    Node *p, *t;\n",
    "    \n",
    "    p=first;\n",
    "    \n",
    "    \n",
    "    if (index==0){\n",
    "        if (first==NULL){               //If have empty list\n",
    "            t = new Node();\n",
    "            t->data = x;\n",
    "            t->next=t->prev=NULL;\n",
    "            first=t;\n",
    "        }\n",
    "        else{        \n",
    "                                        //Populated list, but inserting at HEAD, \n",
    "                                       // and need get last node, one just before First\n",
    "            \n",
    "           \n",
    "            while(p->next !=first){\n",
    "                p=p->next;\n",
    "            }\n",
    "           \n",
    "          \n",
    "            \n",
    "            t = new Node();\n",
    "            t->data = x;\n",
    "           \n",
    "            first->prev=t;\n",
    "           \n",
    "            p->next=t;\n",
    "            t->prev=p;\n",
    "            t->next=first;\n",
    "            \n",
    "            first=t;\n",
    "        }\n",
    "        \n",
    "    }else{\n",
    "       for (int i=1;i < index; i++){\n",
    "            p=p->next;\n",
    "        }\n",
    "        \n",
    "        \n",
    "        \n",
    "        Node *t = new Node();\n",
    "        t->data = x;\n",
    "        \n",
    "        //Added afterwards\n",
    "        if (p->next ==NULL)\n",
    "            t->next=NULL;\n",
    "        else{\n",
    "            t->next=p->next;\n",
    "            p->next->prev = t->next;\n",
    "        }    \n",
    "        p->next=t;  \n",
    "        t->prev=p;\n",
    "    }\n",
    "};"
   ]
  },
  {
   "cell_type": "code",
   "execution_count": 6,
   "metadata": {},
   "outputs": [],
   "source": [
    "int LinkedList::LenCircular(){\n",
    "    \n",
    "    Node *p;\n",
    "    p=first;\n",
    "    int cnt=0;\n",
    "    \n",
    "    do{\n",
    "        cnt++;\n",
    "        p=p->next;\n",
    "    }while(p!=first);\n",
    "   \n",
    "   \n",
    "    return cnt;\n",
    "};"
   ]
  },
  {
   "cell_type": "code",
   "execution_count": 7,
   "metadata": {},
   "outputs": [],
   "source": [
    "void LinkedList::Loop_DisplayCircular(){\n",
    "    \n",
    "    Node *p;\n",
    "    p=first;\n",
    "    \n",
    "    do{\n",
    "        cout<<p->data<<\" \";\n",
    "        p=p->next;\n",
    "    }while(p!=first);\n",
    "    cout<<endl;\n",
    "    \n",
    "};"
   ]
  },
  {
   "cell_type": "code",
   "execution_count": 8,
   "metadata": {},
   "outputs": [],
   "source": [
    "int LinkedList::Loop_CheckforLoop(){\n",
    "    \n",
    "    Node *p, *q;\n",
    "    p=q=first;\n",
    "    \n",
    "    do{\n",
    "        p=p->next;\n",
    "        q=q->next;\n",
    "        q=q?q->next:q;\n",
    "        \n",
    "    }while(p && q && p!=q);\n",
    "    \n",
    "    if (q==p)\n",
    "        return true;\n",
    "    else\n",
    "        return false;\n",
    "    \n",
    "}"
   ]
  },
  {
   "cell_type": "code",
   "execution_count": 9,
   "metadata": {},
   "outputs": [],
   "source": [
    "int LinkedList::Loop_CreateAndCheckforLoop(){\n",
    "    \n",
    "    \n",
    "    Node *t1,*t2;\n",
    "    \n",
    "    t1=first;\n",
    "    t2=first->next->next->next;\n",
    "    \n",
    "    \n",
    "        \n",
    "    t2->next=t1;\n",
    "    t2=t2->next;\n",
    "    first = t2;\n",
    "    \n",
    "    \n",
    "    Node *p, *q;\n",
    "    p=q=first;\n",
    "    \n",
    "    do{\n",
    "        p=p->next;\n",
    "        q=q->next;\n",
    "        q=q?q->next:q;\n",
    "        \n",
    "    }while(p && q && p!=q);\n",
    "    \n",
    "    if (q==p)\n",
    "        return true;\n",
    "    else\n",
    "        return false;\n",
    "    \n",
    "}"
   ]
  },
  {
   "cell_type": "code",
   "execution_count": 10,
   "metadata": {},
   "outputs": [],
   "source": [
    "void LinkedList::Swap(Node *x, Node *y){\n",
    "    Node *temp;\n",
    "    temp = x;\n",
    "    x=y;\n",
    "    y=temp;\n",
    "}"
   ]
  },
  {
   "cell_type": "code",
   "execution_count": 11,
   "metadata": {},
   "outputs": [],
   "source": [
    "void LinkedList::ReversingList(){\n",
    "    Node *p, *temp;\n",
    "    \n",
    "    p=first;\n",
    "    \n",
    "    while(p){\n",
    "        //Swap(p->next,p->prev);  .not swapping\n",
    "        temp = p->next;\n",
    "        p->next=p->prev;\n",
    "        p->prev=temp;\n",
    "        if (p->prev!=NULL){\n",
    "            p=p->prev;\n",
    "        }else break;\n",
    "            \n",
    "        \n",
    "    } \n",
    "    first=p;\n",
    "}"
   ]
  },
  {
   "cell_type": "code",
   "execution_count": 12,
   "metadata": {},
   "outputs": [],
   "source": [
    "Node* LinkedList::GetFirst(){\n",
    "    return first;    \n",
    "}"
   ]
  },
  {
   "cell_type": "code",
   "execution_count": 13,
   "metadata": {},
   "outputs": [],
   "source": [
    "void LinkedList::Insert(int index, int x){\n",
    "    \n",
    "    Node *p=new Node;\n",
    "    p=first;\n",
    "    \n",
    "    if (index==0) {\n",
    "        Node *t = new Node();\n",
    "        t->data = x;\n",
    "        t->prev=NULL;\n",
    "        cout<<\"len\"<<Len()<<endl;\n",
    "        if (Len()==0)\n",
    "            t->next=NULL;\n",
    "        else \n",
    "            t->next=p;\n",
    "        first=t;\n",
    "    }    \n",
    "    else{\n",
    "        \n",
    "        for (int i=1;i < index; i++){\n",
    "            p=p->next;\n",
    "        }\n",
    "        \n",
    "        Node *t = new Node();\n",
    "        t->data = x;\n",
    "        t->next=p->next;\n",
    "        t->prev=p;\n",
    "        p->next=t;\n",
    "    }    \n",
    "    \n",
    "}"
   ]
  },
  {
   "cell_type": "code",
   "execution_count": 14,
   "metadata": {},
   "outputs": [],
   "source": [
    "int LinkedList::Delete(int index){\n",
    "    Node *q, *p;\n",
    "    int x= -1;\n",
    "    \n",
    "    if (index < 0){\n",
    "        return -1;\n",
    "    }\n",
    "    \n",
    "    if (index == 0){\n",
    "       p=first;\n",
    "       first = first->next;\n",
    "       first->prev=NULL;\n",
    "       x=p->data;\n",
    "       delete p;\n",
    "    }else{\n",
    "       p=first; \n",
    "       \n",
    "       for (int i =0;i < index; i++){\n",
    "            q=p;\n",
    "            p=p->next;\n",
    "       }\n",
    "        \n",
    "        q->next=p->next;\n",
    "        if (p->next)\n",
    "            p->next->prev = p->prev;\n",
    "        x=p->data;\n",
    "        delete p;\n",
    "    }\n",
    "    return x;\n",
    "}"
   ]
  },
  {
   "cell_type": "code",
   "execution_count": 15,
   "metadata": {},
   "outputs": [],
   "source": [
    "LinkedList::~LinkedList(){\n",
    "    \n",
    "    Node *p = new Node();\n",
    "    p=first;\n",
    "\n",
    "    while(first){\n",
    "        //cout<<\"p->data = \"<<p->data<<endl;\n",
    "        first = first->next;\n",
    "        delete p;\n",
    "        p=first;\n",
    "    }\n",
    "}\n"
   ]
  },
  {
   "cell_type": "code",
   "execution_count": 16,
   "metadata": {},
   "outputs": [],
   "source": [
    "int LinkedList::Len(){\n",
    "    Node *p = new Node();\n",
    "    p=first;\n",
    "    int len=0;\n",
    "    while(p){\n",
    "        p=p->next;\n",
    "        len++;\n",
    "    }\n",
    "    \n",
    "    return len;\n",
    "}"
   ]
  },
  {
   "cell_type": "code",
   "execution_count": 17,
   "metadata": {},
   "outputs": [],
   "source": [
    "LinkedList::LinkedList(int A[], int n){\n",
    "    Node *last, *t;\n",
    "    \n",
    "   \n",
    "    \n",
    "    first = new Node();\n",
    "    last= new Node();\n",
    "    \n",
    "    first->data=A[0];\n",
    "    first->prev=first->next=NULL;\n",
    "    last = first;\n",
    "    \n",
    "    for (int i = 1; i < n;i++){\n",
    "        \n",
    "        t = new Node();\n",
    "        t->data = A[i];\n",
    "       \n",
    "        t->prev = last;\n",
    "        last->next=t;\n",
    "        //after linking up, move away, set last = t\n",
    "        last=t;\n",
    "        \n",
    "    }\n",
    "    \n",
    "};"
   ]
  },
  {
   "cell_type": "code",
   "execution_count": 18,
   "metadata": {},
   "outputs": [],
   "source": [
    "void LinkedList::Display(){\n",
    "    Node *p=new Node();\n",
    "    p=first;\n",
    "    \n",
    "    while(p){\n",
    "        cout<<p->data<<\" \";\n",
    "        p=p->next;\n",
    "    }\n",
    "    cout<<endl;\n",
    "    \n",
    "};"
   ]
  },
  {
   "cell_type": "code",
   "execution_count": 19,
   "metadata": {},
   "outputs": [],
   "source": [
    "void LinkedList::Display_Reverse(){\n",
    "    Node *p, *last;\n",
    "    p=first;\n",
    "    \n",
    "    while(p->next != NULL){ \n",
    "        p=p->next;\n",
    "    }\n",
    "    last=p;\n",
    "        \n",
    "    for (int i=Len();i > 0; i-- ){\n",
    "        cout<<last->data<<\" \";\n",
    "        last=last->prev;\n",
    "    }\n",
    "    cout<<endl;\n",
    "    \n",
    "};"
   ]
  },
  {
   "cell_type": "code",
   "execution_count": 20,
   "metadata": {},
   "outputs": [],
   "source": [
    "void LinkedList::RecursiveDisplay_Reverse_Head(Node *p){\n",
    "        \n",
    "    if (p){\n",
    "        RecursiveDisplay_Reverse_Head(p->next);\n",
    "        cout<<p->data<<\" \";\n",
    "    }else\n",
    "    {\n",
    "        cout<<endl;\n",
    "    }\n",
    "    \n",
    "    \n",
    "};"
   ]
  },
  {
   "cell_type": "code",
   "execution_count": 21,
   "metadata": {},
   "outputs": [
    {
     "name": "stdout",
     "output_type": "stream",
     "text": [
      "0\n",
      "10\n",
      "0\n"
     ]
    }
   ],
   "source": [
    "Node *p = new Node();\n",
    "p->prev = NULL;\n",
    "p->data=10;\n",
    "p->next = NULL;\n",
    "cout<<p->prev<<endl;\n",
    "cout<<p->data<<endl;\n",
    "cout<<p->next<<endl;\n"
   ]
  },
  {
   "cell_type": "code",
   "execution_count": 22,
   "metadata": {},
   "outputs": [
    {
     "name": "stdout",
     "output_type": "stream",
     "text": [
      "3 4 5 10 11 \n",
      "11 10 5 4 3 \n",
      "\n",
      "11 10 5 4 3 "
     ]
    }
   ],
   "source": [
    "int B[5]={3,4,5,10,11};\n",
    "int m = 5;\n",
    "LinkedList ll(B,m);\n",
    "ll.Display();\n",
    "//Normal reverse\n",
    "ll.Display_Reverse();\n",
    "//Recurse Reverse\n",
    "ll.RecursiveDisplay_Reverse_Head(ll.GetFirst());\n",
    "// ll.~LinkedList(); "
   ]
  },
  {
   "cell_type": "code",
   "execution_count": 23,
   "metadata": {},
   "outputs": [
    {
     "name": "stdout",
     "output_type": "stream",
     "text": [
      "len0\n",
      "1 3 4 5 9 10 11 15 \n",
      "15 11 10 9 5 4 3 1 \n"
     ]
    }
   ],
   "source": [
    "LinkedList l;\n",
    "l.Insert(0,1);\n",
    "l.Insert(1,3);\n",
    "l.Insert(2,4);\n",
    "l.Insert(3,5);\n",
    "l.Insert(4,9);\n",
    "l.Insert(5,10);\n",
    "l.Insert(6,11);\n",
    "l.Insert(7,15);\n",
    "l.Display();\n",
    "l.Display_Reverse();"
   ]
  },
  {
   "cell_type": "code",
   "execution_count": 24,
   "metadata": {},
   "outputs": [
    {
     "name": "stdout",
     "output_type": "stream",
     "text": [
      "3 4 5 9 10 11 15 \n"
     ]
    }
   ],
   "source": [
    "l.Delete(0);\n",
    "l.Display();"
   ]
  },
  {
   "cell_type": "code",
   "execution_count": 25,
   "metadata": {},
   "outputs": [
    {
     "name": "stdout",
     "output_type": "stream",
     "text": [
      "3 4 5 10 11 15 \n"
     ]
    }
   ],
   "source": [
    "l.Delete(3);\n",
    "l.Display();"
   ]
  },
  {
   "cell_type": "code",
   "execution_count": 26,
   "metadata": {},
   "outputs": [
    {
     "name": "stdout",
     "output_type": "stream",
     "text": [
      "3 4 5 10 11 \n"
     ]
    }
   ],
   "source": [
    "l.Delete(l.Len()-1);\n",
    "l.Display();"
   ]
  },
  {
   "cell_type": "code",
   "execution_count": 27,
   "metadata": {},
   "outputs": [
    {
     "name": "stdout",
     "output_type": "stream",
     "text": [
      "3 4 10 11 \n"
     ]
    }
   ],
   "source": [
    "l.Delete(2);\n",
    "l.Display();"
   ]
  },
  {
   "cell_type": "code",
   "execution_count": 28,
   "metadata": {},
   "outputs": [
    {
     "name": "stdout",
     "output_type": "stream",
     "text": [
      "11 10 4 3 \n"
     ]
    }
   ],
   "source": [
    "l.ReversingList();\n",
    "l.Display();"
   ]
  },
  {
   "cell_type": "code",
   "execution_count": 29,
   "metadata": {},
   "outputs": [
    {
     "name": "stdout",
     "output_type": "stream",
     "text": [
      "3 4 10 11 \n"
     ]
    }
   ],
   "source": [
    "//Reverse back\n",
    "l.ReversingList();\n",
    "l.Display();"
   ]
  },
  {
   "cell_type": "code",
   "execution_count": 30,
   "metadata": {},
   "outputs": [
    {
     "name": "stdout",
     "output_type": "stream",
     "text": [
      "Original Loop\n",
      "(Loop=1, Not Loop=0) = 0\n"
     ]
    }
   ],
   "source": [
    "cout<<\"Original Loop\"<<endl;\n",
    "cout<<\"(Loop=1, Not Loop=0) = \"<<l.Loop_CheckforLoop()<<endl;"
   ]
  },
  {
   "cell_type": "code",
   "execution_count": 31,
   "metadata": {},
   "outputs": [
    {
     "name": "stdout",
     "output_type": "stream",
     "text": [
      "Loop Created\n",
      "(Loop=1, Not Loop=0) = 1\n"
     ]
    }
   ],
   "source": [
    "cout<<\"Loop Created\"<<endl;\n",
    "cout<<\"(Loop=1, Not Loop=0) = \"<<l.Loop_CreateAndCheckforLoop()<<endl;\n"
   ]
  },
  {
   "cell_type": "code",
   "execution_count": 32,
   "metadata": {},
   "outputs": [
    {
     "name": "stdout",
     "output_type": "stream",
     "text": [
      "2 3 4 10 11 \n"
     ]
    }
   ],
   "source": [
    "l.InsertCircular(0,2);\n",
    "l.Loop_DisplayCircular();"
   ]
  },
  {
   "cell_type": "code",
   "execution_count": 33,
   "metadata": {},
   "outputs": [
    {
     "name": "stdout",
     "output_type": "stream",
     "text": [
      "2 3 4 9 10 11 \n"
     ]
    }
   ],
   "source": [
    "l.InsertCircular(3,9);\n",
    "l.Loop_DisplayCircular();"
   ]
  },
  {
   "cell_type": "code",
   "execution_count": 34,
   "metadata": {},
   "outputs": [
    {
     "name": "stdout",
     "output_type": "stream",
     "text": [
      "Deleted = 2\n",
      "3 4 9 10 11 \n"
     ]
    }
   ],
   "source": [
    "cout<<\"Deleted = \"<<l.DeleteCircular(0)<<endl;\n",
    "l.Loop_DisplayCircular();"
   ]
  },
  {
   "cell_type": "code",
   "execution_count": 35,
   "metadata": {},
   "outputs": [
    {
     "name": "stdout",
     "output_type": "stream",
     "text": [
      "Deleted = 9\n",
      "3 4 10 11 \n"
     ]
    }
   ],
   "source": [
    "cout<<\"Deleted = \"<<l.DeleteCircular(3)<<endl;\n",
    "l.Loop_DisplayCircular();"
   ]
  }
 ],
 "metadata": {
  "kernelspec": {
   "display_name": "C++17",
   "language": "C++17",
   "name": "xcpp17"
  },
  "language_info": {
   "codemirror_mode": "text/x-c++src",
   "file_extension": ".cpp",
   "mimetype": "text/x-c++src",
   "name": "c++",
   "version": "17"
  }
 },
 "nbformat": 4,
 "nbformat_minor": 2
}

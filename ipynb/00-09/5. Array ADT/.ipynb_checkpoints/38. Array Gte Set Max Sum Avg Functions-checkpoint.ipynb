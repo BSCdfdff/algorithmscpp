{
 "cells": [
  {
   "cell_type": "markdown",
   "metadata": {},
   "source": [
    "# Array ADT\n",
    "\n",
    "+ Get(index)\n",
    "+ Set(index, x)\n",
    "+ Max()\n",
    "+ Min()\n",
    "+ Sum()\n",
    "+ Avg()"
   ]
  },
  {
   "cell_type": "markdown",
   "metadata": {},
   "source": [
    "## Our Array\n",
    "\n",
    "___\n",
    "\n",
    "Size = 15\n",
    "\n",
    "Length = 15\n",
    "\n",
    "How to read the table:\n",
    "\n",
    "1. First row contains the value(s)\n",
    "2. Second row contains the index\n",
    "\n",
    "\n",
    "$$\n",
    "\\newcommand\\T{\\Rule{0pt}{1em}{.3em}}\n",
    "\\begin{array}{|r|r|r|r|r|r|r|r|r|r|r|r|r|r|}\n",
    "\\hline \n",
    "4\\T&8\\T&10\\T&15\\T&18\\T&21\\T&24\\T&27\\T&29\\T&33\\T&34\\T&37\\T&39\\T&41\\T&43  \\\\\\hline \n",
    "_0\\T&_1\\T&_2\\T&_3\\T&_4\\T&_5\\T&_6\\T&_7\\T&_8\\T&_9\\T&_{10}\\T&_{11}\\T&_{12}\\T&_{13}\\T&_{14}       \\\\\\hline \n",
    "\\end{array}\n",
    "$$\n",
    "\n"
   ]
  },
  {
   "cell_type": "markdown",
   "metadata": {},
   "source": [
    "## Get\n",
    "\n",
    "___\n",
    "\n",
    "\n",
    "To get an element at a particular index.\n",
    "\n",
    "Time taken is constant\n",
    "\n",
    "___\n",
    "\n"
   ]
  },
  {
   "cell_type": "markdown",
   "metadata": {},
   "source": [
    "## Set\n",
    "\n",
    "___\n",
    "\n",
    "Replace or overwrite value as particular index.\n",
    "\n",
    "Time taken is constant\n",
    "\n"
   ]
  },
  {
   "cell_type": "markdown",
   "metadata": {},
   "source": [
    "## Max\n",
    "\n",
    "___\n",
    "\n",
    "Find the maximum vlue in an array. If the list is sorted, then it will be then last element.\n",
    "    \n",
    "    \n",
    "\n",
    "Time taken is Order of n. Go through all elements.\n",
    "\n"
   ]
  },
  {
   "cell_type": "markdown",
   "metadata": {},
   "source": [
    "## Sum\n",
    "\n",
    "___\n",
    "\n",
    "Sum up all the values\n",
    "    \n",
    "    \n",
    "\n",
    "Time taken is Order of n. Go through all elements."
   ]
  },
  {
   "cell_type": "code",
   "execution_count": null,
   "metadata": {},
   "outputs": [],
   "source": [
    "## Avg\n",
    "\n",
    "___\n",
    "\n",
    "Takes the average of sum of all values\n",
    "    \n",
    "    \n",
    "\n",
    "Time taken is Order of n. Go through all elements."
   ]
  },
  {
   "cell_type": "code",
   "execution_count": 1,
   "metadata": {},
   "outputs": [],
   "source": [
    "#include <iostream>\n",
    "#include <climits>\n",
    "#include <math.h>\n",
    "using namespace std;"
   ]
  },
  {
   "cell_type": "code",
   "execution_count": 2,
   "metadata": {},
   "outputs": [],
   "source": [
    "class Array{\n",
    "private:\n",
    "    int *A;\n",
    "    int size;\n",
    "    int length;\n",
    "public:\n",
    "    Array(){\n",
    "        size=10;\n",
    "        A=new int[10];\n",
    "        length = 0;\n",
    "        \n",
    "    }\n",
    "    Array(int sz){\n",
    "        size=sz;\n",
    "        A=new int[sz];\n",
    "        length = 0;\n",
    "        \n",
    "    }\n",
    "    ~Array(){\n",
    "        delete []A;\n",
    "    }\n",
    "    void Display();\n",
    "    void Insert (int index, int x);\n",
    "    int Get (int index);\n",
    "    void Set (int index, int x);\n",
    "    int Maxies ();\n",
    "    int Minnies ();\n",
    "    int Sum();\n",
    "    int SumRecursive(int n);\n",
    "    int Avg();\n",
    "    \n",
    "}"
   ]
  },
  {
   "cell_type": "code",
   "execution_count": 3,
   "metadata": {},
   "outputs": [],
   "source": [
    "int Array::Maxies(){\n",
    " int max=A[0];\n",
    " int pos=0;   \n",
    "\n",
    " for (int i = 1; i <length; i++){\n",
    "    if (A[i] > max){\n",
    "        //cout<<A[i]<<endl;\n",
    "        max = A[i]; \n",
    "        pos = i;\n",
    "    }      \n",
    " } \n",
    "    \n",
    " return pos;\n",
    "}"
   ]
  },
  {
   "cell_type": "code",
   "execution_count": 4,
   "metadata": {},
   "outputs": [],
   "source": [
    "int Array::Minnies(){\n",
    " int min=A[0];\n",
    " int pos=0;   \n",
    "\n",
    " for (int i = 1; i <length; i++){\n",
    "    if (A[i] < min){\n",
    "        //cout<<A[i]<<endl;\n",
    "        min = A[i]; \n",
    "        pos = i;\n",
    "    }      \n",
    " } \n",
    "    \n",
    " return pos;\n",
    "}"
   ]
  },
  {
   "cell_type": "code",
   "execution_count": 5,
   "metadata": {},
   "outputs": [],
   "source": [
    "int Array::Sum(){\n",
    " int total =0;\n",
    " for (int i = 0; i <length; i++){\n",
    "    total = total  + A[i];\n",
    " } \n",
    "    \n",
    " return total;\n",
    "}"
   ]
  },
  {
   "cell_type": "code",
   "execution_count": null,
   "metadata": {},
   "outputs": [],
   "source": [
    "int Array::Avg(){\n",
    " int total =0;\n",
    " for (int i = 0; i <length; i++){\n",
    "    total = total  + A[i];\n",
    " } \n",
    "    \n",
    " return total/2;\n",
    "}"
   ]
  },
  {
   "cell_type": "code",
   "execution_count": 6,
   "metadata": {},
   "outputs": [],
   "source": [
    "int Array::SumRecursive(int n){\n",
    "    if (n < 0)\n",
    "        return 0;\n",
    "    else \n",
    "        return SumRecursive(n-1) + A[n];\n",
    "}"
   ]
  },
  {
   "cell_type": "code",
   "execution_count": 7,
   "metadata": {},
   "outputs": [],
   "source": [
    "int Array::Get(int index){\n",
    " if  (index>=0 && index<=length){\n",
    "     return A[index];\n",
    " }\n",
    "    return -1;\n",
    "}"
   ]
  },
  {
   "cell_type": "code",
   "execution_count": 8,
   "metadata": {},
   "outputs": [],
   "source": [
    "void Array::Set(int index, int x){\n",
    " if  (index>=0 && index<=length){\n",
    "     A[index] = x;\n",
    " }\n",
    "\n",
    "}"
   ]
  },
  {
   "cell_type": "code",
   "execution_count": 9,
   "metadata": {},
   "outputs": [],
   "source": [
    "void Array::Insert(int index, int x){\n",
    "   if  (index>=0 && index<=length){\n",
    "     for(int i=length-1;i>=index;i--)\n",
    "         A[i+1]=A[i];\n",
    "     A[index]=x;\n",
    "     length++;  \n",
    "   }\n",
    "}"
   ]
  },
  {
   "cell_type": "code",
   "execution_count": 10,
   "metadata": {},
   "outputs": [],
   "source": [
    "void Array::Display(){\n",
    "    for(int i=0; i<length;i++)\n",
    "      cout<<A[i]<<\" \";      \n",
    "    cout<<endl;      \n",
    "}"
   ]
  },
  {
   "cell_type": "code",
   "execution_count": 11,
   "metadata": {},
   "outputs": [],
   "source": [
    "Array arr(14);\n",
    "arr.Insert(0,4);\n",
    "arr.Insert(1,8);\n",
    "arr.Insert(2,10);\n",
    "arr.Insert(3,15);\n",
    "arr.Insert(4,18);\n",
    "arr.Insert(5,21);\n",
    "arr.Insert(6,24);\n",
    "arr.Insert(7,27);\n",
    "arr.Insert(8,29);\n",
    "arr.Insert(9,33);\n",
    "arr.Insert(10,34);\n",
    "arr.Insert(11,37);\n",
    "arr.Insert(12,39);\n",
    "arr.Insert(13,41);\n",
    "arr.Insert(14,43);\n"
   ]
  },
  {
   "cell_type": "code",
   "execution_count": null,
   "metadata": {},
   "outputs": [],
   "source": [
    "arr.Display();"
   ]
  },
  {
   "cell_type": "code",
   "execution_count": null,
   "metadata": {},
   "outputs": [],
   "source": [
    "//cout<<arr.Get(4)<<endl"
   ]
  },
  {
   "cell_type": "code",
   "execution_count": null,
   "metadata": {},
   "outputs": [],
   "source": [
    "cout<<arr.Maxies()<<endl;"
   ]
  },
  {
   "cell_type": "code",
   "execution_count": null,
   "metadata": {},
   "outputs": [],
   "source": [
    "cout<<arr.Minnies()<<endl;"
   ]
  },
  {
   "cell_type": "code",
   "execution_count": null,
   "metadata": {},
   "outputs": [],
   "source": [
    "cout<<arr.Sum()<<endl;"
   ]
  },
  {
   "cell_type": "code",
   "execution_count": null,
   "metadata": {},
   "outputs": [],
   "source": [
    "cout<<arr.SumRecursive(14)<<endl;"
   ]
  },
  {
   "cell_type": "code",
   "execution_count": null,
   "metadata": {},
   "outputs": [],
   "source": [
    "cout<<arr.Avg()<<endl;"
   ]
  }
 ],
 "metadata": {
  "kernelspec": {
   "display_name": "C++17",
   "language": "C++17",
   "name": "xcpp17"
  },
  "language_info": {
   "codemirror_mode": "text/x-c++src",
   "file_extension": ".cpp",
   "mimetype": "text/x-c++src",
   "name": "c++",
   "version": "-std=c++17"
  }
 },
 "nbformat": 4,
 "nbformat_minor": 2
}

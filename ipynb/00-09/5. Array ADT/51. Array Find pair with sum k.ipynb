{
 "cells": [
  {
   "cell_type": "markdown",
   "metadata": {},
   "source": [
    "# Array ADT\n",
    "\n",
    "+ Finding pair with sum k in unsorted array\n"
   ]
  },
  {
   "cell_type": "markdown",
   "metadata": {},
   "source": [
    "## Finding a Pair with sum k in unsorted array\n",
    "___\n",
    "\n",
    "Lets call this A\n",
    "\n",
    "$$\n",
    "\\newcommand\\T{\\Rule{0pt}{1em}{.3em}}\n",
    "\\begin{array}{|r|r|r|r|r|r|r|r|r|r|}\n",
    "\\hline \n",
    "6\\T&3\\T&8\\T&10\\T&16\\T&7\\T&5\\T&2\\T&9\\T&14  \\\\\\hline \n",
    "_0\\T&_1\\T&_2\\T&_3\\T&_4\\T&_5\\T&_6\\T&_7\\T&_8\\T&_9 \\\\\\hline \n",
    "\\end{array}\n",
    "$$\n",
    " \n",
    " A list of elements is given so, we need to get two numbers from the list hows sum equal to  a number. That is $a+b = 10$.\n",
    "\n",
    "\n",
    "Again where we stick to one table, we need to use two variables that is $i$ and $j$. We take $6$, and we need $4$ to make it $10$. There is not. Next is $3$, we need $7$ to make it $10$. Yes there is. so now we have a pair: $3+7=10$. Move one, we have $8$, we need $2$, yes we found another pair: $8+2=10$. And so we go on. (And we only checking elements to $\\text{RHS}$, as the $\\text{LHS}$ we already compared.)\n",
    "\n",
    "This procecure is EXACTLY the same when we searched for duplicate element in an UNSORTED array.\n",
    "\n",
    "Time complexity:\n",
    "\n",
    "$$\\require{cancel}n-1+n-2 +....+3+2+1 = \\frac{n(n-1)}{2} = \\frac{n(n-1)}{2}\n",
    "\n",
    "$$\\text {O}(n^2)$$ Quadratic time.\n",
    "\n"
   ]
  },
  {
   "cell_type": "markdown",
   "metadata": {},
   "source": [
    "## Finding a Pair with sum k using Hashing\n",
    "___\n",
    "\n",
    "Lets call this A\n",
    "\n",
    "$$\n",
    "\\newcommand\\T{\\Rule{0pt}{1em}{.3em}}\n",
    "\\begin{array}{|r|r|r|r|r|r|r|r|r|r|}\n",
    "\\hline \n",
    "6\\T&3\\T&8\\T&10\\T&16\\T&7\\T&5\\T&2\\T&9\\T&14  \\\\\\hline \n",
    "_0\\T&_1\\T&_2\\T&_3\\T&_4\\T&_5\\T&_6\\T&_7\\T&_8\\T&_9 \\\\\\hline \n",
    "\\end{array}\n",
    "$$\n",
    " \n",
    "Lets call this H. \n",
    "\n",
    "$$\n",
    "\\newcommand\\T{\\Rule{0pt}{1em}{.3em}}\n",
    "\\begin{array}{|r|r|r|r|r|r|r|r|r|}\n",
    "\\hline \\require{cancel}  \n",
    "0\\T&0\\T&\\cancel{_0}1\\T&\\cancel{_0}1\\T&0\\T&\\cancel{_0}1\\T&\\cancel{_0}1\\T&\\cancel{_0}1\\T&\\cancel{_0}1\\T&\\cancel{_0}1\\T&\\cancel{_0}1\\T&0\\T&0\\T&0\\T&\\cancel{_0}1\\T&0\\T&0           \\\\\\hline \n",
    "_0\\T&_1\\T&_2\\T&_3\\T&_4\\T&_5\\T&_6\\T&_7\\T&_8\\T&_9\\T&_{10}\\T&_{11}\\T&_{11}\\T&_{13}\\T&_{14}\\T&_{15}\\T&_{16} \\\\\\hline \n",
    "\\end{array}\n",
    "$$\n",
    "\n",
    "So we start with 6, check in H if 4 is there, that is it is 1. Or it may be still be in the list. So 4 is not found, but before moving to the next element we mark 6. Set 0 to 1. Move to 3. We need 7, Again it (7) is 0, but mark 3, that is set to 1. Then we move to 8, we need 2, not there, set 8 to 1. So we go on.Until we found a sum match, that Will be 7, as 3 was set to 1 previously. So we have a match.\n",
    "\n",
    "Time complexity:\n",
    "\n",
    "There is just a tradeoff with space, otherwise hashing will always be faster\n",
    "$$\\text {O}(n)$$ "
   ]
  },
  {
   "cell_type": "code",
   "execution_count": 1,
   "metadata": {},
   "outputs": [],
   "source": [
    "#include <iostream>\n",
    "#include <climits>\n",
    "#include <math.h>\n",
    "using namespace std;"
   ]
  },
  {
   "cell_type": "code",
   "execution_count": 2,
   "metadata": {},
   "outputs": [],
   "source": [
    "class Array{\n",
    "private:\n",
    "    int *A;\n",
    "    int size;\n",
    "    int length;\n",
    "    void Swap (int *x, int *y);\n",
    "    int SumNatNos(int y);\n",
    "    bool FindDiffenceSuccess (int x,int y, int z);\n",
    "public:\n",
    "    Array(){\n",
    "        size=10;\n",
    "        A=new int[10];\n",
    "        length = 0;\n",
    "        \n",
    "    }\n",
    "    Array(int sz){\n",
    "        size=sz;\n",
    "        A=new int[sz];\n",
    "        length = 0;\n",
    "        \n",
    "    }\n",
    "    ~Array(){\n",
    "        delete []A;\n",
    "    }\n",
    "    void Display();\n",
    "    void Insert (int index, int x);\n",
    "    void FindPairwithSumk(int k);\n",
    "    void FindPairwithSumkUsingHashing(int h, int k);\n",
    "}"
   ]
  },
  {
   "cell_type": "code",
   "execution_count": 3,
   "metadata": {},
   "outputs": [],
   "source": [
    "int Array::SumNatNos (int y){\n",
    "    return  (y*(1+y))/2;    \n",
    "}\n",
    "\n"
   ]
  },
  {
   "cell_type": "code",
   "execution_count": 4,
   "metadata": {},
   "outputs": [],
   "source": [
    "bool Array::FindDiffenceSuccess (int x, int y, int z){\n",
    "    int a=0;\n",
    "    a= x - y;\n",
    "    if (a==z){\n",
    "     return true;    \n",
    "    }\n",
    "    return false; \n",
    "}"
   ]
  },
  {
   "cell_type": "code",
   "execution_count": 5,
   "metadata": {},
   "outputs": [],
   "source": [
    "void Array::Swap (int *x, int *y){\n",
    "    int temp;\n",
    "    temp =*x;\n",
    "    *x=*y;\n",
    "    *y = temp;\n",
    "}"
   ]
  },
  {
   "cell_type": "code",
   "execution_count": 6,
   "metadata": {},
   "outputs": [],
   "source": [
    "void Array::FindPairwithSumk (int k){\n",
    "    int pair = 1;\n",
    "    int r =0;\n",
    "   \n",
    "    for(int i=0; i < length; i++ ){\n",
    "       \n",
    "        for (int j = i+1; j<length;j++){\n",
    "            if (A[j]!= -1 ){\n",
    "                if (A[i]+A[j]==k)\n",
    "                {   \n",
    "                    r = A[j];\n",
    "                    pair++;\n",
    "                    A[j]=-1;\n",
    "                    break;\n",
    "                }\n",
    "            }\n",
    "        }\n",
    "        if (pair > 1){\n",
    "            cout<<\"Pair:\"<<A[i]<<\" + \"<<r<<endl;\n",
    "            pair=1;\n",
    "        }   \n",
    "    }\n",
    "    \n",
    " \n",
    "     \n",
    "     \n",
    "}"
   ]
  },
  {
   "cell_type": "code",
   "execution_count": 7,
   "metadata": {},
   "outputs": [],
   "source": [
    "void Array::FindPairwithSumkUsingHashing (int h, int k){\n",
    "    int *H = new int[16];\n",
    "    \n",
    "    for (int j = 0; j<h; j++) \n",
    "       H[j]=0;\n",
    "    \n",
    "    //same H[A[i]]=1\n",
    "    for(int i=0; i < length; i++ ){\n",
    "        for(int j=0; j < length; j++ ){\n",
    "            if (A[i]==j)    \n",
    "                H[A[i]]++;\n",
    "        }\n",
    "        for(int j=0; j < length; j++ ){\n",
    "            if (A[i] + j  == k){\n",
    "                if (H[k - A[i]]!=0)\n",
    "                {\n",
    "                    //if values are same (e.g. 5 and 5)\n",
    "                    //then must make sure we have 2 or more\n",
    "                    if ((A[i] != j) && (H[j]<2)){\n",
    "                      cout<<A[i]<< \" + \"<<j<<endl;  \n",
    "                      break;\n",
    "                    } \n",
    "                    else if  ((A[i] == j) && (H[j]>=2)){\n",
    "                      cout<<A[i]<< \" + \"<<j<<endl;  \n",
    "                      break;\n",
    "                    }\n",
    "                }    \n",
    "            }\n",
    "        }\n",
    "    }\n",
    "    \n",
    "    for (int j = 0; j<h; j++) \n",
    "       cout<<H[j]<<\" \";      \n",
    "    cout<<endl;      \n",
    "\n",
    "\n",
    "      \n",
    "     \n",
    "}"
   ]
  },
  {
   "cell_type": "code",
   "execution_count": 8,
   "metadata": {},
   "outputs": [],
   "source": [
    "void Array::Insert(int index, int x){\n",
    "   if  (index>=0 && index<=length){\n",
    "     for(int i=length-1;i>=index;i--)\n",
    "         A[i+1]=A[i];\n",
    "     A[index]=x;\n",
    "     length++;  \n",
    "   }\n",
    "}"
   ]
  },
  {
   "cell_type": "code",
   "execution_count": 9,
   "metadata": {},
   "outputs": [],
   "source": [
    "void Array::Display(){\n",
    "    for(int i=0; i<length;i++)\n",
    "      cout<<A[i]<<\" \";      \n",
    "    cout<<endl;      \n",
    "}"
   ]
  },
  {
   "cell_type": "code",
   "execution_count": 10,
   "metadata": {},
   "outputs": [
    {
     "name": "stdout",
     "output_type": "stream",
     "text": [
      "Pair:3 + 7\n",
      "Pair:8 + 2\n",
      "7 + 3\n",
      "2 + 8\n",
      "0 0 1 1 0 1 1 1 1 1 \n"
     ]
    }
   ],
   "source": [
    "Array arr(10);\n",
    "arr.Insert(0,6);\n",
    "arr.Insert(1,3);\n",
    "arr.Insert(2,8);\n",
    "arr.Insert(3,10); \n",
    "arr.Insert(4,16);\n",
    "arr.Insert(5,7);\n",
    "arr.Insert(6,5);\n",
    "arr.Insert(7,2);\n",
    "arr.Insert(8,9);\n",
    "arr.Insert(9,14);\n",
    "arr.FindPairwithSumk(10);\n",
    "\n",
    "Array arrA(10);\n",
    "arrA.Insert(0,6);\n",
    "arrA.Insert(1,3);\n",
    "arrA.Insert(2,8);\n",
    "arrA.Insert(3,10); \n",
    "arrA.Insert(4,16);\n",
    "arrA.Insert(5,7);\n",
    "arrA.Insert(6,5);\n",
    "arrA.Insert(7,2);\n",
    "arrA.Insert(8,9);\n",
    "arrA.Insert(9,14);\n",
    "arrA.FindPairwithSumkUsingHashing(10,10);\n",
    "\n",
    "\n",
    "\n"
   ]
  },
  {
   "cell_type": "code",
   "execution_count": null,
   "metadata": {},
   "outputs": [],
   "source": []
  },
  {
   "cell_type": "code",
   "execution_count": null,
   "metadata": {},
   "outputs": [],
   "source": []
  }
 ],
 "metadata": {
  "kernelspec": {
   "display_name": "C++17",
   "language": "C++17",
   "name": "xcpp17"
  },
  "language_info": {
   "codemirror_mode": "text/x-c++src",
   "file_extension": ".cpp",
   "mimetype": "text/x-c++src",
   "name": "c++",
   "version": "-std=c++17"
  }
 },
 "nbformat": 4,
 "nbformat_minor": 2
}

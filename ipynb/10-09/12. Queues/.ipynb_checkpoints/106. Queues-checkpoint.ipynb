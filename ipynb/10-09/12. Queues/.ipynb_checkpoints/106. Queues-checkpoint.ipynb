{
 "cells": [
  {
   "cell_type": "markdown",
   "metadata": {},
   "source": [
    "# Queues\n",
    "\n",
    "+ Introduction\n"
   ]
  },
  {
   "cell_type": "markdown",
   "metadata": {},
   "source": [
    "## Introduction\n",
    "\n",
    "\n",
    "___\n",
    "\n",
    "Its based on the principle of FIFO, that is First in First Out,\n",
    "\n",
    "A queue has two ends\n",
    "\n",
    "1. Front End, where deletion happens\n",
    "2. Rear End, where insertion happens\n",
    "\n",
    "\n",
    "Remember with stack, everything happened at the same end, that is where you insert, thats is were you delete.\n"
   ]
  },
  {
   "cell_type": "markdown",
   "metadata": {},
   "source": [
    "## Queue ADT\n",
    "\n",
    "___\n",
    "\n",
    "Data\n",
    "\n",
    "1. Space for storing the data\n",
    "2. Front pointer for deletion\n",
    "3. Rear pointer for insertion\n",
    "\n",
    "Operatons\n",
    "\n",
    "1. Enqueue(x) - use to insert\n",
    "2. Dequeue()\n",
    "3. IsEmpty()\n",
    "4. IsFull()\n",
    "5. First()\n",
    "6. Last()\n",
    "\n",
    "\n",
    "We can use following two physical data structures: Array or Linked List.\n"
   ]
  },
  {
   "cell_type": "code",
   "execution_count": null,
   "metadata": {},
   "outputs": [],
   "source": []
  }
 ],
 "metadata": {
  "kernelspec": {
   "display_name": "C++17",
   "language": "C++17",
   "name": "xcpp17"
  },
  "language_info": {
   "codemirror_mode": "text/x-c++src",
   "file_extension": ".cpp",
   "mimetype": "text/x-c++src",
   "name": "c++",
   "version": "-std=c++17"
  }
 },
 "nbformat": 4,
 "nbformat_minor": 2
}

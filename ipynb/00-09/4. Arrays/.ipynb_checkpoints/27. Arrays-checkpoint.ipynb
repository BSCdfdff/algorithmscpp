{
 "cells": [
  {
   "cell_type": "markdown",
   "metadata": {},
   "source": [
    "# Arrays\n",
    "\n",
    "+ 2D Arrays\n",
    "+ \n",
    "+ "
   ]
  },
  {
   "cell_type": "markdown",
   "metadata": {},
   "source": [
    "## 2D Arrays\n",
    "___\n",
    "\n",
    "\n",
    "There are three(3) methods of creating a two dimensional array:\n",
    "\n",
    "int A[3][4]\n"
   ]
  },
  {
   "cell_type": "markdown",
   "metadata": {},
   "source": [
    "### First method to create an array in STACK\n",
    "\n",
    "\n",
    "Visualized as as three rows and four columns:\n",
    "\n",
    "**Picture**\n",
    "\n",
    "But the physical memory is linear, and we assume the integer takes 2 bytes.\n",
    "\n",
    "A[0] = 200 to 201\n",
    "\n",
    "A[1] = 202 to 203\n",
    "\n",
    "A[2] = 204 to 205\n",
    "\n",
    "A[3] = 204 to 205\n",
    "\n",
    ".................\n",
    "\n",
    ".................\n",
    "\n",
    "A[22] = 220 to 221\n",
    "\n",
    "A[23] = 222 to 223\n",
    "\n",
    "\n",
    "So,\n",
    "\n",
    "int A[3][4] = 12 bytes\n",
    "\n",
    "12 x 2 bytes per integer = 24 bytes\n",
    "\n",
    "\n",
    "Memory is allocated as a single dimensional array, but the compiler allows us to acces it as a two dimensional array, with row and column number, with TWO INDEXES"
   ]
  },
  {
   "cell_type": "code",
   "execution_count": 1,
   "metadata": {},
   "outputs": [],
   "source": [
    "#include <iostream>\n",
    "#include <climits>\n",
    "#include <math.h>\n",
    "using namespace std;"
   ]
  },
  {
   "cell_type": "code",
   "execution_count": 2,
   "metadata": {},
   "outputs": [],
   "source": [
    "//Must declare and initialize at same time, if you want to use the shortened form\n",
    "//int A[3][4];"
   ]
  },
  {
   "cell_type": "markdown",
   "metadata": {},
   "source": [
    "#### How to initialize\n",
    "___\n",
    "\n",
    "int A[3][4]={{1,2,3,4},{4,5,3,5},{7,4,5,6}}\n",
    "\n",
    "An the array is created in STACK\n"
   ]
  },
  {
   "cell_type": "code",
   "execution_count": 3,
   "metadata": {},
   "outputs": [],
   "source": [
    "int A[3][4]={\n",
    "    1,2,3,4,\n",
    "    4,5,3,5,\n",
    "    7,4,5,6\n",
    "};"
   ]
  },
  {
   "cell_type": "code",
   "execution_count": 4,
   "metadata": {},
   "outputs": [
    {
     "name": "stdout",
     "output_type": "stream",
     "text": [
      "1 2 3 4 \n",
      "4 5 3 5 \n",
      "7 4 5 6 \n"
     ]
    }
   ],
   "source": [
    "for (int i = 0; i < 3; i++){\n",
    "    for (int j = 0; j < 4; j++){\n",
    "        cout<<A[i][j]<<\" \";\n",
    "    }\n",
    "   cout<<endl;\n",
    "}"
   ]
  },
  {
   "cell_type": "markdown",
   "metadata": {},
   "source": [
    "### Second method to create an array (Stack and HEAP)\n",
    "\n",
    "Remember: We want two rows and three columns\n",
    " \n",
    "\n",
    "```\n",
    "int *A[3]\n",
    "\n",
    "```\n",
    "\n",
    "But what does this mean? This is not an array of integers, its an array of integer pointers\n",
    "\n",
    "**Picture***\n",
    "\n",
    "This is an array of three pointers.\n",
    "\n",
    "But keeping to what we need: Three 3 rows and 4 columns\n",
    "\n",
    "**Picture***\n",
    "\n"
   ]
  },
  {
   "cell_type": "markdown",
   "metadata": {},
   "source": [
    "#### Create three array pointers in stack\n",
    "\n",
    "This will be our rows"
   ]
  },
  {
   "cell_type": "code",
   "execution_count": 5,
   "metadata": {},
   "outputs": [],
   "source": [
    "int *A1[3];"
   ]
  },
  {
   "cell_type": "markdown",
   "metadata": {},
   "source": [
    "#### Create  colums arrays in HEAP\n",
    "\n",
    "These will be our columns\n"
   ]
  },
  {
   "cell_type": "code",
   "execution_count": 6,
   "metadata": {},
   "outputs": [
    {
     "data": {
      "text/plain": [
       "@0x7ffd08218638"
      ]
     },
     "execution_count": 6,
     "metadata": {},
     "output_type": "execute_result"
    }
   ],
   "source": [
    "A1[0] = new int[4];\n",
    "A1[1] = new int[4];\n",
    "A1[2] = new int[4];\n",
    "    "
   ]
  },
  {
   "cell_type": "code",
   "execution_count": 7,
   "metadata": {},
   "outputs": [],
   "source": [
    "A1[0][0]=5;A1[0][1]=5;A1[0][2]=5;A1[0][3]=5;\n",
    "A1[1][0]=6;A1[1][1]=6;A1[1][2]=6;A1[1][3]=6;\n",
    "A1[2][0]=7;A1[2][1]=7;A1[2][2]=7;A1[2][3]=7;"
   ]
  },
  {
   "cell_type": "markdown",
   "metadata": {},
   "source": [
    "Normally, we have a pointer in the STACK, to create (point to) an array in HEAP of certain size. Now we have an array of pointers in stack, so make up our rows. And for each row, eg. A[0] we create a new four dimensional array in heap, to present the columns.\n",
    "\n"
   ]
  },
  {
   "cell_type": "code",
   "execution_count": 8,
   "metadata": {},
   "outputs": [
    {
     "name": "stdout",
     "output_type": "stream",
     "text": [
      "5 5 5 5 \n",
      "6 6 6 6 \n",
      "7 7 7 7 \n"
     ]
    }
   ],
   "source": [
    "for (int i = 0; i < 3; i++){\n",
    "    for (int j = 0; j < 4; j++){\n",
    "        cout<<A1[i][j]<<\" \";\n",
    "    }\n",
    "   cout<<endl;\n",
    "}\n",
    "\n"
   ]
  },
  {
   "cell_type": "markdown",
   "metadata": {},
   "source": [
    "### Third method to create an array (ONLY HEAP)\n",
    "\n",
    "**Picture**\n",
    "\n",
    "Remember: We want two rows and three columns\n",
    "\n",
    "Previously the row int array pointers were in the STACK, pointing to the column pointers in the HEAP.\n",
    "\n",
    "Now both row and column will be in the HEAP.\n",
    "\n",
    "Through the use of double pointers. Lets explore.\n",
    "\n",
    "```\n",
    "int **A\n",
    "\n",
    "```\n",
    "\n",
    "We use two ** (asterisks)...to signify this A will be and array in HEAP\n",
    "\n",
    "And A is now treated as variable, still in STACK, but will now point to rows and columns in the HEAP.\n",
    "\n",
    "\n",
    "For the rows:\n",
    "\n",
    "```\n",
    "A=new int *[3]; \n",
    "\n",
    "```\n",
    "\n",
    "For the columns:\n",
    "\n",
    "```\n",
    "A[0]=new int[4]; \n",
    "A[1]=new int[4]; \n",
    "A[3]=new int[4]; \n",
    "\n",
    "```\n",
    "\n",
    " \n",
    "\n",
    " "
   ]
  },
  {
   "cell_type": "markdown",
   "metadata": {},
   "source": [
    "Setup the double pointer, to signify that A will be an array in HEAP.\n",
    "That is it will be redefined later on."
   ]
  },
  {
   "cell_type": "code",
   "execution_count": 9,
   "metadata": {},
   "outputs": [],
   "source": [
    "int **A2;"
   ]
  },
  {
   "cell_type": "markdown",
   "metadata": {},
   "source": [
    "Create new array pointer in heap of size 3, redefining A"
   ]
  },
  {
   "cell_type": "code",
   "execution_count": 10,
   "metadata": {},
   "outputs": [],
   "source": [
    "A2=new int *[3]; "
   ]
  },
  {
   "cell_type": "markdown",
   "metadata": {},
   "source": [
    "Create the column arrays as we did with method 2"
   ]
  },
  {
   "cell_type": "code",
   "execution_count": 11,
   "metadata": {},
   "outputs": [],
   "source": [
    "A2[0]=new int[4]; \n",
    "A2[1]=new int[4]; \n",
    "A2[2]=new int[4]; "
   ]
  },
  {
   "cell_type": "code",
   "execution_count": 12,
   "metadata": {},
   "outputs": [],
   "source": [
    "A2[0][0]=4;A2[0][1]=4;A2[0][2]=4;A2[0][3]=4;\n",
    "A2[1][0]=9;A2[1][1]=9;A2[1][2]=9;A2[1][3]=9;\n",
    "A2[2][0]=3;A2[2][1]=3;A2[2][2]=3;A2[2][3]=3;"
   ]
  },
  {
   "cell_type": "code",
   "execution_count": 13,
   "metadata": {},
   "outputs": [
    {
     "name": "stdout",
     "output_type": "stream",
     "text": [
      "4 4 4 4 \n",
      "9 9 9 9 \n",
      "3 3 3 3 \n"
     ]
    }
   ],
   "source": [
    "for (int i = 0; i < 3; i++){\n",
    "    for (int j = 0; j < 4; j++){\n",
    "        cout<<A2[i][j]<<\" \";\n",
    "    }\n",
    "   cout<<endl;\n",
    "}\n",
    "\n",
    "delete []A2;\n",
    "A2=nullptr;\n"
   ]
  },
  {
   "cell_type": "code",
   "execution_count": null,
   "metadata": {},
   "outputs": [],
   "source": []
  }
 ],
 "metadata": {
  "kernelspec": {
   "display_name": "C++17",
   "language": "C++17",
   "name": "xcpp17"
  },
  "language_info": {
   "codemirror_mode": "text/x-c++src",
   "file_extension": ".cpp",
   "mimetype": "text/x-c++src",
   "name": "c++",
   "version": "-std=c++17"
  }
 },
 "nbformat": 4,
 "nbformat_minor": 2
}

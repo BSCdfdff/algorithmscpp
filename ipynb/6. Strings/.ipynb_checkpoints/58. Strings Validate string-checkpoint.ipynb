{
 "cells": [
  {
   "cell_type": "markdown",
   "metadata": {},
   "source": [
    "# Strings\n",
    "\n",
    "+ Character sets or ASCII Codes\n",
    "+ Character Array\n",
    "+ String\n",
    "+ Creating a string (in C Lang)\n"
   ]
  },
  {
   "cell_type": "markdown",
   "metadata": {},
   "source": [
    "## Validate a string\n",
    "\n",
    "___\n",
    "\n",
    "\n",
    "$$\n",
    "\\newcommand\\T{\\Rule{0pt}{1em}{.3em}}\n",
    "\\begin{array}{|r|r|r|r|r|r|r|r|r|r|}\n",
    "\\hline \n",
    "A\\T&n\\T&i\\T&?\\T&3\\T&2\\T&1\\T&\\text {\\\\}0  \\\\\\hline \n",
    "_0\\T&_1\\T&_2\\T&_3\\T&_4\\T&_5\\T&_6\\T&_7\\\\\\hline \n",
    "\\end{array}\n",
    "$$\n",
    "\n",
    "For this validation, we only allowing normal letters (alaphabet) and numbers not special characters.\n",
    "\n",
    "Can also do it using regular expressions.\n"
   ]
  },
  {
   "cell_type": "code",
   "execution_count": 1,
   "metadata": {},
   "outputs": [],
   "source": [
    "#include <iostream>\n",
    "#include <climits>\n",
    "#include <math.h>\n",
    "using namespace std;"
   ]
  },
  {
   "cell_type": "markdown",
   "metadata": {},
   "source": [
    "### Check for invalid string\n",
    "\n",
    "** Need to loop using outside function\n"
   ]
  },
  {
   "cell_type": "code",
   "execution_count": 2,
   "metadata": {},
   "outputs": [
    {
     "name": "stdout",
     "output_type": "stream",
     "text": [
      "Valid string\n",
      "Valid string\n",
      "Valid string\n",
      "Invalid string\n",
      "Valid string\n",
      "Valid string\n",
      "Valid string\n"
     ]
    }
   ],
   "source": [
    "char  A[] =\"Ani?321\";\n",
    "int i=0;\n",
    "\n",
    "for(;A[i]!='\\0';i++){\n",
    "  if (!(A[i]>=65 && A[i] <=90) && !(A[i]>=97 && A[i] <=122) &&\n",
    "      !(A[i]>=48 && A[i] <=57))\n",
    "     cout<<\"Invalid string\"<<endl;     \n",
    "  else\n",
    "      cout<<\"Valid string\"<<endl;     \n",
    "}\n",
    "\n",
    "\n"
   ]
  },
  {
   "cell_type": "code",
   "execution_count": null,
   "metadata": {},
   "outputs": [],
   "source": []
  }
 ],
 "metadata": {
  "kernelspec": {
   "display_name": "C++17",
   "language": "C++17",
   "name": "xcpp17"
  },
  "language_info": {
   "codemirror_mode": "text/x-c++src",
   "file_extension": ".cpp",
   "mimetype": "text/x-c++src",
   "name": "c++",
   "version": "-std=c++17"
  }
 },
 "nbformat": 4,
 "nbformat_minor": 2
}

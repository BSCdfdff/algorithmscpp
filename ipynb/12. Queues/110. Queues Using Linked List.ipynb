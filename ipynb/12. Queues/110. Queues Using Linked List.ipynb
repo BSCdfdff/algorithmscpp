{
 "cells": [
  {
   "cell_type": "markdown",
   "metadata": {},
   "source": [
    "# Queues\n",
    "\n",
    "+ Using LL\n"
   ]
  },
  {
   "cell_type": "markdown",
   "metadata": {},
   "source": [
    "## Using LL\n",
    "\n",
    "___\n",
    "\n",
    "\n",
    "We use two pointers;\n",
    "\n",
    "1. Front - points on first node - for deletion\n",
    "2. Rear - points on last node - for insertion\n",
    "\n",
    "But why the need for rear pointer as we just normally find last element and insert. So we can insert in constant time, instead of n times.\n",
    "\n",
    "\n",
    "**First Condition**\n",
    "\n",
    "\n",
    "Initially when queue is empty, front and rear will be null.\n",
    "\n",
    "\n",
    "Condition for empty:\n",
    "\n",
    "```\n",
    "if (front ==null)\n",
    "\n",
    "```\n",
    "\n",
    "**Second Condition**\n",
    "For first node, we know that front will be null, then after insertion, both front and rear will point to null.\n",
    "\n",
    "\n",
    "$$\n",
    "\\begin{array}{r}\n",
    "\\require{AMScd}\n",
    "&&&&&&&@V V V _{f}@V V V _{r}&&&&&&&&&\\\\\n",
    "\\end{array}\n",
    "$$\n",
    "\n",
    "$$\n",
    "\\newcommand\\T{\\Rule{0pt}{.1em}{.3em}}\n",
    "\\begin{array}{|r|r|}\n",
    "\\hline \n",
    "_{8} \\T& {/} \\\\\\hline\n",
    "_{200} \\\\\n",
    "\\hline\n",
    "\\end{array}\n",
    "\\begin{array}{r}\n",
    "\\require{AMScd}\n",
    "{} \\\\\n",
    "@>\\text{to null}>>  \n",
    "\\end{array}\n",
    "$$\n",
    "\n",
    "\n",
    "**Third Condition**\n",
    "\n",
    "Unlimited size but when HEAP is full, then that is our marker that queue is FULL.\n",
    "\n",
    "This is for when HEAP is full\n",
    "\n",
    "\n",
    "```\n",
    "Node *t  = new Node;\n",
    "\n",
    "if (t==null)\n",
    "``\n",
    "\n",
    "\n"
   ]
  },
  {
   "cell_type": "markdown",
   "metadata": {},
   "source": [
    "## Enqueue using Linked List\n",
    "\n",
    "___\n",
    "\n",
    "```\n",
    "void Enqueue (int x){\n",
    "\n",
    " Node *t =  new Node;\n",
    " \n",
    " if (t==NULL){\n",
    "     cout<<\"Queue is FULL\"<<endl;\n",
    " else\n",
    " {\n",
    "   t->data = x;\n",
    "   t->next = NULL;\n",
    "   //if it is the only node\n",
    "   if (front==NULL) front == rear = t;\n",
    "   else{\n",
    "       rear->next = t\n",
    "       rear =t;\n",
    "   }\n",
    " }\n",
    "\n",
    "}\n",
    "\n",
    "```\n",
    "\n",
    "As mentioned we need to check, if this is first node, if it is, we set front = rear = new node.If is is not the first node, we insert rear as normal, but rear should always point to last node;\n",
    "\n",
    "Deletion = $$O(1)$$\n",
    "Insertion = $$O(1)$$"
   ]
  },
  {
   "cell_type": "markdown",
   "metadata": {},
   "source": [
    "## Dequeue using Linked List\n",
    "\n",
    "___\n",
    "\n",
    "\n",
    "\n",
    "```\n",
    "int Dequeue (){\n",
    " int x = -1;\n",
    " \n",
    " Node *p;\n",
    " \n",
    " if (front==NULL){\n",
    "     cout<<\"Queue is Empty\"<<endl;\n",
    " else\n",
    " {\n",
    "   p = front\n",
    "   front = front->next\n",
    "   x = p->data;\n",
    "   delete p\n",
    " }\n",
    " return x;\n",
    "}\n",
    "\n",
    "```\n",
    "We first check if queue is empty, rest is normal HEAD deletion.\n",
    "\n",
    "\n"
   ]
  },
  {
   "cell_type": "code",
   "execution_count": 1,
   "metadata": {},
   "outputs": [],
   "source": [
    "#include <iostream>\n",
    "#include <climits>\n",
    "#include <math.h>\n",
    "#define INSERTION_OPERATOR operator<<\n",
    "#define EXTRACTION_OPERATOR operator>>\n",
    "#define ADDITION_OPERATOR operator+\n",
    "using namespace std;"
   ]
  },
  {
   "cell_type": "code",
   "execution_count": 2,
   "metadata": {},
   "outputs": [
    {
     "name": "stdout",
     "output_type": "stream",
     "text": [
      "1\n"
     ]
    }
   ],
   "source": [
    "int rear1 = 0;\n",
    "int size1 =7;\n",
    "int ans1 = 0;\n",
    "ans1 = (rear1+1) % size1;\n",
    "\n",
    "cout<<ans1<<endl;"
   ]
  },
  {
   "cell_type": "code",
   "execution_count": 3,
   "metadata": {},
   "outputs": [],
   "source": [
    "class Node{\n",
    "public:\n",
    "    int data;\n",
    "    Node *next;\n",
    "}*f=NULL;"
   ]
  },
  {
   "cell_type": "code",
   "execution_count": 4,
   "metadata": {},
   "outputs": [],
   "source": [
    "class Queue{\n",
    "private:\n",
    "  Node *front;\n",
    "  Node *rear;\n",
    "    \n",
    "public:\n",
    "    Queue(){\n",
    "        front = rear= NULL;\n",
    "    }\n",
    "    ~Queue(); \n",
    "    void Display();\n",
    "    void EnQueue(int x);\n",
    "    int DeQueue();\n",
    "   \n",
    "}"
   ]
  },
  {
   "cell_type": "code",
   "execution_count": 5,
   "metadata": {},
   "outputs": [],
   "source": [
    "void Queue::EnQueue(int x){\n",
    "  Node *t =  new Node;\n",
    " \n",
    "  if (t==NULL)\n",
    "     cout<<\"Queue is FULL\"<<endl;\n",
    "  else\n",
    "  {\n",
    "    t->data = x;\n",
    "    t->next = NULL;\n",
    "    //if it is the only node\n",
    "    if (front==NULL) front = rear = t;\n",
    "    else{\n",
    "       rear->next = t;\n",
    "       rear =t;\n",
    "    }\n",
    "  }\n",
    "}"
   ]
  },
  {
   "cell_type": "code",
   "execution_count": 6,
   "metadata": {},
   "outputs": [],
   "source": [
    "int Queue::DeQueue (){\n",
    "   int x = -1;\n",
    "   Node *p;\n",
    " \n",
    "   if (front==NULL)\n",
    "      cout<<\"Queue is Empty\"<<endl;\n",
    "   else\n",
    "   {\n",
    "     p = front;\n",
    "     front = front->next;\n",
    "     x = p->data;\n",
    "     delete p;\n",
    "   }\n",
    "  return x;\n",
    "}"
   ]
  },
  {
   "cell_type": "code",
   "execution_count": 7,
   "metadata": {},
   "outputs": [],
   "source": [
    "Queue::~Queue(){\n",
    "    Node *p=front;\n",
    "    while(front)\n",
    "    {\n",
    "      front=front->next;\n",
    "      delete p;\n",
    "      p=front;\n",
    "    }\n",
    "}"
   ]
  },
  {
   "cell_type": "code",
   "execution_count": 8,
   "metadata": {},
   "outputs": [],
   "source": [
    "void Queue::Display (){\n",
    "  Node *p = front;\n",
    "  for (int i = 0; p !=NULL; i++){\n",
    "     cout<<p->data<<\" \";\n",
    "     p=p->next;\n",
    "  }    \n",
    "  cout<<endl;\n",
    "}"
   ]
  },
  {
   "cell_type": "code",
   "execution_count": 9,
   "metadata": {},
   "outputs": [
    {
     "name": "stdout",
     "output_type": "stream",
     "text": [
      "10 20 30 40 \n"
     ]
    }
   ],
   "source": [
    "Queue q;\n",
    "q.EnQueue(10);\n",
    "q.EnQueue(20);\n",
    "q.EnQueue(30);\n",
    "q.EnQueue(40);\n",
    "q.Display();"
   ]
  },
  {
   "cell_type": "code",
   "execution_count": 10,
   "metadata": {},
   "outputs": [
    {
     "name": "stdout",
     "output_type": "stream",
     "text": [
      "20 30 40 \n"
     ]
    }
   ],
   "source": [
    "q.DeQueue();\n",
    "q.Display();"
   ]
  },
  {
   "cell_type": "code",
   "execution_count": 11,
   "metadata": {},
   "outputs": [
    {
     "name": "stdout",
     "output_type": "stream",
     "text": [
      "30 40 \n"
     ]
    }
   ],
   "source": [
    "q.DeQueue();\n",
    "q.Display();"
   ]
  },
  {
   "cell_type": "code",
   "execution_count": 12,
   "metadata": {},
   "outputs": [
    {
     "name": "stdout",
     "output_type": "stream",
     "text": [
      "30 40 50 \n"
     ]
    }
   ],
   "source": [
    "q.EnQueue(50);\n",
    "q.Display();"
   ]
  },
  {
   "cell_type": "code",
   "execution_count": 13,
   "metadata": {},
   "outputs": [
    {
     "name": "stdout",
     "output_type": "stream",
     "text": [
      "30 40 50 60 \n"
     ]
    }
   ],
   "source": [
    "q.EnQueue(60);\n",
    "q.Display();"
   ]
  }
 ],
 "metadata": {
  "kernelspec": {
   "display_name": "C++17",
   "language": "C++17",
   "name": "xcpp17"
  },
  "language_info": {
   "codemirror_mode": "text/x-c++src",
   "file_extension": ".cpp",
   "mimetype": "text/x-c++src",
   "name": "c++",
   "version": "17"
  }
 },
 "nbformat": 4,
 "nbformat_minor": 2
}

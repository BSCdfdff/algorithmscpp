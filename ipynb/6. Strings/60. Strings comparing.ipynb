{
 "cells": [
  {
   "cell_type": "markdown",
   "metadata": {},
   "source": [
    "# Strings\n",
    "\n",
    "+ Character sets or ASCII Codes\n",
    "+ Character Array\n",
    "+ String\n",
    "+ Creating a string (in C Lang)\n"
   ]
  },
  {
   "cell_type": "code",
   "execution_count": null,
   "metadata": {},
   "outputs": [],
   "source": []
  },
  {
   "cell_type": "markdown",
   "metadata": {},
   "source": [
    "## Comparing Strings\n",
    "\n",
    "___\n",
    "\n",
    "Lets call this A:\n",
    "\n",
    "$$\n",
    "\\newcommand\\T{\\Rule{0pt}{1em}{.3em}}\n",
    "\\begin{array}{|r|r|r|r|r|r|r|r|r|r|}\n",
    "\\hline \n",
    "P\\T&a\\T&i\\T&n\\T&t\\T&e\\T&r\\T&\\text {\\\\}0  \\\\\\hline \n",
    "_0\\T&_1\\T&_2\\T&_3\\T&_4\\T&_5\\T&_6\\T&_7 \\\\\\hline \n",
    "\\end{array}\n",
    "$$\n",
    "\n",
    "\n",
    "There are more than one method\n",
    "\n",
    "Lets call this B:\n",
    "\n",
    "$$\n",
    "\\newcommand\\T{\\Rule{0pt}{1em}{.3em}}\n",
    "\\begin{array}{|r|r|r|r|r|r|r|r|r|r|}\n",
    "\\hline \n",
    "P\\T&a\\T&i\\T&n\\T&t\\T&i\\T&n\\T&g\\T&\\text {\\\\}0  \\\\\\hline \n",
    "_0\\T&_1\\T&_2\\T&_3\\T&_4\\T&_5\\T&_6\\T&_7\\T&_8  \\\\\\hline \n",
    "\\end{array}\n",
    "$$\n",
    "\n",
    "We need to compare the above strings to see if they are equal. So w again use two counter variables, i and j. P of i, is the same as P of j, and we move or increment both i and j to next letter, since the are the same. When they are not matching, i = e and j = i, then we stop.\n",
    "\n",
    "Or if both reach '\\0' and matched all the way, then they are matching. Or we will also stop if any one reaches '\\0'.\n",
    "\n",
    "\n"
   ]
  },
  {
   "cell_type": "markdown",
   "metadata": {},
   "source": [
    "## What is a Palindrome\n",
    "\n",
    "___\n",
    "\n",
    "That is when you reverse a string it remains the same. E.g. madam\n",
    "\n",
    "Here we need two arrays again.\n",
    "\n"
   ]
  },
  {
   "cell_type": "code",
   "execution_count": 1,
   "metadata": {},
   "outputs": [],
   "source": [
    "#include <iostream>\n",
    "#include <climits>\n",
    "#include <math.h>\n",
    "using namespace std;"
   ]
  },
  {
   "cell_type": "markdown",
   "metadata": {},
   "source": [
    "### Comparing two strings\n"
   ]
  },
  {
   "cell_type": "code",
   "execution_count": 2,
   "metadata": {},
   "outputs": [
    {
     "name": "stdout",
     "output_type": "stream",
     "text": [
      "A is smaller\n"
     ]
    }
   ],
   "source": [
    "char  A[]=\"Painter\";\n",
    "char  B[]=\"Painting\";\n",
    "\n",
    "int i1;\n",
    "int j01;\n",
    "\n",
    "\n",
    "for(i1 = 0, j01 = 0;A[i1]!='\\0' && B[j01]!='\\0';i1++, j01++){\n",
    " if (A[i1]!=B[j01] )\n",
    "     break;\n",
    "}\n",
    "\n",
    "\n",
    "if (A[i1]==B[j01] )\n",
    "    cout<<\"A = B\"<<endl;\n",
    "else if (A[i1]<B[j01] )\n",
    "    cout<<\"A is smaller\"<<endl;\n",
    "else \n",
    "    cout<<\"B is greater\"<<endl;\n",
    "\n",
    "\n",
    "\n"
   ]
  },
  {
   "cell_type": "markdown",
   "metadata": {},
   "source": [
    "## Finding palindromes"
   ]
  },
  {
   "cell_type": "code",
   "execution_count": 3,
   "metadata": {},
   "outputs": [
    {
     "name": "stdout",
     "output_type": "stream",
     "text": [
      "i:m\n",
      "j:m\n",
      "Good:\n",
      "i:a\n",
      "j:a\n",
      "Good:\n",
      "i:d\n",
      "j:d\n",
      "Good:\n",
      "Palindrome: madam\n"
     ]
    }
   ],
   "source": [
    "char  AA[] =\"madam\";\n",
    "int k=0;\n",
    "int i=0;\n",
    "int j;\n",
    "// int k =0;\n",
    "\n",
    "for(; AA[k]!='\\0';k++){\n",
    "}\n",
    "\n",
    "k = k -1;\n",
    "j = k;\n",
    "\n",
    "for(; i<=j ;i++, j--){\n",
    "    cout<<\"i:\"<<AA[i]<<endl;\n",
    "    cout<<\"j:\"<<AA[j]<<endl;;\n",
    "    if (AA[i]==AA[j]){\n",
    "        cout<<\"Good:\"<<endl;\n",
    "    }\n",
    "    else{\n",
    "      cout<<\"Bad:\"<<endl;  \n",
    "    }\n",
    "\n",
    "}\n",
    "\n",
    "\n",
    "cout<<\"Palindrome: \"<<AA<<endl;"
   ]
  },
  {
   "cell_type": "code",
   "execution_count": null,
   "metadata": {},
   "outputs": [],
   "source": []
  },
  {
   "cell_type": "code",
   "execution_count": null,
   "metadata": {},
   "outputs": [],
   "source": []
  }
 ],
 "metadata": {
  "kernelspec": {
   "display_name": "C++17",
   "language": "C++17",
   "name": "xcpp17"
  },
  "language_info": {
   "codemirror_mode": "text/x-c++src",
   "file_extension": ".cpp",
   "mimetype": "text/x-c++src",
   "name": "c++",
   "version": "-std=c++17"
  }
 },
 "nbformat": 4,
 "nbformat_minor": 2
}

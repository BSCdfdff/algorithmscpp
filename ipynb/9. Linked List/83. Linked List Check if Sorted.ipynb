{
 "cells": [
  {
   "cell_type": "markdown",
   "metadata": {},
   "source": [
    "# Linked List\n",
    "+ Check if LL is Sorted\n"
   ]
  },
  {
   "cell_type": "markdown",
   "metadata": {},
   "source": [
    "## Check if LL is Sorted\n",
    "\n",
    "___\n",
    "\n",
    "We traverse the list check is the previous value is less than the next value. \n",
    "\n",
    "\n",
    "So we need to compare the previous value with the current value. And keep maintain the result in variable, which we can call x.\n",
    "\n",
    "Lets first get the smallest value of int, in our case that will be x = -32768 (since we using 2 bytes for integer). \n",
    "\n",
    "As we traverse the list we compare (current with previous), and whichever value is greater we overwrite x's previous value and store the new result in x. If the previous value is greater than the current value, we stop, since the list is not sorted. If value is less, we then move the next value to compare. When have have the last node, where last pointer is NULL, then we can say the list is sorted.\n",
    "\n",
    "\n",
    "\n",
    "\n"
   ]
  },
  {
   "cell_type": "code",
   "execution_count": 1,
   "metadata": {},
   "outputs": [],
   "source": [
    "#include <iostream>\n",
    "#include <climits>\n",
    "#include <math.h>\n",
    "#define INSERTION_OPERATOR operator<<\n",
    "#define EXTRACTION_OPERATOR operator>>\n",
    "#define ADDITION_OPERATOR operator+\n",
    "using namespace std;"
   ]
  },
  {
   "cell_type": "code",
   "execution_count": 2,
   "metadata": {},
   "outputs": [],
   "source": [
    "class Node{\n",
    "public:\n",
    "    int data;\n",
    "    Node *next;\n",
    "}*f=NULL;"
   ]
  },
  {
   "cell_type": "code",
   "execution_count": 3,
   "metadata": {},
   "outputs": [],
   "source": [
    "class LinkedList{\n",
    "private:\n",
    "  Node *first;\n",
    "    \n",
    "public:\n",
    "    LinkedList(){\n",
    "        first = NULL;\n",
    "    }\n",
    "    ~LinkedList(); \n",
    "    void Display();\n",
    "    void Insert(int index, int x);\n",
    "    void InsertLast(int x);\n",
    "    LinkedList(int A[], int n);\n",
    "    int Delete(int index);\n",
    "    int Length();\n",
    "    void InsertSorted(int x);\n",
    "    int CheckifSortedLL();\n",
    "   \n",
    "}\n"
   ]
  },
  {
   "cell_type": "code",
   "execution_count": 4,
   "metadata": {},
   "outputs": [],
   "source": [
    "int LinkedList::CheckifSortedLL(){\n",
    "    Node *p=first;\n",
    "    int x = -32768;\n",
    "    while(p){\n",
    "        if (p->data < x)\n",
    "            return 0;\n",
    "        x=p->data;    \n",
    "        p=p->next;\n",
    "    }\n",
    "    return 1;    \n",
    "}"
   ]
  },
  {
   "cell_type": "code",
   "execution_count": 5,
   "metadata": {},
   "outputs": [],
   "source": [
    "void LinkedList::InsertSorted(int x){\n",
    "    Node *t=NULL,*q=NULL,*p=first;\n",
    "    \n",
    "    t = new Node;\n",
    "    t->data = x;\n",
    "    t->next=NULL;\n",
    "    \n",
    "    //if it is first node\n",
    "    if (p==NULL)\n",
    "        first=t;\n",
    "    else{    \n",
    "        while(p && p->data < x){\n",
    "                cout<<\"p data: \"<<p->data<<endl;\n",
    "                q=p;\n",
    "                p=p->next;\n",
    "        }\n",
    "        t->next=p;\n",
    "        q->next=t;\n",
    "    }\n",
    "}"
   ]
  },
  {
   "cell_type": "code",
   "execution_count": 6,
   "metadata": {},
   "outputs": [],
   "source": [
    "LinkedList::LinkedList(int A[], int n){\n",
    "    Node *last, *t;\n",
    "    int i = 0;\n",
    "    \n",
    "    first= new Node;\n",
    "    first->data=A[0];\n",
    "    f = first;\n",
    "    first->next=NULL;\n",
    "    last = first;\n",
    "    \n",
    "    for(i=1; i<n;i++)\n",
    "    {\n",
    "        t = new Node;\n",
    "        t->data=A[i];\n",
    "        t->next=NULL;\n",
    "        last->next=t;\n",
    "        last=t; \n",
    "    }    \n",
    "}\n"
   ]
  },
  {
   "cell_type": "code",
   "execution_count": 7,
   "metadata": {},
   "outputs": [],
   "source": [
    "LinkedList::~LinkedList(){\n",
    "    Node *p=first;\n",
    "    while(first)\n",
    "    {\n",
    "      first=first->next;\n",
    "      delete p;\n",
    "      p=first;\n",
    "    }\n",
    "}"
   ]
  },
  {
   "cell_type": "code",
   "execution_count": 8,
   "metadata": {},
   "outputs": [],
   "source": [
    "void LinkedList::Display(){\n",
    "    Node *p=first;\n",
    "    while(p){\n",
    "        cout<<p->data<<\" \";\n",
    "        p=p->next;\n",
    "    }\n",
    "    cout<<endl;\n",
    "}"
   ]
  },
  {
   "cell_type": "code",
   "execution_count": 9,
   "metadata": {},
   "outputs": [],
   "source": [
    "int LinkedList::Length(){\n",
    "    Node *p=first;\n",
    "    int len=0;\n",
    "    while(p){\n",
    "        len++;\n",
    "        p=p->next;\n",
    "    }\n",
    "    return len;\n",
    "}"
   ]
  },
  {
   "cell_type": "code",
   "execution_count": 10,
   "metadata": {},
   "outputs": [],
   "source": [
    "void LinkedList::InsertLast(int x){\n",
    "    Node *t=NULL, *p=first;\n",
    "    Node *last=NULL;\n",
    "    t = new Node;\n",
    "    t->data = x;\n",
    "    t->next=NULL;\n",
    "\n",
    "    //count number of elements\n",
    "    //loop till last node.\n",
    "    for(int i =0; i<Length()-1;i++){\n",
    "      cout<<\"p:\"<<p->data<<endl;  \n",
    "      p=p->next;\n",
    "    }\n",
    "    \n",
    "    last = p;\n",
    "    \n",
    "    //There are no nodes\n",
    "    if(first==NULL)\n",
    "        first=last=t;\n",
    "    else{\n",
    "        last->next=t;\n",
    "        last=t;\n",
    "    }\n",
    "} "
   ]
  },
  {
   "cell_type": "code",
   "execution_count": 11,
   "metadata": {},
   "outputs": [],
   "source": [
    "void LinkedList::Insert(int index, int x){\n",
    "    Node *t, *p=first;\n",
    "    \n",
    "    if(index <0 || index > Length())\n",
    "        return;\n",
    "    t = new Node;\n",
    "    t->data = x;\n",
    "    t->next=NULL;\n",
    "    \n",
    "    if(index==0){\n",
    "        t->next = first;\n",
    "        first = t;\n",
    "    }\n",
    "    else{\n",
    "        for(int i =0; i<index-1;i++)\n",
    "            p=p->next;\n",
    "        t->next=p->next;\n",
    "        p->next=t;\n",
    "    }\n",
    "}    "
   ]
  },
  {
   "cell_type": "code",
   "execution_count": 12,
   "metadata": {},
   "outputs": [],
   "source": [
    "int LinkedList::Delete(int index){\n",
    "    Node *p, *q=NULL;\n",
    "    int x = -1;\n",
    "    if(index <0 || index > Length())\n",
    "        return -1;  \n",
    "    if(index==0){\n",
    "        p=first;\n",
    "        first = first->next;\n",
    "        x=p->data; \n",
    "        delete p;\n",
    "    }\n",
    "    else{\n",
    "        p=first;\n",
    "        for(int i =0; i<index;i++)\n",
    "        {\n",
    "            q=p;\n",
    "            p=p->next;\n",
    "        }\n",
    "        q->next=p->next;\n",
    "        x=p->data;\n",
    "        delete p;\n",
    "    }  \n",
    "    return x;\n",
    "}\n"
   ]
  },
  {
   "cell_type": "markdown",
   "metadata": {},
   "source": [
    "## Is Sorted"
   ]
  },
  {
   "cell_type": "code",
   "execution_count": 13,
   "metadata": {},
   "outputs": [
    {
     "name": "stdout",
     "output_type": "stream",
     "text": [
      "3 7 9 15 20 \n",
      "Sorted: 1\n",
      "3 7 9 15 20 \n"
     ]
    }
   ],
   "source": [
    "LinkedList linky;\n",
    "linky.Insert(0,3);\n",
    "linky.Insert(1,7);\n",
    "linky.Insert(2,9);\n",
    "linky.Insert(3,15);\n",
    "linky.Insert(4,20);\n",
    "linky.Display();\n",
    "cout<<\"Sorted: \"<<linky.CheckifSortedLL()<<endl;\n",
    "linky.Display();\n",
    "\n"
   ]
  },
  {
   "cell_type": "markdown",
   "metadata": {},
   "source": [
    "## Is NOT Sorted"
   ]
  },
  {
   "cell_type": "code",
   "execution_count": 14,
   "metadata": {},
   "outputs": [
    {
     "name": "stdout",
     "output_type": "stream",
     "text": [
      "3 100 9 15 20 \n",
      "Sorted: 0\n",
      "3 100 9 15 20 \n"
     ]
    }
   ],
   "source": [
    "LinkedList links;\n",
    "links.Insert(0,3);\n",
    "links.Insert(1,100);\n",
    "links.Insert(2,9);\n",
    "links.Insert(3,15);\n",
    "links.Insert(4,20);\n",
    "links.Display();\n",
    "cout<<\"Sorted: \"<<links.CheckifSortedLL()<<endl;\n",
    "links.Display();"
   ]
  },
  {
   "cell_type": "code",
   "execution_count": null,
   "metadata": {},
   "outputs": [],
   "source": []
  }
 ],
 "metadata": {
  "kernelspec": {
   "display_name": "C++17",
   "language": "C++17",
   "name": "xcpp17"
  },
  "language_info": {
   "codemirror_mode": "text/x-c++src",
   "file_extension": ".cpp",
   "mimetype": "text/x-c++src",
   "name": "c++",
   "version": "17"
  }
 },
 "nbformat": 4,
 "nbformat_minor": 2
}

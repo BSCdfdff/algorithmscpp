{
 "cells": [
  {
   "cell_type": "markdown",
   "metadata": {},
   "source": [
    "# Messing with\n",
    "\n",
    "1. Arrays,\n",
    "    New found knowledge, main point. Passing an array as parameter, is same as just passing a pointer. So \n",
    "    \n",
    "    ```\n",
    "    function (int A[]) is the same as function(int *A)\n",
    "    ```\n",
    "    Since when we do ```cout<<A<<endl``` produces an address. That is a pointer address. See ```fun```, and its equavalent ```fun2```. So we do not need []. We see this better with ```fun3```, and its return value. Which is just a pointer, but an (array) pointer. See C declarion. Its just a pointer. (Crasy)\n",
    "    \n",
    "    Check no9 - below : we know, pass by value, then we got pass by address, then pass by address. So the only way to pass a value from function is by address or reference to the calling function. But, following from what we said about arrays been a pointer by default, when passing by address, its already an address. So no need for adding ```&``` , as it is a pointer. Remember in function parameter we still need the ```*```. This is magical. See ```fun4 ```\n",
    "    \n",
    "2. Template Classes.\n",
    "    Main point here: Show how to use Template Classes at a calss level. Essense Again. Not specifically defining the data type in the class or function, but rather at run time.\n",
    "    \n"
   ]
  },
  {
   "cell_type": "code",
   "execution_count": 1,
   "metadata": {},
   "outputs": [],
   "source": [
    "#include <iostream>\n",
    "#include <climits>\n",
    "#include <math.h>\n",
    "#define INSERTION_OPERATOR operator>>\n",
    "#define EXTRACTION_OPERATOR operator<<\n",
    "#define ADDITION_OPERATOR operator+\n",
    "#define SUBTRACT_OPERATOR operator-\n",
    "using namespace std;"
   ]
  },
  {
   "cell_type": "code",
   "execution_count": 2,
   "metadata": {},
   "outputs": [],
   "source": [
    "void fun(int A[], int n){\n",
    "    for (int i=0; i<n;i++){\n",
    "        cout<<A[i]<<\" \";\n",
    "    }\n",
    "    \n",
    "    cout<<endl;\n",
    "}"
   ]
  },
  {
   "cell_type": "code",
   "execution_count": 3,
   "metadata": {},
   "outputs": [],
   "source": [
    "void fun2(int *A, int n){\n",
    "    for (int i=0; i<n;i++){\n",
    "        cout<<A[i]<<\" \";\n",
    "    }\n",
    "    \n",
    "    cout<<endl;\n",
    "}"
   ]
  },
  {
   "cell_type": "code",
   "execution_count": 4,
   "metadata": {},
   "outputs": [],
   "source": [
    "int* fun3(int n){\n",
    "    int *A;\n",
    "    for (int i=0; i<n;i++){\n",
    "        A[i]=i;\n",
    "    }\n",
    "    return A;\n",
    "   \n",
    "}"
   ]
  },
  {
   "cell_type": "code",
   "execution_count": 5,
   "metadata": {},
   "outputs": [],
   "source": [
    "void fun4(int *Z, int n){\n",
    "   int y=8;\n",
    "   for (int r=0; r<n;r++){\n",
    "        y = y+r;\n",
    "        Z[r]=y;\n",
    "   }\n",
    "}"
   ]
  },
  {
   "cell_type": "code",
   "execution_count": 6,
   "metadata": {},
   "outputs": [
    {
     "name": "stdout",
     "output_type": "stream",
     "text": [
      "4 5 6 7 8 \n"
     ]
    }
   ],
   "source": [
    "int n = 5;\n",
    "int B[]={4,5,6,7,8};\n",
    "\n",
    "fun(B,n);\n"
   ]
  },
  {
   "cell_type": "code",
   "execution_count": 7,
   "metadata": {},
   "outputs": [
    {
     "name": "stdout",
     "output_type": "stream",
     "text": [
      "4 5 6 7 8 \n"
     ]
    }
   ],
   "source": [
    "fun2(B,n);\n"
   ]
  },
  {
   "cell_type": "code",
   "execution_count": 8,
   "metadata": {},
   "outputs": [],
   "source": [
    "//cout<<B<<endl;"
   ]
  },
  {
   "cell_type": "code",
   "execution_count": 9,
   "metadata": {},
   "outputs": [
    {
     "name": "stdout",
     "output_type": "stream",
     "text": [
      "0 0 0 0 0 \n",
      "8 9 11 14 18 \n"
     ]
    }
   ],
   "source": [
    "\n",
    "int D[5];\n",
    "\n",
    "for (int j=0; j<n;j++){\n",
    "    cout<<D[j]<<\" \";\n",
    "}\n",
    "cout<<endl;\n",
    "\n",
    "fun4(D,n);\n",
    "\n",
    "for (int j=0; j<n;j++){\n",
    "    cout<<D[j]<<\" \";\n",
    "}\n",
    "cout<<endl;\n"
   ]
  },
  {
   "cell_type": "code",
   "execution_count": 10,
   "metadata": {},
   "outputs": [
    {
     "name": "stdout",
     "output_type": "stream",
     "text": [
      "0 1 2 3 4 \n"
     ]
    }
   ],
   "source": [
    "int *C;\n",
    "C=fun3(n);\n",
    "for (int i=0; i<n;i++){\n",
    "    cout<<C[i]<<\" \";\n",
    "}\n",
    "cout<<endl;"
   ]
  },
  {
   "cell_type": "code",
   "execution_count": null,
   "metadata": {},
   "outputs": [],
   "source": []
  },
  {
   "cell_type": "markdown",
   "metadata": {},
   "source": []
  }
 ],
 "metadata": {
  "kernelspec": {
   "display_name": "C++17",
   "language": "C++17",
   "name": "xcpp17"
  },
  "language_info": {
   "codemirror_mode": "text/x-c++src",
   "file_extension": ".cpp",
   "mimetype": "text/x-c++src",
   "name": "c++",
   "version": "17"
  }
 },
 "nbformat": 4,
 "nbformat_minor": 2
}

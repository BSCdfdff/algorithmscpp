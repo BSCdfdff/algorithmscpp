{
 "cells": [
  {
   "cell_type": "markdown",
   "metadata": {},
   "source": [
    "# Stack\n",
    "\n",
    "+ Using Stack to check for missing Parenthesis\n"
   ]
  },
  {
   "cell_type": "markdown",
   "metadata": {},
   "source": [
    "## Stack Use Case 1: Check Parenthesis Matching\n",
    "\n",
    "___\n",
    "\n",
    "$$((a+b)\\times(c-d))$$\n",
    "\n",
    "The round brackets are called parenthesis.  We need to check if the parenthesis are balanced. That is for every open bracket there must be a closing bracket . We can use (use case) a stack to check for this.\n",
    "\n",
    "Procedure.\n",
    "\n",
    "1. Scan through, and take one char at time.\n",
    "2. If opening bracket PUSH onto stack, ignore everything else, till...\n",
    "3. If you find a closing bracket, POP bracket from stack\n",
    "4. Again: Opening we push, closing we pop.\n",
    "5. Continue doing this until end.\n",
    "6. If the stack is empty, then the parenthises are matched. \n",
    "7. If we have brackets left in stack, then the stack is not balanced, and we do not have a match.\n",
    "\n",
    "\n",
    "\n",
    "\n",
    "\n"
   ]
  },
  {
   "cell_type": "markdown",
   "metadata": {},
   "source": [
    "## Stack Use Case 2: Check Parenthesis Matching Different types\n",
    "\n",
    "___\n",
    "\n",
    "$${([a+b]\\times[c-d])/e}$$"
   ]
  },
  {
   "cell_type": "code",
   "execution_count": 1,
   "metadata": {},
   "outputs": [],
   "source": [
    "#include <iostream>\n",
    "#include <climits>\n",
    "#include <math.h>\n",
    "#define INSERTION_OPERATOR operator<<\n",
    "#define EXTRACTION_OPERATOR operator>>\n",
    "#define ADDITION_OPERATOR operator+\n",
    "using namespace std;"
   ]
  },
  {
   "cell_type": "code",
   "execution_count": 2,
   "metadata": {},
   "outputs": [],
   "source": [
    "class Stack{\n",
    "private:\n",
    "  int size;\n",
    "  int top;\n",
    "  char *S;  \n",
    "    \n",
    "public:\n",
    "    Stack(){\n",
    "        size=10;\n",
    "        S=new char[10];\n",
    "        top = -1;\n",
    "        \n",
    "    }\n",
    "    Stack(int sz){\n",
    "        size=sz;\n",
    "        S=new char[sz];\n",
    "        top = -1;\n",
    "        \n",
    "    }\n",
    "    ~Stack(){\n",
    "        delete []S;\n",
    "    }\n",
    "    void Display();\n",
    "    int StackTop();\n",
    "    int IsFull();\n",
    "    int IsEmpty();\n",
    "    void Push(char x);\n",
    "    char Pop();\n",
    "    int Peek(int pos);\n",
    "    int IsBalanced(char *exp);\n",
    "    int IsBalanced2(char *exp);\n",
    "}"
   ]
  },
  {
   "cell_type": "code",
   "execution_count": 3,
   "metadata": {},
   "outputs": [],
   "source": [
    "int Stack::IsBalanced(char *exp){\n",
    "    top=-1;\n",
    "    \n",
    "    for(int i = 0; exp[i]!='\\0';i++){\n",
    "        if(exp[i]=='(')\n",
    "            Push (exp[i]);\n",
    "        if(exp[i]==')'){\n",
    "           if (IsEmpty())\n",
    "              return 0;\n",
    "           Pop ();\n",
    "        }\n",
    "           \n",
    "    }\n",
    "    return IsEmpty()?1:0;       \n",
    "}"
   ]
  },
  {
   "cell_type": "code",
   "execution_count": 4,
   "metadata": {},
   "outputs": [],
   "source": [
    "int Stack::IsBalanced2(char *exp){\n",
    "    top=-1;\n",
    "    \n",
    "    for(int i = 0; exp[i]!='\\0';i++){\n",
    "        if(exp[i]=='(' || exp[i]=='[' || exp[i]=='{')\n",
    "            Push (exp[i]);\n",
    "        if(exp[i]==')' || exp[i]==']' || exp[i]=='}'){\n",
    "           if (IsEmpty())\n",
    "              return 0;\n",
    "           Pop ();\n",
    "        }\n",
    "           \n",
    "    }\n",
    "    return IsEmpty()?1:0;       \n",
    "}"
   ]
  },
  {
   "cell_type": "code",
   "execution_count": 5,
   "metadata": {},
   "outputs": [],
   "source": [
    "int Stack::StackTop (){\n",
    "    if (!IsEmpty())\n",
    "      return top;\n",
    "    return -1;   \n",
    "}"
   ]
  },
  {
   "cell_type": "code",
   "execution_count": 6,
   "metadata": {},
   "outputs": [],
   "source": [
    "int Stack::IsFull (){\n",
    "    if (top==size-1)\n",
    "       return 1;\n",
    "    return 0;\n",
    "}"
   ]
  },
  {
   "cell_type": "code",
   "execution_count": 7,
   "metadata": {},
   "outputs": [],
   "source": [
    "int Stack::IsEmpty (){\n",
    "    if (top==-1)\n",
    "      return 1;\n",
    "    return 0;\n",
    "}"
   ]
  },
  {
   "cell_type": "code",
   "execution_count": 8,
   "metadata": {},
   "outputs": [],
   "source": [
    "void Stack::Push (char x){\n",
    "    if (IsFull())\n",
    "      cout<<\"Stack overflow\"<<endl;\n",
    "    else\n",
    "    {\n",
    "      top++;\n",
    "      S[top] =x; \n",
    "    }\n",
    "    \n",
    "}"
   ]
  },
  {
   "cell_type": "code",
   "execution_count": 9,
   "metadata": {},
   "outputs": [],
   "source": [
    "char Stack::Pop (){\n",
    "    char x=-1;\n",
    "    if (IsEmpty())\n",
    "      cout<<\"Stack Empty\"<<endl;\n",
    "    else\n",
    "    {\n",
    "      x=S[top];\n",
    "      top--;\n",
    "    }\n",
    "    return x;\n",
    "}"
   ]
  },
  {
   "cell_type": "code",
   "execution_count": 10,
   "metadata": {},
   "outputs": [],
   "source": [
    "int Stack::Peek (int pos){\n",
    "    int x=-1;\n",
    "    int mapPos = top - pos +1;    \n",
    "    if (mapPos < 0)\n",
    "      cout<<\"Invalid Pos\"<<endl;\n",
    "    else\n",
    "    {\n",
    "      x=S[mapPos];\n",
    "    }\n",
    "    return x;\n",
    "}"
   ]
  },
  {
   "cell_type": "code",
   "execution_count": 11,
   "metadata": {},
   "outputs": [],
   "source": [
    "void Stack::Display (){\n",
    "   for (int i = top; i>=0; i--)\n",
    "   {\n",
    "     cout<<S[i]<<\" \";\n",
    "   }\n",
    "   cout<<endl;\n",
    "\n",
    "}"
   ]
  },
  {
   "cell_type": "markdown",
   "metadata": {},
   "source": [
    "## Matched"
   ]
  },
  {
   "cell_type": "code",
   "execution_count": 12,
   "metadata": {},
   "outputs": [
    {
     "name": "stdout",
     "output_type": "stream",
     "text": [
      "Len Array: 13\n",
      "1\n"
     ]
    }
   ],
   "source": [
    "char expr[] =\"((a+b)*(c-d))\";\n",
    "int sz = strlen(expr);\n",
    "cout<<\"Len Array: \"<<sz<<endl;\n",
    "Stack st(sz);\n",
    "cout<<st.IsBalanced(expr)<<endl;\n"
   ]
  },
  {
   "cell_type": "code",
   "execution_count": 13,
   "metadata": {},
   "outputs": [
    {
     "name": "stdout",
     "output_type": "stream",
     "text": [
      "Len Array: 21\n",
      "1\n"
     ]
    }
   ],
   "source": [
    "char expr2[] =\"{([a+b]\\times[c-d])/e}\";\n",
    "int sz2 = strlen(expr2);\n",
    "cout<<\"Len Array: \"<<sz2<<endl;\n",
    "Stack st2(sz2);\n",
    "cout<<st2.IsBalanced2(expr)<<endl;\n"
   ]
  },
  {
   "cell_type": "markdown",
   "metadata": {},
   "source": [
    "## Not Matched"
   ]
  },
  {
   "cell_type": "code",
   "execution_count": 14,
   "metadata": {},
   "outputs": [
    {
     "name": "stdout",
     "output_type": "stream",
     "text": [
      "Len Array: 12\n",
      "0\n"
     ]
    }
   ],
   "source": [
    "char expr3[] =\"((a+b)*c-d))\";\n",
    "int sz3 = strlen(expr3);\n",
    "cout<<\"Len Array: \"<<sz3<<endl;\n",
    "Stack st3(sz3);\n",
    "cout<<st3.IsBalanced(expr3)<<endl;"
   ]
  },
  {
   "cell_type": "code",
   "execution_count": 15,
   "metadata": {},
   "outputs": [
    {
     "name": "stdout",
     "output_type": "stream",
     "text": [
      "Len Array: 22\n",
      "0\n"
     ]
    }
   ],
   "source": [
    "char expr4[] =\"{([a+b]\\times[c-d]))/e}\";\n",
    "int sz4 = strlen(expr4);\n",
    "cout<<\"Len Array: \"<<sz4<<endl;\n",
    "Stack st4(sz4);\n",
    "cout<<st4.IsBalanced2(expr4)<<endl;"
   ]
  },
  {
   "cell_type": "code",
   "execution_count": null,
   "metadata": {},
   "outputs": [],
   "source": []
  }
 ],
 "metadata": {
  "kernelspec": {
   "display_name": "C++17",
   "language": "C++17",
   "name": "xcpp17"
  },
  "language_info": {
   "codemirror_mode": "text/x-c++src",
   "file_extension": ".cpp",
   "mimetype": "text/x-c++src",
   "name": "c++",
   "version": "17"
  }
 },
 "nbformat": 4,
 "nbformat_minor": 2
}

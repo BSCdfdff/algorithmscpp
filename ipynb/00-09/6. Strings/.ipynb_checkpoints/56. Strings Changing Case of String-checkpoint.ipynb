{
 "cells": [
  {
   "cell_type": "markdown",
   "metadata": {},
   "source": [
    "# Strings\n",
    "\n",
    "+ Character sets or ASCII Codes\n",
    "+ Character Array\n",
    "+ String\n",
    "+ Creating a string (in C Lang)\n"
   ]
  },
  {
   "cell_type": "markdown",
   "metadata": {},
   "source": [
    "## Changing Case of String\n",
    "\n",
    "___\n",
    "\n",
    "\n",
    "Remember the size of string (array), is the size of the arrat. The length of string is the number of letter the string is made up of, plus the null terminating character:\n",
    "\n",
    "\n",
    "$$\n",
    "\\newcommand\\T{\\Rule{0pt}{1em}{.3em}}\n",
    "\\begin{array}{|r|r|r|r|r|r|r|r|r|r|}\n",
    "\\hline \n",
    "W\\T&e\\T&l\\T&c\\T&o\\T&m\\T&e\\T& \\text {\\\\}0  \\\\\\hline \n",
    "_0\\T&_1\\T&_2\\T&_3\\T&_4\\T&_5\\T&_6\\T&_7\\ \\\\\\hline \n",
    "_i\\T&\\T&\\T&\\T&\\T&\\T&\\T&\\ \\\\\\hline \n",
    "\\end{array}\n",
    "$$\n",
    "\n",
    "We do know that:\n",
    "\n",
    "$$$$\n",
    "\n",
    "$$\\text{Uppercase letters}$$\n",
    "$$A - 65$$\n",
    "$$B - 66$$\n",
    "$$......$$\n",
    "$$Z - 90$$\n",
    "\n",
    "$$$$\n",
    "$$\\text{Lowercase letters}$$\n",
    "$$a - 97$$\n",
    "$$b - 98$$\n",
    "$$......$$\n",
    "$$z - 122$$\n",
    "\n",
    "$$$$\n",
    "$$\\text{Numbers}$$\n",
    "$$0 - 48$$\n",
    "$$1 - 49$$\n",
    "$$......$$\n",
    "$$0 - 57$$\n",
    "\n",
    "So to get lowercase for $ A = 97 - 65 = 32$ or $B = 98 - 66 = 32$. So the difference is always $32$. So each value we have in the array we need to add $32$. "
   ]
  },
  {
   "cell_type": "markdown",
   "metadata": {},
   "source": [
    "## How to toggle the cases\n",
    "\n",
    "___\n",
    "\n",
    "So to get upper I need to subctract $32$, and to get lower, I need to add $32$.\n",
    "\n"
   ]
  },
  {
   "cell_type": "code",
   "execution_count": 1,
   "metadata": {},
   "outputs": [],
   "source": [
    "#include <iostream>\n",
    "#include <climits>\n",
    "#include <math.h>\n",
    "using namespace std;"
   ]
  },
  {
   "cell_type": "markdown",
   "metadata": {},
   "source": [
    "#### Change to Lower case"
   ]
  },
  {
   "cell_type": "code",
   "execution_count": 2,
   "metadata": {},
   "outputs": [
    {
     "name": "stdout",
     "output_type": "stream",
     "text": [
      "Lower case: WELCOME\n",
      "Toggle case: welcome\n"
     ]
    }
   ],
   "source": [
    "char  n[] =\"WELCOME\";\n",
    "cout<<\"Lower case: \"<<n<<endl;\n",
    "int i=0;\n",
    "for(;n[i]!='\\0';i++){\n",
    "   n[i] = n[i] + 32;\n",
    "} \n",
    "cout<<\"Toggle case: \"<<n<<endl;"
   ]
  },
  {
   "cell_type": "markdown",
   "metadata": {},
   "source": [
    "### Toggle cases"
   ]
  },
  {
   "cell_type": "code",
   "execution_count": 3,
   "metadata": {},
   "outputs": [
    {
     "name": "stdout",
     "output_type": "stream",
     "text": [
      "Lower case: Welcome\n",
      "Toggle case: wELCOME\n"
     ]
    },
    {
     "data": {
      "text/plain": [
       "@0x7f7883a84b60"
      ]
     },
     "execution_count": 3,
     "metadata": {},
     "output_type": "execute_result"
    }
   ],
   "source": [
    "char  n1[] =\"Welcome\";\n",
    "cout<<\"Lower case: \"<<n1<<endl;\n",
    "int j=0;\n",
    "for(;n1[j]!='\\0';j++){\n",
    "    if ((n1[j]>=65) && (n1[j]<=90))\n",
    "        n1[j] +=32;\n",
    "    else if ((n1[j]>='a') && (n1[j]<=122))\n",
    "        n1[j] -=32;\n",
    "} \n",
    "cout<<\"Toggle case: \"<<n1<<endl;\n",
    "\n"
   ]
  },
  {
   "cell_type": "code",
   "execution_count": null,
   "metadata": {},
   "outputs": [],
   "source": []
  },
  {
   "cell_type": "code",
   "execution_count": null,
   "metadata": {},
   "outputs": [],
   "source": []
  },
  {
   "cell_type": "code",
   "execution_count": null,
   "metadata": {},
   "outputs": [],
   "source": []
  }
 ],
 "metadata": {
  "kernelspec": {
   "display_name": "C++17",
   "language": "C++17",
   "name": "xcpp17"
  },
  "language_info": {
   "codemirror_mode": "text/x-c++src",
   "file_extension": ".cpp",
   "mimetype": "text/x-c++src",
   "name": "c++",
   "version": "-std=c++17"
  }
 },
 "nbformat": 4,
 "nbformat_minor": 2
}

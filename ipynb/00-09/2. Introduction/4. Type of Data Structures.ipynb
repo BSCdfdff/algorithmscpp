{
 "cells": [
  {
   "cell_type": "markdown",
   "metadata": {},
   "source": [
    "## Type of Data Structures\n",
    "\n",
    "+ Physical\n",
    "+ Logical"
   ]
  },
  {
   "cell_type": "markdown",
   "metadata": {},
   "source": [
    "## Physical\n",
    "\n",
    "1. Array [Fixed size]\n",
    "2. Linked List [Dynamic size]\n",
    "\n",
    "Why physical? These structures defines how memory are organised.\n",
    "\n",
    "Array can be created inside STACK or HEAP\n",
    "\n",
    "LL is dynamic data structure, and always created in HEAP. (pointer in stack)\n",
    "\n",
    "These structures will be used for actually storing/hold the data in memory.\n"
   ]
  },
  {
   "cell_type": "markdown",
   "metadata": {},
   "source": [
    "## Logical\n",
    "\n",
    "1. Stack\n",
    "2. Queues\n",
    "3. Trees\n",
    "4. Graphs\n",
    "5. Hash Tables\n",
    "\n",
    "How do we use the values stored in physical data structures such as array and linked lists?\n",
    "\n",
    "\n",
    "We use logical data structures for manipulating (the **discipline** we follow) the values in physical data structures\n",
    "\n",
    "**Linear** \n",
    "1. Stack [LIFO]\n",
    "2. Queues [FIFO]\n",
    "\n",
    "**Non-Linear** \n",
    "3. Trees\n",
    "4. Graphs\n",
    "\n",
    "**Tabular** \n",
    "5. Hash Tables\n",
    "\n",
    "\n",
    "These are data structures used in algorithms.\n",
    "\n"
   ]
  },
  {
   "cell_type": "code",
   "execution_count": 1,
   "metadata": {},
   "outputs": [],
   "source": [
    "#include <iostream>\n",
    "#include <climits>\n",
    "#include <math.h>\n",
    "using namespace std;"
   ]
  }
 ],
 "metadata": {
  "kernelspec": {
   "display_name": "C++17",
   "language": "C++17",
   "name": "xcpp17"
  },
  "language_info": {
   "codemirror_mode": "text/x-c++src",
   "file_extension": ".cpp",
   "mimetype": "text/x-c++src",
   "name": "c++",
   "version": "-std=c++17"
  }
 },
 "nbformat": 4,
 "nbformat_minor": 2
}

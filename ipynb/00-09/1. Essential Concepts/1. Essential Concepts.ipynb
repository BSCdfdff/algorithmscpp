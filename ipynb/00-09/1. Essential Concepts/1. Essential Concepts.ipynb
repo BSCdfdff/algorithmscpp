{
 "cells": [
  {
   "cell_type": "markdown",
   "metadata": {},
   "source": [
    "## Essential Concepts in C and C++\n",
    "\n",
    "+ Arrays\n",
    "+ Structure\n",
    "+ Pointers\n",
    "+ Reference\n",
    "+ Parameter Passing\n",
    "+ Classes\n",
    "+ Constructor\n",
    "+ Templates"
   ]
  },
  {
   "cell_type": "markdown",
   "metadata": {},
   "source": [
    "## Arrays\n",
    "\n",
    "Stored in Stack and fixed memory allocation that cannot be changed\n"
   ]
  },
  {
   "cell_type": "code",
   "execution_count": 1,
   "metadata": {},
   "outputs": [],
   "source": [
    "#include <iostream>\n",
    "#include <climits>\n",
    "#include <math.h>\n",
    "using namespace std;"
   ]
  },
  {
   "cell_type": "code",
   "execution_count": 2,
   "metadata": {},
   "outputs": [],
   "source": [
    "int A[5] = {1,2,3,4,5};\n"
   ]
  },
  {
   "cell_type": "code",
   "execution_count": 3,
   "metadata": {},
   "outputs": [
    {
     "name": "stdout",
     "output_type": "stream",
     "text": [
      "1\n",
      "2\n",
      "3\n",
      "4\n",
      "5\n"
     ]
    }
   ],
   "source": [
    "for (int i=0;i<5;i++){\n",
    "    printf(\"%d\", A[i]);  //does no\n",
    "    cout<<A[i]<<endl;\n",
    "}\n"
   ]
  },
  {
   "cell_type": "markdown",
   "metadata": {},
   "source": [
    "## Structure\n",
    "+ Definining a structure\n",
    "    + Using primitive data types\n",
    "    + User or own data types\n",
    "+ Size of structure\n",
    "    + How much memory it consumes\n",
    "+ Declaring a structure\n",
    "+ Accessing members\n",
    "\n",
    "Looking a Rectangle\n",
    "\n",
    "We will be using class.\n",
    "\n",
    "He is using struct....\n",
    "\n"
   ]
  },
  {
   "cell_type": "code",
   "execution_count": 4,
   "metadata": {},
   "outputs": [],
   "source": [
    "struct Rectangle{\n",
    "    int length;    \n",
    "    int breadth;\n",
    "}"
   ]
  },
  {
   "cell_type": "code",
   "execution_count": 5,
   "metadata": {},
   "outputs": [
    {
     "data": {
      "text/plain": [
       "@0x7f9633c54050"
      ]
     },
     "execution_count": 5,
     "metadata": {},
     "output_type": "execute_result"
    }
   ],
   "source": [
    "struct Rectangle r;\n",
    "r = {10,5}"
   ]
  },
  {
   "cell_type": "code",
   "execution_count": 6,
   "metadata": {},
   "outputs": [],
   "source": [
    "r.length=20;"
   ]
  },
  {
   "cell_type": "code",
   "execution_count": 7,
   "metadata": {},
   "outputs": [],
   "source": [
    "r.breadth=100;"
   ]
  },
  {
   "cell_type": "code",
   "execution_count": 8,
   "metadata": {},
   "outputs": [
    {
     "name": "stdout",
     "output_type": "stream",
     "text": [
      "20\n"
     ]
    }
   ],
   "source": [
    "cout<<r.length<<endl;"
   ]
  },
  {
   "cell_type": "markdown",
   "metadata": {},
   "source": [
    "## Pointers\n",
    "\n",
    "1. To indirectly address data, using address of data outside stack, that is in HEAP. \n",
    "2. To access resources that is in HEAP\n",
    "3. Useful for accessing parameter passing\n"
   ]
  },
  {
   "cell_type": "markdown",
   "metadata": {},
   "source": [
    "## Reference\n",
    "\n",
    "Only in C++\n",
    "\n",
    "Similar to alias given to a variable\n",
    "\n",
    "Show how it is looked inside the memory\n",
    "\n",
    "Normally shown with \"&\" before the variable name\n",
    "\n",
    "**Declaration and initialisation must happen at same time**\n",
    "\n",
    "Why do we need a variable with just another name? (nick name)?\n",
    "\n",
    "**Useful in parameter passing, i.e. use reference instead of using pointers**\n",
    "\n",
    "But for small, simple functions (with reference parameters), otherwise use pointers\n"
   ]
  },
  {
   "cell_type": "code",
   "execution_count": 9,
   "metadata": {},
   "outputs": [],
   "source": [
    "int a = 10;\n",
    "int &rr = a;"
   ]
  },
  {
   "cell_type": "code",
   "execution_count": 10,
   "metadata": {},
   "outputs": [
    {
     "name": "stdout",
     "output_type": "stream",
     "text": [
      "10\n",
      "10\n",
      "10\n",
      "11\n",
      "11\n"
     ]
    },
    {
     "data": {
      "text/plain": [
       "@0x7f9630734b60"
      ]
     },
     "execution_count": 10,
     "metadata": {},
     "output_type": "execute_result"
    }
   ],
   "source": [
    "cout<<a<<endl;\n",
    "cout<<rr<<endl;\n",
    "cout<<rr++<<endl;\n",
    "cout<<a<<endl;\n",
    "cout<<rr<<endl;\n",
    "\n"
   ]
  },
  {
   "cell_type": "markdown",
   "metadata": {},
   "source": [
    "## Pointer to Structure in STACK\n",
    "\n",
    "\n"
   ]
  },
  {
   "cell_type": "code",
   "execution_count": 11,
   "metadata": {},
   "outputs": [],
   "source": [
    "struct Rectangle2{\n",
    "    int length;    \n",
    "    int breadth;\n",
    "}"
   ]
  },
  {
   "cell_type": "code",
   "execution_count": 12,
   "metadata": {},
   "outputs": [],
   "source": [
    "struct Rectangle2 r2={15,20};"
   ]
  },
  {
   "cell_type": "code",
   "execution_count": 13,
   "metadata": {},
   "outputs": [],
   "source": [
    "struct Rectangle2 *p=&r2;"
   ]
  },
  {
   "cell_type": "code",
   "execution_count": 14,
   "metadata": {},
   "outputs": [
    {
     "name": "stdout",
     "output_type": "stream",
     "text": [
      "15\n"
     ]
    }
   ],
   "source": [
    "cout<<p->length<<endl;"
   ]
  },
  {
   "cell_type": "markdown",
   "metadata": {},
   "source": [
    "### Alternative way of writing a pointer to accessing struct member:\n",
    "(*p).length"
   ]
  },
  {
   "cell_type": "code",
   "execution_count": 15,
   "metadata": {},
   "outputs": [
    {
     "name": "stdout",
     "output_type": "stream",
     "text": [
      "15\n"
     ]
    }
   ],
   "source": [
    "cout<<(*p).length<<endl;"
   ]
  },
  {
   "cell_type": "markdown",
   "metadata": {},
   "source": [
    "## Pointer to Structure in HEAP"
   ]
  },
  {
   "cell_type": "code",
   "execution_count": 16,
   "metadata": {},
   "outputs": [],
   "source": [
    "struct Rectangle3{\n",
    "    int length;    \n",
    "    int breadth;\n",
    "}"
   ]
  },
  {
   "cell_type": "code",
   "execution_count": 17,
   "metadata": {},
   "outputs": [],
   "source": [
    "struct Rectangle3 *ptr = new Rectangle3();"
   ]
  },
  {
   "cell_type": "code",
   "execution_count": 18,
   "metadata": {},
   "outputs": [],
   "source": [
    "ptr->length=15;\n",
    "ptr->breadth=20;"
   ]
  },
  {
   "cell_type": "markdown",
   "metadata": {},
   "source": [
    "## Parameter Passing\n",
    "\n",
    "**Functions: Functions CANNOT access variables of other functions that is the RULE**\n",
    "\n",
    "1. **Pass by Value**\n",
    "\n",
    "Changes to called function, does not affect variables of calling function\n",
    "\n",
    "2. **Pass by Address**\n",
    "\n",
    "One function (called function) can access through pointers the variables of another function (calling function) [to be used more for complex functions]\n",
    "\n",
    "3. **Pass by Reference**\n",
    "\n",
    "Add & in front of the parameters of called function\n",
    "\n",
    "That means the called function will \"reference\" the addresses of calling function. But the called function is now INLINE Function. Compiler does this. But should only be used for small functions.\n"
   ]
  },
  {
   "cell_type": "code",
   "execution_count": 19,
   "metadata": {},
   "outputs": [],
   "source": [
    "int add(int a , int b){\n",
    "    int c;\n",
    "    c = a+ b;\n",
    "    return c;\n",
    "   \n",
    "}"
   ]
  },
  {
   "cell_type": "markdown",
   "metadata": {},
   "source": [
    "### Concept of Forward Declaration"
   ]
  },
  {
   "cell_type": "code",
   "execution_count": 20,
   "metadata": {},
   "outputs": [],
   "source": [
    "int add(int a , int b);"
   ]
  },
  {
   "cell_type": "code",
   "execution_count": 21,
   "metadata": {},
   "outputs": [
    {
     "name": "stdout",
     "output_type": "stream",
     "text": [
      "30\n"
     ]
    }
   ],
   "source": [
    "int z = add(10,20);\n",
    "cout<<z<<endl;"
   ]
  },
  {
   "cell_type": "code",
   "execution_count": null,
   "metadata": {},
   "outputs": [],
   "source": []
  },
  {
   "cell_type": "code",
   "execution_count": null,
   "metadata": {},
   "outputs": [],
   "source": []
  },
  {
   "cell_type": "code",
   "execution_count": null,
   "metadata": {},
   "outputs": [],
   "source": []
  },
  {
   "cell_type": "markdown",
   "metadata": {},
   "source": [
    "## Array as Parameter\n",
    "\n",
    "The definition is in the parameter. But although its not evident from the definition in the parameter, it is a pointer to an array.\n",
    "\n",
    "That is arrays can only be passed as pointer, not by value. \n",
    "\n",
    "So its a pointer to an array.\n",
    "\n",
    "Thats why if we do: ```cout<<B<<endl```, we get ant address.\n",
    "\n",
    "So we could also ahve said:\n",
    "\n",
    "```\n",
    "void fun(int *A, int n)\n",
    "\n",
    "```\n",
    "\n",
    "Will be the same, but its best to be specific: ```int A[]```\n"
   ]
  },
  {
   "cell_type": "code",
   "execution_count": 22,
   "metadata": {},
   "outputs": [],
   "source": [
    "void fun(int A[], int n){\n",
    "    for (int i=0;i<n;i++){\n",
    "        cout<<A[i]<<endl;\n",
    "    }\n",
    "\n",
    "}"
   ]
  },
  {
   "cell_type": "code",
   "execution_count": 23,
   "metadata": {},
   "outputs": [],
   "source": [
    "int B[5] = {1,2,3,4,5};"
   ]
  },
  {
   "cell_type": "code",
   "execution_count": 24,
   "metadata": {},
   "outputs": [
    {
     "name": "stdout",
     "output_type": "stream",
     "text": [
      "1\n",
      "2\n",
      "3\n",
      "4\n",
      "5\n"
     ]
    }
   ],
   "source": [
    "fun (B,5);"
   ]
  },
  {
   "cell_type": "code",
   "execution_count": 25,
   "metadata": {},
   "outputs": [
    {
     "name": "stdout",
     "output_type": "stream",
     "text": [
      "0x7f9633c54090\n"
     ]
    }
   ],
   "source": [
    "cout<<B<<endl;"
   ]
  },
  {
   "cell_type": "code",
   "execution_count": 26,
   "metadata": {},
   "outputs": [],
   "source": [
    "int* funny(int n){\n",
    "    int *A;\n",
    "    for (int i=0;i<n;i++){\n",
    "      A[i]=i;\n",
    "    }\n",
    "    return A;\n",
    "\n",
    "}"
   ]
  },
  {
   "cell_type": "code",
   "execution_count": 27,
   "metadata": {},
   "outputs": [],
   "source": [
    "//Something work, otherwise kills kernel\n",
    "// int *pA;\n",
    "// pA= funny (5);\n",
    "// for (int i=0;i<5;i++){\n",
    "//         cout<<pA[i]<<endl;\n",
    "// }"
   ]
  },
  {
   "cell_type": "markdown",
   "metadata": {},
   "source": [
    "## Classes\n",
    "\n",
    "Everthing in class is private, compared to struct which is public."
   ]
  },
  {
   "cell_type": "markdown",
   "metadata": {},
   "source": [
    "## Constructor\n",
    "\n",
    "Automatically called when function is called.\n",
    "\n",
    "Same as initialising an object."
   ]
  },
  {
   "cell_type": "markdown",
   "metadata": {},
   "source": [
    "## Templates Class\n",
    "\n",
    "Using same (generic) class (templetae for different data types\n",
    "\n",
    "***OLD Way***\n",
    "```\n",
    "//template <class T>\n",
    "class Arithmetic{\n",
    "private:\n",
    "    int a;\n",
    "    int b;\n",
    "public:\n",
    "    Arithmetic(int a, int b);\n",
    "    int add();\n",
    "    int sub();\n",
    "};    \n",
    "\n",
    "Arithmetic::Arithmetic(int a, int b){\n",
    "    this->a = a;\n",
    "    this->b = b;\n",
    "    \n",
    "}\n",
    "\n",
    "int Arithmetic::add(){\n",
    "    int c;\n",
    "    c = a + b;\n",
    "    return c;\n",
    "    \n",
    "}\n",
    "\n",
    "int Arithmetic::sub(){\n",
    "    int c;\n",
    "    c = a - b;\n",
    "    return c;\n",
    "    \n",
    "}\n",
    "\n",
    "int adder=0, subber=0;\n",
    "Arithmetic a(20,10);\n",
    "\n",
    "adder = a.add();\n",
    "\n",
    "subber = a.sub();\n",
    "\n",
    "cout<<adder<<endl;\n",
    "cout<<subber<<endl;\n",
    "\n",
    "\n",
    "```\n"
   ]
  },
  {
   "cell_type": "markdown",
   "metadata": {},
   "source": [
    "Markdown"
   ]
  },
  {
   "cell_type": "code",
   "execution_count": 28,
   "metadata": {},
   "outputs": [],
   "source": [
    "template <class T>\n",
    "class Arithmetic{\n",
    "private:\n",
    "    T a;\n",
    "    T b;\n",
    "public:\n",
    "    Arithmetic(T a, T b);\n",
    "    T add();\n",
    "    T sub();\n",
    "};    "
   ]
  },
  {
   "cell_type": "code",
   "execution_count": 29,
   "metadata": {},
   "outputs": [],
   "source": [
    "template <class T>\n",
    "Arithmetic<T>::Arithmetic(T a, T b){\n",
    "    this->a = a;\n",
    "    this->b = b;\n",
    "    \n",
    "}"
   ]
  },
  {
   "cell_type": "code",
   "execution_count": 30,
   "metadata": {},
   "outputs": [],
   "source": [
    "template <class T>\n",
    "T Arithmetic<T>::add(){\n",
    "    T c;\n",
    "    c = a + b;\n",
    "    return c;\n",
    "    \n",
    "}"
   ]
  },
  {
   "cell_type": "code",
   "execution_count": 31,
   "metadata": {},
   "outputs": [],
   "source": [
    "template <class T>\n",
    "T Arithmetic<T>::sub(){\n",
    "    T c;\n",
    "    c = a - b;\n",
    "    return c;\n",
    "    \n",
    "}"
   ]
  },
  {
   "cell_type": "code",
   "execution_count": 32,
   "metadata": {},
   "outputs": [],
   "source": [
    "int adder=0, subber=0;\n",
    "Arithmetic<int> ar(20,10);"
   ]
  },
  {
   "cell_type": "code",
   "execution_count": 33,
   "metadata": {},
   "outputs": [],
   "source": [
    "adder = ar.add();"
   ]
  },
  {
   "cell_type": "code",
   "execution_count": 34,
   "metadata": {},
   "outputs": [],
   "source": [
    "subber = ar.sub();"
   ]
  },
  {
   "cell_type": "code",
   "execution_count": 35,
   "metadata": {},
   "outputs": [
    {
     "name": "stdout",
     "output_type": "stream",
     "text": [
      "30\n",
      "10\n"
     ]
    }
   ],
   "source": [
    "cout<<adder<<endl;\n",
    "cout<<subber<<endl;\n"
   ]
  },
  {
   "cell_type": "code",
   "execution_count": null,
   "metadata": {},
   "outputs": [],
   "source": []
  }
 ],
 "metadata": {
  "kernelspec": {
   "display_name": "C++17",
   "language": "C++17",
   "name": "xcpp17"
  },
  "language_info": {
   "codemirror_mode": "text/x-c++src",
   "file_extension": ".cpp",
   "mimetype": "text/x-c++src",
   "name": "c++",
   "version": "-std=c++17"
  }
 },
 "nbformat": 4,
 "nbformat_minor": 2
}

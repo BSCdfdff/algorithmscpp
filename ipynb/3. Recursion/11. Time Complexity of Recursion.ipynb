{
 "cells": [
  {
   "cell_type": "markdown",
   "metadata": {},
   "source": [
    "# Recursion\n",
    "\n",
    "+ Recurrent Relation\n"
   ]
  },
  {
   "cell_type": "markdown",
   "metadata": {},
   "source": [
    "## Time Complexity\n",
    "\n",
    "Ascending when it allocated the memoery\n",
    "\n",
    "Descending when it deallocated the memory for each variable.\n",
    "\n",
    "Remember every statement in program takes 1 unit of time.\n",
    "\n",
    "Where we have a function call, we need to drill down deeper and find out how much time that function call takes\n",
    "\n",
    "\n",
    "## Recurrence Relation\n",
    "\n",
    "We say time taken for a **function** is **T(n)**, where T is for time\n",
    "\n",
    "So if the function ```fun()``` is ```T(n)```, ```T(n)``` should be equal to sum of all the statements inside the function. Lets explore all the statements inside\n",
    "\n",
    "```\n",
    "void fun(int n){               //---T(n)\n",
    "    if (n > 0){\n",
    "        cout<<n<<endl;\n",
    "        fun(n-1);\n",
    "    }\n",
    "}\n",
    "```\n",
    "Let analyse inside:\n",
    "\n",
    "```\n",
    "if (n > 0){        --------1\n",
    "  cout<<n<<endl;   --------1\n",
    "  fun(n-1);        --------need to drill down, after analysis (below)\n",
    "                   --------T(n-1) \n",
    "```\n",
    "\n",
    "So previously we said total time for function, ```fun(int n)```, call was ```T(n)```, so this function fun(n-1) is similar that, so this one is ```(n-1)```, so this call till be ```T(n-1)```\n",
    "\n",
    "\n",
    "So lets add up all inside the function:\n",
    "\n",
    "$T(n) = T(n-1) + 1 + 1$\n",
    "\n",
    "$T(n-1) + 2$ \n",
    "\n",
    "Or \n",
    "\n",
    "$T(n-1) + 1)$\n",
    "\n",
    "\n",
    "So the **recurrence relation** is:\n",
    "\n",
    "\n",
    "$$ $$\n",
    "\n",
    "$$ $$\n",
    "\n",
    "\n",
    "$$\n",
    "T(n) =\n",
    "\\begin{cases}\n",
    "1  \\text{ one unit time}& \\text{where $n = 0$ (Base Condition)} \\\\\n",
    "\\\\ \n",
    "T(n-1) + *1 & \\text{where $n > 0$}\n",
    "\\end{cases}\n",
    "$$\n",
    "\n",
    "\n",
    "$$ $$\n",
    "\n",
    "\n",
    "\n",
    "\n",
    "(if we have constant value above +2, we can write it as *1)\n",
    "\n",
    "Where ```n = 0```, this is base condition, it wont do anything, it will exit the function so that is ```1 unit``` of time\n",
    "\n",
    "Where ```n > 0```, that is where we do self calling, and as calculated (above) we get ```T(n-1) + 2```\n",
    "\n",
    "\n",
    "So the time complexity of recursive function can be represented by a recurrence relation \n",
    "\n",
    "Lets solve this using **induction method** or **successive substituion method.**\n",
    "\n",
    "```\n",
    "T(n) = T(n-1)+1 ---------------------------------------EQ1 \n",
    "\n",
    "So what is T(n-1). We know T(n) = T(n-1)+1. So through substition we can see that:\n",
    "\n",
    "T(n)   = T(n-1)+1\n",
    "T(n-1) = T(n-2)+1  (this substitution I need to readup on)\n",
    "T(n)   = T(n-2)+1+1 \n",
    "T(n)   = T(n-2)+2 -------------------------------------EQ2\n",
    "\n",
    "So what is T(n-2)?\n",
    "\n",
    "T(n-2) = T(n-3)+1\n",
    "T(n)   = T(n-3)+1+ 2 \n",
    "T(n)   = T(n-3)+3    ----------------------------------EQ3\n",
    "|           |     \n",
    "|           |\n",
    "|           |\n",
    "\n",
    "We can do this for k number of times...\n",
    "\n",
    "T(n)   = T(n-k)+k   ----------------------------------EQ4\n",
    "```\n",
    "\n",
    "Until it gets smaller and we know when it reaches zero (n=0), the answer, as per the recurrent relation will be 1\n",
    "\n",
    "\n",
    "Thus we can ASSUME that:\n",
    "\n",
    "```\n",
    "n-k = 0 or becomes 0\n",
    "\n",
    "n = k\n",
    "```\n",
    "\n",
    "And if we substitute the EQ4:\n",
    "\n",
    "```\n",
    "T(n)   = T(n-k)+k   ----------------------------------EQ4\n",
    "T(n)   = T(n-n)+n\n",
    "T(n)   = T(0)+n\n",
    "T(n)   = 1+n\n",
    "\n",
    "T(n)   = n \n",
    "```\n",
    "---> **O**(n)\n",
    "\n",
    "\n",
    "\n",
    "## Place image of stack here\n"
   ]
  },
  {
   "cell_type": "code",
   "execution_count": 1,
   "metadata": {},
   "outputs": [],
   "source": [
    "#include <iostream>\n",
    "#include <climits>\n",
    "#include <math.h>\n",
    "using namespace std;"
   ]
  },
  {
   "cell_type": "code",
   "execution_count": 2,
   "metadata": {},
   "outputs": [],
   "source": [
    "void fun(int n){               //---T(n)\n",
    "    if (n > 0){                //---1\n",
    "        cout<<n<<endl;         //---1\n",
    "        fun(n-1);              //---T(n-1)\n",
    "    }\n",
    "}\n",
    "    "
   ]
  },
  {
   "cell_type": "code",
   "execution_count": 3,
   "metadata": {},
   "outputs": [
    {
     "name": "stdout",
     "output_type": "stream",
     "text": [
      "3\n",
      "2\n",
      "1\n"
     ]
    }
   ],
   "source": [
    "int x=3;\n",
    "fun(x);\n"
   ]
  },
  {
   "cell_type": "code",
   "execution_count": 4,
   "metadata": {},
   "outputs": [],
   "source": [
    "void fun1(int n){\n",
    "    if (n > 0){\n",
    "        fun1(n-1);\n",
    "        cout<<n<<endl;\n",
    "    }\n",
    "}\n",
    "    "
   ]
  },
  {
   "cell_type": "code",
   "execution_count": 5,
   "metadata": {},
   "outputs": [
    {
     "name": "stdout",
     "output_type": "stream",
     "text": [
      "1\n",
      "2\n",
      "3\n"
     ]
    }
   ],
   "source": [
    "int y=3;\n",
    "fun1(y);\n"
   ]
  },
  {
   "cell_type": "code",
   "execution_count": null,
   "metadata": {},
   "outputs": [],
   "source": []
  },
  {
   "cell_type": "code",
   "execution_count": null,
   "metadata": {},
   "outputs": [],
   "source": []
  },
  {
   "cell_type": "code",
   "execution_count": null,
   "metadata": {},
   "outputs": [],
   "source": []
  },
  {
   "cell_type": "code",
   "execution_count": null,
   "metadata": {},
   "outputs": [],
   "source": []
  },
  {
   "cell_type": "code",
   "execution_count": null,
   "metadata": {},
   "outputs": [],
   "source": []
  },
  {
   "cell_type": "code",
   "execution_count": null,
   "metadata": {},
   "outputs": [],
   "source": []
  }
 ],
 "metadata": {
  "kernelspec": {
   "display_name": "C++17",
   "language": "C++17",
   "name": "xcpp17"
  },
  "language_info": {
   "codemirror_mode": "text/x-c++src",
   "file_extension": ".cpp",
   "mimetype": "text/x-c++src",
   "name": "c++",
   "version": "17"
  }
 },
 "nbformat": 4,
 "nbformat_minor": 2
}

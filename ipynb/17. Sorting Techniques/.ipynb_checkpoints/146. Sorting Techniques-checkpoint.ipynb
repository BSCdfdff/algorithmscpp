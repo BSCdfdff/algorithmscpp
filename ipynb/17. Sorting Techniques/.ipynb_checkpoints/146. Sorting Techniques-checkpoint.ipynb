{
 "cells": [
  {
   "cell_type": "markdown",
   "metadata": {},
   "source": [
    "# Sorting Techniques\n",
    "\n",
    "___\n",
    "\n",
    "+ Bubbble Sort\n",
    "+ Insertion Sort\n",
    "+ Selection Sort\n",
    "+ Heap Sort\n",
    "+ Merge Sort\n",
    "+ Quick Sort\n",
    "+ Tree Sort\n",
    "+ Shell Sort\n",
    "+ Count Sort\n",
    "+ Bucket/Bin Sort\n",
    "+ Radix Sort\n",
    "\n"
   ]
  },
  {
   "cell_type": "markdown",
   "metadata": {},
   "source": [
    "## Criteria Analysis\n",
    "\n",
    "___\n",
    "\n",
    "1. Number of Comparisons\n",
    "2. Number of Swaps\n",
    "3. Adaptive\n",
    "4. Stable\n",
    "5. Extra Memory\n",
    "\n",
    "The above criteria will be used to evaluate a sorting technique. This criteria will decide:\n",
    "\n",
    "+ Time complexity\n",
    "+ Space complexity\n",
    "\n",
    "Of a technique, and determine its strenght s and weaknesses.\n",
    "\n",
    "\n",
    "Adaptive refers to to if a sorting technique has any change on its time complexity if the data is alreadu sorted. That is the list is already sorted does the technique improve, stay the same of become worst.\n",
    "\n",
    "Stable refer to if we have duplicate elements, that is do these elements keep its original position or do they shift. If stable then each duplicate will keep its original location.\n",
    "\n",
    "\n",
    "\n",
    "\n"
   ]
  },
  {
   "cell_type": "markdown",
   "metadata": {},
   "source": [
    "## Comparison Based Sorting Techniques\n",
    "\n",
    "___\n",
    "\n",
    "The following sort techniqueues uses COMPARISON to sort the elements:\n",
    "\n",
    "+ Bubbble Sort\n",
    "+ Insertion Sort\n",
    "+ Selection Sort\n",
    "+ Heap Sort\n",
    "+ Merge Sort\n",
    "+ Quick Sort\n",
    "+ Tree Sort\n",
    "+ Shell Sort\n",
    "\n",
    "Further the following techniques takes $O(n^2)$ time:\n",
    "\n",
    "+ Bubbble Sort\n",
    "+ Insertion Sort\n",
    "+ Selection Sort\n",
    "\n",
    "\n",
    "Further the following techniques takes   $O(nlog_2{n})$ time:\n",
    "\n",
    "+ Heap Sort\n",
    "+ Merge Sort\n",
    "+ Quick Sort\n",
    "+ Tree Sort\n",
    "\n",
    "Further the following techniques takes $O(n^{\\frac{3}{2}})$ time:\n",
    "\n",
    "+ Shell Sort\n",
    "\n",
    "\n",
    "This is faster than $O(n^2)$, but slower than $O(nlog_2{n})$\n",
    "\n",
    "\n",
    "\n",
    "\n"
   ]
  },
  {
   "cell_type": "markdown",
   "metadata": {},
   "source": [
    "## Index Based Sorting Techniques\n",
    "\n",
    "___\n",
    "\n",
    "The following sort techniqueues uses Indexes to sort the elements:\n",
    "\n",
    "+ Count Sort\n",
    "+ Bucket/Bin Sort\n",
    "+ Radix Sort\n",
    "\n",
    "And they take $O(n)$ time\n",
    "\n",
    "But its consumes lots of space.\n"
   ]
  },
  {
   "cell_type": "markdown",
   "metadata": {},
   "source": []
  },
  {
   "cell_type": "code",
   "execution_count": null,
   "metadata": {},
   "outputs": [],
   "source": []
  }
 ],
 "metadata": {
  "kernelspec": {
   "display_name": "C++17",
   "language": "C++17",
   "name": "xcpp17"
  },
  "language_info": {
   "codemirror_mode": "text/x-c++src",
   "file_extension": ".cpp",
   "mimetype": "text/x-c++src",
   "name": "c++",
   "version": "17"
  }
 },
 "nbformat": 4,
 "nbformat_minor": 2
}

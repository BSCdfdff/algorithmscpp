{
 "cells": [
  {
   "cell_type": "markdown",
   "metadata": {},
   "source": [
    "# Linked List\n",
    "+ Comparison with Array\n"
   ]
  },
  {
   "cell_type": "markdown",
   "metadata": {},
   "source": [
    "## Linked List v Array\n",
    "\n",
    "\n",
    "___\n",
    "\n",
    "Both are tow physical data structures. Using these two we can implement logical data stuctures.\n",
    "\n",
    "Array can be created in STACK and HEAP.Linked List is ALWAYS created in HEAP.\n",
    "\n",
    "Array size is fixed, need to create new one to increase size. LL is dynamic and variable size, based in HEAP size.\n",
    "\n",
    "\n",
    "Array only need space for data, whereas with LL you need space for pointer to next node.\n",
    "\n",
    "Array elements can be accessed randomly. LL CAN only be accessed sequentially.\n",
    "\n",
    "Array elements are accessed FASTER as it inside STACK, and also randomly, whereas LL is in HEAP which needs access indirectly a few steps slower, as well as sequentially.\n",
    "\n",
    "\n",
    "Inserting\n",
    "\n",
    "1. Array - inserting at the beginning, we need to shift elements to right, it will take $O(n)$. And shifting of this data can be costly if its e.g. student data. Bytes to be moved. But inserting at given position is $O(1)$\n",
    "2. LL - inserting at the beginning, will ake $O(1)$. But inserting at given position we need to get there, go sequentialy, is $O(n)$. Here movement of data is not costly, as there us NO movement of data, as we only traversing to get to this position. \n",
    "\n",
    "\n",
    "So we can say the time complexity is the same for both. Just interchanged when the operation occurs. If you inserting always from RHS (given position), then array wil be faster. Whereas, if you always will be inserting from LHS, that is at head, then LL will be faster.\n",
    "\n",
    "When there is movement of data, then LL is preferred and most ideal. \n",
    "\n",
    "\n",
    "Deleting \n",
    "\n",
    "1. Array - Deleting at a gicen position, is easy and only the length of the array will be reduced. So $O(1)$. But deleting at beginning, means we need to shift the elements forward so $O(n)$. That is insertion and deletion takes the same time for arrays.\n",
    "2. LL - Same for insertion. $O(1)$ if deleting Head, and $O(n)$ for deleting given position.\n",
    "\n",
    "Searching\n",
    "\n",
    "1. Array - Can perform linear $O(n)$  and binary search $O(log n)$\n",
    "2. LL- Can perform binary search, but will take $O(nlog n)$. With binary search we need to get to the middle of the list. it is ineffecient with LL\n",
    "\n",
    "We know with Binary search the list must be sorted and we need to start at middle of list, and do this all the time. Find the middle, and to get to the middle, it will take n times (sequentual read).\n",
    "\n",
    "With array to get to middle of list, we can do so randomly (divide length by 2), not so with LL, have to read sequentially till the end, then only take half.\n",
    "\n",
    "\n",
    "Sorthing (not covered)\n",
    ".\n",
    "\n",
    "Most of the sorting is designed for array, and some is designed for LL. Such as Insertion and Merge Sort. \n",
    "\n",
    "\n",
    "\n",
    "\n",
    "\n",
    "\n",
    "\n"
   ]
  },
  {
   "cell_type": "markdown",
   "metadata": {},
   "source": [
    "## Which one should be used?\n",
    "\n",
    "___\n",
    "\n",
    "Depends on the requirement.\n",
    "\n",
    "Array\n",
    "1. Faster\n",
    "2. Less Space\n",
    "3. Fixed Size\n",
    "4. Best for inserting on RHS\n",
    "\n",
    "\n",
    "Linked List\n",
    "1. Variable length\n",
    "2. Large data, with minimal movement.\n",
    "3. Best for inserting on LHS\n",
    "\n",
    " \n"
   ]
  },
  {
   "cell_type": "code",
   "execution_count": null,
   "metadata": {},
   "outputs": [],
   "source": []
  },
  {
   "cell_type": "code",
   "execution_count": null,
   "metadata": {},
   "outputs": [],
   "source": []
  },
  {
   "cell_type": "code",
   "execution_count": null,
   "metadata": {},
   "outputs": [],
   "source": []
  }
 ],
 "metadata": {
  "kernelspec": {
   "display_name": "C++17",
   "language": "C++17",
   "name": "xcpp17"
  },
  "language_info": {
   "codemirror_mode": "text/x-c++src",
   "file_extension": ".cpp",
   "mimetype": "text/x-c++src",
   "name": "c++",
   "version": "-std=c++17"
  }
 },
 "nbformat": 4,
 "nbformat_minor": 2
}

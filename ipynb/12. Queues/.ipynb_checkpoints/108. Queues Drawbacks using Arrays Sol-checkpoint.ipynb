{
 "cells": [
  {
   "cell_type": "markdown",
   "metadata": {},
   "source": [
    "# Queues\n",
    "\n",
    "+ Drawbacks of Queue using Arrays solution\n"
   ]
  },
  {
   "cell_type": "markdown",
   "metadata": {},
   "source": [
    "## Drawbacks using Arrays\n",
    "\n",
    "\n",
    "___\n",
    "\n",
    "$$\n",
    "\\begin{array}{r}\n",
    "\\require{AMScd}\n",
    "&&&&@V V V _{f=2}&&@V V V _{r=5}\\\\\n",
    "\\end{array}\n",
    "$$\n",
    "\n",
    "$$\n",
    "\\newcommand\\T{\\Rule{0pt}{1em}{.3em}}\n",
    "\\begin{array}{|r|r|r|r|r|}\n",
    "\\hline \n",
    "\\T&\\T&\\T& 8\\T& 10\\T&6 \\\\\\hline\n",
    "_{0}\\T&_{1}\\T&_{2} \\T&_{3}\\T&_{4} \\T&_{5} \\\\\\hline\n",
    "\\hline\n",
    "\\end{array}\n",
    "$$\n",
    "\n",
    "Drawback, queue is full, as per rear pointer, but there is vacant space in front of front pointer\n",
    "\n",
    "\n",
    "Two types of solutions to the above drawbacks:\n",
    "\n",
    "1. Resetting pointers\n",
    "2. Circular Queues\n",
    "\n",
    "\n"
   ]
  },
  {
   "cell_type": "markdown",
   "metadata": {},
   "source": [
    "##  Resetting pointers\n",
    "\n",
    "___\n",
    "\n",
    "How does this work:\n",
    "\n",
    "When queue becomes empty, move rear and front to start and make it -1, that is re-initialise to -1. So they can start from the beginning again.\n",
    "\n",
    "But this means the queue has to become empty to reset the pointer. And it may not become empty. So this is a problem.\n",
    "\n",
    "\n",
    "\n"
   ]
  },
  {
   "cell_type": "code",
   "execution_count": 1,
   "metadata": {},
   "outputs": [],
   "source": [
    "#include <iostream>\n",
    "#include <climits>\n",
    "#include <math.h>\n",
    "#define INSERTION_OPERATOR operator<<\n",
    "#define EXTRACTION_OPERATOR operator>>\n",
    "#define ADDITION_OPERATOR operator+\n",
    "using namespace std;"
   ]
  },
  {
   "cell_type": "code",
   "execution_count": 2,
   "metadata": {},
   "outputs": [],
   "source": [
    "class Queue{\n",
    "private:\n",
    "  int size;\n",
    "  int front;\n",
    "  int rear;\n",
    "  int *Q;  \n",
    "    \n",
    "public:\n",
    "    Queue(){\n",
    "        size=10;\n",
    "        front = rear = -1;\n",
    "        Q=new int[10];\n",
    "       \n",
    "        \n",
    "    }\n",
    "    Queue(int sz){\n",
    "        size=sz;\n",
    "        front = rear = -1;\n",
    "        Q=new int[sz];\n",
    "    }\n",
    "    ~Queue(){\n",
    "        delete []Q;\n",
    "    }\n",
    "    void Display();\n",
    "    void EnQueue(int x);\n",
    "    int DeQueue();\n",
    "    int IsFull();\n",
    "    int IsEmpty();\n",
    "    \n",
    "}"
   ]
  },
  {
   "cell_type": "code",
   "execution_count": 3,
   "metadata": {},
   "outputs": [],
   "source": [
    "void Queue::EnQueue(int x){\n",
    "   if (IsFull())\n",
    "      cout<<\"Queue Full\"<<endl;\n",
    "    else\n",
    "    {\n",
    "      rear++;\n",
    "      Q[rear] =x; \n",
    "    }\n",
    "    \n",
    "}"
   ]
  },
  {
   "cell_type": "code",
   "execution_count": 4,
   "metadata": {},
   "outputs": [],
   "source": [
    "int Queue::DeQueue (){\n",
    "    int x=-1;\n",
    "    if (IsEmpty())\n",
    "      cout<<\"Queue Empty\"<<endl;\n",
    "    else\n",
    "    {\n",
    "      front++;\n",
    "      x=Q[front];\n",
    "    }\n",
    "    return x;\n",
    "}"
   ]
  },
  {
   "cell_type": "code",
   "execution_count": 5,
   "metadata": {},
   "outputs": [],
   "source": [
    "int Queue::IsFull(){\n",
    "    if (rear==size-1)\n",
    "       return 1;\n",
    "    return 0;\n",
    "}"
   ]
  },
  {
   "cell_type": "code",
   "execution_count": 6,
   "metadata": {},
   "outputs": [],
   "source": [
    "int Queue::IsEmpty(){\n",
    "     if (rear==front)\n",
    "      return 1;\n",
    "    return 0;\n",
    "}"
   ]
  },
  {
   "cell_type": "code",
   "execution_count": 7,
   "metadata": {},
   "outputs": [],
   "source": [
    "void Queue::Display (){\n",
    "   for (int i = front+1; i<=rear; i++)\n",
    "   {\n",
    "     cout<<Q[i]<<\" \";\n",
    "   }\n",
    "   cout<<endl;\n",
    "}"
   ]
  },
  {
   "cell_type": "code",
   "execution_count": 8,
   "metadata": {},
   "outputs": [
    {
     "name": "stdout",
     "output_type": "stream",
     "text": [
      "10 20 30 40 50 \n"
     ]
    }
   ],
   "source": [
    "Queue q(5);\n",
    "q.EnQueue(10);\n",
    "q.EnQueue(20);\n",
    "q.EnQueue(30);\n",
    "q.EnQueue(40);\n",
    "q.EnQueue(50);\n",
    "q.Display();"
   ]
  },
  {
   "cell_type": "markdown",
   "metadata": {},
   "source": [
    "## Queue - Queue is Full"
   ]
  },
  {
   "cell_type": "code",
   "execution_count": 9,
   "metadata": {},
   "outputs": [
    {
     "name": "stdout",
     "output_type": "stream",
     "text": [
      "Queue Full\n"
     ]
    }
   ],
   "source": [
    "q.EnQueue(60);"
   ]
  },
  {
   "cell_type": "markdown",
   "metadata": {},
   "source": [
    "## Queue Underflow - Queue is Empty"
   ]
  },
  {
   "cell_type": "code",
   "execution_count": 10,
   "metadata": {},
   "outputs": [
    {
     "name": "stdout",
     "output_type": "stream",
     "text": [
      "Queue Empty\n"
     ]
    }
   ],
   "source": [
    "q.DeQueue();\n",
    "q.DeQueue();\n",
    "q.DeQueue();\n",
    "q.DeQueue();\n",
    "q.DeQueue();\n",
    "q.DeQueue();"
   ]
  },
  {
   "cell_type": "code",
   "execution_count": 11,
   "metadata": {},
   "outputs": [
    {
     "name": "stdout",
     "output_type": "stream",
     "text": [
      "\n"
     ]
    }
   ],
   "source": [
    "q.Display();"
   ]
  },
  {
   "cell_type": "code",
   "execution_count": null,
   "metadata": {},
   "outputs": [],
   "source": []
  },
  {
   "cell_type": "code",
   "execution_count": null,
   "metadata": {},
   "outputs": [],
   "source": []
  },
  {
   "cell_type": "code",
   "execution_count": null,
   "metadata": {},
   "outputs": [],
   "source": []
  }
 ],
 "metadata": {
  "kernelspec": {
   "display_name": "C++17",
   "language": "C++17",
   "name": "xcpp17"
  },
  "language_info": {
   "codemirror_mode": "text/x-c++src",
   "file_extension": ".cpp",
   "mimetype": "text/x-c++src",
   "name": "c++",
   "version": "-std=c++17"
  }
 },
 "nbformat": 4,
 "nbformat_minor": 2
}

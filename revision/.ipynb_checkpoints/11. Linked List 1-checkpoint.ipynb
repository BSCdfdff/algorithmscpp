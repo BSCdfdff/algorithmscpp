{
 "cells": [
  {
   "cell_type": "markdown",
   "metadata": {},
   "source": [
    "# Messing with\n",
    "\n",
    "1. Linked Lists.\n",
    "    Main point point here(given our broad knowledge NOW :-) ) is a bit convaluted: Its uses array to demonstrated how we looop through a linked list in the second constructor (```LinkedList(int A[], int n)```). Lets feslg this function out: We using an array to populate a node, thats the essence. Set the first node (data) (first need to create it) equal to first element of array, and loop the rest of array elements to populate the nodes.Other point a pointer can only be defined in Heap. Also ```*next```, ```*first``` is also arbitrary, as we can use any variable name for this. \n",
    "    Covering  : Insert (Head, and any index position), Delete(Head, Tail, and any position), and Display\n",
    "\n",
    "\n",
    "2. Recursion.\n",
    "    Firstly, declare a global pointer of the class node (```*f```). This will allow us to pass the Node class as a parameter (to recursive function). Then inside ```LinkedList```, you assign ```first``` to ```f```. A better approach is to make ```first``` public. Of make a getter function for ```first```. The Fuction ```GetFirst()```, probably a safer bet.\n",
    "    \n",
    "3. Counting nodes, Max Value using recursion, \n",
    "\n",
    "4. Search (Recursive, Loop, Improved Recursive Search)\n",
    "    "
   ]
  },
  {
   "cell_type": "code",
   "execution_count": 1,
   "metadata": {},
   "outputs": [],
   "source": [
    "#include <iostream>\n",
    "#include <climits>\n",
    "#include <bitset>\n",
    "#include <math.h>\n",
    "#include <string>\n",
    "#define INSERTION_OPERATOR operator>>\n",
    "#define EXTRACTION_OPERATOR operator<<\n",
    "\n",
    "#define ADDITION_OPERATOR operator+\n",
    "#define SUBTRACT_OPERATOR operator-\n",
    "#define nn 8\n",
    "//#define n 16\n",
    "using namespace std;"
   ]
  },
  {
   "cell_type": "markdown",
   "metadata": {},
   "source": [
    "## Here we go..."
   ]
  },
  {
   "cell_type": "code",
   "execution_count": 2,
   "metadata": {},
   "outputs": [],
   "source": [
    "class Node{\n",
    "public:    \n",
    "    int data;\n",
    "    Node *next;\n",
    "}*f=NULL;"
   ]
  },
  {
   "cell_type": "code",
   "execution_count": 3,
   "metadata": {},
   "outputs": [],
   "source": [
    "class LinkedList{\n",
    "private:\n",
    "    Node *first;\n",
    "public:    \n",
    "    LinkedList(){\n",
    "        //first = NULL;\n",
    "        first = new Node();\n",
    "    }\n",
    "    LinkedList(int A[], int n);\n",
    "    ~LinkedList();\n",
    "    void Display();\n",
    "    int Len();\n",
    "    int Delete(int index);\n",
    "    void Insert(int index, int x);\n",
    "    Node* GetFirst();\n",
    "    void Recurse_Display_Tail(Node *p);\n",
    "    void Recurse_Display_Head(Node *p);\n",
    "    int Recurse_CountNodes_Tail(Node *p);\n",
    "    int Recurse_MaxValueinNode_Tail(Node *p);\n",
    "    int Recurse_SearchKey(Node *p, int key);\n",
    "    int Loop_SearchKey(int key);\n",
    "    Node* Loop_ImprovedSearchKey(Node *p,int key);\n",
    "    \n",
    "};"
   ]
  },
  {
   "cell_type": "code",
   "execution_count": 4,
   "metadata": {},
   "outputs": [],
   "source": [
    "Node* LinkedList::Loop_ImprovedSearchKey(Node *p,int key){\n",
    "    Node  *q = new Node();\n",
    "    \n",
    "    while(p){\n",
    "        q=p;\n",
    "        p=p->next;\n",
    "        if (p->data==key){\n",
    "            q->next=p->next;\n",
    "            p->next=first;\n",
    "            first =p;\n",
    "            return p;\n",
    "        }\n",
    "    }\n",
    "    \n",
    "   return NULL;\n",
    "    \n",
    "}"
   ]
  },
  {
   "cell_type": "code",
   "execution_count": 5,
   "metadata": {},
   "outputs": [],
   "source": [
    "int LinkedList::Loop_SearchKey(int key){\n",
    "    \n",
    "    Node *p = new Node();\n",
    "    p=first;\n",
    "    \n",
    "    while(p){\n",
    "        if (p->data==key){\n",
    "            return p->data;\n",
    "        }\n",
    "        p=p->next;\n",
    "    }\n",
    "    return -1;    \n",
    "}"
   ]
  },
  {
   "cell_type": "code",
   "execution_count": 6,
   "metadata": {},
   "outputs": [],
   "source": [
    "int LinkedList::Recurse_SearchKey(Node *p, int key){\n",
    "    \n",
    "    static int x = -1;\n",
    "    \n",
    "    if (p==NULL){\n",
    "        return x;\n",
    "    }        \n",
    "    \n",
    "    if (p->data==key){\n",
    "        return p->data;\n",
    "    }\n",
    "    else{\n",
    "        return Recurse_SearchKey(p->next, key);\n",
    "    }\n",
    "    \n",
    "}"
   ]
  },
  {
   "cell_type": "code",
   "execution_count": 7,
   "metadata": {},
   "outputs": [],
   "source": [
    "int LinkedList::Recurse_MaxValueinNode_Tail(Node *p){\n",
    "    static int x=0, MIN_INT;\n",
    "    \n",
    "    if (p==NULL){\n",
    "        return MIN_INT;\n",
    "    }        \n",
    "    \n",
    "    x=Recurse_MaxValueinNode_Tail(p->next);\n",
    "    \n",
    "    cout<<\"x = \"<<x<<endl;\n",
    "    \n",
    "    return x >p->data?x:p->data;\n",
    "}"
   ]
  },
  {
   "cell_type": "code",
   "execution_count": 8,
   "metadata": {},
   "outputs": [],
   "source": [
    "int LinkedList::Recurse_CountNodes_Tail(Node *p){\n",
    "    static int cnt=0;\n",
    "    if (p != NULL){\n",
    "        \n",
    "        return Recurse_CountNodes_Tail(p->next)+1;\n",
    "    }\n",
    "    \n",
    "    return 0;\n",
    "}"
   ]
  },
  {
   "cell_type": "code",
   "execution_count": 9,
   "metadata": {},
   "outputs": [],
   "source": [
    "Node* LinkedList::GetFirst(){\n",
    "    return first;    \n",
    "}"
   ]
  },
  {
   "cell_type": "code",
   "execution_count": 10,
   "metadata": {},
   "outputs": [],
   "source": [
    "void LinkedList::Recurse_Display_Head(Node *p){\n",
    "    \n",
    "    if (p != NULL){\n",
    "        Recurse_Display_Head(p->next);\n",
    "        cout<<p->data<<endl;\n",
    "    }\n",
    "}"
   ]
  },
  {
   "cell_type": "code",
   "execution_count": 11,
   "metadata": {},
   "outputs": [],
   "source": [
    "void LinkedList::Recurse_Display_Tail(Node *p){\n",
    "    \n",
    "    if (p != NULL){\n",
    "        cout<<p->data<<endl;\n",
    "        Recurse_Display_Tail(p->next);\n",
    "    }\n",
    "}"
   ]
  },
  {
   "cell_type": "code",
   "execution_count": 12,
   "metadata": {},
   "outputs": [],
   "source": [
    "void LinkedList::Insert(int index, int x){\n",
    "    \n",
    "    Node *p=new Node;\n",
    "    p=first;\n",
    "    \n",
    "    if (index==0) {\n",
    "        Node *t = new Node();\n",
    "        t->data = x;\n",
    "        t->next=first;\n",
    "        first=t;\n",
    "    }    \n",
    "    else{\n",
    "        \n",
    "        for (int i=0;i < index; i++){\n",
    "            p=p->next;\n",
    "        }\n",
    "        \n",
    "        Node *t = new Node();\n",
    "        t->data = x;\n",
    "        t->next=p->next;\n",
    "        p->next=t;\n",
    "    }    \n",
    "    \n",
    "}"
   ]
  },
  {
   "cell_type": "code",
   "execution_count": 13,
   "metadata": {},
   "outputs": [],
   "source": [
    "int LinkedList::Delete(int index){\n",
    "    Node *q, *p;\n",
    "    int x= -1;\n",
    "    \n",
    "    if (index < 0){\n",
    "        return -1;\n",
    "    }\n",
    "    \n",
    "    if (index == 0){\n",
    "       p=first;\n",
    "       first = first->next;\n",
    "       x=p->data;\n",
    "       delete p;\n",
    "    }else{\n",
    "       p=first; \n",
    "       \n",
    "        for (int i =0;i < index; i++){\n",
    "            q=p;\n",
    "            p=p->next;\n",
    "        }\n",
    "        \n",
    "        cout<<\"q = \"<<q->data<<endl;\n",
    "        cout<<\"p = \"<<p->data<<endl;\n",
    "        \n",
    "        q->next=p->next;\n",
    "        x=p->data;\n",
    "        delete p;\n",
    "    }\n",
    "    return x;\n",
    "}"
   ]
  },
  {
   "cell_type": "code",
   "execution_count": 14,
   "metadata": {},
   "outputs": [],
   "source": [
    "LinkedList::~LinkedList(){\n",
    "    \n",
    "    Node *p = new Node();\n",
    "    p=first;\n",
    "\n",
    "    while(first){\n",
    "        cout<<\"p->data = \"<<p->data<<endl;\n",
    "        first = first->next;\n",
    "        delete p;\n",
    "        p=first;\n",
    "    }\n",
    "}\n"
   ]
  },
  {
   "cell_type": "code",
   "execution_count": 15,
   "metadata": {},
   "outputs": [],
   "source": [
    "int LinkedList::Len(){\n",
    "    Node *p = new Node();\n",
    "    p=first;\n",
    "    int len=0;\n",
    "    while(p){\n",
    "        len++;\n",
    "        p=p->next;\n",
    "    }\n",
    "    \n",
    "    return len;\n",
    "}"
   ]
  },
  {
   "cell_type": "code",
   "execution_count": 16,
   "metadata": {},
   "outputs": [],
   "source": [
    "LinkedList::LinkedList(int A[], int n){\n",
    "    Node *last, *t;\n",
    "    \n",
    "   \n",
    "    \n",
    "    first = new Node();\n",
    "    last= new Node();\n",
    "    \n",
    "    first->data=A[0];\n",
    "    //f=first;              //To be removed\n",
    "    first->next=NULL;\n",
    "    last = first;\n",
    "    \n",
    "    for (int i = 1; i < n;i++){\n",
    "        \n",
    "        t = new Node();\n",
    "        t->data = A[i];\n",
    "        t->next = NULL;\n",
    "        \n",
    "        last->next=t;\n",
    "        last=t;\n",
    "        \n",
    "    }\n",
    "    \n",
    "};"
   ]
  },
  {
   "cell_type": "code",
   "execution_count": 17,
   "metadata": {},
   "outputs": [],
   "source": [
    "void LinkedList::Display(){\n",
    "    Node *p=new Node();\n",
    "    p=first;\n",
    "    \n",
    "    while(p){\n",
    "        cout<<p->data<<\" \";\n",
    "        p=p->next;\n",
    "    }\n",
    "    cout<<endl;\n",
    "    \n",
    "};"
   ]
  },
  {
   "cell_type": "code",
   "execution_count": 18,
   "metadata": {},
   "outputs": [
    {
     "name": "stdout",
     "output_type": "stream",
     "text": [
      "10\n",
      "0\n"
     ]
    }
   ],
   "source": [
    "Node *p = new Node();\n",
    "p->data=10;\n",
    "p->next = NULL;\n",
    "cout<<p->data<<endl;\n",
    "cout<<p->next<<endl;"
   ]
  },
  {
   "cell_type": "code",
   "execution_count": null,
   "metadata": {},
   "outputs": [],
   "source": []
  },
  {
   "cell_type": "code",
   "execution_count": 19,
   "metadata": {},
   "outputs": [
    {
     "name": "stdout",
     "output_type": "stream",
     "text": [
      "3 4 5 10 11 \n",
      "5\n",
      "q = 5\n",
      "p = 10\n",
      "10\n",
      "3 4 5 11 \n",
      "3 4 5 10 11 \n",
      "1 3 4 5 10 11 \n"
     ]
    }
   ],
   "source": [
    "int A[5]={3,4,5,10,11};\n",
    "int n = 5;\n",
    "LinkedList l(A,n);\n",
    "l.Display();\n",
    "cout<<l.Len()<<endl;\n",
    "cout<<l.Delete(3)<<endl;\n",
    "l.Display();\n",
    "l.Insert(2,10);\n",
    "l.Display();\n",
    "l.Insert(0,1);\n",
    "l.Display();\n",
    "//l.~LinkedList(); //\n"
   ]
  },
  {
   "cell_type": "code",
   "execution_count": 20,
   "metadata": {},
   "outputs": [
    {
     "name": "stdout",
     "output_type": "stream",
     "text": [
      "1\n",
      "3\n",
      "4\n",
      "5\n",
      "10\n",
      "11\n"
     ]
    }
   ],
   "source": [
    "//l.Recurse_Display_Tail(l.first);\n",
    "l.Recurse_Display_Tail(l.GetFirst());"
   ]
  },
  {
   "cell_type": "code",
   "execution_count": 21,
   "metadata": {},
   "outputs": [
    {
     "name": "stdout",
     "output_type": "stream",
     "text": [
      "11\n",
      "10\n",
      "5\n",
      "4\n",
      "3\n",
      "1\n"
     ]
    }
   ],
   "source": [
    "l.Recurse_Display_Head(l.GetFirst());"
   ]
  },
  {
   "cell_type": "code",
   "execution_count": 22,
   "metadata": {},
   "outputs": [
    {
     "name": "stdout",
     "output_type": "stream",
     "text": [
      "Tail Count = 6\n"
     ]
    }
   ],
   "source": [
    "cout<<\"Tail Count = \"<<l.Recurse_CountNodes_Tail(l.GetFirst())<<endl;"
   ]
  },
  {
   "cell_type": "code",
   "execution_count": 23,
   "metadata": {},
   "outputs": [
    {
     "name": "stdout",
     "output_type": "stream",
     "text": [
      "Max Value = x = 0\n",
      "x = 11\n",
      "x = 11\n",
      "x = 11\n",
      "x = 11\n",
      "x = 11\n",
      "11\n"
     ]
    }
   ],
   "source": [
    "cout<<\"Max Value = \"<<l.Recurse_MaxValueinNode_Tail(l.GetFirst())<<endl;"
   ]
  },
  {
   "cell_type": "code",
   "execution_count": 24,
   "metadata": {},
   "outputs": [
    {
     "name": "stdout",
     "output_type": "stream",
     "text": [
      "1 3 4 5 10 11 \n",
      "Search Found Key found = 10\n"
     ]
    }
   ],
   "source": [
    "l.Display();\n",
    "cout<<\"Search Found Key found = \"<<l.Recurse_SearchKey(l.GetFirst(),10)<<endl;"
   ]
  },
  {
   "cell_type": "code",
   "execution_count": 25,
   "metadata": {},
   "outputs": [
    {
     "name": "stdout",
     "output_type": "stream",
     "text": [
      "1 3 4 5 10 11 \n",
      "Search Found Key found = 5\n",
      "p->data = 1\n",
      "p->data = 3\n",
      "p->data = 4\n",
      "p->data = 5\n",
      "p->data = 10\n",
      "p->data = 11\n"
     ]
    }
   ],
   "source": [
    "l.Display();\n",
    "cout<<\"Search Found Key found = \"<<l.Loop_SearchKey(5)<<endl;\n",
    "l.~LinkedList(); "
   ]
  },
  {
   "cell_type": "code",
   "execution_count": 26,
   "metadata": {},
   "outputs": [
    {
     "name": "stdout",
     "output_type": "stream",
     "text": [
      "3 4 5 10 11 \n",
      "Moved to HEAD (Search Found Key found) = 0x5598268f45e0\n",
      "10 3 4 5 11 \n",
      "p->data = 10\n",
      "p->data = 3\n",
      "p->data = 4\n",
      "p->data = 5\n",
      "p->data = 11\n"
     ]
    }
   ],
   "source": [
    "int B[5]={3,4,5,10,11};\n",
    "int m = 5;\n",
    "LinkedList ll(B,m);\n",
    "ll.Display();\n",
    "cout<<\"Moved to HEAD (Search Found Key found) = \"<<ll.Loop_ImprovedSearchKey(ll.GetFirst(),10)<<endl;\n",
    "ll.Display();\n",
    "ll.~LinkedList(); "
   ]
  },
  {
   "cell_type": "code",
   "execution_count": null,
   "metadata": {},
   "outputs": [],
   "source": []
  },
  {
   "cell_type": "code",
   "execution_count": null,
   "metadata": {},
   "outputs": [],
   "source": []
  },
  {
   "cell_type": "code",
   "execution_count": null,
   "metadata": {},
   "outputs": [],
   "source": []
  },
  {
   "cell_type": "code",
   "execution_count": null,
   "metadata": {},
   "outputs": [],
   "source": []
  }
 ],
 "metadata": {
  "kernelspec": {
   "display_name": "C++17",
   "language": "C++17",
   "name": "xcpp17"
  },
  "language_info": {
   "codemirror_mode": "text/x-c++src",
   "file_extension": ".cpp",
   "mimetype": "text/x-c++src",
   "name": "c++",
   "version": "17"
  }
 },
 "nbformat": 4,
 "nbformat_minor": 2
}

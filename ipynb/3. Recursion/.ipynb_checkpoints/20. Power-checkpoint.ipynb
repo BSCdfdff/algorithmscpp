{
 "cells": [
  {
   "cell_type": "markdown",
   "metadata": {},
   "source": [
    "# Power"
   ]
  },
  {
   "cell_type": "markdown",
   "metadata": {},
   "source": [
    "## Power\n",
    "\n",
    "Exponent $(m)^n$\n",
    "\n",
    "$2^5 = 1\\times2\\times3\\times4\\times5$\n",
    "\n",
    "$m^n = m\\times\\text{m}\\times\\text{m}\\times\\text{m}\\times\\text{m }\\times..\\text{for n times}$\n",
    "\n",
    "$pow(m,n) = (m\\times\\text{m}\\times\\text{m}\\times\\text{m }\\times..\\times\\ $${n-1}$ times)$× m$\n",
    "\n",
    "$pow(m,n) =pow(m, n-1) × m$\n",
    "\n",
    "\n",
    "\n",
    "**And this is our recursive definition, which we can now convert to recursive function**\n",
    "\n",
    "$$ $$\n",
    "\n",
    "$$ $$\n",
    "\n",
    "\n",
    "$$\n",
    "pow(m,n) =\n",
    "\\begin{cases}\n",
    "1  & \\text{where $n = 0$ (Base Condition)} \\\\\n",
    "\\\\ \n",
    "pow(m,n-1)×m & \\text{where $n > 0$}\n",
    "\\end{cases}\n",
    "$$\n",
    "\n",
    "\n",
    "$$ $$\n",
    "\n",
    "$$ $$\n"
   ]
  },
  {
   "cell_type": "markdown",
   "metadata": {},
   "source": [
    "## Power Recursive Function\n",
    "\n",
    "Where value of n=9, it has made a total of 10 calls, n+ 1 calls.\n",
    "\n",
    "Number of activation records on stack is dependent on no of calls.\n",
    "\n",
    "So how many multiplication calls are made? 9 times\n",
    "\n",
    "Space/Memory\n",
    "\n",
    "$O(n)$\n",
    "\n",
    "Time Taken\n",
    "\n",
    "$O(n)$\n",
    "\n",
    "\n",
    "\n",
    "Is it possible to compute the answer with less number of calls?\n",
    "\n",
    "**We know that:**\n",
    "\n",
    "$2^8$\n",
    "\n",
    "**can be written as:**\n",
    "\n",
    "$(2^2)^4$\n",
    "\n",
    "$(2*2)^4$\n",
    "\n",
    "So if I do one multiplication on the same value multiplication will be reduced by half\n",
    "\n",
    "**So for (can be written as):**\n",
    "\n",
    "$2^9 = 2*(2^2)^4$ \n",
    "\n",
    "So from the observations of the above, if the power is even I can directly half it out, and for an odd power, I take one multiplication extra, then half it out.\n",
    "\n",
    "**Even**:\n",
    "\n",
    "$2^8 = (2^2)^4$ \n",
    "\n",
    "**Odd**:\n",
    "\n",
    "$2^9 = 2*(2^2)^4$ \n",
    "\n",
    "**How does does this affect the time and space complexity now?**\n",
    "\n",
    "\n",
    "Lets rewrite the power function....\n"
   ]
  },
  {
   "cell_type": "code",
   "execution_count": 1,
   "metadata": {},
   "outputs": [],
   "source": [
    "#include <iostream>\n",
    "#include <climits>\n",
    "#include <math.h>\n",
    "using namespace std;"
   ]
  },
  {
   "cell_type": "code",
   "execution_count": 2,
   "metadata": {},
   "outputs": [],
   "source": [
    "int pow(int m,int n);"
   ]
  },
  {
   "cell_type": "code",
   "execution_count": 3,
   "metadata": {},
   "outputs": [],
   "source": [
    "int pow(int m, int n){              \n",
    "    if (n ==0)                \n",
    "       return 1;   \n",
    "    return pow(m,n-1)*m;              \n",
    "}"
   ]
  },
  {
   "cell_type": "code",
   "execution_count": 4,
   "metadata": {},
   "outputs": [],
   "source": [
    "int y=2, x=9, z=0;\n",
    "z =pow(y,x);\n"
   ]
  },
  {
   "cell_type": "code",
   "execution_count": 5,
   "metadata": {},
   "outputs": [
    {
     "name": "stdout",
     "output_type": "stream",
     "text": [
      "512\n"
     ]
    }
   ],
   "source": [
    "cout<<z<<endl; "
   ]
  },
  {
   "cell_type": "markdown",
   "metadata": {},
   "source": [
    "## Reduced Size and speed Power Function\n",
    "\n",
    "How many multiplications\n",
    "\n",
    "We have done 6 multiplications to get answer\n",
    "\n",
    "So this works faster.\n",
    "\n",
    "\n",
    "Space/Memory\n",
    "\n",
    "\n",
    "\n",
    "Time Taken\n",
    "\n"
   ]
  },
  {
   "cell_type": "code",
   "execution_count": 6,
   "metadata": {},
   "outputs": [],
   "source": [
    "int pow2(int m,int n);"
   ]
  },
  {
   "cell_type": "code",
   "execution_count": 7,
   "metadata": {},
   "outputs": [],
   "source": [
    "int pow2(int m, int n){              \n",
    "    if (n ==0)                \n",
    "       return 1;   \n",
    "    if(n%2==0)\n",
    "      return pow(m*m,n/2);\n",
    "    else\n",
    "      return m*pow(m*m,n/2);\n",
    "}"
   ]
  },
  {
   "cell_type": "code",
   "execution_count": 8,
   "metadata": {},
   "outputs": [],
   "source": [
    "int a=2, b=9, c=0;\n",
    "c =pow2(a,b);"
   ]
  },
  {
   "cell_type": "code",
   "execution_count": 9,
   "metadata": {},
   "outputs": [
    {
     "name": "stdout",
     "output_type": "stream",
     "text": [
      "512\n"
     ]
    }
   ],
   "source": [
    "cout<<c<<endl; "
   ]
  },
  {
   "cell_type": "code",
   "execution_count": null,
   "metadata": {},
   "outputs": [],
   "source": []
  }
 ],
 "metadata": {
  "kernelspec": {
   "display_name": "C++17",
   "language": "C++17",
   "name": "xcpp17"
  },
  "language_info": {
   "codemirror_mode": "text/x-c++src",
   "file_extension": ".cpp",
   "mimetype": "text/x-c++src",
   "name": "c++",
   "version": "-std=c++17"
  }
 },
 "nbformat": 4,
 "nbformat_minor": 2
}

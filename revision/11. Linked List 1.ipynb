{
 "cells": [
  {
   "cell_type": "markdown",
   "metadata": {},
   "source": [
    "# Messing with\n",
    "\n",
    "1. Linked Lists.\n",
    "    Main point point here(given our broad knowledge NOW :-) ) is a bit convaluted: Its uses array to demonstrated how we looop through a linked list in the second constructor (```LinkedList(int A[], int n)```). Lets feslg this function out: We using an array to populate a node, thats the essence. Set the first node (data) (first need to create it) equal to first element of array, and loop the rest of array elements to populate the nodes.Other point a pointer can only be defined in Heap. Also ```*next```, ```*first``` is also arbitrary, as we can use any variable name for this. \n",
    "    Covering  : Insert (Head, and any index position), Delete(Head, Tail, and any position), and Display\n",
    "\n",
    "\n",
    "2. Recursion.\n",
    "    Firstly, declare a global pointer of the class node (```*f```). This will allow us to pass the Node class as a parameter (to recursive function). Then inside ```LinkedList```, you assign ```first``` to ```f```. A better approach is to make ```first``` public. Of make a getter function for ```first```. The Fuction ```GetFirst()```, probably a safer bet.\n",
    "    \n",
    "3. Counting nodes, Max Value using recursion, \n",
    "\n",
    "4. Search (Recursive, Loop, Improved Recursive Search)\n",
    "\n",
    "5. Insert into sorted list, check for sorted list. \n",
    "\n",
    "6. Reversing a list. Main Pointer here: 2 ways. First way: Moving elements. Start off with copying lists to array. Then, since the array is at the end. We start copying, decrementing, back to linked list. Kicker: Copy content of array into list, so set first=p to get to the start. Here we keeping the addresses the same, changing on the content.Second way is to use a loop or recursion. Using loop we have prev, current and next pointer. Then set the current pointer equal to previous pointer (```q->next=r```), an finally set first equal to q (last step, as we now at the beginning). Using recursion is even simpler. Since when we \"fall back\", thats when we chane the links.\n",
    "\n",
    "7. Merging (Concatenation) two sorted arrays. Main point here: Used my own way of doing it. Just like I used recursion the first tieme above in point 2.\n",
    "\n",
    "8. Check for loop. See how the loop is created first. My own way again.\n",
    "9. Circular loop (ideal where you scrooll on contacts on phone; so there is a need for it): How to display. Main point here: start with loop, where condition is checked, as end. That is usinf a do while loop, then in while give the true So loop until ```p!=first.```, So STOP is where ```p==first```, so continue is still ```p!=first.```. So works exactly the same as while loop. Except, with do while, it allows you first to enter the loop, the then check the condition. This is great to check a circle. Recursion one, also covered, and notes has covered it well. Main point we use ```cnt``` to enter the if the first time, and use ```p!=first.```, as out exit condition the second time the if if checked.\n",
    "10. Insert into Circular (not sorted list). At index position, same as linear. Inserting at head, we need to find first the last node. Main Point here. Set p = first, that is get past first, then we can use while, that is while ```p->next != first```. So final p->next out of while will be the last one. Then its easy from there. Also get len of circular. Also insert at last position, seem to give issues: one has to be mindful where the conting starts.\n",
    "\n",
    "11. Delete Circular. Good foundation with point 10 above, so this was easy.\n",
    "\n",
    "12. Doubly linked list - next page\n",
    "\n",
    "\n",
    "\n",
    "    "
   ]
  },
  {
   "cell_type": "code",
   "execution_count": 1,
   "metadata": {},
   "outputs": [],
   "source": [
    "#include <iostream>\n",
    "#include <climits>\n",
    "#include <bitset>\n",
    "#include <math.h>\n",
    "#include <string>\n",
    "#define INSERTION_OPERATOR operator>>\n",
    "#define EXTRACTION_OPERATOR operator<<\n",
    "\n",
    "#define ADDITION_OPERATOR operator+\n",
    "#define SUBTRACT_OPERATOR operator-\n",
    "#define nn 8\n",
    "//#define n 16\n",
    "using namespace std;"
   ]
  },
  {
   "cell_type": "markdown",
   "metadata": {},
   "source": [
    "## Here we go..."
   ]
  },
  {
   "cell_type": "code",
   "execution_count": 2,
   "metadata": {},
   "outputs": [],
   "source": [
    "class Node{\n",
    "public:    \n",
    "    int data;\n",
    "    Node *next;\n",
    "};"
   ]
  },
  {
   "cell_type": "code",
   "execution_count": 3,
   "metadata": {},
   "outputs": [],
   "source": [
    "class LinkedList{\n",
    "private:\n",
    "    Node *first;\n",
    "public:    \n",
    "    LinkedList(){\n",
    "        //first = NULL;\n",
    "        first = new Node();\n",
    "    }\n",
    "    LinkedList(int A[], int n);\n",
    "    ~LinkedList();\n",
    "    void Display();\n",
    "    void Display_LoopStop();\n",
    "    int Len();\n",
    "    \n",
    "    int Delete(int index);\n",
    "    void Insert(int index, int x);\n",
    "    Node* GetFirst();\n",
    "    void Recurse_Display_Tail(Node *p);\n",
    "    void Recurse_Display_Head(Node *p);\n",
    "    int Recurse_CountNodes_Tail(Node *p);\n",
    "    int Recurse_MaxValueinNode_Tail(Node *p);\n",
    "    int Recurse_SearchKey(Node *p, int key);\n",
    "    int Loop_SearchKey(int key);\n",
    "    Node* Loop_ImprovedSearchKey(Node *p,int key);\n",
    "    void Loop_InsertSortedList(int x);\n",
    "    int Loop_CheckifListSorted();\n",
    "    void Loop_RemoveDuplicatesInSorted();\n",
    "    void Loop_ReversingSortedList_ByElements();\n",
    "    void Loop_ReversingSortedList_ByAddressLinks();\n",
    "    void Recurse_ReversingSortedList_ByAddressLinks(Node *q, Node *p);\n",
    "    Node* Loop_MergingSortedlist(Node *q, Node *p,Node *r);\n",
    "    int Loop_CreateAndCheckforLoop();\n",
    "    int Loop_CheckforLoop();\n",
    "    void Loop_DisplayCircular();\n",
    "    void Recurse_DisplayCircular(Node *p);\n",
    "    int LenCircular();\n",
    "    void InsertCircular(int index, int x);\n",
    "    int DeleteCircular(int index);\n",
    "    \n",
    "    \n",
    "    \n",
    "};"
   ]
  },
  {
   "cell_type": "code",
   "execution_count": 4,
   "metadata": {},
   "outputs": [],
   "source": [
    "int LinkedList::DeleteCircular(int index){\n",
    "    \n",
    "    Node *p, *q, *last;\n",
    "    \n",
    "    int x = -1;\n",
    "    \n",
    "    p=first;\n",
    "    \n",
    "    if (index < 0 || index  > LenCircular() ) //Its called covering your ass\n",
    "        return x;               \n",
    "    \n",
    "    if (index==0){\n",
    "        if (first==NULL){             //Empty list, so nothing to delete\n",
    "            return x;\n",
    "        }\n",
    "        else{\n",
    "            last = first;\n",
    "            while(last->next !=first){   //Empty list, but need to get last value\n",
    "                last=last->next;\n",
    "            }\n",
    "            \n",
    "            x=p->data;\n",
    "            first = p->next;\n",
    "            last->next = p->next;\n",
    "            delete p;\n",
    "        }\n",
    "        \n",
    "    }else{\n",
    "       for (int i =1;i < index; i++){\n",
    "            q=p;\n",
    "            p=p->next;\n",
    "        }\n",
    "        \n",
    "        \n",
    "        q->next=p->next;\n",
    "        x=p->data;\n",
    "        delete p;\n",
    "        \n",
    "    }\n",
    "    \n",
    "    return x;\n",
    "};"
   ]
  },
  {
   "cell_type": "code",
   "execution_count": 5,
   "metadata": {},
   "outputs": [],
   "source": [
    "void LinkedList::InsertCircular(int index, int x){\n",
    "    \n",
    "    Node *p, *t;\n",
    "    \n",
    "    p=first;\n",
    "    \n",
    "    \n",
    "    if (index==0){\n",
    "        if (first==NULL){               //If have empty list\n",
    "            t = new Node();\n",
    "            t->data = x;\n",
    "            t->next=NULL;\n",
    "            first=t;\n",
    "        }\n",
    "        else{                          //Populated list, but inserting at HEAD, \n",
    "                                       // and need get last node, one just before First\n",
    "            while(p->next !=first){\n",
    "                p=p->next;\n",
    "            }\n",
    "            \n",
    "            \n",
    "            t = new Node();\n",
    "            t->data = x;\n",
    "            p->next=t;\n",
    "            t->next=first;\n",
    "            first=t;\n",
    "        }\n",
    "        \n",
    "    }else{\n",
    "       for (int i=1;i < index; i++){\n",
    "            p=p->next;\n",
    "        }\n",
    "        \n",
    "        \n",
    "        \n",
    "        Node *t = new Node();\n",
    "        t->data = x;\n",
    "        t->next=p->next;\n",
    "        p->next=t;  \n",
    "    }\n",
    "};"
   ]
  },
  {
   "cell_type": "code",
   "execution_count": 6,
   "metadata": {},
   "outputs": [],
   "source": [
    "int LinkedList::LenCircular(){\n",
    "    \n",
    "    Node *p;\n",
    "    p=first;\n",
    "    int cnt=0;\n",
    "    \n",
    "    do{\n",
    "        cnt++;\n",
    "        p=p->next;\n",
    "    }while(p!=first);\n",
    "   \n",
    "   \n",
    "    return cnt;\n",
    "};"
   ]
  },
  {
   "cell_type": "code",
   "execution_count": 7,
   "metadata": {},
   "outputs": [],
   "source": [
    "void LinkedList::Recurse_DisplayCircular(Node *p){\n",
    "    static int cnt = 0;\n",
    "    if (p!=first || cnt ==0){\n",
    "        cnt=1;\n",
    "        cout<<p->data<<\" \";\n",
    "        Recurse_DisplayCircular(p->next);\n",
    "    }    \n",
    "    \n",
    "};"
   ]
  },
  {
   "cell_type": "code",
   "execution_count": 8,
   "metadata": {},
   "outputs": [],
   "source": [
    "void LinkedList::Loop_DisplayCircular(){\n",
    "    \n",
    "    Node *p;\n",
    "    p=first;\n",
    "    \n",
    "    do{\n",
    "        cout<<p->data<<\" \";\n",
    "        p=p->next;\n",
    "    }while(p!=first );\n",
    "    cout<<endl;\n",
    "    \n",
    "};"
   ]
  },
  {
   "cell_type": "code",
   "execution_count": 9,
   "metadata": {},
   "outputs": [],
   "source": [
    "int LinkedList::Loop_CheckforLoop(){\n",
    "    \n",
    "    Node *p, *q;\n",
    "    p=q=first;\n",
    "    \n",
    "    do{\n",
    "        p=p->next;\n",
    "        q=q->next;\n",
    "        q=q?q->next:q;\n",
    "        \n",
    "    }while(p && q && p!=q);\n",
    "    \n",
    "    if (q==p)\n",
    "        return true;\n",
    "    else\n",
    "        return false;\n",
    "    \n",
    "}"
   ]
  },
  {
   "cell_type": "code",
   "execution_count": 10,
   "metadata": {},
   "outputs": [],
   "source": [
    "int LinkedList::Loop_CreateAndCheckforLoop(){\n",
    "    \n",
    "    Node *t1,*t2;\n",
    "    \n",
    "    t1=first;\n",
    "    t2=first->next->next->next;\n",
    "    \n",
    "    \n",
    "        \n",
    "    t2->next=t1;\n",
    "    t2=t2->next;\n",
    "    first = t2;\n",
    "    \n",
    "    \n",
    "    Node *p, *q;\n",
    "    p=q=first;\n",
    "    int cnt = 0;\n",
    "    do{\n",
    "        cnt++;\n",
    "        p=p->next;\n",
    "        q=q->next;\n",
    "        q=q?q->next:q;\n",
    "        \n",
    "    }while(p && q && p!=q);\n",
    "    \n",
    "    cout<<\"cnt = \"<<cnt<<endl;\n",
    "    if (q==p)\n",
    "        return true;\n",
    "    else\n",
    "        return false;\n",
    "    \n",
    "}\n"
   ]
  },
  {
   "cell_type": "code",
   "execution_count": 11,
   "metadata": {},
   "outputs": [],
   "source": [
    "Node* LinkedList::Loop_MergingSortedlist(Node *p, Node *q,Node *r){\n",
    " \n",
    "      \n",
    "    if (p->data < q->data){\n",
    "         r=p;\n",
    "         first=r;\n",
    "         p=p->next;\n",
    "    }\n",
    "    else{\n",
    "        r=q;\n",
    "        first=r;\n",
    "        q=q->next;\n",
    "    }\n",
    "        \n",
    "     \n",
    "    while(p && q){\n",
    "        if (p->data < q->data){\n",
    "            r->next=p;\n",
    "            r=p;\n",
    "            p=p->next;\n",
    "            r->next=NULL;\n",
    "            \n",
    "        }\n",
    "        else{\n",
    "            r->next=q;\n",
    "            r=q;\n",
    "            q=q->next;\n",
    "            r->next=NULL;\n",
    "        }\n",
    "    }\n",
    "    \n",
    "    if(p) r->next=p;\n",
    "    if(q) r->next=q;\n",
    "    \n",
    "    return r;\n",
    "    \n",
    "    \n",
    "    \n",
    "}\n"
   ]
  },
  {
   "cell_type": "code",
   "execution_count": 12,
   "metadata": {},
   "outputs": [],
   "source": [
    "void LinkedList::Recurse_ReversingSortedList_ByAddressLinks(Node *q, Node *p){\n",
    "    \n",
    "    if (p==NULL){\n",
    "       first = q; \n",
    "    }else{\n",
    "        \n",
    "        //q=p;\n",
    "        //Recurse_ReversingSortedList_ByAddressLinks(q,p->next);\n",
    "        //p->next=q;\n",
    "        Recurse_ReversingSortedList_ByAddressLinks(p,p->next);\n",
    "        p->next=q;\n",
    "    }\n",
    "}"
   ]
  },
  {
   "cell_type": "code",
   "execution_count": 13,
   "metadata": {},
   "outputs": [],
   "source": [
    "void LinkedList::Loop_ReversingSortedList_ByAddressLinks(){\n",
    "    Node *p,*r, *q  = new Node();\n",
    "    \n",
    "    r, q=NULL;\n",
    "    p = first;\n",
    "    \n",
    "    \n",
    "    \n",
    "     while(p){\n",
    "         r=q;\n",
    "         q=p;  //first initially\n",
    "         p=p->next; //will go over null\n",
    "         q->next = r; //(link backwards)\n",
    "     }\n",
    "    \n",
    "    first = q;\n",
    "   \n",
    "}"
   ]
  },
  {
   "cell_type": "code",
   "execution_count": 14,
   "metadata": {},
   "outputs": [],
   "source": [
    "void LinkedList::Loop_ReversingSortedList_ByElements(){\n",
    "    Node *p = new Node();\n",
    "    \n",
    "    int *A = new int[Len()];\n",
    "    int i =0;\n",
    "    p = first;\n",
    "    \n",
    "     while(p){\n",
    "         A[i]=p->data;\n",
    "         p=p->next;\n",
    "         i++;\n",
    "     }\n",
    "    \n",
    "    \n",
    "    p=first;\n",
    "    i--;\n",
    "    for(;i>=0;i--){\n",
    "        p->data=A[i];\n",
    "        p=p->next;\n",
    "    }\n",
    " \n",
    "    \n",
    "}"
   ]
  },
  {
   "cell_type": "code",
   "execution_count": 15,
   "metadata": {},
   "outputs": [],
   "source": [
    "void LinkedList::Loop_RemoveDuplicatesInSorted(){\n",
    "    Node  *p, *q = new Node();\n",
    "\n",
    "    q=first;\n",
    "    p=q->next;\n",
    "    int x= -32000;\n",
    "    \n",
    "    while(p){\n",
    "        if (p->data ==q->data)\n",
    "        {\n",
    "            q->next=p->next;\n",
    "            delete p;\n",
    "            p=q->next;\n",
    "        }   \n",
    "        else{ \n",
    "            q=p;\n",
    "            p=p->next;\n",
    "        }\n",
    "    }\n",
    "    \n",
    "}"
   ]
  },
  {
   "cell_type": "code",
   "execution_count": 16,
   "metadata": {},
   "outputs": [],
   "source": [
    "int LinkedList::Loop_CheckifListSorted(){\n",
    "    Node  *p = new Node();\n",
    "    \n",
    "    int x= -32000;\n",
    "    \n",
    "    p=first;\n",
    "    \n",
    "    while(p){\n",
    "        if (p->data < x)\n",
    "            return -1;\n",
    "        x=p->data;\n",
    "        p=p->next;\n",
    "        \n",
    "    }\n",
    "    \n",
    "    return 1;\n",
    "}"
   ]
  },
  {
   "cell_type": "code",
   "execution_count": 17,
   "metadata": {},
   "outputs": [],
   "source": [
    "void LinkedList::Loop_InsertSortedList(int x){\n",
    "    Node  *q, *p, *t = new Node();\n",
    "    \n",
    "    p=first;\n",
    "    q=NULL;\n",
    "    \n",
    "    while(p && p->data < x){\n",
    "        q=p;\n",
    "        p=p->next; // will move it to greater value\n",
    "    }\n",
    "    \n",
    "    t->data = x;\n",
    "    t->next = q->next;\n",
    "    q->next = t;\n",
    "    \n",
    "}"
   ]
  },
  {
   "cell_type": "code",
   "execution_count": 18,
   "metadata": {},
   "outputs": [],
   "source": [
    "Node* LinkedList::Loop_ImprovedSearchKey(Node *p,int key){\n",
    "    Node  *q = new Node();\n",
    "    \n",
    "    while(p){\n",
    "        q=p;\n",
    "        p=p->next;\n",
    "        if (p->data==key){\n",
    "            q->next=p->next;\n",
    "            p->next=first;\n",
    "            first =p;\n",
    "            return p;\n",
    "        }\n",
    "    }\n",
    "    \n",
    "   return NULL;\n",
    "    \n",
    "}"
   ]
  },
  {
   "cell_type": "code",
   "execution_count": 19,
   "metadata": {},
   "outputs": [],
   "source": [
    "int LinkedList::Loop_SearchKey(int key){\n",
    "    \n",
    "    Node *p = new Node();\n",
    "    p=first;\n",
    "    \n",
    "    while(p){\n",
    "        if (p->data==key){\n",
    "            return p->data;\n",
    "        }\n",
    "        p=p->next;\n",
    "    }\n",
    "    return -1;    \n",
    "}"
   ]
  },
  {
   "cell_type": "code",
   "execution_count": 20,
   "metadata": {},
   "outputs": [],
   "source": [
    "int LinkedList::Recurse_SearchKey(Node *p, int key){\n",
    "    \n",
    "    static int x = -1;\n",
    "    \n",
    "    if (p==NULL){\n",
    "        return x;\n",
    "    }        \n",
    "    \n",
    "    if (p->data==key){\n",
    "        return p->data;\n",
    "    }\n",
    "    else{\n",
    "        return Recurse_SearchKey(p->next, key);\n",
    "    }\n",
    "    \n",
    "}"
   ]
  },
  {
   "cell_type": "code",
   "execution_count": 21,
   "metadata": {},
   "outputs": [],
   "source": [
    "int LinkedList::Recurse_MaxValueinNode_Tail(Node *p){\n",
    "    static int x=0, MIN_INT;\n",
    "    \n",
    "    if (p==NULL){\n",
    "        return MIN_INT;\n",
    "    }        \n",
    "    \n",
    "    x=Recurse_MaxValueinNode_Tail(p->next);\n",
    "    \n",
    "    cout<<\"x = \"<<x<<endl;\n",
    "    \n",
    "    return x >p->data?x:p->data;\n",
    "}"
   ]
  },
  {
   "cell_type": "code",
   "execution_count": 22,
   "metadata": {},
   "outputs": [],
   "source": [
    "int LinkedList::Recurse_CountNodes_Tail(Node *p){\n",
    "    static int cnt=0;\n",
    "    if (p != NULL){\n",
    "        \n",
    "        return Recurse_CountNodes_Tail(p->next)+1;\n",
    "    }\n",
    "    \n",
    "    return 0;\n",
    "}"
   ]
  },
  {
   "cell_type": "code",
   "execution_count": 23,
   "metadata": {},
   "outputs": [],
   "source": [
    "Node* LinkedList::GetFirst(){\n",
    "    return first;    \n",
    "}"
   ]
  },
  {
   "cell_type": "code",
   "execution_count": 24,
   "metadata": {},
   "outputs": [],
   "source": [
    "void LinkedList::Recurse_Display_Head(Node *p){\n",
    "    \n",
    "    if (p != NULL){\n",
    "        Recurse_Display_Head(p->next);\n",
    "        cout<<p->data<<endl;\n",
    "    }\n",
    "}"
   ]
  },
  {
   "cell_type": "code",
   "execution_count": 25,
   "metadata": {},
   "outputs": [],
   "source": [
    "void LinkedList::Recurse_Display_Tail(Node *p){\n",
    "    \n",
    "    if (p != NULL){\n",
    "        cout<<p->data<<endl;\n",
    "        Recurse_Display_Tail(p->next);\n",
    "    }\n",
    "}"
   ]
  },
  {
   "cell_type": "code",
   "execution_count": 26,
   "metadata": {},
   "outputs": [],
   "source": [
    "void LinkedList::Insert(int index, int x){\n",
    "    \n",
    "    Node *p=new Node;\n",
    "    p=first;\n",
    "    \n",
    "    if (index==0) {\n",
    "        Node *t = new Node();\n",
    "        t->data = x;\n",
    "        t->next=first;\n",
    "        first=t;\n",
    "    }    \n",
    "    else{\n",
    "        \n",
    "        for (int i=0;i < index; i++){\n",
    "            p=p->next;\n",
    "        }\n",
    "        \n",
    "        Node *t = new Node();\n",
    "        t->data = x;\n",
    "        t->next=p->next;\n",
    "        p->next=t;\n",
    "    }    \n",
    "    \n",
    "}"
   ]
  },
  {
   "cell_type": "code",
   "execution_count": 27,
   "metadata": {},
   "outputs": [],
   "source": [
    "int LinkedList::Delete(int index){\n",
    "    Node *q, *p;\n",
    "    int x= -1;\n",
    "    \n",
    "    if (index < 0){\n",
    "        return -1;\n",
    "    }\n",
    "    \n",
    "    if (index == 0){\n",
    "       p=first;\n",
    "       first = first->next;\n",
    "       x=p->data;\n",
    "       delete p;\n",
    "    }else{\n",
    "       p=first; \n",
    "       \n",
    "        for (int i =0;i < index; i++){\n",
    "            q=p;\n",
    "            p=p->next;\n",
    "        }\n",
    "        \n",
    "        cout<<\"q = \"<<q->data<<endl;\n",
    "        cout<<\"p = \"<<p->data<<endl;\n",
    "        \n",
    "        q->next=p->next;\n",
    "        x=p->data;\n",
    "        delete p;\n",
    "    }\n",
    "    return x;\n",
    "}"
   ]
  },
  {
   "cell_type": "code",
   "execution_count": 28,
   "metadata": {},
   "outputs": [],
   "source": [
    "LinkedList::~LinkedList(){\n",
    "    \n",
    "    Node *p = new Node();\n",
    "    p=first;\n",
    "\n",
    "    while(first){\n",
    "        cout<<\"p->data = \"<<p->data<<endl;\n",
    "        first = first->next;\n",
    "        delete p;\n",
    "        p=first;\n",
    "    }\n",
    "}\n"
   ]
  },
  {
   "cell_type": "code",
   "execution_count": 29,
   "metadata": {},
   "outputs": [],
   "source": [
    "int LinkedList::Len(){\n",
    "    Node *p = new Node();\n",
    "    p=first;\n",
    "    int len=0;\n",
    "    while(p){\n",
    "        len++;\n",
    "        p=p->next;\n",
    "    }\n",
    "    \n",
    "    return len;\n",
    "}"
   ]
  },
  {
   "cell_type": "code",
   "execution_count": 30,
   "metadata": {},
   "outputs": [],
   "source": [
    "LinkedList::LinkedList(int A[], int n){\n",
    "    Node *last, *t;\n",
    "    \n",
    "   \n",
    "    \n",
    "    first = new Node();\n",
    "    last= new Node();\n",
    "    \n",
    "    first->data=A[0];\n",
    "    //f=first;              //To be removed\n",
    "    first->next=NULL;\n",
    "    last = first;\n",
    "    \n",
    "    for (int i = 1; i < n;i++){\n",
    "        \n",
    "        t = new Node();\n",
    "        t->data = A[i];\n",
    "        t->next = NULL;\n",
    "        \n",
    "        last->next=t;\n",
    "        last=t;\n",
    "        \n",
    "    }\n",
    "    \n",
    "};"
   ]
  },
  {
   "cell_type": "code",
   "execution_count": 31,
   "metadata": {},
   "outputs": [],
   "source": [
    "void LinkedList::Display(){\n",
    "    Node *p=new Node();\n",
    "    p=first;\n",
    "    \n",
    "    while(p){\n",
    "        cout<<p->data<<\" \";\n",
    "        p=p->next;\n",
    "    }\n",
    "    cout<<endl;\n",
    "    \n",
    "};"
   ]
  },
  {
   "cell_type": "code",
   "execution_count": 32,
   "metadata": {},
   "outputs": [],
   "source": [
    "void LinkedList::Display_LoopStop(){\n",
    "    Node *p,*q;\n",
    "    \n",
    "    p=q=first;\n",
    "    \n",
    "    while(p){\n",
    "        cout<<p->data<<\" \";\n",
    "        p=p->next;\n",
    "        \n",
    "    }\n",
    "    cout<<endl;\n",
    "    \n",
    "};"
   ]
  },
  {
   "cell_type": "code",
   "execution_count": 33,
   "metadata": {
    "scrolled": true
   },
   "outputs": [
    {
     "name": "stdout",
     "output_type": "stream",
     "text": [
      "10\n",
      "0\n"
     ]
    }
   ],
   "source": [
    "Node *p = new Node();\n",
    "p->data=10;\n",
    "p->next = NULL;\n",
    "cout<<p->data<<endl;\n",
    "\n",
    "cout<<p->next<<endl;"
   ]
  },
  {
   "cell_type": "code",
   "execution_count": null,
   "metadata": {},
   "outputs": [],
   "source": []
  },
  {
   "cell_type": "code",
   "execution_count": 34,
   "metadata": {},
   "outputs": [
    {
     "name": "stdout",
     "output_type": "stream",
     "text": [
      "3 4 5 10 11 \n",
      "Moved to HEAD (Search Found Key found) = 0x55c60d7eb540\n",
      "10 3 4 5 11 \n",
      "p->data = 10\n",
      "p->data = 3\n",
      "p->data = 4\n",
      "p->data = 5\n",
      "p->data = 11\n"
     ]
    }
   ],
   "source": [
    "int B[5]={3,4,5,10,11};\n",
    "int m = 5;\n",
    "LinkedList ll(B,m);\n",
    "ll.Display();\n",
    "cout<<\"Moved to HEAD (Search Found Key found) = \"<<ll.Loop_ImprovedSearchKey(ll.GetFirst(),10)<<endl;\n",
    "ll.Display();\n",
    "ll.~LinkedList(); "
   ]
  },
  {
   "cell_type": "code",
   "execution_count": 35,
   "metadata": {},
   "outputs": [
    {
     "name": "stdout",
     "output_type": "stream",
     "text": [
      "3 4 5 10 11 \n",
      "5\n",
      "q = 5\n",
      "p = 10\n",
      "10\n",
      "3 4 5 11 \n",
      "3 4 5 10 11 \n",
      "1 3 4 5 10 11 \n"
     ]
    }
   ],
   "source": [
    "int A[5]={3,4,5,10,11};\n",
    "int n = 5;\n",
    "LinkedList l(A,n);\n",
    "l.Display();\n",
    "cout<<l.Len()<<endl;\n",
    "cout<<l.Delete(3)<<endl;\n",
    "l.Display();\n",
    "l.Insert(2,10);\n",
    "l.Display();\n",
    "l.Insert(0,1);\n",
    "l.Display();\n",
    "//l.~LinkedList(); //\n"
   ]
  },
  {
   "cell_type": "code",
   "execution_count": 36,
   "metadata": {
    "scrolled": true
   },
   "outputs": [
    {
     "name": "stdout",
     "output_type": "stream",
     "text": [
      "1\n",
      "3\n",
      "4\n",
      "5\n",
      "10\n",
      "11\n"
     ]
    }
   ],
   "source": [
    "//l.Recurse_Display_Tail(l.first);\n",
    "l.Recurse_Display_Tail(l.GetFirst());"
   ]
  },
  {
   "cell_type": "code",
   "execution_count": 37,
   "metadata": {
    "scrolled": true
   },
   "outputs": [
    {
     "name": "stdout",
     "output_type": "stream",
     "text": [
      "11\n",
      "10\n",
      "5\n",
      "4\n",
      "3\n",
      "1\n"
     ]
    }
   ],
   "source": [
    "l.Recurse_Display_Head(l.GetFirst());"
   ]
  },
  {
   "cell_type": "code",
   "execution_count": 38,
   "metadata": {},
   "outputs": [
    {
     "name": "stdout",
     "output_type": "stream",
     "text": [
      "Tail Count = 6\n"
     ]
    }
   ],
   "source": [
    "cout<<\"Tail Count = \"<<l.Recurse_CountNodes_Tail(l.GetFirst())<<endl;"
   ]
  },
  {
   "cell_type": "code",
   "execution_count": 39,
   "metadata": {},
   "outputs": [
    {
     "name": "stdout",
     "output_type": "stream",
     "text": [
      "Max Value = x = 0\n",
      "x = 11\n",
      "x = 11\n",
      "x = 11\n",
      "x = 11\n",
      "x = 11\n",
      "11\n"
     ]
    }
   ],
   "source": [
    "cout<<\"Max Value = \"<<l.Recurse_MaxValueinNode_Tail(l.GetFirst())<<endl;"
   ]
  },
  {
   "cell_type": "code",
   "execution_count": 40,
   "metadata": {},
   "outputs": [
    {
     "name": "stdout",
     "output_type": "stream",
     "text": [
      "1 3 4 5 10 11 \n",
      "Search Found Key found = 10\n"
     ]
    }
   ],
   "source": [
    "l.Display();\n",
    "cout<<\"Search Found Key found = \"<<l.Recurse_SearchKey(l.GetFirst(),10)<<endl;"
   ]
  },
  {
   "cell_type": "code",
   "execution_count": 41,
   "metadata": {},
   "outputs": [
    {
     "name": "stdout",
     "output_type": "stream",
     "text": [
      "1 3 4 5 10 11 \n",
      "Search Found Key found = 5\n"
     ]
    }
   ],
   "source": [
    "l.Display();\n",
    "cout<<\"Search Found Key found = \"<<l.Loop_SearchKey(5)<<endl;\n",
    "//l.~LinkedList(); "
   ]
  },
  {
   "cell_type": "code",
   "execution_count": 42,
   "metadata": {},
   "outputs": [
    {
     "name": "stdout",
     "output_type": "stream",
     "text": [
      "1 3 4 5 8 10 11 \n",
      "Sorted (1), Not Sorted (-1) = 1\n"
     ]
    }
   ],
   "source": [
    "l.Loop_InsertSortedList(8);\n",
    "l.Display();\n",
    "cout<<\"Sorted (1), Not Sorted (-1) = \"<<l.Loop_CheckifListSorted()<<endl;"
   ]
  },
  {
   "cell_type": "code",
   "execution_count": 43,
   "metadata": {},
   "outputs": [
    {
     "name": "stdout",
     "output_type": "stream",
     "text": [
      "Sorted (1), Not Sorted (-1) = -1\n",
      "3 4 5 15 11 \n"
     ]
    }
   ],
   "source": [
    "int C[5]={3,4,5,15,11};\n",
    "int j = 5;\n",
    "LinkedList ln(C,j);\n",
    "\n",
    "cout<<\"Sorted (1), Not Sorted (-1) = \"<<ln.Loop_CheckifListSorted()<<endl;\n",
    "ln.Display();"
   ]
  },
  {
   "cell_type": "code",
   "execution_count": 44,
   "metadata": {},
   "outputs": [
    {
     "name": "stdout",
     "output_type": "stream",
     "text": [
      "3 4 5 11 20 \n",
      "p->data = 3\n",
      "p->data = 4\n",
      "p->data = 5\n",
      "p->data = 11\n",
      "p->data = 20\n"
     ]
    }
   ],
   "source": [
    "int D[7]={3,4,5,5,11,20,20};\n",
    "int a = 7;\n",
    "LinkedList lin(D,a);\n",
    "\n",
    "lin.Loop_RemoveDuplicatesInSorted();\n",
    "lin.Display();\n",
    "lin.~LinkedList(); //"
   ]
  },
  {
   "cell_type": "code",
   "execution_count": 45,
   "metadata": {},
   "outputs": [
    {
     "name": "stdout",
     "output_type": "stream",
     "text": [
      "3 4 5 10 11 \n",
      "11 10 5 4 3 \n",
      "p->data = 11\n",
      "p->data = 10\n",
      "p->data = 5\n",
      "p->data = 4\n",
      "p->data = 3\n"
     ]
    }
   ],
   "source": [
    "int bbbb_1 = 5;\n",
    "int EEEE_1[5]={3,4,5,10,11};\n",
    "\n",
    "LinkedList lns_1(EEEE_1,bbbb_1);\n",
    "\n",
    "lns_1.Display();\n",
    "lns_1.Loop_ReversingSortedList_ByElements();\n",
    "lns_1.Display();\n",
    "lns_1.~LinkedList(); "
   ]
  },
  {
   "cell_type": "code",
   "execution_count": 46,
   "metadata": {},
   "outputs": [
    {
     "name": "stdout",
     "output_type": "stream",
     "text": [
      "3 4 5 15 11 \n",
      "11 15 5 4 3 \n"
     ]
    }
   ],
   "source": [
    "ln.Display();\n",
    "ln.Loop_ReversingSortedList_ByAddressLinks();\n",
    "ln.Display();\n",
    "\n"
   ]
  },
  {
   "cell_type": "code",
   "execution_count": 47,
   "metadata": {},
   "outputs": [
    {
     "name": "stdout",
     "output_type": "stream",
     "text": [
      "1 3 4 5 8 10 11 \n",
      "11 10 8 5 4 3 1 \n"
     ]
    }
   ],
   "source": [
    "l.Display();\n",
    "l.Recurse_ReversingSortedList_ByAddressLinks(NULL,l.GetFirst());\n",
    "l.Display();"
   ]
  },
  {
   "cell_type": "code",
   "execution_count": 48,
   "metadata": {
    "scrolled": true
   },
   "outputs": [
    {
     "name": "stdout",
     "output_type": "stream",
     "text": [
      "2 4 8 10 \n",
      "3 5 9 12 \n",
      "Merged List = 0x55c60e3acad0\n",
      "2 3 4 5 8 9 10 12 \n"
     ]
    }
   ],
   "source": [
    "int F[4]={2,4,8,10};\n",
    "int ff_1 = 4;\n",
    "LinkedList lF(F,ff_1);\n",
    "lF.Display();\n",
    "\n",
    "\n",
    "int G[4]={3,5,9,12};\n",
    "int gg_1 = 4;\n",
    "LinkedList lG(G,gg_1);\n",
    "lG.Display();\n",
    "\n",
    "LinkedList lRes ;\n",
    "\n",
    "\n",
    "cout<<\"Merged List = \"<<lRes.Loop_MergingSortedlist(lF.GetFirst(),lG.GetFirst(),lRes.GetFirst())<<endl;\n",
    "lRes.Display();\n",
    "\n",
    "\n"
   ]
  },
  {
   "cell_type": "code",
   "execution_count": 49,
   "metadata": {},
   "outputs": [
    {
     "name": "stdout",
     "output_type": "stream",
     "text": [
      "2 4 8 10 \n",
      "Original Loop\n",
      "(Loop=1, Not Loop=0) = 0\n",
      "Loop Created\n",
      "(Loop=1, Not Loop=0) = cnt = 4\n",
      "1\n",
      "Loop Circular Display\n",
      "2 4 8 10 \n",
      "Recursive Circular Display\n",
      "2 4 8 10 "
     ]
    }
   ],
   "source": [
    "int H[4]={2,4,8,10};\n",
    "int hh_1 = 4;\n",
    "LinkedList lH(H,hh_1);\n",
    "lH.Display();\n",
    "cout<<\"Original Loop\"<<endl;\n",
    "cout<<\"(Loop=1, Not Loop=0) = \"<<lH.Loop_CheckforLoop()<<endl;\n",
    "\n",
    "cout<<\"Loop Created\"<<endl;\n",
    "cout<<\"(Loop=1, Not Loop=0) = \"<<lH.Loop_CreateAndCheckforLoop()<<endl;\n",
    "\n",
    "//DONT DISPLAY\n",
    "//lH.Display();\n",
    "\n",
    "//Can display\n",
    "cout<<\"Loop Circular Display\"<<endl;\n",
    "lH.Loop_DisplayCircular();\n",
    "\n",
    "\n",
    "//Can display\n",
    "cout<<\"Recursive Circular Display\"<<endl;\n",
    "lH.Recurse_DisplayCircular(lH.GetFirst());"
   ]
  },
  {
   "cell_type": "code",
   "execution_count": 50,
   "metadata": {},
   "outputs": [
    {
     "name": "stdout",
     "output_type": "stream",
     "text": [
      "1 2 4 8 10 \n"
     ]
    }
   ],
   "source": [
    "lH.InsertCircular(0,1);\n",
    "lH.Loop_DisplayCircular();"
   ]
  },
  {
   "cell_type": "code",
   "execution_count": 51,
   "metadata": {},
   "outputs": [
    {
     "name": "stdout",
     "output_type": "stream",
     "text": [
      "5\n"
     ]
    }
   ],
   "source": [
    "cout<<lH.LenCircular()<<endl;"
   ]
  },
  {
   "cell_type": "code",
   "execution_count": 52,
   "metadata": {},
   "outputs": [
    {
     "name": "stdout",
     "output_type": "stream",
     "text": [
      "1 2 4 8 10 11 \n"
     ]
    }
   ],
   "source": [
    "//Use LenCircular()to insert at last position\n",
    "lH.InsertCircular(lH.LenCircular(),11);\n",
    "lH.Loop_DisplayCircular();"
   ]
  },
  {
   "cell_type": "code",
   "execution_count": 53,
   "metadata": {},
   "outputs": [
    {
     "name": "stdout",
     "output_type": "stream",
     "text": [
      "1 2 4 9 8 10 11 \n"
     ]
    }
   ],
   "source": [
    "lH.InsertCircular(3,9);\n",
    "lH.Loop_DisplayCircular();"
   ]
  },
  {
   "cell_type": "code",
   "execution_count": 54,
   "metadata": {},
   "outputs": [
    {
     "name": "stdout",
     "output_type": "stream",
     "text": [
      "Deleted = 1\n",
      "2 4 9 8 10 11 \n"
     ]
    }
   ],
   "source": [
    "cout<<\"Deleted = \"<<lH.DeleteCircular(0)<<endl;\n",
    "lH.Loop_DisplayCircular();"
   ]
  },
  {
   "cell_type": "code",
   "execution_count": 55,
   "metadata": {},
   "outputs": [
    {
     "name": "stdout",
     "output_type": "stream",
     "text": [
      "Deleted = 11\n",
      "2 4 9 8 10 \n"
     ]
    }
   ],
   "source": [
    "cout<<\"Deleted = \"<<lH.DeleteCircular(lH.LenCircular())<<endl;\n",
    "lH.Loop_DisplayCircular();"
   ]
  },
  {
   "cell_type": "code",
   "execution_count": 56,
   "metadata": {},
   "outputs": [
    {
     "name": "stdout",
     "output_type": "stream",
     "text": [
      "Deleted = 9\n",
      "2 4 8 10 \n"
     ]
    }
   ],
   "source": [
    "cout<<\"Deleted = \"<<lH.DeleteCircular(3)<<endl;\n",
    "lH.Loop_DisplayCircular();\n"
   ]
  },
  {
   "cell_type": "code",
   "execution_count": 57,
   "metadata": {},
   "outputs": [
    {
     "name": "stdout",
     "output_type": "stream",
     "text": [
      "Deleted = -1\n",
      "2 4 8 10 \n"
     ]
    }
   ],
   "source": [
    "cout<<\"Deleted = \"<<lH.DeleteCircular(673)<<endl;\n",
    "lH.Loop_DisplayCircular();"
   ]
  }
 ],
 "metadata": {
  "kernelspec": {
   "display_name": "C++17",
   "language": "C++17",
   "name": "xcpp17"
  },
  "language_info": {
   "codemirror_mode": "text/x-c++src",
   "file_extension": ".cpp",
   "mimetype": "text/x-c++src",
   "name": "c++",
   "version": "17"
  }
 },
 "nbformat": 4,
 "nbformat_minor": 2
}

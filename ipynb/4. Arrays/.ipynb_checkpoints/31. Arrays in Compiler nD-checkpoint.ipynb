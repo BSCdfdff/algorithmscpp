{
 "cells": [
  {
   "cell_type": "markdown",
   "metadata": {},
   "source": [
    "# Arrays in  Compiler\n",
    "\n",
    "+ For nDimensional Array"
   ]
  },
  {
   "cell_type": "markdown",
   "metadata": {},
   "source": [
    "## Row Major Mapping\n",
    "\n",
    "___\n",
    "\n",
    "This is for indexes that starts at 0\n",
    " \n",
    "\n",
    " \n",
    "type A[d1][d2][d3][d4];\n",
    "\n",
    "With row, we know we move from left to right.\n",
    "\n",
    "\n",
    "$$\\text{Address of A}[i_1][i_2][i_3][i_4] =  L_0 + [i_1\\times{d_2}\\times{d_3}\\times{d_4}+{i_2}\\times{d_3}\\times{d_4}+{i_3}\\times{d_4}+{i_4}]\\times w$$\n",
    "\n",
    "\n",
    "$$ $$\n",
    "\n",
    "\n"
   ]
  },
  {
   "cell_type": "markdown",
   "metadata": {},
   "source": [
    "## Column Major Mapping\n",
    "\n",
    "___\n",
    "\n",
    "This is for indexes that starts at 0\n",
    " \n",
    "\n",
    " \n",
    "type A[d1][d2][d3][d4];\n",
    "\n",
    "With column, we know we move from right to left.\n",
    "\n",
    "\n",
    "$$\\text{Address of A}[i_1][i_2][i_3][i_4] =  L_0 + [i_4\\times{d_1}\\times{d_2}\\times{d_3}+{i_3}\\times{d_1}\\times{d_2}+{i_2}\\times{d_1}+{i_1}]\\times w$$\n",
    "\n",
    "\n",
    "$$ $$\n",
    "\n",
    "\n"
   ]
  },
  {
   "cell_type": "markdown",
   "metadata": {},
   "source": [
    "## General formula for n Dimensions\n",
    "\n",
    "___\n",
    " \n",
    "This is for indexes that starts at 0\n",
    " \n",
    "**Picture**\n",
    " \n",
    "type A[d1][d2][d3][d4];\n",
    "\n",
    "With column, we know we move from right to left.\n",
    "\n",
    "$$\\text{Address of A}[i_1][i_2][i_3][i_4] =  L_0 + [i_1\\times{d_2}\\times{d_3}\\times{d_4}+{i_2}\\times{d_3}\\times{d_4}+{i_3}\\times{d_4}+{i_4}]\\times w$$\n",
    "\n",
    "\n",
    "Do the formula here:\n",
    "\n",
    "\n",
    "$$ $$ "
   ]
  },
  {
   "cell_type": "markdown",
   "metadata": {},
   "source": [
    "## Analysis of Row Major formula\n",
    "\n",
    "___\n",
    "\n",
    "How many multiplications are performed for getting the result.\n",
    "\n",
    "\n",
    "Too time consuming\n",
    "\n",
    "\n",
    "Is there a way to reduce the number of multiplications?\n",
    "\n",
    "\n",
    "Take the formula inside the brackets and write it from right to left:\n",
    "\n",
    "\n",
    "\n",
    "To reduce the number of multiplications\n",
    "\n",
    "\n",
    "\n",
    "Now for 4 Dim there is  \n",
    "\n",
    "So by taking common, this is called **Horners Rule**.\n",
    "\n",
    "\n",
    "\n",
    "\n"
   ]
  },
  {
   "cell_type": "code",
   "execution_count": null,
   "metadata": {},
   "outputs": [],
   "source": []
  }
 ],
 "metadata": {
  "kernelspec": {
   "display_name": "C++17",
   "language": "C++17",
   "name": "xcpp17"
  },
  "language_info": {
   "codemirror_mode": "text/x-c++src",
   "file_extension": ".cpp",
   "mimetype": "text/x-c++src",
   "name": "c++",
   "version": "-std=c++17"
  }
 },
 "nbformat": 4,
 "nbformat_minor": 2
}

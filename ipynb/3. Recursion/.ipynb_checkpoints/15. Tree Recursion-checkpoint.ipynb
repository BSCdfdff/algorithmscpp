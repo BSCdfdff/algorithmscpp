{
 "cells": [
  {
   "cell_type": "markdown",
   "metadata": {},
   "source": [
    "# Tree Recursion\n",
    "+ Linear Recursion\n",
    "+ Tree Recursion\n",
    "    \n",
    "\n",
    "\n"
   ]
  },
  {
   "cell_type": "markdown",
   "metadata": {},
   "source": [
    "## Compare Linear with Tree Recursion\n",
    "\n",
    "As seen before, we have Tail and Head Recursion, but also have Linear recursion where there is code before/after the recursive call.\n",
    "\n",
    "#### Linear Recursion\n",
    "\n",
    "Only one call to recursion function inside itself\n",
    "\n",
    "\n",
    "```\n",
    "void fun(int n){\n",
    "    if (n > 0){\n",
    "        cout<<n<<endl;\n",
    "        fun(n-1);            //-------------LINEAR\n",
    "        cout<<n<<endl;\n",
    "    }\n",
    "}\n",
    "```\n",
    "\n",
    "#### Tree Recursion\n",
    "\n",
    "Where a recursive function makes multiple calls inside itself \n",
    "\n",
    "```\n",
    "void fun(int n){\n",
    "    if (n > 0){\n",
    "        cout<<n<<endl;\n",
    "        fun(n-1);            //-------------TREE*\n",
    "        fun(n-1);            //-------------TREE*\n",
    "    }\n",
    "}\n",
    "```\n",
    "\n"
   ]
  },
  {
   "cell_type": "markdown",
   "metadata": {},
   "source": [
    "## Tree Recursion \n",
    "\n",
    "See image\n",
    "\n",
    "See above in which the order of calls is made, to visual and analyze\n",
    "\n",
    "\n",
    "#### How much time does it take:\n",
    "It depends on the number of calls, and it almost prints for every call (then we can determine the time complexity).\n",
    "\n",
    "Lets see how many calls are made...\n",
    "\n",
    "For $n = 3$\n",
    "\n",
    "15 calls are made:\n",
    "\n",
    "Level 1: 1 call  made\n",
    "\n",
    "Level 2: 2 calls made\n",
    "\n",
    "Level 3: 4 calls made\n",
    "\n",
    "Level 4: 8 calls made\n",
    "\n",
    "for $n = 3$, there will be $4$ levels.\n",
    "\n",
    "$=1+2+8+15$\n",
    "\n",
    "$=2^0+2^1+2^2+2^3$\n",
    "\n",
    "#### (Sum of geometric progression terms (GP Series))\n",
    "\n",
    "\n",
    "Highest term is  $3$,:\n",
    "\n",
    "$=2^{3+1}-1$\n",
    "\n",
    "So $n = 3$, but for $n > 3$,\n",
    "\n",
    "$=2^0+2^1+2^2+2^3+...+2^n$\n",
    "\n",
    "$=2^n-1$\n",
    "\n",
    "That is,\n",
    "\n",
    "Order of $=2^n$\n",
    "\n",
    "\n",
    "### $=O(2^n)$\n",
    "\n",
    "Not every tree recursion it will be this order, but for this one it was\n",
    "\n",
    "#### How much space does it take:\n",
    "\n",
    "It depends on what is the maximum height of stack\n",
    "\n",
    "Total activation records, depends on the number of calls\n",
    "\n",
    "But how much space was used, as space was reused.\n",
    "\n",
    "But maximum space or stack seize will be $n$\n",
    "\n",
    "### $=O(n)$\n"
   ]
  },
  {
   "cell_type": "markdown",
   "metadata": {},
   "source": [
    "\n"
   ]
  },
  {
   "cell_type": "code",
   "execution_count": 1,
   "metadata": {},
   "outputs": [],
   "source": [
    "#include <iostream>\n",
    "#include <climits>\n",
    "#include <math.h>\n",
    "using namespace std;"
   ]
  },
  {
   "cell_type": "code",
   "execution_count": 2,
   "metadata": {},
   "outputs": [],
   "source": [
    "void fun(int n){               //---T(n)\n",
    "    if (n > 0){                                   //  statements   \n",
    "        cout<<n<<endl;         //---1             (1) \n",
    "        fun(n-1);              //---T(n-1)=T(n)   (2)\n",
    "        fun(n-1);              //---T(n-1)=T(n)   (3)\n",
    "       }\n",
    "}"
   ]
  },
  {
   "cell_type": "code",
   "execution_count": 3,
   "metadata": {},
   "outputs": [
    {
     "name": "stdout",
     "output_type": "stream",
     "text": [
      "3\n",
      "2\n",
      "1\n",
      "1\n",
      "2\n",
      "1\n",
      "1\n"
     ]
    }
   ],
   "source": [
    "int x=3;\n",
    "fun(x);\n"
   ]
  }
 ],
 "metadata": {
  "kernelspec": {
   "display_name": "C++17",
   "language": "C++17",
   "name": "xcpp17"
  },
  "language_info": {
   "codemirror_mode": "text/x-c++src",
   "file_extension": ".cpp",
   "mimetype": "text/x-c++src",
   "name": "c++",
   "version": "-std=c++17"
  }
 },
 "nbformat": 4,
 "nbformat_minor": 2
}

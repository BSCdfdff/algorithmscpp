{
 "cells": [
  {
   "cell_type": "markdown",
   "metadata": {},
   "source": [
    "# Binary Search Trees\n",
    "____\n",
    "\n",
    "+ Recursive Insert into BST\n",
    "\n"
   ]
  },
  {
   "cell_type": "markdown",
   "metadata": {},
   "source": [
    "## Recursive Inserting into BST\n",
    "\n",
    "___\n",
    "\n",
    "```\n",
    "\n",
    "                                          root\n",
    "                                   +-----+-----+-----+\n",
    "                                   | 210 |  30 | 230 |\n",
    "                                   +-----+-----+-----+\n",
    "                                           200\n",
    "                                 /                    \\\n",
    "                                /                      \\\n",
    "                               /                        \\\n",
    "                              /                          \\\n",
    "\n",
    "                   +-----+-----+-----+                   +-----+-----+-----+\n",
    "                   | 270 |  20 | 300 |                   | 310 | 40  | 320 |\n",
    "                   +-----+-----+-----+                   +-----+-----+-----+\n",
    "                      /    210 \\                          /       230      \\\n",
    "                     /          \\                        /                  \\\n",
    "                    /            \\                      /                    \\\n",
    "                   /              \\                    /                      \\\n",
    "   +-----+-----+-----+  +-----+-----+-----+      +-----+-----+-----+  +-----+-----+-----+\n",
    "   |  \\  |  10 |  \\  |  |  \\  |  25 |  \\  |      |  \\  |  35 |  \\  |  |  \\  |  50 |  \\  |\n",
    "   +-----+-----+-----+  +-----+-----+-----+      +-----+-----+-----+  +-----+-----+-----+\n",
    "           270                  300                      310                  320\n",
    "\n",
    "\n",
    "```\n",
    "\n",
    "We know the procedure for inseting a key=38 into the above tree.\n",
    "\n",
    "\n",
    "```\n",
    "void RInsert(Node *p, int key){\n",
    "\n",
    " Node *p = NULL;\n",
    " \n",
    "  if (p==NULL){\n",
    "     Node *t = new Node;\n",
    "     t->data= key;\n",
    "     t->lchild = t->rchild = NULL;  \n",
    "  }\n",
    "\n",
    "  if (p->data < key)\n",
    "      p->lchild= RInsert(p->lchild, key)\n",
    "  else if (p->data > key)\n",
    "      p->rchild= RInsert(p->rchild, key)\n",
    "  }\n",
    "  \n",
    "  return t;\n",
    "\n",
    "}\n",
    "\n",
    "```\n",
    "\n",
    "If we create a BST, we first need to create root, then use this function. So there is first step, still to be discussed.\n",
    "\n",
    "\n"
   ]
  },
  {
   "cell_type": "code",
   "execution_count": null,
   "metadata": {},
   "outputs": [],
   "source": []
  },
  {
   "cell_type": "code",
   "execution_count": null,
   "metadata": {},
   "outputs": [],
   "source": []
  }
 ],
 "metadata": {
  "kernelspec": {
   "display_name": "C++17",
   "language": "C++17",
   "name": "xcpp17"
  },
  "language_info": {
   "codemirror_mode": "text/x-c++src",
   "file_extension": ".cpp",
   "mimetype": "text/x-c++src",
   "name": "c++",
   "version": "17"
  }
 },
 "nbformat": 4,
 "nbformat_minor": 2
}

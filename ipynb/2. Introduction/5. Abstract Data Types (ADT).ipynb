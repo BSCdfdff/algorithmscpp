{
 "cells": [
  {
   "cell_type": "markdown",
   "metadata": {},
   "source": [
    "## Abstract Data Types\n",
    "\n",
    "+ Explained using a list\n"
   ]
  },
  {
   "cell_type": "markdown",
   "metadata": {},
   "source": [
    "## ADT\n",
    "\n",
    "What is data type?\n",
    "\n",
    "1. Representation of Data\n",
    "2. Operations on Data\n",
    "\n",
    "E.g. int\n",
    "\n",
    "int x = (2 bytes)\n",
    "\n",
    "Get memory of 2 bytes (16 bites)\n",
    "\n",
    "1 sign bit\n",
    "15 rest storing data\n",
    "\n",
    "This is the representation of data in memory\n",
    "\n",
    "What is operations: +, -, * %, ++, --\n",
    "\n",
    "These are the operations that can be performed on int data type.\n",
    "\n",
    "What is abstract?\n",
    "\n",
    "To hide the internal details. We dont need to know how binary addition is performed inside by compiler. \n",
    "\n",
    "\n",
    "But int is not abtract, its a primitive data type\n",
    "\n",
    "So what is ADT?  Abstract originates from Object orientated languages, we here we can define our own data types through use of clases.\n",
    "\n",
    "Lets take lists, and explore...\n",
    "\n",
    "\n"
   ]
  },
  {
   "cell_type": "markdown",
   "metadata": {},
   "source": [
    "## List\n",
    "\n",
    "List of elements\n",
    "--8,3,9,4,10,12\n",
    "\n",
    "Want this to be used in program\n",
    "\n",
    "I need the following for **using** this list in my program:\n",
    "\n",
    "\n",
    "Data\n",
    "1. Space\n",
    "2. Capacity Maximim\n",
    "3. Size \n",
    "\n",
    "Can use :\n",
    "+ Array\n",
    "+ Linked list\n",
    "\n",
    "Operations:\n",
    "add(x)\n",
    "remove(x)\n",
    "search (key) , etc\n",
    "\n",
    "\n",
    "So if we covered all these these two areas, the list becomes a data type.\n",
    "\n",
    "Can define for this in C++\n",
    "\n",
    "How the representation (internally) is done we dont need to worry about it\n",
    "\n",
    "Concept of ADT very common in C++\n",
    "\n",
    "**Common operations on ADT:**\n",
    "\n",
    "+ AppendAdd\n",
    "+ Insert\n",
    "+ Remove\n",
    "+ Replace\n",
    "+ Get\n",
    "+ Search\n",
    "+ Sort\n",
    "\n",
    "\n"
   ]
  },
  {
   "cell_type": "code",
   "execution_count": 1,
   "metadata": {},
   "outputs": [],
   "source": [
    "#include <iostream>\n",
    "#include <climits>\n",
    "#include <math.h>\n",
    "using namespace std;"
   ]
  },
  {
   "cell_type": "code",
   "execution_count": null,
   "metadata": {},
   "outputs": [],
   "source": [
    "\n"
   ]
  },
  {
   "cell_type": "code",
   "execution_count": null,
   "metadata": {},
   "outputs": [],
   "source": []
  }
 ],
 "metadata": {
  "kernelspec": {
   "display_name": "C++17",
   "language": "C++17",
   "name": "xcpp17"
  },
  "language_info": {
   "codemirror_mode": "text/x-c++src",
   "file_extension": ".cpp",
   "mimetype": "text/x-c++src",
   "name": "c++",
   "version": "-std=c++17"
  }
 },
 "nbformat": 4,
 "nbformat_minor": 2
}

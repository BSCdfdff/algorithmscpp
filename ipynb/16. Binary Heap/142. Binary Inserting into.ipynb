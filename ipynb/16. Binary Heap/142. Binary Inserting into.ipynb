{
 "cells": [
  {
   "cell_type": "markdown",
   "metadata": {},
   "source": [
    "## Binary Heap\n",
    "\n",
    "___\n",
    "\n",
    "+ What is a HEAP\n",
    "+ Inserting a HEAP\n",
    "+ Deleting from HEAP\n",
    "+ Heap Sort\n",
    "+ Heapify\n",
    "+ Priority Queues\n"
   ]
  },
  {
   "cell_type": "markdown",
   "metadata": {},
   "source": [
    "## Inserting into a Heap\n",
    "___\n",
    "\n",
    "\n",
    "\n",
    "\n",
    "\n",
    "\n",
    "\n"
   ]
  }
 ],
 "metadata": {
  "kernelspec": {
   "display_name": "C++17",
   "language": "C++17",
   "name": "xcpp17"
  },
  "language_info": {
   "codemirror_mode": "text/x-c++src",
   "file_extension": ".cpp",
   "mimetype": "text/x-c++src",
   "name": "c++",
   "version": "17"
  }
 },
 "nbformat": 4,
 "nbformat_minor": 2
}

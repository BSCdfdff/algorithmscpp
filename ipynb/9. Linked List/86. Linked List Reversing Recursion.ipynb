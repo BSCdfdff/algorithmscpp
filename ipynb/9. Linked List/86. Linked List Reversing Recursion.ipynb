{
 "cells": [
  {
   "cell_type": "markdown",
   "metadata": {},
   "source": [
    "# Linked List\n",
    "+ Reverse a linked list using Recursion\n"
   ]
  },
  {
   "cell_type": "markdown",
   "metadata": {},
   "source": [
    "## Reversing a LL using Recursion\n",
    "\n",
    "\n",
    "E.g if we have :\n",
    "\n",
    "200-> 210 -> 250 -> 300\n",
    "2->4->6->8\n",
    "\n",
    "We know recursion has two phases:\n",
    "\n",
    "1. Calling Phase (Down the tree)\n",
    "2. Returning Phase (Back up the tree)\n",
    "\n",
    "\n",
    "That is should be REVERSE the links of each node while CALLING or while RETURNING. While returning seems to be the better option. Where work needs to be done on the returning phase we should use HEAD Recursion, as the statements doing the work will following the function, thus, the RETURNING will do the work.\n",
    "\n",
    "\n",
    "\n",
    "How will this work:\n",
    "\n",
    "1. We need a pointer p, and a tail poiter q, that will be one step behind it.\n",
    "3. When we reach end (p==NULL), then first must be set to q (first = q)\n",
    "2. So when p returns, it can point on q, allowing us to reverse the links. (p->next=q)\n",
    "\n",
    "\n",
    "\n"
   ]
  },
  {
   "cell_type": "code",
   "execution_count": 1,
   "metadata": {},
   "outputs": [],
   "source": [
    "#include <iostream>\n",
    "#include <climits>\n",
    "#include <math.h>\n",
    "#define INSERTION_OPERATOR operator<<\n",
    "#define EXTRACTION_OPERATOR operator>>\n",
    "#define ADDITION_OPERATOR operator+\n",
    "using namespace std;"
   ]
  },
  {
   "cell_type": "code",
   "execution_count": 2,
   "metadata": {},
   "outputs": [],
   "source": [
    "class Node{\n",
    "public:\n",
    "    int data;\n",
    "    Node *next;\n",
    "}*f=NULL;"
   ]
  },
  {
   "cell_type": "code",
   "execution_count": 3,
   "metadata": {},
   "outputs": [],
   "source": [
    "class LinkedList{\n",
    "private:\n",
    "  Node *first;\n",
    "    \n",
    "public:\n",
    "    LinkedList(){\n",
    "        first = NULL;\n",
    "    }\n",
    "    ~LinkedList(); \n",
    "    void Display();\n",
    "    void Insert(int index, int x);\n",
    "    LinkedList(int A[], int n);\n",
    "    int Delete(int index);\n",
    "    int Length();\n",
    "    void ReverseLL_Elements();\n",
    "    void ReverseLL_Links();\n",
    "    void ReverseLL_LinksRecurs(Node *q, Node *p);\n",
    "}\n"
   ]
  },
  {
   "cell_type": "code",
   "execution_count": 4,
   "metadata": {},
   "outputs": [],
   "source": [
    "void LinkedList::ReverseLL_LinksRecurs(Node *q, Node *p){\n",
    "    if (p){\n",
    "        ReverseLL_LinksRecurs(p, p->next);\n",
    "        p->next = q;\n",
    "    }\n",
    "    else\n",
    "        first = q;\n",
    "}"
   ]
  },
  {
   "cell_type": "code",
   "execution_count": 5,
   "metadata": {},
   "outputs": [],
   "source": [
    "void LinkedList::ReverseLL_Links(){\n",
    "    Node *r,*q, *p=first;\n",
    "    r=NULL;\n",
    "    q=NULL;\n",
    "    while (p){\n",
    "        r = q;\n",
    "        q = p;\n",
    "        p=p->next;\n",
    "        q->next=r;\n",
    "    }\n",
    "    first=q;   \n",
    "}"
   ]
  },
  {
   "cell_type": "code",
   "execution_count": 6,
   "metadata": {},
   "outputs": [],
   "source": [
    "void LinkedList::ReverseLL_Elements(){\n",
    "    Node *p=first;\n",
    "    int *A = new int[Length()]; \n",
    "    int i = 0;\n",
    "    while (p){\n",
    "        A[i]=p->data;\n",
    "        p=p->next;\n",
    "        i++;\n",
    "        \n",
    "    }\n",
    "    p=first;\n",
    "    i--;\n",
    "    \n",
    "    for(; i>=0; i--)\n",
    "    {\n",
    "       p->data =  A[i];\n",
    "       p=p->next; \n",
    "    }\n",
    "}"
   ]
  },
  {
   "cell_type": "code",
   "execution_count": 7,
   "metadata": {},
   "outputs": [],
   "source": [
    "LinkedList::LinkedList(int A[], int n){\n",
    "    Node *last, *t;\n",
    "    int i = 0;\n",
    "    \n",
    "    first= new Node;\n",
    "    first->data=A[0];\n",
    "    f = first;\n",
    "    first->next=NULL;\n",
    "    last = first;\n",
    "    \n",
    "    for(i=1; i<n;i++)\n",
    "    {\n",
    "        t = new Node;\n",
    "        t->data=A[i];\n",
    "        t->next=NULL;\n",
    "        last->next=t;\n",
    "        last=t; \n",
    "    }    \n",
    "}"
   ]
  },
  {
   "cell_type": "code",
   "execution_count": 8,
   "metadata": {},
   "outputs": [],
   "source": [
    "LinkedList::~LinkedList(){\n",
    "    Node *p=first;\n",
    "    while(first)\n",
    "    {\n",
    "      first=first->next;\n",
    "      delete p;\n",
    "      p=first;\n",
    "    }\n",
    "}"
   ]
  },
  {
   "cell_type": "code",
   "execution_count": 9,
   "metadata": {},
   "outputs": [],
   "source": [
    "void LinkedList::Display(){\n",
    "    Node *p=first;\n",
    "    f = first;\n",
    "    while(p){\n",
    "        cout<<p->data<<\" \";\n",
    "        p=p->next;\n",
    "    }\n",
    "    cout<<endl;\n",
    "}"
   ]
  },
  {
   "cell_type": "code",
   "execution_count": 10,
   "metadata": {},
   "outputs": [],
   "source": [
    "int LinkedList::Length(){\n",
    "    Node *p=first;\n",
    "    int len=0;\n",
    "    while(p){\n",
    "        len++;\n",
    "        p=p->next;\n",
    "    }\n",
    "    return len;\n",
    "}"
   ]
  },
  {
   "cell_type": "code",
   "execution_count": 11,
   "metadata": {},
   "outputs": [],
   "source": [
    "void LinkedList::Insert(int index, int x){\n",
    "    Node *t, *p=first;\n",
    "    f = first;\n",
    "    \n",
    "    if(index <0 || index > Length())\n",
    "        return;\n",
    "    t = new Node;\n",
    "    t->data = x;\n",
    "    t->next=NULL;\n",
    "    \n",
    "    if(index==0){\n",
    "        t->next = first;\n",
    "        first = t;\n",
    "    }\n",
    "    else{\n",
    "        for(int i =0; i<index-1;i++)\n",
    "            p=p->next;\n",
    "        t->next=p->next;\n",
    "        p->next=t;\n",
    "    }\n",
    "}    "
   ]
  },
  {
   "cell_type": "code",
   "execution_count": 12,
   "metadata": {},
   "outputs": [],
   "source": [
    "int LinkedList::Delete(int index){\n",
    "    Node *p, *q=NULL;\n",
    "    int x = -1;\n",
    "    if(index <0 || index > Length())\n",
    "        return -1;  \n",
    "    if(index==0){\n",
    "        p=first;\n",
    "        first = first->next;\n",
    "        x=p->data; \n",
    "        delete p;\n",
    "    }\n",
    "    else{\n",
    "        p=first;\n",
    "        for(int i =0; i<index;i++)\n",
    "        {\n",
    "            q=p;\n",
    "            p=p->next;\n",
    "        }\n",
    "        q->next=p->next;\n",
    "        x=p->data;\n",
    "        delete p;\n",
    "    }  \n",
    "    return x;\n",
    "}\n"
   ]
  },
  {
   "cell_type": "code",
   "execution_count": 13,
   "metadata": {},
   "outputs": [
    {
     "name": "stdout",
     "output_type": "stream",
     "text": [
      "2 4 6 8 \n",
      "***NOW WE REVERSE***\n",
      "8 6 4 2 \n",
      "***NOW WE REVERSE***\n",
      "2 4 6 8 \n",
      "***NOW WE REVERSE***\n",
      "8 6 4 2 \n"
     ]
    }
   ],
   "source": [
    "LinkedList linky;\n",
    "linky.Insert(0,2);\n",
    "linky.Insert(1,4);\n",
    "linky.Insert(2,6);\n",
    "linky.Insert(3,8);\n",
    "linky.Display();\n",
    "cout<<\"***NOW WE REVERSE***\"<<endl;\n",
    "linky.ReverseLL_Elements();\n",
    "linky.Display();\n",
    "cout<<\"***NOW WE REVERSE***\"<<endl;\n",
    "linky.ReverseLL_Links();\n",
    "linky.Display();\n",
    "cout<<\"***NOW WE REVERSE***\"<<endl;\n",
    "linky.ReverseLL_LinksRecurs(NULL, f);\n",
    "linky.Display();\n"
   ]
  },
  {
   "cell_type": "code",
   "execution_count": null,
   "metadata": {},
   "outputs": [],
   "source": []
  },
  {
   "cell_type": "code",
   "execution_count": null,
   "metadata": {},
   "outputs": [],
   "source": []
  }
 ],
 "metadata": {
  "kernelspec": {
   "display_name": "C++17",
   "language": "C++17",
   "name": "xcpp17"
  },
  "language_info": {
   "codemirror_mode": "text/x-c++src",
   "file_extension": ".cpp",
   "mimetype": "text/x-c++src",
   "name": "c++",
   "version": "-std=c++17"
  }
 },
 "nbformat": 4,
 "nbformat_minor": 2
}

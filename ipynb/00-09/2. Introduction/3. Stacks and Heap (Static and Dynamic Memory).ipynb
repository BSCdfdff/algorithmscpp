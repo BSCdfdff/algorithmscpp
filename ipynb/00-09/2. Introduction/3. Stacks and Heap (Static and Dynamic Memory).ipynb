{
 "cells": [
  {
   "cell_type": "markdown",
   "metadata": {},
   "source": [
    "## Stack and Heaps\n",
    "\n",
    "+ Static Memory\n",
    "+ Dynamic Memory"
   ]
  },
  {
   "cell_type": "markdown",
   "metadata": {},
   "source": [
    "## Static Memory\n",
    "\n",
    "Memory is divided into bytes, and every byte has its own memory\n",
    "\n",
    "For our discussion, the size of main memory is 64KB\n",
    "\n",
    "This is also the size of segment for large memory (8GB memory).\n",
    "\n",
    "So here we only talking about segment.\n",
    "\n",
    "### How does program use main memory\n",
    "\n",
    "We will be taking one segment of memory as analyze it.\n",
    "\n",
    "Program divides memory into three sections:\n",
    "1. Code section\n",
    "Are where machine code is loaded\n",
    "2. Stack\n",
    "3. Heap\n",
    "\n",
    "Here we assume for out discussion :\n",
    "\n",
    "```\n",
    "int a =  2 bytes (normally 8 bytes)\n",
    "float b = 4 bytes (normally 16 bytes)\n",
    "```\n",
    "\n",
    "So these variables is allocated memory in STACK\n",
    "Activation record or stack frame is created for that function or main program\n",
    "\n",
    "So this memory in STACK is **STATIC**\n",
    "\n",
    "Important notes about stack\n",
    "1. Management by compiler\n",
    "2. Programmer only declares it.\n"
   ]
  },
  {
   "cell_type": "markdown",
   "metadata": {},
   "source": [
    "## Dynamic Memory\n",
    "\n",
    "Heap is used for unorganised memory, also referred to an dynamic memory\n",
    "\n",
    "But program CANNOT directly access heap memory, but only through the use of pointers. \n",
    "\n",
    "The size and type of pointer is determined by the data type. e.g.\n",
    "\n",
    "```\n",
    "int *p = new int[5];\n",
    "```\n",
    "\n",
    "So the size/type of the pointer is 8 bytes, i.e. size/(type) of integer\n",
    "\n",
    "So the pointer is defined in STACK. \n",
    "\n",
    "And pointer declares an integer(array) of size 5 in HEAP.\n",
    "\n",
    "But pointer sits in STACK, and memory allocated sits in HEAP.\n",
    "\n",
    "\n",
    "But important about HEAP\n",
    "1. Must deallocate it when no longer required, as it will remain in memory until the life time of the program\n",
    "\n",
    "```\n",
    "delete []p;\n",
    "p = nullptr;\n",
    "```"
   ]
  },
  {
   "cell_type": "code",
   "execution_count": 1,
   "metadata": {},
   "outputs": [],
   "source": [
    "#include <iostream>\n",
    "#include <climits>\n",
    "#include <math.h>\n",
    "using namespace std;"
   ]
  }
 ],
 "metadata": {
  "kernelspec": {
   "display_name": "C++17",
   "language": "C++17",
   "name": "xcpp17"
  },
  "language_info": {
   "codemirror_mode": "text/x-c++src",
   "file_extension": ".cpp",
   "mimetype": "text/x-c++src",
   "name": "c++",
   "version": "-std=c++17"
  }
 },
 "nbformat": 4,
 "nbformat_minor": 2
}

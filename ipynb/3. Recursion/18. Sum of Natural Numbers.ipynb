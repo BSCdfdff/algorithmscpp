{
 "cells": [
  {
   "cell_type": "markdown",
   "metadata": {},
   "source": [
    "# Sum of Natural Number"
   ]
  },
  {
   "cell_type": "markdown",
   "metadata": {},
   "source": [
    "## Sum of Natural Number\n",
    "\n",
    "That is ti get the sum of the following:\n",
    "\n",
    "sum = $1+2+3+4+5+7+...$\n",
    "\n",
    "Let see of we can write a recursive definition for this:\n",
    "\n",
    "$sum(n) = 1+2+3+4+5+7+...+n$\n",
    "\n",
    "But what comes before $n$, we get $n-1$\n",
    "\n",
    "Thus,\n",
    "\n",
    "$sum(n) = 1+2+3+4+5+7+...+(n-1)+n$\n",
    "\n",
    "if:\n",
    "\n",
    "$sum(n) = 1+2+3+4+5+7+...+n$\n",
    "\n",
    "then, \n",
    "\n",
    "$1+2+3+4+5+7+...+(n-1)= sum(n-1)$\n",
    "\n",
    "So,\n",
    "\n",
    "$sum(n) = sum(n-1)+n$\n",
    "\n",
    "**And this is our recursive definition, which we can now convert to recursive function**\n",
    "\n",
    "\n",
    "So the recurrence relation is:\n",
    "\n",
    "\n",
    "$$ $$\n",
    "\n",
    "$$ $$\n",
    "\n",
    "\n",
    "$$\n",
    "sum(n) =\n",
    "\\begin{cases}\n",
    "0  & \\text{where $n = 0$ (Base Condition)} \\\\\n",
    "\\\\ \n",
    " sum(n-1)+n & \\text{where $n > 0$}\n",
    "\\end{cases}\n",
    "$$\n",
    "\n",
    "\n",
    "$$ $$\n",
    "\n",
    "$$ $$\n",
    "\n",
    "\n",
    "Remember when we do recurrence relation, we must have two statements, one for the large value of n, we normally have formula, and for small value we can give a direct answer.\n",
    "\n",
    "\n",
    "\n",
    "We can further say that\n",
    "\n",
    "This can be soled by:\n",
    "1. Recursion\n",
    "2. Loop\n",
    "3. Formula (faster method)\n",
    "\n",
    "\n",
    "Recursion is very inefficient, as it uses stack internally. However as we can see above once you have the recurrent relation, it is very easy to convert it to recursive function. Whereas with loop you will need to figure out how to write the function.\n",
    "\n",
    "\n"
   ]
  },
  {
   "cell_type": "code",
   "execution_count": 1,
   "metadata": {},
   "outputs": [],
   "source": [
    "#include <iostream>\n",
    "#include <climits>\n",
    "#include <math.h>\n",
    "using namespace std;"
   ]
  },
  {
   "cell_type": "markdown",
   "metadata": {},
   "source": [
    "## Recursive Function\n",
    "\n",
    "Space/Memory\n",
    "\n",
    "$O(n)$\n",
    "\n",
    "Time Taken\n",
    "\n",
    "$O(n)$\n"
   ]
  },
  {
   "cell_type": "code",
   "execution_count": 2,
   "metadata": {},
   "outputs": [],
   "source": [
    "int sum(int n);"
   ]
  },
  {
   "cell_type": "code",
   "execution_count": 3,
   "metadata": {},
   "outputs": [],
   "source": [
    "int sum(int n){              \n",
    "    if (n ==0)                \n",
    "       return 0;\n",
    "    else    \n",
    "       return sum(n-1)+n;              \n",
    "    \n",
    "}"
   ]
  },
  {
   "cell_type": "code",
   "execution_count": 4,
   "metadata": {},
   "outputs": [],
   "source": [
    "int y, x=5;\n",
    "y =sum(x);\n"
   ]
  },
  {
   "cell_type": "code",
   "execution_count": 5,
   "metadata": {},
   "outputs": [
    {
     "name": "stdout",
     "output_type": "stream",
     "text": [
      "15\n"
     ]
    }
   ],
   "source": [
    "cout<<y<<endl; "
   ]
  },
  {
   "cell_type": "markdown",
   "metadata": {},
   "source": [
    "## For Loop/Iterative function\n",
    "\n",
    "Space/Memory\n",
    "\n",
    "n = 5, size of stack is 6\n",
    "\n",
    "$O(1)$\n",
    "\n",
    "Time Taken\n",
    "\n",
    "\n",
    "$O(n)$"
   ]
  },
  {
   "cell_type": "code",
   "execution_count": 6,
   "metadata": {},
   "outputs": [],
   "source": [
    "int iSum(int n){\n",
    "    int i, s = 0;\n",
    "    \n",
    "    for (int i=1; i<=n; i++){\n",
    "        s = s+ i;\n",
    "    }\n",
    "    return s;\n",
    "}"
   ]
  },
  {
   "cell_type": "code",
   "execution_count": 7,
   "metadata": {},
   "outputs": [],
   "source": [
    "int b=5, k =0;\n",
    "\n",
    "k = iSum(b);"
   ]
  },
  {
   "cell_type": "code",
   "execution_count": 8,
   "metadata": {},
   "outputs": [
    {
     "name": "stdout",
     "output_type": "stream",
     "text": [
      "15\n"
     ]
    }
   ],
   "source": [
    "cout<<k<<endl;"
   ]
  },
  {
   "cell_type": "markdown",
   "metadata": {},
   "source": [
    "## Simple Formula\n",
    "\n",
    "$$n(n+1)\\over 2$$\n",
    "\n",
    "Time is constant\n",
    "\n",
    "$O(1)$\n"
   ]
  },
  {
   "cell_type": "code",
   "execution_count": 9,
   "metadata": {},
   "outputs": [],
   "source": [
    "int v=5, z=0;\n",
    "z=v*(v+1)/2;\n"
   ]
  },
  {
   "cell_type": "code",
   "execution_count": 10,
   "metadata": {},
   "outputs": [
    {
     "name": "stdout",
     "output_type": "stream",
     "text": [
      "15\n"
     ]
    }
   ],
   "source": [
    "cout<<z<<endl;"
   ]
  },
  {
   "cell_type": "code",
   "execution_count": null,
   "metadata": {},
   "outputs": [],
   "source": []
  }
 ],
 "metadata": {
  "kernelspec": {
   "display_name": "C++17",
   "language": "C++17",
   "name": "xcpp17"
  },
  "language_info": {
   "codemirror_mode": "text/x-c++src",
   "file_extension": ".cpp",
   "mimetype": "text/x-c++src",
   "name": "c++",
   "version": "-std=c++17"
  }
 },
 "nbformat": 4,
 "nbformat_minor": 2
}

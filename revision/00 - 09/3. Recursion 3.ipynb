{
 "cells": [
  {
   "cell_type": "markdown",
   "metadata": {},
   "source": [
    "# Messing with\n",
    "\n",
    "1. Recursion, Linear \n",
    "    Main Point, Statements before and after Recursive Function\n",
    "2. Recursion, Tree\n",
    "    Main Point, Can make multiple recursive calls after each other\n",
    "    Main essence here: is the sequence of stuff:\n",
    "    ```\n",
    "    1. cout<<n<<endl;\n",
    "    2. fun(n-1)\n",
    "    3. fun(n-1)\n",
    "    \n",
    "    ```\n",
    "    For each recursive, you will do step 1 to 3. But when dealing with first fun,we do step 1 to 2, and only when fun is exhausted, n = 0, do we come back to perform step 3 for next fun."
   ]
  },
  {
   "cell_type": "code",
   "execution_count": 1,
   "metadata": {},
   "outputs": [],
   "source": [
    "#include <iostream>\n",
    "#include <climits>\n",
    "#include <math.h>\n",
    "#include <string>\n",
    "#define INSERTION_OPERATOR operator>>\n",
    "#define EXTRACTION_OPERATOR operator<<\n",
    "#define ADDITION_OPERATOR operator+\n",
    "#define SUBTRACT_OPERATOR operator-\n",
    "using namespace std;"
   ]
  },
  {
   "cell_type": "markdown",
   "metadata": {},
   "source": [
    "## Linear Recurs\n",
    "\n",
    "___\n",
    "\n",
    "\n"
   ]
  },
  {
   "cell_type": "code",
   "execution_count": 2,
   "metadata": {},
   "outputs": [],
   "source": [
    "void fun(int n){\n",
    "    if (n> 0){\n",
    "        cout<<\"pre n:\"<<n<<endl;\n",
    "        fun(n-1);\n",
    "        cout<<\"post n:\"<<n<<endl;\n",
    "    }\n",
    "}"
   ]
  },
  {
   "cell_type": "code",
   "execution_count": 3,
   "metadata": {},
   "outputs": [
    {
     "name": "stdout",
     "output_type": "stream",
     "text": [
      "pre n:5\n",
      "pre n:4\n",
      "pre n:3\n",
      "pre n:2\n",
      "pre n:1\n",
      "post n:1\n",
      "post n:2\n",
      "post n:3\n",
      "post n:4\n",
      "post n:5\n"
     ]
    }
   ],
   "source": [
    "int n= 5;\n",
    "fun(n);"
   ]
  },
  {
   "cell_type": "markdown",
   "metadata": {},
   "source": [
    "## Convert to while(First Attempt...)\n",
    "\n",
    "___"
   ]
  },
  {
   "cell_type": "code",
   "execution_count": 4,
   "metadata": {},
   "outputs": [],
   "source": [
    "void funwhile(int n, int m){\n",
    "    while (n>0||m<n){\n",
    "       cout<<\"pre n:\"<<n<<endl;\n",
    "       n--;\n",
    "       m++;\n",
    "       cout<<\"post m:\"<<m<<endl; \n",
    "    }\n",
    "}"
   ]
  },
  {
   "cell_type": "code",
   "execution_count": 5,
   "metadata": {},
   "outputs": [
    {
     "name": "stdout",
     "output_type": "stream",
     "text": [
      "pre n:5\n",
      "post m:1\n",
      "pre n:4\n",
      "post m:2\n",
      "pre n:3\n",
      "post m:3\n",
      "pre n:2\n",
      "post m:4\n",
      "pre n:1\n",
      "post m:5\n"
     ]
    }
   ],
   "source": [
    "n = 5;\n",
    "int m;\n",
    "funwhile(n,m);\n"
   ]
  },
  {
   "cell_type": "markdown",
   "metadata": {},
   "source": [
    "## Convert to while(Second Attempt...)\n",
    "\n",
    "___"
   ]
  },
  {
   "cell_type": "code",
   "execution_count": 6,
   "metadata": {},
   "outputs": [],
   "source": [
    "void funwhile1(int n, int m){\n",
    "    while (n>0){\n",
    "       cout<<\"pre n:\"<<n<<endl;\n",
    "       n--;\n",
    "    }\n",
    "    n = 5;\n",
    "    while (m<n){\n",
    "       m++;\n",
    "       cout<<\"post m:\"<<m<<endl; \n",
    "    }\n",
    "}"
   ]
  },
  {
   "cell_type": "code",
   "execution_count": 7,
   "metadata": {},
   "outputs": [
    {
     "name": "stdout",
     "output_type": "stream",
     "text": [
      "pre n:5\n",
      "pre n:4\n",
      "pre n:3\n",
      "pre n:2\n",
      "pre n:1\n",
      "post m:1\n",
      "post m:2\n",
      "post m:3\n",
      "post m:4\n",
      "post m:5\n"
     ]
    }
   ],
   "source": [
    "n = 5;\n",
    "m=0;\n",
    "funwhile1(n,m);"
   ]
  },
  {
   "cell_type": "markdown",
   "metadata": {},
   "source": [
    "## Tree Recurs\n",
    "\n",
    "___\n"
   ]
  },
  {
   "cell_type": "code",
   "execution_count": 8,
   "metadata": {},
   "outputs": [],
   "source": [
    "void fun2(int n){\n",
    "    if (n> 0){\n",
    "        cout<<n<<\",\";\n",
    "        fun2(n-1);\n",
    "        fun2(n-1);\n",
    "    }\n",
    "    \n",
    "}"
   ]
  },
  {
   "cell_type": "code",
   "execution_count": 9,
   "metadata": {
    "scrolled": true
   },
   "outputs": [
    {
     "name": "stdout",
     "output_type": "stream",
     "text": [
      "5,4,3,2,1,1,2,1,1,3,2,1,1,2,1,1,4,3,2,1,1,2,1,1,3,2,1,1,2,1,1,"
     ]
    }
   ],
   "source": [
    "n= 5;\n",
    "fun2(n);"
   ]
  },
  {
   "cell_type": "code",
   "execution_count": null,
   "metadata": {},
   "outputs": [],
   "source": []
  }
 ],
 "metadata": {
  "kernelspec": {
   "display_name": "C++17",
   "language": "C++17",
   "name": "xcpp17"
  },
  "language_info": {
   "codemirror_mode": "text/x-c++src",
   "file_extension": ".cpp",
   "mimetype": "text/x-c++src",
   "name": "c++",
   "version": "17"
  }
 },
 "nbformat": 4,
 "nbformat_minor": 2
}

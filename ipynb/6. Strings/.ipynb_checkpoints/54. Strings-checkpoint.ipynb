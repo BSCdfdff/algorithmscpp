{
 "cells": [
  {
   "cell_type": "markdown",
   "metadata": {},
   "source": [
    "# Strings\n",
    "\n",
    "+ Character sets or ASCII Codes\n",
    "+ Character Array\n",
    "+ String\n",
    "+ Creating a string (in C Lang)\n"
   ]
  },
  {
   "cell_type": "markdown",
   "metadata": {},
   "source": [
    "## Character sets or ASCII Codes\n",
    "\n",
    "___\n",
    "\n",
    "Remember everything in computers are numbers, i.e binary numbers. But then how does the computer support characters? They don't. For every character there is a ASCII number or code. These codes are maintained by ANSI (Americam National Standards Institute) using ISO standard.\n",
    "\n",
    "\n",
    "ASCII codes are use for the English Alphabet. For other languages like Chinese, Japanese, ect, the Unicode code system is used.\n",
    "\n",
    "That is for every letter there is symbol\n",
    "$$$$\n",
    "\n",
    "$$\\text{Uppercase letters}$$\n",
    "$$A - 65$$\n",
    "$$B - 66$$\n",
    "$$......$$\n",
    "$$Z - 90$$\n",
    "\n",
    "$$$$\n",
    "$$\\text{Lowercase letters}$$\n",
    "$$a - 97$$\n",
    "$$b - 98$$\n",
    "$$......$$\n",
    "$$z - 122$$\n",
    "\n",
    "$$$$\n",
    "$$\\text{Numbers}$$\n",
    "$$0 - 48$$\n",
    "$$1 - 49$$\n",
    "$$......$$\n",
    "$$0 - 57$$\n",
    "\n",
    "Code are from $0 \\text{ to } 127$.  So to represent these codes we use $8$ bits. $s^7=128$ This is $1$ bytes when sign bit.\n",
    "\n",
    "Unicode takes $2 \\text{ byts} = 16 \\text{ bites}$, and represented in Hexadecimal form. and hexadecimal is represented in $4 \\text{ bits}$. That is  $4\\times {4}$. E.g $C03A$, that is $4 \\text{ bits}$ of $4 \\text{ hexadecimal bits}$.\n",
    "\n"
   ]
  },
  {
   "cell_type": "markdown",
   "metadata": {},
   "source": [
    "## How is character represented\n",
    "\n",
    "___\n",
    "\n",
    "```\n",
    "char temp='A'\n",
    "\n",
    "```\n",
    "\n",
    "**Picture here**\n",
    "\n",
    "The above will take $1 \\text{ byte}$ of memory. But A is not stored in memory. The number or ASCII code for $A$, will be stored. That is $65$. \n",
    "\n"
   ]
  },
  {
   "cell_type": "markdown",
   "metadata": {},
   "source": [
    "## What is a character array\n",
    "\n",
    "___\n",
    "\n",
    "Array will be created with name $X$, and have the following char values in the array.\n",
    "\n",
    "\n",
    "```\n",
    "char X[5] = {'A','B', 'C', 'D', 'E'}\n",
    "\n",
    "```\n",
    "\n",
    "And all the ways for creating an array will apply:\n",
    "\n",
    "1. Not giving size,\n",
    "2. Mention less values than size\n",
    "3. No mentioning the size\n",
    "4. New: Giving the ASCII codes as value for char array\n",
    "\n",
    "E.g. Last one:\n",
    "\n",
    "```\n",
    "char X1[5] ={65, 66, 67, 68, 69}\n",
    "\n",
    "```\n",
    "\n",
    "These are the ASCII codes for $ABCDE$. Which is another correct definition for an char array."
   ]
  },
  {
   "cell_type": "markdown",
   "metadata": {},
   "source": [
    "## What are strings?\n",
    "\n",
    "That is how then now do we define a string?\n",
    "\n",
    "We do this by supplying a string to an array.\n",
    "\n",
    "Lets say we want to store the string, John.\n",
    "\n",
    "```\n",
    "char name[10]={'J','o','h','n'}\n",
    "```\n",
    "\n",
    "But this is just an array of chars. How do we say this is a string, to be read as one single value? That is `John`.\n",
    "\n",
    "\n",
    "From the above, we have a problem. The size of the array is $10$, but the length of string is only $4$ chars. How do we know, when we read the array when to stop reading, and what are the valid letters/chars? \n",
    "We had the null character $\\text{\\0}$. This marks the end of string, which also takes a space.\n",
    "\n",
    "\n",
    "$$\n",
    "\\newcommand\\T{\\Rule{0pt}{1em}{.3em}}\n",
    "\\begin{array}{|r|r|r|r|r|r|r|r|r|r|}\n",
    "\\hline \n",
    "J\\T&o\\T&h\\T&n\\T& \\text {\\\\}0\\T&0\\T&0\\T&0\\T&0\\T&0  \\\\\\hline \n",
    "_0\\T&_1\\T&_2\\T&_3\\T&_4\\T&_5\\T&_6\\T&_7\\T&_8\\T&_9 \\\\\\hline \n",
    "\\end{array}\n",
    "$$\n",
    "\n",
    "This, $\\text{\\0}$. is is also called End of String Character or Terminator or String Delimeter.\n",
    "\n",
    "\n",
    "So the above code we need to update, as we need to add $\\text {\\0}$ when we define the array\n",
    "\n",
    "```\n",
    "char name[10]={'J','o','h','n', '\\0'}\n",
    "\n",
    "```\n",
    "\n",
    "Without $\\text {\\0}$ it is just ab array of characters.\n"
   ]
  },
  {
   "cell_type": "markdown",
   "metadata": {},
   "source": [
    "## Ways of creating and initialising stings?\n",
    "\n",
    "___\n",
    "\n",
    "Same as when declaring for only chars.\n",
    "\n",
    "```\n",
    "char name[10]={'J','o','h','n','\\0'}\n",
    "\n",
    "char name[]={'J','o','h','n','\\0'}\n",
    "\n",
    "char name[]=\"John\"\n",
    "```\n",
    "\n",
    "For the last one the  $\\text {\\0}$ will automatically included. And is a better way to define a string\n",
    "\n",
    "\n",
    "All of the above is created in STACK.\n",
    "\n",
    "Another way to define a string, using a character pointer.\n",
    "\n",
    "```\n",
    "char *name=\"John\"\n",
    "\n",
    "```\n",
    "\n",
    "So where will this string be created? It will be automatically created in HEAP (same logic of `name` been in STACK, and array in HEAP)\n",
    "\n",
    "But we did not use `new`. But this is how the compiler syntax works for strings. Just have to accept it.\n",
    "\n",
    "The above does not seem to compile, added const in front:\n",
    "\n",
    "```\n",
    "char const *name=\"John\"\n",
    "\n",
    "```\n",
    "\n",
    "**Picture here**\n",
    "\n",
    "And how can we display a string?\n",
    "\n",
    "We can just say:\n",
    "\n",
    "```\n",
    "cout<<name<<endl;\n",
    "```\n",
    "No need to loop through an array to get values.\n",
    "\n",
    "cout will know how to print it, until it reaches $\\text {\\0}$. \n"
   ]
  },
  {
   "cell_type": "code",
   "execution_count": null,
   "metadata": {},
   "outputs": [],
   "source": [
    "#include <iostream>\n",
    "#include <climits>\n",
    "#include <math.h>\n",
    "using namespace std;"
   ]
  },
  {
   "cell_type": "code",
   "execution_count": 2,
   "metadata": {},
   "outputs": [],
   "source": [
    "char temp='A'"
   ]
  },
  {
   "cell_type": "code",
   "execution_count": 3,
   "metadata": {},
   "outputs": [
    {
     "name": "stdout",
     "output_type": "stream",
     "text": [
      "A\n"
     ]
    }
   ],
   "source": [
    "cout<<temp<<endl;"
   ]
  },
  {
   "cell_type": "code",
   "execution_count": 4,
   "metadata": {},
   "outputs": [],
   "source": [
    "char name1[10]={'J','o','h','n','\\0'};\n",
    "char name2[]={'J','o','h','n','\\0'};\n",
    "char name3[]=\"John\";\n",
    "char const *name4=\"John\";"
   ]
  },
  {
   "cell_type": "code",
   "execution_count": 5,
   "metadata": {},
   "outputs": [
    {
     "name": "stdout",
     "output_type": "stream",
     "text": [
      "John\n",
      "John\n",
      "John\n",
      "John\n"
     ]
    }
   ],
   "source": [
    "cout<<name1<<endl;\n",
    "cout<<name2<<endl;\n",
    "cout<<name3<<endl;\n",
    "cout<<name4<<endl;"
   ]
  },
  {
   "cell_type": "code",
   "execution_count": null,
   "metadata": {},
   "outputs": [],
   "source": []
  }
 ],
 "metadata": {
  "kernelspec": {
   "display_name": "C++17",
   "language": "C++17",
   "name": "xcpp17"
  },
  "language_info": {
   "codemirror_mode": "text/x-c++src",
   "file_extension": ".cpp",
   "mimetype": "text/x-c++src",
   "name": "c++",
   "version": "-std=c++17"
  }
 },
 "nbformat": 4,
 "nbformat_minor": 2
}

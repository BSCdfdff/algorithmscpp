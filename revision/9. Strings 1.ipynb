{
 "cells": [
  {
   "cell_type": "markdown",
   "metadata": {},
   "source": [
    "# Messing with\n",
    "\n",
    "1. Strings. Specifically char data type. Not covering string class type at all.\n",
    "Main Point here: Chars is represeneted by numbers, and converted to chars. Using a scheme called ASCII Code table.\n",
    "2. Getting uppercase. We know Ascii code for ```A is 65```, lowercase for ```a is 97```. So there is difference of 32. \n",
    "3. Other notes is fine...Bur Reversing need some praise: We work with ONE array, and we swap values on fly. Thats great.\n"
   ]
  },
  {
   "cell_type": "code",
   "execution_count": 1,
   "metadata": {},
   "outputs": [],
   "source": [
    "#include <iostream>\n",
    "#include <climits>\n",
    "#include <math.h>\n",
    "#include <string>\n",
    "#define INSERTION_OPERATOR operator>>\n",
    "#define EXTRACTION_OPERATOR operator<<\n",
    "#define ADDITION_OPERATOR operator+\n",
    "#define SUBTRACT_OPERATOR operator-\n",
    "using namespace std;"
   ]
  },
  {
   "cell_type": "markdown",
   "metadata": {},
   "source": [
    "## Just Normal"
   ]
  },
  {
   "cell_type": "code",
   "execution_count": 2,
   "metadata": {},
   "outputs": [],
   "source": [
    "char name[]=\"chesney\";\n",
    "char const *name2=\"conrad\";"
   ]
  },
  {
   "cell_type": "code",
   "execution_count": 3,
   "metadata": {},
   "outputs": [
    {
     "name": "stdout",
     "output_type": "stream",
     "text": [
      "chesney\n"
     ]
    }
   ],
   "source": [
    "cout<<name<<endl;"
   ]
  },
  {
   "cell_type": "code",
   "execution_count": 4,
   "metadata": {},
   "outputs": [
    {
     "name": "stdout",
     "output_type": "stream",
     "text": [
      "conrad\n"
     ]
    }
   ],
   "source": [
    "cout<<name2<<endl;"
   ]
  },
  {
   "cell_type": "code",
   "execution_count": 5,
   "metadata": {},
   "outputs": [
    {
     "name": "stdout",
     "output_type": "stream",
     "text": [
      "Len of name2:6\n"
     ]
    }
   ],
   "source": [
    "int i =0;\n",
    "int j =0;\n",
    "for (;name2[i]!='\\0';i++ ){}\n",
    "\n",
    "cout<<\"Len of name2:\"<<i<<endl;\n",
    "\n",
    "// i =0;\n",
    "// for (;name[i]!='\\0';i++ ){}\n",
    "// cout<<\"Len of name:\"<<i<<endl;"
   ]
  },
  {
   "cell_type": "code",
   "execution_count": 6,
   "metadata": {},
   "outputs": [
    {
     "name": "stdout",
     "output_type": "stream",
     "text": [
      "Uppercase of name:CHESNEY\n"
     ]
    }
   ],
   "source": [
    "i =0;\n",
    "for (;name[i]!='\\0';i++ ){\n",
    "    name[i] = name[i] -32;\n",
    "}\n",
    "cout<<\"Uppercase of name:\"<<name<<endl;"
   ]
  },
  {
   "cell_type": "markdown",
   "metadata": {},
   "source": [
    "## Reverse a string 1\n",
    "\n",
    "___\n",
    "\n",
    "Use another array B"
   ]
  },
  {
   "cell_type": "code",
   "execution_count": null,
   "metadata": {},
   "outputs": [],
   "source": []
  },
  {
   "cell_type": "code",
   "execution_count": 7,
   "metadata": {},
   "outputs": [
    {
     "name": "stdout",
     "output_type": "stream",
     "text": [
      "Len of A:5\n",
      "Bj:6\n",
      "n o h t y p \n",
      "Original A:python\n",
      "Reversed B:nohtyp\n"
     ]
    }
   ],
   "source": [
    "char A[]=\"python\";\n",
    "char B[]=\"\";\n",
    "i=0;\n",
    "j=0;\n",
    "//get end for i\n",
    "for (;A[i]!='\\0';i++ ){}\n",
    "i = i-1;        //TOOK me A few hours without this.\n",
    "cout<<\"Len of A:\"<<i<<endl;\n",
    "for (;j<=i-1,i>=0;i--,j++){\n",
    "    B[j]= A[i];\n",
    "}\n",
    "cout<<\"Bj:\"<<j<<endl;\n",
    "B[j]='\\0';\n",
    "i=0;\n",
    "\n",
    "for (;B[i]!='\\0';i++ ){\n",
    "   cout<<B[i]<<\" \";\n",
    "}\n",
    "cout<<endl;\n",
    "\n",
    "cout<<\"Original A:\"<<A<<endl;    \n",
    "cout<<\"Reversed B:\"<<B<<endl;"
   ]
  },
  {
   "cell_type": "markdown",
   "metadata": {},
   "source": [
    "## Reverse a string 2\n",
    "\n",
    "___\n",
    "\n",
    "Use the same array A, then swap as we go along"
   ]
  },
  {
   "cell_type": "code",
   "execution_count": 8,
   "metadata": {},
   "outputs": [],
   "source": [
    "void swap (char &a, char &b){\n",
    "    char temp;\n",
    "    temp = a;\n",
    "    a = b;\n",
    "    b = temp;\n",
    "        \n",
    "}"
   ]
  },
  {
   "cell_type": "code",
   "execution_count": 9,
   "metadata": {},
   "outputs": [
    {
     "name": "stdout",
     "output_type": "stream",
     "text": [
      "Original C:python\n",
      "Len of C:5\n",
      "l:n\n",
      "k:p\n",
      "l:o\n",
      "k:y\n",
      "l:h\n",
      "k:t\n",
      "Reversed C:nohtyp\n"
     ]
    }
   ],
   "source": [
    "char C[]=\"python\";\n",
    "cout<<\"Original C:\"<<C<<endl;    \n",
    "\n",
    "int k=0;\n",
    "int l=0;\n",
    "//get end for i\n",
    "for (;C[l]!='\\0';l++ ){}\n",
    "l = l-1;\n",
    "cout<<\"Len of C:\"<<l<<endl;\n",
    "for (;k<l;l--,k++){\n",
    "    cout<<\"l:\"<<C[l]<<endl;\n",
    "    cout<<\"k:\"<<C[k]<<endl;\n",
    "    swap(C[k],C[l]);\n",
    "}\n",
    "\n",
    "cout<<\"Reversed C:\"<<C<<endl;"
   ]
  },
  {
   "cell_type": "code",
   "execution_count": null,
   "metadata": {},
   "outputs": [],
   "source": []
  },
  {
   "cell_type": "code",
   "execution_count": null,
   "metadata": {},
   "outputs": [],
   "source": []
  }
 ],
 "metadata": {
  "kernelspec": {
   "display_name": "C++17",
   "language": "C++17",
   "name": "xcpp17"
  },
  "language_info": {
   "codemirror_mode": "text/x-c++src",
   "file_extension": ".cpp",
   "mimetype": "text/x-c++src",
   "name": "c++",
   "version": "17"
  }
 },
 "nbformat": 4,
 "nbformat_minor": 2
}

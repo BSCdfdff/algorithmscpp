{
 "cells": [
  {
   "cell_type": "markdown",
   "metadata": {},
   "source": [
    "# Sorting Techniques\n",
    "\n",
    "___\n",
    "\n",
    "+ Bubble Sort\n",
    "+ Insertion Sort\n",
    "+ Selection Sort\n",
    "+ Heap Sort\n",
    "+ Merge Sort\n",
    "+ Quick Sort\n",
    "+ Tree Sort\n",
    "+ Shell Sort\n",
    "+ Count Sort\n",
    "+ Bucket/Bin Sort\n",
    "+ Radix Sort\n",
    "\n"
   ]
  },
  {
   "cell_type": "markdown",
   "metadata": {},
   "source": [
    "## Comparing Bubble Sort and Insertion Sort\n",
    "\n",
    "___\n",
    "\n",
    "\n",
    "$$\n",
    "\\newcommand\\T{\\Rule{0pt}{1em}{.3em}}\n",
    "\\begin{array}{|r|r|r|r|}\n",
    "\\hline \n",
    "\\T&\\text{Bubble Sort}\\T&\\text{Insertion Sort}\\T&\\text{Where List is in} \\\\\\hline \n",
    "\\text{Min Comparison}\\T&\\text{O}({n)}\\T&\\text{O}({n})\\T&\\text{Ascending Order} \\\\\\hline \n",
    "\\text{Max Comparison}\\T&\\text{O}({n^2})\\T&\\text{O}({n^2})\\T&\\text{Descending Order}  \\\\\\hline \n",
    "\\text{Min Swap}\\T&\\text{O}({1})\\T&\\text{O}({1}) \\T&\\text{Ascending Order} \\\\\\hline \n",
    "\\text{Max Swap}\\T&\\text{O}({n^2})\\T&\\text{O}({n^2})\\T&\\text{Descending Order} \\\\\\hline \n",
    "\\text{Adaptive}\\T& \\Large\\color{\\green}{\\unicode{10003}}\\T&\\Large\\color{\\green}{\\unicode{10003}} \\\\\\hline \n",
    "\\text{Stable}\\T& \\Large\\color{\\green}{\\unicode{10003}}\\T&\\Large\\color{\\green}{\\unicode{10003}} \\\\\\hline \n",
    "\\text{Linked List}\\T&\\text{No}\\T&\\text{Yes} \\\\\\hline \n",
    "\\text{k Passes}\\T&\\text{Yes}\\T&\\text{No} \\\\\\hline \n",
    "\\end{array}\n",
    "$$\n",
    "\n",
    "\n",
    "These are the only two algorithms that are Adaptive.\n",
    "And only three Algorithms are Stable (Merge is also)\n",
    "\n",
    "Bubble sort is not suitable for LL (May have to shift elements), but Insertion Sort is.\n",
    "With Bubble Sort the number of passes (intermediate passes) are useful. Not so with Insertion Sort.\n",
    "\n",
    "\n",
    "\n",
    " "
   ]
  },
  {
   "cell_type": "code",
   "execution_count": null,
   "metadata": {},
   "outputs": [],
   "source": []
  },
  {
   "cell_type": "code",
   "execution_count": null,
   "metadata": {},
   "outputs": [],
   "source": []
  }
 ],
 "metadata": {
  "kernelspec": {
   "display_name": "C++17",
   "language": "C++17",
   "name": "xcpp17"
  },
  "language_info": {
   "codemirror_mode": "text/x-c++src",
   "file_extension": ".cpp",
   "mimetype": "text/x-c++src",
   "name": "c++",
   "version": "17"
  }
 },
 "nbformat": 4,
 "nbformat_minor": 2
}

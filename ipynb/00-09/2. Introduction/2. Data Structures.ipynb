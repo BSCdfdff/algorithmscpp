{
 "cells": [
  {
   "cell_type": "markdown",
   "metadata": {},
   "source": [
    "## Introduction to Data Structures\n",
    "\n",
    "+ "
   ]
  },
  {
   "cell_type": "markdown",
   "metadata": {},
   "source": [
    "## Data Structures\n",
    "\n",
    "Program performs instructions on data\n",
    "\n",
    "Without data there is no use of intructions\n",
    "\n",
    "\n",
    "### But what is Data structure? \n",
    "\n",
    "Arrangement of collection of data so operations can be performed on the data\n",
    "\n",
    "But where is data kept? \n",
    "\n",
    "Inside the programs **main memory***\n",
    "\n",
    "That is how do we utilize the main memory efficiently\n",
    "\n",
    "\n",
    "When you running a program e.g. Notepad?\n",
    "\n",
    "Notepad, application code, will be brought into main memory\n",
    "\n",
    "If I need to open file, then that will will also be brought into main memory\n",
    "\n",
    "so that data must be brought into main memory,it we cannot work on file on  storage.\n",
    "\n",
    "So Data structures can be defined at the efficient use of data brought into main memory to be **efficiently** (space and time complexitiy (process)) by the the program or application.\n",
    "\n",
    "That is the **ARRANGEMENT** AND **ORGANISATION** of data inside the main  memory for efficient use by the application\n",
    "\n",
    "**MAIN MEMORY**\n",
    "\n",
    "-->[start]\n",
    "+ Data\n",
    "---data\n",
    "---\n",
    "---\n",
    "\n",
    "---\n",
    "---\n",
    "---\n",
    "---\n",
    "---\n",
    "+ Notepad [Application]\n",
    "\n",
    "---\n",
    "---\n",
    "---\n",
    "---\n",
    "---\n",
    "---\n",
    "---\n",
    "---\n",
    "---\n",
    "<--[End]\n",
    "\n",
    "\n",
    "The program cannot directly work on the data if stored on hard drive, it must brought into memory"
   ]
  },
  {
   "cell_type": "code",
   "execution_count": 1,
   "metadata": {},
   "outputs": [],
   "source": [
    "#include <iostream>\n",
    "#include <climits>\n",
    "#include <math.h>\n",
    "using namespace std;"
   ]
  },
  {
   "cell_type": "code",
   "execution_count": null,
   "metadata": {},
   "outputs": [],
   "source": [
    "\n"
   ]
  },
  {
   "cell_type": "code",
   "execution_count": null,
   "metadata": {},
   "outputs": [],
   "source": []
  }
 ],
 "metadata": {
  "kernelspec": {
   "display_name": "C++17",
   "language": "C++17",
   "name": "xcpp17"
  },
  "language_info": {
   "codemirror_mode": "text/x-c++src",
   "file_extension": ".cpp",
   "mimetype": "text/x-c++src",
   "name": "c++",
   "version": "-std=c++17"
  }
 },
 "nbformat": 4,
 "nbformat_minor": 2
}

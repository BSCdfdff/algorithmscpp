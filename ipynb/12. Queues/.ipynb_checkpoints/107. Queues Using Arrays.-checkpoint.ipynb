{
 "cells": [
  {
   "cell_type": "markdown",
   "metadata": {},
   "source": [
    "# Queues\n",
    "\n",
    "+ Queue using Single Pointer\n",
    "+ Queue using front and rear\n",
    "+ Drawbacks of Queue using Arrays\n"
   ]
  },
  {
   "cell_type": "markdown",
   "metadata": {},
   "source": [
    "## Queue using single pointer (rear)\n",
    "\n",
    "\n",
    "___\n",
    "\n",
    "$$\n",
    "\\begin{array}{r}\n",
    "\\require{AMScd}\n",
    "@V V V _{rear= -1}&&&&&&&&&\\\\\n",
    "\\end{array}\n",
    "$$\n",
    "\n",
    "$$\n",
    "\\newcommand\\T{\\Rule{0pt}{.1em}{.3em}}\n",
    "\\begin{array}{|r|r|r|r|r|}\n",
    "\\hline \n",
    " \\T&\\T& \\T&\\T& \\T&  \\\\\\hline\n",
    "_{0}\\T&_{1}\\T&_{2} \\T&_{3}\\T&_{4} \\T&_{5} \\\\\n",
    "\\hline\n",
    "\\end{array}\n",
    "$$\n",
    "\n",
    "We have a an array with wit read pointer.\n",
    "\n",
    "Problem:\n",
    "\n",
    "1. No problem with inserting, takes constant time $O(0)$\n",
    "2. But since its a Queue (later on we will see that this term, meaning FIFO gets used loosely), we need to delete from front, that is the first element inserted. Thats means\n",
    "    + We need to delete from front\n",
    "    + So there will be a space, and all the previous elements need to be shifted to front\n",
    "    + And the index of rear pointer needs to be updated as well\n",
    "3. And this takes n times. This is the problem:  $O(n)$   \n",
    "\n",
    "\n",
    "\n"
   ]
  },
  {
   "cell_type": "markdown",
   "metadata": {},
   "source": [
    "## Queue using front and rear pointer\n",
    "\n",
    "___\n",
    "\n",
    "\n",
    "\n",
    "$$\n",
    "\\begin{array}{r}\n",
    "\\require{AMScd}\n",
    "@V V V _{f = -1}@V V V _{r = -1}&&&&&&&&&&&&&&\\\\\n",
    "\\end{array}\n",
    "$$\n",
    "\n",
    "$$\n",
    "\\newcommand\\T{\\Rule{0pt}{.1em}{.3em}}\n",
    "\\begin{array}{|r|r|r|r|r|}\n",
    "\\hline \n",
    " \\T&\\T& \\T&\\T& \\T&  \\\\\\hline\n",
    "_{0}\\T&_{1}\\T&_{2} \\T&_{3}\\T&_{4} \\T&_{5} \\\\\n",
    "\\hline\n",
    "\\end{array}\n",
    "$$\n",
    "\n",
    "\n",
    "Here we have 2 pointers, $front=rear = -1$$\n",
    "\n",
    "1. Insert takes constant time $O(0)$\n",
    "2. As you insert R gets updated to the next inserted element. Front pointer stays at -1.\n",
    "3. To delete, move front to the item you want to delete, and remove the element, remember we follow the FIFO approach.\n",
    "4. So now we have a gap?\n",
    "5. Do the same for next deletion, move front, and delete. So far its constant time $O(0)$. and we do no touch rear pointer\n",
    "6. The only issue here is that we leave gaps in out trail. (later on we will see how to deal with it with some fancy queuing techniques)\n",
    "7. That is when rear reach the end the queue is \"Full\", except for the inaccessible space before the front pointer\n",
    "\n",
    "\n",
    "Lets code\n",
    "\n"
   ]
  },
  {
   "cell_type": "code",
   "execution_count": 1,
   "metadata": {},
   "outputs": [],
   "source": [
    "#include <iostream>\n",
    "#include <climits>\n",
    "#include <math.h>\n",
    "#define INSERTION_OPERATOR operator<<\n",
    "#define EXTRACTION_OPERATOR operator>>\n",
    "#define ADDITION_OPERATOR operator+\n",
    "using namespace std;"
   ]
  },
  {
   "cell_type": "code",
   "execution_count": 2,
   "metadata": {},
   "outputs": [],
   "source": [
    "class Queue{\n",
    "private:\n",
    "  int size;\n",
    "  int front;\n",
    "  int rear;\n",
    "  int *Q;  \n",
    "    \n",
    "public:\n",
    "    Queue(){\n",
    "        size=10;\n",
    "        front = rear = -1;\n",
    "        Q=new int[10];\n",
    "       \n",
    "        \n",
    "    }\n",
    "    Queue(int sz){\n",
    "        size=sz;\n",
    "        front = rear = -1;\n",
    "        Q=new int[sz];\n",
    "    }\n",
    "    ~Queue(){\n",
    "        delete []Q;\n",
    "    }\n",
    "    void Display();\n",
    "    void EnQueue(int x);\n",
    "    int DeQueue();\n",
    "    int IsFull();\n",
    "    int IsEmpty();\n",
    "    \n",
    "}"
   ]
  },
  {
   "cell_type": "code",
   "execution_count": 3,
   "metadata": {},
   "outputs": [],
   "source": [
    "void Queue::EnQueue(int x){\n",
    "   if (IsFull())\n",
    "      cout<<\"Queue Full\"<<endl;\n",
    "    else\n",
    "    {\n",
    "      rear++;\n",
    "      Q[rear] =x; \n",
    "    }\n",
    "    \n",
    "}"
   ]
  },
  {
   "cell_type": "code",
   "execution_count": 4,
   "metadata": {},
   "outputs": [],
   "source": [
    "int Queue::DeQueue (){\n",
    "    int x=-1;\n",
    "    if (IsEmpty())\n",
    "      cout<<\"Queue Empty\"<<endl;\n",
    "    else\n",
    "    {\n",
    "      front++;\n",
    "      x=Q[front];\n",
    "    }\n",
    "    return x;\n",
    "}"
   ]
  },
  {
   "cell_type": "code",
   "execution_count": 5,
   "metadata": {},
   "outputs": [],
   "source": [
    "int Queue::IsFull(){\n",
    "    if (rear==size-1)\n",
    "       return 1;\n",
    "    return 0;\n",
    "}"
   ]
  },
  {
   "cell_type": "code",
   "execution_count": 6,
   "metadata": {},
   "outputs": [],
   "source": [
    "int Queue::IsEmpty(){\n",
    "     if (rear==front)\n",
    "      return 1;\n",
    "    return 0;\n",
    "}"
   ]
  },
  {
   "cell_type": "code",
   "execution_count": 7,
   "metadata": {},
   "outputs": [],
   "source": [
    "void Queue::Display (){\n",
    "   for (int i = front+1; i<=rear; i++)\n",
    "   {\n",
    "     cout<<Q[i]<<\" \";\n",
    "   }\n",
    "   cout<<endl;\n",
    "}"
   ]
  },
  {
   "cell_type": "code",
   "execution_count": 8,
   "metadata": {},
   "outputs": [
    {
     "name": "stdout",
     "output_type": "stream",
     "text": [
      "10 20 30 40 50 \n"
     ]
    }
   ],
   "source": [
    "Queue q(5);\n",
    "q.EnQueue(10);\n",
    "q.EnQueue(20);\n",
    "q.EnQueue(30);\n",
    "q.EnQueue(40);\n",
    "q.EnQueue(50);\n",
    "q.Display();"
   ]
  },
  {
   "cell_type": "markdown",
   "metadata": {},
   "source": [
    "## Queue - Queue is Full"
   ]
  },
  {
   "cell_type": "code",
   "execution_count": 9,
   "metadata": {},
   "outputs": [
    {
     "name": "stdout",
     "output_type": "stream",
     "text": [
      "Queue Full\n"
     ]
    }
   ],
   "source": [
    "q.EnQueue(60);"
   ]
  },
  {
   "cell_type": "markdown",
   "metadata": {},
   "source": [
    "## Queue Underflow - Queue is Empty"
   ]
  },
  {
   "cell_type": "code",
   "execution_count": 10,
   "metadata": {},
   "outputs": [
    {
     "name": "stdout",
     "output_type": "stream",
     "text": [
      "Queue Empty\n"
     ]
    }
   ],
   "source": [
    "q.DeQueue();\n",
    "q.DeQueue();\n",
    "q.DeQueue();\n",
    "q.DeQueue();\n",
    "q.DeQueue();\n",
    "q.DeQueue();"
   ]
  },
  {
   "cell_type": "code",
   "execution_count": 11,
   "metadata": {},
   "outputs": [
    {
     "name": "stdout",
     "output_type": "stream",
     "text": [
      "\n"
     ]
    }
   ],
   "source": [
    "q.Display();"
   ]
  },
  {
   "cell_type": "code",
   "execution_count": null,
   "metadata": {},
   "outputs": [],
   "source": []
  },
  {
   "cell_type": "code",
   "execution_count": null,
   "metadata": {},
   "outputs": [],
   "source": []
  },
  {
   "cell_type": "code",
   "execution_count": null,
   "metadata": {},
   "outputs": [],
   "source": []
  }
 ],
 "metadata": {
  "kernelspec": {
   "display_name": "C++17",
   "language": "C++17",
   "name": "xcpp17"
  },
  "language_info": {
   "codemirror_mode": "text/x-c++src",
   "file_extension": ".cpp",
   "mimetype": "text/x-c++src",
   "name": "c++",
   "version": "-std=c++17"
  }
 },
 "nbformat": 4,
 "nbformat_minor": 2
}

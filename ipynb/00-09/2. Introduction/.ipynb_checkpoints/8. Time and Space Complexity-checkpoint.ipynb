{
 "cells": [
  {
   "cell_type": "markdown",
   "metadata": {},
   "source": [
    "## Time and Space Complexity\n",
    "\n",
    "+ Code Blocks\n"
   ]
  },
  {
   "cell_type": "markdown",
   "metadata": {},
   "source": [
    "## Time and Space Complexity\n",
    "\n",
    "How to get Time and Space Function.\n",
    "\n",
    "Three Functions\n",
    "\n",
    "Every simple statement takes 1 unit of time. But what is a simple statement?\n",
    "\n",
    "Simple statement may:\n",
    "+ Arithmetic operation\n",
    "+ Assigment\n",
    "+ Conditional Statement \n",
    "\n",
    "\n",
    "If more complex, then further broken up...\n",
    "\n",
    "Lets get the time complexity and work out the time function:\n",
    "\n",
    "Here we have swap function:\n"
   ]
  },
  {
   "cell_type": "code",
   "execution_count": 1,
   "metadata": {},
   "outputs": [],
   "source": [
    "#include <iostream>\n",
    "#include <climits>\n",
    "#include <math.h>\n",
    "using namespace std;"
   ]
  },
  {
   "cell_type": "code",
   "execution_count": 2,
   "metadata": {},
   "outputs": [],
   "source": [
    "void swap(int x, int y){\n",
    "    int t;\n",
    "    \n",
    "    t = x;   //----1\n",
    "    x = y;   //----1\n",
    "    y = t;   //----1\n",
    "}"
   ]
  },
  {
   "cell_type": "markdown",
   "metadata": {},
   "source": [
    "Each of the above statements take 1 unit of time, as it is just an assignment\n",
    "\n",
    "(***We don't count the declaration***)\n",
    "\n",
    "$\\text{Total} = 1+ 1+ 1 = 3$\n",
    "\n",
    "$f(n) = 3$\n",
    "\n",
    "So that is a **constant**\n",
    "\n",
    "That is its order of 1\n",
    "\n",
    "Order of 1\n",
    "\n",
    "$ \\text O(1) $"
   ]
  },
  {
   "cell_type": "code",
   "execution_count": 3,
   "metadata": {},
   "outputs": [],
   "source": [
    "int summ(int A[], int n){\n",
    "    int s;\n",
    "    s=0;                           //----1\n",
    "    for (int i = 0; i < n; i++ )   //----n+1\n",
    "    {\n",
    "        s=s+ A[i];                 //----n \n",
    "    }\n",
    "    return s;                      //----1\n",
    "}"
   ]
  },
  {
   "cell_type": "markdown",
   "metadata": {},
   "source": [
    "$\\text{Total} = 1 + n +1 + n + 1 = 2n + 3$\n",
    "\n",
    "\n",
    "$f(n) = 2n + 3$\n",
    "\n",
    "$f(n) = n$\n",
    "\n",
    "Order of n\n",
    "\n",
    "$ \\text O(n) $\n",
    "\n",
    "From the above observations **LOOP** takes most of the time"
   ]
  },
  {
   "cell_type": "code",
   "execution_count": 4,
   "metadata": {},
   "outputs": [],
   "source": [
    "int A[5]={1,5,6,7,3};\n",
    "\n",
    "int total = summ(A,5);"
   ]
  },
  {
   "cell_type": "code",
   "execution_count": 5,
   "metadata": {},
   "outputs": [
    {
     "name": "stdout",
     "output_type": "stream",
     "text": [
      "22\n"
     ]
    }
   ],
   "source": [
    "cout<<total<<endl;"
   ]
  },
  {
   "cell_type": "code",
   "execution_count": 6,
   "metadata": {},
   "outputs": [],
   "source": [
    "void add(int n){\n",
    "   int C[3][3]; \n",
    "   int A[3][3];\n",
    "   int B[3][3]; \n",
    "   for(int i = 0; i <n; i++){            //----n+1 (itself) \n",
    "       for(int j = 0; j < n;j++){        //----n(outer) * (n+1)(itself)\n",
    "           C[i][i]=A[i][j] + B[i][j];    //----n(outer) * n(inner)(itself) \n",
    "       }\n",
    "   }\n",
    "}"
   ]
  },
  {
   "cell_type": "markdown",
   "metadata": {},
   "source": [
    "$\\text{Total} = n+1+n(n+1) + (n\\times n)$\n",
    "\n",
    "$\\text{Total} = n+1+n^2+n + n^2$\n",
    "\n",
    "$\\text{Total} = 2n^2 +2n+1$\n",
    "\n",
    "Order of $ {n^2} $ (always take the highest)\n",
    "\n",
    "$ \\text O(n^2) $\n"
   ]
  },
  {
   "cell_type": "code",
   "execution_count": 7,
   "metadata": {},
   "outputs": [],
   "source": [
    "add(3);\n"
   ]
  }
 ],
 "metadata": {
  "kernelspec": {
   "display_name": "C++17",
   "language": "C++17",
   "name": "xcpp17"
  },
  "language_info": {
   "codemirror_mode": "text/x-c++src",
   "file_extension": ".cpp",
   "mimetype": "text/x-c++src",
   "name": "c++",
   "version": "-std=c++17"
  }
 },
 "nbformat": 4,
 "nbformat_minor": 2
}

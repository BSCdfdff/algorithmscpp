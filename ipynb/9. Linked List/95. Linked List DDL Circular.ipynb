{
 "cells": [
  {
   "cell_type": "markdown",
   "metadata": {},
   "source": [
    "# Linked List\n",
    "+ Reverse a Double LL\n"
   ]
  },
  {
   "cell_type": "markdown",
   "metadata": {},
   "source": [
    "## Display a   Circular DLL\n",
    "\n",
    "___\n",
    "\n",
    "$6\\iff{9}\\iff{3}\\iff{7}\\iff{8}$\n",
    "\n",
    "Works similar to DDL procedure, when we reached the pointer the head again we stop. And here we using do while loop. Same here.\n",
    "\n",
    "\n",
    "\n"
   ]
  },
  {
   "cell_type": "markdown",
   "metadata": {},
   "source": [
    "## Inserting a  Circular DLL\n",
    "\n",
    "___\n",
    "\n",
    "$6\\iff{9}\\iff{3}\\iff{7}\\iff{8}$\n",
    "\n",
    "Inserting at a given position\n",
    "\n",
    "1. Works the same as DDL procedure\n",
    "\n",
    "\n",
    "\n",
    "Inserting before HEAD\n",
    "\n",
    "1. Create new node t.\n",
    "2. In DDL we only made three changes, i.e links where changed.\n",
    "3. But we need to modify the last node now. So where it was previously pointing at head, we need the last node to point to t now.\n",
    "4. That is the additional step.\n",
    "5. That is we need to modify 4 links.\n",
    "\n",
    "So:\n",
    "\n",
    "1. T's next should point on head (first)\n",
    "2. And t's prev should point on heads prevs (where heads prevs was before). Its called heads prev, as this is answer why we dont need to traverse to last node to get this link. We simply can use heads prev. This is important.\n",
    "3. Heads's next should point to t.\n",
    "4. And t'prev should point to t.\n",
    "\n",
    "\n",
    "\n",
    "\n",
    "\n"
   ]
  },
  {
   "cell_type": "markdown",
   "metadata": {},
   "source": [
    "## To be completed\n",
    "\n",
    "1. Insertion\n",
    "2. Deletion"
   ]
  },
  {
   "cell_type": "code",
   "execution_count": 1,
   "metadata": {},
   "outputs": [],
   "source": [
    "#include <iostream>\n",
    "#include <climits>\n",
    "#include <math.h>\n",
    "#define INSERTION_OPERATOR operator<<\n",
    "#define EXTRACTION_OPERATOR operator>>\n",
    "#define ADDITION_OPERATOR operator+\n",
    "using namespace std;"
   ]
  },
  {
   "cell_type": "code",
   "execution_count": 2,
   "metadata": {
    "scrolled": true
   },
   "outputs": [],
   "source": [
    "class Node{ \n",
    "public:\n",
    "    Node *prev;\n",
    "    int data;\n",
    "    Node *next;\n",
    "}*f=NULL;"
   ]
  },
  {
   "cell_type": "code",
   "execution_count": 3,
   "metadata": {},
   "outputs": [],
   "source": [
    "class LinkedList{\n",
    "private:\n",
    "  Node *first;\n",
    "  Node *second;\n",
    "\n",
    "    \n",
    "public:\n",
    "    LinkedList(){\n",
    "        first = NULL;\n",
    "        second =NULL;\n",
    "\n",
    "    }\n",
    "    ~LinkedList(); \n",
    "    void Display(); \n",
    "    LinkedList(int A[], int n);\n",
    "    int Length();\n",
    "    void Insert(int index, int x);\n",
    "    int Delete(int index);\n",
    "    void ReverseDLL();\n",
    "    \n",
    " \n",
    "}\n"
   ]
  },
  {
   "cell_type": "code",
   "execution_count": 4,
   "metadata": {},
   "outputs": [],
   "source": [
    "void LinkedList::ReverseDLL(){\n",
    "   Node *p=first;\n",
    "   Node *temp;\n",
    "    \n",
    "   while (p){\n",
    "      temp=p->next;\n",
    "      p->next=p->prev;\n",
    "      p->prev=temp;\n",
    "      p=p->prev;\n",
    "      if(p!=NULL && p->next==NULL)\n",
    "          first = p;\n",
    "    }\n",
    "}    "
   ]
  },
  {
   "cell_type": "code",
   "execution_count": 5,
   "metadata": {},
   "outputs": [],
   "source": [
    "int LinkedList::Delete(int index){\n",
    "    Node *p, *q=NULL;\n",
    "    \n",
    "    \n",
    "    int x = -1;\n",
    "    \n",
    "    if(index <0 || index > Length())\n",
    "        return -1;  \n",
    "    \n",
    "    \n",
    "    if(index==0){\n",
    "        p=first;\n",
    "        if (first->next!=NULL){\n",
    "            first = first->next;\n",
    "            first->prev=NULL;\n",
    "            x=p->data; \n",
    "            delete p;\n",
    "        }\n",
    "        else{\n",
    "            x=p->data; \n",
    "            delete p;\n",
    "        }\n",
    "    }\n",
    "    else{\n",
    "        p=first;\n",
    "        for(int i =0; i<index-1;i++)\n",
    "        {\n",
    "           p=p->next;\n",
    "        }\n",
    "        \n",
    "        p->prev->next = p->next;\n",
    "        \n",
    "        if (p->next)\n",
    "            p->next->prev = p->prev;\n",
    "         \n",
    "        x=p->data;\n",
    "        delete p;\n",
    "        \n",
    "    }  \n",
    "    return x;\n",
    "}"
   ]
  },
  {
   "cell_type": "code",
   "execution_count": 6,
   "metadata": {},
   "outputs": [],
   "source": [
    "void LinkedList::Insert(int index, int x){\n",
    "    Node *t, *p;\n",
    "    \n",
    "    if (first==NULL){\n",
    "        first= new Node;\n",
    "        first->prev=first->next=NULL;\n",
    "    }        \n",
    "    \n",
    "    p=first;\n",
    "    \n",
    "    if(index <0 || index > Length())\n",
    "        return;\n",
    "    \n",
    "    if(index==0){\n",
    "        t = new Node;\n",
    "        t->data = x;\n",
    "        t->prev=NULL;\n",
    "        t->next = first;\n",
    "        first->prev=t;\n",
    "        first = t;\n",
    "    }\n",
    "    else{\n",
    "        for(int i =0; i<index-1;i++)\n",
    "            p=p->next;\n",
    "        \n",
    "        t = new Node;\n",
    "        t->data = x;\n",
    "        \n",
    "        t->next= p->next;\n",
    "        t->prev = p;\n",
    "        \n",
    "        if (p->next)\n",
    "          p->next->prev = t;      \n",
    "        \n",
    "        p->next = t;\n",
    "      \n",
    "    }\n",
    "}   "
   ]
  },
  {
   "cell_type": "code",
   "execution_count": 7,
   "metadata": {},
   "outputs": [],
   "source": [
    "LinkedList::LinkedList(int A[], int n){\n",
    "    Node *last, *t;\n",
    "    int i = 0;\n",
    "    \n",
    "    first= new Node;\n",
    "    first->data=A[0];\n",
    "    f = first;\n",
    "    first->prev=first->next=NULL;\n",
    "    last = first; \n",
    "    \n",
    "    for(i=1; i<n;i++)\n",
    "    {\n",
    "        t = new Node;\n",
    "        t->data=A[i]; \n",
    "        t->next=NULL;\n",
    "        //dont agree\n",
    "        //last next is null???\n",
    "        //does no harm\n",
    "        //t->next=last->next;\n",
    "        \n",
    "        t->prev = last;\n",
    "        last->next=t;\n",
    "        last=t; \n",
    "    }     \n",
    "}"
   ]
  },
  {
   "cell_type": "code",
   "execution_count": 8,
   "metadata": {},
   "outputs": [],
   "source": [
    "LinkedList::~LinkedList(){\n",
    "    Node *p=first;\n",
    "    while(first)\n",
    "    {\n",
    "      first=first->next;\n",
    "      delete p;\n",
    "      p=first;\n",
    "    }\n",
    "}"
   ]
  },
  {
   "cell_type": "code",
   "execution_count": 9,
   "metadata": {},
   "outputs": [],
   "source": [
    "void LinkedList::Display(){\n",
    "    Node *p=first;\n",
    "    f = first;\n",
    "    if (first->next==NULL){\n",
    "         cout<<first->data<<\" \";\n",
    "    }\n",
    "    else{\n",
    "        while(p){\n",
    "            cout<<p->data<<\" \";\n",
    "            p=p->next;\n",
    "        }\n",
    "    }\n",
    "    cout<<endl;\n",
    "}"
   ]
  },
  {
   "cell_type": "code",
   "execution_count": 10,
   "metadata": {},
   "outputs": [],
   "source": [
    "int LinkedList::Length(){\n",
    "    Node *p=first;\n",
    "    int len=0;\n",
    "    \n",
    "    if (first->next==NULL)\n",
    "         len++;\n",
    "    else{\n",
    "        while(p){\n",
    "            len++;\n",
    "            p=p->next;\n",
    "        }\n",
    "    }\n",
    "    return len;\n",
    "}"
   ]
  },
  {
   "cell_type": "markdown",
   "metadata": {},
   "source": [
    "## Reverse DLL LL\n"
   ]
  },
  {
   "cell_type": "code",
   "execution_count": 11,
   "metadata": {},
   "outputs": [
    {
     "name": "stdout",
     "output_type": "stream",
     "text": [
      "10 20 30 40 50 60 0 \n",
      "REVERSE NOW\n",
      "0 60 50 40 30 20 10 \n"
     ]
    }
   ],
   "source": [
    "LinkedList links;\n",
    "links.Insert(0,10);\n",
    "links.Insert(1,20);\n",
    "links.Insert(2,30);\n",
    "links.Insert(3,40);\n",
    "links.Insert(4,50);\n",
    "links.Insert(5,60);\n",
    "links.Display();\n",
    "\n",
    "cout<<\"REVERSE NOW\"<<endl;\n",
    "links.ReverseDLL();\n",
    "links.Display();\n"
   ]
  },
  {
   "cell_type": "code",
   "execution_count": null,
   "metadata": {},
   "outputs": [],
   "source": []
  }
 ],
 "metadata": {
  "kernelspec": {
   "display_name": "C++17",
   "language": "C++17",
   "name": "xcpp17"
  },
  "language_info": {
   "codemirror_mode": "text/x-c++src",
   "file_extension": ".cpp",
   "mimetype": "text/x-c++src",
   "name": "c++",
   "version": "-std=c++17"
  }
 },
 "nbformat": 4,
 "nbformat_minor": 2
}

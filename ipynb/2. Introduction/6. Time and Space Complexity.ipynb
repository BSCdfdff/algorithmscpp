{
 "cells": [
  {
   "cell_type": "markdown",
   "metadata": {},
   "source": [
    "## Time and Space Complexity\n",
    "\n",
    "+ Time\n"
   ]
  },
  {
   "cell_type": "markdown",
   "metadata": {},
   "source": [
    "## Time Complexity\n",
    "\n",
    "Time = time to perform a task\n",
    "Space = Amount space required for performing task\n",
    "\n",
    "### Arrays\n",
    "\n",
    "So we have Array : 2,5,5,6,8,7,8,8,9,4\n",
    "\n",
    "How many elements are there? 10 elements, or **n** elements.\n",
    "\n",
    "What to do with elements:\n",
    "\n",
    "**Add**. So the time taken is number of elements, n\n",
    "**Search**, also equal to n\n",
    "\n",
    "So we say, order of n \n",
    "\n",
    "$$\\text O(n) $$\n",
    "\n",
    "\n",
    "\n",
    "**Case 1**\n",
    "\n",
    "But in code to access all elements, what code do we write, we need for loop.\n",
    "\n",
    "```\n",
    "for (int i = 0; i < n; +ii)\n",
    "{\n",
    "\n",
    "  ---here we do adding/replacing\n",
    "  So here it will be number elements, \n",
    "  i.e. = n\n",
    "}\n",
    "```\n",
    "\n",
    "**Case 2**\n",
    "Take first element, and compare to rest\n",
    "    Then take 2nd element and compare to rest, including previous elements, i.e. 1st\n",
    "Repeat till last element\n",
    "\n",
    "How many times am I doing it?\n",
    "\n",
    "Do it: \n",
    "\n",
    "$$n\\times n $$\n",
    "\n",
    "$$\\text O(n^2) $$\n",
    "\n",
    "\n",
    "How will the code for this look like: \n",
    "\n",
    "Will be a rest for loop\n",
    "\n",
    "```\n",
    "int n = 5;\n",
    "int t=0;\n",
    "for (int i = 0; i < 5; i++)\n",
    "{\n",
    "    for(int j= 0; j < 5; j++)\n",
    "    {\n",
    "        t++;\n",
    "        cout<<t<<endl;\n",
    "    }\n",
    "}\n",
    "```\n",
    "Time = 25\n",
    "\n",
    "**Case 3**\n",
    "On first element, then process the rest of elements\n",
    "Then on second element, process rest of element, but not processing 1st one\n",
    "Then on third element, process rest of element, but not processing 1st, 2nd elements.\n",
    "\n",
    "Repeat\n",
    "\n",
    "Lets get a fomula for it:\n",
    "\n",
    "Not j will not be starting from 0, as before, but needs to start at `i+1`\n",
    "\n",
    "\n",
    "\n",
    "```\n",
    "int n = 5;\n",
    "int tt=0;\n",
    "for (int i = 0; i < 5; i++)\n",
    "{\n",
    "    for(int j= i+1; j < 5; j++)\n",
    "    {\n",
    "        tt++;\n",
    "        cout<<tt<<endl;\n",
    "    }\n",
    "}\n",
    "```\n",
    "\n",
    "So that is :\n",
    "\n",
    "\n",
    "\n",
    "$$ n-1+ n-2 + n-3+ ...  +4+ 3+ 2 +1 $$\n",
    "\n",
    "\n",
    "$$   n(n-1)\\over 2$$\n",
    "\n",
    "$$ {n(n-1)\\over 2} = {5(5-1)\\over 2} = {5(4)\\over 2} = {20 \\over 2} = 10$$\n",
    "\n",
    "$$ {n(n-1)\\over 2} = {(n^2 - 1)\\over 2} = \\text {Time complexity} = \\text O(n^2) $$\n",
    "\n",
    "\n",
    "Time = 10\n",
    "\n",
    "**Case 4**\n",
    "Lets start in middle, then either left or right, we take middle element\n",
    "Then repeat, so we half it everytime.\n",
    "\n",
    "this process is always dividing the list by 2.\n",
    "\n",
    "This is famous: \n",
    "\n",
    "$$  {log_2}n$$\n",
    "\n",
    "So for code, i is getting divided by 2 everytime\n",
    "\n",
    "\n",
    "Successively divided by 2:\n",
    "\n",
    "```\n",
    "int n = 8;\n",
    "int ttt=0;\n",
    "for (int i = n i >1; i=(i/2))\n",
    "{\n",
    "    ttt++;\n",
    "    cout<<i<<endl;\n",
    "    \n",
    "}\n",
    "8\n",
    "4\n",
    "2\n",
    "```\n",
    "ttt=amount times it will get divided = 3\n",
    "\n",
    "\n",
    "$$ n=1024$$\n",
    "$$ttt=10$$\n",
    "$$ 2^{10} = 1024$$\n",
    "\n",
    "$$n=256$$\n",
    "$$ttt=8$$ \n",
    "$$2^{8} = 256$$\n",
    "\n",
    "\n",
    "\n",
    "So now we have seen Four Cases that worked on Array\n",
    "\n",
    "Lets look at Linked Lists\n",
    "\n",
    "\n",
    "\n"
   ]
  },
  {
   "cell_type": "markdown",
   "metadata": {},
   "source": [
    "### Linked Lists\n",
    "\n",
    "As above with arrays, we can do the same for Linked lists, which will be covered later"
   ]
  },
  {
   "cell_type": "markdown",
   "metadata": {},
   "source": [
    "### Matrix\n",
    "\n",
    "$$ \n",
    "\\begin{bmatrix}\n",
    "1 & 2 & 3 & 4 \\\\\n",
    "2 & 3 & 4 & 4\\\\\n",
    "5 & 1 & 4 & 2\\\\\n",
    "4 & 4 & 2 & 1\n",
    "\\end{bmatrix}\n",
    "$$ \n",
    "\n",
    "Elements are \n",
    "$$ 4\\times 4 $$\n",
    "$$ n\\times n $$ \n",
    "$$n^{2}$$\n",
    "\n",
    "Amount of time:\n",
    "$$\\text O(n^2) $$ \n",
    "\n",
    "\n"
   ]
  },
  {
   "cell_type": "markdown",
   "metadata": {},
   "source": [
    "### Array of Linked List\n",
    "\n",
    "Elements:\n",
    "\n",
    "$$(m + n) = \\text O(n) $$ \n",
    "\n"
   ]
  },
  {
   "cell_type": "markdown",
   "metadata": {},
   "source": [
    "### Binary Tree\n",
    "\n",
    "Depends on height of tree: \n",
    "\n",
    "Half of elements:\n",
    "\n",
    "$$\\text O(log_2{n}) $$ \n",
    "\n",
    "All the elements:\n",
    "\n",
    "$$\\text O(0) $$ \n"
   ]
  },
  {
   "cell_type": "code",
   "execution_count": 1,
   "metadata": {},
   "outputs": [],
   "source": [
    "#include <iostream>\n",
    "#include <climits>\n",
    "#include <math.h>\n",
    "using namespace std;"
   ]
  },
  {
   "cell_type": "code",
   "execution_count": 2,
   "metadata": {},
   "outputs": [
    {
     "name": "stdout",
     "output_type": "stream",
     "text": [
      "In hand Element: 0compare with: \n",
      "0\n",
      "1\n",
      "2\n",
      "3\n",
      "4\n",
      "In hand Element: 1compare with: \n",
      "0\n",
      "1\n",
      "2\n",
      "3\n",
      "4\n",
      "In hand Element: 2compare with: \n",
      "0\n",
      "1\n",
      "2\n",
      "3\n",
      "4\n",
      "In hand Element: 3compare with: \n",
      "0\n",
      "1\n",
      "2\n",
      "3\n",
      "4\n",
      "In hand Element: 4compare with: \n",
      "0\n",
      "1\n",
      "2\n",
      "3\n",
      "4\n"
     ]
    }
   ],
   "source": [
    "int n = 5;\n",
    "int t=0;\n",
    "for (int i = 0; i < 5; i++)\n",
    "{\n",
    "    cout<<\"In hand Element: \"<<i<<\"compare with: \"<<endl;\n",
    "    for(int j= 0; j < 5; j++)\n",
    "    {\n",
    "        t++;\n",
    "        //cout<<t<<endl;\n",
    "        cout<<j<<endl;\n",
    "    }\n",
    "}\n"
   ]
  },
  {
   "cell_type": "code",
   "execution_count": 3,
   "metadata": {},
   "outputs": [
    {
     "name": "stdout",
     "output_type": "stream",
     "text": [
      "25\n"
     ]
    }
   ],
   "source": [
    "cout<<t<<endl;"
   ]
  },
  {
   "cell_type": "code",
   "execution_count": 4,
   "metadata": {},
   "outputs": [
    {
     "name": "stdout",
     "output_type": "stream",
     "text": [
      "In hand Element: 0 compare with: \n",
      "1\n",
      "2\n",
      "3\n",
      "4\n",
      "In hand Element: 1 compare with: \n",
      "2\n",
      "3\n",
      "4\n",
      "In hand Element: 2 compare with: \n",
      "3\n",
      "4\n",
      "In hand Element: 3 compare with: \n",
      "4\n",
      "In hand Element: 4 compare with: \n"
     ]
    }
   ],
   "source": [
    "int tt=0;\n",
    "for (int i = 0; i < 5; i++)\n",
    "{\n",
    "    cout<<\"In hand Element: \"<<i<<\" compare with: \"<<endl;\n",
    "    for(int j= i+1; j < 5; j++)\n",
    "    {\n",
    "        tt++;\n",
    "        //cout<<t<<endl;\n",
    "        cout<<j<<endl;\n",
    "    }\n",
    "}\n"
   ]
  },
  {
   "cell_type": "code",
   "execution_count": 5,
   "metadata": {},
   "outputs": [
    {
     "name": "stdout",
     "output_type": "stream",
     "text": [
      "10\n"
     ]
    }
   ],
   "source": [
    "cout<<tt<<endl;"
   ]
  },
  {
   "cell_type": "code",
   "execution_count": 6,
   "metadata": {},
   "outputs": [
    {
     "name": "stdout",
     "output_type": "stream",
     "text": [
      "256\n",
      "128\n",
      "64\n",
      "32\n",
      "16\n",
      "8\n",
      "4\n",
      "2\n"
     ]
    }
   ],
   "source": [
    "int nn = 256;\n",
    "int ttt=0;\n",
    "for (int i = nn; i >1; i=(i/2))\n",
    "{\n",
    "    ttt++;\n",
    "    //cout<<t<<endl;\n",
    "    cout<<i<<endl;\n",
    "    \n",
    "}\n"
   ]
  },
  {
   "cell_type": "code",
   "execution_count": 7,
   "metadata": {},
   "outputs": [
    {
     "name": "stdout",
     "output_type": "stream",
     "text": [
      "8\n"
     ]
    }
   ],
   "source": [
    "cout<<ttt<<endl;"
   ]
  },
  {
   "cell_type": "code",
   "execution_count": 8,
   "metadata": {},
   "outputs": [
    {
     "name": "stdout",
     "output_type": "stream",
     "text": [
      "128\n",
      "64\n",
      "32\n",
      "16\n",
      "8\n",
      "4\n",
      "2\n",
      "1\n"
     ]
    }
   ],
   "source": [
    "int n2=256;\n",
    "int ii = n2;\n",
    "int t2=0;\n",
    "while (ii>1){\n",
    "    t2++;\n",
    "    ii = (ii/2);\n",
    "    //cout<<t<<endl;\n",
    "    cout<<ii<<endl;\n",
    "}\n"
   ]
  },
  {
   "cell_type": "code",
   "execution_count": 9,
   "metadata": {},
   "outputs": [
    {
     "name": "stdout",
     "output_type": "stream",
     "text": [
      "8\n"
     ]
    }
   ],
   "source": [
    "cout<<t2<<endl;"
   ]
  }
 ],
 "metadata": {
  "kernelspec": {
   "display_name": "C++17",
   "language": "C++17",
   "name": "xcpp17"
  },
  "language_info": {
   "codemirror_mode": "text/x-c++src",
   "file_extension": ".cpp",
   "mimetype": "text/x-c++src",
   "name": "c++",
   "version": "17"
  }
 },
 "nbformat": 4,
 "nbformat_minor": 2
}

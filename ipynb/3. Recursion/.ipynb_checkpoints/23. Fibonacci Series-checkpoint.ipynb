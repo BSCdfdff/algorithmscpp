{
 "cells": [
  {
   "cell_type": "markdown",
   "metadata": {},
   "source": [
    "# Fibonacci Series"
   ]
  },
  {
   "cell_type": "markdown",
   "metadata": {},
   "source": [
    "## Fibonacci Series\n",
    "___\n",
    "\n",
    "$$\\text{fib (n):}\\begin{matrix}0 & 1 & 1 & 2 & 3 & 5 & 8 & 13\\end{matrix}$$\n",
    "\n",
    "$$\\text{term n:}\\begin{matrix}0 & 1 & 2 & 3 & 4 & 5 & 6 & 7\\end{matrix}$$\n",
    "\n",
    "\n",
    "\n",
    "What is a fibonacci Series? the next term is obtained by adding the previous two terms\n",
    "\n",
    "So the starting terms are 0 and 1\n",
    "\n",
    "If 0, then 0\n",
    "If 1, then 1\n",
    "\n",
    "Then the rest or 3rd term is obtained by adding the two previous terms.\n",
    "\n",
    "So initially you must have two terms, ie. 0 and 1.\n",
    "\n",
    "Mathematically we can define:\n",
    "\n",
    "\n",
    "\n",
    "$$ $$\n",
    "\n",
    "$$ $$\n",
    "\n",
    "\n",
    "$$\n",
    "fib(n) =\n",
    "\\begin{cases}\n",
    "0  & \\text{where $n = 0$ (Base/Exit Condition 1)} \\\\\n",
    "1  & \\text{where $n = 1$ (Base/Exit Condition 2)} \\\\\n",
    "\\\\\n",
    "fib(n-1) + fib(n-2) & \\text{where $n > 0$}\n",
    "\\end{cases}\n",
    "$$\n",
    "\n",
    "\n",
    "$$ $$\n",
    "\n",
    "$$ $$\n",
    " \n",
    "\n",
    "\n",
    "Base on the above recurrence relation (RR) we can define a recursive function\n",
    "\n",
    "\n",
    "\n",
    "\n",
    "\n"
   ]
  },
  {
   "cell_type": "code",
   "execution_count": 1,
   "metadata": {},
   "outputs": [],
   "source": [
    "#include <iostream>\n",
    "#include <climits>\n",
    "#include <math.h>\n",
    "using namespace std;"
   ]
  },
  {
   "cell_type": "markdown",
   "metadata": {},
   "source": [
    "## Using Loop\n",
    "\n",
    "Some basic logic of the function:\n",
    "\n",
    "\n",
    "If n = 0, then return 0.If n = 1, then return 1\n",
    "\n",
    "Then we need to add two terms: t0=0, t1=1. Remember Those are the initial values, and s=0 for the sum.\n",
    "\n",
    "So we have term 0 and term 1, so we need to obtain term3:\n",
    "\n",
    "\n",
    "Term 3=t0+t1;\n",
    "s = t0+t1;\n",
    "\n",
    "And now to get the next term:\n",
    "\n",
    "Term 3 = sum\n",
    "\n",
    "Now we need move the series along, that is t0 need to become t1, and t1, need to become sum(s)\n",
    "\n",
    "t0 = t1\n",
    "t1= s\n",
    "\n",
    "We remember the loop need to start at index 2 = value 2, and index 0 is t0, and index 1 is t1, which is already taken care of.\n",
    "\n",
    "So time taken is $$\\text O(n) $$\n",
    "\n"
   ]
  },
  {
   "cell_type": "code",
   "execution_count": 2,
   "metadata": {},
   "outputs": [],
   "source": [
    "int fibLoop(int x);"
   ]
  },
  {
   "cell_type": "code",
   "execution_count": 3,
   "metadata": {},
   "outputs": [],
   "source": [
    "int fibLoop(int n){    \n",
    "    int t0=0, t1=1, s=0;\n",
    "    if(n<=1)\n",
    "        return n;\n",
    "    for (int i = 2; i<=n;i++){\n",
    "        s=t0+t1;\n",
    "        t0=t1;\n",
    "        t1=s;\n",
    "    }\n",
    "    return s;\n",
    "    \n",
    "}"
   ]
  },
  {
   "cell_type": "code",
   "execution_count": 4,
   "metadata": {},
   "outputs": [],
   "source": [
    "int x20=10;\n",
    "int z20=0;\n",
    "z20 =fibLoop(x20);"
   ]
  },
  {
   "cell_type": "code",
   "execution_count": 5,
   "metadata": {},
   "outputs": [
    {
     "name": "stdout",
     "output_type": "stream",
     "text": [
      "55\n"
     ]
    }
   ],
   "source": [
    "cout<<z20<<endl; "
   ]
  },
  {
   "cell_type": "markdown",
   "metadata": {},
   "source": [
    "## Normal Fibonacci\n",
    "\n",
    "Some basic logic of the function:\n",
    "\n",
    "\n",
    "If n = 0, then return 0.If n = 1, then return 1\n",
    "\n",
    "So we can put it in one statement:\n",
    "\n",
    "if n <= 1, then return n\n",
    "\n",
    "The rest is just the RR\n",
    "\n",
    "\n",
    "It is not very efficient....\n",
    "\n",
    "Place pic here\n",
    "\n",
    "For fib(5), number of calls is 15\n",
    "\n",
    "So time taken approximately is $$\\text O(2^n) $$\n",
    "\n",
    "$$ \\text (Exponential) $$\n",
    "\n",
    "Is there a method to make it faster...\n",
    "\n",
    "\n"
   ]
  },
  {
   "cell_type": "code",
   "execution_count": 6,
   "metadata": {},
   "outputs": [],
   "source": [
    "int fibRec(int x);"
   ]
  },
  {
   "cell_type": "code",
   "execution_count": 7,
   "metadata": {},
   "outputs": [],
   "source": [
    "int fibRec(int n){    \n",
    "    if(n<=1)\n",
    "        return n;\n",
    "    return fibRec(n-2)+fibRec(n-1);\n",
    "\n",
    "}\n",
    "    "
   ]
  },
  {
   "cell_type": "code",
   "execution_count": 8,
   "metadata": {},
   "outputs": [],
   "source": [
    "int x=20;\n",
    "int z=0;\n",
    "z =fibRec(x);"
   ]
  },
  {
   "cell_type": "code",
   "execution_count": 9,
   "metadata": {},
   "outputs": [
    {
     "name": "stdout",
     "output_type": "stream",
     "text": [
      "6765\n"
     ]
    }
   ],
   "source": [
    "cout<<z<<endl; "
   ]
  },
  {
   "cell_type": "markdown",
   "metadata": {},
   "source": [
    "## ## Normal Fibonacci using Memoization (static variables)\n",
    "\n",
    "To make it faster, we can from tracing tree we calling fibs multiple times, that is a recursive function is calling itself multiple times, for the SAME value\n",
    "\n",
    "This type of recursion is called EXCESSIVE RECURSION\n",
    "\n",
    "If we have this value, is it not possible to store this value in some store (array), and then when we need it \n",
    "\n",
    "That is is there a way to avoid these excessive calls? Make the call only once, and having obtained this value, utilize it\n",
    " \n",
    "\n",
    "So we need to take either static or global variable\n",
    "\n",
    "Lets use a global array: F[6], for fib(5), and initialize it with -1 (i.e. meaning we do not know\n",
    "\n",
    "\n",
    "Lets start at fib(5), do we need to call it? Check table, value is -1, yes we need to call it. then we get fib(3), do we need to call it, check fib (3) entry in table, value -1, yes we need to call it, We get answer fib (1),do we need to call it, check fib (1 entry in table, value -1, yes we need to call it. Now with into the base/exit condition, and the result is 1. Once we have the answer, we update the entry for n=1 in table to 1. Now we have the answer for fib(1).\n",
    "\n",
    "Now we go back, up the tree. And next answer (Next one in line) is fib(2), do we need to call it, check fib (2) entry in table, value -1, yes we need to call it. We get answer fib (0),do we need to call it, check fib (1 entry in table, value -1, yes we need to call it. Now we into the base/exit condition, and the result is 0. Once we have the answer, we update the entry for n=0 in table to 0. Now we have the answer for fib(0).\n",
    "\n",
    "\n",
    "Now we go back, up the tree. And next answer (Next one in line) is fib(1), do we need to call. No we have the answer in the table =1. So WE DO NOT CALL it. \n",
    "\n",
    "Then we get the answer for fib(2) = fib(0) + fib(1) = 0 + 1 = 1. So we update the table entry for fib(2) = 1 \n",
    "\n",
    "fib 3 = fib(1) + fin(2) = 1+1 = 2\n",
    "\n",
    "Then we do Fib(4). Do we need to call it, check fib (4) entry in table, value -1, yes we need to call it. We get answer fib (2),do we need to call it, check fib (2) in table. Yes we have value =1. So we DO NOT CALL it.\n",
    "\n",
    "We do not call fib(0), Do not call fib(1), and rest calls are ALL Avoided \n",
    "\n",
    "\n",
    "So it just making 6 function call for n =5\n",
    "\n",
    "So time taken is $$\\text O(n) $$\n",
    "\n",
    "\n",
    "\n"
   ]
  },
  {
   "cell_type": "code",
   "execution_count": 10,
   "metadata": {},
   "outputs": [],
   "source": [
    "int sz=31;\n",
    "int F[31];\n",
    "for(int i=0; i<sz;i++)\n",
    "{\n",
    "    F[i]=-1;\n",
    "}"
   ]
  },
  {
   "cell_type": "code",
   "execution_count": 11,
   "metadata": {},
   "outputs": [],
   "source": [
    "int fibRecMem(int x);"
   ]
  },
  {
   "cell_type": "code",
   "execution_count": 12,
   "metadata": {},
   "outputs": [],
   "source": [
    "int fibRecMem(int n){    \n",
    "    if(n<=1){\n",
    "        F[n]=n;\n",
    "        return n;\n",
    "    }\n",
    "    else\n",
    "    {\n",
    "     if (F[n-2]==-1)\n",
    "        F[n-2]=fibRecMem(n-2);\n",
    "     if (F[n-1]==-1)\n",
    "        F[n-1]=fibRecMem(n-1);\n",
    "     F[n] = F[n-2] + F[n-1];\n",
    "     return F[n-2] + F[n-1];   \n",
    "    }\n",
    "}\n",
    "    "
   ]
  },
  {
   "cell_type": "code",
   "execution_count": 13,
   "metadata": {},
   "outputs": [],
   "source": [
    "int x111=30; \n",
    "int z111=0;\n",
    "\n",
    "z111 =fibRecMem(x111);\n"
   ]
  },
  {
   "cell_type": "code",
   "execution_count": 14,
   "metadata": {},
   "outputs": [
    {
     "name": "stdout",
     "output_type": "stream",
     "text": [
      "832040\n"
     ]
    }
   ],
   "source": [
    "cout<<z111<<endl; "
   ]
  },
  {
   "cell_type": "code",
   "execution_count": null,
   "metadata": {},
   "outputs": [],
   "source": []
  },
  {
   "cell_type": "code",
   "execution_count": null,
   "metadata": {},
   "outputs": [],
   "source": []
  }
 ],
 "metadata": {
  "kernelspec": {
   "display_name": "C++17",
   "language": "C++17",
   "name": "xcpp17"
  },
  "language_info": {
   "codemirror_mode": "text/x-c++src",
   "file_extension": ".cpp",
   "mimetype": "text/x-c++src",
   "name": "c++",
   "version": "-std=c++17"
  }
 },
 "nbformat": 4,
 "nbformat_minor": 2
}

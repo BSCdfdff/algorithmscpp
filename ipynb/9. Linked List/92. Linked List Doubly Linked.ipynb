{
 "cells": [
  {
   "cell_type": "markdown",
   "metadata": {},
   "source": [
    "# Linked List\n",
    "+ Double Link List"
   ]
  },
  {
   "cell_type": "markdown",
   "metadata": {},
   "source": [
    "## Doubly Linked List\n",
    "\n",
    "___\n",
    "\n",
    "In Single LL, every node has a pointer to next node. Its forward only. With DLL, every node has a pointer to previous node as well. so we can go forward and backward.\n",
    "\n",
    "That is can can access a list bidirectionally.\n",
    "\n",
    "\n",
    "\n"
   ]
  },
  {
   "cell_type": "markdown",
   "metadata": {},
   "source": [
    "## Structure of Node\n",
    "\n",
    "Node structure:\n",
    "\n",
    "1. Prev\n",
    "2. Data\n",
    "3. Next\n",
    "\n"
   ]
  },
  {
   "cell_type": "markdown",
   "metadata": {},
   "source": [
    "## How to Create a Node\n",
    "\n",
    "\n",
    "```\n",
    "Node *t;\n",
    "t= new Node;\n",
    "t->prev = NULL;\n",
    "t->data=10;\n",
    "t->next=NULL;\n",
    "```"
   ]
  },
  {
   "cell_type": "markdown",
   "metadata": {},
   "source": [
    "## What are the operations:\n",
    "\n",
    "Same as the Single Linked List.Only difference here is that we can go forward and backward, otherwise we can do all the same operations as before.\n"
   ]
  },
  {
   "cell_type": "markdown",
   "metadata": {},
   "source": [
    "## Simple insert using Array\n",
    "\n",
    "How did the single list work:\n",
    "\n",
    "1. We have 3 pointer nodes: first, last and t for new node.\n",
    "2. We firstly create the ```first``` new node. \n",
    "3. We set ```first``` equal to the first element of (index 0) array. (```first->data=A[0]```) \n",
    "4. Then we set first's next equal to NULL (```first->next=NULL```)\n",
    "5. And since that is the first and only node, we set ```last=first```\n",
    "6. We start array loop\n",
    "7. We create ```t``` new node\n",
    "8. Assign the next array element to ```t->data```.\n",
    "9. Also set t's next to NULL.\n",
    "10. Now last, is no longer last, so we make last's next equal to the newly created t. (```last->next=t```)\n",
    "11. And last will now become t (```last=t```)\n",
    "\n",
    "How doubly link list insert works:\n",
    "\n",
    "1. Same as above up till point 4. But also set first]s prev equal to NULL (```first->next=first->prev=NULL```)\n",
    "2. Same as above all above\n",
    "3. Only addition is where we need to link up t's prev to last , since last is node before t (```t->prev=last```)\n"
   ]
  },
  {
   "cell_type": "markdown",
   "metadata": {},
   "source": [
    "## Double Linked List Insert using Array\n",
    "\n",
    "___\n",
    "\n",
    "\n",
    "1. Same as above up till point 4. But also set first]s prev equal to NULL (```first->next=first->prev=NULL```)\n",
    "2. Same as above all above\n",
    "3. Only addition is where we need to link up t's prev to last , since last is node before t (```t->prev=last```)\n",
    "\n",
    "\n",
    "\n"
   ]
  },
  {
   "cell_type": "code",
   "execution_count": 1,
   "metadata": {},
   "outputs": [],
   "source": [
    "#include <iostream>\n",
    "#include <climits>\n",
    "#include <math.h>\n",
    "#define INSERTION_OPERATOR operator<<\n",
    "#define EXTRACTION_OPERATOR operator>>\n",
    "#define ADDITION_OPERATOR operator+\n",
    "using namespace std;"
   ]
  },
  {
   "cell_type": "code",
   "execution_count": 2,
   "metadata": {
    "scrolled": true
   },
   "outputs": [],
   "source": [
    "class Node{\n",
    "public:\n",
    "    Node *prev;\n",
    "    int data;\n",
    "    Node *next;\n",
    "}*f=NULL;"
   ]
  },
  {
   "cell_type": "code",
   "execution_count": 3,
   "metadata": {},
   "outputs": [],
   "source": [
    "class LinkedList{\n",
    "private:\n",
    "  Node *first;\n",
    "  Node *second;\n",
    "\n",
    "    \n",
    "public:\n",
    "    LinkedList(){\n",
    "        first = NULL;\n",
    "        second =NULL;\n",
    "\n",
    "    }\n",
    "    ~LinkedList(); \n",
    "    void Display();\n",
    "    LinkedList(int A[], int n);\n",
    "    int Length();\n",
    " \n",
    "}\n"
   ]
  },
  {
   "cell_type": "code",
   "execution_count": 4,
   "metadata": {},
   "outputs": [],
   "source": [
    "LinkedList::LinkedList(int A[], int n){\n",
    "    Node *last, *t;\n",
    "    int i = 0;\n",
    "    \n",
    "    first= new Node;\n",
    "    first->data=A[0];\n",
    "    f = first;\n",
    "    first->prev=first->next=NULL;\n",
    "    last = first; \n",
    "    \n",
    "    for(i=1; i<n;i++)\n",
    "    {\n",
    "        t = new Node;\n",
    "        t->data=A[i]; \n",
    "        t->next=NULL;\n",
    "        //dont agree\n",
    "        //last next is null???\n",
    "        //does no harm\n",
    "        //t->next=last->next;\n",
    "        \n",
    "        t->prev = last;\n",
    "        last->next=t;\n",
    "        last=t; \n",
    "    }     \n",
    "}"
   ]
  },
  {
   "cell_type": "code",
   "execution_count": 5,
   "metadata": {},
   "outputs": [],
   "source": [
    "LinkedList::~LinkedList(){\n",
    "    Node *p=first;\n",
    "    while(first)\n",
    "    {\n",
    "      first=first->next;\n",
    "      delete p;\n",
    "      p=first;\n",
    "    }\n",
    "}"
   ]
  },
  {
   "cell_type": "code",
   "execution_count": 6,
   "metadata": {},
   "outputs": [],
   "source": [
    "void LinkedList::Display(){\n",
    "    Node *p=first;\n",
    "    f = first;\n",
    "    while(p){\n",
    "        cout<<p->data<<\" \";\n",
    "        p=p->next;\n",
    "    }\n",
    "    cout<<endl;\n",
    "}"
   ]
  },
  {
   "cell_type": "code",
   "execution_count": 7,
   "metadata": {},
   "outputs": [],
   "source": [
    "int LinkedList::Length(){\n",
    "    Node *p=first;\n",
    "    int len=0;\n",
    "    while(p){\n",
    "        len++;\n",
    "        p=p->next;\n",
    "    }\n",
    "    return len;\n",
    "}"
   ]
  },
  {
   "cell_type": "markdown",
   "metadata": {},
   "source": [
    "## Insert using Array"
   ]
  },
  {
   "cell_type": "code",
   "execution_count": 8,
   "metadata": {},
   "outputs": [
    {
     "name": "stdout",
     "output_type": "stream",
     "text": [
      "3 5 7 10 15 \n"
     ]
    }
   ],
   "source": [
    "int A[] = {3,5,7,10,15};\n",
    "LinkedList ll(A,5);\n",
    "ll.Display();"
   ]
  },
  {
   "cell_type": "code",
   "execution_count": null,
   "metadata": {},
   "outputs": [],
   "source": []
  }
 ],
 "metadata": {
  "kernelspec": {
   "display_name": "C++17",
   "language": "C++17",
   "name": "xcpp17"
  },
  "language_info": {
   "codemirror_mode": "text/x-c++src",
   "file_extension": ".cpp",
   "mimetype": "text/x-c++src",
   "name": "c++",
   "version": "-std=c++17"
  }
 },
 "nbformat": 4,
 "nbformat_minor": 2
}

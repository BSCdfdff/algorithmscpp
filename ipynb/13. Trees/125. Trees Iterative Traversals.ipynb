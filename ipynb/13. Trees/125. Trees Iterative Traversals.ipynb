{
 "cells": [
  {
   "cell_type": "markdown",
   "metadata": {},
   "source": [
    "# Trees\n",
    "___\n",
    "\n",
    "+ Preorder Iterative Traversals\n",
    "+ Inorder Iterative Traversals\n",
    "+ Postorder Iterative Traversals\n",
    "\n"
   ]
  },
  {
   "cell_type": "markdown",
   "metadata": {},
   "source": [
    "## Preorder Iterative Traversals\n",
    "\n",
    "___\n",
    "\n",
    "```\n",
    "                                          root\n",
    "                                   +-----+-----+-----+\n",
    "                                   | 210 |  8  | 230 |\n",
    "                                   +-----+-----+-----+\n",
    "                                           200\n",
    "                                 /                    \\\n",
    "                                /                      \\\n",
    "                               /                        \\\n",
    "                              /                          \\\n",
    "\n",
    "                   +-----+-----+-----+                   +-----+-----+-----+\n",
    "                   | 270 |  3  | 300 |                   | 310 |  5  | 320 |\n",
    "                   +-----+-----+-----+                   +-----+-----+-----+\n",
    "                      /    210 \\                          /       230      \\\n",
    "                     /          \\                        /                  \\\n",
    "                    /            \\                      /                    \\\n",
    "                   /              \\                    /                      \\\n",
    "   +-----+-----+-----+  +-----+-----+-----+      +-----+-----+-----+  +-----+-----+-----+\n",
    "   |  \\  |  4  |  \\  |  |  \\  |  9  |  \\  |      |  \\  |  7  |  \\  |  |  \\  |  2  |  \\  |\n",
    "   +-----+-----+-----+  +-----+-----+-----+      +-----+-----+-----+  +-----+-----+-----+\n",
    "           270                  300                      310                  320\n",
    "```\n",
    "\n",
    "Remember with Recursion, an internal or system stack is used.\n",
    "\n",
    "So to convert recursive function to iteratibve function, that is a function with loops, then we need to use a STACK as well.\n",
    "\n",
    " "
   ]
  }
 ],
 "metadata": {
  "kernelspec": {
   "display_name": "C++17",
   "language": "C++17",
   "name": "xcpp17"
  },
  "language_info": {
   "codemirror_mode": "text/x-c++src",
   "file_extension": ".cpp",
   "mimetype": "text/x-c++src",
   "name": "c++",
   "version": "17"
  }
 },
 "nbformat": 4,
 "nbformat_minor": 2
}

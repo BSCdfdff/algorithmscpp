{
 "cells": [
  {
   "cell_type": "markdown",
   "metadata": {},
   "source": [
    "# Strings\n",
    "\n",
    "+ Character sets or ASCII Codes\n",
    "+ Character Array\n",
    "+ String\n",
    "+ Creating a string (in C Lang)\n"
   ]
  },
  {
   "cell_type": "markdown",
   "metadata": {},
   "source": [
    "## Counting Vowels\n",
    "\n",
    "___\n",
    "\n",
    "\n",
    "$$\n",
    "\\newcommand\\T{\\Rule{0pt}{1em}{.3em}}\n",
    "\\begin{array}{|r|r|r|r|r|r|r|r|r|r|}\n",
    "\\hline \n",
    "H\\T&o\\T&w\\T&\\T&a\\T&r\\T&e\\T&\\T&y\\T&o\\T&u \\T&\\text {\\\\}0  \\\\\\hline \n",
    "_0\\T&_1\\T&_2\\T&_3\\T&_4\\T&_5\\T&_6\\T&_7\\T&_8\\T&_9\\T&_{10}\\T&_{11} \\\\\\hline \n",
    "\\end{array}\n",
    "$$\n",
    "\n",
    "Vowels: a, e, i, o, u\n"
   ]
  },
  {
   "cell_type": "markdown",
   "metadata": {},
   "source": [
    "## Counting Words\n",
    "\n",
    "___\n",
    "\n",
    "$$\n",
    "\\newcommand\\T{\\Rule{0pt}{1em}{.3em}}\n",
    "\\begin{array}{|r|r|r|r|r|r|r|r|r|r|}\n",
    "\\hline \n",
    "H\\T&o\\T&w\\T&\\T&a\\T&r\\T&e\\T&\\T&y\\T&o\\T&u \\T&\\text {\\\\}0  \\\\\\hline \n",
    "_0\\T&_1\\T&_2\\T&_3\\T&_4\\T&_5\\T&_6\\T&_7\\T&_8\\T&_9\\T&_{10}\\T&_{11} \\\\\\hline \n",
    "\\end{array}\n",
    "$$\n",
    "\n",
    "We look for spaces. So we look for these spaces.\n",
    "\n",
    "But if you have continious set of spaces. This is called white space\n",
    "\n",
    "$$\n",
    "\\newcommand\\T{\\Rule{0pt}{1em}{.3em}}\n",
    "\\begin{array}{|r|r|r|r|r|r|r|r|r|r|}\n",
    "\\hline \n",
    "H\\T&o\\T&w\\T&\\T&a\\T&r\\T&e\\T&\\T&\\T&\\T&u \\T&\\text {\\\\}0  \\\\\\hline \n",
    "_0\\T&_1\\T&_2\\T&_3\\T&_4\\T&_5\\T&_6\\T&_7\\T&_8\\T&_9\\T&_{10}\\T&_{11} \\\\\\hline \n",
    "\\end{array}\n",
    "$$\n",
    "\n",
    "\n",
    "How do you deal with that? We look for the previous element if it is space,then dont count it.\n",
    "\n"
   ]
  },
  {
   "cell_type": "code",
   "execution_count": null,
   "metadata": {},
   "outputs": [],
   "source": []
  },
  {
   "cell_type": "code",
   "execution_count": 1,
   "metadata": {},
   "outputs": [],
   "source": [
    "#include <iostream>\n",
    "#include <climits>\n",
    "#include <math.h>\n",
    "using namespace std;"
   ]
  },
  {
   "cell_type": "markdown",
   "metadata": {},
   "source": [
    "### Counting Vowels (same will apply to consonents)"
   ]
  },
  {
   "cell_type": "code",
   "execution_count": 2,
   "metadata": {},
   "outputs": [
    {
     "name": "stdout",
     "output_type": "stream",
     "text": [
      "Number of Vowels: 5\n",
      "Number of Consonents: 4\n"
     ]
    },
    {
     "data": {
      "text/plain": [
       "@0x7f5ef72ebb60"
      ]
     },
     "execution_count": 2,
     "metadata": {},
     "output_type": "execute_result"
    }
   ],
   "source": [
    "char  A[] =\"How are you\";\n",
    "int i=0;\n",
    "int vcount = 0;\n",
    "int ccount =0;\n",
    "\n",
    "for(;A[i]!='\\0';i++){\n",
    " //Check all conditions - too long\n",
    " if (A[i]=='a' || A[i]=='e' || A[i]=='i' || A[i]=='o' || A[i]=='u'||\n",
    "     A[i]=='A' || A[i]=='E' || A[i]=='I' || A[i]=='O' || A[i]=='U') \n",
    "     vcount++;\n",
    " else if ((A[i]>=65 && A[i] <=90) ||(A[i]>=97 && A[i] <=122))\n",
    "     ccount++;\n",
    "}\n",
    "cout<<\"Number of Vowels: \"<<vcount<<endl;\n",
    "cout<<\"Number of Consonents: \"<<ccount<<endl;\n",
    "\n"
   ]
  },
  {
   "cell_type": "markdown",
   "metadata": {},
   "source": [
    "## Count number of words (ignore whitespace)"
   ]
  },
  {
   "cell_type": "code",
   "execution_count": 3,
   "metadata": {},
   "outputs": [
    {
     "name": "stdout",
     "output_type": "stream",
     "text": [
      "Number of word: 3\n"
     ]
    },
    {
     "data": {
      "text/plain": [
       "@0x7f5ef72ebb60"
      ]
     },
     "execution_count": 3,
     "metadata": {},
     "output_type": "execute_result"
    }
   ],
   "source": [
    "char  AA[] =\"How are you\";\n",
    "int j=0;\n",
    "int words = 0;\n",
    "\n",
    "for(;AA[j]!='\\0';j++){\n",
    "  if (AA[j] == ' ')\n",
    "      words++;\n",
    "}\n",
    "cout<<\"Number of word: \"<<words+1<<endl;\n",
    "\n"
   ]
  },
  {
   "cell_type": "markdown",
   "metadata": {},
   "source": [
    "## Count number of words (take into account whitespace)"
   ]
  },
  {
   "cell_type": "code",
   "execution_count": 4,
   "metadata": {},
   "outputs": [
    {
     "name": "stdout",
     "output_type": "stream",
     "text": [
      "Number of word: 3\n"
     ]
    }
   ],
   "source": [
    "char  AAA[] =\"How are   u\";\n",
    "int k=0;\n",
    "int words2 = 0;\n",
    "\n",
    "for(;AAA[k]!='\\0';k++){\n",
    "  if (AAA[k] == ' ' && AAA[k-1] != ' ')\n",
    "      words2++;\n",
    "}\n",
    "cout<<\"Number of word: \"<<words2+1<<endl;"
   ]
  },
  {
   "cell_type": "code",
   "execution_count": null,
   "metadata": {},
   "outputs": [],
   "source": []
  },
  {
   "cell_type": "code",
   "execution_count": null,
   "metadata": {},
   "outputs": [],
   "source": []
  },
  {
   "cell_type": "code",
   "execution_count": null,
   "metadata": {},
   "outputs": [],
   "source": []
  }
 ],
 "metadata": {
  "kernelspec": {
   "display_name": "C++17",
   "language": "C++17",
   "name": "xcpp17"
  },
  "language_info": {
   "codemirror_mode": "text/x-c++src",
   "file_extension": ".cpp",
   "mimetype": "text/x-c++src",
   "name": "c++",
   "version": "-std=c++17"
  }
 },
 "nbformat": 4,
 "nbformat_minor": 2
}

{
 "cells": [
  {
   "cell_type": "markdown",
   "metadata": {},
   "source": [
    "# Messing with\n",
    "\n",
    "1. Arrays."
   ]
  },
  {
   "cell_type": "code",
   "execution_count": 1,
   "metadata": {},
   "outputs": [],
   "source": [
    "#include <iostream>\n",
    "#include <climits>\n",
    "#include <math.h>\n",
    "#include <string>\n",
    "#define INSERTION_OPERATOR operator>>\n",
    "#define EXTRACTION_OPERATOR operator<<\n",
    "#define ADDITION_OPERATOR operator+\n",
    "#define SUBTRACT_OPERATOR operator-\n",
    "using namespace std;"
   ]
  },
  {
   "cell_type": "markdown",
   "metadata": {},
   "source": [
    "## Just Normal"
   ]
  },
  {
   "cell_type": "code",
   "execution_count": 2,
   "metadata": {},
   "outputs": [],
   "source": [
    "class Array{\n",
    "private:\n",
    "    int *A;\n",
    "    int size;\n",
    "    int len;\n",
    "    void SwapByAddress(int *x, int *y);\n",
    "    void SwapByReference(int &x, int &y);\n",
    "public:    \n",
    "    Array(){\n",
    "        size = 10;\n",
    "        A = new int[size];\n",
    "        len=0;\n",
    "    }\n",
    "    \n",
    "    Array(int sz){\n",
    "        size = sz;\n",
    "        A = new int[size];\n",
    "        len=0;\n",
    "    }\n",
    "    \n",
    "    ~Array(){\n",
    "        delete []A;\n",
    "    }\n",
    "    void Add(int x);\n",
    "    void Display();\n",
    "    void Insert(int index, int x);\n",
    "    void Insert2(int index, int x);\n",
    "    void Delete(int index);\n",
    "    int LinearSearch (int key);\n",
    "    int LinearSearchTransposeBefore (int key);\n",
    "    int LinearSearchTransposeHEAD (int key);\n",
    "    int BinarySearchRecurse(int l, int h, int key);\n",
    "    int BinarySearchIterative(int key);\n",
    "    void LeftRotate();\n",
    "    \n",
    "    \n",
    "    \n",
    "    \n",
    "    \n",
    "}"
   ]
  },
  {
   "cell_type": "code",
   "execution_count": 3,
   "metadata": {},
   "outputs": [],
   "source": [
    "void Array::LeftRotate(){\n",
    "    int firstElement=A[0];\n",
    "    cout<<\"First Element:\"<<A[0]<<endl;\n",
    "    for (int i = 0;i<len;i++){\n",
    "     for (int i = 0;i<len;i++){    \n",
    "        if (i==len-1){\n",
    "            A[i]=firstElement;\n",
    "        }\n",
    "        else\n",
    "        {\n",
    "           A[i]=A[i+1];     \n",
    "        }\n",
    "    }\n",
    "        \n",
    "}"
   ]
  },
  {
   "cell_type": "code",
   "execution_count": 4,
   "metadata": {},
   "outputs": [],
   "source": [
    "int Array::BinarySearchRecurse(int l, int h, int key){\n",
    "    int mid;\n",
    "    if (l<= h){\n",
    "        mid=(l+h)/2;\n",
    "        if (key ==A[mid]){\n",
    "           cout<<\"Found it\"<<endl;\n",
    "           return mid;\n",
    "        }else if (key<A[mid]){\n",
    "            return BinarySearchRecurse(l,mid-1,key);\n",
    "        }else {\n",
    "            return BinarySearchRecurse(mid+1,h,key);\n",
    "        }\n",
    "            \n",
    "    }\n",
    "    return -1; \n",
    "}"
   ]
  },
  {
   "cell_type": "code",
   "execution_count": 5,
   "metadata": {},
   "outputs": [],
   "source": [
    "int Array::BinarySearchIterative(int key){\n",
    "    int mid;\n",
    "    int l=0;\n",
    "    int h=len-1;\n",
    "    while (l<= h){\n",
    "        mid=(l+h)/2;\n",
    "        if (key ==A[mid]){\n",
    "           cout<<\"Found it\"<<endl;\n",
    "           return mid;\n",
    "        }else if (key<A[mid]){\n",
    "            h=mid-1;\n",
    "        }else {\n",
    "            l=mid+1;\n",
    "        }\n",
    "            \n",
    "    }\n",
    "    return -1; \n",
    "}"
   ]
  },
  {
   "cell_type": "code",
   "execution_count": 6,
   "metadata": {},
   "outputs": [],
   "source": [
    "void Array::SwapByAddress(int *x, int *y){\n",
    "    int temp;\n",
    "    temp = *x;\n",
    "    *x = *y;\n",
    "    *y= temp;\n",
    "}"
   ]
  },
  {
   "cell_type": "code",
   "execution_count": 7,
   "metadata": {},
   "outputs": [],
   "source": [
    "void Array::SwapByReference(int &x, int &y){\n",
    "    int temp;\n",
    "    temp = x;\n",
    "    x = y;\n",
    "    y= temp;\n",
    "}"
   ]
  },
  {
   "cell_type": "code",
   "execution_count": 8,
   "metadata": {},
   "outputs": [],
   "source": [
    "void Array::Add(int x){\n",
    "    A[len]=x;\n",
    "    len++;\n",
    "}"
   ]
  },
  {
   "cell_type": "code",
   "execution_count": 9,
   "metadata": {},
   "outputs": [],
   "source": [
    "void Array::Display(){\n",
    "   if (len>0){  \n",
    "    for (int i = 0; i < len; i++){\n",
    "        cout<<A[i]<< \"(\"<<i<<\") \"; \n",
    "    }\n",
    "    cout<<endl;\n",
    "   }\n",
    "   else{\n",
    "       cout<<\"Array EMPTY\"<<endl; \n",
    "   } \n",
    "}"
   ]
  },
  {
   "cell_type": "code",
   "execution_count": 10,
   "metadata": {},
   "outputs": [
    {
     "name": "stdout",
     "output_type": "stream",
     "text": [
      "8(0) 3(1) 7(2) 12(3) 6(4) 9(5) 10(6) \n"
     ]
    }
   ],
   "source": [
    "Array A(10);\n",
    "A.Add(8);A.Add(3);A.Add(7);A.Add(12);A.Add(6);A.Add(9);A.Add(10);\n",
    "A.Display();"
   ]
  },
  {
   "cell_type": "code",
   "execution_count": 11,
   "metadata": {},
   "outputs": [],
   "source": [
    "void Array::Insert(int index, int x){\n",
    "    \n",
    "   if (len>=0 and index <=len){\n",
    "     int i = len-1;  \n",
    "     for (; i >=index; i--){\n",
    "         cout<<A[i]<< \"(\"<<i<<\") \"<<endl; \n",
    "         A[i+1]= A[i];\n",
    "     }\n",
    "     len++;  \n",
    "     A[index]= x;  \n",
    "   }\n",
    "}"
   ]
  },
  {
   "cell_type": "code",
   "execution_count": 12,
   "metadata": {},
   "outputs": [],
   "source": [
    "void Array::Insert2(int index, int x){\n",
    "    \n",
    "   if (len>=0 and index <=len){\n",
    "     int i = len;  \n",
    "     for (; i >=index; i--){\n",
    "         cout<<A[i]<< \"(\"<<i<<\") \"<<endl; \n",
    "         A[i]= A[i-1];\n",
    "     }\n",
    "     len++;  \n",
    "     A[index]= x;  \n",
    "   }\n",
    "}"
   ]
  },
  {
   "cell_type": "code",
   "execution_count": 13,
   "metadata": {},
   "outputs": [],
   "source": [
    "void Array::Delete(int index){\n",
    "   int i = index;  \n",
    "   for (; i <=len-1; i++){\n",
    "      cout<<A[i]<< \"(\"<<i<<\") \"<<endl; \n",
    "      A[i]= A[i+1];\n",
    "   }\n",
    "   len--;  \n",
    "  \n",
    "}"
   ]
  },
  {
   "cell_type": "code",
   "execution_count": 14,
   "metadata": {},
   "outputs": [],
   "source": [
    "int Array::LinearSearch(int key){\n",
    "   for (int i =0; i <=len-1; i++){\n",
    "       if (A[i]==key)\n",
    "           return i;\n",
    "   }\n",
    "    return -1;\n",
    "}"
   ]
  },
  {
   "cell_type": "code",
   "execution_count": 15,
   "metadata": {},
   "outputs": [],
   "source": [
    "int Array::LinearSearchTransposeBefore(int key){\n",
    "   for (int i =0; i <=len-1; i++){\n",
    "       if (A[i]==key){\n",
    "           SwapByAddress(&A[i],&A[i-1]);\n",
    "           return i;\n",
    "       }    \n",
    "   }\n",
    "    return -1;\n",
    "}"
   ]
  },
  {
   "cell_type": "code",
   "execution_count": 16,
   "metadata": {},
   "outputs": [],
   "source": [
    "int Array::LinearSearchTransposeHEAD(int key){\n",
    "   for (int i =0; i <=len-1; i++){\n",
    "       if (A[i]==key){\n",
    "           SwapByReference(A[i],A[0]);\n",
    "           return i;\n",
    "       }    \n",
    "   }\n",
    "    return -1;\n",
    "}"
   ]
  },
  {
   "cell_type": "code",
   "execution_count": 17,
   "metadata": {},
   "outputs": [
    {
     "name": "stdout",
     "output_type": "stream",
     "text": [
      "10(6) \n",
      "9(5) \n",
      "6(4) \n",
      "8(0) 3(1) 7(2) 12(3) 15(4) 6(5) 9(6) 10(7) \n"
     ]
    }
   ],
   "source": [
    "A.Insert(4,15);\n",
    "A.Display();"
   ]
  },
  {
   "cell_type": "code",
   "execution_count": 18,
   "metadata": {},
   "outputs": [
    {
     "name": "stdout",
     "output_type": "stream",
     "text": [
      "48(8) \n",
      "10(7) \n",
      "9(6) \n",
      "6(5) \n",
      "15(4) \n",
      "8(0) 3(1) 7(2) 12(3) 16(4) 15(5) 6(6) 9(7) 10(8) \n"
     ]
    }
   ],
   "source": [
    "A.Insert2(4,16);\n",
    "A.Display();"
   ]
  },
  {
   "cell_type": "code",
   "execution_count": 19,
   "metadata": {},
   "outputs": [
    {
     "name": "stdout",
     "output_type": "stream",
     "text": [
      "12(3) \n",
      "16(4) \n",
      "15(5) \n",
      "6(6) \n",
      "9(7) \n",
      "10(8) \n",
      "8(0) 3(1) 7(2) 16(3) 15(4) 6(5) 9(6) 10(7) \n"
     ]
    }
   ],
   "source": [
    "A.Delete(3);\n",
    "A.Display();"
   ]
  },
  {
   "cell_type": "code",
   "execution_count": 20,
   "metadata": {},
   "outputs": [
    {
     "name": "stdout",
     "output_type": "stream",
     "text": [
      "Found: -1\n",
      "8(0) 3(1) 7(2) 16(3) 15(4) 6(5) 9(6) 10(7) \n"
     ]
    }
   ],
   "source": [
    "cout<<\"Found: \"<<A.LinearSearch(5)<<endl;\n",
    "A.Display();"
   ]
  },
  {
   "cell_type": "code",
   "execution_count": 21,
   "metadata": {},
   "outputs": [
    {
     "name": "stdout",
     "output_type": "stream",
     "text": [
      "8(0) 3(1) 7(2) 16(3) 15(4) 6(5) 9(6) 10(7) \n",
      "Found: 5\n",
      "8(0) 3(1) 7(2) 16(3) 6(4) 15(5) 9(6) 10(7) \n"
     ]
    }
   ],
   "source": [
    "A.Display();\n",
    "cout<<\"Found: \"<<A.LinearSearchTransposeBefore(6)<<endl;\n",
    "A.Display();"
   ]
  },
  {
   "cell_type": "code",
   "execution_count": 22,
   "metadata": {},
   "outputs": [
    {
     "name": "stdout",
     "output_type": "stream",
     "text": [
      "8(0) 3(1) 7(2) 16(3) 6(4) 15(5) 9(6) 10(7) \n",
      "Found: 4\n",
      "6(0) 3(1) 7(2) 16(3) 8(4) 15(5) 9(6) 10(7) \n"
     ]
    }
   ],
   "source": [
    "A.Display();\n",
    "cout<<\"Found: \"<<A.LinearSearchTransposeHEAD(6)<<endl;\n",
    "A.Display();"
   ]
  },
  {
   "cell_type": "code",
   "execution_count": 23,
   "metadata": {},
   "outputs": [
    {
     "name": "stdout",
     "output_type": "stream",
     "text": [
      "4(0) 8(1) 10(2) 15(3) 18(4) 21(5) 24(6) 27(7) 29(8) 33(9) 34(10) 37(11) 39(12) 41(13) 43(14) \n"
     ]
    }
   ],
   "source": [
    "Array B(15);\n",
    "B.Add(4);B.Add(8);B.Add(10);B.Add(15);B.Add(18);B.Add(21);B.Add(24);\n",
    "B.Add(27);B.Add(29);B.Add(33);B.Add(34);B.Add(37);B.Add(39);B.Add(41);B.Add(43);\n",
    "B.Display();"
   ]
  },
  {
   "cell_type": "code",
   "execution_count": 24,
   "metadata": {},
   "outputs": [
    {
     "name": "stdout",
     "output_type": "stream",
     "text": [
      "Found: Found it\n",
      "4\n",
      "4(0) 8(1) 10(2) 15(3) 18(4) 21(5) 24(6) 27(7) 29(8) 33(9) 34(10) 37(11) 39(12) 41(13) 43(14) \n"
     ]
    }
   ],
   "source": [
    "\n",
    "cout<<\"Found: \"<<B.BinarySearchRecurse(0,14,18)<<endl;\n",
    "B.Display();"
   ]
  },
  {
   "cell_type": "code",
   "execution_count": 25,
   "metadata": {},
   "outputs": [
    {
     "name": "stdout",
     "output_type": "stream",
     "text": [
      "Found: Found it\n",
      "4\n",
      "4(0) 8(1) 10(2) 15(3) 18(4) 21(5) 24(6) 27(7) 29(8) 33(9) 34(10) 37(11) 39(12) 41(13) 43(14) \n"
     ]
    }
   ],
   "source": [
    "cout<<\"Found: \"<<B.BinarySearchIterative(18)<<endl;\n",
    "B.Display();"
   ]
  },
  {
   "cell_type": "code",
   "execution_count": 26,
   "metadata": {},
   "outputs": [
    {
     "name": "stdout",
     "output_type": "stream",
     "text": [
      "First Element:4\n",
      "8(0) 10(1) 15(2) 18(3) 21(4) 24(5) 27(6) 29(7) 33(8) 34(9) 37(10) 39(11) 41(12) 43(13) 4(14) \n"
     ]
    }
   ],
   "source": [
    "B.LeftRotate();\n",
    "B.Display();"
   ]
  },
  {
   "cell_type": "code",
   "execution_count": null,
   "metadata": {},
   "outputs": [],
   "source": []
  }
 ],
 "metadata": {
  "kernelspec": {
   "display_name": "C++17",
   "language": "C++17",
   "name": "xcpp17"
  },
  "language_info": {
   "codemirror_mode": "text/x-c++src",
   "file_extension": ".cpp",
   "mimetype": "text/x-c++src",
   "name": "c++",
   "version": "17"
  }
 },
 "nbformat": 4,
 "nbformat_minor": 2
}

{
 "cells": [
  {
   "cell_type": "markdown",
   "metadata": {},
   "source": [
    "# Linked List\n",
    "+ Max Element in LL\n",
    "+ "
   ]
  },
  {
   "cell_type": "markdown",
   "metadata": {},
   "source": [
    "## Current Structure\n",
    "\n",
    "\n",
    "___\n",
    "$$$$\n",
    "$$$$\n",
    "\n",
    "$$\n",
    "\\begin{array}{r}\n",
    "First & & & & & & & & & & \\\\\n",
    "\\end{array}\n",
    "$$\n",
    "$$\n",
    "\\begin{array}{|r|}\n",
    "\\hline \n",
    "_{_{100}}200 \\\\  \n",
    "\\hline\n",
    "\\end{array}\n",
    "\\begin{array}{r}\n",
    "  & & & & & & & & &  &\\\\\n",
    "\\end{array}\n",
    "$$\n",
    "\n",
    "$$\n",
    "\\begin{array}{r}\n",
    "\\require{AMScd}\n",
    "@V V V & & & & & & & & & & & \\\\\n",
    "\\end{array}\n",
    "$$\n",
    "\n",
    "\n",
    "$$\n",
    "\\newcommand\\T{\\Rule{0pt}{.1em}{.3em}}\n",
    "\\begin{array}{|r|r|}\n",
    "\\hline \n",
    "_{8} \\T& _{210} \\\\\\hline\n",
    "_{200} \\\\\n",
    "\\hline\n",
    "\\end{array}\n",
    "\\begin{array}{r}\n",
    "\\require{AMScd}\n",
    "{} \\\\\n",
    "@>\\text{to 210}>>  \n",
    "\\end{array}\n",
    "\\newcommand\\T{\\Rule{0pt}{.1em}{.3em}}\n",
    "\\begin{array}{|r|r|}\n",
    "\\hline \n",
    "_{3} \\T& _{220} \\\\\\hline\n",
    "_{210} \\\\\n",
    "\\hline\n",
    "\\end{array}\n",
    "\\begin{array}{r}\n",
    "\\require{AMScd}\n",
    "{} \\\\\n",
    "@>\\text{to 220}>>  \n",
    "\\end{array}\n",
    "$$\n",
    "\n",
    "$$\n",
    "\\newcommand\\T{\\Rule{0pt}{.1em}{.3em}}\n",
    "\\begin{array}{|r|r|}\n",
    "\\hline \n",
    "_{7} \\T& _{230} \\\\\\hline\n",
    "_{220} \\\\\n",
    "\\hline\n",
    "\\end{array}\n",
    "\\begin{array}{r}\n",
    "\\require{AMScd}\n",
    "{} \\\\\n",
    "@>\\text{to 230}>>  \n",
    "\\end{array}\n",
    "\\newcommand\\T{\\Rule{0pt}{.1em}{.3em}}\n",
    "\\begin{array}{|r|r|}\n",
    "\\hline \n",
    "_{12} \\T& _{230} \\\\\\hline\n",
    "_{220} \\\\\n",
    "\\hline\n",
    "\\end{array}\n",
    "\\begin{array}{r}\n",
    "\\require{AMScd}\n",
    "{} \\\\\n",
    "@>\\text{to 230}>>  \n",
    "\\end{array}\n",
    "\\newcommand\\T{\\Rule{0pt}{.1em}{.3em}}\n",
    "\\begin{array}{|r|r|}\n",
    "\\hline \n",
    "_{9} \\T& _{\\text{NULL}} \\\\\\hline\n",
    "_{220} \\\\\n",
    "\\hline\n",
    "\\end{array}\n",
    "$$\n",
    "\n",
    "\n",
    "The structure of LL consists of :\n",
    "\n",
    "1. Data\n",
    "2. Pointer to Next node.\n",
    "\n",
    "(The above is an example of a Forward Only, Single Linked List. Later we will see Bi directional Double Linked List)\n",
    "\n",
    "\n",
    "\n"
   ]
  },
  {
   "cell_type": "markdown",
   "metadata": {},
   "source": [
    "## Max Elements in LL\n",
    "\n",
    "We need to find the maximum node value of a node. But what do we compare it with. Since we using an integer, the smallest integer will be -32768 for 16 bit integer Here we assume an integer takes 2 bytes.\n",
    "\n",
    "We have the following simple function\n",
    "\n",
    "```\n",
    "\n",
    "int max(Node *p)\n",
    "{\n",
    "    int m = -32768\n",
    "    while(p){\n",
    "        if(p->data> m)\n",
    "            m = p->data;\n",
    "        p = p->next;    \n",
    "    }\n",
    "   return(m); \n",
    "}\n",
    "```\n",
    "\n",
    "\n",
    "Same will apply for Min.\n",
    "\n",
    "\n"
   ]
  },
  {
   "cell_type": "markdown",
   "metadata": {},
   "source": [
    "## Recursive Max Function (Head)\n",
    "\n",
    "We can write it as follows:\n",
    "\n",
    "```\n",
    "int RecurMax(Node *p){\n",
    "    static int x = 0,MIN_INT;\n",
    "    if (p==0)\n",
    "        return MIN_INT;\n",
    "    cout<<\"x: \" <<x<<endl;\n",
    "    cout<<\"p->data: \" <<p->data<<endl;\n",
    "    x = MaxLLRecurHead(p->next);\n",
    "    return x > p->data?x:p->data;\n",
    "}\n",
    "```\n",
    "\n",
    "This is similar to the previous HEAD recursion, and can further be written, as we did before, breaking it up into further steps:\n",
    "\n",
    "1. ```RecurMax (p->next)```\n",
    "2. Condition to check p->data, greater than previous stored value returned buy function ```RecurMax```\n",
    "\n",
    "\n",
    "In Step 1, we store the value returned by ```RecurMax```\n",
    "\n",
    "With Step 2, before returning the value of function ```RecurMax```, we need to see if value is greater than the value returned in Step 1. \n",
    "\n",
    "\n",
    "Here we also used the tenary operator to reduce the code.\n",
    "\n",
    "Tracing Tree:\n",
    "\n",
    "```\n",
    "\n",
    "                          (1.)      (2.)                      +--->d(200)\n",
    "                           V         ^                        ^      /\\\n",
    "                          /         /                        ^|     /- \\\n",
    "                         /         /                        ^|12   /    \\\n",
    "                        /         /                         |||   /      V\n",
    "                       /         /                          |||  /        \\     x>7?x:7  return 12\n",
    "                      /         /                           ++| /          \\        x=8\n",
    "                     V         ^                              +/            \\ p->data=7\n",
    "                    /         /                        +--->d(210) (1.)     8  (2.)<--+\n",
    "                   /         /                        ^       \\\n",
    "                  /         /                        ^|      / \\\n",
    "                 /         /                        ^|12    /   \\\n",
    "                /         /                         |||    /     V              x>3?x:3  return 12\n",
    "               /         /                          |||   /       \\                 x=3\n",
    "              V         ^                           +++  /         \\          p->data=7\n",
    "             /         /                        +---> d(270)(1.)   3  (2.)<------+<---+\n",
    "            /         /                         ^      /\\\n",
    "           /         /                         ^|     /  \\\n",
    "          /         /                         ^|12   /    \\\n",
    "         /         /                          |||   /      V                    x>7?x:7  return 12\n",
    "        /         /                           ++|  /        \\                      x=12\n",
    "       /         /                              + /          \\                p->data=7\n",
    "      V         ^                         +--->d(300)(1.)    7  (2.)<------+<---------+\n",
    "     /         /                          ^      /\\\n",
    "    /         /                          ^|     /  \\\n",
    "   /         /                          ^|9    /    \\\n",
    "  /         /                           |||   /      V                        x>12?x:12  return 12\n",
    " V         ^                            ++|  /        \\                             x=9\n",
    "-         -                               + /          \\                     p->data=12\n",
    "                                  ^+---->d(350) (1.)   12 (2.)<-----------+ <---------+\n",
    "                                 ^|        /\\\n",
    "                                ^||       /  \\\n",
    "                                |||      /    \\\n",
    "                                ||32768 /      V                                x>9?x:9   return 9\n",
    "                                |||    /        \\                               x=32768\n",
    "                                ++|   /          \\                            p->data=9\n",
    "                             ^+---->d(0)         9  (2.)--------+<--------------------+\n",
    "                            ^|       |\n",
    "                           ^||       |\n",
    "                           |||       |\n",
    "                           +++--<---<X (returns value -32768)\n",
    "```"
   ]
  },
  {
   "cell_type": "code",
   "execution_count": 1,
   "metadata": {},
   "outputs": [],
   "source": [
    "#include <iostream>\n",
    "#include <climits>\n",
    "#include <math.h>\n",
    "#define INSERTION_OPERATOR operator<<\n",
    "#define EXTRACTION_OPERATOR operator>>\n",
    "#define ADDITION_OPERATOR operator+\n",
    "using namespace std;"
   ]
  },
  {
   "cell_type": "code",
   "execution_count": 2,
   "metadata": {},
   "outputs": [],
   "source": [
    "class Node{\n",
    "public:\n",
    "    int data;\n",
    "    Node *next;\n",
    "}*f=NULL;"
   ]
  },
  {
   "cell_type": "code",
   "execution_count": 3,
   "metadata": {},
   "outputs": [],
   "source": [
    "class LinkedList{\n",
    "private:\n",
    "  Node *first;\n",
    "    \n",
    "public:\n",
    "    LinkedList(){\n",
    "        first = NULL;\n",
    "    }\n",
    "    ~LinkedList(); \n",
    "    void Display();\n",
    "    void Insert(int index, int x);\n",
    "    LinkedList(int A[], int n);\n",
    "    int Delete(int index);\n",
    "    int Length();\n",
    "    void DisplayRecurTail(Node *p);\n",
    "    void DisplayRecurHead(Node *p);\n",
    "    int CountRecurHead(Node *p);\n",
    "    int CountRecurTail(Node *p);\n",
    "    int MaxLLRecurHead(Node *p);\n",
    "    int MaxLL(Node *p);\n",
    "}"
   ]
  },
  {
   "cell_type": "code",
   "execution_count": 4,
   "metadata": {},
   "outputs": [],
   "source": [
    "int LinkedList::MaxLLRecurHead(Node *p){\n",
    "    static int x = 0,MIN_INT;\n",
    "    cout<<\"MIN_INT: \" <<MIN_INT<<endl;\n",
    "    if (p==NULL)\n",
    "        return MIN_INT;\n",
    "    x = MaxLLRecurHead(p->next);\n",
    "    cout<<\"x: \" <<x<<endl;\n",
    "    cout<<\"p->data: \" <<p->data<<endl;\n",
    "    return x > p->data?x:p->data;\n",
    "}"
   ]
  },
  {
   "cell_type": "code",
   "execution_count": 5,
   "metadata": {},
   "outputs": [],
   "source": [
    "int LinkedList::CountRecurTail(Node *p){\n",
    "    static int cnt = 0;\n",
    "    if (p==NULL)\n",
    "        return 0;\n",
    "    else{\n",
    "        cnt++;\n",
    "        cout<<\"cnt: \" <<cnt<<endl;\n",
    "        cout<<\"p->data: \" <<p->data<<endl;\n",
    "        return 1+CountRecurTail(p->next);\n",
    "    }\n",
    "    //cout<<\"cnt: \" <<cnt<<endl;\n",
    "}"
   ]
  },
  {
   "cell_type": "code",
   "execution_count": 6,
   "metadata": {},
   "outputs": [],
   "source": [
    "int LinkedList::MaxLL(Node *p){\n",
    "    int m = -32768, MIN_INT;\n",
    "    while(p){\n",
    "        if(p->data> m)\n",
    "            m = p->data;\n",
    "        p = p->next;    \n",
    "    }\n",
    "   return(m); \n",
    "}"
   ]
  },
  {
   "cell_type": "code",
   "execution_count": 7,
   "metadata": {},
   "outputs": [],
   "source": [
    "int LinkedList::CountRecurHead(Node *p){\n",
    "    static int cnt = 0;\n",
    "    if (p==NULL)\n",
    "        return 0;\n",
    "    else{\n",
    "        cnt++;\n",
    "        cout<<\"cnt: \" <<cnt<<endl;\n",
    "        cout<<\"p->data: \" <<p->data<<endl;\n",
    "        return CountRecurHead(p->next)+1;\n",
    "    }\n",
    "    //cout<<\"cnt: \" <<cnt<<endl;\n",
    "}"
   ]
  },
  {
   "cell_type": "code",
   "execution_count": 8,
   "metadata": {},
   "outputs": [],
   "source": [
    "void LinkedList::DisplayRecurHead(Node *p){\n",
    "    static int cnt = 1;\n",
    "    if (p!=NULL){\n",
    "        cnt++;\n",
    "        DisplayRecurHead(p->next);\n",
    "        cout<<p->data<<endl;\n",
    "    }\n",
    "    cout<<\"cnt: \" <<cnt<<endl;\n",
    "}"
   ]
  },
  {
   "cell_type": "code",
   "execution_count": 9,
   "metadata": {},
   "outputs": [],
   "source": [
    "void LinkedList::DisplayRecurTail(Node *p){\n",
    "    static int cnt = 1;\n",
    "    if (p!=NULL){\n",
    "        cnt++;\n",
    "        cout<<p->data<<endl;\n",
    "        DisplayRecurTail(p->next);\n",
    "    }\n",
    "    cout<<\"cnt: \" <<cnt<<endl;\n",
    "}"
   ]
  },
  {
   "cell_type": "code",
   "execution_count": 10,
   "metadata": {},
   "outputs": [],
   "source": [
    "LinkedList::LinkedList(int A[], int n){\n",
    "    Node *last, *t;\n",
    "    int i = 0;\n",
    "    \n",
    "    first= new Node;\n",
    "    first->data=A[0];\n",
    "    f = first;\n",
    "    first->next=NULL;\n",
    "    last = first;\n",
    "    \n",
    "    for(i=1; i<n;i++)\n",
    "    {\n",
    "        t = new Node;\n",
    "        t->data=A[i];\n",
    "        t->next=NULL;\n",
    "        last->next=t;\n",
    "        last=t; \n",
    "    }    \n",
    "}"
   ]
  },
  {
   "cell_type": "code",
   "execution_count": 11,
   "metadata": {},
   "outputs": [],
   "source": [
    "LinkedList::~LinkedList(){\n",
    "    Node *p=first;\n",
    "    while(first)\n",
    "    {\n",
    "      first=first->next;\n",
    "      delete p;\n",
    "      p=first;\n",
    "    }\n",
    "}"
   ]
  },
  {
   "cell_type": "code",
   "execution_count": 12,
   "metadata": {},
   "outputs": [],
   "source": [
    "void LinkedList::Display(){\n",
    "    Node *p=first;\n",
    "    while(p){\n",
    "        cout<<p->data<<\" \";\n",
    "        p=p->next;\n",
    "    }\n",
    "    cout<<endl;\n",
    "}"
   ]
  },
  {
   "cell_type": "code",
   "execution_count": 13,
   "metadata": {},
   "outputs": [],
   "source": [
    "int LinkedList::Length(){\n",
    "    Node *p=first;\n",
    "    int len=0;\n",
    "    while(p){\n",
    "        len++;\n",
    "        p=p->next;\n",
    "    }\n",
    "    return len;\n",
    "}"
   ]
  },
  {
   "cell_type": "code",
   "execution_count": 14,
   "metadata": {},
   "outputs": [],
   "source": [
    "void LinkedList::Insert(int index, int x){\n",
    "    Node *t, *p=first;\n",
    "    \n",
    "    if(index <0 || index > Length())\n",
    "        return;\n",
    "    t = new Node;\n",
    "    t->data = x;\n",
    "    t->next=NULL;\n",
    "    \n",
    "    if(index==0){\n",
    "        first = t;\n",
    "    }\n",
    "    else{\n",
    "        for(int i =0; i<index-1;i++)\n",
    "            p=p->next;\n",
    "        t->next=p->next;\n",
    "        p->next=t;\n",
    "    }\n",
    "}   "
   ]
  },
  {
   "cell_type": "code",
   "execution_count": 15,
   "metadata": {},
   "outputs": [],
   "source": [
    "int LinkedList::Delete(int index){\n",
    "    Node *p, *q=NULL;\n",
    "    int x = -1;\n",
    "    if(index <0 || index > Length())\n",
    "        return -1;  \n",
    "    if(index==1){\n",
    "        p=first;\n",
    "        first = first->next;\n",
    "        x=p->data; \n",
    "        delete p;\n",
    "    }\n",
    "    else{\n",
    "        p=first;\n",
    "        for(int i =0; i<index-1;i++)\n",
    "        {\n",
    "            p=q;\n",
    "            p=p->next;\n",
    "            \n",
    "        }\n",
    "        q->next=p->next;\n",
    "        x=p->data;\n",
    "        delete p;\n",
    "    }  \n",
    "    return x;\n",
    "}\n"
   ]
  },
  {
   "cell_type": "code",
   "execution_count": 16,
   "metadata": {},
   "outputs": [
    {
     "name": "stdout",
     "output_type": "stream",
     "text": [
      "10\n",
      "0\n"
     ]
    }
   ],
   "source": [
    "Node *p= new Node();\n",
    "p->data=10;\n",
    "p->next=0;\n",
    "cout<<p->data<<endl;\n",
    "cout<<p->next<<endl;\n"
   ]
  },
  {
   "cell_type": "code",
   "execution_count": 17,
   "metadata": {},
   "outputs": [
    {
     "name": "stdout",
     "output_type": "stream",
     "text": [
      "8 3 7 12 9 \n"
     ]
    }
   ],
   "source": [
    "int A[] = {8,3,7,12,9};\n",
    "LinkedList ll(A,5);\n",
    "ll.Display();\n"
   ]
  },
  {
   "cell_type": "code",
   "execution_count": 18,
   "metadata": {},
   "outputs": [
    {
     "name": "stdout",
     "output_type": "stream",
     "text": [
      "8\n",
      "3\n",
      "7\n",
      "12\n",
      "9\n",
      "cnt: 6\n",
      "cnt: 6\n",
      "cnt: 6\n",
      "cnt: 6\n",
      "cnt: 6\n",
      "cnt: 6\n"
     ]
    }
   ],
   "source": [
    "ll.DisplayRecurTail(f);"
   ]
  },
  {
   "cell_type": "code",
   "execution_count": 19,
   "metadata": {},
   "outputs": [
    {
     "name": "stdout",
     "output_type": "stream",
     "text": [
      "cnt: 6\n",
      "9\n",
      "cnt: 6\n",
      "12\n",
      "cnt: 6\n",
      "7\n",
      "cnt: 6\n",
      "3\n",
      "cnt: 6\n",
      "8\n",
      "cnt: 6\n"
     ]
    }
   ],
   "source": [
    "ll.DisplayRecurHead(f);"
   ]
  },
  {
   "cell_type": "code",
   "execution_count": 20,
   "metadata": {},
   "outputs": [
    {
     "name": "stdout",
     "output_type": "stream",
     "text": [
      "Count Recur: cnt: 1\n",
      "p->data: 8\n",
      "cnt: 2\n",
      "p->data: 3\n",
      "cnt: 3\n",
      "p->data: 7\n",
      "cnt: 4\n",
      "p->data: 12\n",
      "cnt: 5\n",
      "p->data: 9\n",
      "5\n"
     ]
    }
   ],
   "source": [
    "cout<<\"Count Recur: \"<<ll.CountRecurHead(f)<<endl;"
   ]
  },
  {
   "cell_type": "code",
   "execution_count": 21,
   "metadata": {},
   "outputs": [
    {
     "name": "stdout",
     "output_type": "stream",
     "text": [
      "Count Recur: cnt: 1\n",
      "p->data: 8\n",
      "cnt: 2\n",
      "p->data: 3\n",
      "cnt: 3\n",
      "p->data: 7\n",
      "cnt: 4\n",
      "p->data: 12\n",
      "cnt: 5\n",
      "p->data: 9\n",
      "5\n"
     ]
    }
   ],
   "source": [
    "cout<<\"Count Recur: \"<<ll.CountRecurTail(f)<<endl;"
   ]
  },
  {
   "cell_type": "code",
   "execution_count": 22,
   "metadata": {},
   "outputs": [
    {
     "name": "stdout",
     "output_type": "stream",
     "text": [
      "Max Int:12\n"
     ]
    }
   ],
   "source": [
    "cout<<\"Max Int:\"<<ll.MaxLL(f)<<endl;"
   ]
  },
  {
   "cell_type": "code",
   "execution_count": 23,
   "metadata": {},
   "outputs": [
    {
     "name": "stdout",
     "output_type": "stream",
     "text": [
      "Max Int Recur:MIN_INT: 0\n",
      "MIN_INT: 0\n",
      "MIN_INT: 0\n",
      "MIN_INT: 0\n",
      "MIN_INT: 0\n",
      "MIN_INT: 0\n",
      "x: 0\n",
      "p->data: 9\n",
      "x: 9\n",
      "p->data: 12\n",
      "x: 12\n",
      "p->data: 7\n",
      "x: 12\n",
      "p->data: 3\n",
      "x: 12\n",
      "p->data: 8\n",
      "12\n"
     ]
    }
   ],
   "source": [
    "cout<<\"Max Int Recur:\"<<ll.MaxLLRecurHead(f)<<endl;"
   ]
  }
 ],
 "metadata": {
  "kernelspec": {
   "display_name": "C++17",
   "language": "C++17",
   "name": "xcpp17"
  },
  "language_info": {
   "codemirror_mode": "text/x-c++src",
   "file_extension": ".cpp",
   "mimetype": "text/x-c++src",
   "name": "c++",
   "version": "-std=c++17"
  }
 },
 "nbformat": 4,
 "nbformat_minor": 2
}

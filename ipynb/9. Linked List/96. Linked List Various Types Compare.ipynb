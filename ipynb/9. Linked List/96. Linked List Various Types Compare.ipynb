{
 "cells": [
  {
   "cell_type": "markdown",
   "metadata": {},
   "source": [
    "# Linked List\n",
    "+ Comparison with various types LL\n"
   ]
  },
  {
   "cell_type": "markdown",
   "metadata": {},
   "source": [
    "## Comparison of LL \n",
    "\n",
    "\n",
    "___\n",
    "\n",
    "1. Linear Single\n",
    "2. Circular Single\n",
    "3. Linear Double\n",
    "4. Circular Double\n",
    "\n",
    "Look at the above w.r.t.\n",
    "\n",
    "1. Space\n",
    "2. Insert\n",
    "3. Delete\n",
    "4. Traverse\n",
    "\n",
    "\n",
    "\n",
    "\n"
   ]
  },
  {
   "cell_type": "markdown",
   "metadata": {},
   "source": [
    "## Space\n",
    "\n",
    "\n",
    "__\n",
    "\n",
    "So we need 4 pointer for 4 values to be stored, that is for Singlar, Linear and Circular. With Double linked, that is doubled, since 8 pointers for 4 values. Thats is here we need 2 pointers for each node.\n",
    "\n",
    "\n",
    "That is Double LL, takes double the space of Single LL, this is for pointers ONLY, data space is equal.\n",
    "\n",
    "\n"
   ]
  },
  {
   "cell_type": "markdown",
   "metadata": {},
   "source": [
    "## Traverse\n",
    "\n",
    "\n",
    "__\n",
    "\n",
    "As the name suggest, how we can move and in which direction.\n",
    "\n",
    "\n"
   ]
  },
  {
   "cell_type": "markdown",
   "metadata": {},
   "source": [
    "## Insert\n",
    "\n",
    "___\n",
    "\n",
    "\n",
    "For all the list inserting at a given position is common for all. But inserting before the HEAD, is special or different for each Linked List.\n",
    "\n",
    "\n",
    "Insert before Head:\n",
    "\n",
    "Time Complexity\n",
    "\n",
    "1. Single LL - takes $O(1)$\n",
    "2. Circular Single takes $O(n)$ as we need to traverse to last node.\n",
    "3. Double LL takes  $O(1)$\n",
    "4. Double Circular takes $O(1)$ as dont need to traverse.\n",
    "\n",
    "\n",
    "Only Circular Single takes $O(n)$ time.\n",
    "\n",
    "\n",
    "Space Complexity\n",
    "\n",
    "1. Single LL - only one link is modified (new for new node)\n",
    "2. Circular Single takes - two links are modified (new for new node, and last node)\n",
    "3. Double LL takes - three links are modified (two for new node, and first for new)\n",
    "4. Double Circular - four links are modified \n",
    "\n",
    "Inserting at a given position\n",
    "\n",
    "\n",
    "Time Complexity\n",
    "\n",
    "1. Minimum - $O(1)$\n",
    "2. Maximum - $O(n)$ \n",
    "\n",
    "\n"
   ]
  },
  {
   "cell_type": "markdown",
   "metadata": {},
   "source": [
    "## Delete\n",
    "\n",
    "___\n",
    "\n",
    "Same with Insertion, When dealing with deleting Head Node, have special cases for each LL, and deleting at given position is common among the LL\n",
    "\n",
    "\n",
    "Delete Head:\n",
    "\n",
    "Time Complexity\n",
    "\n",
    "1. Single LL - takes $O(1)$\n",
    "2. Circular Single takes $O(n)$ as we need to traverse to last node.\n",
    "3. Double LL takes  $O(1)$\n",
    "4. Double Circular takes $O(1)$ as dont need to traverse.\n",
    "\n",
    "\n",
    "Only Circular Single takes $O(n)$ time.\n",
    "\n",
    "Space Complexity \n",
    "\n",
    "1. Single LL - No links modifed. just move first pointer.\n",
    "2. Circular Single takes - one link modified\n",
    "3. Double LL takes - one link modified\n",
    "4. Double Circular - two links modified.\n",
    "\n",
    "\n",
    "Deleting at a given position\n",
    "\n",
    "\n",
    "Time Complexity\n",
    "\n",
    "1. Minimum - $O(1)$\n",
    "2. Maximum - $O(n)$ \n",
    "\n",
    "Space Complexity \n",
    "\n",
    "1. Single LL - one link modifed\n",
    "2. Circular Single takes - one link modifed\n",
    "3. Double LL takes - two link modified\n",
    "4. Double Circular - two links modified.\n",
    "\n"
   ]
  },
  {
   "cell_type": "markdown",
   "metadata": {},
   "source": [
    "## Which LL to use?\n",
    "\n",
    "___\n",
    "\n",
    "Depends on our requirement. If you need to access data forward only and ont need to come back then Singular LL, that is if you implementing a Queue.\n",
    "\n",
    "All other are as discribed, with the Circular Double LL have all possible features (best). But it takes extra space for pointers. But Single DL takes same as Circular DLL, so best take later. Nowadays space is not issue, so most time this is  gone for.\n",
    "\n",
    "\n",
    "\n",
    "\n",
    "\n",
    "\n"
   ]
  },
  {
   "cell_type": "code",
   "execution_count": null,
   "metadata": {},
   "outputs": [],
   "source": []
  },
  {
   "cell_type": "code",
   "execution_count": null,
   "metadata": {},
   "outputs": [],
   "source": []
  }
 ],
 "metadata": {
  "kernelspec": {
   "display_name": "C++17",
   "language": "C++17",
   "name": "xcpp17"
  },
  "language_info": {
   "codemirror_mode": "text/x-c++src",
   "file_extension": ".cpp",
   "mimetype": "text/x-c++src",
   "name": "c++",
   "version": "-std=c++17"
  }
 },
 "nbformat": 4,
 "nbformat_minor": 2
}

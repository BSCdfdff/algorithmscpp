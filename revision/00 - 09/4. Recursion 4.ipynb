{
 "cells": [
  {
   "cell_type": "markdown",
   "metadata": {},
   "source": [
    "# Messing with\n",
    "\n",
    "1. Recursion, Indirect\n",
    "Main Point here: Does not work\n",
    "2. Nested Recursion,\n",
    " Main Point here: Do the inside,then outside. Then what is returned is just result (unless there are some arithmetic operation)\n",
    " \n",
    " Almost missed, But here is the essence: Here we have a return function, which is\n",
    " \n",
    " ```\n",
    "  if (n> 100){\n",
    "        return n-10;\n",
    "    }\n",
    "    else{\n",
    "        return funC(funC(n+11));\n",
    "    }\n",
    " ```\n",
    " \n",
    " But this is the same as our friend, covered before:\n",
    " \n",
    " ```\n",
    "  if (n > 0)\n",
    "  {\n",
    "    return fun(n-1) + x\n",
    "  }\n",
    "  \n",
    "  return 0\n",
    " \n",
    " ```\n",
    "\n"
   ]
  },
  {
   "cell_type": "code",
   "execution_count": 1,
   "metadata": {},
   "outputs": [],
   "source": [
    "#include <iostream>\n",
    "#include <climits>\n",
    "#include <math.h>\n",
    "#include <string>\n",
    "#define INSERTION_OPERATOR operator>>\n",
    "#define EXTRACTION_OPERATOR operator<<\n",
    "#define ADDITION_OPERATOR operator+\n",
    "#define SUBTRACT_OPERATOR operator-\n",
    "using namespace std;"
   ]
  },
  {
   "cell_type": "markdown",
   "metadata": {},
   "source": [
    "## Indirect Recurs\n",
    "\n",
    "___\n",
    "\n",
    "Cant seem to work\n",
    "\n"
   ]
  },
  {
   "cell_type": "code",
   "execution_count": 2,
   "metadata": {},
   "outputs": [],
   "source": [
    "// void funB(int n);"
   ]
  },
  {
   "cell_type": "code",
   "execution_count": 3,
   "metadata": {},
   "outputs": [],
   "source": [
    "\n",
    "// void funA(int n){\n",
    "//     if (n> 0){\n",
    "//         cout<<\"funA:\"<<n<<endl;\n",
    "//         funB(n-1);\n",
    "//     }\n",
    "// }\n",
    "\n"
   ]
  },
  {
   "cell_type": "code",
   "execution_count": 4,
   "metadata": {},
   "outputs": [],
   "source": [
    "// void funB(int n){\n",
    "//     if (n> 0){\n",
    "//         cout<<\"funB:\"<<n<<endl;\n",
    "//         funA(n-1);\n",
    "//     }\n",
    "// }"
   ]
  },
  {
   "cell_type": "code",
   "execution_count": 5,
   "metadata": {},
   "outputs": [],
   "source": [
    "// int n= 5;\n",
    "// int c;\n",
    "// c=funA(n);"
   ]
  },
  {
   "cell_type": "code",
   "execution_count": null,
   "metadata": {},
   "outputs": [],
   "source": []
  },
  {
   "cell_type": "markdown",
   "metadata": {},
   "source": [
    "## Nested Recurs - Attempt 1\n",
    "\n",
    "___\n",
    "\n",
    "After the inside is done, that is n = 0, well fun(0), is nothing.\n"
   ]
  },
  {
   "cell_type": "code",
   "execution_count": 6,
   "metadata": {},
   "outputs": [],
   "source": [
    "int fun(int n){\n",
    "    if (n> 0){\n",
    "        cout<<\"fun:\"<<n<<endl;\n",
    "        return fun(fun(n-1));\n",
    "    }\n",
    "    return 0;\n",
    "};"
   ]
  },
  {
   "cell_type": "code",
   "execution_count": 7,
   "metadata": {},
   "outputs": [
    {
     "name": "stdout",
     "output_type": "stream",
     "text": [
      "fun:5\n",
      "fun:4\n",
      "fun:3\n",
      "fun:2\n",
      "fun:1\n",
      "0\n"
     ]
    }
   ],
   "source": [
    "int n=5;\n",
    "int y;\n",
    "cout<<fun(n)<<endl;"
   ]
  },
  {
   "cell_type": "markdown",
   "metadata": {},
   "source": [
    "## Nested Recurs - Attempt 2 (more useful)\n",
    "\n",
    "___\n",
    "\n",
    "\n",
    "See the images in draw.io\n",
    "\n",
    "Do inside, then outside\n",
    "\n"
   ]
  },
  {
   "cell_type": "code",
   "execution_count": 8,
   "metadata": {},
   "outputs": [],
   "source": [
    "int funC(int n){\n",
    "    if (n> 100){\n",
    "        return n-10;\n",
    "    }\n",
    "    else{\n",
    "        return funC(funC(n+11));\n",
    "    }\n",
    "  \n",
    "}"
   ]
  },
  {
   "cell_type": "code",
   "execution_count": 10,
   "metadata": {},
   "outputs": [
    {
     "name": "stdout",
     "output_type": "stream",
     "text": [
      "91\n"
     ]
    }
   ],
   "source": [
    "n=95;\n",
    "\n",
    "cout<<funC(n)<<endl;"
   ]
  },
  {
   "cell_type": "code",
   "execution_count": null,
   "metadata": {},
   "outputs": [],
   "source": []
  }
 ],
 "metadata": {
  "kernelspec": {
   "display_name": "C++17",
   "language": "C++17",
   "name": "xcpp17"
  },
  "language_info": {
   "codemirror_mode": "text/x-c++src",
   "file_extension": ".cpp",
   "mimetype": "text/x-c++src",
   "name": "c++",
   "version": "17"
  }
 },
 "nbformat": 4,
 "nbformat_minor": 2
}

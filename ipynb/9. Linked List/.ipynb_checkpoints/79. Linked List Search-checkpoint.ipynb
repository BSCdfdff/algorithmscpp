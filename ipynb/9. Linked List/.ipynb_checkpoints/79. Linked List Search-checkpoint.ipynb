{
 "cells": [
  {
   "cell_type": "markdown",
   "metadata": {},
   "source": [
    "# Linked List\n",
    "+ Searching in LL\n",
    "+ Improved LinearSearch"
   ]
  },
  {
   "cell_type": "markdown",
   "metadata": {},
   "source": [
    "## Current Structure\n",
    "\n",
    "\n",
    "___\n",
    "$$$$\n",
    "$$$$\n",
    "\n",
    "$$\n",
    "\\begin{array}{r}\n",
    "First & & & & & & & & & & \\\\\n",
    "\\end{array}\n",
    "$$\n",
    "$$\n",
    "\\begin{array}{|r|}\n",
    "\\hline \n",
    "_{_{100}}200 \\\\  \n",
    "\\hline\n",
    "\\end{array}\n",
    "\\begin{array}{r}\n",
    "  & & & & & & & & &  &\\\\\n",
    "\\end{array}\n",
    "$$\n",
    "\n",
    "$$\n",
    "\\begin{array}{r}\n",
    "\\require{AMScd}\n",
    "@V V V & & & & & & & & & & & \\\\\n",
    "\\end{array}\n",
    "$$\n",
    "\n",
    "\n",
    "$$\n",
    "\\newcommand\\T{\\Rule{0pt}{.1em}{.3em}}\n",
    "\\begin{array}{|r|r|}\n",
    "\\hline \n",
    "_{8} \\T& _{210} \\\\\\hline\n",
    "_{200} \\\\\n",
    "\\hline\n",
    "\\end{array}\n",
    "\\begin{array}{r}\n",
    "\\require{AMScd}\n",
    "{} \\\\\n",
    "@>\\text{to 210}>>  \n",
    "\\end{array}\n",
    "\\newcommand\\T{\\Rule{0pt}{.1em}{.3em}}\n",
    "\\begin{array}{|r|r|}\n",
    "\\hline \n",
    "_{3} \\T& _{220} \\\\\\hline\n",
    "_{210} \\\\\n",
    "\\hline\n",
    "\\end{array}\n",
    "\\begin{array}{r}\n",
    "\\require{AMScd}\n",
    "{} \\\\\n",
    "@>\\text{to 220}>>  \n",
    "\\end{array}\n",
    "$$\n",
    "\n",
    "$$\n",
    "\\newcommand\\T{\\Rule{0pt}{.1em}{.3em}}\n",
    "\\begin{array}{|r|r|}\n",
    "\\hline \n",
    "_{7} \\T& _{230} \\\\\\hline\n",
    "_{220} \\\\\n",
    "\\hline\n",
    "\\end{array}\n",
    "\\begin{array}{r}\n",
    "\\require{AMScd}\n",
    "{} \\\\\n",
    "@>\\text{to 230}>>  \n",
    "\\end{array}\n",
    "\\newcommand\\T{\\Rule{0pt}{.1em}{.3em}}\n",
    "\\begin{array}{|r|r|}\n",
    "\\hline \n",
    "_{12} \\T& _{230} \\\\\\hline\n",
    "_{220} \\\\\n",
    "\\hline\n",
    "\\end{array}\n",
    "\\begin{array}{r}\n",
    "\\require{AMScd}\n",
    "{} \\\\\n",
    "@>\\text{to 230}>>  \n",
    "\\end{array}\n",
    "\\newcommand\\T{\\Rule{0pt}{.1em}{.3em}}\n",
    "\\begin{array}{|r|r|}\n",
    "\\hline \n",
    "_{9} \\T& _{\\text{NULL}} \\\\\\hline\n",
    "_{220} \\\\\n",
    "\\hline\n",
    "\\end{array}\n",
    "$$\n",
    "\n",
    "\n",
    "The structure of LL consists of :\n",
    "\n",
    "1. Data\n",
    "2. Pointer to Next node.\n",
    "\n",
    "(The above is an example of a Forward Only, Single Linked List. Later we will see Bi directional Double Linked List)\n",
    "\n",
    "\n",
    "\n"
   ]
  },
  {
   "cell_type": "markdown",
   "metadata": {},
   "source": [
    "## Searching in LL\n",
    "\n",
    "\n",
    "Linear search will be performed here, as Binary search one need to get to middle of list, and that means we need to get there, and with LL this means we need to traverse to get to middle of list. This will not be possible.\n",
    "\n",
    "\n",
    "Simple as traversing again until we find the key element. We search for key, and if found, return the node. If not found return NULL\n",
    "\n",
    "\n",
    "We have the following simple function\n",
    "\n",
    "```\n",
    "\n",
    "Node* Search(Node *p, int key)\n",
    "{\n",
    "    while(p){\n",
    "        if(key==p->data)\n",
    "            return(p); \n",
    "        p = p->next;    \n",
    "    }\n",
    "   return NULL; \n",
    "}\n",
    "```\n",
    "\n",
    "\n",
    "\n",
    "\n"
   ]
  },
  {
   "cell_type": "markdown",
   "metadata": {},
   "source": [
    "## Recursive Search Function (Head)\n",
    "\n",
    "We can write it as follows:\n",
    "\n",
    "```\n",
    "int RecurSearch(Node *p){\n",
    "    if (p==NULL)\n",
    "        return NULL;\n",
    "    cout<<\"p->data: \" <<p->data<<endl;\n",
    "    \n",
    "    if (key==p->data)\n",
    "        return p;\n",
    "    else\n",
    "      return SearchLLRecurHead(p->next, key);\n",
    "}\n",
    "```\n",
    "\n",
    "This is similar to the previous HEAD recursion, and can further be written, as we did before, breaking it up into further steps:\n",
    "\n",
    "1. ```RecurSearch (p->next, key)```\n",
    "2. Condition to check p->data, is equal to the key\n",
    "\n",
    "\n",
    "Once the key is found, then the function ends. \n",
    "\n"
   ]
  },
  {
   "cell_type": "markdown",
   "metadata": {},
   "source": [
    "## Improved Linear Search\n",
    "\n",
    "We can use the following methods:\n",
    "\n",
    "1. Transposition\n",
    "2. Move to HEAD\n",
    "\n",
    "The above was covered in array topic. Transposition is where we change the position of with the previous value. And Move to Head, is where the key element is moved to the beginning, so when you search for key the next time, it will be completed in only one comparison.\n",
    "\n",
    "\n",
    "We wont attempt Transposition as it involves movement of data. We prefer movement of Nodes.\n",
    "\n",
    "Better approach is to move the found node to head,make it first node.\n",
    "\n",
    "\n",
    "Lets start: the key we searching for is ```12```. Once we found the key we want to make it the HEAD. Again we need some form of a pointer. In searching we used the point p. Where the pointer p stopped (after traversing the list) on the key node.\n",
    "\n",
    "So once we have Node with data = 12. We need to do the following\n",
    "\n",
    "1. Look at the previous node\n",
    "2. And point this previous in our case 7, to point to where Node 12 is pointing to now.\n",
    "3. So since we modifying the previous node, we need pointer, lets call it q pointer on previous node as well.\n",
    "\n",
    "\n",
    "So p starts at the beginning, and q (this can also be called TAIL pointer) will be following p, as it traverse the list always one behind.\n",
    "\n",
    "\n"
   ]
  },
  {
   "cell_type": "code",
   "execution_count": 1,
   "metadata": {},
   "outputs": [],
   "source": [
    "#include <iostream>\n",
    "#include <climits>\n",
    "#include <math.h>\n",
    "#define INSERTION_OPERATOR operator<<\n",
    "#define EXTRACTION_OPERATOR operator>>\n",
    "#define ADDITION_OPERATOR operator+\n",
    "using namespace std;"
   ]
  },
  {
   "cell_type": "code",
   "execution_count": 2,
   "metadata": {},
   "outputs": [],
   "source": [
    "class Node{\n",
    "public:\n",
    "    int data;\n",
    "    Node *next;\n",
    "}*f=NULL;"
   ]
  },
  {
   "cell_type": "code",
   "execution_count": 3,
   "metadata": {},
   "outputs": [],
   "source": [
    "class LinkedList{\n",
    "private:\n",
    "  Node *first;\n",
    "    \n",
    "public:\n",
    "    LinkedList(){\n",
    "        first = NULL;\n",
    "    }\n",
    "    ~LinkedList(); \n",
    "    void Display();\n",
    "    void Insert(int index, int x);\n",
    "    LinkedList(int A[], int n);\n",
    "    int Delete(int index);\n",
    "    int Length();\n",
    "    void DisplayRecurTail(Node *p);\n",
    "    void DisplayRecurHead(Node *p);\n",
    "    int CountRecurHead(Node *p);\n",
    "    int CountRecurTail(Node *p);\n",
    "    int MaxLLRecurHead(Node *p);\n",
    "    int MaxLLRecurHead2(Node *p);\n",
    "    int MaxLL(Node *p);\n",
    "    Node* SearchLL(Node *p, int key);\n",
    "    Node* SearchLLRecurHead(Node *p, int key);\n",
    "    Node* SearchLLImprovedHead(Node *p, int key);\n",
    "}\n"
   ]
  },
  {
   "cell_type": "code",
   "execution_count": 4,
   "metadata": {},
   "outputs": [],
   "source": [
    "Node *LinkedList::SearchLLImprovedHead(Node *p, int key){\n",
    "    Node *q=NULL;\n",
    "    while(p){\n",
    "        if(p->data==key){\n",
    "            q->next = p->next;\n",
    "            p->next = first;\n",
    "            first=p;\n",
    "            return p;\n",
    "        }\n",
    "        q = p;\n",
    "        p = p->next;    \n",
    "    }\n",
    "   return NULL; \n",
    "}"
   ]
  },
  {
   "cell_type": "code",
   "execution_count": 5,
   "metadata": {},
   "outputs": [],
   "source": [
    "Node *LinkedList::SearchLL(Node *p, int key){\n",
    "    while(p){\n",
    "        if(p->data==key)\n",
    "            return p;\n",
    "        p = p->next;    \n",
    "    }\n",
    "   return NULL; \n",
    "}"
   ]
  },
  {
   "cell_type": "code",
   "execution_count": 6,
   "metadata": {},
   "outputs": [],
   "source": [
    "Node *LinkedList::SearchLLRecurHead(Node *p,int key){\n",
    "    if (p==NULL)\n",
    "        return NULL;\n",
    "    cout<<\"p->data: \" <<p->data<<endl;\n",
    "    \n",
    "    if (key==p->data)\n",
    "        return p;\n",
    "    else\n",
    "      return SearchLLRecurHead(p->next, key);\n",
    "    \n",
    "    \n",
    "}"
   ]
  },
  {
   "cell_type": "code",
   "execution_count": 7,
   "metadata": {},
   "outputs": [],
   "source": [
    "int LinkedList::MaxLLRecurHead(Node *p){\n",
    "    static int x = 0,MIN_INT;\n",
    "    cout<<\"MIN_INT: \" <<MIN_INT<<endl;\n",
    "    if (p==NULL)\n",
    "        return MIN_INT;\n",
    "    x = MaxLLRecurHead(p->next);\n",
    "    cout<<\"x: \" <<x<<endl;\n",
    "    cout<<\"p->data: \" <<p->data<<endl;\n",
    "    return x > p->data?x:p->data;\n",
    "}"
   ]
  },
  {
   "cell_type": "code",
   "execution_count": 8,
   "metadata": {},
   "outputs": [],
   "source": [
    "int LinkedList::MaxLLRecurHead2(Node *p){\n",
    "    static int x = 0,MIN_INT;\n",
    "    cout<<\"MIN_INT: \" <<MIN_INT<<endl;\n",
    "    if (p==NULL)\n",
    "        return MIN_INT;\n",
    "    x = MaxLLRecurHead(p->next);\n",
    "    \n",
    "    if (x > p->data)\n",
    "        return x;\n",
    "    else\n",
    "        return p->data;\n",
    "    \n",
    "    cout<<\"x: \" <<x<<endl;\n",
    "    cout<<\"p->data: \" <<p->data<<endl;\n",
    "    \n",
    "}"
   ]
  },
  {
   "cell_type": "code",
   "execution_count": 9,
   "metadata": {},
   "outputs": [],
   "source": [
    "int LinkedList::CountRecurTail(Node *p){\n",
    "    static int cnt = 0;\n",
    "    if (p==NULL)\n",
    "        return 0;\n",
    "    else{\n",
    "        cnt++;\n",
    "        cout<<\"cnt: \" <<cnt<<endl;\n",
    "        cout<<\"p->data: \" <<p->data<<endl;\n",
    "        return 1+CountRecurTail(p->next);\n",
    "    }\n",
    "    //cout<<\"cnt: \" <<cnt<<endl;\n",
    "}"
   ]
  },
  {
   "cell_type": "code",
   "execution_count": 10,
   "metadata": {},
   "outputs": [],
   "source": [
    "int LinkedList::MaxLL(Node *p){\n",
    "    int m = -32768, MIN_INT;\n",
    "    while(p){\n",
    "        if(p->data> m)\n",
    "            m = p->data;\n",
    "        p = p->next;    \n",
    "    }\n",
    "   return(m); \n",
    "}"
   ]
  },
  {
   "cell_type": "code",
   "execution_count": 11,
   "metadata": {},
   "outputs": [],
   "source": [
    "int LinkedList::CountRecurHead(Node *p){\n",
    "    static int cnt = 0;\n",
    "    if (p==NULL)\n",
    "        return 0;\n",
    "    else{\n",
    "        cnt++;\n",
    "        cout<<\"cnt: \" <<cnt<<endl;\n",
    "        cout<<\"p->data: \" <<p->data<<endl;\n",
    "        return CountRecurHead(p->next)+1;\n",
    "    }\n",
    "    //cout<<\"cnt: \" <<cnt<<endl;\n",
    "}"
   ]
  },
  {
   "cell_type": "code",
   "execution_count": 12,
   "metadata": {},
   "outputs": [],
   "source": [
    "void LinkedList::DisplayRecurHead(Node *p){\n",
    "    static int cnt = 1;\n",
    "    if (p!=NULL){\n",
    "        cnt++;\n",
    "        DisplayRecurHead(p->next);\n",
    "        cout<<p->data<<endl;\n",
    "    }\n",
    "    cout<<\"cnt: \" <<cnt<<endl;\n",
    "}"
   ]
  },
  {
   "cell_type": "code",
   "execution_count": 13,
   "metadata": {},
   "outputs": [],
   "source": [
    "void LinkedList::DisplayRecurTail(Node *p){\n",
    "    static int cnt = 1;\n",
    "    if (p!=NULL){\n",
    "        cnt++;\n",
    "        cout<<p->data<<endl;\n",
    "        DisplayRecurTail(p->next);\n",
    "    }\n",
    "    cout<<\"cnt: \" <<cnt<<endl;\n",
    "}"
   ]
  },
  {
   "cell_type": "code",
   "execution_count": 14,
   "metadata": {},
   "outputs": [],
   "source": [
    "LinkedList::LinkedList(int A[], int n){\n",
    "    Node *last, *t;\n",
    "    int i = 0;\n",
    "    \n",
    "    first= new Node;\n",
    "    first->data=A[0];\n",
    "    f = first;\n",
    "    first->next=NULL;\n",
    "    last = first;\n",
    "    \n",
    "    cout<<\"Start Address of first: \"<<first<<endl;\n",
    "    cout<<\"Data of first: \"<<first->data<<endl;\n",
    "    cout<<\"Next of first: \"<<first->next<<endl;\n",
    "    cout<<\"-----END FIRST---\"<<endl;\n",
    "    \n",
    "    cout<<\"Start Address of last: \"<<last<<endl;\n",
    "    cout<<\"Data of last: \"<<last->data<<endl;\n",
    "    cout<<\"Next of last: \"<<last->next<<endl;\n",
    "    cout<<\"-----END LAST---\"<<endl;\n",
    "    \n",
    "    \n",
    "    \n",
    "    for(i=1; i<n;i++)\n",
    "    {\n",
    "        t = new Node;\n",
    "        t->data=A[i];\n",
    "        t->next=NULL;\n",
    "        \n",
    "        cout<<\"Index i: \"<<i<<endl;\n",
    "        cout<<\"Array Value: \"<<A[i]<<endl;\n",
    "        cout<<\"Start Address of t: \"<<t<<endl;\n",
    "        cout<<\"Data of t: \"<<t->data<<endl;\n",
    "        cout<<\"Next of t: \"<<t->next<<endl;\n",
    "        cout<<\"-----END T---\"<<endl;\n",
    "        \n",
    "        last->next=t;\n",
    "        cout<<\"last->next=t\"<<endl;\n",
    "        cout<<\"Start Address of last: \"<<last<<endl;\n",
    "        cout<<\"Data of last: \"<<last->data<<endl;\n",
    "        cout<<\"Next of last: \"<<last->next<<endl;\n",
    "         cout<<\"-----END LAST---\"<<endl;\n",
    "        last=t; \n",
    "        \n",
    "        cout<<\"last=t\"<<endl;\n",
    "        cout<<\"Start Address of last: \"<<last<<endl;\n",
    "        cout<<\"Data of last: \"<<last->data<<endl;\n",
    "        cout<<\"Next of last: \"<<last->next<<endl;\n",
    "        cout<<\"-----END [last=t]---\"<<endl;\n",
    "        \n",
    "        cout<<\"last=t\"<<endl;\n",
    "        cout<<\"Start Address of t: \"<<t<<endl;\n",
    "        cout<<\"Data of t: \"<<t->data<<endl;\n",
    "        cout<<\"Next of t: \"<<t->next<<endl;\n",
    "        cout<<\"-----END T---\"<<endl;\n",
    "        \n",
    "        \n",
    "    }\n",
    "    \n",
    "    \n",
    "}"
   ]
  },
  {
   "cell_type": "code",
   "execution_count": 15,
   "metadata": {},
   "outputs": [],
   "source": [
    "LinkedList::~LinkedList(){\n",
    "    Node *p=first;\n",
    "    while(first)\n",
    "    {\n",
    "      first=first->next;\n",
    "      delete p;\n",
    "      p=first;\n",
    "    }\n",
    "}"
   ]
  },
  {
   "cell_type": "code",
   "execution_count": 16,
   "metadata": {},
   "outputs": [],
   "source": [
    "void LinkedList::Display(){\n",
    "    Node *p=first;\n",
    "    while(p){\n",
    "        cout<<p->data<<\" \";\n",
    "        p=p->next;\n",
    "    }\n",
    "    cout<<endl;\n",
    "}"
   ]
  },
  {
   "cell_type": "code",
   "execution_count": 17,
   "metadata": {},
   "outputs": [],
   "source": [
    "int LinkedList::Length(){\n",
    "    Node *p=first;\n",
    "    int len=0;\n",
    "    while(p){\n",
    "        len++;\n",
    "        p=p->next;\n",
    "    }\n",
    "    return len;\n",
    "}"
   ]
  },
  {
   "cell_type": "code",
   "execution_count": 18,
   "metadata": {},
   "outputs": [],
   "source": [
    "void LinkedList::Insert(int index, int x){\n",
    "    Node *t, *p=first;\n",
    "    \n",
    "    if(index <0 || index > Length())\n",
    "        return;\n",
    "    t = new Node;\n",
    "    t->data = x;\n",
    "    t->next=NULL;\n",
    "    \n",
    "    if(index==0){\n",
    "        first = t;\n",
    "    }\n",
    "    else{\n",
    "        for(int i =0; i<index-1;i++)\n",
    "            p=p->next;\n",
    "        t->next=p->next;\n",
    "        p->next=t;\n",
    "    }\n",
    "}   "
   ]
  },
  {
   "cell_type": "code",
   "execution_count": 19,
   "metadata": {},
   "outputs": [],
   "source": [
    "int LinkedList::Delete(int index){\n",
    "    Node *p, *q=NULL;\n",
    "    int x = -1;\n",
    "    if(index <0 || index > Length())\n",
    "        return -1;  \n",
    "    if(index==1){\n",
    "        p=first;\n",
    "        first = first->next;\n",
    "        x=p->data; \n",
    "        delete p;\n",
    "    }\n",
    "    else{\n",
    "        p=first;\n",
    "        for(int i =0; i<index-1;i++)\n",
    "        {\n",
    "            p=q;\n",
    "            p=p->next;\n",
    "            \n",
    "        }\n",
    "        q->next=p->next;\n",
    "        x=p->data;\n",
    "        delete p;\n",
    "    }  \n",
    "    return x;\n",
    "}\n"
   ]
  },
  {
   "cell_type": "code",
   "execution_count": 20,
   "metadata": {},
   "outputs": [
    {
     "name": "stdout",
     "output_type": "stream",
     "text": [
      "10\n",
      "0\n"
     ]
    }
   ],
   "source": [
    "Node *p= new Node();\n",
    "p->data=10;\n",
    "p->next=0;\n",
    "cout<<p->data<<endl;\n",
    "cout<<p->next<<endl;\n"
   ]
  },
  {
   "cell_type": "code",
   "execution_count": 21,
   "metadata": {},
   "outputs": [
    {
     "name": "stdout",
     "output_type": "stream",
     "text": [
      "Start Address of first: 0x561090cb0730\n",
      "Data of first: 8\n",
      "Next of first: 0\n",
      "-----END FIRST---\n",
      "Start Address of last: 0x561090cb0730\n",
      "Data of last: 8\n",
      "Next of last: 0\n",
      "-----END LAST---\n",
      "Index i: 1\n",
      "Array Value: 3\n",
      "Start Address of t: 0x5610912bfed0\n",
      "Data of t: 3\n",
      "Next of t: 0\n",
      "-----END T---\n",
      "last->next=t\n",
      "Start Address of last: 0x561090cb0730\n",
      "Data of last: 8\n",
      "Next of last: 0x5610912bfed0\n",
      "-----END LAST---\n",
      "last=t\n",
      "Start Address of last: 0x5610912bfed0\n",
      "Data of last: 3\n",
      "Next of last: 0\n",
      "-----END [last=t]---\n",
      "last=t\n",
      "Start Address of t: 0x5610912bfed0\n",
      "Data of t: 3\n",
      "Next of t: 0\n",
      "-----END T---\n",
      "Index i: 2\n",
      "Array Value: 7\n",
      "Start Address of t: 0x561090cb38b0\n",
      "Data of t: 7\n",
      "Next of t: 0\n",
      "-----END T---\n",
      "last->next=t\n",
      "Start Address of last: 0x5610912bfed0\n",
      "Data of last: 3\n",
      "Next of last: 0x561090cb38b0\n",
      "-----END LAST---\n",
      "last=t\n",
      "Start Address of last: 0x561090cb38b0\n",
      "Data of last: 7\n",
      "Next of last: 0\n",
      "-----END [last=t]---\n",
      "last=t\n",
      "Start Address of t: 0x561090cb38b0\n",
      "Data of t: 7\n",
      "Next of t: 0\n",
      "-----END T---\n",
      "Index i: 3\n",
      "Array Value: 12\n",
      "Start Address of t: 0x561090836be0\n",
      "Data of t: 12\n",
      "Next of t: 0\n",
      "-----END T---\n",
      "last->next=t\n",
      "Start Address of last: 0x561090cb38b0\n",
      "Data of last: 7\n",
      "Next of last: 0x561090836be0\n",
      "-----END LAST---\n",
      "last=t\n",
      "Start Address of last: 0x561090836be0\n",
      "Data of last: 12\n",
      "Next of last: 0\n",
      "-----END [last=t]---\n",
      "last=t\n",
      "Start Address of t: 0x561090836be0\n",
      "Data of t: 12\n",
      "Next of t: 0\n",
      "-----END T---\n",
      "Index i: 4\n",
      "Array Value: 9\n",
      "Start Address of t: 0x5610904d2360\n",
      "Data of t: 9\n",
      "Next of t: 0\n",
      "-----END T---\n",
      "last->next=t\n",
      "Start Address of last: 0x561090836be0\n",
      "Data of last: 12\n",
      "Next of last: 0x5610904d2360\n",
      "-----END LAST---\n",
      "last=t\n",
      "Start Address of last: 0x5610904d2360\n",
      "Data of last: 9\n",
      "Next of last: 0\n",
      "-----END [last=t]---\n",
      "last=t\n",
      "Start Address of t: 0x5610904d2360\n",
      "Data of t: 9\n",
      "Next of t: 0\n",
      "-----END T---\n",
      "8 3 7 12 9 \n"
     ]
    }
   ],
   "source": [
    "int A[] = {8,3,7,12,9};\n",
    "LinkedList ll(A,5);\n",
    "ll.Display();\n"
   ]
  },
  {
   "cell_type": "code",
   "execution_count": 22,
   "metadata": {},
   "outputs": [
    {
     "name": "stdout",
     "output_type": "stream",
     "text": [
      "8\n",
      "3\n",
      "7\n",
      "12\n",
      "9\n",
      "cnt: 6\n",
      "cnt: 6\n",
      "cnt: 6\n",
      "cnt: 6\n",
      "cnt: 6\n",
      "cnt: 6\n"
     ]
    }
   ],
   "source": [
    "ll.DisplayRecurTail(f);"
   ]
  },
  {
   "cell_type": "code",
   "execution_count": 23,
   "metadata": {},
   "outputs": [
    {
     "name": "stdout",
     "output_type": "stream",
     "text": [
      "cnt: 6\n",
      "9\n",
      "cnt: 6\n",
      "12\n",
      "cnt: 6\n",
      "7\n",
      "cnt: 6\n",
      "3\n",
      "cnt: 6\n",
      "8\n",
      "cnt: 6\n"
     ]
    }
   ],
   "source": [
    "ll.DisplayRecurHead(f);"
   ]
  },
  {
   "cell_type": "code",
   "execution_count": 24,
   "metadata": {},
   "outputs": [
    {
     "name": "stdout",
     "output_type": "stream",
     "text": [
      "Count Recur: cnt: 1\n",
      "p->data: 8\n",
      "cnt: 2\n",
      "p->data: 3\n",
      "cnt: 3\n",
      "p->data: 7\n",
      "cnt: 4\n",
      "p->data: 12\n",
      "cnt: 5\n",
      "p->data: 9\n",
      "5\n"
     ]
    }
   ],
   "source": [
    "cout<<\"Count Recur: \"<<ll.CountRecurHead(f)<<endl;"
   ]
  },
  {
   "cell_type": "code",
   "execution_count": 25,
   "metadata": {},
   "outputs": [
    {
     "name": "stdout",
     "output_type": "stream",
     "text": [
      "Count Recur: cnt: 1\n",
      "p->data: 8\n",
      "cnt: 2\n",
      "p->data: 3\n",
      "cnt: 3\n",
      "p->data: 7\n",
      "cnt: 4\n",
      "p->data: 12\n",
      "cnt: 5\n",
      "p->data: 9\n",
      "5\n"
     ]
    }
   ],
   "source": [
    "cout<<\"Count Recur: \"<<ll.CountRecurTail(f)<<endl;"
   ]
  },
  {
   "cell_type": "code",
   "execution_count": 26,
   "metadata": {},
   "outputs": [
    {
     "name": "stdout",
     "output_type": "stream",
     "text": [
      "Max Int:12\n"
     ]
    }
   ],
   "source": [
    "cout<<\"Max Int:\"<<ll.MaxLL(f)<<endl;"
   ]
  },
  {
   "cell_type": "code",
   "execution_count": 27,
   "metadata": {},
   "outputs": [
    {
     "name": "stdout",
     "output_type": "stream",
     "text": [
      "Max Int Recur:MIN_INT: 0\n",
      "MIN_INT: 0\n",
      "MIN_INT: 0\n",
      "MIN_INT: 0\n",
      "MIN_INT: 0\n",
      "MIN_INT: 0\n",
      "x: 0\n",
      "p->data: 9\n",
      "x: 9\n",
      "p->data: 12\n",
      "x: 12\n",
      "p->data: 7\n",
      "x: 12\n",
      "p->data: 3\n",
      "x: 12\n",
      "p->data: 8\n",
      "12\n"
     ]
    }
   ],
   "source": [
    "cout<<\"Max Int Recur:\"<<ll.MaxLLRecurHead(f)<<endl;"
   ]
  },
  {
   "cell_type": "code",
   "execution_count": 28,
   "metadata": {},
   "outputs": [
    {
     "name": "stdout",
     "output_type": "stream",
     "text": [
      "Max Int Recur:MIN_INT: 0\n",
      "MIN_INT: 0\n",
      "MIN_INT: 0\n",
      "MIN_INT: 0\n",
      "MIN_INT: 0\n",
      "MIN_INT: 0\n",
      "x: 0\n",
      "p->data: 9\n",
      "x: 9\n",
      "p->data: 12\n",
      "x: 12\n",
      "p->data: 7\n",
      "x: 12\n",
      "p->data: 3\n",
      "12\n"
     ]
    }
   ],
   "source": [
    "cout<<\"Max Int Recur:\"<<ll.MaxLLRecurHead2(f)<<endl;"
   ]
  },
  {
   "cell_type": "code",
   "execution_count": 29,
   "metadata": {},
   "outputs": [
    {
     "name": "stdout",
     "output_type": "stream",
     "text": [
      "Found Node:0x5610904d2360\n"
     ]
    }
   ],
   "source": [
    "cout<<\"Found Node:\"<<ll.SearchLL(f, 9)<<endl;"
   ]
  },
  {
   "cell_type": "code",
   "execution_count": 30,
   "metadata": {},
   "outputs": [
    {
     "name": "stdout",
     "output_type": "stream",
     "text": [
      "Recur Found Node:p->data: 8\n",
      "p->data: 3\n",
      "0x5610912bfed0\n"
     ]
    }
   ],
   "source": [
    "cout<<\"Recur Found Node:\"<<ll.SearchLLRecurHead(f,3)<<endl;\n"
   ]
  },
  {
   "cell_type": "code",
   "execution_count": 31,
   "metadata": {},
   "outputs": [
    {
     "name": "stdout",
     "output_type": "stream",
     "text": [
      "8 3 7 12 9 \n",
      "Move Head:0x561090836be0\n",
      "12 8 3 7 9 \n"
     ]
    }
   ],
   "source": [
    "ll.Display();\n",
    "cout<<\"Move Head:\"<<ll.SearchLLImprovedHead(f,12)<<endl;\n",
    "ll.Display();"
   ]
  },
  {
   "cell_type": "code",
   "execution_count": null,
   "metadata": {},
   "outputs": [],
   "source": []
  }
 ],
 "metadata": {
  "kernelspec": {
   "display_name": "C++17",
   "language": "C++17",
   "name": "xcpp17"
  },
  "language_info": {
   "codemirror_mode": "text/x-c++src",
   "file_extension": ".cpp",
   "mimetype": "text/x-c++src",
   "name": "c++",
   "version": "-std=c++17"
  }
 },
 "nbformat": 4,
 "nbformat_minor": 2
}

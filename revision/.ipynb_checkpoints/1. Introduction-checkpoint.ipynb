{
 "cells": [
  {
   "cell_type": "markdown",
   "metadata": {},
   "source": [
    "# Messing with\n",
    "\n",
    "1. Recursion\n",
    "    Main Point here: Whne doing a simple ```void function```, its clear what get done in function, that is for Tail Recursion, we have printed big --> to small. And with Head recursion, we have the function (recursion occurring over and over, the once we reached n = 0, we start printing n, starting from small--> to big.\n",
    "    This works well for simple ```void function```. However, when we deal with ```return function```, we need not stray by firstly trying to do \"all in one\". \n",
    "    Main Point: Do only recursive function, whatever is before or after the statement, gets treated \"when coming back\" See below.\n",
    "  \n",
    "   \n"
   ]
  },
  {
   "cell_type": "code",
   "execution_count": null,
   "metadata": {},
   "outputs": [],
   "source": [
    "#include <iostream>\n",
    "#include <climits>\n",
    "#include <math.h>\n",
    "#include <string>\n",
    "#define INSERTION_OPERATOR operator>>\n",
    "#define EXTRACTION_OPERATOR operator<<\n",
    "#define ADDITION_OPERATOR operator+\n",
    "#define SUBTRACT_OPERATOR operator-\n",
    "using namespace std;"
   ]
  },
  {
   "cell_type": "markdown",
   "metadata": {},
   "source": [
    "## Recurse (Tail) - Simple\n",
    "\n",
    "____\n",
    "\n",
    "Know how this works...."
   ]
  },
  {
   "cell_type": "code",
   "execution_count": null,
   "metadata": {},
   "outputs": [],
   "source": [
    "void fun(int n){\n",
    "    if (n > 0){\n",
    "        cout<<n<<endl;\n",
    "        fun(n-1);\n",
    "    }\n",
    "}"
   ]
  },
  {
   "cell_type": "code",
   "execution_count": 3,
   "metadata": {},
   "outputs": [
    {
     "name": "stdout",
     "output_type": "stream",
     "text": [
      "5\n",
      "4\n",
      "3\n",
      "2\n",
      "1\n"
     ]
    }
   ],
   "source": [
    "int n=5;\n",
    "fun(n);\n"
   ]
  },
  {
   "cell_type": "markdown",
   "metadata": {},
   "source": [
    "## Recurse - Return Function \n",
    "\n",
    "____\n",
    "\n",
    "Main point here: recurse fun1 the same way as fun above. What happens when fun1 gets called? It gets called again, and there is nothing before or after the function fun1. Here before and after refers to the same line as fun1. (where will see this better in fun2).\n",
    "Here is essence: Only when we get exit function, do we get a valid return value, which is 0.\n",
    "ON Return, do we do whatevevr is before or after the function.\n"
   ]
  },
  {
   "cell_type": "code",
   "execution_count": 4,
   "metadata": {},
   "outputs": [],
   "source": [
    "int fun1(int n){\n",
    "    if (n > 0){\n",
    "        cout<<\"fun1:\"<<n<<endl;\n",
    "        return fun1(n-1);\n",
    "    }\n",
    "    return 0;\n",
    "}"
   ]
  },
  {
   "cell_type": "code",
   "execution_count": 5,
   "metadata": {},
   "outputs": [
    {
     "name": "stdout",
     "output_type": "stream",
     "text": [
      "fun1:5\n",
      "fun1:4\n",
      "fun1:3\n",
      "fun1:2\n",
      "fun1:1\n",
      "0\n"
     ]
    }
   ],
   "source": [
    "cout<<fun1(n)<<endl;"
   ]
  },
  {
   "cell_type": "markdown",
   "metadata": {},
   "source": [
    "## Recurse - Return Function \n",
    "\n",
    "____\n",
    "\n",
    "Main Point: Do recursive function as normal. \n",
    "\n",
    "n gets added up from 5+4+3+2+1=15, then is outputted as the result.\n",
    "\n",
    "Essence from above: n's value is maintained.\n"
   ]
  },
  {
   "cell_type": "code",
   "execution_count": 6,
   "metadata": {},
   "outputs": [],
   "source": [
    "int fun2(int n){\n",
    "    if (n > 0){\n",
    "        cout<<\"fun2:\"<<n<<endl;\n",
    "        return fun2(n-1)+n;\n",
    "    }\n",
    "    return 0;\n",
    "}"
   ]
  },
  {
   "cell_type": "code",
   "execution_count": 7,
   "metadata": {},
   "outputs": [
    {
     "name": "stdout",
     "output_type": "stream",
     "text": [
      "fun2:5\n",
      "fun2:4\n",
      "fun2:3\n",
      "fun2:2\n",
      "fun2:1\n",
      "15\n"
     ]
    }
   ],
   "source": [
    "cout<<fun2(n)<<endl;"
   ]
  },
  {
   "cell_type": "markdown",
   "metadata": {},
   "source": [
    "## Recurse - Return Function (Difficult to see)\n",
    "\n",
    "____\n",
    "\n",
    "Essence here. We firstly need to know the difference between normal Iterative (loop) function and recursive (loop) function. Loops only have a forward only (ascending phase), whereas recursive function as forward and returning (descending phase).\n",
    "\n",
    "So main point here: \n",
    "1. x gets incremented in forward only phase till 5, till the exit condition is reached\n",
    "2. then x gets added to ITSELF (5+5+5+5+5=25), and recursive function dont play any ROLE here.\n",
    "\n",
    "Again, the ```+x``` after fun3, does not play a role in recursion. See fun4 how it can be written."
   ]
  },
  {
   "cell_type": "code",
   "execution_count": 8,
   "metadata": {},
   "outputs": [],
   "source": [
    "int fun3(int n){\n",
    "    static int x=0;\n",
    "    if (n > 0){\n",
    "        x++;\n",
    "        cout<<\"fun3:\"<<n<<endl;\n",
    "        return fun3(n-1)+x;\n",
    "    }\n",
    "    return 0;\n",
    "}"
   ]
  },
  {
   "cell_type": "code",
   "execution_count": 9,
   "metadata": {},
   "outputs": [
    {
     "name": "stdout",
     "output_type": "stream",
     "text": [
      "fun3:5\n",
      "fun3:4\n",
      "fun3:3\n",
      "fun3:2\n",
      "fun3:1\n",
      "25\n"
     ]
    }
   ],
   "source": [
    "cout<<fun3(n)<<endl;"
   ]
  },
  {
   "cell_type": "markdown",
   "metadata": {},
   "source": [
    "## ## Recurse - Return Function (Much clearer to see)\n",
    "\n",
    "____\n",
    "\n",
    "Main point: By removing the return from Fun, and showing what actually happens, which us returning ONLY the counter, in this case y. Not returning Fun. Again, we NOT returning fun.\n",
    "\n",
    "We can take it further by constructing the following signature:\n",
    "\n",
    "```\n",
    "<pre statement><Recursive Function><post statement>\n",
    "     \n",
    "```   "
   ]
  },
  {
   "cell_type": "code",
   "execution_count": 10,
   "metadata": {},
   "outputs": [],
   "source": [
    "int fun4(int n){\n",
    "    static int x=0;\n",
    "    static int y=0;\n",
    "    if (n > 0){\n",
    "        x++;\n",
    "        cout<<\"fun4:\"<<n<<endl;\n",
    "        fun4(n-1);\n",
    "        y+=x;\n",
    "        return y;\n",
    "    }\n",
    "    return 0;\n",
    "}"
   ]
  },
  {
   "cell_type": "code",
   "execution_count": 11,
   "metadata": {
    "scrolled": true
   },
   "outputs": [
    {
     "name": "stdout",
     "output_type": "stream",
     "text": [
      "fun4:5\n",
      "fun4:4\n",
      "fun4:3\n",
      "fun4:2\n",
      "fun4:1\n",
      "25\n"
     ]
    }
   ],
   "source": [
    "cout<<fun4(n)<<endl;"
   ]
  },
  {
   "cell_type": "markdown",
   "metadata": {},
   "source": [
    "## Which leads us to 1...(first difficult)\n",
    "___"
   ]
  },
  {
   "cell_type": "code",
   "execution_count": 12,
   "metadata": {},
   "outputs": [],
   "source": [
    "int fun5(int n){\n",
    "    static int x=0;\n",
    "    if (n > 0){\n",
    "        x++;\n",
    "        cout<<\"fun5:\"<<n<<endl;\n",
    "        return x+fun5(n-1)+x; //or can use n as well\n",
    "    }\n",
    "    return 0;\n",
    "}"
   ]
  },
  {
   "cell_type": "code",
   "execution_count": 13,
   "metadata": {
    "scrolled": false
   },
   "outputs": [
    {
     "name": "stdout",
     "output_type": "stream",
     "text": [
      "fun5:5\n",
      "fun5:4\n",
      "fun5:3\n",
      "fun5:2\n",
      "fun5:1\n",
      "40\n"
     ]
    }
   ],
   "source": [
    "cout<<fun5(n)<<endl;"
   ]
  },
  {
   "cell_type": "markdown",
   "metadata": {},
   "source": [
    "## Which leads us to 1...(more clearer)\n",
    "\n",
    "____\n",
    "\n",
    "Trick: use n here. to get 1+2+3+4+5"
   ]
  },
  {
   "cell_type": "code",
   "execution_count": 14,
   "metadata": {},
   "outputs": [],
   "source": [
    "int fun6(int n){\n",
    "    static int x=0;\n",
    "    static int y=0;\n",
    "    if (n > 0){\n",
    "        x++;\n",
    "        cout<<\"fun6:\"<<n<<endl;\n",
    "        fun6(n-1);\n",
    "        y+=x+n;\n",
    "        return y;\n",
    "    }\n",
    "    return 0;\n",
    "}"
   ]
  },
  {
   "cell_type": "code",
   "execution_count": 15,
   "metadata": {},
   "outputs": [
    {
     "name": "stdout",
     "output_type": "stream",
     "text": [
      "fun6:5\n",
      "fun6:4\n",
      "fun6:3\n",
      "fun6:2\n",
      "fun6:1\n",
      "40\n"
     ]
    }
   ],
   "source": [
    "cout<<fun6(n)<<endl;"
   ]
  },
  {
   "cell_type": "code",
   "execution_count": null,
   "metadata": {},
   "outputs": [],
   "source": []
  }
 ],
 "metadata": {
  "kernelspec": {
   "display_name": "C++17",
   "language": "C++17",
   "name": "xcpp17"
  },
  "language_info": {
   "codemirror_mode": "text/x-c++src",
   "file_extension": ".cpp",
   "mimetype": "text/x-c++src",
   "name": "c++",
   "version": "17"
  }
 },
 "nbformat": 4,
 "nbformat_minor": 2
}

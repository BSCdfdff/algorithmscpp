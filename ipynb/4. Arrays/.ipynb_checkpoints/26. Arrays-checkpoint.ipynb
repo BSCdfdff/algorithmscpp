{
 "cells": [
  {
   "cell_type": "markdown",
   "metadata": {},
   "source": [
    "# Arrays\n",
    "\n",
    "+ What is an array\n",
    "+ Declaring and initializing\n",
    "+ Accessing"
   ]
  },
  {
   "cell_type": "markdown",
   "metadata": {},
   "source": [
    "## Arrays\n",
    "___\n",
    "\n",
    "\n",
    "For Simple variable or single or scalar variable we store 1 single value at a certain address\n",
    "\n",
    "Note: for our discussion we take 2 bytes per integer (it may be 4 b\n",
    "\n",
    "int x = address 200 to 201, (if assume 2 bytes per integer)\n",
    "\n",
    "\n",
    "An array store multiple (e.g 5) will store data of same type.\n",
    "\n",
    "int x[5] = address 200 - 209 = 10 bytes (if we assume 2 bytes per integer)\n",
    "\n",
    "Differentiate values with the use of index, A[1]\n",
    "\n",
    "\n",
    " \n"
   ]
  },
  {
   "cell_type": "markdown",
   "metadata": {},
   "source": [
    "## Declaration\n",
    "___\n",
    "\n",
    "With only declaration, then empty array will have garbage values.\n",
    "\n",
    "Can only initialise a few values or single value, rest will be initialised with zero\n",
    "\n",
    "int A[5]={1,2}; \n",
    "\n",
    "int A[5]={0}\n",
    "\n",
    "Don't have to give a size, it will get size from count of values:\n",
    "\n",
    "int A[]={1,2,3,4,5}\n",
    "\n",
    "\n",
    "\n",
    "\n"
   ]
  },
  {
   "cell_type": "markdown",
   "metadata": {},
   "source": [
    "## Traverse an Array\n",
    "\n",
    "```\n",
    "int A[5]={1,2,3,4,5}\n",
    "\n",
    "int *p=&A;\n",
    "\n",
    "for (int i; i<4; i++){\n",
    "    cout<<A[i]<<endl\n",
    "}\n",
    "\n",
    "or \n",
    "\n",
    "for (int i; i<5; i++){\n",
    "    cout<<i[A]<<endl\n",
    "}\n",
    "\n",
    "or use pointer\n",
    "\n",
    "for (int i; i<5; i++){\n",
    "    cout<<*p[i]<<endl\n",
    "}\n",
    "\n",
    "```\n",
    "\n"
   ]
  },
  {
   "cell_type": "markdown",
   "metadata": {},
   "source": [
    "## Static v Dynamic Array\n",
    "\n",
    "Static means the size is fixed, or Dynmaic means the size is not fixed \n",
    "\n",
    "\n",
    "By default array is located or created in stack.\n",
    "\n",
    "To create a dynamic array, we need to create a pointer with new keyword.\n",
    "\n",
    "```\n",
    "\n",
    "int A[5];\n",
    "\n",
    "int p*;\n",
    "\n",
    "p=new int [5]\n",
    "```\n",
    "\n",
    "The second array has nothing to do with A array.\n",
    "\n",
    "The pointer is declare in STACK, but the array is created in HEAP\n",
    "\n",
    "\n",
    "\n",
    "\n",
    "But we must delete (deallocated) or release memory when not required\n",
    "\n",
    "```\n",
    "\n",
    "delete []p\n",
    "p = nullptr\n",
    "\n",
    "```\n"
   ]
  },
  {
   "cell_type": "markdown",
   "metadata": {},
   "source": [
    "## Initialize a pointer array in HEAP\n",
    "```\n",
    "int *p=new int[5]()\n",
    "\n",
    "```\n",
    "\n",
    "Otherwise there will be garbage values\n"
   ]
  },
  {
   "cell_type": "markdown",
   "metadata": {},
   "source": [
    "## How to access array created in HEAP\n",
    "\n",
    "p[2]=7;\n",
    "\n",
    "So the pointer acts as NAME for the array. There is no other name for the array.\n",
    "\n",
    "To increase the size of array?\n",
    "\n"
   ]
  },
  {
   "cell_type": "markdown",
   "metadata": {},
   "source": [
    "## Increase/Decease size of array in  HEAP\n",
    "\n",
    "How to we do this.\n",
    "\n",
    "we cannot increase the existing array. But we can create a new pointer to new array with bigger size. Move all the contents of the old array to the new array. Delete old pointer to array. set the new pointer to old pointer of bigger array.\n",
    "\n",
    "\n",
    "The main idea: Create a new HEAP array pointer, and then point the old array to this new array.\n"
   ]
  },
  {
   "cell_type": "code",
   "execution_count": 1,
   "metadata": {},
   "outputs": [],
   "source": [
    "#include <iostream>\n",
    "#include <climits>\n",
    "#include <math.h>\n",
    "using namespace std;"
   ]
  },
  {
   "cell_type": "markdown",
   "metadata": {},
   "source": [
    "#### Declare both pointer arrays"
   ]
  },
  {
   "cell_type": "code",
   "execution_count": 2,
   "metadata": {},
   "outputs": [],
   "source": [
    "int *p=new int[5]();\n",
    "int *q=new int [10]();"
   ]
  },
  {
   "cell_type": "code",
   "execution_count": 3,
   "metadata": {},
   "outputs": [
    {
     "name": "stdout",
     "output_type": "stream",
     "text": [
      "0x7fbce67a3028\n",
      "0x7fbce67a3030\n"
     ]
    }
   ],
   "source": [
    "cout<<&p<<endl;\n",
    "cout<<&q<<endl;"
   ]
  },
  {
   "cell_type": "markdown",
   "metadata": {},
   "source": [
    "#### Initialize p pointer values"
   ]
  },
  {
   "cell_type": "code",
   "execution_count": 4,
   "metadata": {},
   "outputs": [],
   "source": [
    "p[0]=4;\n",
    "p[1]=45;\n",
    "p[2]=43;\n",
    "p[3]=12;\n",
    "p[4]=7;"
   ]
  },
  {
   "cell_type": "markdown",
   "metadata": {},
   "source": [
    "#### Move p pointer values to bigger q pointer array"
   ]
  },
  {
   "cell_type": "code",
   "execution_count": 5,
   "metadata": {},
   "outputs": [],
   "source": [
    "for (int i=0; i<5; i++){\n",
    "    q[i]=p[i];\n",
    "}"
   ]
  },
  {
   "cell_type": "markdown",
   "metadata": {},
   "source": [
    "#### Fill positions 6[element 5] and 7[element 6]"
   ]
  },
  {
   "cell_type": "code",
   "execution_count": 6,
   "metadata": {},
   "outputs": [],
   "source": [
    "q[5]=19;\n",
    "q[6]=71;\n"
   ]
  },
  {
   "cell_type": "markdown",
   "metadata": {},
   "source": [
    "#### Check the contents of q and see the values are correct"
   ]
  },
  {
   "cell_type": "code",
   "execution_count": 7,
   "metadata": {},
   "outputs": [
    {
     "name": "stdout",
     "output_type": "stream",
     "text": [
      "4\n",
      "45\n",
      "43\n",
      "12\n",
      "7\n",
      "19\n",
      "71\n",
      "0\n",
      "0\n",
      "0\n"
     ]
    }
   ],
   "source": [
    "for (int i=0; i<10; i++){\n",
    "    cout<<q[i]<<endl;\n",
    "}"
   ]
  },
  {
   "cell_type": "markdown",
   "metadata": {},
   "source": [
    "#### Delete p pointer array\n",
    "\n",
    "Seeing that we want to keep the name \"p\" as out pointer name, we need to remove this pointer to the array of size 5.\n",
    "\n",
    "\n",
    "So we deleting the array of size 5 that was created in the memory.\n"
   ]
  },
  {
   "cell_type": "code",
   "execution_count": 8,
   "metadata": {},
   "outputs": [],
   "source": [
    "delete []p;\n"
   ]
  },
  {
   "cell_type": "markdown",
   "metadata": {},
   "source": [
    "#### Assign q to p\n",
    "\n",
    "Remember q awas pointing to an array of size 10 in heap, and p was pointing to an array of size 5 in HEAP.\n",
    "\n",
    "We now point p to array of 10 in HEAP, where q is also pointing to.\n"
   ]
  },
  {
   "cell_type": "code",
   "execution_count": 9,
   "metadata": {},
   "outputs": [],
   "source": [
    "p=q;"
   ]
  },
  {
   "cell_type": "code",
   "execution_count": 10,
   "metadata": {},
   "outputs": [
    {
     "name": "stdout",
     "output_type": "stream",
     "text": [
      "0x7fbce67a3028\n",
      "0x7fbce67a3030\n"
     ]
    }
   ],
   "source": [
    "cout<<&p<<endl;\n",
    "cout<<&q<<endl;"
   ]
  },
  {
   "cell_type": "markdown",
   "metadata": {},
   "source": [
    "#### Set q to nullptr\n",
    "\n",
    "This is now to remove q reference to array of size 10 in HEAP, as p is also pointing to it.;\n",
    "\n",
    "Remember we CANNOT cannot delete the q pointer to array of size 10, that is ``` delete []q``` is p is pointing to it.\n",
    "\n",
    "And p is pointing to the SAME array in HEAP, as q\n",
    "\n",
    "What we can do is to remove q's reference to to this memory HEAP\n",
    "\n",
    "```\n",
    "q = nullptr;\n",
    "\n",
    "```"
   ]
  },
  {
   "cell_type": "code",
   "execution_count": 11,
   "metadata": {},
   "outputs": [],
   "source": [
    "q = nullptr;"
   ]
  },
  {
   "cell_type": "code",
   "execution_count": 12,
   "metadata": {},
   "outputs": [
    {
     "name": "stdout",
     "output_type": "stream",
     "text": [
      "0x7fbce67a3028\n",
      "0x7fbce67a3030\n"
     ]
    }
   ],
   "source": [
    "cout<<&p<<endl;\n",
    "cout<<&q<<endl;"
   ]
  },
  {
   "cell_type": "markdown",
   "metadata": {},
   "source": [
    "#### Check the contents of p and see the values are correct"
   ]
  },
  {
   "cell_type": "code",
   "execution_count": 13,
   "metadata": {},
   "outputs": [
    {
     "name": "stdout",
     "output_type": "stream",
     "text": [
      "4\n",
      "45\n",
      "43\n",
      "12\n",
      "7\n",
      "19\n",
      "71\n",
      "0\n",
      "0\n",
      "0\n"
     ]
    }
   ],
   "source": [
    "for (int i=0; i<10; i++){\n",
    "    cout<<p[i]<<endl;\n",
    "}"
   ]
  },
  {
   "cell_type": "code",
   "execution_count": null,
   "metadata": {},
   "outputs": [],
   "source": []
  }
 ],
 "metadata": {
  "kernelspec": {
   "display_name": "C++17",
   "language": "C++17",
   "name": "xcpp17"
  },
  "language_info": {
   "codemirror_mode": "text/x-c++src",
   "file_extension": ".cpp",
   "mimetype": "text/x-c++src",
   "name": "c++",
   "version": "-std=c++17"
  }
 },
 "nbformat": 4,
 "nbformat_minor": 2
}

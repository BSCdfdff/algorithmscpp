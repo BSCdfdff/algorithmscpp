{
 "cells": [
  {
   "cell_type": "markdown",
   "metadata": {},
   "source": [
    "# Array ADT\n",
    "\n",
    "+ Abstract Data Type"
   ]
  },
  {
   "cell_type": "markdown",
   "metadata": {},
   "source": [
    "## ADT - Astract Data Type\n",
    "\n",
    "Whats does ADT mean:\n",
    "\n",
    "Representation of Data\n",
    "1. Array space\n",
    "2. Size\n",
    "3. Length (no of elements)\n",
    "\n",
    "Array is a basic data structure provided by compiler. The representation of data is defined by the compiler.\n",
    "\n",
    "Operations on the Data\n",
    "1. Display()\n",
    "2. Add(x)/Append(x)\n",
    "3. Insert (index, x)\n",
    "4. Deleted (index)\n",
    "5. Search(x)\n",
    "6. Get (index)\n",
    "7. Set( index, x)\n",
    "8. Max()/Min(x)\n",
    "9. Reverse()\n",
    "10. Shift Rotate\n",
    "11. Etc\n",
    "\n",
    "Operations is not given by the compiler. We need to come up with those operations\n",
    "\n",
    "So the Representation of data and the operations on that data is defined as ADT.\n"
   ]
  },
  {
   "cell_type": "markdown",
   "metadata": {},
   "source": [
    "### Creating an array\n",
    "\n",
    "To satisfy the first three requirements of \"Representation of Data\"\n",
    "1. Array space 2. Size 3. Length (no of elements)\n",
    "\n",
    "\n",
    "Can create a fixed size array\n",
    "\n",
    "```\n",
    "int A[10];\n",
    "```\n",
    "\n",
    "Or better, create an array whose size can vary (Heap):\n",
    "\n",
    "```\n",
    "int *A\n",
    "int size=10;\n",
    "A=new int [size];\n",
    "\n",
    "```\n",
    "\n",
    "Note here length is zero, as the array does not have any values.\n",
    "\n"
   ]
  },
  {
   "cell_type": "markdown",
   "metadata": {},
   "source": [
    "### Creating an array Class\n",
    "\n",
    "We will be creating an Array class for the data representation and then defining all the operations for that array in the Array class.\n",
    "\n",
    "\n",
    "And we will not be creating a fixed size array.\n",
    "\n",
    "\n",
    "Rather we will create a pointer to an array, so we can dynamically create it. The array will be created in the HEAP (we using the new keyword) And we will set the size using the size variable.\n",
    "\n",
    "In the non parameterized constructor we create the array of some size, in our case of size 10. So here we just set it to some arbitrary size.\n",
    "\n",
    "And length will be 0, as there are no elements.\n",
    "\n",
    "In the parameterized constructor, we pass the size we want.\n",
    "\n",
    "Since we dynamically creating the array in the heap, we need to have a destructor ro deallocate memory from the HEAP.\n",
    "\n"
   ]
  },
  {
   "cell_type": "code",
   "execution_count": 1,
   "metadata": {},
   "outputs": [],
   "source": [
    "#include <iostream>\n",
    "#include <climits>\n",
    "#include <math.h>\n",
    "using namespace std;"
   ]
  },
  {
   "cell_type": "code",
   "execution_count": 2,
   "metadata": {},
   "outputs": [],
   "source": [
    "class Array{\n",
    "private:\n",
    "    int *A;\n",
    "    int size;\n",
    "    int length;\n",
    "public:\n",
    "    Array(){\n",
    "        size=10;\n",
    "        A=new int[10];\n",
    "        length = 0;\n",
    "        \n",
    "    }\n",
    "    Array(int sz){\n",
    "        size=sz;\n",
    "        A=new int[sz];\n",
    "        length = 0;\n",
    "        \n",
    "    }\n",
    "    ~Array(){\n",
    "        delete []A;\n",
    "    }\n",
    "    void Display();\n",
    "    void Add (int x);\n",
    "    void Insert (int index, int x);\n",
    "    void Insert2 (int index, int x);\n",
    "    int Delete (int index);\n",
    "}"
   ]
  },
  {
   "cell_type": "code",
   "execution_count": 3,
   "metadata": {},
   "outputs": [],
   "source": [
    "Array arr(10);"
   ]
  },
  {
   "cell_type": "markdown",
   "metadata": {},
   "source": [
    "### Adding into array\n",
    "\n",
    "When use this interchangeably with append. Which means to add at the end.\n",
    "\n",
    "Size = 10\n",
    "\n",
    "Length = 6\n",
    "\n",
    "How to read the table:\n",
    "\n",
    "1. First row contains the value(s)\n",
    "2. Second row contains the index\n",
    "\n",
    "\n",
    "$$\n",
    "\\newcommand\\T{\\Rule{0pt}{1em}{.3em}}\n",
    "\\begin{array}{|r|r|r|r|r|r|r|r|r|r|}\n",
    "\\hline \n",
    "8\\T&3\\T&7\\T&12\\T&6\\T&9\\T&\\T&\\T&\\T&  \\\\\\hline \n",
    "_0\\T&_1\\T&_2\\T&_3\\T&_4\\T&_5\\T&_6\\T&_7\\T&_8\\T&_9  \\\\\\hline \n",
    "\\end{array}\n",
    "$$\n",
    "\n",
    "\n",
    "So length refers to the number of elements we have in the array.\n",
    "\n",
    "So we want to add value 10, at index 6. How do we do this dynmically?\n",
    "\n",
    "\n",
    "We have length = 6, and we need to insert the element at index 6\n",
    "\n",
    "We write $A[length]=10$, and increment the length\n",
    "\n",
    "\n",
    "\n",
    "Time taken for the insert is constant: $\\text O{(1)}$\n"
   ]
  },
  {
   "cell_type": "code",
   "execution_count": 4,
   "metadata": {},
   "outputs": [],
   "source": [
    "void Array::Add(int x){\n",
    "   A[length]=x;   \n",
    "   length++;\n",
    "}"
   ]
  },
  {
   "cell_type": "code",
   "execution_count": null,
   "metadata": {},
   "outputs": [],
   "source": []
  },
  {
   "cell_type": "markdown",
   "metadata": {},
   "source": [
    "### Insert into array\n",
    "\n",
    "**Picture**\n",
    "\n",
    "\n",
    "\n",
    "Size = 10\n",
    "\n",
    "Length = 7\n",
    "\n",
    "$$\n",
    "\\newcommand\\T{\\Rule{0pt}{1em}{.3em}}\n",
    "\\begin{array}{|r|r|r|r|r|r|r|r|r|r|}\n",
    "\\hline \n",
    "8\\T&3\\T&7\\T&12\\T&6\\T&9\\T&10\\T&\\T&\\T&  \\\\\\hline \n",
    "_0\\T&_1\\T&_2\\T&_3\\T&_4\\T&_5\\T&_6\\T&_7\\T&_8\\T&_9  \\\\\\hline \n",
    "\\end{array}\n",
    "$$\n",
    "\n",
    "\n",
    "So length refers to the number of elements we have in the array. And we want to insert a element. We start with index of 0, so the next free index is 7. This is where we need to insert the next element.\n",
    "\n",
    "So what information do we need:\n",
    "1. Index where to insert the element\n",
    "2. The value to insert\n",
    "\n",
    "\n",
    "So we want to insert 15, at index 4.\n",
    "\n",
    "\n",
    "But the value 6 is at index 4. How do we insert 15 there. We need to shift  6,9,10 to right\n",
    "\n",
    "10 will go to index 7\n",
    "$$\n",
    "\\newcommand\\T{\\Rule{0pt}{1em}{.3em}}\n",
    "\\begin{array}{|r|r|r|r|r|r|r|r|r|r|}\n",
    "\\hline \n",
    "8\\T&3\\T&7\\T&12\\T&6\\T&9\\T&\\T&10\\T&\\T&  \\\\\\hline \n",
    "_0\\T&_1\\T&_2\\T&_3\\T&_4\\T&_5\\T&_6\\T&_7\\T&_8\\T&_9  \\\\\\hline \n",
    "\\end{array}\n",
    "$$\n",
    "\n",
    "9 will go to index 6\n",
    "\n",
    "$$\n",
    "\\newcommand\\T{\\Rule{0pt}{1em}{.3em}}\n",
    "\\begin{array}{|r|r|r|r|r|r|r|r|r|r|}\n",
    "\\hline \n",
    "8\\T&3\\T&7\\T&12\\T&6\\T&\\T&9\\T&10\\T&\\T&  \\\\\\hline \n",
    "_0\\T&_1\\T&_2\\T&_3\\T&_4\\T&_5\\T&_6\\T&_7\\T&_8\\T&_9  \\\\\\hline \n",
    "\\end{array}\n",
    "$$\n",
    "\n",
    "\n",
    "6 will go to index 5\n",
    "\n",
    "$$\n",
    "\\newcommand\\T{\\Rule{0pt}{1em}{.3em}}\n",
    "\\begin{array}{|r|r|r|r|r|r|r|r|r|r|}\n",
    "\\hline \n",
    "8\\T&3\\T&7\\T&12\\T&\\T&6\\T&9\\T&10\\T&\\T&  \\\\\\hline \n",
    "_0\\T&_1\\T&_2\\T&_3\\T&_4\\T&_5\\T&_6\\T&_7\\T&_8\\T&_9  \\\\\\hline \n",
    "\\end{array}\n",
    "$$\n",
    "\n",
    "##### How to code:\n",
    "\n",
    "##### Method 1:\n",
    "\n",
    "We need a for loop, with i as the counter.\n",
    "\n",
    "We can set $i = length$-1, So $i$ will be equal to $10$, which is index 6. \n",
    "\n",
    "$$\n",
    "\\newcommand\\T{\\Rule{0pt}{1em}{.3em}}\n",
    "\\begin{array}{|r|r|r|r|r|r|r|r|r|r|}\n",
    "\\hline \n",
    "8\\T&3\\T&7\\T&12\\T&6\\T&9\\T&10\\T&\\T&\\T&  \\\\\\hline \n",
    "_0\\T&_1\\T&_2\\T&_3\\T&_4\\T&_5\\T&_6\\T&_7\\T&_8\\T&_9  \\\\\\hline \n",
    "\\T&\\T&\\T&\\T&\\T&\\T&_i\\T&_{i+1}\\T&\\T&  \\\\\\hline \n",
    "\\end{array}\n",
    "$$\n",
    "\n",
    "And to move $10$ (index $6$) to index $7$, we write $A[i+1] = A[i]$\n",
    "\n",
    "$$\n",
    "\\newcommand\\T{\\Rule{0pt}{1em}{.3em}}\n",
    "\\begin{array}{|r|r|r|r|r|r|r|r|r|r|}\n",
    "\\hline \n",
    "8\\T&3\\T&7\\T&12\\T&6\\T&9\\T&\\T&10\\T&\\T&  \\\\\\hline \n",
    "_0\\T&_1\\T&_2\\T&_3\\T&_4\\T&_5\\T&_6\\T&_7\\T&_8\\T&_9  \\\\\\hline \n",
    "\\T&\\T&\\T&\\T&\\T&\\T&_i\\T&_{i+1}\\T&\\T&  \\\\\\hline \n",
    "\\end{array}\n",
    "$$\n",
    "\n",
    "After all elements (6,9,10) is moved. We need to insert 15 at index 4. And index 4 is open, so we simply do:  $A[index] = 15$\n",
    "\n",
    "And we increase the length: $length++$\n",
    "\n",
    "##### Method 2\n",
    "\n",
    "We need a for loop, with i as the counter.\n",
    "\n",
    "We can set $i = length$, So $i$ will be equal space after $10$, which is index 7. \n",
    "\n",
    "\n",
    "$$\n",
    "\\newcommand\\T{\\Rule{0pt}{1em}{.3em}}\n",
    "\\begin{array}{|r|r|r|r|r|r|r|r|r|r|}\n",
    "\\hline \n",
    "8\\T&3\\T&7\\T&12\\T&6\\T&9\\T&10\\T&\\T&\\T&  \\\\\\hline \n",
    "_0\\T&_1\\T&_2\\T&_3\\T&_4\\T&_5\\T&_6\\T&_7\\T&_8\\T&_9  \\\\\\hline \n",
    "\\T&\\T&\\T&\\T&\\T&\\T&_{i-1}\\T&_i\\T&\\T&  \\\\\\hline \n",
    "\\end{array}\n",
    "$$\n",
    "\n",
    "And to move $10$ (index $6$) to index $7$, we write $A[i] = A[i-1]$\n",
    "\n",
    "$$\n",
    "\\newcommand\\T{\\Rule{0pt}{1em}{.3em}}\n",
    "\\begin{array}{|r|r|r|r|r|r|r|r|r|r|}\n",
    "\\hline \n",
    "8\\T&3\\T&7\\T&12\\T&6\\T&9\\T&\\T&10\\T&\\T&  \\\\\\hline \n",
    "_0\\T&_1\\T&_2\\T&_3\\T&_4\\T&_5\\T&_6\\T&_7\\T&_8\\T&_9  \\\\\\hline \n",
    "\\T&\\T&\\T&\\T&\\T&\\T&_{i-1}\\T&_{i}\\T&\\T&  \\\\\\hline \n",
    "\\end{array}\n",
    "$$\n",
    "\n",
    "\n",
    "After all elements (6,9,10) is moved. We need to insert 15 at index 4. And index 4 is open, so we simply do:  $A[index] = 15$\n",
    "\n",
    "And we increase the length: $length++$\n"
   ]
  },
  {
   "cell_type": "code",
   "execution_count": 5,
   "metadata": {},
   "outputs": [],
   "source": [
    "void Array::Insert(int index, int x){\n",
    "   if  (index>=0 && index<=length){\n",
    "     for(int i=length-1;i>=index;i--)\n",
    "         A[i+1]=A[i];\n",
    "     A[index]=x;\n",
    "     length++;  \n",
    "   }\n",
    "}"
   ]
  },
  {
   "cell_type": "code",
   "execution_count": 6,
   "metadata": {},
   "outputs": [],
   "source": [
    "void Array::Insert2(int index, int x){\n",
    "   if  (index>=0 && index<=length){\n",
    "     for(int i=length;i>=index;i--)\n",
    "         A[i]=A[i-1];\n",
    "     A[index]=x;\n",
    "     length++;  \n",
    "   }\n",
    "}"
   ]
  },
  {
   "cell_type": "code",
   "execution_count": 7,
   "metadata": {},
   "outputs": [],
   "source": [
    "arr.Insert(0,8);\n",
    "arr.Insert(1,3);\n",
    "arr.Insert(2,7);\n",
    "arr.Insert2(3,12);\n",
    "arr.Insert2(4,15);\n",
    "arr.Insert2(5,6);\n",
    "arr.Insert2(6,9);\n"
   ]
  },
  {
   "cell_type": "code",
   "execution_count": 8,
   "metadata": {},
   "outputs": [],
   "source": [
    "arr.Add(10);"
   ]
  },
  {
   "cell_type": "markdown",
   "metadata": {},
   "source": [
    "### Deleting from an array\n",
    "\n",
    "We delete element at an index.\n",
    "\n",
    "We want to delete value at index 3, which is 12.\n",
    "\n",
    "$$\n",
    "\\newcommand\\T{\\Rule{0pt}{1em}{.3em}}\n",
    "\\begin{array}{|r|r|r|r|r|r|r|r|r|r|}\n",
    "\\hline \n",
    "8\\T&3\\T&7\\T&12\\T&15\\T&6\\T&9\\T&10\\T&\\T&  \\\\\\hline \n",
    "_0\\T&_1\\T&_2\\T&_3\\T&_4\\T&_5\\T&_6\\T&_7\\T&_8\\T&_9  \\\\\\hline \n",
    "\\end{array}\n",
    "$$\n",
    "\n",
    "We don't delete an element. We find the index of the element, and shift all elements to left, to fill that space.\n",
    "\n",
    "We need to shift $15,6,9,10$  up one position\n",
    "\n",
    "$$\n",
    "\\newcommand\\T{\\Rule{0pt}{1em}{.3em}}\n",
    "\\begin{array}{|r|r|r|r|r|r|r|r|r|r|}\n",
    "\\hline \n",
    "8\\T&3\\T&7\\T&12\\T&15\\T&6\\T&9\\T&10\\T&\\T&  \\\\\\hline \n",
    "_0\\T&_1\\T&_2\\T&_3\\T&_4\\T&_5\\T&_6\\T&_7\\T&_8\\T&_9  \\\\\\hline \n",
    "\\T&\\T&\\T&_{i}\\T&_{i+1}\\T&\\T&\\T&\\T&\\T&  \\\\\\hline \n",
    "\\end{array}\n",
    "$$\n",
    "\n",
    "\n",
    "And to move $15$ (index $4$) to index $3$, we write $A[i] = A[i+1]$. Set $12$ equal to $15$ \n",
    "\n"
   ]
  },
  {
   "cell_type": "code",
   "execution_count": 9,
   "metadata": {},
   "outputs": [],
   "source": [
    "int Array::Delete(int index){\n",
    "    int x = A[index];\n",
    "    for(int i=index; i<length-1;i++)\n",
    "      A[i]=A[i+1];\n",
    "    length--;      \n",
    "    return x;\n",
    "}"
   ]
  },
  {
   "cell_type": "markdown",
   "metadata": {},
   "source": [
    "### Display contents of an array"
   ]
  },
  {
   "cell_type": "code",
   "execution_count": 10,
   "metadata": {},
   "outputs": [],
   "source": [
    "void Array::Display(){\n",
    "    for(int i=0; i<length;i++)\n",
    "      cout<<A[i]<<\" \";      \n",
    "    cout<<endl;      \n",
    "}"
   ]
  },
  {
   "cell_type": "code",
   "execution_count": 11,
   "metadata": {},
   "outputs": [
    {
     "name": "stdout",
     "output_type": "stream",
     "text": [
      "8 3 7 12 15 6 9 10 \n"
     ]
    }
   ],
   "source": [
    "arr.Display();"
   ]
  },
  {
   "cell_type": "code",
   "execution_count": 12,
   "metadata": {},
   "outputs": [
    {
     "name": "stdout",
     "output_type": "stream",
     "text": [
      "12\n"
     ]
    }
   ],
   "source": [
    "cout<<arr.Delete(3)<<endl;"
   ]
  },
  {
   "cell_type": "code",
   "execution_count": 13,
   "metadata": {},
   "outputs": [
    {
     "name": "stdout",
     "output_type": "stream",
     "text": [
      "8 3 7 15 6 9 10 \n"
     ]
    }
   ],
   "source": [
    "arr.Display();"
   ]
  }
 ],
 "metadata": {
  "kernelspec": {
   "display_name": "C++17",
   "language": "C++17",
   "name": "xcpp17"
  },
  "language_info": {
   "codemirror_mode": "text/x-c++src",
   "file_extension": ".cpp",
   "mimetype": "text/x-c++src",
   "name": "c++",
   "version": "17"
  }
 },
 "nbformat": 4,
 "nbformat_minor": 2
}

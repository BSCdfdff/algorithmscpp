{
 "cells": [
  {
   "cell_type": "markdown",
   "metadata": {},
   "source": [
    "# Sorting Techniques\n",
    "\n",
    "___\n",
    "\n",
    "+ Bubble Sort\n",
    "+ Insertion Sort\n",
    "+ Selection Sort\n",
    "+ Heap Sort\n",
    "+ Merge Sort\n",
    "+ Quick Sort\n",
    "+ Tree Sort\n",
    "+ Shell Sort\n",
    "+ Count Sort\n",
    "+ Bucket/Bin Sort\n",
    "+ Radix Sort\n",
    "\n"
   ]
  },
  {
   "cell_type": "markdown",
   "metadata": {},
   "source": [
    "## Selection Sort Algorithm\n",
    "\n",
    "___\n",
    "\n",
    "$$\n",
    "\\begin{array}{l}\n",
    "_{ } & _{0} & {8}  & _{i} \\\\\n",
    "_{ } & _{1} & {6}  & _{} \\\\ \n",
    "_{ } & _{2} & {3}  & _{} \\\\\n",
    "_{ } & _{3} & {10} & _{} \\\\\n",
    "_{ } & _{4} & {9}  & _{} \\\\\n",
    "_{ } & _{5} & {4}  & _{} \\\\\n",
    "_{ } & _{6} & {12} & _{} \\\\\n",
    "_{ } & _{7} & {5}  & _{} \\\\\n",
    "_{ } & _{8} & {2}  & _{} \\\\\n",
    "_{ } & _{9} & {7}  & _{} \\\\\n",
    "\\end{array}\n",
    "$$\n",
    "\n",
    "\n",
    "\n",
    "```\n",
    "void SelectionSort(int A[], int n)\n",
    "    int x, y, i, k, j;\n",
    "    \n",
    "    for (i = 0, i < n; i++){\n",
    "        x = A[i];\n",
    "        \n",
    "        while (j< n){\n",
    "          y = A[j];  \n",
    "          if (y < x){\n",
    "            k = j\n",
    "          }  \n",
    "          j++;\n",
    "        }\n",
    "        A[i] = y; \n",
    "    }\n",
    "\n",
    "```\n",
    "Lest trace the algorithm\n",
    "\n",
    "1. Here we have n =10.\n",
    "2. And we have position we can to interchange, that will be i. Normally the first position. This is the position where we want to insert the smalest value\n",
    "3. And pointers, k and j:\n",
    "    + where k is used to keep track of the smallest value\n",
    "    + where j is used to loop the array, and find the smallest.\n",
    "4.     \n",
    "\n"
   ]
  },
  {
   "cell_type": "code",
   "execution_count": null,
   "metadata": {},
   "outputs": [],
   "source": []
  },
  {
   "cell_type": "code",
   "execution_count": null,
   "metadata": {},
   "outputs": [],
   "source": []
  },
  {
   "cell_type": "code",
   "execution_count": null,
   "metadata": {},
   "outputs": [],
   "source": [
    "#include <iostream>\n",
    "#include <climits>\n",
    "#include <math.h>\n",
    "#define INSERTION_OPERATOR operator<<\n",
    "#define EXTRACTION_OPERATOR operator>>\n",
    "#define ADDITION_OPERATOR operator+\n",
    "using namespace std;"
   ]
  },
  {
   "cell_type": "code",
   "execution_count": null,
   "metadata": {},
   "outputs": [],
   "source": [
    "void  Swap (int *a, int *b){\n",
    "    int temp;\n",
    "    temp =*a;\n",
    "    *a=*b;\n",
    "    *b=temp;\n",
    "};"
   ]
  },
  {
   "cell_type": "code",
   "execution_count": 3,
   "metadata": {},
   "outputs": [],
   "source": [
    "void SelectionSort(int H[], int n){\n",
    "  int x, y, i, k, j;\n",
    "  int swaps=0;  \n",
    "  int passes=0; \n",
    "  int swap=0;  \n",
    "  \n",
    "  for (i = 0; i < n-1; i++){\n",
    "    x = H[i];\n",
    "    passes++;  \n",
    "    j = i;  \n",
    "    k=j;  \n",
    "    while (j<n){\n",
    "      y = H[j];      \n",
    "      if (y < x){\n",
    "        k =j;\n",
    "        x = H[j];  \n",
    "        swap = 1;  \n",
    "      }    \n",
    "      j++;\n",
    "    }\n",
    "    if  (swap==1) { \n",
    "        Swap (&H[i], &H[k]); \n",
    "        swaps++;\n",
    "        swap=0;\n",
    "    }\n",
    "      \n",
    "  }\n",
    "  cout<<\"Passes: \"<<passes<<\" \"<<endl;\n",
    "  cout<<\"Swaps: \"<<swaps<<\" \"<<endl;\n",
    "}\n"
   ]
  },
  {
   "cell_type": "code",
   "execution_count": 4,
   "metadata": {},
   "outputs": [],
   "source": [
    "void SelectionSort2(int H[], int n){\n",
    "  int x, y, i, k, j;\n",
    "  int swaps=0;  \n",
    "  int passes=0; \n",
    "  int swap=0;  \n",
    "  \n",
    "  for (i = 0; i < n-1; i++){\n",
    "    for (j=k=i; j<n; j++){\n",
    "      if (H[j]< H[k]){\n",
    "        k=j;\n",
    "        swap = 1;  \n",
    "      }    \n",
    "    }\n",
    "    Swap (&H[i], &H[k]); \n",
    "    swaps++ ; \n",
    "  }\n",
    "  cout<<\"Passes: \"<<passes<<\" \"<<endl;\n",
    "  cout<<\"Swaps: \"<<swaps<<\" \"<<endl;\n",
    "}\n"
   ]
  },
  {
   "cell_type": "code",
   "execution_count": 5,
   "metadata": {},
   "outputs": [
    {
     "name": "stdout",
     "output_type": "stream",
     "text": [
      "Passes: 4 \n",
      "Swaps: 3 \n",
      "2 3 5 7 8 \n"
     ]
    }
   ],
   "source": [
    "int A[] = {8,5,7,3,2};\n",
    "int n= 5;\n",
    "    \n",
    "SelectionSort(A,n);\n",
    "\n",
    "for (int i = 0; i<n;i++){\n",
    "    cout<<A[i]<<\" \";\n",
    "}\n",
    "cout<<endl;"
   ]
  },
  {
   "cell_type": "code",
   "execution_count": 6,
   "metadata": {},
   "outputs": [
    {
     "name": "stdout",
     "output_type": "stream",
     "text": [
      "Passes: 6 \n",
      "Swaps: 6 \n",
      "2 25 33 45 67 87 232 \n"
     ]
    }
   ],
   "source": [
    "int B[] = {45,2,67,33,232,25,87};\n",
    "int l= 7;\n",
    "    \n",
    "SelectionSort(B,l);\n",
    "\n",
    "for (int i = 0; i<l;i++){\n",
    "    cout<<B[i]<<\" \";\n",
    "}\n",
    "cout<<endl;"
   ]
  },
  {
   "cell_type": "code",
   "execution_count": 7,
   "metadata": {},
   "outputs": [
    {
     "name": "stdout",
     "output_type": "stream",
     "text": [
      "Passes: 4 \n",
      "Swaps: 3 \n",
      "2 3 5 7 8 \n"
     ]
    }
   ],
   "source": [
    "int C[] = {8,5,7,3,2};\n",
    "int m= 5;\n",
    "    \n",
    "SelectionSort(C,m);\n",
    "\n",
    "for (int i = 0; i<m;i++){\n",
    "    cout<<C[i]<<\" \";\n",
    "}\n",
    "cout<<endl;"
   ]
  },
  {
   "cell_type": "code",
   "execution_count": null,
   "metadata": {},
   "outputs": [],
   "source": []
  },
  {
   "cell_type": "code",
   "execution_count": null,
   "metadata": {},
   "outputs": [],
   "source": []
  },
  {
   "cell_type": "code",
   "execution_count": null,
   "metadata": {},
   "outputs": [],
   "source": []
  }
 ],
 "metadata": {
  "kernelspec": {
   "display_name": "C++17",
   "language": "C++17",
   "name": "xcpp17"
  },
  "language_info": {
   "codemirror_mode": "text/x-c++src",
   "file_extension": ".cpp",
   "mimetype": "text/x-c++src",
   "name": "c++",
   "version": "17"
  }
 },
 "nbformat": 4,
 "nbformat_minor": 2
}

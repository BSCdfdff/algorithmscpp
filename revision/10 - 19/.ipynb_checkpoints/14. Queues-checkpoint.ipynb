{
 "cells": [
  {
   "cell_type": "markdown",
   "metadata": {},
   "source": [
    "# Messing with\n",
    "\n",
    "1. Stack. Main point here is why is it called a STACK: Last in, First Out principle. LIFO. So if we we view it from top; what ever is placed on the top, is removed from top. But how can we use the operations of array or linked list to accommodate this? Weh answerint this we need to know about how these physical data structures operates when 1) Inserting from head/tail/index 2) Then how to bring it back to the correct state: Like when we delete at head from array, we need to shift up all the items. How can we prevent this or can we use a different data structure: Here is essence: We know that it takes constant time to delete a linked list from head, and insert a linked list from head. So lets revisit how stack works: The last one we added (pushed), is the one we need to remove (pop), so why dont we add this item to head and then remove it from head using a LL structure. Perfect.\n",
    "    When we set top it must start at -1 as 0 is the first position.\n",
    "    But nice thing if you use the array, you do need to worry about the index of where you need to insert it. You just insert.\n",
    "    When it will displayed, it will be displayed in reverse\n",
    "    The important point is when you Pop from an array, we pop the last item, still fast.\n",
    "\n",
    "2. When using a list, ad insert and delete from HEAD, as indicated, takes constant time. How dfo we check for empty list. That is when first (or top) pointer node is NULL, then we have a list or stack that is empty. How do we check if a list is full, as it does not have a fixed sixeze. The best way to check is to see the node we tring to insert, does not produce NULL: not that could be error, but that is the best we can do.\n",
    "\n",
    "3. Covering examples of how to use a stack, well covered. (parenthesis matching)\n",
    "4. Covering prefix and postfix conversion. First, use precedence, 1)brackets 2) multiplication/division 3)addition/subtraction. Then when their is same sign, we first do left. Essence, we always write values from left, until we get the precedence sign, then we do prefix and postfix.\n",
    "\n",
    "(Note previous note, have the precedence wrong way round). Also sometimes it better not to add parentheses, to make it less complicated.\n",
    "\n",
    "5. Associativity. Means how (left to right, or left to right) do we parenthesis. That is the direction. Notes are average, but I do now have an intuition for it.\n",
    "\n",
    "6. Converting postfix, 1) First Method 2) Second Method. Notes very clear.\n",
    "\n",
    "    \n"
   ]
  },
  {
   "cell_type": "code",
   "execution_count": 1,
   "metadata": {},
   "outputs": [],
   "source": [
    "#include <iostream>\n",
    "#include <climits>\n",
    "#include <bitset>\n",
    "#include <math.h>\n",
    "#include <string>\n",
    "#define INSERTION_OPERATOR operator>>\n",
    "#define EXTRACTION_OPERATOR operator<<\n",
    "\n",
    "#define ADDITION_OPERATOR operator+\n",
    "#define SUBTRACT_OPERATOR operator-\n",
    "#define nn 8\n",
    "//#define n 16\n",
    "//using namespace std;"
   ]
  },
  {
   "cell_type": "markdown",
   "metadata": {},
   "source": [
    "## Using Array"
   ]
  },
  {
   "cell_type": "code",
   "execution_count": 2,
   "metadata": {},
   "outputs": [],
   "source": [
    "class Stack{\n",
    "private:    \n",
    "    int top;\n",
    "    int size;\n",
    "    int *S;\n",
    "\n",
    "public:\n",
    "    Stack(){\n",
    "        size = 10;\n",
    "        S = new int[size];\n",
    "        top=-1;\n",
    "    }\n",
    "    Stack(int sz){\n",
    "        size = sz;\n",
    "        S = new int[size];\n",
    "        top=-1;\n",
    "    }    \n",
    "    \n",
    "    void Display();\n",
    "    int StackTop();\n",
    "    // int Peek();\n",
    "    void Push(int x);\n",
    "    int Pop();\n",
    "    int IsFull();\n",
    "    int IsEmpty();\n",
    "    \n",
    "        \n",
    "    \n",
    "};\n"
   ]
  },
  {
   "cell_type": "code",
   "execution_count": 3,
   "metadata": {},
   "outputs": [],
   "source": [
    "int Stack::Pop(){\n",
    "    if (IsEmpty())\n",
    "        std::cout<<\"Stack is EMPTY. Cannot remove anything\"<<std::endl;\n",
    "    else\n",
    "        top--;\n",
    "    return 1;\n",
    "    \n",
    "}"
   ]
  },
  {
   "cell_type": "code",
   "execution_count": 4,
   "metadata": {},
   "outputs": [],
   "source": [
    "int Stack::IsEmpty(){\n",
    "    if (top == -1)\n",
    "        return 1;\n",
    "    return 0;\n",
    "    \n",
    "}"
   ]
  },
  {
   "cell_type": "code",
   "execution_count": 5,
   "metadata": {},
   "outputs": [],
   "source": [
    "int Stack::StackTop(){\n",
    "    if (!IsEmpty())\n",
    "        return top;\n",
    "    return -1;\n",
    "    \n",
    "}"
   ]
  },
  {
   "cell_type": "code",
   "execution_count": 6,
   "metadata": {},
   "outputs": [],
   "source": [
    "int Stack::IsFull(){\n",
    "    if (top==size-1)\n",
    "        return 1;\n",
    "    return 0;\n",
    "}"
   ]
  },
  {
   "cell_type": "code",
   "execution_count": 7,
   "metadata": {},
   "outputs": [],
   "source": [
    "void Stack::Push(int x){\n",
    "    if (IsFull())\n",
    "        std::cout<<\"Stack Overflow\"<<std::endl;\n",
    "    else {\n",
    "       top++;\n",
    "       S[top]=x;     \n",
    "     \n",
    "    }\n",
    "   \n",
    "}"
   ]
  },
  {
   "cell_type": "code",
   "execution_count": 8,
   "metadata": {},
   "outputs": [],
   "source": [
    "void Stack::Display(){\n",
    "    for (int i = top; i >= 0; i--){\n",
    "        std::cout<<S[i]<<\" \";\n",
    "        //cout<<S[i]<<endl;\n",
    "    }\n",
    "    std::cout<<std::endl;\n",
    "}"
   ]
  },
  {
   "cell_type": "code",
   "execution_count": 9,
   "metadata": {},
   "outputs": [
    {
     "name": "stdout",
     "output_type": "stream",
     "text": [
      "11 10 5 4 3 \n"
     ]
    }
   ],
   "source": [
    "int n = 5;\n",
    "Stack s(n);\n",
    "s.Push(3);\n",
    "s.Push(4);\n",
    "s.Push(5);\n",
    "s.Push(10);\n",
    "s.Push(11);\n",
    "\n",
    "s.Display();"
   ]
  },
  {
   "cell_type": "code",
   "execution_count": 10,
   "metadata": {},
   "outputs": [
    {
     "name": "stdout",
     "output_type": "stream",
     "text": [
      "4\n"
     ]
    }
   ],
   "source": [
    "std::cout<<s.StackTop()<<std::endl;"
   ]
  },
  {
   "cell_type": "code",
   "execution_count": 11,
   "metadata": {},
   "outputs": [
    {
     "name": "stdout",
     "output_type": "stream",
     "text": [
      "5 4 3 \n"
     ]
    }
   ],
   "source": [
    "s.Pop();\n",
    "s.Pop();\n",
    "s.Display();"
   ]
  },
  {
   "cell_type": "code",
   "execution_count": null,
   "metadata": {},
   "outputs": [],
   "source": []
  },
  {
   "cell_type": "code",
   "execution_count": null,
   "metadata": {},
   "outputs": [],
   "source": []
  },
  {
   "cell_type": "markdown",
   "metadata": {},
   "source": [
    "## Using a Linked List"
   ]
  },
  {
   "cell_type": "code",
   "execution_count": 12,
   "metadata": {},
   "outputs": [],
   "source": [
    "class Node{\n",
    "public:    \n",
    "    int data;\n",
    "    Node *next;\n",
    "};"
   ]
  },
  {
   "cell_type": "code",
   "execution_count": 13,
   "metadata": {},
   "outputs": [],
   "source": [
    "class Stack2{\n",
    "private:    \n",
    "    Node *first;    \n",
    "public:\n",
    "    Stack2(){\n",
    "        first=NULL;\n",
    "    }\n",
    "     ~Stack2();\n",
    "    void Display();\n",
    "    int Len();\n",
    "    void Push(int x);\n",
    "    int Pop();\n",
    "    int IsFull();\n",
    "    int IsEmpty();\n",
    "    \n",
    "}"
   ]
  },
  {
   "cell_type": "code",
   "execution_count": 14,
   "metadata": {},
   "outputs": [],
   "source": [
    "int Stack2::IsEmpty(){\n",
    "    if (first == NULL)\n",
    "        return 1;\n",
    "    return 0;\n",
    "    \n",
    "}"
   ]
  },
  {
   "cell_type": "code",
   "execution_count": 15,
   "metadata": {},
   "outputs": [],
   "source": [
    "int Stack2::IsFull(){\n",
    "    Node *t =  new Node;\n",
    "    int x = t?0: 1;\n",
    "    delete t;\n",
    "    return x;\n",
    "}"
   ]
  },
  {
   "cell_type": "code",
   "execution_count": 16,
   "metadata": {},
   "outputs": [],
   "source": [
    "void Stack2::Push( int x){\n",
    "    \n",
    "    Node *p=new Node;\n",
    "    p=first;\n",
    "    \n",
    "    if (IsFull())\n",
    "        std::cout<<\"Stack Overflow\"<<std::endl;\n",
    "    else{\n",
    "        Node *t = new Node();\n",
    "        t->data = x;\n",
    "        t->next=first;\n",
    "        first=t;\n",
    "    }    \n",
    "    \n",
    "}"
   ]
  },
  {
   "cell_type": "code",
   "execution_count": 17,
   "metadata": {},
   "outputs": [],
   "source": [
    "int Stack2::Pop(){\n",
    "   Node *p;\n",
    "   int x= -1;\n",
    "   if (!IsEmpty()){\n",
    "       p=first;\n",
    "       first = first->next;\n",
    "       x=p->data;\n",
    "       delete p;\n",
    "   }    \n",
    "   return x;\n",
    "}"
   ]
  },
  {
   "cell_type": "code",
   "execution_count": 18,
   "metadata": {},
   "outputs": [],
   "source": [
    "Stack2::~Stack2(){\n",
    "    \n",
    "    Node *p = new Node();\n",
    "    p=first;\n",
    "\n",
    "    while(first){\n",
    "        std::cout<<\"p->data = \"<<p->data<<std::endl;\n",
    "        first = first->next;\n",
    "        delete p;\n",
    "        p=first;\n",
    "    }\n",
    "}"
   ]
  },
  {
   "cell_type": "code",
   "execution_count": 19,
   "metadata": {},
   "outputs": [],
   "source": [
    "int Stack2::Len(){\n",
    "    Node *p = new Node();\n",
    "    p=first;\n",
    "    int len=0;\n",
    "    while(p){\n",
    "        len++;\n",
    "        p=p->next;\n",
    "    }\n",
    "    \n",
    "    return len;\n",
    "}"
   ]
  },
  {
   "cell_type": "code",
   "execution_count": 20,
   "metadata": {},
   "outputs": [],
   "source": [
    "void Stack2::Display(){\n",
    "    Node *p=new Node();\n",
    "    p=first;\n",
    "    \n",
    "    while(p){\n",
    "        std::cout<<p->data<<\" \";\n",
    "        p=p->next;\n",
    "    }\n",
    "    std::cout<<std::endl;\n",
    "    \n",
    "};"
   ]
  },
  {
   "cell_type": "code",
   "execution_count": 21,
   "metadata": {},
   "outputs": [
    {
     "name": "stdout",
     "output_type": "stream",
     "text": [
      "50 40 30 20 10 \n"
     ]
    }
   ],
   "source": [
    "Stack2 stk;\n",
    "stk.Push(10);\n",
    "stk.Push(20);\n",
    "stk.Push(30);\n",
    "stk.Push(40);\n",
    "stk.Push(50);\n",
    "stk.Display();"
   ]
  },
  {
   "cell_type": "code",
   "execution_count": 22,
   "metadata": {},
   "outputs": [
    {
     "name": "stdout",
     "output_type": "stream",
     "text": [
      "50\n",
      "40\n",
      "30 20 10 \n"
     ]
    }
   ],
   "source": [
    "std::cout<<stk.Pop()<<std::endl;\n",
    "std::cout<<stk.Pop()<<std::endl;\n",
    "stk.Display();"
   ]
  },
  {
   "cell_type": "code",
   "execution_count": 23,
   "metadata": {},
   "outputs": [
    {
     "name": "stdout",
     "output_type": "stream",
     "text": [
      "30\n",
      "20\n",
      "10\n",
      "-1\n",
      "\n"
     ]
    }
   ],
   "source": [
    "std::cout<<stk.Pop()<<std::endl;\n",
    "std::cout<<stk.Pop()<<std::endl;\n",
    "std::cout<<stk.Pop()<<std::endl;\n",
    "std::cout<<stk.Pop()<<std::endl;\n",
    "stk.Display();"
   ]
  }
 ],
 "metadata": {
  "kernelspec": {
   "display_name": "C++17",
   "language": "C++17",
   "name": "xcpp17"
  },
  "language_info": {
   "codemirror_mode": "text/x-c++src",
   "file_extension": ".cpp",
   "mimetype": "text/x-c++src",
   "name": "c++",
   "version": "17"
  }
 },
 "nbformat": 4,
 "nbformat_minor": 2
}

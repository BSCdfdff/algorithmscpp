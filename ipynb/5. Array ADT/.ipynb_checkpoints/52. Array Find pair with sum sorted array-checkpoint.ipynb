{
 "cells": [
  {
   "cell_type": "markdown",
   "metadata": {},
   "source": [
    "# Array ADT\n",
    "\n",
    "+ Finding pair with sum k in sorted array\n"
   ]
  },
  {
   "cell_type": "markdown",
   "metadata": {},
   "source": [
    "## Finding a Pair with sum k in sorted array\n",
    "___\n",
    "\n",
    "Lets call this A\n",
    "\n",
    "\n",
    "$$\n",
    "\\newcommand\\T{\\Rule{0pt}{1em}{.3em}}\n",
    "\\begin{array}{|r|r|r|r|r|r|r|r|r|r|}\n",
    "\\hline \n",
    "1\\T&3\\T&4\\T&5\\T&6\\T&8\\T&9\\T&10\\T&12\\T&14  \\\\\\hline \n",
    "_0\\T&_1\\T&_2\\T&_3\\T&_4\\T&_5\\T&_6\\T&_7\\T&_8\\T&_9 \\\\\\hline \n",
    "\\end{array}\n",
    "$$\n",
    " \n",
    "A list of elements is given so, we need to get two numbers from the list hows sum equal to  a number. That is $a+b = 10$.\n",
    "\n",
    "\n",
    "Again where we stick to one table, we need to use two variables that is $i$ and $j$. Since the array is sorted we can scan the table from either direction, left to right for $i$, and right to left for $j$. Start $i$ with $1$, and $j$ with $14$. Are they equal to $10$. No. Since $15$ is greater, we keep $i$ constant and decrement $j$, which now becomes $12$. Are two values $10$ $(1+12)=13$. No. So $13$ is still greater than $10$, we so decrement $12$ to $10$. Is $10+1 = 11$. No. Still greater than $10$, so we decrement $j$ to $9$. Is $9+1 = 10$. Yes.No we have pair. We increment $i$ to $3$, but ALSO decrement $j$ to $8$. Do we have a pair $3+8=11$.No. But $11$ is still greater than $10$, so we decrement $j$ to $6$. Do we have a pair $3+6=9$. No. But $9$ is less than $10$. NOW, we increment $i$ to $4$.Do we have a pair $4+6$. Yes. Again increment $i$ to $5$, AND decrement $j$ to $5$. But they at same place, and pairing is not possible so stop.\n",
    "\n",
    "Lets start{**TO DO**}\n",
    "$$ \n",
    "\\newcommand\\T{\\Rule{0pt}{1em}{.3em}}\n",
    "\\begin{array}{|r|r|r|r|r|r|r|r|r|r|}\n",
    "\\hline \n",
    "1\\T&3\\T&4\\T&5\\T&6\\T&8\\T&9\\T&10\\T&12\\T&14  \\\\\\hline \n",
    "_0\\T&_1\\T&_2\\T&_3\\T&_4\\T&_5\\T&_6\\T&_7\\T&_8\\T&_9 \\\\\\hline \n",
    "_i\\T&\\T&\\T&\\T&\\T&\\T&\\T&\\T&\\T&_j \\\\\\hline \n",
    "\\end{array} \n",
    "$$\n",
    "\n",
    "\n",
    "\n",
    "Time complexity:\n",
    "\n",
    "\n",
    "$$\\text {O}(n)$$ Linear time.\n",
    "\n"
   ]
  },
  {
   "cell_type": "code",
   "execution_count": null,
   "metadata": {},
   "outputs": [],
   "source": [
    "#include <iostream>\n",
    "#include <climits>\n",
    "#include <math.h>\n",
    "using namespace std;"
   ]
  },
  {
   "cell_type": "code",
   "execution_count": null,
   "metadata": {},
   "outputs": [],
   "source": [
    "class Array{\n",
    "private:\n",
    "    int *A;\n",
    "    int size;\n",
    "    int length;\n",
    "    void Swap (int *x, int *y);\n",
    "    int SumNatNos(int y);\n",
    "    bool FindDiffenceSuccess (int x,int y, int z);\n",
    "public:\n",
    "    Array(){\n",
    "        size=10;\n",
    "        A=new int[10];\n",
    "        length = 0;\n",
    "        \n",
    "    }\n",
    "    Array(int sz){\n",
    "        size=sz;\n",
    "        A=new int[sz];\n",
    "        length = 0;\n",
    "        \n",
    "    }\n",
    "    ~Array(){\n",
    "        delete []A;\n",
    "    }\n",
    "    void Display();\n",
    "    void Insert (int index, int x);\n",
    "    void FindPairwithSumkSorted(int k);\n",
    "}"
   ]
  },
  {
   "cell_type": "code",
   "execution_count": null,
   "metadata": {},
   "outputs": [],
   "source": [
    "int Array::SumNatNos (int y){\n",
    "    return  (y*(1+y))/2;    \n",
    "}\n",
    "\n"
   ]
  },
  {
   "cell_type": "code",
   "execution_count": null,
   "metadata": {},
   "outputs": [],
   "source": [
    "bool Array::FindDiffenceSuccess (int x, int y, int z){\n",
    "    int a=0;\n",
    "    a= x - y;\n",
    "    if (a==z){\n",
    "     return true;    \n",
    "    }\n",
    "    return false; \n",
    "}"
   ]
  },
  {
   "cell_type": "code",
   "execution_count": 5,
   "metadata": {},
   "outputs": [],
   "source": [
    "void Array::Swap (int *x, int *y){\n",
    "    int temp;\n",
    "    temp =*x;\n",
    "    *x=*y;\n",
    "    *y = temp;\n",
    "}"
   ]
  },
  {
   "cell_type": "code",
   "execution_count": 6,
   "metadata": {},
   "outputs": [],
   "source": [
    "void Array::FindPairwithSumkSorted (int k){\n",
    "    int pair = 1;\n",
    "    int i =0;\n",
    "    int j = 0;\n",
    "    \n",
    "    j = length-1;\n",
    "    \n",
    "    \n",
    "    while (i<j)\n",
    "    {   \n",
    "        if ((A[i] + A[j])==k){\n",
    "          cout<<A[i]<< \" + \"<<A[j]<<endl;   \n",
    "          i++;\n",
    "          j--;  \n",
    "        }\n",
    "        else if ((A[i] + A[j])>k)\n",
    "            j--;\n",
    "        else if ((A[i] + A[j])<k)\n",
    "            i++;\n",
    "      \n",
    "    }\n",
    "    //Or using For Loop\n",
    "    //leave interations blank, since you do it in the loop\n",
    "//     for (int i, int j = length; i<j;)\n",
    "     \n",
    "}"
   ]
  },
  {
   "cell_type": "code",
   "execution_count": 8,
   "metadata": {},
   "outputs": [],
   "source": [
    "void Array::Insert(int index, int x){\n",
    "   if  (index>=0 && index<=length){\n",
    "     for(int i=length-1;i>=index;i--)\n",
    "         A[i+1]=A[i];\n",
    "     A[index]=x;\n",
    "     length++;  \n",
    "   }\n",
    "}"
   ]
  },
  {
   "cell_type": "code",
   "execution_count": 9,
   "metadata": {},
   "outputs": [],
   "source": [
    "void Array::Display(){\n",
    "    for(int i=0; i<length;i++)\n",
    "      cout<<A[i]<<\" \";      \n",
    "    cout<<endl;      \n",
    "}"
   ]
  },
  {
   "cell_type": "code",
   "execution_count": 10,
   "metadata": {},
   "outputs": [
    {
     "name": "stdout",
     "output_type": "stream",
     "text": [
      "1 + 9\n",
      "4 + 6\n"
     ]
    }
   ],
   "source": [
    "Array arr(10);\n",
    "arr.Insert(0,1);\n",
    "arr.Insert(1,3);\n",
    "arr.Insert(2,4);\n",
    "arr.Insert(3,5); \n",
    "arr.Insert(4,6);\n",
    "arr.Insert(5,8);\n",
    "arr.Insert(6,9);\n",
    "arr.Insert(7,10);\n",
    "arr.Insert(8,12);\n",
    "arr.Insert(9,14);\n",
    "arr.FindPairwithSumkSorted(10);\n",
    "\n"
   ]
  },
  {
   "cell_type": "code",
   "execution_count": null,
   "metadata": {},
   "outputs": [],
   "source": []
  },
  {
   "cell_type": "code",
   "execution_count": null,
   "metadata": {},
   "outputs": [],
   "source": []
  }
 ],
 "metadata": {
  "kernelspec": {
   "display_name": "C++17",
   "language": "C++17",
   "name": "xcpp17"
  },
  "language_info": {
   "codemirror_mode": "text/x-c++src",
   "file_extension": ".cpp",
   "mimetype": "text/x-c++src",
   "name": "c++",
   "version": "-std=c++17"
  }
 },
 "nbformat": 4,
 "nbformat_minor": 2
}

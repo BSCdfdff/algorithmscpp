{
 "cells": [
  {
   "cell_type": "markdown",
   "metadata": {},
   "source": [
    "# References"
   ]
  },
  {
   "cell_type": "markdown",
   "metadata": {},
   "source": [
    "### Simple intro - MathJax\n",
    "\n",
    "https://math.meta.stackexchange.com/questions/5020/mathjax-basic-tutorial-and-quick-reference\n",
    "\n",
    "Green Check\n",
    "https://chemistry.meta.stackexchange.com/questions/3564/green-checkmark-or-red-x-with-mathjax-mhchem\n",
    "\n",
    "\n",
    "### MathJax Demo\n",
    "\n",
    "https://mathjax.github.io/MathJax-demos-web/\n",
    "\n"
   ]
  },
  {
   "cell_type": "markdown",
   "metadata": {},
   "source": [
    "## ASCII Online Editor\n",
    "\n",
    "### This is good for trees or graps where we use recursive\n",
    "\n",
    "https://textik.com/#71b3fd19c7044843\n",
    "\n",
    "\n",
    "http://stable.ascii-flow.appspot.com/"
   ]
  },
  {
   "cell_type": "markdown",
   "metadata": {},
   "source": [
    "## Diagram\n",
    "\n",
    "http://stable.ascii-flow.appspot.com/#Draw6838245592141368043/2075193926"
   ]
  },
  {
   "cell_type": "markdown",
   "metadata": {},
   "source": [
    "## Wikipedia Ref on Algorithms\n",
    "\n",
    "https://en.wikipedia.org/wiki/List_of_algorithms"
   ]
  },
  {
   "cell_type": "markdown",
   "metadata": {},
   "source": [
    "## How to convert to pdf\n",
    "___\n",
    "\n",
    "**Normal convert**\n",
    "nbconvert --output-dir='./html'  --to html '1. Essential Concepts.ipynb'\n",
    "\n",
    "**In bulk in into HTML folder**\n",
    "\n",
    "jupyter nbconvert *.ipynb --output-dir='./html'  --to html"
   ]
  },
  {
   "cell_type": "code",
   "execution_count": null,
   "metadata": {},
   "outputs": [],
   "source": []
  }
 ],
 "metadata": {
  "kernelspec": {
   "display_name": "C++17",
   "language": "C++17",
   "name": "xcpp17"
  },
  "language_info": {
   "codemirror_mode": "text/x-c++src",
   "file_extension": ".cpp",
   "mimetype": "text/x-c++src",
   "name": "c++",
   "version": "17"
  }
 },
 "nbformat": 4,
 "nbformat_minor": 2
}

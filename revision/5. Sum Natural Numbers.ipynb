{
 "cells": [
  {
   "cell_type": "markdown",
   "metadata": {},
   "source": [
    "# Messing with\n",
    "\n",
    "1. Sum of Natural numbers\n",
    "Essence here, how to solvem, in order:\n",
    "    + Recursion\n",
    "    + Loop\n",
    "    + Formula\n",
    "    \n",
    "Beautiful and MUST be repeated: coming up with formula, then converting it into recurrence relation,\n",
    "\n",
    "E.g sum of natural numbers\"\n",
    "\n",
    "sum = $1+2+3+4+5+7+...$\n",
    "\n",
    "$sum(n) = 1+2+3+4+5+7+...+n$\n",
    "\n",
    "$sum(n) = 1+2+3+4+5+7+...+(n-1)+n$\n",
    "\n",
    "if:\n",
    "\n",
    "$sum(n) = 1+2+3+4+5+7+...+n$\n",
    "\n",
    "then, \n",
    "\n",
    "$1+2+3+4+5+7+...+(n-1)= sum(n-1)$\n",
    "\n",
    "So,\n",
    "\n",
    "$sum(n) = sum(n-1)+n$\n",
    "\n",
    "\n",
    "$$ $$\n",
    "\n",
    "$$ $$\n",
    "\n",
    "\n",
    "## $$\n",
    "sum(n) =\n",
    "\\begin{cases}\n",
    "0  & \\text{where $n = 0$ (Base Condition)} \\\\\n",
    "\\\\ \n",
    " sum(n-1)+n & \\text{where $n > 0$}\n",
    "\\end{cases}\n",
    "$$\n",
    "\n",
    "\n",
    "$$ $$\n",
    "\n",
    "$$ $$\n",
    "\n",
    "```\n",
    "\n",
    "int sum(int n){              \n",
    "    if (n ==0)                \n",
    "       return 0;\n",
    "    else    \n",
    "       return sum(n-1)+n;              \n",
    "    \n",
    "}\n",
    "\n",
    "```\n",
    "\n",
    "Then convert to loop, then formula (FASTEST):\n",
    "\n",
    "\n",
    "## $$n(n+1)\\over 2$$\n",
    "\n",
    "Time is constant\n",
    "\n",
    "## $$O(1)$$\n",
    "\n",
    "\n",
    "## $${5(5+1)\\over 2 }= \\frac{25+5}{2}=\\frac{30}{2}=15$$\n",
    "\n",
    "This is leading us to algorithms...\n",
    "\n",
    "\n",
    "2. Factorial\n",
    "    Same as above, best to be repeated here too elegant.\n",
    "    \n",
    "\n",
    "$n! =  1\\times2\\times3\\times4\\times5\\times....\\times{n}$\n",
    "\n",
    "$5! = 1\\times2\\times3\\times4\\times5=120$\n",
    "\n",
    "$fact(n) = 1\\times2\\times3\\times4\\times5\\times...\\times\\(n-1)×n\\$\n",
    "\n",
    "$fact(n) = fact(n-1)×n$\n",
    "\n",
    "We know\n",
    "\n",
    "$0!=1$\n",
    "\n",
    "$1!=1$\n",
    "\n",
    "**And this is our recursive definition, which we can now convert to recursive function**\n",
    "\n",
    "$$ $$\n",
    "\n",
    "$$ $$\n",
    "\n",
    "\n",
    "## $$\n",
    "fact(n) =\n",
    "\\begin{cases}\n",
    "1  & \\text{where $n = 1$ (Base Condition)} \\\\\n",
    "\\\\ \n",
    "fact(n-1)×n & \\text{where $n > 0$}\n",
    "\\end{cases}\n",
    "$$\n",
    "\n",
    "\n",
    "$$ $$\n",
    "\n",
    "$$ $$\n",
    "\n",
    "Note: There is no formula for factoria;. Can only obtained through recursion or loop.\n",
    "\n",
    "3. Power\n",
    "    Same as above, best to be repeated here too elegant.\n",
    "    \n",
    "    \n",
    "    \n",
    "Exponent $(m)^n$\n",
    "\n",
    "$2^5 = 1\\times2\\times3\\times4\\times5$\n",
    "\n",
    "$m^n = m\\times\\text{m}\\times\\text{m}\\times\\text{m}\\times\\text{m }\\times..\\text{for n times}$\n",
    "\n",
    "$pow(m,n) = (m\\times\\text{m}\\times\\text{m}\\times\\text{m }\\times..\\times\\ $${n-1}$ times)$× m$\n",
    "\n",
    "$pow(m,n) =pow(m, n-1) × m$\n",
    "\n",
    "\n",
    "\n",
    "**And this is our recursive definition, which we can now convert to recursive function**\n",
    "\n",
    "$$ $$\n",
    "\n",
    "$$ $$\n",
    "\n",
    "\n",
    "## $$\n",
    "pow(m,n) =\n",
    "\\begin{cases}\n",
    "1  & \\text{where $n = 0$ (Base Condition)} \\\\\n",
    "\\\\ \n",
    "pow(m,n-1)×m & \\text{where $n > 0$}\n",
    "\\end{cases}\n",
    "$$\n",
    "\n",
    "\n",
    "$$ $$\n",
    "\n",
    "$$ $$\n"
   ]
  },
  {
   "cell_type": "code",
   "execution_count": 1,
   "metadata": {},
   "outputs": [],
   "source": [
    "#include <iostream>\n",
    "#include <climits>\n",
    "#include <math.h>\n",
    "#include <string>\n",
    "#define INSERTION_OPERATOR operator>>\n",
    "#define EXTRACTION_OPERATOR operator<<\n",
    "#define ADDITION_OPERATOR operator+\n",
    "#define SUBTRACT_OPERATOR operator-\n",
    "using namespace std;"
   ]
  },
  {
   "cell_type": "code",
   "execution_count": 2,
   "metadata": {},
   "outputs": [],
   "source": [
    "int sum(int n){              \n",
    "    if (n ==0)                \n",
    "       return 0;\n",
    "    else    \n",
    "       return sum(n-1)+n;              \n",
    "    \n",
    "}"
   ]
  },
  {
   "cell_type": "code",
   "execution_count": 3,
   "metadata": {},
   "outputs": [
    {
     "name": "stdout",
     "output_type": "stream",
     "text": [
      "15\n"
     ]
    }
   ],
   "source": [
    "//1+2+3+4+5=15\n",
    "\n",
    "int x=5;\n",
    "int y; \n",
    "y =sum(x);\n",
    "cout<<y<<endl; "
   ]
  },
  {
   "cell_type": "code",
   "execution_count": 4,
   "metadata": {},
   "outputs": [],
   "source": [
    "//1*2*3*4*5=120\n",
    "int fact(int n){              \n",
    "    if (n ==0)                \n",
    "       return 1;\n",
    "    else    \n",
    "       return fact(n-1)*n;              \n",
    "    \n",
    "}"
   ]
  },
  {
   "cell_type": "code",
   "execution_count": 5,
   "metadata": {},
   "outputs": [
    {
     "name": "stdout",
     "output_type": "stream",
     "text": [
      "120\n"
     ]
    }
   ],
   "source": [
    "x=5;\n",
    "y =fact(x);\n",
    "cout<<y<<endl; "
   ]
  },
  {
   "cell_type": "code",
   "execution_count": 6,
   "metadata": {},
   "outputs": [],
   "source": [
    "int pow(int m, int n){              \n",
    "    if (n ==0)                \n",
    "       return 1;   \n",
    "    return pow(m,n-1)*m;              \n",
    "}"
   ]
  },
  {
   "cell_type": "markdown",
   "metadata": {},
   "source": [
    "## $$\n",
    "2\\times{2}\\times{2}\\times{2}\\times{2}=32\n",
    "$$\n",
    "\n",
    "## $$\n",
    "2^5=32\n",
    "$$"
   ]
  },
  {
   "cell_type": "code",
   "execution_count": 7,
   "metadata": {},
   "outputs": [
    {
     "name": "stdout",
     "output_type": "stream",
     "text": [
      "32\n"
     ]
    }
   ],
   "source": [
    "y=2;\n",
    "x=5; \n",
    "int z=0;\n",
    "z =pow(y,x);\n",
    "cout<<z<<endl; "
   ]
  },
  {
   "cell_type": "code",
   "execution_count": null,
   "metadata": {},
   "outputs": [],
   "source": []
  }
 ],
 "metadata": {
  "kernelspec": {
   "display_name": "C++17",
   "language": "C++17",
   "name": "xcpp17"
  },
  "language_info": {
   "codemirror_mode": "text/x-c++src",
   "file_extension": ".cpp",
   "mimetype": "text/x-c++src",
   "name": "c++",
   "version": "17"
  }
 },
 "nbformat": 4,
 "nbformat_minor": 2
}

{
 "cells": [
  {
   "cell_type": "markdown",
   "metadata": {},
   "source": [
    "# Messing with\n",
    "\n",
    "1. Strings. Specifically char data type. Not covering string class type at all.\n",
    "Main Point here: Chars is represeneted by numbers, and converted to chars. Using a scheme called ASCII Code table.\n",
    "Also when displaying it, you dont have to loop it, its like you outputting a string.\n",
    "2. Getting uppercase. We know Ascii code for ```A is 65```, lowercase for ```a is 97```. So there is difference of 32. \n",
    "3. Other notes is fine...Bur Reversing need some praise: We work with ONE array, and we swap values on fly. Thats great.\n",
    "4. Bitwise comparison.\n",
    "    Main point need to know:\n",
    "        + Bitwise And (&)\n",
    "        + Bitwise Or (|)\n",
    "        + Shifting (<< >>)\n",
    "        + Bitwise Masking (<< and &, only check)\n",
    "        + Bitwise Merging (<< and |, apply table)\n",
    "        + How to work with hashing table.\n",
    "   Only then can you apply bitwise comparison.\n",
    "   When working with hash table for \n",
    "   \n"
   ]
  },
  {
   "cell_type": "code",
   "execution_count": 1,
   "metadata": {},
   "outputs": [],
   "source": [
    "#include <iostream>\n",
    "#include <climits>\n",
    "#include <bitset>\n",
    "#include <math.h>\n",
    "#include <string>\n",
    "#define INSERTION_OPERATOR operator>>\n",
    "#define EXTRACTION_OPERATOR operator<<\n",
    "#define ADDITION_OPERATOR operator+\n",
    "#define SUBTRACT_OPERATOR operator-\n",
    "#define n 8\n",
    "//#define n 16\n",
    "using namespace std;"
   ]
  },
  {
   "cell_type": "markdown",
   "metadata": {},
   "source": [
    "## Just Normal"
   ]
  },
  {
   "cell_type": "code",
   "execution_count": 2,
   "metadata": {},
   "outputs": [],
   "source": [
    "char name[]=\"chesney\";\n",
    "char const *name2=\"conrad\";"
   ]
  },
  {
   "cell_type": "code",
   "execution_count": 3,
   "metadata": {},
   "outputs": [
    {
     "name": "stdout",
     "output_type": "stream",
     "text": [
      "chesney\n"
     ]
    }
   ],
   "source": [
    "cout<<name<<endl;"
   ]
  },
  {
   "cell_type": "code",
   "execution_count": 4,
   "metadata": {},
   "outputs": [
    {
     "name": "stdout",
     "output_type": "stream",
     "text": [
      "conrad\n"
     ]
    }
   ],
   "source": [
    "cout<<name2<<endl;"
   ]
  },
  {
   "cell_type": "code",
   "execution_count": 5,
   "metadata": {},
   "outputs": [
    {
     "name": "stdout",
     "output_type": "stream",
     "text": [
      "Len of name2:6\n"
     ]
    }
   ],
   "source": [
    "int i =0;\n",
    "int j =0;\n",
    "for (;name2[i]!='\\0';i++ ){}\n",
    "\n",
    "cout<<\"Len of name2:\"<<i<<endl;\n",
    "\n",
    "// i =0;\n",
    "// for (;name[i]!='\\0';i++ ){}\n",
    "// cout<<\"Len of name:\"<<i<<endl;"
   ]
  },
  {
   "cell_type": "code",
   "execution_count": 6,
   "metadata": {},
   "outputs": [
    {
     "name": "stdout",
     "output_type": "stream",
     "text": [
      "Uppercase of name:CHESNEY\n"
     ]
    }
   ],
   "source": [
    "i =0;\n",
    "for (;name[i]!='\\0';i++ ){\n",
    "    name[i] = name[i] -32;\n",
    "}\n",
    "cout<<\"Uppercase of name:\"<<name<<endl;"
   ]
  },
  {
   "cell_type": "markdown",
   "metadata": {},
   "source": [
    "## Reverse a string 1\n",
    "\n",
    "___\n",
    "\n",
    "Use another array B"
   ]
  },
  {
   "cell_type": "code",
   "execution_count": 7,
   "metadata": {},
   "outputs": [
    {
     "name": "stdout",
     "output_type": "stream",
     "text": [
      "Len of A:5\n",
      "Bj:6\n",
      "n o h t y p \n",
      "Original A:python\n",
      "Reversed B:nohtyp\n"
     ]
    }
   ],
   "source": [
    "char A[]=\"python\";\n",
    "char B[]=\"\";\n",
    "i=0;\n",
    "j=0;\n",
    "//get end for i\n",
    "for (;A[i]!='\\0';i++ ){}\n",
    "i = i-1;        //TOOK me A few hours without this.\n",
    "cout<<\"Len of A:\"<<i<<endl;\n",
    "for (;j<=i-1,i>=0;i--,j++){\n",
    "    B[j]= A[i];\n",
    "}\n",
    "cout<<\"Bj:\"<<j<<endl;\n",
    "B[j]='\\0';\n",
    "i=0;\n",
    "\n",
    "for (;B[i]!='\\0';i++ ){\n",
    "   cout<<B[i]<<\" \";\n",
    "}\n",
    "cout<<endl;\n",
    "\n",
    "cout<<\"Original A:\"<<A<<endl;    \n",
    "cout<<\"Reversed B:\"<<B<<endl;"
   ]
  },
  {
   "cell_type": "markdown",
   "metadata": {},
   "source": [
    "## Reverse a string 2\n",
    "\n",
    "___\n",
    "\n",
    "Use the same array A, then swap as we go along"
   ]
  },
  {
   "cell_type": "code",
   "execution_count": 8,
   "metadata": {},
   "outputs": [],
   "source": [
    "void swap (char &a, char &b){\n",
    "    char temp;\n",
    "    temp = a;\n",
    "    a = b;\n",
    "    b = temp;\n",
    "        \n",
    "}"
   ]
  },
  {
   "cell_type": "code",
   "execution_count": 9,
   "metadata": {},
   "outputs": [],
   "source": [
    "char* ReverseString(char *A){\n",
    "    cout<<\"Original A:\"<<A<<endl;    \n",
    "   \n",
    "    int i=0;\n",
    "    int j=0;\n",
    "    for (;A[j]!='\\0';j++ ){}\n",
    "    j = j-1;\n",
    "    cout<<\"Len of A:\"<<j<<endl;\n",
    "    for (;i<j;j--,i++)\n",
    "        swap(A[i],A[j]);\n",
    "    \n",
    "    return A;\n",
    "}"
   ]
  },
  {
   "cell_type": "code",
   "execution_count": 10,
   "metadata": {},
   "outputs": [
    {
     "name": "stdout",
     "output_type": "stream",
     "text": [
      "Original A:chesneyjohnconrad\n",
      "Len of A:16\n",
      "Len of D:16\n",
      "darnocnhojyensehc\n"
     ]
    }
   ],
   "source": [
    "char C[]=\"chesneyjohnconrad\";\n",
    "char *D=ReverseString(C);\n",
    "\n",
    "int k=0;\n",
    "for (;D[k]!='\\0';k++ ){}\n",
    "k = k-1;\n",
    "cout<<\"Len of D:\"<<k<<endl;\n",
    "\n",
    "cout<<D<<endl;"
   ]
  },
  {
   "cell_type": "code",
   "execution_count": 11,
   "metadata": {},
   "outputs": [
    {
     "name": "stdout",
     "output_type": "stream",
     "text": [
      "Shift c:2\n",
      "OR c:1\n",
      "AND c:1\n",
      "Shift c:4\n",
      "OR c:3\n",
      "AND c:0\n"
     ]
    },
    {
     "data": {
      "text/plain": [
       "@0x7fd617926b60"
      ]
     },
     "execution_count": 11,
     "metadata": {},
     "output_type": "execute_result"
    }
   ],
   "source": [
    "int a=0;\n",
    "int b=0;\n",
    "int c=0;\n",
    "\n",
    "a=1;\n",
    "b=1;\n",
    "c=a<<b;\n",
    "cout<<\"Shift c:\"<<c<<endl;\n",
    "c=a|b;\n",
    "cout<<\"OR c:\"<<c<<endl;\n",
    "c=a&b;\n",
    "cout<<\"AND c:\"<<c<<endl;\n",
    "\n",
    "\n",
    "\n",
    "a=1;\n",
    "b=2;\n",
    "c=a<<b;\n",
    "cout<<\"Shift c:\"<<c<<endl;\n",
    "c=a|b;\n",
    "cout<<\"OR c:\"<<c<<endl;\n",
    "a=1;\n",
    "b=2;\n",
    "c=a&b;\n",
    "cout<<\"AND c:\"<<c<<endl;\n",
    "\n",
    "\n"
   ]
  },
  {
   "cell_type": "markdown",
   "metadata": {},
   "source": [
    "## Bitwise comparison\n",
    "__"
   ]
  },
  {
   "cell_type": "code",
   "execution_count": 12,
   "metadata": {},
   "outputs": [],
   "source": [
    "void BitwiseComparison(char *A)\n",
    "{\n",
    "   int H=0;\n",
    "    int x=0;\n",
    "    int k=0;\n",
    "    int i = 0;\n",
    "    int temp=0;\n",
    "    int tH=0;\n",
    "\n",
    "\n",
    "    \n",
    "    \n",
    "    \n",
    "    for (;A[i]!='\\0';i++ ){\n",
    "        \n",
    "        k = A[i] - 97;\n",
    "        cout<<A[i]<<\" = \"<<bitset<n>(k)<<endl;\n",
    "        x=1;\n",
    "        x= x<<k;\n",
    "        cout<<\"x = \"<<bitset<n>(x)<<endl;\n",
    "    \n",
    "        if((x & H) > 0){\n",
    "            temp = x & H;\n",
    "              cout<<\"H  = \"<<bitset<n>(H)<<\" & \"<<\"x = \"<<bitset<n>(x)\n",
    "                  <<\" = \"<<bitset<n>(temp)<<\" = \"<<temp\n",
    "                  <<\" (>1) (\"<< A[i]<<\") = \"<<(bool(temp)?\"True\":\"False\")<<endl;\n",
    "        }\n",
    "        else\n",
    "        {\n",
    "            tH=H;\n",
    "            if (H == 0) tH=H;\n",
    "            H=x | H;\n",
    "            cout<<\"H (first save) = \"<<bitset<n>(H)<<\" (\"\n",
    "            <<bitset<n>(x)<<\" | \"<<bitset<n>(tH)<<\")\"<<\" (\"<<H<<\")\"<<endl;\n",
    "        }\n",
    "        \n",
    "    }\n",
    "    \n",
    "    \n",
    "}"
   ]
  },
  {
   "cell_type": "code",
   "execution_count": 13,
   "metadata": {},
   "outputs": [
    {
     "name": "stdout",
     "output_type": "stream",
     "text": [
      "a = 00000000\n",
      "x = 00000001\n",
      "H (first save) = 00000001 (00000001 | 00000000) (1)\n",
      "b = 00000001\n",
      "x = 00000010\n",
      "H (first save) = 00000011 (00000010 | 00000001) (3)\n",
      "c = 00000010\n",
      "x = 00000100\n",
      "H (first save) = 00000111 (00000100 | 00000011) (7)\n",
      "a = 00000000\n",
      "x = 00000001\n",
      "H  = 00000111 & x = 00000001 = 00000001 = 1 (>1) (a) = True\n",
      "c = 00000010\n",
      "x = 00000100\n",
      "H  = 00000111 & x = 00000100 = 00000100 = 4 (>1) (c) = True\n",
      "a = 00000000\n",
      "x = 00000001\n",
      "H  = 00000111 & x = 00000001 = 00000001 = 1 (>1) (a) = True\n",
      "c = 00000010\n",
      "x = 00000100\n",
      "H  = 00000111 & x = 00000100 = 00000100 = 4 (>1) (c) = True\n"
     ]
    }
   ],
   "source": [
    "//char E[]=\"finding\";\n",
    "//char E[]=\"chesneyjohnconrad\";\n",
    "\n",
    "char E[]=\"abcacac\";\n",
    "  \n",
    "BitwiseComparison(E);"
   ]
  },
  {
   "cell_type": "markdown",
   "metadata": {},
   "source": [
    "## Permutation 1\n",
    "\n",
    "____\n",
    "\n"
   ]
  },
  {
   "cell_type": "code",
   "execution_count": 14,
   "metadata": {},
   "outputs": [],
   "source": [
    "void perm1(char S[], int k ){\n",
    "    \n",
    "    static int A[3]={0};\n",
    "    static char Res[3];\n",
    "    //int i;\n",
    "    \n",
    "    if (S[k] =='\\0'){\n",
    "        cout<<Res<<endl;\n",
    "        Res[k]='\\0';\n",
    "    }\n",
    "    else{\n",
    "        for(int i = 0;S[i]!='\\0';i++){\n",
    "            if(A[i]==0){\n",
    "               Res[k]=S[i]; \n",
    "               A[i]=1;\n",
    "               cout<<\"S = \"<<S[i]<<\", i = \"<<i<<\", k = \"<<k<<\", A = \"<<A[i]<<\", Res = \"<<Res[k]<<endl;  \n",
    "               perm1(S,k+1);\n",
    "               A[i]=0;\n",
    "                \n",
    "            }\n",
    "        }\n",
    "    }\n",
    "}"
   ]
  },
  {
   "cell_type": "code",
   "execution_count": 15,
   "metadata": {},
   "outputs": [
    {
     "name": "stdout",
     "output_type": "stream",
     "text": [
      "S = A, i = 0, k = 0, A = 1, Res = A\n",
      "S = B, i = 1, k = 1, A = 1, Res = B\n",
      "S = C, i = 2, k = 2, A = 1, Res = C\n",
      "ABC\n",
      "S = C, i = 2, k = 1, A = 1, Res = C\n",
      "S = B, i = 1, k = 2, A = 1, Res = B\n",
      "ACB\n",
      "S = B, i = 1, k = 0, A = 1, Res = B\n",
      "S = A, i = 0, k = 1, A = 1, Res = A\n",
      "S = C, i = 2, k = 2, A = 1, Res = C\n",
      "BAC\n",
      "S = C, i = 2, k = 1, A = 1, Res = C\n",
      "S = A, i = 0, k = 2, A = 1, Res = A\n",
      "BCA\n",
      "S = C, i = 2, k = 0, A = 1, Res = C\n",
      "S = A, i = 0, k = 1, A = 1, Res = A\n",
      "S = B, i = 1, k = 2, A = 1, Res = B\n",
      "CAB\n",
      "S = B, i = 1, k = 1, A = 1, Res = B\n",
      "S = A, i = 0, k = 2, A = 1, Res = A\n",
      "CBA\n"
     ]
    }
   ],
   "source": [
    "char S[]=\"ABC\";\n",
    "perm1(S,0);"
   ]
  },
  {
   "cell_type": "markdown",
   "metadata": {},
   "source": [
    "## Permutation 2\n",
    "\n",
    "____"
   ]
  },
  {
   "cell_type": "code",
   "execution_count": 16,
   "metadata": {},
   "outputs": [],
   "source": [
    "void perm2(char S[], int l, int h ){\n",
    "     \n",
    "    int i=0;\n",
    "    if (l==h){\n",
    "        cout<<\"S-- = \"<<S[l]<<\", l = \"<<l<<\", h = \"<<h<<\", i = \"<<i<<\" S = \"<<S[i]<<endl; \n",
    "        cout<<S<<endl;\n",
    "    }\n",
    "    else{\n",
    "        for(i = l;i <= h;i++){\n",
    "           swap(S[l],S[i]);\n",
    "           cout<<\"S-0 = \"<<S[l]<<\", l = \"<<l<<\", h = \"<<h<<\", i = \"<<i<<\" S = \"<<S[i]<<endl;  \n",
    "           perm2(S,l+1,h);\n",
    "           swap(S[l],S[i]);\n",
    "           cout<<\"S-1 = \"<<S[l]<<\", l = \"<<l<<\", h = \"<<h<<\", i = \"<<i<<\" S = \"<<S[i]<<endl;  \n",
    "        }\n",
    "    }\n",
    "}"
   ]
  },
  {
   "cell_type": "code",
   "execution_count": 17,
   "metadata": {},
   "outputs": [
    {
     "name": "stdout",
     "output_type": "stream",
     "text": [
      "S-0 = A, l = 0, h = 2, i = 0 S = A\n",
      "S-0 = B, l = 1, h = 2, i = 1 S = B\n",
      "S-- = C, l = 2, h = 2, i = 0 S = A\n",
      "ABC\n",
      "S-1 = B, l = 1, h = 2, i = 1 S = B\n",
      "S-0 = C, l = 1, h = 2, i = 2 S = B\n",
      "S-- = B, l = 2, h = 2, i = 0 S = A\n",
      "ACB\n",
      "S-1 = B, l = 1, h = 2, i = 2 S = C\n",
      "S-1 = A, l = 0, h = 2, i = 0 S = A\n",
      "S-0 = B, l = 0, h = 2, i = 1 S = A\n",
      "S-0 = A, l = 1, h = 2, i = 1 S = A\n",
      "S-- = C, l = 2, h = 2, i = 0 S = B\n",
      "BAC\n",
      "S-1 = A, l = 1, h = 2, i = 1 S = A\n",
      "S-0 = C, l = 1, h = 2, i = 2 S = A\n",
      "S-- = A, l = 2, h = 2, i = 0 S = B\n",
      "BCA\n",
      "S-1 = A, l = 1, h = 2, i = 2 S = C\n",
      "S-1 = A, l = 0, h = 2, i = 1 S = B\n",
      "S-0 = C, l = 0, h = 2, i = 2 S = A\n",
      "S-0 = B, l = 1, h = 2, i = 1 S = B\n",
      "S-- = A, l = 2, h = 2, i = 0 S = C\n",
      "CBA\n",
      "S-1 = B, l = 1, h = 2, i = 1 S = B\n",
      "S-0 = A, l = 1, h = 2, i = 2 S = B\n",
      "S-- = B, l = 2, h = 2, i = 0 S = C\n",
      "CAB\n",
      "S-1 = B, l = 1, h = 2, i = 2 S = A\n",
      "S-1 = A, l = 0, h = 2, i = 2 S = C\n"
     ]
    }
   ],
   "source": [
    "char R[]=\"ABC\";\n",
    "perm2(R,0,2);"
   ]
  },
  {
   "cell_type": "code",
   "execution_count": null,
   "metadata": {},
   "outputs": [],
   "source": []
  }
 ],
 "metadata": {
  "kernelspec": {
   "display_name": "C++17",
   "language": "C++17",
   "name": "xcpp17"
  },
  "language_info": {
   "codemirror_mode": "text/x-c++src",
   "file_extension": ".cpp",
   "mimetype": "text/x-c++src",
   "name": "c++",
   "version": "17"
  }
 },
 "nbformat": 4,
 "nbformat_minor": 2
}

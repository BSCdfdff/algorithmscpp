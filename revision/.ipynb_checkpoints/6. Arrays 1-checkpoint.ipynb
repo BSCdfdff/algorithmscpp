{
 "cells": [
  {
   "cell_type": "markdown",
   "metadata": {},
   "source": [
    "# Messing with\n",
    "\n",
    "1. Arrays. Increasing and Descreasing the size of array; \n"
   ]
  },
  {
   "cell_type": "code",
   "execution_count": null,
   "metadata": {},
   "outputs": [],
   "source": [
    "#include <iostream>\n",
    "#include <climits>\n",
    "#include <math.h>\n",
    "#include <string>\n",
    "#define INSERTION_OPERATOR operator>>\n",
    "#define EXTRACTION_OPERATOR operator<<\n",
    "#define ADDITION_OPERATOR operator+\n",
    "#define SUBTRACT_OPERATOR operator-\n",
    "using namespace std;"
   ]
  },
  {
   "cell_type": "code",
   "execution_count": null,
   "metadata": {},
   "outputs": [],
   "source": [
    "int *p = new int[5];\n",
    "int *q = new int[10];"
   ]
  },
  {
   "cell_type": "code",
   "execution_count": null,
   "metadata": {},
   "outputs": [],
   "source": [
    "int n = 10;\n",
    "for (int i = 0; i < n;i++){\n",
    "    q[i]=0;\n",
    "}\n",
    "n = 10;\n",
    "for (int j = 0; j < n;j++){\n",
    "    cout<<q[j]<<endl;\n",
    "}"
   ]
  },
  {
   "cell_type": "code",
   "execution_count": null,
   "metadata": {},
   "outputs": [],
   "source": [
    "n = 5;\n",
    "for (int i = 0; i < n;i++){\n",
    "    p[i]=(i+1)*3;\n",
    "}"
   ]
  },
  {
   "cell_type": "code",
   "execution_count": null,
   "metadata": {},
   "outputs": [],
   "source": [
    "n = 5;\n",
    "for (int j = 0; j < n;j++){\n",
    "    cout<<p[j]<<endl;\n",
    "}"
   ]
  },
  {
   "cell_type": "code",
   "execution_count": null,
   "metadata": {},
   "outputs": [],
   "source": [
    "n = 5;\n",
    "for (int j = 0; j < n;j++){\n",
    "     q[j]=p[j];\n",
    "}"
   ]
  },
  {
   "cell_type": "code",
   "execution_count": null,
   "metadata": {},
   "outputs": [],
   "source": [
    "n = 5;\n",
    "for (int j = 0; j < n;j++){\n",
    "     cout<<q[j]<<endl;\n",
    "}\n",
    "//delete []p;\n",
    "//q=nullptr;"
   ]
  },
  {
   "cell_type": "code",
   "execution_count": null,
   "metadata": {},
   "outputs": [],
   "source": [
    "p=q;\n"
   ]
  },
  {
   "cell_type": "code",
   "execution_count": null,
   "metadata": {},
   "outputs": [],
   "source": [
    "n = 10;\n",
    "for (int j = 0; j < n;j++){\n",
    "      cout<<p[j]<<endl;\n",
    "}"
   ]
  },
  {
   "cell_type": "code",
   "execution_count": null,
   "metadata": {},
   "outputs": [],
   "source": [
    "delete []q;\n",
    "q=nullptr;\n"
   ]
  },
  {
   "cell_type": "code",
   "execution_count": null,
   "metadata": {},
   "outputs": [],
   "source": [
    "n = 10;\n",
    "for (int j = 0; j < n;j++){\n",
    "      cout<<p[j]<<endl;\n",
    "}"
   ]
  },
  {
   "cell_type": "code",
   "execution_count": null,
   "metadata": {},
   "outputs": [],
   "source": []
  }
 ],
 "metadata": {
  "kernelspec": {
   "display_name": "C++17",
   "language": "C++17",
   "name": "xcpp17"
  },
  "language_info": {
   "codemirror_mode": "text/x-c++src",
   "file_extension": ".cpp",
   "mimetype": "text/x-c++src",
   "name": "c++",
   "version": "17"
  }
 },
 "nbformat": 4,
 "nbformat_minor": 2
}

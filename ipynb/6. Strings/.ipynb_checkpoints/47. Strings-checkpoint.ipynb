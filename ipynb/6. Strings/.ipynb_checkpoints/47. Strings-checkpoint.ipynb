{
 "cells": [
  {
   "cell_type": "markdown",
   "metadata": {},
   "source": [
    "# Strings\n",
    "\n",
    "+ \n",
    "+ \n"
   ]
  },
  {
   "cell_type": "markdown",
   "metadata": {},
   "source": [
    "## Text\n",
    "\n",
    "___\n",
    "\n",
    "text\n",
    "\n",
    "\n",
    "\n"
   ]
  },
  {
   "cell_type": "code",
   "execution_count": null,
   "metadata": {},
   "outputs": [],
   "source": [
    "#include <iostream>\n",
    "#include <climits>\n",
    "#include <math.h>\n",
    "using namespace std;"
   ]
  },
  {
   "cell_type": "code",
   "execution_count": 2,
   "metadata": {},
   "outputs": [],
   "source": [
    "class Array{\n",
    "private:\n",
    "    int *A;\n",
    "    int size;\n",
    "    int length;\n",
    "    void Swap (int *x, int *y);\n",
    "public:\n",
    "    Array(){\n",
    "        size=10;\n",
    "        A=new int[10];\n",
    "        length = 0;\n",
    "        \n",
    "    }\n",
    "    Array(int sz){\n",
    "        size=sz;\n",
    "        A=new int[sz];\n",
    "        length = 0;\n",
    "        \n",
    "    }\n",
    "    ~Array(){\n",
    "        delete []A;\n",
    "    }\n",
    "    void Display();\n",
    "    void Insert (int index, int x);\n",
    "    void Merge(Array arr);\n",
    "  \n",
    "    \n",
    "}"
   ]
  },
  {
   "cell_type": "code",
   "execution_count": 3,
   "metadata": {},
   "outputs": [],
   "source": [
    "void Array::Swap (int *x, int *y){\n",
    "    int temp;\n",
    "    temp =*x;\n",
    "    *x=*y;\n",
    "    *y = temp;\n",
    "}"
   ]
  },
  {
   "cell_type": "code",
   "execution_count": 4,
   "metadata": {},
   "outputs": [],
   "source": [
    "void Array::Merge(Array arrB){\n",
    "    int *C= new int[10];\n",
    "    \n",
    "    int i=0;\n",
    "    int j=0;\n",
    "    int k=0;\n",
    "    \n",
    "    int m = length;\n",
    "    int n = arrB.length;\n",
    "    \n",
    "    while (i<m && j<n){\n",
    "        if (A[i] < arrB.A[j])\n",
    "            C[k++] = A[i++];\n",
    "        else     \n",
    "            C[k++] = arrB.A[j++];\n",
    "    }    \n",
    "    \n",
    "    //Deal for items left over\n",
    "    //i starts where left off above\n",
    "    //global\n",
    "    for(;i<m;i++){\n",
    "        C[k++]=A[i];  \n",
    "    }\n",
    "    \n",
    "    for(;i<n;j++){\n",
    "        C[k++]=arrB.A[j];\n",
    "    }\n",
    "\n",
    "\n",
    "    //Display\n",
    "    for(int i=0; i<10;i++)\n",
    "      cout<<C[i]<<\" \";      \n",
    "    cout<<endl;   \n",
    "}"
   ]
  },
  {
   "cell_type": "code",
   "execution_count": 7,
   "metadata": {},
   "outputs": [],
   "source": [
    "void Array::Insert(int index, int x){\n",
    "   if  (index>=0 && index<=length){\n",
    "     for(int i=length-1;i>=index;i--)\n",
    "         A[i+1]=A[i];\n",
    "     A[index]=x;\n",
    "     length++;  \n",
    "   }\n",
    "}"
   ]
  },
  {
   "cell_type": "code",
   "execution_count": 8,
   "metadata": {},
   "outputs": [],
   "source": [
    "void Array::Display(){\n",
    "    for(int i=0; i<length;i++)\n",
    "      cout<<A[i]<<\" \";      \n",
    "    cout<<endl;      \n",
    "}"
   ]
  },
  {
   "cell_type": "code",
   "execution_count": 9,
   "metadata": {},
   "outputs": [
    {
     "name": "stdout",
     "output_type": "stream",
     "text": [
      "3 8 16 20 25 \n",
      "4 10 12 22 23 \n",
      "3 4 8 10 12 16 20 22 23 25 \n",
      "3 8 16 20 25 \n"
     ]
    }
   ],
   "source": [
    "Array arr(5);\n",
    "arr.Insert(0,3);\n",
    "arr.Insert(1,8);\n",
    "arr.Insert(2,16);\n",
    "arr.Insert(3,20);\n",
    "arr.Insert(4,25);\n",
    "\n",
    "\n",
    "Array arrB(5);\n",
    "arrB.Insert(0,4);\n",
    "arrB.Insert(1,10);\n",
    "arrB.Insert(2,12);\n",
    "arrB.Insert(3,22);\n",
    "arrB.Insert(4,23);\n",
    "\n",
    "\n",
    "arr.Display();\n",
    "arrB.Display();\n",
    "arr.Merge(arrB);\n",
    "arr.Display();"
   ]
  },
  {
   "cell_type": "code",
   "execution_count": null,
   "metadata": {},
   "outputs": [],
   "source": []
  },
  {
   "cell_type": "code",
   "execution_count": null,
   "metadata": {},
   "outputs": [],
   "source": []
  }
 ],
 "metadata": {
  "kernelspec": {
   "display_name": "C++17",
   "language": "C++17",
   "name": "xcpp17"
  },
  "language_info": {
   "codemirror_mode": "text/x-c++src",
   "file_extension": ".cpp",
   "mimetype": "text/x-c++src",
   "name": "c++",
   "version": "-std=c++17"
  }
 },
 "nbformat": 4,
 "nbformat_minor": 2
}

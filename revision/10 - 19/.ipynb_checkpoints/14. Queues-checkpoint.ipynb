{
 "cells": [
  {
   "cell_type": "markdown",
   "metadata": {},
   "source": [
    "# Messing with\n",
    "\n",
    "1. Queues.Here we have a HEAD adn TAIL, We insert at one location and delete from another location. So we need to have a key (pointer) to that door (Front and Rear)\n",
    "    So Simple implememtation for Q, is to use a front and rear pointer, \n"
   ]
  },
  {
   "cell_type": "code",
   "execution_count": 1,
   "metadata": {},
   "outputs": [],
   "source": [
    "#include <iostream>\n",
    "#include <climits>\n",
    "#include <bitset>\n",
    "#include <math.h>\n",
    "#include <string>\n",
    "#define INSERTION_OPERATOR operator>>\n",
    "#define EXTRACTION_OPERATOR operator<<\n",
    "#define ADDITION_OPERATOR operator+\n",
    "#define SUBTRACT_OPERATOR operator-\n",
    "#define nn 8\n",
    "//#define n 16\n",
    "using namespace std;"
   ]
  },
  {
   "cell_type": "markdown",
   "metadata": {},
   "source": [
    "## Using Array - with two pointer (front and rear)"
   ]
  },
  {
   "cell_type": "code",
   "execution_count": 2,
   "metadata": {},
   "outputs": [],
   "source": [
    "class Queue{\n",
    "private:    \n",
    "    int size;\n",
    "    int front;\n",
    "    int rear;\n",
    "    int *Q;\n",
    "public:\n",
    "    Queue(){\n",
    "        size=10;\n",
    "        Q = new int[size];\n",
    "        front = rear = -1;\n",
    "    }\n",
    "    \n",
    "    Queue(int sz){\n",
    "        size=sz;\n",
    "        Q = new int[size];\n",
    "        front = rear = -1;\n",
    "    }\n",
    "    \n",
    "    ~Queue(){\n",
    "        delete []Q;\n",
    "    }\n",
    "    int IsFull();\n",
    "    int IsEmpty();\n",
    "    void EnQueue(int x);\n",
    "    int DeQueue();\n",
    "    void Display();\n",
    "    \n",
    "}"
   ]
  },
  {
   "cell_type": "code",
   "execution_count": 3,
   "metadata": {},
   "outputs": [],
   "source": [
    "int Queue::IsFull(){\n",
    "    if (size==rear-1)\n",
    "        return 1;\n",
    "    return 0;\n",
    "}"
   ]
  },
  {
   "cell_type": "code",
   "execution_count": 4,
   "metadata": {},
   "outputs": [],
   "source": [
    "int Queue::IsEmpty(){\n",
    "    if (front==rear)\n",
    "        return 1;\n",
    "    return 0;\n",
    "}"
   ]
  },
  {
   "cell_type": "code",
   "execution_count": 5,
   "metadata": {},
   "outputs": [],
   "source": [
    "void Queue::EnQueue(int x){\n",
    "    if (IsFull())\n",
    "        cout<<\"Queue is FULL\";\n",
    "    else{\n",
    "      rear++;\n",
    "      Q[rear]=x;\n",
    "    }\n",
    "}"
   ]
  },
  {
   "cell_type": "code",
   "execution_count": 6,
   "metadata": {},
   "outputs": [],
   "source": [
    "int Queue::DeQueue(){\n",
    "    int x = -1;\n",
    "    if (IsEmpty())\n",
    "        cout<<\"Queue is Empty\";\n",
    "    else{\n",
    "      front++;\n",
    "      x=Q[front];\n",
    "    }\n",
    "    return x;\n",
    "}"
   ]
  },
  {
   "cell_type": "code",
   "execution_count": 7,
   "metadata": {},
   "outputs": [],
   "source": [
    "void Queue::Display(){\n",
    "\n",
    "    for (int i = front+1; i <=rear; i++)\n",
    "    {\n",
    "        cout<<Q[i]<< \" \";\n",
    "    }\n",
    "    cout<<endl;\n",
    "    \n",
    "}"
   ]
  },
  {
   "cell_type": "code",
   "execution_count": 8,
   "metadata": {},
   "outputs": [
    {
     "name": "stdout",
     "output_type": "stream",
     "text": [
      "Front = -1\n",
      "3 \n",
      "Front = -1\n",
      "3 4 5 10 11 \n"
     ]
    }
   ],
   "source": [
    "Queue Q(10);\n",
    "Q.EnQueue(3);\n",
    "Q.Display();\n",
    "Q.EnQueue(4);\n",
    "Q.EnQueue(5);\n",
    "Q.EnQueue(10);\n",
    "Q.EnQueue(11);\n",
    "Q.Display();\n"
   ]
  },
  {
   "cell_type": "code",
   "execution_count": 9,
   "metadata": {},
   "outputs": [
    {
     "name": "stdout",
     "output_type": "stream",
     "text": [
      "Front = 0\n",
      "4 5 10 11 \n",
      "Front = 2\n",
      "10 11 \n"
     ]
    }
   ],
   "source": [
    "Q.DeQueue();\n",
    "Q.Display();\n",
    "Q.DeQueue();\n",
    "Q.DeQueue();\n",
    "Q.Display();"
   ]
  },
  {
   "cell_type": "code",
   "execution_count": null,
   "metadata": {},
   "outputs": [],
   "source": []
  }
 ],
 "metadata": {
  "kernelspec": {
   "display_name": "C++17",
   "language": "C++17",
   "name": "xcpp17"
  },
  "language_info": {
   "codemirror_mode": "text/x-c++src",
   "file_extension": ".cpp",
   "mimetype": "text/x-c++src",
   "name": "c++",
   "version": "17"
  }
 },
 "nbformat": 4,
 "nbformat_minor": 2
}

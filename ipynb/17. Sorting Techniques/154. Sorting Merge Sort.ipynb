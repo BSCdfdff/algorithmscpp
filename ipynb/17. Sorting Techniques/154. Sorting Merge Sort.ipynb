{
 "cells": [
  {
   "cell_type": "markdown",
   "metadata": {},
   "source": [
    "# Sorting Techniques\n",
    "\n",
    "___\n",
    "\n",
    "+ Bubble Sort\n",
    "+ Insertion Sort\n",
    "+ Selection Sort\n",
    "+ Heap Sort\n",
    "+ Merge Sort\n",
    "+ Quick Sort\n",
    "+ Tree Sort\n",
    "+ Shell Sort\n",
    "+ Count Sort\n",
    "+ Bucket/Bin Sort\n",
    "+ Radix Sort\n",
    "\n"
   ]
  },
  {
   "cell_type": "markdown",
   "metadata": {},
   "source": [
    "## Merge Sort\n",
    "\n",
    "___\n",
    "\n",
    "\n",
    "\n",
    " \n",
    "\n",
    " "
   ]
  },
  {
   "cell_type": "code",
   "execution_count": null,
   "metadata": {},
   "outputs": [],
   "source": [
    "#include <iostream>\n",
    "#include <climits>\n",
    "#include <math.h>\n",
    "#define INSERTION_OPERATOR operator<<\n",
    "#define EXTRACTION_OPERATOR operator>>\n",
    "#define ADDITION_OPERATOR operator+\n",
    "using namespace std;"
   ]
  },
  {
   "cell_type": "code",
   "execution_count": null,
   "metadata": {},
   "outputs": [],
   "source": [
    "void  Swap (int *a, int *b){\n",
    "    int temp;\n",
    "    temp =*a;\n",
    "    *a=*b;\n",
    "    *b=temp;\n",
    "};"
   ]
  },
  {
   "cell_type": "code",
   "execution_count": null,
   "metadata": {},
   "outputs": [],
   "source": [
    "void SelectionSort(int H[], int n){\n",
    "  int x, y, i, k, j;\n",
    "  int swaps=0;  \n",
    "  int passes=0; \n",
    "  int swap=0;  \n",
    "  \n",
    "  for (i = 0; i < n-1; i++){\n",
    "    x = H[i];\n",
    "    passes++;  \n",
    "    j = i;  \n",
    "    k=j;  \n",
    "    while (j<n){\n",
    "      y = H[j];      \n",
    "      if (y < x){\n",
    "        k =j;\n",
    "        x = H[j];  \n",
    "        swap = 1;  \n",
    "      }    \n",
    "      j++;\n",
    "    }\n",
    "    if  (swap==1) { \n",
    "        Swap (&H[i], &H[k]); \n",
    "        swaps++;\n",
    "        swap=0;\n",
    "    }\n",
    "      \n",
    "  }\n",
    "  cout<<\"Passes: \"<<passes<<\" \"<<endl;\n",
    "  cout<<\"Swaps: \"<<swaps<<\" \"<<endl;\n",
    "}"
   ]
  },
  {
   "cell_type": "code",
   "execution_count": null,
   "metadata": {},
   "outputs": [],
   "source": [
    "int Partition(int A[], int l, int h){\n",
    "  int pivot=A[l];\n",
    "  int i=l, j = h;\n",
    "  int swaps=0;  \n",
    "  int passes=0; \n",
    "  int swap=0;    \n",
    "  \n",
    "  do{\n",
    "  \n",
    "    do {\n",
    "      i++;\n",
    "    }while(A[i]<=pivot);\n",
    "    \n",
    "    do {\n",
    "      j--;\n",
    "    }while(A[j]>pivot);\n",
    "    \n",
    "    if(i < j)\n",
    "        Swap(&A[i], &A[j]);\n",
    "      \n",
    "  }while(i<j);\n",
    "  \n",
    "  Swap(A[l], A[j]);\n",
    "  \n",
    "  return j;\n",
    "\n",
    "}"
   ]
  },
  {
   "cell_type": "code",
   "execution_count": null,
   "metadata": {},
   "outputs": [],
   "source": [
    "int A[] = {8,5,7,3,2,INT_MAX};\n",
    "int n= 5;\n",
    "    \n",
    "SelectionSort(A,n);\n",
    "\n",
    "for (int i = 0; i<n;i++){\n",
    "    cout<<A[i]<<\" \";\n",
    "}\n",
    "cout<<endl;"
   ]
  },
  {
   "cell_type": "code",
   "execution_count": null,
   "metadata": {},
   "outputs": [],
   "source": []
  },
  {
   "cell_type": "code",
   "execution_count": null,
   "metadata": {},
   "outputs": [],
   "source": []
  },
  {
   "cell_type": "code",
   "execution_count": null,
   "metadata": {},
   "outputs": [],
   "source": []
  }
 ],
 "metadata": {
  "kernelspec": {
   "display_name": "C++17",
   "language": "C++17",
   "name": "xcpp17"
  },
  "language_info": {
   "codemirror_mode": "text/x-c++src",
   "file_extension": ".cpp",
   "mimetype": "text/x-c++src",
   "name": "c++",
   "version": "17"
  }
 },
 "nbformat": 4,
 "nbformat_minor": 2
}

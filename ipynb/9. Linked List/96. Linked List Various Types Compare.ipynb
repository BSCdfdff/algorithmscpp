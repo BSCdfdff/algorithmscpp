{
 "cells": [
  {
   "cell_type": "markdown",
   "metadata": {},
   "source": [
    "# Linked List\n",
    "+ Comparison with various types LL\n"
   ]
  },
  {
   "cell_type": "markdown",
   "metadata": {},
   "source": [
    "## Comparison of LL \n",
    "\n",
    "\n",
    "___\n",
    "\n",
    "1. Linear Single\n",
    "2. Circular Single\n",
    "3. Linear Double\n",
    "4. Circular Double\n",
    "\n",
    "Look at the above w.r.t.\n",
    "\n",
    "1. Space\n",
    "2. Insert\n",
    "3. Delete\n",
    "4. Traverse\n",
    "\n",
    "\n",
    "\n",
    "\n"
   ]
  },
  {
   "cell_type": "markdown",
   "metadata": {},
   "source": [
    "## Space\n",
    "\n",
    "\n",
    "__\n",
    "\n",
    "1->2->3->4\n",
    "\n",
    "So we need 4 pointer for 4 values to be stored, that is for Singlar, Linear and Circular. With Double linked, that is doubled, since 8 pointers for 4 values. Thats is here we need 2 pointers for each node.\n",
    "\n",
    "\n",
    "That is Double LL, takes double the space of Single LL, this is for pointers ONLY, data space is equal.\n",
    "\n",
    "\n"
   ]
  },
  {
   "cell_type": "markdown",
   "metadata": {},
   "source": [
    "## Traverse\n",
    "\n",
    "\n",
    "__\n",
    "\n",
    "1->2->3->4\n",
    "\n",
    "\n"
   ]
  }
 ],
 "metadata": {
  "kernelspec": {
   "display_name": "C++17",
   "language": "C++17",
   "name": "xcpp17"
  },
  "language_info": {
   "codemirror_mode": "text/x-c++src",
   "file_extension": ".cpp",
   "mimetype": "text/x-c++src",
   "name": "c++",
   "version": "-std=c++17"
  }
 },
 "nbformat": 4,
 "nbformat_minor": 2
}

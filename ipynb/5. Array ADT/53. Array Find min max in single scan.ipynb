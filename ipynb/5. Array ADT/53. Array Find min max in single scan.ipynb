{
 "cells": [
  {
   "cell_type": "markdown",
   "metadata": {},
   "source": [
    "# Array ADT\n",
    "\n",
    "+ Finding min max in single scan\n"
   ]
  },
  {
   "cell_type": "markdown",
   "metadata": {},
   "source": [
    "## Finding Min/MAx in single scan\n",
    "___\n",
    "\n",
    "Lets call this A\n",
    "\n",
    "\n",
    "$$\n",
    "\\newcommand\\T{\\Rule{0pt}{1em}{.3em}}\n",
    "\\begin{array}{|r|r|r|r|r|r|r|r|r|r|}\n",
    "\\hline \n",
    "5\\T&8\\T&3\\T&9\\T&6\\T&2\\T&10\\T&7\\T&-1\\T&4  \\\\\\hline \n",
    "_0\\T&_1\\T&_2\\T&_3\\T&_4\\T&_5\\T&_6\\T&_7\\T&_8\\T&_9 \\\\\\hline \n",
    "\\end{array}\n",
    "$$\n",
    " \n",
    "\n",
    "So what do we want? We want the maximum element, which is $10$, and we want the minimum element which is $-1$. So take two variables $\\text{min}$ and $\\text{max}$. The first element $5$, we assign it to both. And we use another variable $i$, which we start at $8$. Check, is $8$ less than $\\text{min(5)}$, no. Is it greater than $\\text{max}$, yes. So we update $\\text{max}$ to $8$. Go to next element $3$. Check, is $3$ less than $\\text{min}$. Yes, update $\\text{min}$ to $5$, BUT dont still check $\\text{max}$, move to next element, $9$. So we save one condition. Check, is $9$ less than $\\text{min}$, no. Is $9$ greater than $\\text{max} (8)$, yes. So we update $\\text{max}$ to $9$. Move to next element $6$. So we continue. Where it is neither smaller than $\\text{min}$ or greater than $\\text{max}$, then we move to next element.\n",
    "\n",
    "\n",
    "Lets start{**TO DO**}\n",
    "$$\n",
    "\\newcommand\\T{\\Rule{0pt}{1em}{.3em}}\n",
    "\\begin{array}{|r|r|r|r|r|r|r|r|r|r|}\n",
    "\\hline \n",
    "5\\T&8\\T&3\\T&9\\T&6\\T&2\\T&10\\T&7\\T&-1\\T&4  \\\\\\hline \n",
    "_0\\T&_1\\T&_2\\T&_3\\T&_4\\T&_5\\T&_6\\T&_7\\T&_8\\T&_9 \\\\\\hline \n",
    "\\T&_i\\T&\\T&\\T&\\T&\\T&\\T&\\T&\\T& \\\\\\hline \n",
    "\\end{array}\n",
    "$$\n",
    " \n",
    " \n",
    "Time complexity:\n",
    "\n",
    "\n",
    "$$\\text {O}(n)$$\n",
    "\n"
   ]
  },
  {
   "cell_type": "code",
   "execution_count": 1,
   "metadata": {},
   "outputs": [],
   "source": [
    "#include <iostream>\n",
    "#include <climits>\n",
    "#include <math.h>\n",
    "using namespace std;"
   ]
  },
  {
   "cell_type": "code",
   "execution_count": 2,
   "metadata": {},
   "outputs": [],
   "source": [
    "class Array{\n",
    "private:\n",
    "    int *A;\n",
    "    int size;\n",
    "    int length;\n",
    "    void Swap (int *x, int *y);\n",
    "    int SumNatNos(int y);\n",
    "    bool FindDiffenceSuccess (int x,int y, int z);\n",
    "public:\n",
    "    Array(){\n",
    "        size=10;\n",
    "        A=new int[10];\n",
    "        length = 0;\n",
    "        \n",
    "    }\n",
    "    Array(int sz){\n",
    "        size=sz;\n",
    "        A=new int[sz];\n",
    "        length = 0;\n",
    "        \n",
    "    }\n",
    "    ~Array(){\n",
    "        delete []A;\n",
    "    }\n",
    "    void Display();\n",
    "    void Insert (int index, int x);\n",
    "    void FindMinMaxSingleScan();\n",
    "}"
   ]
  },
  {
   "cell_type": "code",
   "execution_count": 3,
   "metadata": {},
   "outputs": [],
   "source": [
    "int Array::SumNatNos (int y){\n",
    "    return  (y*(1+y))/2;    \n",
    "}\n",
    "\n",
    " "
   ]
  },
  {
   "cell_type": "code",
   "execution_count": 4,
   "metadata": {},
   "outputs": [],
   "source": [
    "bool Array::FindDiffenceSuccess (int x, int y, int z){\n",
    "    int a=0;\n",
    "    a= x - y;\n",
    "    if (a==z){\n",
    "     return true;    \n",
    "    }\n",
    "    return false; \n",
    "}"
   ]
  },
  {
   "cell_type": "code",
   "execution_count": 5,
   "metadata": {},
   "outputs": [],
   "source": [
    "void Array::Swap (int *x, int *y){\n",
    "    int temp;\n",
    "    temp =*x;\n",
    "    *x=*y;\n",
    "    *y = temp;\n",
    "}"
   ]
  },
  {
   "cell_type": "code",
   "execution_count": 6,
   "metadata": {},
   "outputs": [],
   "source": [
    "void Array::FindMinMaxSingleScan (){\n",
    "    int min = A[0];\n",
    "    int max = A[0];\n",
    "    \n",
    "    for (int i=1; i <length; i++)\n",
    "    {   \n",
    "        if (A[i] < min){\n",
    "            min = A[i];\n",
    "        }\n",
    "        else if (A[i] > max){\n",
    "            max = A[i];\n",
    "        }\n",
    "      \n",
    "    }\n",
    "    \n",
    "    cout<<\"Min: \"<<min<<endl;\n",
    "    cout<<\"Max: \"<<max<<endl;\n",
    "     \n",
    "}"
   ]
  },
  {
   "cell_type": "code",
   "execution_count": 7,
   "metadata": {},
   "outputs": [],
   "source": [
    "void Array::Insert(int index, int x){\n",
    "   if  (index>=0 && index<=length){\n",
    "     for(int i=length-1;i>=index;i--)\n",
    "         A[i+1]=A[i];\n",
    "     A[index]=x;\n",
    "     length++;  \n",
    "   }\n",
    "}"
   ]
  },
  {
   "cell_type": "code",
   "execution_count": 8,
   "metadata": {},
   "outputs": [],
   "source": [
    "void Array::Display(){\n",
    "    for(int i=0; i<length;i++)\n",
    "      cout<<A[i]<<\" \";      \n",
    "    cout<<endl;      \n",
    "}"
   ]
  },
  {
   "cell_type": "code",
   "execution_count": 9,
   "metadata": {},
   "outputs": [
    {
     "name": "stdout",
     "output_type": "stream",
     "text": [
      "Min: -1\n",
      "Max: 10\n"
     ]
    }
   ],
   "source": [
    "Array arr(10);\n",
    "arr.Insert(0,5);\n",
    "arr.Insert(1,8);\n",
    "arr.Insert(2,3);\n",
    "arr.Insert(3,9); \n",
    "arr.Insert(4,6);\n",
    "arr.Insert(5,2);\n",
    "arr.Insert(6,10);\n",
    "arr.Insert(7,7);\n",
    "arr.Insert(8,-1);\n",
    "arr.Insert(9,4);\n",
    "arr.FindMinMaxSingleScan();\n",
    "\n"
   ]
  }
 ],
 "metadata": {
  "kernelspec": {
   "display_name": "C++17",
   "language": "C++17",
   "name": "xcpp17"
  },
  "language_info": {
   "codemirror_mode": "text/x-c++src",
   "file_extension": ".cpp",
   "mimetype": "text/x-c++src",
   "name": "c++",
   "version": "-std=c++17"
  }
 },
 "nbformat": 4,
 "nbformat_minor": 2
}

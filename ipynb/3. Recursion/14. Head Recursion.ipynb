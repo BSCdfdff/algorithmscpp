{
 "cells": [
  {
   "cell_type": "markdown",
   "metadata": {},
   "source": [
    "# Head Recursion\n",
    "\n",
    "    \n",
    "\n",
    "\n"
   ]
  },
  {
   "cell_type": "markdown",
   "metadata": {},
   "source": [
    "## Head Recursion\n",
    "\n",
    "\n",
    "Seen before: Where the function calling itself, is the FIRST statement.\n",
    "\n",
    "That is means everything (all statements after the functon call) is performed at RETURNING Time, and nothing happens at CALLING Time.\n",
    "\n",
    "```\n",
    "void fun1(int n){\n",
    "    if (n > 0){\n",
    "        fun1(n-1);            //-------------HEAD\n",
    "        cout<<n<<endl;\n",
    "    }\n",
    "}\n",
    "```\n",
    "\n"
   ]
  },
  {
   "cell_type": "markdown",
   "metadata": {},
   "source": [
    "## Compare Head Recursion with Loop\n",
    "\n",
    "The two can be converted to one another.\n",
    "\n",
    "But lets compare...."
   ]
  },
  {
   "cell_type": "code",
   "execution_count": 1,
   "metadata": {},
   "outputs": [],
   "source": [
    "#include <iostream>\n",
    "#include <climits>\n",
    "#include <math.h>\n",
    "using namespace std;"
   ]
  },
  {
   "cell_type": "code",
   "execution_count": 2,
   "metadata": {},
   "outputs": [],
   "source": [
    "void fun(int n){               //---T(n)\n",
    "    if (n > 0){                //---1\n",
    "        fun(n-1);              //---T(n-1)\n",
    "        cout<<n<<endl;         //---1\n",
    "    }\n",
    "}"
   ]
  },
  {
   "cell_type": "code",
   "execution_count": 3,
   "metadata": {},
   "outputs": [
    {
     "name": "stdout",
     "output_type": "stream",
     "text": [
      "1\n",
      "2\n",
      "3\n"
     ]
    }
   ],
   "source": [
    "int x=3;\n",
    "fun(x);\n"
   ]
  },
  {
   "cell_type": "markdown",
   "metadata": {},
   "source": [
    "## Using For Loop \n",
    "\n",
    "Tail recursion can be easily converted to For loop with vert little effort\n",
    "\n",
    "In fact,such logic is best suited for for loop\n",
    "\n",
    "#### Which more efficient? Time:\n",
    "\n",
    "Both O(n)\n",
    "\n",
    "\n",
    "#### What is best i.t.o space?\n",
    "\n",
    "Recursion - **O**(n)\n",
    "Create 4 activation records in stack \n",
    "Calls itself 4 times\n",
    "\n",
    "Loop - **O**(1)\n",
    "Creates only 1 activation T(1) records in stack\n",
    "Its not calling itself\n",
    "\n",
    "So Loop is more efficient using Loop\n",
    "\n",
    "#### Conclusion\n",
    "If you need to write a tail recursion, it best to convert or to use a loop. Some compiler will see that you using Tail recursion then convert it to a loop.\n",
    "____"
   ]
  },
  {
   "cell_type": "code",
   "execution_count": 4,
   "metadata": {},
   "outputs": [],
   "source": [
    "void funLoop(int n){               //---T(n)\n",
    "  for (int i = 1; i < n+1; i++){   //---1\n",
    "     cout<<i<<endl;                //---1\n",
    "  }\n",
    "}"
   ]
  },
  {
   "cell_type": "code",
   "execution_count": 5,
   "metadata": {},
   "outputs": [
    {
     "name": "stdout",
     "output_type": "stream",
     "text": [
      "1\n",
      "2\n",
      "3\n"
     ]
    }
   ],
   "source": [
    "int x_1=3;\n",
    "funLoop(x_1);"
   ]
  },
  {
   "cell_type": "markdown",
   "metadata": {},
   "source": [
    "### Using While Loop"
   ]
  },
  {
   "cell_type": "code",
   "execution_count": 6,
   "metadata": {},
   "outputs": [],
   "source": [
    "void funWhileLoop(int n){  //---T(n)\n",
    "  int i = 1;                //---1\n",
    "  while (i<= n){           //---1\n",
    "     cout<<i<<endl;         //---1\n",
    "     i++;                //---1\n",
    "  }\n",
    "}"
   ]
  },
  {
   "cell_type": "code",
   "execution_count": 7,
   "metadata": {},
   "outputs": [
    {
     "name": "stdout",
     "output_type": "stream",
     "text": [
      "1\n",
      "2\n",
      "3\n"
     ]
    }
   ],
   "source": [
    "int x_2=3;\n",
    "funWhileLoop(x_2);"
   ]
  },
  {
   "cell_type": "code",
   "execution_count": null,
   "metadata": {},
   "outputs": [],
   "source": []
  }
 ],
 "metadata": {
  "kernelspec": {
   "display_name": "C++17",
   "language": "C++17",
   "name": "xcpp17"
  },
  "language_info": {
   "codemirror_mode": "text/x-c++src",
   "file_extension": ".cpp",
   "mimetype": "text/x-c++src",
   "name": "c++",
   "version": "-std=c++17"
  }
 },
 "nbformat": 4,
 "nbformat_minor": 2
}

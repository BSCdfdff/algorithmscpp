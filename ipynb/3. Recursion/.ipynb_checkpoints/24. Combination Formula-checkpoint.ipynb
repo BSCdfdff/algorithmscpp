{
 "cells": [
  {
   "cell_type": "markdown",
   "metadata": {},
   "source": [
    "# Combination Formula"
   ]
  },
  {
   "cell_type": "markdown",
   "metadata": {},
   "source": [
    "## Combination Formula\n",
    "___\n",
    "\n",
    "Also known as selection formula.\n",
    "\n",
    "That is if a set of objects is given to us, how many ways can we select a sibset of those objects\n",
    "\n",
    "\n",
    "\n",
    "   $$n_{C_r}  =  {  n!\\over {r!(n-r)!}}$$\n",
    "\n",
    "\n",
    "The above formula is used for finding the number of ways to select the subset\n",
    "\n",
    "\n",
    "\n",
    "E.g. we have the following 7 objects:\n",
    "\n",
    "$$\\begin{matrix}A & B & C & D & E & F & G\\end{matrix}$$\n",
    "\n",
    "\n",
    "How many ways can we select any three (3) objects:\n",
    "\n",
    "\n",
    "$$\\begin{matrix}A & B & C \\end{matrix}$$\n",
    "$$\\begin{matrix}A & B & D \\end{matrix}$$\n",
    "$$\\begin{matrix}A & C & B\\end{matrix}$$\n",
    "\n",
    "\n",
    "But last one is incorrect, as its a permutation, i.e. interchanging of position is not allowed.\n",
    "\n",
    "There is another formula called n p (permutation) r, but this is n c (combination) r, i.e. selection/combination formula\n",
    "\n",
    "Lets create a function for ncr:\n",
    " \n",
    "\n",
    "So if n = 5, then r can take up values from 0 - 5, so it can be\n",
    "\n",
    "$$5_{C_r}  =  {  \\begin{matrix}5_{C_0} & 5_{C_1} & 5_{C_2} & 5_{C_3} & 5_{C_4} & 5_{C_5}\\end{matrix}}$$\n",
    "\n",
    "NOTE: first number starts at 0, and last number can be up to n, but not more. \n",
    "\n",
    "So first have a look at simple (formula) function for this\n",
    "\n",
    "\n"
   ]
  },
  {
   "cell_type": "code",
   "execution_count": 1,
   "metadata": {},
   "outputs": [],
   "source": [
    "#include <iostream>\n",
    "#include <climits>\n",
    "#include <math.h>\n",
    "using namespace std;"
   ]
  },
  {
   "cell_type": "markdown",
   "metadata": {},
   "source": [
    "## Using simplex function as per the formula\n",
    "\n",
    "\n",
    "   $$ {  n!\\over {r!(n-r)!}}$$\n",
    "\n",
    "Some basic logic of the function:\n",
    "\n",
    "Take three variable, t1, t2, t3, and set it equal to the three factorial expressions:\n",
    "\n",
    "t1 = fact(n);\n",
    "\n",
    "t2 = fact(r);\n",
    "\n",
    "t3= fact(n-r); \n",
    "\n",
    "and return the formula (t1/(t2*t3);\n",
    "\n",
    "How much time?\n",
    "Fact functions we know take order of n times (x3)\n",
    "\n",
    "others ate simple statements, constant time..\n",
    "\n",
    "So 3n is order of n\n",
    "\n",
    "\n",
    "So time taken is $$\\text O(n) $$\n",
    "\n",
    "\n",
    "Next lets construct a recursive function.\n"
   ]
  },
  {
   "cell_type": "code",
   "execution_count": 2,
   "metadata": {},
   "outputs": [],
   "source": [
    "int C_simple(int n, int r);\n",
    "int fact(int n);"
   ]
  },
  {
   "cell_type": "code",
   "execution_count": 3,
   "metadata": {},
   "outputs": [],
   "source": [
    "int fact(int n){              \n",
    "    if (n ==0)                \n",
    "       return 1;\n",
    "    else    \n",
    "       return fact(n-1)*n;              \n",
    "    \n",
    "}"
   ]
  },
  {
   "cell_type": "code",
   "execution_count": 4,
   "metadata": {},
   "outputs": [],
   "source": [
    "int ncr_simple(int n,int r){    \n",
    "    //int t1, t2, t3;\n",
    "\n",
    "    //t1 = fact(n);\n",
    "    //t2 = fact(r);\n",
    "    //t3 = fact(n-r); \n",
    "    \n",
    "    //return t1/(t2*t3);1\n",
    "    \n",
    "    int num, den;\n",
    "    num = fact(n);\n",
    "    den = fact(r)* fact(n-r);\n",
    "    return num/den;\n",
    "    \n",
    "    \n",
    "}"
   ]
  },
  {
   "cell_type": "code",
   "execution_count": 5,
   "metadata": {},
   "outputs": [],
   "source": [
    "int x20=5,y20=2;\n",
    "int z20=0;\n",
    "z20 =ncr_simple(x20,y20);"
   ]
  },
  {
   "cell_type": "code",
   "execution_count": 6,
   "metadata": {},
   "outputs": [
    {
     "name": "stdout",
     "output_type": "stream",
     "text": [
      "10\n"
     ]
    }
   ],
   "source": [
    "cout<<z20<<endl; "
   ]
  },
  {
   "cell_type": "markdown",
   "metadata": {},
   "source": [
    "## Recursive Function\n",
    "\n",
    "Firstly we need to have a look at Pascals triangle:\n",
    "\n",
    "Pascals triangle show that the value for ncr can be obtained by performing ADDITION recursively\n",
    "\n",
    "How is this possible, lets construct the triangle\n",
    "\n",
    "\n",
    "$$\\begin{matrix}\n",
    "&&&&&1\\\\\n",
    "&&&&1&&1\\\\\n",
    "&&&1&&2&&1\\\\\n",
    "&&1&&3&&3&&1\\\\\n",
    "&1&&4&&6&&4&&1\n",
    "\\end{matrix}$$\n",
    " \n",
    "And how can we relate this to ncr:\n",
    "\n",
    "\n",
    "\n",
    "$$\\begin{matrix}\n",
    "&&&&&{1}_{0_{C_0}}\\\\\n",
    "&&&&{1}_{1_{C_0}}&&{1}_{1_{C_1}}\\\\\n",
    "&&&{1}_{2_{C_0}}&&{2}_{2_{C_1}}&&{1}_{2_{C_2}}\\\\\n",
    "&&{1}_{3_{C_0}}&&{3}_{3_{C_1}}&&{3}_{3_{C_2}}&&{1}_{3_{C_3}}\\\\\n",
    "&{1}_{4_{C_0}}&&{4}_{4_{C_1}}&&{6}_{4_{C_2}}&&{4}_{4_{C_3}}&&{1}_{4_{C_4}}\n",
    "\\end{matrix}$$\n",
    "\n",
    "\n",
    "So from pascals triangle we can find the values for ncr\n",
    "\n",
    "So now from pascals triangle can we get a function for this?\n",
    "\n",
    "E.g. $4_{C_2}$ can be obtained by adding $3_{C_1}$  and $3_{C_2}$ \n",
    "\n",
    "$$4_{C_2} = 3_{C_1}+ 3_{C_2}$$ \n",
    "\n",
    "And how is $3_{C_1}$ obtained by adding, \n",
    "\n",
    "$$3_{C_1} = 2_{C_0}+ 2_{C_1}$$ \n",
    "\n",
    "And how is $3_{C_2}$ obtained by adding,\n",
    "\n",
    "$$3_{C_2} = 2_{C_1}+ 2_{C_2}$$ \n",
    "\n",
    "\n",
    "..etc etc ...etc etc...etc  ....its RECURSIVE\n",
    "\n",
    "If $4_{C_2}$ is ncr, and $n=4$, $r=2$\n",
    "\n",
    "So $3_{C_1}$  = ${n-1}_{C_{r-1}} $\n",
    "\n",
    "and $3_{C_2}$  = ${n-1}_{C_r} $\n",
    "\n",
    "Base on that we can define a recursive function...\n",
    "\n"
   ]
  },
  {
   "cell_type": "code",
   "execution_count": 7,
   "metadata": {},
   "outputs": [],
   "source": [
    "int comRec(int n, int r);"
   ]
  },
  {
   "cell_type": "code",
   "execution_count": 8,
   "metadata": {},
   "outputs": [],
   "source": [
    "int comRec(int n, int r){    \n",
    "    if(r==0 || n==r)\n",
    "        return 1;\n",
    "    return comRec(n-1, r-1) + comRec(n-1,r);\n",
    "\n",
    "}\n",
    "    "
   ]
  },
  {
   "cell_type": "code",
   "execution_count": 9,
   "metadata": {},
   "outputs": [],
   "source": [
    "int x=5,y=2;\n",
    "int z=0;\n",
    "z =comRec(x,y);\n"
   ]
  },
  {
   "cell_type": "code",
   "execution_count": 10,
   "metadata": {},
   "outputs": [
    {
     "name": "stdout",
     "output_type": "stream",
     "text": [
      "10\n"
     ]
    }
   ],
   "source": [
    "cout<<z<<endl; "
   ]
  },
  {
   "cell_type": "code",
   "execution_count": null,
   "metadata": {},
   "outputs": [],
   "source": []
  },
  {
   "cell_type": "code",
   "execution_count": null,
   "metadata": {},
   "outputs": [],
   "source": []
  }
 ],
 "metadata": {
  "kernelspec": {
   "display_name": "C++17",
   "language": "C++17",
   "name": "xcpp17"
  },
  "language_info": {
   "codemirror_mode": "text/x-c++src",
   "file_extension": ".cpp",
   "mimetype": "text/x-c++src",
   "name": "c++",
   "version": "-std=c++17"
  }
 },
 "nbformat": 4,
 "nbformat_minor": 2
}

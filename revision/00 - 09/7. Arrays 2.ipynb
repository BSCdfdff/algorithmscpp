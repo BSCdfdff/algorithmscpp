{
 "cells": [
  {
   "cell_type": "markdown",
   "metadata": {},
   "source": [
    "# Messing with\n",
    "\n",
    "1. Arrays. 2D arrays, Normal, Stack/Heap or Heap.\n"
   ]
  },
  {
   "cell_type": "code",
   "execution_count": 1,
   "metadata": {},
   "outputs": [],
   "source": [
    "#include <iostream>\n",
    "#include <climits>\n",
    "#include <math.h>\n",
    "#include <string>\n",
    "#define INSERTION_OPERATOR operator>>\n",
    "#define EXTRACTION_OPERATOR operator<<\n",
    "#define ADDITION_OPERATOR operator+\n",
    "#define SUBTRACT_OPERATOR operator-\n",
    "using namespace std;"
   ]
  },
  {
   "cell_type": "markdown",
   "metadata": {},
   "source": [
    "## Just Normal"
   ]
  },
  {
   "cell_type": "code",
   "execution_count": 2,
   "metadata": {},
   "outputs": [],
   "source": [
    "int A[3][4]={\n",
    "    {1,2,3,4},\n",
    "    {5,6,7,8},\n",
    "    {9,8,7,6}};"
   ]
  },
  {
   "cell_type": "code",
   "execution_count": 3,
   "metadata": {},
   "outputs": [
    {
     "name": "stdout",
     "output_type": "stream",
     "text": [
      "1 2 3 4 \n",
      "5 6 7 8 \n",
      "9 8 7 6 \n"
     ]
    }
   ],
   "source": [
    "int n = 3, m = 4;\n",
    "    \n",
    "for (int i=0;i < n; i++){\n",
    "    for (int j=0;j < m; j++){\n",
    "        cout<<A[i][j]<<\" \";\n",
    "    }\n",
    "    cout<<endl;\n",
    "}"
   ]
  },
  {
   "cell_type": "markdown",
   "metadata": {},
   "source": [
    "## Pointer  In Stack (And Heap)"
   ]
  },
  {
   "cell_type": "code",
   "execution_count": 4,
   "metadata": {},
   "outputs": [],
   "source": [
    "int *B[3];"
   ]
  },
  {
   "cell_type": "code",
   "execution_count": 5,
   "metadata": {},
   "outputs": [],
   "source": [
    "B[0]=new int[4];\n",
    "B[1]=new int[4];\n",
    "B[2]=new int[4];"
   ]
  },
  {
   "cell_type": "code",
   "execution_count": 6,
   "metadata": {},
   "outputs": [],
   "source": [
    "n = 3, m = 4;\n",
    "for (int i=0;i < n; i++){\n",
    "    for (int j=0;j < m; j++){\n",
    "        B[i][j]=i+j;\n",
    "    }\n",
    "  \n",
    "}"
   ]
  },
  {
   "cell_type": "code",
   "execution_count": 7,
   "metadata": {},
   "outputs": [
    {
     "name": "stdout",
     "output_type": "stream",
     "text": [
      "0 1 2 3 \n",
      "1 2 3 4 \n",
      "2 3 4 5 \n"
     ]
    }
   ],
   "source": [
    "n = 3, m = 4;\n",
    "for (int i=0;i < n; i++){\n",
    "    for (int j=0;j < m; j++){\n",
    "        cout<<B[i][j]<<\" \";\n",
    "    }\n",
    "    cout<<endl;\n",
    "}"
   ]
  },
  {
   "cell_type": "markdown",
   "metadata": {},
   "source": [
    "## Pointer in Heap\n",
    "\n",
    "___\n",
    "\n",
    "Key here is ** double asterisk"
   ]
  },
  {
   "cell_type": "code",
   "execution_count": 8,
   "metadata": {},
   "outputs": [],
   "source": [
    "int **C;"
   ]
  },
  {
   "cell_type": "code",
   "execution_count": 9,
   "metadata": {},
   "outputs": [],
   "source": [
    "//Rows\n",
    "C=new int *[3]; "
   ]
  },
  {
   "cell_type": "code",
   "execution_count": 10,
   "metadata": {},
   "outputs": [],
   "source": [
    "//Columns\n",
    "C[0]=new int[4];\n",
    "C[1]=new int[4];\n",
    "C[2]=new int[4];"
   ]
  },
  {
   "cell_type": "code",
   "execution_count": 11,
   "metadata": {},
   "outputs": [],
   "source": [
    "n = 3, m = 4;\n",
    "for (int i=0;i < n; i++){\n",
    "    for (int j=0;j < m; j++){\n",
    "        C[i][j]=i+j;\n",
    "    }\n",
    "  \n",
    "}"
   ]
  },
  {
   "cell_type": "code",
   "execution_count": 12,
   "metadata": {},
   "outputs": [
    {
     "name": "stdout",
     "output_type": "stream",
     "text": [
      "0 1 2 3 \n",
      "1 2 3 4 \n",
      "2 3 4 5 \n"
     ]
    }
   ],
   "source": [
    "n = 3, m = 4;\n",
    "for (int i=0;i < n; i++){\n",
    "    for (int j=0;j < m; j++){\n",
    "        cout<<C[i][j]<<\" \";\n",
    "    }\n",
    "    cout<<endl;\n",
    "}"
   ]
  },
  {
   "cell_type": "code",
   "execution_count": null,
   "metadata": {},
   "outputs": [],
   "source": []
  }
 ],
 "metadata": {
  "kernelspec": {
   "display_name": "C++17",
   "language": "C++17",
   "name": "xcpp17"
  },
  "language_info": {
   "codemirror_mode": "text/x-c++src",
   "file_extension": ".cpp",
   "mimetype": "text/x-c++src",
   "name": "c++",
   "version": "17"
  }
 },
 "nbformat": 4,
 "nbformat_minor": 2
}

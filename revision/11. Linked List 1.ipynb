{
 "cells": [
  {
   "cell_type": "markdown",
   "metadata": {},
   "source": [
    "# Messing with\n",
    "\n",
    "1. Linked Lists.\n",
    "    Main point point here(given our broad knowledge NOW :-) ) is a bit convaluted: Its uses array to demonstrated how we looop through a linked list in the second constructor (```LinkedList(int A[], int n)```). Lets feslg this function out: We using an array to populate a node, thats the essence. Set the first node (data) (first need to create it) equal to first element of array, and loop the rest of array elements to populate the nodes.Other point a pointer can only be defined in Heap. Also ```*next```, ```*first``` is also arbitrary, as we can use any variable name for this. \n",
    "    Covering  : Insert (Head, and any index position), Delete(Head, Tail, and any position), and Display\n",
    "\n",
    "\n",
    "2. Recursion.\n",
    "    Firstly, declare a global pointer of the class node (```*f```). This will allow us to pass the Node class as a parameter (to recursive function). Then inside ```LinkedList```, you assign ```first``` to ```f```. A better approach is to make ```first``` public. Of make a getter function for ```first```. The Fuction ```GetFirst()```, probably a safer bet.\n",
    "    \n",
    "3. Counting nodes, Max Value using recursion, \n",
    "\n",
    "4. Search (Recursive, Loop, Improved Recursive Search)\n",
    "\n",
    "5. Insert into sorted list, check for sorted list. \n",
    "\n",
    "6. Reversing a list. Main Pointer here: 2 ways. First way: Moving elements. Start off with copying lists to array. Then, since the array is at the end. We start copying, decrementing, back to linked list. Kicker: Copy content of array into list, so set p = first to get to the start. Second Way: \n",
    "\n",
    "    "
   ]
  },
  {
   "cell_type": "code",
   "execution_count": 1,
   "metadata": {},
   "outputs": [],
   "source": [
    "#include <iostream>\n",
    "#include <climits>\n",
    "#include <bitset>\n",
    "#include <math.h>\n",
    "#include <string>\n",
    "#define INSERTION_OPERATOR operator>>\n",
    "#define EXTRACTION_OPERATOR operator<<\n",
    "\n",
    "#define ADDITION_OPERATOR operator+\n",
    "#define SUBTRACT_OPERATOR operator-\n",
    "#define nn 8\n",
    "//#define n 16\n",
    "using namespace std;"
   ]
  },
  {
   "cell_type": "markdown",
   "metadata": {},
   "source": [
    "## Here we go..."
   ]
  },
  {
   "cell_type": "code",
   "execution_count": 2,
   "metadata": {},
   "outputs": [],
   "source": [
    "class Node{\n",
    "public:    \n",
    "    int data;\n",
    "    Node *next;\n",
    "}*f=NULL;"
   ]
  },
  {
   "cell_type": "code",
   "execution_count": 3,
   "metadata": {},
   "outputs": [],
   "source": [
    "class LinkedList{\n",
    "private:\n",
    "    Node *first;\n",
    "public:    \n",
    "    LinkedList(){\n",
    "        //first = NULL;\n",
    "        first = new Node();\n",
    "    }\n",
    "    LinkedList(int A[], int n);\n",
    "    ~LinkedList();\n",
    "    void Display();\n",
    "    int Len();\n",
    "    int Delete(int index);\n",
    "    void Insert(int index, int x);\n",
    "    Node* GetFirst();\n",
    "    void Recurse_Display_Tail(Node *p);\n",
    "    void Recurse_Display_Head(Node *p);\n",
    "    int Recurse_CountNodes_Tail(Node *p);\n",
    "    int Recurse_MaxValueinNode_Tail(Node *p);\n",
    "    int Recurse_SearchKey(Node *p, int key);\n",
    "    int Loop_SearchKey(int key);\n",
    "    Node* Loop_ImprovedSearchKey(Node *p,int key);\n",
    "    void Loop_InsertSortedList(int x);\n",
    "    int Loop_CheckifListSorted();\n",
    "    void Loop_RemoveDuplicatesInSorted();\n",
    "    void Loop_ReversingSortedList_ByElements();\n",
    "    void Loop_ReversingSortedList_ByAddressLinks();\n",
    "    void Recurse_ReversingSortedList_ByAddressLinks(Node *q, Node *p);\n",
    "    \n",
    "    \n",
    "    \n",
    "};"
   ]
  },
  {
   "cell_type": "code",
   "execution_count": 4,
   "metadata": {},
   "outputs": [],
   "source": [
    "void LinkedList::Recurse_ReversingSortedList_ByAddressLinks(Node *q, Node *p){\n",
    "     \n",
    "    if (p==NULL){\n",
    "       first = q; \n",
    "    }else{\n",
    "        //q=p;\n",
    "        //Recurse_ReversingSortedList_ByAddressLinks(q,p->next);\n",
    "        //p->next=q;\n",
    "        Recurse_ReversingSortedList_ByAddressLinks(p,p->next);\n",
    "        p->next=q;\n",
    "    }\n",
    "        \n",
    "   \n",
    "}"
   ]
  },
  {
   "cell_type": "code",
   "execution_count": 5,
   "metadata": {},
   "outputs": [],
   "source": [
    "void LinkedList::Loop_ReversingSortedList_ByAddressLinks(){\n",
    "    Node *p,*r, *q  = new Node();\n",
    "    \n",
    "    r, q=NULL;\n",
    "    p = first;\n",
    "    \n",
    "    \n",
    "    \n",
    "     while(p){\n",
    "         r=q;\n",
    "         q=p;  //first initially\n",
    "         p=p->next; //will go over null\n",
    "         q->next = r; //(link backwards)\n",
    "     }\n",
    "    \n",
    "    first = q;\n",
    "   \n",
    "}"
   ]
  },
  {
   "cell_type": "code",
   "execution_count": 6,
   "metadata": {},
   "outputs": [],
   "source": [
    "void LinkedList::Loop_ReversingSortedList_ByElements(){\n",
    "    Node *p = new Node();\n",
    "    \n",
    "    int *A = new int[Len()];\n",
    "    int i =0;\n",
    "    p = first;\n",
    "    \n",
    "     while(p){\n",
    "         A[i]=p->data;\n",
    "         p=p->next;\n",
    "         i++;\n",
    "     }\n",
    "    \n",
    "    \n",
    "    p=first;\n",
    "    i--;\n",
    "    for(;i>=0;i--){\n",
    "        p->data=A[i];\n",
    "        p=p->next;\n",
    "    }\n",
    " \n",
    "    \n",
    "}"
   ]
  },
  {
   "cell_type": "code",
   "execution_count": 7,
   "metadata": {},
   "outputs": [],
   "source": [
    "void LinkedList::Loop_RemoveDuplicatesInSorted(){\n",
    "    Node  *p, *q = new Node();\n",
    "\n",
    "    q=first;\n",
    "    p=q->next;\n",
    "    int x= -32000;\n",
    "    \n",
    "    while(p){\n",
    "        if (p->data ==q->data)\n",
    "        {\n",
    "            q->next=p->next;\n",
    "            delete p;\n",
    "            p=q->next;\n",
    "        }   \n",
    "        else{ \n",
    "            q=p;\n",
    "            p=p->next;\n",
    "        }\n",
    "    }\n",
    "    \n",
    "}"
   ]
  },
  {
   "cell_type": "code",
   "execution_count": 8,
   "metadata": {},
   "outputs": [],
   "source": [
    "int LinkedList::Loop_CheckifListSorted(){\n",
    "    Node  *p = new Node();\n",
    "    \n",
    "    int x= -32000;\n",
    "    \n",
    "    p=first;\n",
    "    \n",
    "    while(p){\n",
    "        if (p->data < x)\n",
    "            return -1;\n",
    "        x=p->data;\n",
    "        p=p->next;\n",
    "        \n",
    "    }\n",
    "    \n",
    "    return 1;\n",
    "}"
   ]
  },
  {
   "cell_type": "code",
   "execution_count": 9,
   "metadata": {},
   "outputs": [],
   "source": [
    "void LinkedList::Loop_InsertSortedList(int x){\n",
    "    Node  *q, *p, *t = new Node();\n",
    "    \n",
    "    p=first;\n",
    "    q=NULL;\n",
    "    \n",
    "    while(p && p->data < x){\n",
    "        q=p;\n",
    "        p=p->next; // will move it to greater value\n",
    "    }\n",
    "    \n",
    "    t->data = x;\n",
    "    t->next = q->next;\n",
    "    q->next = t;\n",
    "    \n",
    "}"
   ]
  },
  {
   "cell_type": "code",
   "execution_count": 10,
   "metadata": {},
   "outputs": [],
   "source": [
    "Node* LinkedList::Loop_ImprovedSearchKey(Node *p,int key){\n",
    "    Node  *q = new Node();\n",
    "    \n",
    "    while(p){\n",
    "        q=p;\n",
    "        p=p->next;\n",
    "        if (p->data==key){\n",
    "            q->next=p->next;\n",
    "            p->next=first;\n",
    "            first =p;\n",
    "            return p;\n",
    "        }\n",
    "    }\n",
    "    \n",
    "   return NULL;\n",
    "    \n",
    "}"
   ]
  },
  {
   "cell_type": "code",
   "execution_count": 11,
   "metadata": {},
   "outputs": [],
   "source": [
    "int LinkedList::Loop_SearchKey(int key){\n",
    "    \n",
    "    Node *p = new Node();\n",
    "    p=first;\n",
    "    \n",
    "    while(p){\n",
    "        if (p->data==key){\n",
    "            return p->data;\n",
    "        }\n",
    "        p=p->next;\n",
    "    }\n",
    "    return -1;    \n",
    "}"
   ]
  },
  {
   "cell_type": "code",
   "execution_count": 12,
   "metadata": {},
   "outputs": [],
   "source": [
    "int LinkedList::Recurse_SearchKey(Node *p, int key){\n",
    "    \n",
    "    static int x = -1;\n",
    "    \n",
    "    if (p==NULL){\n",
    "        return x;\n",
    "    }        \n",
    "    \n",
    "    if (p->data==key){\n",
    "        return p->data;\n",
    "    }\n",
    "    else{\n",
    "        return Recurse_SearchKey(p->next, key);\n",
    "    }\n",
    "    \n",
    "}"
   ]
  },
  {
   "cell_type": "code",
   "execution_count": 13,
   "metadata": {},
   "outputs": [],
   "source": [
    "int LinkedList::Recurse_MaxValueinNode_Tail(Node *p){\n",
    "    static int x=0, MIN_INT;\n",
    "    \n",
    "    if (p==NULL){\n",
    "        return MIN_INT;\n",
    "    }        \n",
    "    \n",
    "    x=Recurse_MaxValueinNode_Tail(p->next);\n",
    "    \n",
    "    cout<<\"x = \"<<x<<endl;\n",
    "    \n",
    "    return x >p->data?x:p->data;\n",
    "}"
   ]
  },
  {
   "cell_type": "code",
   "execution_count": 14,
   "metadata": {},
   "outputs": [],
   "source": [
    "int LinkedList::Recurse_CountNodes_Tail(Node *p){\n",
    "    static int cnt=0;\n",
    "    if (p != NULL){\n",
    "        \n",
    "        return Recurse_CountNodes_Tail(p->next)+1;\n",
    "    }\n",
    "    \n",
    "    return 0;\n",
    "}"
   ]
  },
  {
   "cell_type": "code",
   "execution_count": 15,
   "metadata": {},
   "outputs": [],
   "source": [
    "Node* LinkedList::GetFirst(){\n",
    "    return first;    \n",
    "}"
   ]
  },
  {
   "cell_type": "code",
   "execution_count": 16,
   "metadata": {},
   "outputs": [],
   "source": [
    "void LinkedList::Recurse_Display_Head(Node *p){\n",
    "    \n",
    "    if (p != NULL){\n",
    "        Recurse_Display_Head(p->next);\n",
    "        cout<<p->data<<endl;\n",
    "    }\n",
    "}"
   ]
  },
  {
   "cell_type": "code",
   "execution_count": 17,
   "metadata": {},
   "outputs": [],
   "source": [
    "void LinkedList::Recurse_Display_Tail(Node *p){\n",
    "    \n",
    "    if (p != NULL){\n",
    "        cout<<p->data<<endl;\n",
    "        Recurse_Display_Tail(p->next);\n",
    "    }\n",
    "}"
   ]
  },
  {
   "cell_type": "code",
   "execution_count": 18,
   "metadata": {},
   "outputs": [],
   "source": [
    "void LinkedList::Insert(int index, int x){\n",
    "    \n",
    "    Node *p=new Node;\n",
    "    p=first;\n",
    "    \n",
    "    if (index==0) {\n",
    "        Node *t = new Node();\n",
    "        t->data = x;\n",
    "        t->next=first;\n",
    "        first=t;\n",
    "    }    \n",
    "    else{\n",
    "        \n",
    "        for (int i=0;i < index; i++){\n",
    "            p=p->next;\n",
    "        }\n",
    "        \n",
    "        Node *t = new Node();\n",
    "        t->data = x;\n",
    "        t->next=p->next;\n",
    "        p->next=t;\n",
    "    }    \n",
    "    \n",
    "}"
   ]
  },
  {
   "cell_type": "code",
   "execution_count": 19,
   "metadata": {},
   "outputs": [],
   "source": [
    "int LinkedList::Delete(int index){\n",
    "    Node *q, *p;\n",
    "    int x= -1;\n",
    "    \n",
    "    if (index < 0){\n",
    "        return -1;\n",
    "    }\n",
    "    \n",
    "    if (index == 0){\n",
    "       p=first;\n",
    "       first = first->next;\n",
    "       x=p->data;\n",
    "       delete p;\n",
    "    }else{\n",
    "       p=first; \n",
    "       \n",
    "        for (int i =0;i < index; i++){\n",
    "            q=p;\n",
    "            p=p->next;\n",
    "        }\n",
    "        \n",
    "        cout<<\"q = \"<<q->data<<endl;\n",
    "        cout<<\"p = \"<<p->data<<endl;\n",
    "        \n",
    "        q->next=p->next;\n",
    "        x=p->data;\n",
    "        delete p;\n",
    "    }\n",
    "    return x;\n",
    "}"
   ]
  },
  {
   "cell_type": "code",
   "execution_count": 20,
   "metadata": {},
   "outputs": [],
   "source": [
    "LinkedList::~LinkedList(){\n",
    "    \n",
    "    Node *p = new Node();\n",
    "    p=first;\n",
    "\n",
    "    while(first){\n",
    "        cout<<\"p->data = \"<<p->data<<endl;\n",
    "        first = first->next;\n",
    "        delete p;\n",
    "        p=first;\n",
    "    }\n",
    "}\n"
   ]
  },
  {
   "cell_type": "code",
   "execution_count": 21,
   "metadata": {},
   "outputs": [],
   "source": [
    "int LinkedList::Len(){\n",
    "    Node *p = new Node();\n",
    "    p=first;\n",
    "    int len=0;\n",
    "    while(p){\n",
    "        len++;\n",
    "        p=p->next;\n",
    "    }\n",
    "    \n",
    "    return len;\n",
    "}"
   ]
  },
  {
   "cell_type": "code",
   "execution_count": 22,
   "metadata": {},
   "outputs": [],
   "source": [
    "LinkedList::LinkedList(int A[], int n){\n",
    "    Node *last, *t;\n",
    "    \n",
    "   \n",
    "    \n",
    "    first = new Node();\n",
    "    last= new Node();\n",
    "    \n",
    "    first->data=A[0];\n",
    "    //f=first;              //To be removed\n",
    "    first->next=NULL;\n",
    "    last = first;\n",
    "    \n",
    "    for (int i = 1; i < n;i++){\n",
    "        \n",
    "        t = new Node();\n",
    "        t->data = A[i];\n",
    "        t->next = NULL;\n",
    "        \n",
    "        last->next=t;\n",
    "        last=t;\n",
    "        \n",
    "    }\n",
    "    \n",
    "};"
   ]
  },
  {
   "cell_type": "code",
   "execution_count": 23,
   "metadata": {},
   "outputs": [],
   "source": [
    "void LinkedList::Display(){\n",
    "    Node *p=new Node();\n",
    "    p=first;\n",
    "    \n",
    "    while(p){\n",
    "        cout<<p->data<<\" \";\n",
    "        p=p->next;\n",
    "    }\n",
    "    cout<<endl;\n",
    "    \n",
    "};"
   ]
  },
  {
   "cell_type": "code",
   "execution_count": 24,
   "metadata": {},
   "outputs": [
    {
     "name": "stdout",
     "output_type": "stream",
     "text": [
      "10\n",
      "0\n"
     ]
    }
   ],
   "source": [
    "Node *p = new Node();\n",
    "p->data=10;\n",
    "p->next = NULL;\n",
    "cout<<p->data<<endl;\n",
    "\n",
    "cout<<p->next<<endl;"
   ]
  },
  {
   "cell_type": "code",
   "execution_count": null,
   "metadata": {},
   "outputs": [],
   "source": []
  },
  {
   "cell_type": "code",
   "execution_count": 25,
   "metadata": {},
   "outputs": [
    {
     "name": "stdout",
     "output_type": "stream",
     "text": [
      "3 4 5 10 11 \n",
      "Moved to HEAD (Search Found Key found) = 0x55ae68b2bb70\n",
      "10 3 4 5 11 \n",
      "p->data = 10\n",
      "p->data = 3\n",
      "p->data = 4\n",
      "p->data = 5\n",
      "p->data = 11\n"
     ]
    }
   ],
   "source": [
    "int B[5]={3,4,5,10,11};\n",
    "int m = 5;\n",
    "LinkedList ll(B,m);\n",
    "ll.Display();\n",
    "cout<<\"Moved to HEAD (Search Found Key found) = \"<<ll.Loop_ImprovedSearchKey(ll.GetFirst(),10)<<endl;\n",
    "ll.Display();\n",
    "ll.~LinkedList(); "
   ]
  },
  {
   "cell_type": "code",
   "execution_count": 26,
   "metadata": {},
   "outputs": [
    {
     "name": "stdout",
     "output_type": "stream",
     "text": [
      "3 4 5 10 11 \n",
      "5\n",
      "q = 5\n",
      "p = 10\n",
      "10\n",
      "3 4 5 11 \n",
      "3 4 5 10 11 \n",
      "1 3 4 5 10 11 \n"
     ]
    }
   ],
   "source": [
    "int A[5]={3,4,5,10,11};\n",
    "int n = 5;\n",
    "LinkedList l(A,n);\n",
    "l.Display();\n",
    "cout<<l.Len()<<endl;\n",
    "cout<<l.Delete(3)<<endl;\n",
    "l.Display();\n",
    "l.Insert(2,10);\n",
    "l.Display();\n",
    "l.Insert(0,1);\n",
    "l.Display();\n",
    "//l.~LinkedList(); //\n"
   ]
  },
  {
   "cell_type": "code",
   "execution_count": 27,
   "metadata": {},
   "outputs": [
    {
     "name": "stdout",
     "output_type": "stream",
     "text": [
      "1\n",
      "3\n",
      "4\n",
      "5\n",
      "10\n",
      "11\n"
     ]
    }
   ],
   "source": [
    "//l.Recurse_Display_Tail(l.first);\n",
    "l.Recurse_Display_Tail(l.GetFirst());"
   ]
  },
  {
   "cell_type": "code",
   "execution_count": 28,
   "metadata": {},
   "outputs": [
    {
     "name": "stdout",
     "output_type": "stream",
     "text": [
      "11\n",
      "10\n",
      "5\n",
      "4\n",
      "3\n",
      "1\n"
     ]
    }
   ],
   "source": [
    "l.Recurse_Display_Head(l.GetFirst());"
   ]
  },
  {
   "cell_type": "code",
   "execution_count": 29,
   "metadata": {},
   "outputs": [
    {
     "name": "stdout",
     "output_type": "stream",
     "text": [
      "Tail Count = 6\n"
     ]
    }
   ],
   "source": [
    "cout<<\"Tail Count = \"<<l.Recurse_CountNodes_Tail(l.GetFirst())<<endl;"
   ]
  },
  {
   "cell_type": "code",
   "execution_count": 30,
   "metadata": {},
   "outputs": [
    {
     "name": "stdout",
     "output_type": "stream",
     "text": [
      "Max Value = x = 0\n",
      "x = 11\n",
      "x = 11\n",
      "x = 11\n",
      "x = 11\n",
      "x = 11\n",
      "11\n"
     ]
    }
   ],
   "source": [
    "cout<<\"Max Value = \"<<l.Recurse_MaxValueinNode_Tail(l.GetFirst())<<endl;"
   ]
  },
  {
   "cell_type": "code",
   "execution_count": 31,
   "metadata": {},
   "outputs": [
    {
     "name": "stdout",
     "output_type": "stream",
     "text": [
      "1 3 4 5 10 11 \n",
      "Search Found Key found = 10\n"
     ]
    }
   ],
   "source": [
    "l.Display();\n",
    "cout<<\"Search Found Key found = \"<<l.Recurse_SearchKey(l.GetFirst(),10)<<endl;"
   ]
  },
  {
   "cell_type": "code",
   "execution_count": 32,
   "metadata": {},
   "outputs": [
    {
     "name": "stdout",
     "output_type": "stream",
     "text": [
      "1 3 4 5 10 11 \n",
      "Search Found Key found = 5\n"
     ]
    }
   ],
   "source": [
    "l.Display();\n",
    "cout<<\"Search Found Key found = \"<<l.Loop_SearchKey(5)<<endl;\n",
    "//l.~LinkedList(); "
   ]
  },
  {
   "cell_type": "code",
   "execution_count": 33,
   "metadata": {},
   "outputs": [
    {
     "name": "stdout",
     "output_type": "stream",
     "text": [
      "1 3 4 5 8 10 11 \n",
      "Sorted (1), Not Sorted (-1) = 1\n"
     ]
    }
   ],
   "source": [
    "l.Loop_InsertSortedList(8);\n",
    "l.Display();\n",
    "cout<<\"Sorted (1), Not Sorted (-1) = \"<<l.Loop_CheckifListSorted()<<endl;"
   ]
  },
  {
   "cell_type": "code",
   "execution_count": 34,
   "metadata": {},
   "outputs": [
    {
     "name": "stdout",
     "output_type": "stream",
     "text": [
      "Sorted (1), Not Sorted (-1) = -1\n",
      "3 4 5 15 11 \n"
     ]
    }
   ],
   "source": [
    "int C[5]={3,4,5,15,11};\n",
    "int j = 5;\n",
    "LinkedList ln(C,j);\n",
    "\n",
    "cout<<\"Sorted (1), Not Sorted (-1) = \"<<ln.Loop_CheckifListSorted()<<endl;\n",
    "ln.Display();"
   ]
  },
  {
   "cell_type": "code",
   "execution_count": 35,
   "metadata": {},
   "outputs": [
    {
     "name": "stdout",
     "output_type": "stream",
     "text": [
      "3 4 5 11 20 \n",
      "p->data = 3\n",
      "p->data = 4\n",
      "p->data = 5\n",
      "p->data = 11\n",
      "p->data = 20\n"
     ]
    }
   ],
   "source": [
    "int D[7]={3,4,5,5,11,20,20};\n",
    "int a = 7;\n",
    "LinkedList lin(D,a);\n",
    "\n",
    "lin.Loop_RemoveDuplicatesInSorted();\n",
    "lin.Display();\n",
    "lin.~LinkedList(); //"
   ]
  },
  {
   "cell_type": "code",
   "execution_count": 36,
   "metadata": {},
   "outputs": [
    {
     "name": "stdout",
     "output_type": "stream",
     "text": [
      "3 4 5 10 11 \n",
      "11 10 5 4 3 \n",
      "p->data = 11\n",
      "p->data = 10\n",
      "p->data = 5\n",
      "p->data = 4\n",
      "p->data = 3\n"
     ]
    }
   ],
   "source": [
    "int bbbb_1 = 5;\n",
    "int EEEE_1[5]={3,4,5,10,11};\n",
    "\n",
    "LinkedList lns_1(EEEE_1,bbbb_1);\n",
    "\n",
    "lns_1.Display();\n",
    "lns_1.Loop_ReversingSortedList_ByElements();\n",
    "lns_1.Display();\n",
    "lns_1.~LinkedList(); "
   ]
  },
  {
   "cell_type": "code",
   "execution_count": 37,
   "metadata": {},
   "outputs": [
    {
     "name": "stdout",
     "output_type": "stream",
     "text": [
      "3 4 5 15 11 \n",
      "11 15 5 4 3 \n"
     ]
    }
   ],
   "source": [
    "ln.Display();\n",
    "ln.Loop_ReversingSortedList_ByAddressLinks();\n",
    "ln.Display();\n"
   ]
  },
  {
   "cell_type": "code",
   "execution_count": 38,
   "metadata": {},
   "outputs": [
    {
     "name": "stdout",
     "output_type": "stream",
     "text": [
      "1 3 4 5 8 10 11 \n",
      "11 10 8 5 4 3 1 \n"
     ]
    }
   ],
   "source": [
    "l.Display();\n",
    "l.Recurse_ReversingSortedList_ByAddressLinks(NULL,l.GetFirst());\n",
    "l.Display();"
   ]
  }
 ],
 "metadata": {
  "kernelspec": {
   "display_name": "C++17",
   "language": "C++17",
   "name": "xcpp17"
  },
  "language_info": {
   "codemirror_mode": "text/x-c++src",
   "file_extension": ".cpp",
   "mimetype": "text/x-c++src",
   "name": "c++",
   "version": "17"
  }
 },
 "nbformat": 4,
 "nbformat_minor": 2
}

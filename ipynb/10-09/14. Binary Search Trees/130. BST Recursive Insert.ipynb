{
 "cells": [
  {
   "cell_type": "markdown",
   "metadata": {},
   "source": [
    "# Binary Search Trees\n",
    "____\n",
    "\n",
    "+ Recursive Insert into BST\n",
    "\n"
   ]
  },
  {
   "cell_type": "markdown",
   "metadata": {},
   "source": [
    "## Recursive Inserting into BST\n",
    "\n",
    "___\n",
    "\n",
    "```\n",
    "\n",
    "                                          root\n",
    "                                   +-----+-----+-----+\n",
    "                                   | 210 |  30 | 230 |\n",
    "                                   +-----+-----+-----+\n",
    "                                           200\n",
    "                                 /                    \\\n",
    "                                /                      \\\n",
    "                               /                        \\\n",
    "                              /                          \\\n",
    "\n",
    "                   +-----+-----+-----+                   +-----+-----+-----+\n",
    "                   | 270 |  20 | 300 |                   | 310 | 40  | 320 |\n",
    "                   +-----+-----+-----+                   +-----+-----+-----+\n",
    "                      /    210 \\                          /       230      \\\n",
    "                     /          \\                        /                  \\\n",
    "                    /            \\                      /                    \\\n",
    "                   /              \\                    /                      \\\n",
    "   +-----+-----+-----+  +-----+-----+-----+      +-----+-----+-----+  +-----+-----+-----+\n",
    "   |  \\  |  10 |  \\  |  |  \\  |  25 |  \\  |      |  \\  |  35 |  \\  |  |  \\  |  50 |  \\  |\n",
    "   +-----+-----+-----+  +-----+-----+-----+      +-----+-----+-----+  +-----+-----+-----+\n",
    "           270                  300                      310                  320\n",
    "\n",
    "\n",
    "```\n",
    "\n",
    "We know the procedure for inseting a key=38 into the above tree.\n",
    "\n",
    "\n",
    "```\n",
    "Node* RInsert(Node *p, int key){\n",
    "  Node *t=NULL;\n",
    " \n",
    "  if (p==NULL){\n",
    "     *t = new Node;\n",
    "     t->data= key;\n",
    "     t->lchild = t->rchild = NULL;  \n",
    "  }\n",
    "\n",
    "  if (p->data < key)\n",
    "      p->lchild= RInsert(p->lchild, key)\n",
    "  else if (p->data > key)\n",
    "      p->rchild= RInsert(p->rchild, key)\n",
    "  }\n",
    "  \n",
    "  return t;\n",
    "\n",
    "}\n",
    "\n",
    "```\n",
    "\n",
    "If we create a BST, we first need to create root,  we get the result of the first insert, then use that value which we can call root.\n",
    "\n",
    "\n",
    "\n"
   ]
  },
  {
   "cell_type": "code",
   "execution_count": 1,
   "metadata": {},
   "outputs": [],
   "source": [
    "#include <iostream>\n",
    "#include <climits>\n",
    "#include <math.h>\n",
    "#define INSERTION_OPERATOR operator<<\n",
    "#define EXTRACTION_OPERATOR operator>> \n",
    "#define ADDITION_OPERATOR operator+\n",
    "using namespace std;"
   ]
  },
  {
   "cell_type": "code",
   "execution_count": 2,
   "metadata": {},
   "outputs": [],
   "source": [
    "class Node{\n",
    "public:\n",
    "    Node *lchild;\n",
    "    int data;\n",
    "    Node *rchild;    \n",
    "}*root=NULL;"
   ]
  },
  {
   "cell_type": "code",
   "execution_count": 3,
   "metadata": {},
   "outputs": [],
   "source": [
    "void Inorder(Node *p){\n",
    "   if(p)\n",
    "   {\n",
    "       Inorder(p->lchild);\n",
    "       cout<<p->data<< \" \";\n",
    "       Inorder(p->rchild);\n",
    "   } \n",
    "}"
   ]
  },
  {
   "cell_type": "code",
   "execution_count": 4,
   "metadata": {},
   "outputs": [],
   "source": [
    "Node* RInsert(Node *p, int key){\n",
    "  Node *t = NULL;\n",
    "\n",
    "  if (p==NULL){\n",
    "     t = new Node;\n",
    "     t->data= key;\n",
    "     t->lchild = t->rchild = NULL;  \n",
    "     return t;\n",
    "  }\n",
    "\n",
    "  if (key< p->data)\n",
    "      p->lchild= RInsert(p->lchild, key);\n",
    "  else if (key > p->data)\n",
    "      p->rchild= RInsert(p->rchild, key);\n",
    "  \n",
    "  return p;\n",
    "\n",
    "}"
   ]
  },
  {
   "cell_type": "code",
   "execution_count": 5,
   "metadata": {},
   "outputs": [
    {
     "name": "stdout",
     "output_type": "stream",
     "text": [
      "3 5 6 8 9 12 15 16 20 "
     ]
    }
   ],
   "source": [
    "//9,15,5,20,16,8,12,3,6\n",
    "root=RInsert (root,9);\n",
    "RInsert (root,15);\n",
    "RInsert (root,5);\n",
    "RInsert (root,20);\n",
    "RInsert (root,16);\n",
    "RInsert (root,8);\n",
    "RInsert (root,12);\n",
    "RInsert (root,3);\n",
    "RInsert (root,6);\n",
    "Inorder(root);"
   ]
  },
  {
   "cell_type": "code",
   "execution_count": null,
   "metadata": {},
   "outputs": [],
   "source": []
  },
  {
   "cell_type": "code",
   "execution_count": null,
   "metadata": {},
   "outputs": [],
   "source": []
  },
  {
   "cell_type": "code",
   "execution_count": null,
   "metadata": {},
   "outputs": [],
   "source": []
  },
  {
   "cell_type": "code",
   "execution_count": null,
   "metadata": {},
   "outputs": [],
   "source": []
  },
  {
   "cell_type": "code",
   "execution_count": null,
   "metadata": {},
   "outputs": [],
   "source": []
  },
  {
   "cell_type": "code",
   "execution_count": null,
   "metadata": {},
   "outputs": [],
   "source": []
  },
  {
   "cell_type": "code",
   "execution_count": null,
   "metadata": {},
   "outputs": [],
   "source": []
  }
 ],
 "metadata": {
  "kernelspec": {
   "display_name": "C++17",
   "language": "C++17",
   "name": "xcpp17"
  },
  "language_info": {
   "codemirror_mode": "text/x-c++src",
   "file_extension": ".cpp",
   "mimetype": "text/x-c++src",
   "name": "c++",
   "version": "17"
  }
 },
 "nbformat": 4,
 "nbformat_minor": 2
}

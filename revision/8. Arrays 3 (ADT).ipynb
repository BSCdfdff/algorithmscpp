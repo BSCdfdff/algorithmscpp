{
 "cells": [
  {
   "cell_type": "markdown",
   "metadata": {},
   "source": [
    "# Messing with\n",
    "\n",
    "1. Arrays. ADT\n",
    "    Miain Idea about Array ADT, is that you define the following:\n",
    "        + Representation of data, in our case Array WITH propertes\n",
    "            + Array\n",
    "            + Size (empty\n",
    "            + Length (REFERS to no populated elements)\n",
    "        + Operation on that data, like\n",
    "            + Display, Create, Add, Insert, Delete, Search, set, Max, Reverse\n",
    "\n",
    "Main Point: Length (in our case len), is the position of the last inserted element.\n",
    "Inserting (aslo deleting), it all depends on where you start (len). And again the last position (which is len) is an EMPTY position.\n",
    "\n",
    "2. Linear Search, with transposing:\n",
    "    + item before it\n",
    "    + with the head\n",
    "    (using our normal swap)\n",
    "    What is the reason for this: Main point: so we can improve the search, by moving the searched key to front.\n",
    "    \n",
    "3. Binary Search\n",
    "    Divided in iterative and recursive. The recursive calls itself with new values. Again here, what I picked up is that the exit condition is always what occurs in positive.\n",
    "    \n",
    "    A Recurrent Relation MUST be done:\n",
    "    In the following string (MUST Be sorted), find the key \n",
    "\n",
    "#### $str = 10,12,30,41,55$\n",
    "\n",
    "####  $\\text{lowest index}=l= 0$\n",
    "\n",
    "####  $\\text{highest index}=h=4$\n",
    "\n",
    "####  $\\text{mid}=mid=\\frac{l+h}{2}$\n",
    "\n",
    "####  $\\text{key}=\\text{searched text}$\n",
    "\n",
    "####  $BinSearch(l,h,key) =BinSearch(mid+1,h,key)$\n",
    "\n",
    "####  $BinSearch(l,h,key) =BinSearch(l,mid-1,key)$\n",
    "    \n",
    "    \n",
    "### $$\n",
    "BinSearch(n) =\n",
    "\\begin{cases}\n",
    "\\text{not found}  & \\text{where $l >= h$ (Base/Exit Condition 0)} \\\\\n",
    "\\text{mid}  & \\text{where $key = mid$ (Base/Exit Condition 1)} \\\\\n",
    "\\\\\n",
    "BinSearch(l,mid-1,key) & \\text{where $key < mid$}\n",
    "\\\\\n",
    "BinSearch(mid+1,h,key) & \\text{where $key > mid$}\n",
    "\\end{cases}\n",
    "$$\n",
    "\n",
    "Some essence: Parameters here of recursive function, l and h, need to either increase or decrease, in order to provide new values for Rec Function, and to keep its engine turning.\n",
    "\n",
    "4. Reverse, \n",
    "    Main pointer here: no problem...good notes.  Using two tables or using One table\n",
    "    Only doing Left Rotate, other is variation\n",
    "\n",
    "5. Check if sorted.Check Negative values, nice one.\n",
    "6. Merging.\n",
    "    Main point here: How to resuse the class Array, with B an C arrays. Excellent.\n",
    "    And we also not checking for duplicates, in Sorted Union below, this is extra check.\n",
    "    Almost missed it:Golden: The while loop, loops two iterators (i and j) AT SAME TIME. This is very compact code.\n",
    "7. Union (merge A and B, do not store duplicates) : Here we look at unsorted and sorted. AOnly difference between merging and Sorted Union, is that for sorted union, we check for Duplicates. Main Point: KEEP it sorted.\n",
    "     + Sorted Union: Same as merge, but check for Duplicates\n",
    "     + Unsorted Union: Blind Copy A, then check where B is not in C (very careful, A is done now. What was in A, i now in C. This took me a while to see). Unsorted will give insorted result. \n",
    "        \n",
    "8. Intersection (find common items between A and B, and ignore everything else)\n",
    "     + Sorted Intersection. Easy one, same as above, dont add where less or more than, just increment (```i++``` or ```j++```)\n",
    "     + UnSorted Intersection. Very similar to unsorted union. but instead blind copy, and comparing B and C. We compare A and B, and once we get the equla value, we add it immediately to C.\n",
    "\n",
    "9. Difference (Elements in A, but not in B, so NOT common elements. Unique elements of A, Not in B). Main point here. Here A is king, we can say (but in dark B does play role, as its compared. But ONLY A is copied)\n",
    "     + Sorted Difference. Again, very easy. Main point: Add only A not in B (increment as well ```i++```, and increment rest (```j++```). TRick here: only insert where A < B, rest we move all along (i, k, j).We can do it otherway around as well, e.g. A > B, then rest we move along (same thing) - BUT then it will not be sorted. and Why this wont work, is that we will then be inserting B, not A. So its not trick. Its correct way.\n",
    "     + Unsorted Difference. Again copy A to C, comparing A and B (unique elements of A), not jusy blindly copying B.\n",
    "     \n",
    "10. Finding missing values (Sorted Array).Using Formula, but not clear from notes.\n",
    "\n",
    "\n",
    "$$ \\require{cancel} \\frac{n(n+1)}{2} =  \\frac{\\bcancel{12}{^6}(1+12)}{\\bcancel{2}}=6\\times {13}=78$$\n",
    "\n",
    "$$ 1+2+3+4+5+6+8+9+10+11+12=71$$\n",
    "\n",
    "$$ 78-71 = 7 (\\text{missing value})$$\n",
    "\n",
    "    Rest Notes clear.\n",
    "\n",
    "11. Finding missing values (Sorted array).Using Index. Clea notes\n",
    "12. Finding missing values (UnSorted array).Using Hash Table. Nosssues.\n",
    "13. Finding duplicates. Notes detailed enough, and rest are fine\n",
    "    "
   ]
  },
  {
   "cell_type": "code",
   "execution_count": 1,
   "metadata": {},
   "outputs": [],
   "source": [
    "#include <iostream>\n",
    "#include <climits>\n",
    "#include <math.h>\n",
    "#include <string>\n",
    "#define INSERTION_OPERATOR operator>>\n",
    "#define EXTRACTION_OPERATOR operator<<\n",
    "#define ADDITION_OPERATOR operator+\n",
    "#define SUBTRACT_OPERATOR operator-\n",
    "using namespace std;"
   ]
  },
  {
   "cell_type": "markdown",
   "metadata": {},
   "source": [
    "## Just Normal"
   ]
  },
  {
   "cell_type": "code",
   "execution_count": 2,
   "metadata": {},
   "outputs": [],
   "source": [
    "class Array{\n",
    "private:\n",
    "    int *A;\n",
    "    int size;\n",
    "    int len;\n",
    "    void SwapByAddress(int *x, int *y);\n",
    "    void SwapByReference(int &x, int &y);\n",
    "    int GetMax_ValueA();\n",
    "    void UpdateValue(int index, int x);\n",
    "public:    \n",
    "    Array(){\n",
    "        size = 10;\n",
    "        A = new int[size];\n",
    "        len=0;\n",
    "    }\n",
    "    \n",
    "    Array(int sz){\n",
    "        size = sz;\n",
    "        A = new int[size];\n",
    "        len=0;\n",
    "    }\n",
    "    \n",
    "    ~Array(){\n",
    "        delete []A;\n",
    "    }\n",
    "    void Add(int x);\n",
    "    void Display();\n",
    "    void Insert(int index, int x);\n",
    "    void Insert2(int index, int x);\n",
    "    void Delete(int index);\n",
    "    int LinearSearch (int key);\n",
    "    int LinearSearchTransposeBefore (int key);\n",
    "    int LinearSearchTransposeHEAD (int key);\n",
    "    int BinarySearchRecurse(int l, int h, int key);\n",
    "    int BinarySearchIterative(int key);\n",
    "    void LeftRotate();\n",
    "    void NegativetoLeft();\n",
    "    void Merging(Array B);\n",
    "    void Union(Array B);\n",
    "    void Union_Sorted(Array B);\n",
    "    void Union_UnSorted(Array B);\n",
    "    void Intersection_Sorted(Array B);\n",
    "    void Intersection_UnSorted(Array B);\n",
    "    void Difference_Sorted(Array B);\n",
    "    void Difference_UnSorted(Array B);\n",
    "    void FindMissing_UsingHash_Unsorted();\n",
    "    \n",
    "    \n",
    "    \n",
    "}"
   ]
  },
  {
   "cell_type": "code",
   "execution_count": 3,
   "metadata": {},
   "outputs": [],
   "source": [
    "void Array::UpdateValue(int index, int x){\n",
    "    for (int i =0; i <=len-1; i++){\n",
    "       if (i==index){\n",
    "           SwapByReference(A[i],x);\n",
    "           break;\n",
    "       }    \n",
    "   }\n",
    "  \n",
    "}"
   ]
  },
  {
   "cell_type": "code",
   "execution_count": 4,
   "metadata": {},
   "outputs": [],
   "source": [
    "int Array::GetMax_ValueA(){\n",
    "    int maxVal=0;\n",
    "    \n",
    "    for(int i = 0; i < len; i++){\n",
    "        if (A[i] > maxVal )\n",
    "            maxVal=A[i];\n",
    "    }\n",
    "    \n",
    "    return maxVal;\n",
    "    \n",
    "}\n",
    "    "
   ]
  },
  {
   "cell_type": "code",
   "execution_count": 5,
   "metadata": {},
   "outputs": [],
   "source": [
    "void Array::FindMissing_UsingHash_Unsorted(){\n",
    "    \n",
    "    int m = GetMax_ValueA();\n",
    "    \n",
    "    Array c(m);\n",
    "    \n",
    "    int i = 0;\n",
    "    int n = len; \n",
    "    \n",
    "    \n",
    "    for (;i<=m; i++){\n",
    "        c.Add(0);\n",
    "    }\n",
    "    \n",
    "    i = 0;\n",
    "    \n",
    "    int val1=1;\n",
    "        \n",
    "    for (;i<=m; i++){\n",
    "        c.UpdateValue(A[i],val1);\n",
    "        \n",
    "    }\n",
    "    i = 0;\n",
    "    \n",
    "    cout<<\"Missing Numbers\"<<endl; \n",
    "    \n",
    "    for (;i<=m; i++){\n",
    "        if (c.A[i] == 0)\n",
    "          cout<<c.A[i]<< \"(\"<<i<<\") \"; \n",
    "        \n",
    "    }\n",
    "    cout<<endl;\n",
    "    \n",
    "    c.Display();\n",
    "    \n",
    "    \n",
    "}"
   ]
  },
  {
   "cell_type": "code",
   "execution_count": 6,
   "metadata": {},
   "outputs": [],
   "source": [
    "void Array::Difference_UnSorted(Array b){\n",
    "     Array c(25);\n",
    "    int i=0;\n",
    "    int j=0;\n",
    "    int k=0;\n",
    "    \n",
    "    int n = len-1;\n",
    "    int m = b.len-1;\n",
    "    \n",
    "    bool found=false;\n",
    "    \n",
    "    i=0;\n",
    "    for(;i<=n;i++){\n",
    "        while (j<=m){    \n",
    "            if (A[i]==b.A[j])\n",
    "            {\n",
    "               found=true; \n",
    "               break; \n",
    "            }    \n",
    "            j++;\n",
    "        }\n",
    "        \n",
    "        if (found==false)\n",
    "            c.Add(A[i]);\n",
    "        \n",
    "        found=false;\n",
    "        j=0;\n",
    "    }\n",
    "\n",
    "    \n",
    "    cout<<\"Last i:\"<< \"(\"<<i<<\") \"<<endl; \n",
    "    cout<<\"Last j:\"<< \"(\"<<j<<\") \"<<endl; \n",
    "   \n",
    "    \n",
    "    c.Display();\n",
    "\n",
    "};"
   ]
  },
  {
   "cell_type": "code",
   "execution_count": 7,
   "metadata": {},
   "outputs": [],
   "source": [
    "void Array::Difference_Sorted(Array b){\n",
    "    Array c(25);\n",
    "    int i=0;\n",
    "    int j=0;\n",
    "    \n",
    "    int n = len-1;\n",
    "    int m = b.len-1;\n",
    "    while (i<=n && j<=m){\n",
    "        if (A[i] < b.A[j])\n",
    "            c.Add(A[i++]);\n",
    "        else if (A[i] > b.A[j]) \n",
    "            j++;                   \n",
    "        else{                    \n",
    "            i++;\n",
    "            j++;\n",
    "        }\n",
    "    }\n",
    "    cout<<\"Last i:\"<< \"(\"<<i<<\") \"<<endl; \n",
    "    cout<<\"Last j:\"<< \"(\"<<j<<\") \"<<endl; \n",
    "   \n",
    "    for(;i<=n;i++)\n",
    "       c.Add(A[i]);\n",
    "    \n",
    "    for(;j<=m;j++)\n",
    "       c.Add(b.A[j]);\n",
    "    \n",
    "    c.Display();\n",
    "}"
   ]
  },
  {
   "cell_type": "code",
   "execution_count": 8,
   "metadata": {},
   "outputs": [],
   "source": [
    "void Array::Intersection_UnSorted(Array b){\n",
    "     Array c(25);\n",
    "    int i=0;\n",
    "    int j=0;\n",
    "    int k=0;\n",
    "    \n",
    "    int n = len-1;\n",
    "    int m = b.len-1;\n",
    "\n",
    "    \n",
    "    i=0;\n",
    "    int q = c.len-1;\n",
    "    for(;i<=n;i++){\n",
    "        while (j<=m){    \n",
    "            if (A[i]==b.A[j])\n",
    "            {  \n",
    "               c.Add(A[i]);\n",
    "               break; \n",
    "            }    \n",
    "            j++;\n",
    "        }\n",
    "        j=0;\n",
    "        m = b.len-1;\n",
    "    }\n",
    "\n",
    "    \n",
    "    cout<<\"Last i:\"<< \"(\"<<i<<\") \"<<endl; \n",
    "    cout<<\"Last j:\"<< \"(\"<<j<<\") \"<<endl; \n",
    "   \n",
    "    \n",
    "    c.Display();\n",
    "\n",
    "};"
   ]
  },
  {
   "cell_type": "code",
   "execution_count": 9,
   "metadata": {},
   "outputs": [],
   "source": [
    "void Array::Intersection_Sorted(Array b){\n",
    "    Array c(25);\n",
    "    int i=0;\n",
    "    int j=0;\n",
    "    \n",
    "    int n = len-1;\n",
    "    int m = b.len-1;\n",
    "    while (i<=n && j<=m){\n",
    "        if (A[i] < b.A[j])\n",
    "            i++;\n",
    "        else if (A[i] > b.A[j]) \n",
    "            j++;                   \n",
    "        else{                    //equal\n",
    "            c.Add(A[i++]);\n",
    "            j++;\n",
    "        }\n",
    "    }\n",
    "    cout<<\"Last i:\"<< \"(\"<<i<<\") \"<<endl; \n",
    "    cout<<\"Last j:\"<< \"(\"<<j<<\") \"<<endl; \n",
    "   \n",
    "    for(;i<=n;i++)\n",
    "       c.Add(A[i]);\n",
    "    \n",
    "    for(;j<=m;j++)\n",
    "       c.Add(b.A[j]);\n",
    "    \n",
    "    c.Display();\n",
    "}\n"
   ]
  },
  {
   "cell_type": "code",
   "execution_count": 10,
   "metadata": {},
   "outputs": [],
   "source": [
    "void Array::Union_Sorted(Array b){\n",
    "    Array c(25);\n",
    "    int i=0;\n",
    "    int j=0;\n",
    "    \n",
    "    int n = len-1;\n",
    "    int m = b.len-1;\n",
    "    while (i<=n && j<=m){\n",
    "        if (A[i] < b.A[j])\n",
    "            c.Add(A[i++]);\n",
    "        else if (A[i] == b.A[j]){   //1. Change\n",
    "            c.Add(A[i++]);          //2. Change  \n",
    "            j++;                    //3. Change\n",
    "        }    \n",
    "        else\n",
    "            c.Add(b.A[j++]);\n",
    "    }\n",
    "    cout<<\"Last i:\"<< \"(\"<<i<<\") \"<<endl; \n",
    "    cout<<\"Last j:\"<< \"(\"<<j<<\") \"<<endl; \n",
    "   \n",
    "    for(;i<=n;i++)\n",
    "       c.Add(A[i]);\n",
    "    \n",
    "    for(;j<=m;j++)\n",
    "       c.Add(b.A[j]);\n",
    "    \n",
    "    c.Display();\n",
    "}\n"
   ]
  },
  {
   "cell_type": "code",
   "execution_count": 11,
   "metadata": {},
   "outputs": [],
   "source": [
    "void Array::Union_UnSorted(Array b){\n",
    "     Array c(25);\n",
    "    int i=0;\n",
    "    int j=0;\n",
    "    int k=0;\n",
    "    \n",
    "    int n = len-1;\n",
    "    int m = b.len-1;\n",
    "    \n",
    "    \n",
    "    bool found=false;\n",
    "    \n",
    "    for(;i<=n;i++){\n",
    "        c.Add(A[i]);\n",
    "    }\n",
    "    \n",
    "    i=0;\n",
    "    int q = c.len-1;\n",
    "    for(;j<=m;j++){\n",
    "        while (k<=q){    \n",
    "            if (c.A[k]==b.A[j])\n",
    "            {\n",
    "               found=true; \n",
    "               break; \n",
    "            }    \n",
    "            k++;\n",
    "        }\n",
    "        \n",
    "        if (found==false)\n",
    "            c.Add(b.A[j]);\n",
    "        \n",
    "        found=false;\n",
    "        k=0;\n",
    "    }\n",
    "\n",
    "    \n",
    "    cout<<\"Last i:\"<< \"(\"<<i<<\") \"<<endl; \n",
    "    cout<<\"Last j:\"<< \"(\"<<j<<\") \"<<endl; \n",
    "   \n",
    "    \n",
    "    c.Display();\n",
    "\n",
    "};"
   ]
  },
  {
   "cell_type": "code",
   "execution_count": null,
   "metadata": {},
   "outputs": [],
   "source": []
  },
  {
   "cell_type": "code",
   "execution_count": 12,
   "metadata": {},
   "outputs": [],
   "source": [
    "void Array::Merging (Array b){\n",
    "    Array c(25);\n",
    "    int i=0;\n",
    "    int j=0;\n",
    "    \n",
    "    int n = len-1;\n",
    "    int m = b.len-1;\n",
    "    while (i<=n && j<=m){\n",
    "        if (A[i] < b.A[j])\n",
    "            c.Add(A[i++]);\n",
    "        else\n",
    "            c.Add(b.A[j++]);\n",
    "    }\n",
    "    cout<<\"Last i:\"<< \"(\"<<i<<\") \"<<endl; \n",
    "    cout<<\"Last j:\"<< \"(\"<<j<<\") \"<<endl; \n",
    "   \n",
    "    for(;i<=n;i++)\n",
    "       c.Add(A[i]);\n",
    "    \n",
    "    for(;j<=m;j++)\n",
    "       c.Add(b.A[j]);\n",
    "    \n",
    "    c.Display();\n",
    "   \n",
    "}"
   ]
  },
  {
   "cell_type": "code",
   "execution_count": 13,
   "metadata": {},
   "outputs": [],
   "source": [
    "void Array::NegativetoLeft(){\n",
    "    int i = 0;\n",
    "    int j = len -1;\n",
    "    while (i < j){\n",
    "        while (A[i]<0) i++;\n",
    "        while (A[j]>0) j--;\n",
    "        cout<<\"i:\"<<i<<endl;\n",
    "        cout<<\"j:\"<<j<<endl;\n",
    "        if (i < j)\n",
    "            SwapByReference(A[i],A[j]);\n",
    "    }\n",
    "}"
   ]
  },
  {
   "cell_type": "code",
   "execution_count": 14,
   "metadata": {},
   "outputs": [],
   "source": [
    "void Array::LeftRotate(){\n",
    "    int firstElement=A[0];\n",
    "    cout<<\"First Element:\"<<A[0]<<endl;\n",
    "    //for (int i = 0;i<len;i++){\n",
    "    for (int i = 0;i<=len-1;i++){    \n",
    "        if (i==len-1){\n",
    "            A[i]=firstElement;\n",
    "        }\n",
    "        else\n",
    "        {\n",
    "           A[i]=A[i+1];     \n",
    "        }\n",
    "    }\n",
    "        \n",
    "}"
   ]
  },
  {
   "cell_type": "code",
   "execution_count": 15,
   "metadata": {},
   "outputs": [],
   "source": [
    "int Array::BinarySearchRecurse(int l, int h, int key){\n",
    "    int mid;\n",
    "    if (l<= h){\n",
    "        mid=(l+h)/2;\n",
    "        if (key ==A[mid]){\n",
    "           cout<<\"Found it\"<<endl;\n",
    "           return mid;\n",
    "        }else if (key<A[mid]){\n",
    "            return BinarySearchRecurse(l,mid-1,key);\n",
    "        }else {\n",
    "            return BinarySearchRecurse(mid+1,h,key);\n",
    "        }\n",
    "            \n",
    "    }\n",
    "    return -1; \n",
    "}"
   ]
  },
  {
   "cell_type": "code",
   "execution_count": 16,
   "metadata": {},
   "outputs": [],
   "source": [
    "int Array::BinarySearchIterative(int key){\n",
    "    int mid;\n",
    "    int l=0;\n",
    "    int h=len-1;\n",
    "    while (l<= h){\n",
    "        mid=(l+h)/2;\n",
    "        if (key ==A[mid]){\n",
    "           cout<<\"Found it\"<<endl;\n",
    "           return mid;\n",
    "        }else if (key<A[mid]){\n",
    "            h=mid-1;\n",
    "        }else {\n",
    "            l=mid+1;\n",
    "        }\n",
    "            \n",
    "    }\n",
    "    return -1; \n",
    "}"
   ]
  },
  {
   "cell_type": "code",
   "execution_count": 17,
   "metadata": {},
   "outputs": [],
   "source": [
    "void Array::SwapByAddress(int *x, int *y){\n",
    "    int temp;\n",
    "    temp = *x;\n",
    "    *x = *y;\n",
    "    *y= temp;\n",
    "}"
   ]
  },
  {
   "cell_type": "code",
   "execution_count": 18,
   "metadata": {},
   "outputs": [],
   "source": [
    "void Array::SwapByReference(int &x, int &y){\n",
    "    int temp;\n",
    "    temp = x;\n",
    "    x = y;\n",
    "    y= temp;\n",
    "}"
   ]
  },
  {
   "cell_type": "code",
   "execution_count": 19,
   "metadata": {},
   "outputs": [],
   "source": [
    "void Array::Add(int x){\n",
    "    A[len]=x;\n",
    "    len++;\n",
    "}"
   ]
  },
  {
   "cell_type": "code",
   "execution_count": 20,
   "metadata": {},
   "outputs": [],
   "source": [
    "void Array::Display(){\n",
    "   if (len>0){  \n",
    "    for (int i = 0; i < len; i++){\n",
    "        cout<<A[i]<< \"(\"<<i<<\") \"; \n",
    "    }\n",
    "    cout<<endl;\n",
    "   }\n",
    "   else{\n",
    "       cout<<\"Array EMPTY\"<<endl; \n",
    "   } \n",
    "}"
   ]
  },
  {
   "cell_type": "code",
   "execution_count": 21,
   "metadata": {},
   "outputs": [
    {
     "name": "stdout",
     "output_type": "stream",
     "text": [
      "8(0) 3(1) 7(2) 12(3) 6(4) 9(5) 10(6) \n"
     ]
    }
   ],
   "source": [
    "Array A(10);\n",
    "A.Add(8);A.Add(3);A.Add(7);A.Add(12);A.Add(6);A.Add(9);A.Add(10);\n",
    "A.Display();"
   ]
  },
  {
   "cell_type": "code",
   "execution_count": 22,
   "metadata": {},
   "outputs": [],
   "source": [
    "void Array::Insert(int index, int x){\n",
    "    \n",
    "   if (len>=0 and index <=len){\n",
    "     int i = len-1;  \n",
    "     for (; i >=index; i--){\n",
    "         cout<<A[i]<< \"(\"<<i<<\") \"<<endl; \n",
    "         A[i+1]= A[i];\n",
    "     }\n",
    "     len++;  \n",
    "     A[index]= x;  \n",
    "   }\n",
    "}"
   ]
  },
  {
   "cell_type": "code",
   "execution_count": 23,
   "metadata": {},
   "outputs": [],
   "source": [
    "void Array::Insert2(int index, int x){\n",
    "    \n",
    "   if (len>=0 and index <=len){\n",
    "     int i = len;  \n",
    "     for (; i >=index; i--){\n",
    "         cout<<A[i]<< \"(\"<<i<<\") \"<<endl; \n",
    "         A[i]= A[i-1];\n",
    "     }\n",
    "     len++;  \n",
    "     A[index]= x;  \n",
    "   }\n",
    "}"
   ]
  },
  {
   "cell_type": "code",
   "execution_count": 24,
   "metadata": {},
   "outputs": [],
   "source": [
    "void Array::Delete(int index){\n",
    "   int i = index;  \n",
    "   for (; i <=len-1; i++){\n",
    "      cout<<A[i]<< \"(\"<<i<<\") \"<<endl; \n",
    "      A[i]= A[i+1];\n",
    "   }\n",
    "   len--;  \n",
    "  \n",
    "}"
   ]
  },
  {
   "cell_type": "code",
   "execution_count": 25,
   "metadata": {},
   "outputs": [],
   "source": [
    "int Array::LinearSearch(int key){\n",
    "   for (int i =0; i <=len-1; i++){\n",
    "       if (A[i]==key)\n",
    "           return i;\n",
    "   }\n",
    "    return -1;\n",
    "}"
   ]
  },
  {
   "cell_type": "code",
   "execution_count": 26,
   "metadata": {},
   "outputs": [],
   "source": [
    "int Array::LinearSearchTransposeBefore(int key){\n",
    "   for (int i =0; i <=len-1; i++){\n",
    "       if (A[i]==key){\n",
    "           SwapByAddress(&A[i],&A[i-1]);\n",
    "           return i;\n",
    "       }    \n",
    "   }\n",
    "    return -1;\n",
    "}"
   ]
  },
  {
   "cell_type": "code",
   "execution_count": 27,
   "metadata": {},
   "outputs": [],
   "source": [
    "int Array::LinearSearchTransposeHEAD(int key){\n",
    "   for (int i =0; i <=len-1; i++){\n",
    "       if (A[i]==key){\n",
    "           SwapByReference(A[i],A[0]);\n",
    "           return i;\n",
    "       }    \n",
    "   }\n",
    "    return -1;\n",
    "}"
   ]
  },
  {
   "cell_type": "code",
   "execution_count": 28,
   "metadata": {},
   "outputs": [
    {
     "name": "stdout",
     "output_type": "stream",
     "text": [
      "10(6) \n",
      "9(5) \n",
      "6(4) \n",
      "8(0) 3(1) 7(2) 12(3) 15(4) 6(5) 9(6) 10(7) \n"
     ]
    }
   ],
   "source": [
    "A.Insert(4,15);\n",
    "A.Display();"
   ]
  },
  {
   "cell_type": "code",
   "execution_count": 29,
   "metadata": {},
   "outputs": [
    {
     "name": "stdout",
     "output_type": "stream",
     "text": [
      "0(8) \n",
      "10(7) \n",
      "9(6) \n",
      "6(5) \n",
      "15(4) \n",
      "8(0) 3(1) 7(2) 12(3) 16(4) 15(5) 6(6) 9(7) 10(8) \n"
     ]
    }
   ],
   "source": [
    "A.Insert2(4,16);\n",
    "A.Display();"
   ]
  },
  {
   "cell_type": "code",
   "execution_count": 30,
   "metadata": {},
   "outputs": [
    {
     "name": "stdout",
     "output_type": "stream",
     "text": [
      "12(3) \n",
      "16(4) \n",
      "15(5) \n",
      "6(6) \n",
      "9(7) \n",
      "10(8) \n",
      "8(0) 3(1) 7(2) 16(3) 15(4) 6(5) 9(6) 10(7) \n"
     ]
    }
   ],
   "source": [
    "A.Delete(3);\n",
    "A.Display();"
   ]
  },
  {
   "cell_type": "code",
   "execution_count": 31,
   "metadata": {},
   "outputs": [
    {
     "name": "stdout",
     "output_type": "stream",
     "text": [
      "Found: -1\n",
      "8(0) 3(1) 7(2) 16(3) 15(4) 6(5) 9(6) 10(7) \n"
     ]
    }
   ],
   "source": [
    "cout<<\"Found: \"<<A.LinearSearch(5)<<endl;\n",
    "A.Display();"
   ]
  },
  {
   "cell_type": "code",
   "execution_count": 32,
   "metadata": {},
   "outputs": [
    {
     "name": "stdout",
     "output_type": "stream",
     "text": [
      "8(0) 3(1) 7(2) 16(3) 15(4) 6(5) 9(6) 10(7) \n",
      "Found: 5\n",
      "8(0) 3(1) 7(2) 16(3) 6(4) 15(5) 9(6) 10(7) \n"
     ]
    }
   ],
   "source": [
    "A.Display();\n",
    "cout<<\"Found: \"<<A.LinearSearchTransposeBefore(6)<<endl;\n",
    "A.Display();"
   ]
  },
  {
   "cell_type": "code",
   "execution_count": 33,
   "metadata": {},
   "outputs": [
    {
     "name": "stdout",
     "output_type": "stream",
     "text": [
      "8(0) 3(1) 7(2) 16(3) 6(4) 15(5) 9(6) 10(7) \n",
      "Found: 4\n",
      "6(0) 3(1) 7(2) 16(3) 8(4) 15(5) 9(6) 10(7) \n"
     ]
    }
   ],
   "source": [
    "A.Display();\n",
    "cout<<\"Found: \"<<A.LinearSearchTransposeHEAD(6)<<endl;\n",
    "A.Display();"
   ]
  },
  {
   "cell_type": "code",
   "execution_count": 34,
   "metadata": {},
   "outputs": [
    {
     "name": "stdout",
     "output_type": "stream",
     "text": [
      "4(0) 8(1) 10(2) 15(3) 18(4) 21(5) 24(6) 27(7) 29(8) 33(9) 34(10) 37(11) 39(12) 41(13) 43(14) \n"
     ]
    }
   ],
   "source": [
    "Array B(15);\n",
    "B.Add(4);B.Add(8);B.Add(10);B.Add(15);B.Add(18);B.Add(21);B.Add(24);\n",
    "B.Add(27);B.Add(29);B.Add(33);B.Add(34);B.Add(37);B.Add(39);B.Add(41);B.Add(43);\n",
    "B.Display();"
   ]
  },
  {
   "cell_type": "code",
   "execution_count": 35,
   "metadata": {},
   "outputs": [
    {
     "name": "stdout",
     "output_type": "stream",
     "text": [
      "Found: Found it\n",
      "4\n",
      "4(0) 8(1) 10(2) 15(3) 18(4) 21(5) 24(6) 27(7) 29(8) 33(9) 34(10) 37(11) 39(12) 41(13) 43(14) \n"
     ]
    }
   ],
   "source": [
    "\n",
    "cout<<\"Found: \"<<B.BinarySearchRecurse(0,14,18)<<endl;\n",
    "B.Display();"
   ]
  },
  {
   "cell_type": "code",
   "execution_count": 36,
   "metadata": {},
   "outputs": [
    {
     "name": "stdout",
     "output_type": "stream",
     "text": [
      "Found: Found it\n",
      "4\n",
      "4(0) 8(1) 10(2) 15(3) 18(4) 21(5) 24(6) 27(7) 29(8) 33(9) 34(10) 37(11) 39(12) 41(13) 43(14) \n"
     ]
    }
   ],
   "source": [
    "cout<<\"Found: \"<<B.BinarySearchIterative(18)<<endl;\n",
    "B.Display();"
   ]
  },
  {
   "cell_type": "code",
   "execution_count": 37,
   "metadata": {},
   "outputs": [
    {
     "name": "stdout",
     "output_type": "stream",
     "text": [
      "First Element:4\n",
      "8(0) 10(1) 15(2) 18(3) 21(4) 24(5) 27(6) 29(7) 33(8) 34(9) 37(10) 39(11) 41(12) 43(13) 4(14) \n"
     ]
    }
   ],
   "source": [
    "B.LeftRotate();\n",
    "B.Display();"
   ]
  },
  {
   "cell_type": "code",
   "execution_count": 38,
   "metadata": {},
   "outputs": [
    {
     "name": "stdout",
     "output_type": "stream",
     "text": [
      "-6(0) 3(1) -8(2) 10(3) 5(4) -7(5) 12(6) 3(7) 2(8) \n"
     ]
    }
   ],
   "source": [
    "Array C(15);\n",
    "C.Add(-6);C.Add(3);C.Add(-8);C.Add(10);C.Add(5);C.Add(-7);C.Add(12);\n",
    "C.Add(3);C.Add(2);\n",
    "C.Display();"
   ]
  },
  {
   "cell_type": "code",
   "execution_count": 39,
   "metadata": {},
   "outputs": [
    {
     "name": "stdout",
     "output_type": "stream",
     "text": [
      "i:1\n",
      "j:5\n",
      "i:3\n",
      "j:2\n",
      "-6(0) -7(1) -8(2) 10(3) 5(4) 3(5) 12(6) 3(7) 2(8) \n"
     ]
    }
   ],
   "source": [
    "C.NegativetoLeft();\n",
    "C.Display();"
   ]
  },
  {
   "cell_type": "code",
   "execution_count": 40,
   "metadata": {
    "scrolled": true
   },
   "outputs": [
    {
     "name": "stdout",
     "output_type": "stream",
     "text": [
      "2(0) 3(1) 7(2) 12(3) 20(4) 49(5) 50(6) \n"
     ]
    }
   ],
   "source": [
    "Array A_1(10);\n",
    "A_1.Add(2);A_1.Add(3);A_1.Add(7);\n",
    "A_1.Add(12);A_1.Add(20);A_1.Add(49);A_1.Add(50);\n",
    "A_1.Display();\n",
    "\n",
    "\n",
    "\n"
   ]
  },
  {
   "cell_type": "code",
   "execution_count": 41,
   "metadata": {},
   "outputs": [
    {
     "name": "stdout",
     "output_type": "stream",
     "text": [
      "4(0) 8(1) 10(2) 15(3) 18(4) 21(5) 24(6) 27(7) 29(8) 33(9) 34(10) 37(11) 39(12) 60(13) 61(14) \n"
     ]
    }
   ],
   "source": [
    "Array B_1(15);\n",
    "B_1.Add(4);B_1.Add(8);B_1.Add(10);B_1.Add(15);\n",
    "B_1.Add(18);B_1.Add(21);B_1.Add(24);\n",
    "B_1.Add(27);B_1.Add(29);B_1.Add(33);B_1.Add(34);\n",
    "B_1.Add(37);B_1.Add(39);B_1.Add(60);B_1.Add(61);\n",
    "B_1.Display();"
   ]
  },
  {
   "cell_type": "code",
   "execution_count": 42,
   "metadata": {},
   "outputs": [
    {
     "name": "stdout",
     "output_type": "stream",
     "text": [
      "Last i:(7) \n",
      "Last j:(13) \n",
      "2(0) 3(1) 4(2) 7(3) 8(4) 10(5) 12(6) 15(7) 18(8) 20(9) 21(10) 24(11) 27(12) 29(13) 33(14) 34(15) 37(16) 39(17) 49(18) 50(19) 60(20) 61(21) \n"
     ]
    }
   ],
   "source": [
    "A_1.Merging(B_1);"
   ]
  },
  {
   "cell_type": "code",
   "execution_count": 43,
   "metadata": {},
   "outputs": [
    {
     "name": "stdout",
     "output_type": "stream",
     "text": [
      "2(0) 3(1) 8(2) 10(3) 20(4) 49(5) 50(6) \n",
      "4(0) 8(1) 10(2) 15(3) 18(4) 21(5) 24(6) 27(7) 29(8) 33(9) 34(10) 37(11) 39(12) 50(13) 61(14) \n"
     ]
    }
   ],
   "source": [
    "Array A_2(10);\n",
    "A_2.Add(2);A_2.Add(3);A_2.Add(8);\n",
    "A_2.Add(10);A_2.Add(20);A_2.Add(49);A_2.Add(50);\n",
    "A_2.Display();\n",
    "\n",
    "\n",
    "Array B_2(15);\n",
    "B_2.Add(4);B_2.Add(8);B_2.Add(10);B_2.Add(15);\n",
    "B_2.Add(18);B_2.Add(21);B_2.Add(24);\n",
    "B_2.Add(27);B_2.Add(29);B_2.Add(33);B_2.Add(34);\n",
    "B_2.Add(37);B_2.Add(39);B_2.Add(50);B_2.Add(61);\n",
    "B_2.Display();"
   ]
  },
  {
   "cell_type": "code",
   "execution_count": 44,
   "metadata": {},
   "outputs": [
    {
     "name": "stdout",
     "output_type": "stream",
     "text": [
      "Last i:(7) \n",
      "Last j:(14) \n",
      "2(0) 3(1) 4(2) 8(3) 10(4) 15(5) 18(6) 20(7) 21(8) 24(9) 27(10) 29(11) 33(12) 34(13) 37(14) 39(15) 49(16) 50(17) 61(18) \n"
     ]
    }
   ],
   "source": [
    "A_2.Union_Sorted(B_2);"
   ]
  },
  {
   "cell_type": "code",
   "execution_count": 45,
   "metadata": {},
   "outputs": [
    {
     "name": "stdout",
     "output_type": "stream",
     "text": [
      "3(0) 5(1) 10(2) 4(3) 6(4) \n",
      "12(0) 4(1) 7(2) 2(3) 5(4) \n"
     ]
    }
   ],
   "source": [
    "Array A_3(10);\n",
    "A_3.Add(3);A_3.Add(5);A_3.Add(10);A_3.Add(4);A_3.Add(6);\n",
    "A_3.Display();\n",
    "\n",
    "Array B_3(10);\n",
    "B_3.Add(12);B_3.Add(4);B_3.Add(7);B_3.Add(2);B_3.Add(5);\n",
    "B_3.Display();"
   ]
  },
  {
   "cell_type": "code",
   "execution_count": 46,
   "metadata": {},
   "outputs": [
    {
     "name": "stdout",
     "output_type": "stream",
     "text": [
      "Last i:(0) \n",
      "Last j:(5) \n",
      "3(0) 5(1) 10(2) 4(3) 6(4) 12(5) 7(6) 2(7) \n"
     ]
    }
   ],
   "source": [
    "A_3.Union_UnSorted(B_3);"
   ]
  },
  {
   "cell_type": "code",
   "execution_count": 47,
   "metadata": {},
   "outputs": [
    {
     "name": "stdout",
     "output_type": "stream",
     "text": [
      "3(0) 5(1) 7(2) 10(3) 15(4) \n",
      "2(0) 7(1) 8(2) 12(3) 14(4) \n"
     ]
    }
   ],
   "source": [
    "Array A_4(10);\n",
    "A_4.Add(3);A_4.Add(5);A_4.Add(7);A_4.Add(10);A_4.Add(15);\n",
    "A_4.Display();\n",
    "\n",
    "Array B_4(10);\n",
    "B_4.Add(2);B_4.Add(7);B_4.Add(8);B_4.Add(12);B_4.Add(14);\n",
    "B_4.Display();"
   ]
  },
  {
   "cell_type": "code",
   "execution_count": 48,
   "metadata": {},
   "outputs": [
    {
     "name": "stdout",
     "output_type": "stream",
     "text": [
      "Last i:(4) \n",
      "Last j:(5) \n",
      "7(0) 15(1) \n"
     ]
    }
   ],
   "source": [
    "A_4.Intersection_Sorted(B_4);"
   ]
  },
  {
   "cell_type": "code",
   "execution_count": 49,
   "metadata": {},
   "outputs": [
    {
     "name": "stdout",
     "output_type": "stream",
     "text": [
      "3(0) 5(1) 10(2) 4(3) 6(4) \n",
      "12(0) 4(1) 7(2) 2(3) 5(4) \n"
     ]
    }
   ],
   "source": [
    "Array A_5(10);\n",
    "A_5.Add(3);A_5.Add(5);A_5.Add(10);A_5.Add(4);A_5.Add(6);\n",
    "A_5.Display();\n",
    "\n",
    "Array B_5(10);\n",
    "B_5.Add(12);B_5.Add(4);B_5.Add(7);B_5.Add(2);B_5.Add(5);\n",
    "B_5.Display();"
   ]
  },
  {
   "cell_type": "code",
   "execution_count": 50,
   "metadata": {},
   "outputs": [
    {
     "name": "stdout",
     "output_type": "stream",
     "text": [
      "Last i:(5) \n",
      "Last j:(0) \n",
      "5(0) 4(1) \n"
     ]
    }
   ],
   "source": [
    "A_5.Intersection_UnSorted(B_5);"
   ]
  },
  {
   "cell_type": "code",
   "execution_count": 51,
   "metadata": {},
   "outputs": [
    {
     "name": "stdout",
     "output_type": "stream",
     "text": [
      "3(0) 5(1) 7(2) 10(3) 15(4) \n",
      "2(0) 7(1) 8(2) 12(3) 14(4) \n"
     ]
    }
   ],
   "source": [
    "Array A_6(10);\n",
    "A_6.Add(3);A_6.Add(5);A_6.Add(7);A_6.Add(10);A_6.Add(15);\n",
    "A_6.Display();\n",
    "\n",
    "Array B_6(10);\n",
    "B_6.Add(2);B_6.Add(7);B_6.Add(8);B_6.Add(12);B_6.Add(14);\n",
    "B_6.Display();"
   ]
  },
  {
   "cell_type": "code",
   "execution_count": 52,
   "metadata": {},
   "outputs": [
    {
     "name": "stdout",
     "output_type": "stream",
     "text": [
      "Last i:(4) \n",
      "Last j:(5) \n",
      "3(0) 5(1) 10(2) 15(3) \n"
     ]
    }
   ],
   "source": [
    "A_6.Difference_Sorted(B_6);"
   ]
  },
  {
   "cell_type": "code",
   "execution_count": 53,
   "metadata": {},
   "outputs": [
    {
     "name": "stdout",
     "output_type": "stream",
     "text": [
      "3(0) 5(1) 10(2) 4(3) 6(4) \n",
      "12(0) 4(1) 7(2) 2(3) 5(4) \n"
     ]
    }
   ],
   "source": [
    "Array A_7(10);\n",
    "A_7.Add(3);A_7.Add(5);A_7.Add(10);A_7.Add(4);A_7.Add(6);\n",
    "A_7.Display();\n",
    "\n",
    "Array B_7(10);\n",
    "B_7.Add(12);B_7.Add(4);B_7.Add(7);B_7.Add(2);B_7.Add(5);\n",
    "B_7.Display();"
   ]
  },
  {
   "cell_type": "code",
   "execution_count": 54,
   "metadata": {},
   "outputs": [
    {
     "name": "stdout",
     "output_type": "stream",
     "text": [
      "Last i:(5) \n",
      "Last j:(0) \n",
      "3(0) 10(1) 6(2) \n"
     ]
    }
   ],
   "source": [
    "A_7.Difference_UnSorted(B_7);"
   ]
  },
  {
   "cell_type": "code",
   "execution_count": null,
   "metadata": {},
   "outputs": [
    {
     "name": "stdout",
     "output_type": "stream",
     "text": [
      "3(0) 5(1) 10(2) 4(3) 6(4) \n",
      "Missing Numbers\n",
      "0(0) 0(1) 0(2) 0(7) 0(8) 0(9) \n",
      "0(0) 0(1) 0(2) 1(3) 1(4) 1(5) 1(6) 0(7) 0(8) 0(9) 1(10) \n"
     ]
    }
   ],
   "source": [
    "Array A_8(10);\n",
    "A_8.Add(3);A_8.Add(5);A_8.Add(10);A_8.Add(4);A_8.Add(6);\n",
    "A_8.Display();\n",
    "\n",
    "\n",
    "A_8.FindMissing_UsingHash_Unsorted();"
   ]
  },
  {
   "cell_type": "code",
   "execution_count": null,
   "metadata": {},
   "outputs": [],
   "source": []
  },
  {
   "cell_type": "code",
   "execution_count": null,
   "metadata": {},
   "outputs": [],
   "source": []
  }
 ],
 "metadata": {
  "kernelspec": {
   "display_name": "C++17",
   "language": "C++17",
   "name": "xcpp17"
  },
  "language_info": {
   "codemirror_mode": "text/x-c++src",
   "file_extension": ".cpp",
   "mimetype": "text/x-c++src",
   "name": "c++",
   "version": "17"
  }
 },
 "nbformat": 4,
 "nbformat_minor": 2
}

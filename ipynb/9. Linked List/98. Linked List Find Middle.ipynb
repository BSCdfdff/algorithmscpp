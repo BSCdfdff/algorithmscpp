{
 "cells": [
  {
   "cell_type": "markdown",
   "metadata": {},
   "source": [
    "# Linked List\n",
    "+ Find the Middle of Linked List\n"
   ]
  },
  {
   "cell_type": "markdown",
   "metadata": {},
   "source": [
    "## How to find the Middle of LL\n",
    "\n",
    "\n",
    "___\n",
    "\n",
    "\n",
    "1. We can use two pointer ```p``` and ```q```. \n",
    "2. With pointer p taking the normal 1 step, and pointerq taking 2 steps.\n",
    "3. When q reach last node, p will be in the middle\n",
    "\n",
    "\n",
    "\n",
    "```\n",
    "p=q=first;\n",
    "while (1){\n",
    "    q=q->next;\n",
    "    if (p) p=p->next;\n",
    "    if (q) q=q->next;\n",
    "}\n",
    "\n",
    "```\n",
    "\n",
    "\n",
    "\n",
    "\n"
   ]
  },
  {
   "cell_type": "markdown",
   "metadata": {},
   "source": [
    "## How to find the Middle of LL (using Stack)\n",
    "\n",
    "\n",
    "___\n",
    "\n",
    "That is stored values in STACK.  (assume recursion??)\n",
    "\n",
    "Once we have the values in STACK, and pop off total divided by 2.(using Floor)\n",
    "\n",
    "\n"
   ]
  },
  {
   "cell_type": "code",
   "execution_count": null,
   "metadata": {},
   "outputs": [],
   "source": []
  }
 ],
 "metadata": {
  "kernelspec": {
   "display_name": "C++17",
   "language": "C++17",
   "name": "xcpp17"
  },
  "language_info": {
   "codemirror_mode": "text/x-c++src",
   "file_extension": ".cpp",
   "mimetype": "text/x-c++src",
   "name": "c++",
   "version": "-std=c++17"
  }
 },
 "nbformat": 4,
 "nbformat_minor": 2
}

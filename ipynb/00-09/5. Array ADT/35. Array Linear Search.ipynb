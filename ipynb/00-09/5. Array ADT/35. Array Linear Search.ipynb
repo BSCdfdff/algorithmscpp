{
 "cells": [
  {
   "cell_type": "markdown",
   "metadata": {},
   "source": [
    "# Array ADT\n",
    "\n",
    "+ Linear Search"
   ]
  },
  {
   "cell_type": "markdown",
   "metadata": {},
   "source": [
    "## Linear Search\n",
    "\n",
    "\n",
    "Size = 10\n",
    "\n",
    "Length = 10\n",
    "\n",
    "How to read the table:\n",
    "\n",
    "1. First row contains the value(s)\n",
    "2. Second row contains the index\n",
    "\n",
    "\n",
    "$$\n",
    "\\newcommand\\T{\\Rule{0pt}{1em}{.3em}}\n",
    "\\begin{array}{|r|r|r|r|r|r|r|r|r|r|}\n",
    "\\hline \n",
    "8\\T&9\\T&4\\T&7\\T&6\\T&3\\T&10\\T&5\\T&14\\T&2  \\\\\\hline \n",
    "_0\\T&_1\\T&_2\\T&_3\\T&_4\\T&_5\\T&_6\\T&_7\\T&_8\\T&_9  \\\\\\hline \n",
    "\\end{array}\n",
    "$$\n",
    "\n",
    "The table must have unique elements.\n",
    "\n",
    "The value we search for we call key=5.\n",
    "\n",
    "We search the table one by one, and the result of the search is the index where the key is found.\n",
    "\n",
    "If found, return index = 7, and search is successful.\n",
    "\n",
    "We element is not found, the search is unsuccessful.\n",
    "\n",
    "\n",
    "Time complexity:\n",
    "\n",
    "Comparing elements. How many elements. Loop repeat maximum = n elements.\n",
    "\n",
    "Best case:\n",
    "$$O({1})$$\n",
    "\n",
    "Worst case:\n",
    "$$O({n})$$\n",
    "\n"
   ]
  },
  {
   "cell_type": "code",
   "execution_count": 1,
   "metadata": {},
   "outputs": [],
   "source": [
    "#include <iostream>\n",
    "#include <climits>\n",
    "#include <math.h>\n",
    "using namespace std;"
   ]
  },
  {
   "cell_type": "code",
   "execution_count": 2,
   "metadata": {},
   "outputs": [],
   "source": [
    "class Array{\n",
    "private:\n",
    "    int *A;\n",
    "    int size;\n",
    "    int length;\n",
    "    void swap (int *x, int *y);\n",
    "public:\n",
    "    Array(){\n",
    "        size=10;\n",
    "        A=new int[10];\n",
    "        length = 0;\n",
    "        \n",
    "    }\n",
    "    Array(int sz){\n",
    "        size=sz;\n",
    "        A=new int[sz];\n",
    "        length = 0;\n",
    "        \n",
    "    }\n",
    "    ~Array(){\n",
    "        delete []A;\n",
    "    }\n",
    "    void Display();\n",
    "    void Insert (int index, int x);\n",
    "    int LinearSearch(int key);\n",
    "    int LinearSearchTransposition(int key);\n",
    "    int LinearSearchMoveToHead(int key);\n",
    "}"
   ]
  },
  {
   "cell_type": "code",
   "execution_count": 3,
   "metadata": {},
   "outputs": [],
   "source": [
    "void Array::swap(int *x, int *y){\n",
    "    int temp;\n",
    "    \n",
    "    temp = *x;\n",
    "    *x=*y;\n",
    "    *y = temp;\n",
    "}        \n",
    " "
   ]
  },
  {
   "cell_type": "code",
   "execution_count": 4,
   "metadata": {},
   "outputs": [],
   "source": [
    "int Array::LinearSearch(int key){\n",
    "    for(int i=0;i<length;i++){\n",
    "        if (key==A[i]){\n",
    "            return i; \n",
    "        }\n",
    "    }    \n",
    "    return -1;\n",
    "}"
   ]
  },
  {
   "cell_type": "code",
   "execution_count": 5,
   "metadata": {},
   "outputs": [],
   "source": [
    "int Array::LinearSearchTransposition(int key){\n",
    "    for(int i=0;i<length;i++){\n",
    "        if (key==A[i]){\n",
    "            swap(&A[i], &A[i-1]);\n",
    "            return i; \n",
    "        }\n",
    "    }    \n",
    "    return -1;\n",
    "}"
   ]
  },
  {
   "cell_type": "code",
   "execution_count": 6,
   "metadata": {},
   "outputs": [],
   "source": [
    "int Array::LinearSearchMoveToHead(int key){\n",
    "    for(int i=0;i<length;i++){\n",
    "        if (key==A[i]){\n",
    "            swap(&A[i], &A[0]);\n",
    "            return i; \n",
    "        }\n",
    "    }    \n",
    "    return -1;\n",
    "}"
   ]
  },
  {
   "cell_type": "code",
   "execution_count": 7,
   "metadata": {},
   "outputs": [],
   "source": [
    "void Array::Insert(int index, int x){\n",
    "   if  (index>=0 && index<=length){\n",
    "     for(int i=length-1;i>=index;i--)\n",
    "         A[i+1]=A[i];\n",
    "     A[index]=x;\n",
    "     length++;  \n",
    "   }\n",
    "}"
   ]
  },
  {
   "cell_type": "code",
   "execution_count": 8,
   "metadata": {},
   "outputs": [],
   "source": [
    "void Array::Display(){\n",
    "    for(int i=0; i<length;i++)\n",
    "      cout<<A[i]<<\" \";      \n",
    "    cout<<endl;      \n",
    "}"
   ]
  },
  {
   "cell_type": "code",
   "execution_count": 9,
   "metadata": {},
   "outputs": [],
   "source": [
    "Array arr(10);\n",
    "arr.Insert(0,8);\n",
    "arr.Insert(1,9);\n",
    "arr.Insert(2,4);\n",
    "arr.Insert(3,7);\n",
    "arr.Insert(4,6);\n",
    "arr.Insert(5,3);\n",
    "arr.Insert(6,10);\n",
    "arr.Insert(7,5);\n",
    "arr.Insert(8,14);\n",
    "arr.Insert(9,2);"
   ]
  },
  {
   "cell_type": "code",
   "execution_count": 10,
   "metadata": {},
   "outputs": [
    {
     "name": "stdout",
     "output_type": "stream",
     "text": [
      "7\n"
     ]
    }
   ],
   "source": [
    "cout<<arr.LinearSearch(5)<<endl;"
   ]
  },
  {
   "cell_type": "code",
   "execution_count": null,
   "metadata": {},
   "outputs": [],
   "source": [
    "arr.Display();"
   ]
  },
  {
   "cell_type": "code",
   "execution_count": 11,
   "metadata": {},
   "outputs": [
    {
     "name": "stdout",
     "output_type": "stream",
     "text": [
      "7\n"
     ]
    }
   ],
   "source": [
    "cout<<arr.LinearSearchTransposition(5)<<endl;"
   ]
  },
  {
   "cell_type": "code",
   "execution_count": 12,
   "metadata": {},
   "outputs": [
    {
     "name": "stdout",
     "output_type": "stream",
     "text": [
      "8 9 4 7 6 3 5 10 14 2 \n"
     ]
    }
   ],
   "source": [
    "arr.Display();"
   ]
  },
  {
   "cell_type": "code",
   "execution_count": 13,
   "metadata": {},
   "outputs": [
    {
     "name": "stdout",
     "output_type": "stream",
     "text": [
      "6\n"
     ]
    }
   ],
   "source": [
    "cout<<arr.LinearSearchMoveToHead(5)<<endl;"
   ]
  },
  {
   "cell_type": "code",
   "execution_count": 14,
   "metadata": {},
   "outputs": [
    {
     "name": "stdout",
     "output_type": "stream",
     "text": [
      "5 9 4 7 6 3 8 10 14 2 \n"
     ]
    }
   ],
   "source": [
    "arr.Display();"
   ]
  },
  {
   "cell_type": "markdown",
   "metadata": {},
   "source": [
    "## Improvement of Linear Search\n",
    "\n",
    "Size = 10\n",
    "\n",
    "Length = 10\n",
    "\n",
    "How to read the table:\n",
    "\n",
    "1. First row contains the value(s)\n",
    "2. Second row contains the index\n",
    "\n",
    "\n",
    "$$\n",
    "\\newcommand\\T{\\Rule{0pt}{1em}{.3em}}\n",
    "\\begin{array}{|r|r|r|r|r|r|r|r|r|r|}\n",
    "\\hline \n",
    "8\\T&9\\T&4\\T&7\\T&6\\T&3\\T&10\\T&5\\T&14\\T&2  \\\\\\hline \n",
    "_0\\T&_1\\T&_2\\T&_3\\T&_4\\T&_5\\T&_6\\T&_7\\T&_8\\T&_9  \\\\\\hline \n",
    "\\end{array}\n",
    "$$\n",
    "\n",
    "The table must have unique elements.\n",
    "\n",
    "\n",
    "So if we found element, why dont we:\n",
    "\n",
    "1. Move the that element to front, $index=0$ . swap with first element. This method is called Move to head\n",
    "\n",
    "```\n",
    "swap(A[i], A[0])\n",
    "```\n",
    "$$\n",
    "\\newcommand\\T{\\Rule{0pt}{1em}{.3em}}\n",
    "\\begin{array}{|r|r|r|r|r|r|r|r|r|r|}\n",
    "\\hline \n",
    "8\\T&9\\T&4\\T&7\\T&6\\T&3\\T&5\\T&10\\T&14\\T&2  \\\\\\hline \n",
    "_0\\T&_1\\T&_2\\T&_3\\T&_4\\T&_5\\T&_6\\T&_7\\T&_8\\T&_9  \\\\\\hline \n",
    "\\end{array}\n",
    "$$\n",
    "\n",
    "2. Or move the key element  to previous location, $n-1$. And this may be done multiple times. This method is called Transposition:\n",
    "\n",
    "```\n",
    "swap(A[i], A[i-1])\n",
    "```\n",
    "$$\n",
    "\\newcommand\\T{\\Rule{0pt}{1em}{.3em}}\n",
    "\\begin{array}{|r|r|r|r|r|r|r|r|r|r|}\n",
    "\\hline \n",
    "5\\T&9\\T&4\\T&7\\T&6\\T&3\\T&10\\T&8\\T&14\\T&2  \\\\\\hline \n",
    "_0\\T&_1\\T&_2\\T&_3\\T&_4\\T&_5\\T&_6\\T&_7\\T&_8\\T&_9  \\\\\\hline \n",
    "\\end{array}\n",
    "$$"
   ]
  },
  {
   "cell_type": "code",
   "execution_count": null,
   "metadata": {},
   "outputs": [],
   "source": []
  }
 ],
 "metadata": {
  "kernelspec": {
   "display_name": "C++17",
   "language": "C++17",
   "name": "xcpp17"
  },
  "language_info": {
   "codemirror_mode": "text/x-c++src",
   "file_extension": ".cpp",
   "mimetype": "text/x-c++src",
   "name": "c++",
   "version": "17"
  }
 },
 "nbformat": 4,
 "nbformat_minor": 2
}

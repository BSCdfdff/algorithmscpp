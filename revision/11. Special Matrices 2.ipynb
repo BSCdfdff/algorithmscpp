{
 "cells": [
  {
   "cell_type": "markdown",
   "metadata": {},
   "source": [
    "# Messing with\n",
    "\n",
    "1. Special Matrices, here we have manuy zeros (such as statistical or spacial data)\n",
    "\n",
    "\n",
    "\n",
    "3. Continued...\n",
    "    Essence here:\n",
    "        + Only lower left side (forming a triangle) of Matrix, has values > 0, and where i>=j>0\n",
    "        + Still use ONLY 1D array\n",
    "        + But now using Row or column Major mapping.\n",
    "    \n",
    "    Set size of array (non zero elements). Important: This is the total number of elements in lower triangle.\n",
    "    \n",
    "##  $$  \\frac {n(n+1)}{2} $$\n",
    "    \n",
    "    Get/Set i and j (Row Major): This is the index value of our 1D Array\n",
    "    \n",
    "## $$\\frac {i(i-1)}{2} + j -1 $$    \n",
    "    \n",
    "    Get/Set i and j (Column Major): This is the index value of our 1D Array\n",
    "    \n",
    "## $$j(j-1) - \\frac {(j-2)(j-1)}{2} + (i - j) $$\n",
    "\n",
    "    Remember when dealing with matrix, we start counting from 1, not 0. So how do we solved it: Trick: When we store, we store from 1. And when we display, we display from 1.\n",
    "    \n"
   ]
  },
  {
   "cell_type": "code",
   "execution_count": 11,
   "metadata": {},
   "outputs": [],
   "source": [
    "#include <iostream>\n",
    "#include <climits>\n",
    "#include <bitset>\n",
    "#include <math.h>\n",
    "#include <string>\n",
    "#define INSERTION_OPERATOR operator>>\n",
    "#define EXTRACTION_OPERATOR operator<<\n",
    "\n",
    "#define ADDITION_OPERATOR operator+\n",
    "#define SUBTRACT_OPERATOR operator-\n",
    "#define n 8\n",
    "//#define n 16\n",
    "using namespace std;"
   ]
  },
  {
   "cell_type": "markdown",
   "metadata": {},
   "source": [
    "## Higher Triangular"
   ]
  },
  {
   "cell_type": "code",
   "execution_count": 2,
   "metadata": {},
   "outputs": [],
   "source": [
    "class HigherTri{\n",
    "private:\n",
    "    int *A;\n",
    "    int size;\n",
    "    int len;\n",
    "    \n",
    "public:    \n",
    "    HigherTri(){\n",
    "        size = 2;\n",
    "        A=new int[2*(2+1)/2];\n",
    "        len=0;\n",
    "    }\n",
    "    \n",
    "    HigherTri(int sz){\n",
    "        size = sz;\n",
    "        A = new int[sz*(sz+1)/2];\n",
    "        len=0;\n",
    "    }\n",
    "    \n",
    "    ~HigherTri(){\n",
    "        delete []A;\n",
    "    }\n",
    "    \n",
    "    void DisplayRowMM();\n",
    "    void DisplayColMM();\n",
    "    void SetRowMM(int i, int j, int x);\n",
    "    void SetColMM(int i, int j, int x);\n",
    "    int GetRowMM(int i, int j);\n",
    "    int GetColMM(int i, int j);\n",
    "    \n",
    "}   "
   ]
  },
  {
   "cell_type": "code",
   "execution_count": 3,
   "metadata": {},
   "outputs": [],
   "source": [
    "void HigherTri::DisplayRowMM(){\n",
    "     for (int i=1;i <= size;i++ ){\n",
    "        for (int j=1;j <= size;j++ ){\n",
    "            if (i<=j)\n",
    "                cout<<A[i*(i-1) - (i-2)*(i-1)/2 + (j - i)]<<\" \";\n",
    "            else\n",
    "                cout<<0<<\" \";\n",
    "        }    \n",
    "        cout<<endl; \n",
    "    }\n",
    "\n",
    "};"
   ]
  },
  {
   "cell_type": "code",
   "execution_count": 4,
   "metadata": {},
   "outputs": [],
   "source": [
    "void HigherTri::DisplayColMM(){\n",
    "    for (int i=1;i <= size;i++ ){\n",
    "        for (int j=1;j <= size;j++ ){\n",
    "            if (i<=j)\n",
    "                cout<<A[j*(j-1)/2 + i -1]<<\" \";\n",
    "            else\n",
    "                cout<<0<<\" \";\n",
    "        }    \n",
    "        cout<<endl; \n",
    "    }\n",
    "    \n",
    "};"
   ]
  },
  {
   "cell_type": "code",
   "execution_count": 5,
   "metadata": {},
   "outputs": [],
   "source": [
    "void HigherTri::SetRowMM(int i, int j, int x){\n",
    "    if (i<=j){\n",
    "        A[i*(i-1) - (i-2)*(i-1)/2 + (j - i)]=x;\n",
    "    }\n",
    "};"
   ]
  },
  {
   "cell_type": "code",
   "execution_count": 6,
   "metadata": {},
   "outputs": [],
   "source": [
    "void HigherTri::SetColMM(int i, int j, int x){\n",
    "    if (i<=j){\n",
    "        A[j*(j-1)/2 + i -1]=x;\n",
    "    }\n",
    "};"
   ]
  },
  {
   "cell_type": "code",
   "execution_count": 7,
   "metadata": {},
   "outputs": [],
   "source": [
    "int HigherTri::GetRowMM(int i, int j){\n",
    "    if (i<=j){\n",
    "        return  A[i*(i-1) - (i-2)*(i-1)/2 + (j - i)];\n",
    "    }\n",
    "    \n",
    "    return 0;\n",
    "};"
   ]
  },
  {
   "cell_type": "code",
   "execution_count": 8,
   "metadata": {},
   "outputs": [],
   "source": [
    "int HigherTri::GetColMM(int i, int j){ \n",
    "     if (i<=j){\n",
    "        return  A[j*(j-1)/2 + i -1];\n",
    "    }\n",
    "    \n",
    "    return 0;\n",
    "};"
   ]
  },
  {
   "cell_type": "code",
   "execution_count": 9,
   "metadata": {},
   "outputs": [
    {
     "name": "stdout",
     "output_type": "stream",
     "text": [
      "Enter dimensions of matrix: 5\n",
      "Enter all the elements: \n",
      "5 4 7 8 1\n",
      "0 2 4 5 9\n",
      "0 0 2 7 5\n",
      "0 0 0 5 6\n",
      "0 0 0 0 9\n",
      "High Tri Matrix\n",
      "2\n",
      "2\n",
      "5 4 2 4 5 \n",
      "0 2 4 5 2 \n",
      "0 0 2 7 5 \n",
      "0 0 0 5 6 \n",
      "0 0 0 0 9 \n"
     ]
    }
   ],
   "source": [
    "int hdim;\n",
    "cout<<\"Enter dimensions of matrix: \";\n",
    "cin>>hdim;\n",
    "\n",
    "HigherTri h(hdim);\n",
    "\n",
    "int hx;\n",
    "\n",
    "cout<<\"Enter all the elements: \"<<endl;\n",
    "for (int i=1;i <= hdim;i++ ){\n",
    "    for (int j=1;j <= hdim;j++ ){\n",
    "        cin>>hx;\n",
    "        h.SetRowMM(i,j,hx);\n",
    "    }    \n",
    "}\n",
    "\n",
    "cout<<\"High Tri Matrix\"<<endl;\n",
    "cout<<h.GetRowMM(3,3)<<endl;\n",
    "cout<<h.GetRowMM(1,3)<<endl;\n",
    "\n",
    "h.DisplayRowMM();"
   ]
  },
  {
   "cell_type": "code",
   "execution_count": 10,
   "metadata": {},
   "outputs": [
    {
     "name": "stdout",
     "output_type": "stream",
     "text": [
      "Enter dimensions of matrix: 5\n",
      "Enter all the elements: \n",
      "5 4 2 4 5\n",
      "0 2 4 5 2\n",
      "0 0 2 7 5\n",
      "0 0 0 5 6\n",
      "0 0 0 0 9\n",
      "Low Tri Matrix - Column\n",
      "2\n",
      "2\n",
      "5 4 2 4 5 \n",
      "0 2 4 5 2 \n",
      "0 0 2 7 5 \n",
      "0 0 0 5 6 \n",
      "0 0 0 0 9 \n"
     ]
    }
   ],
   "source": [
    "int hdm;\n",
    "cout<<\"Enter dimensions of matrix: \";\n",
    "cin>>hdm;\n",
    "\n",
    "HigherTri hc(hdm);\n",
    "\n",
    "int hy;\n",
    "\n",
    "cout<<\"Enter all the elements: \"<<endl;\n",
    "for (int i=1;i <= hdm;i++ ){\n",
    "    for (int j=1;j <= hdm;j++ ){\n",
    "        cin>>hy;\n",
    "        hc.SetColMM(i,j,hy);\n",
    "    }    \n",
    "}\n",
    "\n",
    "cout<<\"High Tri Matrix - Column\"<<endl;\n",
    "cout<<hc.GetColMM(3,3)<<endl;\n",
    "cout<<hc.GetColMM(1,3)<<endl;\n",
    "\n",
    "hc.DisplayColMM();\n"
   ]
  },
  {
   "cell_type": "code",
   "execution_count": null,
   "metadata": {},
   "outputs": [],
   "source": []
  },
  {
   "cell_type": "markdown",
   "metadata": {},
   "source": [
    "## Lower Triangular\n"
   ]
  },
  {
   "cell_type": "code",
   "execution_count": 12,
   "metadata": {},
   "outputs": [],
   "source": [
    "class LowerTri{\n",
    "private:\n",
    "    int *A;\n",
    "    int size;\n",
    "    int len;\n",
    "    \n",
    "public:    \n",
    "    LowerTri(){\n",
    "        size = 2;\n",
    "        A=new int[2*(2+1)/2];\n",
    "        len=0;\n",
    "    }\n",
    "    \n",
    "    LowerTri(int sz){\n",
    "        size = sz;\n",
    "        A = new int[sz*(sz+1)/2];\n",
    "        len=0;\n",
    "    }\n",
    "    \n",
    "    ~LowerTri(){\n",
    "        delete []A;\n",
    "    }\n",
    "    \n",
    "    void DisplayRowMM();\n",
    "    void DisplayColMM();\n",
    "    void SetRowMM(int i, int j, int x);\n",
    "    void SetColMM(int i, int j, int x);\n",
    "    int GetRowMM(int i, int j);\n",
    "    int GetColMM(int i, int j);\n",
    "    \n",
    "}   "
   ]
  },
  {
   "cell_type": "code",
   "execution_count": 13,
   "metadata": {},
   "outputs": [],
   "source": [
    "void LowerTri::DisplayRowMM(){\n",
    "     for (int i=1;i <= size;i++ ){\n",
    "        for (int j=1;j <= size;j++ ){\n",
    "            if (i>=j)\n",
    "                cout<<A[(i*(i-1)/2) + j -1]<<\" \";\n",
    "            else\n",
    "                cout<<0<<\" \";\n",
    "        }    \n",
    "        cout<<endl; \n",
    "    }\n",
    "\n",
    "};"
   ]
  },
  {
   "cell_type": "code",
   "execution_count": 14,
   "metadata": {},
   "outputs": [],
   "source": [
    "void LowerTri::DisplayColMM(){\n",
    "    for (int i=1;i <= size;i++ ){\n",
    "        for (int j=1;j <= size;j++ ){\n",
    "            if (i>=j)\n",
    "                cout<<A[(i*(j-1) - (j-2)*(j-1)/2) + (i - j)]<<\" \";\n",
    "            else\n",
    "                cout<<0<<\" \";\n",
    "        }    \n",
    "        cout<<endl; \n",
    "    }\n",
    "    \n",
    "};"
   ]
  },
  {
   "cell_type": "code",
   "execution_count": 15,
   "metadata": {},
   "outputs": [],
   "source": [
    "void LowerTri::SetRowMM(int i, int j, int x){\n",
    "    if (i>=j){\n",
    "       A[(i*(i-1)/2) + j -1]=x;\n",
    "    }\n",
    "};"
   ]
  },
  {
   "cell_type": "code",
   "execution_count": 16,
   "metadata": {},
   "outputs": [],
   "source": [
    "void LowerTri::SetColMM(int i, int j, int x){\n",
    "    if (i>=j){\n",
    "       A[(i*(j-1) - (j-2)*(j-1)/2) + (i - j)]=x;\n",
    "    }\n",
    "};"
   ]
  },
  {
   "cell_type": "code",
   "execution_count": 17,
   "metadata": {},
   "outputs": [],
   "source": [
    "int LowerTri::GetRowMM(int i, int j){\n",
    "    if (i>=j){\n",
    "        return A[(i*(i-1)/2) + j -1];\n",
    "    }\n",
    "    \n",
    "    return 0;\n",
    "};"
   ]
  },
  {
   "cell_type": "code",
   "execution_count": 18,
   "metadata": {},
   "outputs": [],
   "source": [
    "int LowerTri::GetColMM(int i, int j){ \n",
    "     if (i>=j){\n",
    "        return A[(i*(j-1) - (j-2)*(j-1)/2) + (i - j)];\n",
    "    }\n",
    "    \n",
    "    return 0;\n",
    "};"
   ]
  },
  {
   "cell_type": "code",
   "execution_count": 19,
   "metadata": {},
   "outputs": [
    {
     "name": "stdout",
     "output_type": "stream",
     "text": [
      "Enter dimensions of matrix: 5\n",
      "Enter all the elements: \n",
      "1 0 0 0 0\n",
      "1 5 0 0 0\n",
      "6 5 7 0 0\n",
      "5 7 8 4 0\n",
      "6 8 7 4 5\n",
      "Low Tri Matrix\n",
      "7\n",
      "0\n",
      "1 0 0 0 0 \n",
      "1 5 0 0 0 \n",
      "6 5 7 0 0 \n",
      "5 7 8 4 0 \n",
      "6 8 7 4 5 \n"
     ]
    }
   ],
   "source": [
    "int dim;\n",
    "cout<<\"Enter dimensions of matrix: \";\n",
    "cin>>dim;\n",
    "\n",
    "LowerTri l(dim);\n",
    "\n",
    "int x;\n",
    "\n",
    "cout<<\"Enter all the elements: \"<<endl;\n",
    "for (int i=1;i <= dim;i++ ){\n",
    "    for (int j=1;j <= dim;j++ ){\n",
    "        cin>>x;\n",
    "        l.SetRowMM(i,j,x);\n",
    "    }    \n",
    "}\n",
    "\n",
    "cout<<\"Low Tri Matrix\"<<endl;\n",
    "cout<<l.GetRowMM(3,3)<<endl;\n",
    "cout<<l.GetRowMM(1,3)<<endl;\n",
    "\n",
    "l.DisplayRowMM();"
   ]
  },
  {
   "cell_type": "code",
   "execution_count": 20,
   "metadata": {},
   "outputs": [
    {
     "name": "stdout",
     "output_type": "stream",
     "text": [
      "Enter dimensions of matrix: 5\n",
      "Enter all the elements: \n",
      "1 0 0 0 0\n",
      "1 5 0 0 0\n",
      "6 5 7 0 0\n",
      "5 7 8 4 0\n",
      "6 8 7 4 5\n",
      "Low Tri Matrix - Column\n",
      "7\n",
      "0\n",
      "1 0 0 0 0 \n",
      "1 6 0 0 0 \n",
      "6 6 7 0 0 \n",
      "5 7 8 4 0 \n",
      "6 8 7 4 5 \n"
     ]
    }
   ],
   "source": [
    "int dm;\n",
    "cout<<\"Enter dimensions of matrix: \";\n",
    "cin>>dm;\n",
    "\n",
    "LowerTri lc(dm);\n",
    "\n",
    "int y;\n",
    "\n",
    "cout<<\"Enter all the elements: \"<<endl;\n",
    "for (int i=1;i <= dm;i++ ){\n",
    "    for (int j=1;j <= dm;j++ ){\n",
    "        cin>>y;\n",
    "        lc.SetColMM(i,j,y);\n",
    "    }    \n",
    "}\n",
    "\n",
    "cout<<\"Low Tri Matrix - Column\"<<endl;\n",
    "cout<<lc.GetColMM(3,3)<<endl;\n",
    "cout<<lc.GetColMM(1,3)<<endl;\n",
    "\n",
    "lc.DisplayColMM();\n"
   ]
  },
  {
   "cell_type": "markdown",
   "metadata": {},
   "source": [
    "## Diagonal"
   ]
  },
  {
   "cell_type": "code",
   "execution_count": 21,
   "metadata": {},
   "outputs": [],
   "source": [
    "class Diagonal{\n",
    "private:\n",
    "    int *A;\n",
    "    int size;\n",
    "    int len;\n",
    "    \n",
    "public:    \n",
    "    Diagonal(){\n",
    "        size = 10;\n",
    "        A = new int[size];\n",
    "        len=0;\n",
    "    }\n",
    "    \n",
    "    Diagonal(int sz){\n",
    "        size = sz;\n",
    "        A = new int[size];\n",
    "        len=0;\n",
    "    }\n",
    "    \n",
    "    ~Diagonal(){\n",
    "        delete []A;\n",
    "    }\n",
    "    \n",
    "    void Display();\n",
    "    void Set(int i, int j, int x);\n",
    "    int Get(int i, int j);\n",
    "    \n",
    "}   \n",
    "    "
   ]
  },
  {
   "cell_type": "code",
   "execution_count": 22,
   "metadata": {},
   "outputs": [],
   "source": [
    "void Diagonal::Display(){\n",
    "    for (int i=0;i < size;i++ ){\n",
    "        for (int j=0;j < size;j++ ){\n",
    "            if (i==j)\n",
    "                cout<<A[i]<<\" \";\n",
    "            else\n",
    "                cout<<0<<\" \";\n",
    "        }    \n",
    "        cout<<endl; \n",
    "    }\n",
    "    cout<<endl;\n",
    "}"
   ]
  },
  {
   "cell_type": "code",
   "execution_count": 23,
   "metadata": {},
   "outputs": [],
   "source": [
    "void Diagonal::Set(int i , int j, int x){\n",
    "    if (i==j){\n",
    "        A[i-1]=x;\n",
    "    }\n",
    "}"
   ]
  },
  {
   "cell_type": "code",
   "execution_count": 24,
   "metadata": {},
   "outputs": [],
   "source": [
    "int Diagonal::Get(int i , int j){\n",
    "  \n",
    "    if (i==j){\n",
    "      return A[i-1];\n",
    "   }\n",
    "   return  0;\n",
    "}"
   ]
  },
  {
   "cell_type": "code",
   "execution_count": 25,
   "metadata": {},
   "outputs": [
    {
     "name": "stdout",
     "output_type": "stream",
     "text": [
      "1 0 0 0 0 \n",
      "0 2 0 0 0 \n",
      "0 0 3 0 0 \n",
      "0 0 0 4 0 \n",
      "0 0 0 0 5 \n",
      "\n"
     ]
    }
   ],
   "source": [
    "Diagonal d(5);\n",
    "\n",
    "d.Set(1,1,1);\n",
    "d.Set(2,2,2);\n",
    "d.Set(3,3,3);\n",
    "d.Set(4,4,4);\n",
    "d.Set(5,5,5);\n",
    "d.Display();"
   ]
  },
  {
   "cell_type": "code",
   "execution_count": 26,
   "metadata": {},
   "outputs": [
    {
     "name": "stdout",
     "output_type": "stream",
     "text": [
      "2\n",
      "0\n"
     ]
    }
   ],
   "source": [
    "cout<<d.Get(2,2)<<endl;\n",
    "cout<<d.Get(1,2)<<endl;"
   ]
  },
  {
   "cell_type": "code",
   "execution_count": null,
   "metadata": {},
   "outputs": [],
   "source": []
  }
 ],
 "metadata": {
  "kernelspec": {
   "display_name": "C++17",
   "language": "C++17",
   "name": "xcpp17"
  },
  "language_info": {
   "codemirror_mode": "text/x-c++src",
   "file_extension": ".cpp",
   "mimetype": "text/x-c++src",
   "name": "c++",
   "version": "17"
  }
 },
 "nbformat": 4,
 "nbformat_minor": 2
}

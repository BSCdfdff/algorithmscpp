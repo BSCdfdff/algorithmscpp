{
 "cells": [
  {
   "cell_type": "markdown",
   "metadata": {},
   "source": [
    "# Array ADT\n",
    "\n",
    "+ Finding single missing elements (sorted/unsorted array)\n",
    "+ Finding multiple missing elements (sorted/unsorted array)\n",
    "+ Finding duplicates elements (sorted/unsorted array)\n",
    "+ Finding pair of elements (sorted/unsorted array)\n",
    "+ Finding Min Max elements (sorted/unsorted array)\n"
   ]
  },
  {
   "cell_type": "markdown",
   "metadata": {},
   "source": [
    "## Finding a single missing element in unsorted array\n",
    "\n",
    "## Hashing\n",
    "\n",
    "___\n",
    "\n",
    "Lets call this A\n",
    "\n",
    "$$\n",
    "\\newcommand\\T{\\Rule{0pt}{1em}{.3em}}\n",
    "\\begin{array}{|r|r|r|r|r|r|r|r|r|r|}\n",
    "\\hline \n",
    "3\\T&7\\T&4\\T&9\\T&12\\T&6\\T&1\\T&11\\T&2\\T&10  \\\\\\hline \n",
    "_0\\T&_1\\T&_2\\T&_3\\T&_4\\T&_5\\T&_6\\T&_7\\T&_8\\T&_9 \\\\\\hline \n",
    "\\end{array}\n",
    "$$\n",
    "\n",
    "$$$$\n",
    "\n",
    "Lets call this H. \n",
    "\n",
    "$$\n",
    "\\newcommand\\T{\\Rule{0pt}{1em}{.3em}}\n",
    "\\begin{array}{|r|r|r|r|r|r|r|r|r|r|}\n",
    "\\hline \n",
    "0\\T&0\\T&0\\T&0\\T&0\\T&0\\T&0\\T&0\\T&0\\T&0\\T&0\\T&0\\T&0    \\\\\\hline \n",
    "_0\\T&_1\\T&_2\\T&_3\\T&_4\\T&_5\\T&_6\\T&_7\\T&_8\\T&_9\\T&_{10}\\T&_{11}\\T&_{12} \\\\\\hline \n",
    "\\end{array}\n",
    "$$\n",
    "\n",
    "This is a faster method for finding missing elements in sequence of elements.This array is equal to the highest value of $A$ or maximum element of sequence. That is $12$ elements. And initialise the array with $0$.\n",
    "\n",
    "\n",
    "Here we have \n",
    " \n",
    "1. Lower bound value = $1$\n",
    "2. Highest value = $12$\n",
    "3. Length = $10$ (n, number of elements)\n",
    "\n",
    "\n",
    "And missing element is $5$ and $8$\n",
    "\n",
    "Procedure. Go through the elements of $A$, and get same $\\text{INDEX}$ of $H$, and change the value from $0$ to $1$. That we have $3$ from $A$, and set $\\text{index} 3$ in $H$ equal to $1$. Then we get $7$ in $A$, set index $7$ in $H$ to $1$. And carry on.\n",
    "\n",
    "\n",
    "$$\n",
    "\\newcommand\\T{\\Rule{0pt}{1em}{.3em}}\n",
    "\\begin{array}{|r|r|r|r|r|r|r|r|r|r|}\n",
    "\\hline \\require{cancel}  \n",
    "0\\T&\\cancel{0}1\\T&\\cancel{0}1\\T&\\cancel{0}1\\T&\\cancel{0}1\\T&0\\T&\\cancel{0}1\\T&\\cancel{0}1\\T&0\\T&\\cancel{0}1\\T&\\cancel{0}1\\T&\\cancel{0}1\\T&\\cancel{0}1    \\\\\\hline \n",
    "_0\\T&_1\\T&_2\\T&_3\\T&_4\\T&_5\\T&_6\\T&_7\\T&_8\\T&_9\\T&_{10}\\T&_{11}\\T&_{12} \\\\\\hline \n",
    "\\end{array}\n",
    "$$\n",
    "\n",
    "\n",
    "And what is left is the elements that are missing from $A$, that is $5$ and $8$. Ignore $0$ as lowest value, $l$ in $A$ is $1$. \n",
    "\n",
    "What is the work we have done? Lets analyses the time?\n",
    "\n",
    "Scanning list of elements, and increment value. so the time is constant. So most time, as spend searching\n",
    "\n",
    "This H array is called HASH table. Ideal time for hashing is constant time. This is simplest form of hashing. This technique takes some space, so if space is limited, then we may need to use some other technique.\n",
    "\n",
    "Time taken here is:\n",
    "\n",
    "$$\\text {O}(n)$$\n",
    "\n"
   ]
  },
  {
   "cell_type": "code",
   "execution_count": 1,
   "metadata": {},
   "outputs": [],
   "source": [
    "#include <iostream>\n",
    "#include <climits>\n",
    "#include <math.h>\n",
    "using namespace std;"
   ]
  },
  {
   "cell_type": "code",
   "execution_count": 2,
   "metadata": {},
   "outputs": [],
   "source": [
    "class Array{\n",
    "private:\n",
    "    int *A;\n",
    "    int size;\n",
    "    int length;\n",
    "    void Swap (int *x, int *y);\n",
    "    int SumNatNos(int y);\n",
    "    bool FindDiffenceSuccess (int x,int y, int z);\n",
    "public:\n",
    "    Array(){\n",
    "        size=10;\n",
    "        A=new int[10];\n",
    "        length = 0;\n",
    "        \n",
    "    }\n",
    "    Array(int sz){\n",
    "        size=sz;\n",
    "        A=new int[sz];\n",
    "        length = 0;\n",
    "        \n",
    "    }\n",
    "    ~Array(){\n",
    "        delete []A;\n",
    "    }\n",
    "    void Display();\n",
    "    void Insert (int index, int x);\n",
    "    void FindMissingElementsUseHashing(int l, int h);\n",
    "    \n",
    "}"
   ]
  },
  {
   "cell_type": "code",
   "execution_count": 3,
   "metadata": {},
   "outputs": [],
   "source": [
    "int Array::SumNatNos (int y){\n",
    "    return  (y*(1+y))/2;    \n",
    "}\n",
    "\n"
   ]
  },
  {
   "cell_type": "code",
   "execution_count": 4,
   "metadata": {},
   "outputs": [],
   "source": [
    "bool Array::FindDiffenceSuccess (int x, int y, int z){\n",
    "    int a=0;\n",
    "    a= x - y;\n",
    "    if (a==z){\n",
    "     return true;    \n",
    "    }\n",
    "    return false; \n",
    "}"
   ]
  },
  {
   "cell_type": "code",
   "execution_count": 5,
   "metadata": {},
   "outputs": [],
   "source": [
    "void Array::Swap (int *x, int *y){\n",
    "    int temp;\n",
    "    temp =*x;\n",
    "    *x=*y;\n",
    "    *y = temp;\n",
    "}"
   ]
  },
  {
   "cell_type": "code",
   "execution_count": 6,
   "metadata": {},
   "outputs": [],
   "source": [
    "void Array::FindMissingElementsUseHashing (int l, int h){\n",
    "    int *H = new int[12];\n",
    "    \n",
    "    for (int j = 0; j<h; j++) \n",
    "       H[j]=0;\n",
    "    \n",
    "    //same H[A[i]]=1\n",
    "    for(int i=0; i < length; i++ ){\n",
    "        H[A[i]]++;\n",
    "    }\n",
    "    \n",
    "    for (int j = 0; j<12; j++) \n",
    "       cout<<H[j]<<\" \";      \n",
    "    cout<<endl;      \n",
    "\n",
    "    for (int j = 1; j<12-1; j++) {\n",
    "        if (H[j]==0)\n",
    "         cout<<j<<\" \";     \n",
    "    }\n",
    "    cout<<endl;      \n",
    "      \n",
    "     \n",
    "}"
   ]
  },
  {
   "cell_type": "code",
   "execution_count": 7,
   "metadata": {},
   "outputs": [],
   "source": [
    "void Array::Insert(int index, int x){\n",
    "   if  (index>=0 && index<=length){\n",
    "     for(int i=length-1;i>=index;i--)\n",
    "         A[i+1]=A[i];\n",
    "     A[index]=x;\n",
    "     length++;  \n",
    "   }\n",
    "}"
   ]
  },
  {
   "cell_type": "code",
   "execution_count": 8,
   "metadata": {},
   "outputs": [],
   "source": [
    "void Array::Display(){\n",
    "    for(int i=0; i<length;i++)\n",
    "      cout<<A[i]<<\" \";      \n",
    "    cout<<endl;      \n",
    "}"
   ]
  },
  {
   "cell_type": "code",
   "execution_count": 9,
   "metadata": {},
   "outputs": [
    {
     "name": "stdout",
     "output_type": "stream",
     "text": [
      "0 1 1 1 1 0 1 1 0 1 1 1 \n",
      "5 8 \n"
     ]
    }
   ],
   "source": [
    "Array arr(10);\n",
    "arr.Insert(0,3);\n",
    "arr.Insert(1,7);\n",
    "arr.Insert(2,4);\n",
    "arr.Insert(3,9); \n",
    "arr.Insert(4,12);\n",
    "arr.Insert(5,6);\n",
    "arr.Insert(6,1);\n",
    "arr.Insert(7,11);\n",
    "arr.Insert(8,2);\n",
    "arr.Insert(9,10);\n",
    "arr.FindMissingElementsUseHashing(1, 12);\n"
   ]
  },
  {
   "cell_type": "code",
   "execution_count": null,
   "metadata": {},
   "outputs": [],
   "source": []
  },
  {
   "cell_type": "code",
   "execution_count": null,
   "metadata": {},
   "outputs": [],
   "source": []
  }
 ],
 "metadata": {
  "kernelspec": {
   "display_name": "C++17",
   "language": "C++17",
   "name": "xcpp17"
  },
  "language_info": {
   "codemirror_mode": "text/x-c++src",
   "file_extension": ".cpp",
   "mimetype": "text/x-c++src",
   "name": "c++",
   "version": "-std=c++17"
  }
 },
 "nbformat": 4,
 "nbformat_minor": 2
}

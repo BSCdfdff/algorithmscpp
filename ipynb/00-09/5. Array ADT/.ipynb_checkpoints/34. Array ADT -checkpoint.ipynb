{
 "cells": [
  {
   "cell_type": "markdown",
   "metadata": {},
   "source": [
    "# Array ADT\n",
    "\n",
    "+ Abstract Data Type"
   ]
  },
  {
   "cell_type": "markdown",
   "metadata": {},
   "source": [
    "## ADT - Astract Data Type\n",
    "\n",
    "Whats does ADT mean:\n",
    "\n",
    "Representation of Data\n",
    "1. Array space\n",
    "2. Size\n",
    "3. Length (no of elements)\n",
    "\n",
    "Array is a basic data structure provided by compiler. The representation of data is defined by the compiler.\n",
    "\n",
    "Operations on the Data\n",
    "1. Display()\n",
    "2. Add(x)/Append(x)\n",
    "3. Insert (index, x)\n",
    "4. Deleted (index)\n",
    "5. Search(x)\n",
    "6. Get (index)\n",
    "7. Set( index, x)\n",
    "8. Max()/Min(x)\n",
    "9. Reverse()\n",
    "10. Shift Rotate\n",
    "11. Etc\n",
    "\n",
    "Operations is not given by the compiler. We need to come up with those operations\n",
    "\n",
    "So the Representation of data and the operations on that data is defined as ADT.\n"
   ]
  },
  {
   "cell_type": "markdown",
   "metadata": {},
   "source": [
    "### Creating an array\n",
    "\n",
    "Can create a fixed size array\n",
    "\n",
    "```\n",
    "int A[10];\n",
    "```\n",
    "\n",
    "Or better, create an array whose size can vary:\n",
    "\n",
    "```\n",
    "int *A\n",
    "int size=10;\n",
    "A=new int [size];\n",
    "\n",
    "```"
   ]
  }
 ],
 "metadata": {
  "kernelspec": {
   "display_name": "C++17",
   "language": "C++17",
   "name": "xcpp17"
  },
  "language_info": {
   "codemirror_mode": "text/x-c++src",
   "file_extension": ".cpp",
   "mimetype": "text/x-c++src",
   "name": "c++",
   "version": "-std=c++17"
  }
 },
 "nbformat": 4,
 "nbformat_minor": 2
}

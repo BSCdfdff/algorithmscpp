{
 "cells": [
  {
   "cell_type": "markdown",
   "metadata": {},
   "source": [
    "# Graphs\n",
    "\n",
    "___\n",
    "+ Depth First Search (DFS) Algorithm\n"
   ]
  },
  {
   "cell_type": "markdown",
   "metadata": {},
   "source": [
    "## Depth First Search (BFS) Algorithm\n",
    "\n",
    "____\n",
    "\n",
    "\n",
    "```\n",
    "\n",
    "                                 +---+        +---+\n",
    "                                 | 1 | +----+ | 2 |\n",
    "                                 +---+ +-+    +---+\n",
    "                                   +     |      +\n",
    "                                   |     |      | \n",
    "                                   |     |      |\n",
    "                                   +     +---+  +\n",
    "                                 +---+       ++---+\n",
    "                                 | 4 | +----+ | 3 |\n",
    "                                 +---+        +---+\n",
    "                                     \\       /\n",
    "                                      \\     /\n",
    "                                       +---+\n",
    "                                       | 5 |\n",
    "                                       +---+\n",
    "                                      /     \\\n",
    "                                     /       \\\n",
    "                                 +---+        +---+\n",
    "                                 | 6 | +----+ | 7 |\n",
    "                                 +---+        +---+\n",
    "\n",
    "```\n",
    "\n",
    "We have seen that DFS uses a Stack. This will be the data structure that we going to use.\n",
    "\n",
    "\n",
    "And we have the following Adjency Matrix:\n",
    "\n",
    "The vertex is starting from 1, so we ignore index 0.\n",
    "\n",
    "$$\n",
    "\\newcommand\\T{\\Rule{0pt}{1em}{.3em}}\n",
    "\\begin{array}{r}\n",
    "{_0}  \\\\ \n",
    "{_1}  \\\\ \n",
    "{_2}  \\\\\n",
    "{_3}  \\\\\n",
    "{_4}  \\\\\n",
    "{_5}  \\\\\n",
    "{_6}  \\\\\n",
    "{_7}  \\\\\n",
    "\\end{array}\n",
    "\\begin{bmatrix}\n",
    "{} & {} & {} & {} & {} & {} & {} & {}\\\\\n",
    "{} & {0} & {1} & {1} & {1} & {0} & {0} & {0}\\\\\n",
    "{} & {1} & {0} & {1} & {0} & {0} & {0} & {0}\\\\\n",
    "{} & {1} & {1} & {0} & {1} & {1} & {0} & {0}\\\\\n",
    "{} & {1} & {0} & {1} & {0} & {1} & {0} & {0}\\\\\n",
    "{} & {0} & {0} & {1} & {1} & {0} & {1} & {1}\\\\\n",
    "{} & {0} & {0} & {0} & {0} & {1} & {0} & {0}\\\\\n",
    "{} & {0} & {0} & {0} & {0} & {1} & {0} & {0}\\\\\n",
    "\\end{bmatrix}\n",
    "$$\n",
    "\n",
    "$$\n",
    "\\newcommand\\T{\\Rule{0pt}{1em}{.3em}}\n",
    "\\begin{array}{r}\n",
    "{_0}&{_1}&{_2}&{_3}&{_4}&{_5}&{_6}&{_7}\n",
    "\\end{array}\n",
    "$$\n",
    "\n",
    "(So wherever there is an edge we have marked it as 1 in the adjency maytrix)\n",
    "\n",
    "For performing BFS, we need to know which verices have already been visited or still to be, so we will use array called called visited:\n",
    "\n",
    "$$\n",
    "visited = \n",
    "\\newcommand\\T{\\Rule{0pt}{.1em}{.3em}}\n",
    "\\begin{array}{|r|r|r|r|r|}\n",
    "\\hline \n",
    " {0}\\T&{0}\\T&{0}\\T&{0}\\T&{0}\\T&{0}\\T&{0}\\T&{0}  \\\\\\hline\n",
    "_{0}\\T&_{1}\\T&_{2} \\T&_{3}\\T&_{4} \\T&_{5}  \\T&_{6}  \\T&_{7}\\\\\n",
    "\\hline\n",
    "\\end{array}\n",
    "$$\n",
    "\n",
    "\n"
   ]
  },
  {
   "cell_type": "markdown",
   "metadata": {},
   "source": [
    "## "
   ]
  },
  {
   "cell_type": "markdown",
   "metadata": {},
   "source": []
  },
  {
   "cell_type": "code",
   "execution_count": null,
   "metadata": {},
   "outputs": [],
   "source": []
  },
  {
   "cell_type": "code",
   "execution_count": null,
   "metadata": {},
   "outputs": [],
   "source": []
  },
  {
   "cell_type": "code",
   "execution_count": null,
   "metadata": {},
   "outputs": [],
   "source": []
  },
  {
   "cell_type": "code",
   "execution_count": null,
   "metadata": {},
   "outputs": [],
   "source": []
  }
 ],
 "metadata": {
  "kernelspec": {
   "display_name": "C++17",
   "language": "C++17",
   "name": "xcpp17"
  },
  "language_info": {
   "codemirror_mode": "text/x-c++src",
   "file_extension": ".cpp",
   "mimetype": "text/x-c++src",
   "name": "c++",
   "version": "17"
  }
 },
 "nbformat": 4,
 "nbformat_minor": 2
}

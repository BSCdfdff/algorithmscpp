{
 "cells": [
  {
   "cell_type": "markdown",
   "metadata": {},
   "source": [
    "# Queues\n",
    "\n",
    "+ Circular Queues\n"
   ]
  },
  {
   "cell_type": "markdown",
   "metadata": {},
   "source": [
    "## Circular Queues\n",
    "\n",
    "___\n",
    "\n",
    "Note Here: front and rear should start at 0\n",
    "\n",
    "$$\n",
    "\\begin{array}{r}\n",
    "\\require{AMScd}\n",
    "&&&&@V V V _{f=2}&&@V V V _{r=5}\\\\\n",
    "\\end{array}\n",
    "$$\n",
    "\n",
    "$$\n",
    "\\newcommand\\T{\\Rule{0pt}{1em}{.3em}}\n",
    "\\begin{array}{|r|r|r|r|r|}\n",
    "\\hline \n",
    "\\T&\\T&\\T& 8\\T& 10\\T&6 \\\\\\hline\n",
    "_{0}\\T&_{1}\\T&_{2} \\T&_{3}\\T&_{4} \\T&_{5} \\\\\\hline\n",
    "\\hline\n",
    "\\end{array}\n",
    "$$\n",
    "\n",
    "\n",
    "Remember we implemented a front pointer, to take care of cutting the time of deletion. Thats is instead of shifting all the elements to the front. \n",
    "\n",
    "So from he above we can see the space in front is empty, but the queue is full. \n",
    "\n",
    "So is therea way to make use of the free space in front? Yes. \n",
    "\n",
    "We can start filling from the front again, i.e. this is a circular motion.\n",
    "\n",
    "$$\n",
    "\\begin{array}{r}\n",
    "\\require{AMScd}\n",
    "&&@V V V _{f=0}&&&&&@V V V _{r=5}\\\\\n",
    "\\end{array}\n",
    "$$\n",
    "\n",
    "$$\n",
    "\\newcommand\\T{\\Rule{0pt}{1em}{.3em}}\n",
    "\\begin{array}{|r|r|r|r|r|}\n",
    "\\hline \n",
    "7\\T&\\T&\\T& 8\\T& 10\\T&6 \\\\\\hline\n",
    "_{0}\\T&_{1}\\T&_{2} \\T&_{3}\\T&_{4} \\T&_{5} \\\\\\hline\n",
    "\\hline\n",
    "\\end{array}\n",
    "$$\n",
    "\n",
    "\n",
    "But we always leave a EMPTY space between the front and rear pointer.\n",
    "\n",
    "\n",
    "\n",
    "\n",
    "$$\n",
    "\\begin{array}{r}\n",
    "\\require{AMScd}\n",
    "&&@V V V _{f=1}&&&@V V V _{r=5}\\\\\n",
    "\\end{array}\n",
    "$$\n",
    "\n",
    "$$\n",
    "\\newcommand\\T{\\Rule{0pt}{1em}{.3em}}\n",
    "\\begin{array}{|r|r|r|r|r|}\n",
    "\\hline \n",
    "7\\T&9\\T&\\T& 8\\T& 10\\T&6 \\\\\\hline\n",
    "_{0}\\T&_{1}\\T&_{2} \\T&_{3}\\T&_{4} \\T&_{5} \\\\\\hline\n",
    "\\hline\n",
    "\\end{array}\n",
    "$$\n",
    "\n",
    "\n",
    "Is there a formula for performing this circular operation? We can use Mod."
   ]
  },
  {
   "cell_type": "markdown",
   "metadata": {},
   "source": [
    "## Using Mod\n",
    "\n",
    "___\n",
    "\n",
    "$$Size = 7$$\n",
    "\n",
    "$$\n",
    "\\newcommand\\T{\\Rule{0pt}{1em}{.3em}}\n",
    "\\begin{array}{|r|r|r|r|r|}\n",
    "\\hline \n",
    "\\T&\\T&\\T&\\T&\\T& \\\\\\hline\n",
    "_{0}\\T&_{1}\\T&_{2} \\T&_{3}\\T&_{4} \\T&_{5} \\T&_{6} \\\\\\hline\n",
    "\\hline\n",
    "\\end{array}\n",
    "$$\n",
    "\n",
    "\n",
    "Using mod operation to obtain circular values:\n",
    "\n",
    "Using rear pointer, but same applies for front pointer.\n",
    "\n",
    "\n",
    "We will be inserting from index 1 into the array.\n",
    "\n",
    "$$\n",
    "\\newcommand\\T{\\Rule{0pt}{1em}{.3em}}\n",
    "\\begin{array}{|r|r|r|}\n",
    "\\hline \n",
    "Rear\\T& Mod \\T& index \\\\\\hline\n",
    "0\\T& {(0+1) \\; \\% \\;7} \\T& 1 \\\\\\hline\n",
    "1\\T& {(1+1) \\; \\% \\;7} \\T& 2 \\\\\\hline\n",
    "2\\T& {(2+1) \\; \\% \\;7} \\T& 3 \\\\\\hline\n",
    "3\\T& {(3+1) \\; \\% \\;7} \\T& 4 \\\\\\hline\n",
    "4\\T& {(4+1) \\; \\% \\;7} \\T& 5 \\\\\\hline\n",
    "5\\T& {(5+1) \\; \\% \\;7} \\T& 5 \\\\\\hline\n",
    "6\\T& {(6+1) \\; \\% \\;7} \\T& 0 \\\\\\hline\n",
    "\\hline\n",
    "\\end{array}\n",
    "$$\n",
    "\n",
    "\n",
    "When the queue becomes full, we start inserting from 0 again. This formula allows us to insert in a circular motion.\n",
    "\n",
    "This method guarantees that empty space will be used, and the best method implementing a Queue,when you use an array as the physical data structure.\n"
   ]
  },
  {
   "cell_type": "markdown",
   "metadata": {},
   "source": [
    "## Circular Enqueue\n",
    "\n",
    "___\n",
    "\n",
    "To insert now we need to check if queue is full? how do we check for this?\n",
    "\n",
    "We have the two queue full scenarios:\n",
    "\n",
    "Scenario 1:\n",
    "\n",
    "\n",
    "Queue is full, when rear is infront of front.\n",
    "\n",
    "\n",
    "$$\n",
    "\\begin{array}{r}\n",
    "\\require{AMScd}\n",
    "&&@V V V _{r=2}@V V V _{f=4}\\\\\n",
    "\\end{array}\n",
    "$$\n",
    "\n",
    "\n",
    "\n",
    "$$\n",
    "\\newcommand\\T{\\Rule{0pt}{1em}{.3em}}\n",
    "\\begin{array}{|r|r|r|r|r|}\n",
    "\\hline \n",
    "{40}\\T& {50}\\T& {60}\\T&\\T&{10}\\T&{20}\\T&{30} \\\\\\hline\n",
    "_{0}\\T&_{1}\\T&_{2} \\T&_{3}\\T&_{4} \\T&_{5} \\T&_{6} \\\\\\hline\n",
    "\\hline\n",
    "\\end{array}\n",
    "$$\n",
    "\n",
    "\n",
    "Scenario 2:\n",
    "\n",
    "$$\n",
    "\\begin{array}{r}\n",
    "\\require{AMScd}\n",
    "&&@V V V _{f=0}&&&&&&&&@V V V _{r=6}&\\\\\n",
    "\\end{array}\n",
    "$$\n",
    "\n",
    "\n",
    "\n",
    "$$\n",
    "\\newcommand\\T{\\Rule{0pt}{1em}{.3em}}\n",
    "\\begin{array}{|r|r|r|r|r|}\n",
    "\\hline \n",
    "\\T& {10}\\T& {20}\\T&{30}\\T&{40}\\T&{50}\\T&{60} \\\\\\hline\n",
    "_{0}\\T&_{1}\\T&_{2} \\T&_{3}\\T&_{4} \\T&_{5} \\T&_{6} \\\\\\hline\n",
    "\\hline\n",
    "\\end{array}\n",
    "$$\n",
    "\n",
    "\n",
    "Queue is full, when next place of rear is the front.\n",
    "\n",
    "\n",
    "\n",
    "\n",
    "We need to update our IsFull definition:\n",
    "\n",
    "Using the mod definition:\n",
    "\n",
    "$$ (rear +1) \\; mod \\; size$$\n",
    "\n",
    "We get the next index to be inserted at 0,  but front is already on that positon, then the queue is full\n",
    "\n",
    "```\n",
    "int Queue::IsFull(){\n",
    "    if ((rear+1)%size==front)\n",
    "       return 1;\n",
    "    return 0;\n",
    "}\n",
    "\n",
    "```\n",
    "\n",
    "If it is not full, we get the next position using mod calculation.\n",
    "\n",
    "```\n",
    "void EnQueue(int x){\n",
    "   if (IsFull())\n",
    "      cout<<\"Queue Full\"<<endl;\n",
    "    else\n",
    "    {\n",
    "      rear = (rear+1)%size;\n",
    "      Q[rear] =x; \n",
    "    }\n",
    "}\n",
    "```\n",
    "\n",
    "\n"
   ]
  },
  {
   "cell_type": "markdown",
   "metadata": {},
   "source": [
    "## Circular Dequeue\n",
    "\n",
    "___\n",
    "\n",
    "Do we need to update out definition for IsEmpty. No it remains the same.\n",
    "\n",
    "Again we us the front pointer for deletion. But that is now circular.\n",
    "\n",
    "```\n",
    "int Queue::DeQueue (){\n",
    "    int x=-1;\n",
    "    if (IsEmpty())\n",
    "      cout<<\"Queue Empty\"<<endl;\n",
    "    else\n",
    "    {\n",
    "      front = (front+1)%size;\n",
    "      x=Q[front];\n",
    "    }\n",
    "    return x;\n",
    "}\n",
    "```\n",
    "\n"
   ]
  },
  {
   "cell_type": "markdown",
   "metadata": {},
   "source": [
    "## Display Circular Queue\n",
    "\n",
    "___\n",
    "\n",
    "\n",
    "Since we inserting using the mod calculation, we need to update display as well using mod.\n",
    "```\n",
    "void Queue::Display (){\n",
    "   int i = front+1;\n",
    "   int r =0;\n",
    "   do\n",
    "   {   cout<<Q[i]<<\" - \"<<i<< \" \";\n",
    "       i = (i+1)%size;\n",
    "       if (i ==0)  i++;\n",
    "       r =  (rear+1)%size;\n",
    "       if (r ==0) r++;\n",
    "   }while(i!= r);\n",
    "    cout<<endl;\n",
    "}\n",
    "```\n",
    "\n",
    "We need to note the following\n",
    "\n",
    "1. We do not insert at index 0, so we need to update: Queue, Dequeue, And Display respectively\n",
    "\n",
    "\n",
    "Enqueue:\n",
    "```\n",
    "if (rear ==0)  front++;\n",
    "```\n",
    "\n",
    "Dequeue\n",
    "```\n",
    "if (rear ==0)  rear++;\n",
    "```\n",
    "\n",
    "And Display above\n"
   ]
  },
  {
   "cell_type": "code",
   "execution_count": 1,
   "metadata": {},
   "outputs": [],
   "source": [
    "#include <iostream>\n",
    "#include <climits>\n",
    "#include <math.h>\n",
    "#define INSERTION_OPERATOR operator<<\n",
    "#define EXTRACTION_OPERATOR operator>>\n",
    "#define ADDITION_OPERATOR operator+\n",
    "using namespace std;"
   ]
  },
  {
   "cell_type": "code",
   "execution_count": 2,
   "metadata": {},
   "outputs": [
    {
     "name": "stdout",
     "output_type": "stream",
     "text": [
      "1\n"
     ]
    }
   ],
   "source": [
    "int rear1 = 0;\n",
    "int size1 =7;\n",
    "int ans1 = 0;\n",
    "ans1 = (rear1+1) % size1;\n",
    "\n",
    "cout<<ans1<<endl;"
   ]
  },
  {
   "cell_type": "code",
   "execution_count": 3,
   "metadata": {},
   "outputs": [],
   "source": [
    "class Queue{\n",
    "private:\n",
    "  int size;\n",
    "  int front;\n",
    "  int rear;\n",
    "  int *Q;  \n",
    "    \n",
    "public:\n",
    "    Queue(){\n",
    "        size=10;\n",
    "        front = rear = 0;\n",
    "        Q=new int[10];\n",
    "       \n",
    "        \n",
    "    }\n",
    "    Queue(int sz){\n",
    "        size=sz;\n",
    "        front = rear = 0;\n",
    "        Q=new int[sz];\n",
    "    }\n",
    "    ~Queue(){\n",
    "        delete []Q;\n",
    "    }\n",
    "    void Display();\n",
    "    void EnQueue(int x);\n",
    "    int DeQueue();\n",
    "    int IsFull();\n",
    "    int IsEmpty();\n",
    "    \n",
    "}"
   ]
  },
  {
   "cell_type": "code",
   "execution_count": 4,
   "metadata": {},
   "outputs": [],
   "source": [
    "void Queue::EnQueue(int x){\n",
    "    if (IsFull())\n",
    "      cout<<\"Queue Full\"<<endl;\n",
    "    else\n",
    "    {\n",
    "      rear = (rear+1)%size;\n",
    "      if (rear ==0)  rear++;\n",
    "      Q[rear] =x; \n",
    "    }\n",
    "}"
   ]
  },
  {
   "cell_type": "code",
   "execution_count": 5,
   "metadata": {},
   "outputs": [],
   "source": [
    "int Queue::DeQueue (){\n",
    "    int x=-1;\n",
    "    if (IsEmpty())\n",
    "      cout<<\"Queue Empty\"<<endl;\n",
    "    else\n",
    "    {\n",
    "      front = (front+1)%size;\n",
    "      if (front ==0)  front++;\n",
    "      x=Q[front];\n",
    "    }\n",
    "    return x;\n",
    "}"
   ]
  },
  {
   "cell_type": "code",
   "execution_count": 6,
   "metadata": {},
   "outputs": [],
   "source": [
    "int Queue::IsFull(){\n",
    "   if ((rear+1)%size==front)\n",
    "       return 1;\n",
    "    return 0;\n",
    "}"
   ]
  },
  {
   "cell_type": "code",
   "execution_count": 7,
   "metadata": {},
   "outputs": [],
   "source": [
    "int Queue::IsEmpty(){\n",
    "     if (rear==front)\n",
    "      return 1;\n",
    "    return 0;\n",
    "}"
   ]
  },
  {
   "cell_type": "code",
   "execution_count": 8,
   "metadata": {},
   "outputs": [],
   "source": [
    "void Queue::Display (){\n",
    "   int i = front+1;\n",
    "   int r =0;\n",
    "   do\n",
    "   {   cout<<Q[i]<<\" - \"<<i<< \" \";\n",
    "       i = (i+1)%size;\n",
    "       if (i ==0)  i++;\n",
    "       r =  (rear+1)%size;\n",
    "       if (r ==0) r++;\n",
    "   }while(i!= r);\n",
    "    cout<<endl;\n",
    "}"
   ]
  },
  {
   "cell_type": "code",
   "execution_count": 9,
   "metadata": {},
   "outputs": [
    {
     "name": "stdout",
     "output_type": "stream",
     "text": [
      "10 - 1 20 - 2 30 - 3 40 - 4 \n"
     ]
    }
   ],
   "source": [
    "Queue q(5);\n",
    "q.EnQueue(10);\n",
    "q.EnQueue(20);\n",
    "q.EnQueue(30);\n",
    "q.EnQueue(40);\n",
    "q.Display();"
   ]
  },
  {
   "cell_type": "code",
   "execution_count": 10,
   "metadata": {},
   "outputs": [
    {
     "name": "stdout",
     "output_type": "stream",
     "text": [
      "20 - 2 30 - 3 40 - 4 \n"
     ]
    }
   ],
   "source": [
    "q.DeQueue();\n",
    "q.Display();"
   ]
  },
  {
   "cell_type": "code",
   "execution_count": 11,
   "metadata": {},
   "outputs": [
    {
     "name": "stdout",
     "output_type": "stream",
     "text": [
      "30 - 3 40 - 4 \n"
     ]
    }
   ],
   "source": [
    "q.DeQueue();\n",
    "q.Display();"
   ]
  },
  {
   "cell_type": "code",
   "execution_count": 12,
   "metadata": {},
   "outputs": [
    {
     "name": "stdout",
     "output_type": "stream",
     "text": [
      "30 - 3 40 - 4 50 - 1 \n"
     ]
    }
   ],
   "source": [
    "q.EnQueue(50);\n",
    "q.Display();"
   ]
  },
  {
   "cell_type": "code",
   "execution_count": 13,
   "metadata": {},
   "outputs": [
    {
     "name": "stdout",
     "output_type": "stream",
     "text": [
      "Queue Full\n",
      "30 - 3 40 - 4 50 - 1 \n"
     ]
    }
   ],
   "source": [
    "q.EnQueue(60);\n",
    "q.Display();"
   ]
  },
  {
   "cell_type": "code",
   "execution_count": null,
   "metadata": {},
   "outputs": [],
   "source": []
  }
 ],
 "metadata": {
  "kernelspec": {
   "display_name": "C++17",
   "language": "C++17",
   "name": "xcpp17"
  },
  "language_info": {
   "codemirror_mode": "text/x-c++src",
   "file_extension": ".cpp",
   "mimetype": "text/x-c++src",
   "name": "c++",
   "version": "17"
  }
 },
 "nbformat": 4,
 "nbformat_minor": 2
}

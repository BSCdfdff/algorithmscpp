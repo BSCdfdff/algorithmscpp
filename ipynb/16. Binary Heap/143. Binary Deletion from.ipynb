{
 "cells": [
  {
   "cell_type": "markdown",
   "metadata": {},
   "source": [
    "## Binary Heap\n",
    "\n",
    "___\n",
    "\n",
    "+ What is a HEAP\n",
    "+ Inserting a HEAP\n",
    "+ Deleting from HEAP\n",
    "+ Heap Sort\n",
    "+ Heapify\n",
    "+ Priority Queues\n"
   ]
  },
  {
   "cell_type": "markdown",
   "metadata": {},
   "source": [
    "## Deletiing from a Heap\n",
    "___\n",
    "\n",
    "\n",
    "\n",
    "We will be doing it for MAX Heap. The same will apply for MIN Heap.\n",
    "\n",
    "We have the following MAx Heap (Completed) BT:\n",
    "\n",
    "\n",
    "```\n",
    "\n",
    "\n",
    "                      \n",
    "                                           +---+\n",
    "                                           | 40|\n",
    "                                        /  +---+  \\\n",
    "                                       /           \\\n",
    "                                      /             \\\n",
    "                                 +---+             +---+\n",
    "                                 | 35|             | 30|\n",
    "                                /+---+\\           /+---+\\\n",
    "                               /       \\         /       \\\n",
    "                              /         \\       /         \\\n",
    "                           +---+       +---+ +---+       +---+\n",
    "                           | 15|       | 10 || 25|       | 5 |\n",
    "                           +---+       +- -+ +---+       +- -+\n",
    " \n",
    "\n",
    "\n",
    "```\n",
    "\n",
    "And here is the array:\n",
    "\n",
    "$$\n",
    "\\newcommand\\T{\\Rule{0pt}{.1em}{.3em}}\n",
    "\\begin{array}{|r|r|r|r|r|r|r|r|r|r|r|}\n",
    "\\hline \n",
    "40\\T&35\\T&30\\T&15\\T&10\\T&25\\T&5  \\\\\\hline \n",
    "_1\\T&_2\\T&_3\\T&_4\\T&_5\\T&_6\\T&_7 \\\\\\hline \n",
    "_\\T&_\\T&_\\T&_\\T&_\\T&_\\T&_\\T&_\\T&_\\T&_\\T&_{} \\\\\\hline \n",
    "\\end{array}\n",
    "$$\n",
    "\n",
    "\n",
    "We start array by 1, as since we take the formula:\n",
    "\n",
    "Node at index i:\n",
    "\n",
    "$$ \\text{left child} = 2\\times i ($$\n",
    "\n",
    "$$ \\text{right child of i} = 2\\times{i} + 1$$\n",
    "\n",
    "So we keep the array index starting at 1.\n",
    "\n",
    "\n",
    "\n",
    "And we need to delete a key. Which one can we delete? Perhaps 25. No No No. We can only delete max (in case of MAx HEAP) or min (in case MIN HEAP) node.\n",
    "\n",
    "Summary:\n",
    "\n",
    "1. Delete largest element ONLY (Max Heap)\n",
    "2. Delete smallest element ONLY (Min Heap)\n",
    "\n",
    "\n",
    "Procedure:\n",
    "\n",
    "1. Remove Root element (40) and place it in temp variable\n",
    "2. Take the last element in the array, key 5. And copy it to root (40), at index 1.\n",
    "\n",
    "```\n",
    "\n",
    "                                           +---+\n",
    "                                           | 5 |\n",
    "                                        /  +---+  \\\n",
    "                                       /           \\\n",
    "                                      /             \\\n",
    "                                 +---+             +---+\n",
    "                                 | 35|             | 30|\n",
    "                                /+---+\\           /+---+\\\n",
    "                               /       \\         /       \\\n",
    "                              /         \\       /         \\\n",
    "                           +---+       +---+ +---+       +---+\n",
    "                           | 10|       | 15| | 25|       | - |\n",
    "                           +---+       +- -+ +---+       +- -+\n",
    "                           \n",
    "```\n",
    "\n",
    "\n",
    "$$\n",
    "\\newcommand\\T{\\Rule{0pt}{.1em}{.3em}}\n",
    "\\begin{array}{|r|r|r|r|r|r|}\n",
    "\\hline \n",
    "5\\T&35\\T&30\\T&15\\T&10\\T&25\\T&-  \\\\\\hline \n",
    "_1\\T&_2\\T&_3\\T&_4\\T&_5\\T&_6\\T&_7 \\\\\\hline \n",
    "_\\T&_\\T&_\\T&_\\T&_\\T&_\\T&_{} \\\\\\hline \n",
    "\\end{array}\n",
    "$$\n",
    "\n",
    "3. So when the root (40) get removed, the last element(5) in the array, must take its place.\n",
    "4. The next is the repeating procedure.\n",
    "5. So index i (1) is at 5. \n",
    "6. Take i's lchild (35), index 2  and rchild (30)\n",
    "7. Compare: which is greater, 35 (lchild) index 2.\n",
    "8. Compare: lchild(35)(index j) with parent(5).\n",
    "9. Parent (5) is smaller than lchild(35), Then we interchange. Make lchild its parent. And move parent into child place.\n",
    "\n",
    "```\n",
    "\n",
    "                                           +---+\n",
    "                                           | 35|\n",
    "                                        /  +---+  \\\n",
    "                                       /           \\\n",
    "                                      /             \\\n",
    "                                 +---+             +---+\n",
    "                                 | 5 |             | 30|\n",
    "                                /+---+\\           /+---+\\\n",
    "                               /       \\         /       \\\n",
    "                              /         \\       /         \\\n",
    "                           +---+       +---+ +---+       +---+\n",
    "                           | 10|       | 15| | 25|       | - |\n",
    "                           +---+       +- -+ +---+       +- -+\n",
    "\n",
    "\n",
    "```\n",
    "\n",
    "$$\n",
    "\\newcommand\\T{\\Rule{0pt}{.1em}{.3em}}\n",
    "\\begin{array}{|r|r|r|r|r|r|}\n",
    "\\hline \n",
    "35\\T&5\\T&30\\T&15\\T&10\\T&25\\T&-  \\\\\\hline \n",
    "_1\\T&_2\\T&_3\\T&_4\\T&_5\\T&_6\\T&_7 \\\\\\hline \n",
    "_\\T&_\\T&_\\T&_\\T&_\\T&_\\T&_{} \\\\\\hline \n",
    "\\end{array}\n",
    "$$\n",
    "\n",
    "10. Move i to j's index, element (5).\n",
    "\n",
    "12. Take i's lchild (10), index 5  and rchild (15), index 4\n",
    "13. Compare: which is greater, 15 (rchild) index 4.\n",
    "14. Compare: rchild(15)(index j) with parent(5).\n",
    "15. Parent (5) is smaller than rchild(15), Then we interchange. Make rchild its parent. And move parent into child place.\n",
    "\n",
    "\n",
    "```\n",
    "\n",
    "                                           +---+\n",
    "                                           | 35|\n",
    "                                        /  +---+  \\\n",
    "                                       /           \\\n",
    "                                      /             \\\n",
    "                                 +---+             +---+\n",
    "                                 | 15|             | 30|\n",
    "                                /+---+\\           /+---+\\\n",
    "                               /       \\         /       \\\n",
    "                              /         \\       /         \\\n",
    "                           +---+       +---+ +---+       +---+\n",
    "                           | 10|       | 5 | | 25|       | - |\n",
    "                           +---+       +- -+ +---+       +- -+\n",
    "\n",
    "```\n",
    "\n",
    "$$\n",
    "\\newcommand\\T{\\Rule{0pt}{.1em}{.3em}}\n",
    "\\begin{array}{|r|r|r|r|r|r|}\n",
    "\\hline \n",
    "35\\T&15\\T&30\\T&5\\T&10\\T&25\\T&-  \\\\\\hline \n",
    "_1\\T&_2\\T&_3\\T&_4\\T&_5\\T&_6\\T&_7 \\\\\\hline \n",
    "_\\T&_\\T&_\\T&_\\T&_\\T&_\\T&_{} \\\\\\hline \n",
    "\\end{array}\n",
    "$$\n",
    "\n",
    "16. Move i to j's index, element (5).\n",
    "\n",
    "17. Take i's lchild, but that is index 8, and that is outside array\n",
    "18. So we stop.\n",
    "\n",
    "\n"
   ]
  },
  {
   "cell_type": "markdown",
   "metadata": {},
   "source": [
    "## Heap Sorting\n",
    "\n",
    "___\n",
    "\n",
    "What can we do with the value 40 that we \"deleted\", as it is no longer part of the HEAP. We can place the value 40 in th empty spot in the array.\n",
    "\n",
    "\n",
    "$$\n",
    "\\newcommand\\T{\\Rule{0pt}{.1em}{.3em}}\n",
    "\\begin{array}{|r|r|r|r|r|r|}\n",
    "\\hline \n",
    "35\\T&15\\T&30\\T&5\\T&10\\T&25\\T&40  \\\\\\hline \n",
    "_1\\T&_2\\T&_3\\T&_4\\T&_5\\T&_6\\T&_7 \\\\\\hline \n",
    "_\\T&_\\T&_\\T&_\\T&_\\T&_\\T&_{} \\\\\\hline \n",
    "\\end{array}\n",
    "$$\n",
    "\n",
    "Remember 40 is not part of the heap. It is stored in the free space.\n",
    "\n",
    "Now here is the magic: Lets delete again. What MUST and can we only delete? Its 35. And were do we put it, in next empty space, that is where 25 is now. And what do we delete next? 30. And we store it in next empty space.\n",
    "\n",
    "\n",
    "So we get the following sorted pattern.And this is Binary Sort.\n",
    "\n",
    "\n",
    "We can this define a SORT procedure as follows:\n",
    "\n",
    "1. Create Heap of n elements\n",
    "2. Delete n elements 1 by 1.\n",
    "\n",
    "\n",
    "This will become HEAP sort.\n"
   ]
  },
  {
   "cell_type": "markdown",
   "metadata": {},
   "source": [
    "## Time Complexity \n",
    "\n",
    "____\n",
    "\n",
    "\n",
    "To delete one element from HEAP depends on Height: \n",
    "\n",
    "$$log_2{n}$$\n",
    "\n",
    "And to delete all elements is :\n",
    "\n",
    "$$nlog_2{n}$$\n",
    "\n",
    "For HEAP sort the time complexity is:\n",
    "\n",
    "1. To create a heap:  $nlog_2{n}$\n",
    "2. Delete all elements : $nlog_2{n}$\n",
    "\n",
    "$$2nlog_2{n}$$\n",
    "\n",
    "That is its order:\n",
    "\n",
    "$$O(nlog_2{n})$$\n",
    "\n"
   ]
  },
  {
   "cell_type": "markdown",
   "metadata": {},
   "source": [
    "##  Lets Code\n",
    "\n",
    "___\n",
    "\n",
    "\n",
    "**Insert/Create HEAP**\n",
    "1. We value the array of index 0, unpopulated.\n",
    "2. Lets code an insert function for HEAP:\n",
    "3. The index we we want to insert the element, lets make that n.\n",
    "4. We also temp variable to store the value we want to insert into heap.\n",
    "5. Index i will point to n.\n",
    "6. Now we need to loop all elements until the value (inserted) reaches its correct position, and compare temp to the parent\n",
    "\n",
    "\n",
    "```\n",
    "void Insert(int H[], int n){\n",
    "\n",
    "    int i = n, temp;\n",
    "    temp = H[i];\n",
    "    while(i >1 && temp>A[i/2])\n",
    "    {\n",
    "        A[i]=A[i/2];\n",
    "        i=i/2;\n",
    "    }\n",
    "    \n",
    "    A[i]=temp\n",
    " \n",
    "}\n",
    "\n",
    "```\n",
    "7. How the above works (Remember we dealing with \"In Place\" Procedure, e.g. \n",
    "\n",
    "```\n",
    "int H[] = {0,2,5,8,9,4,19,7};\n",
    "Insert(H,2);\n",
    "```\n",
    "\n",
    "8. This n = 2 , is equal to 5, which is the first value we will be insertin. and will be the root node.\n",
    "9. Each subsequent insert will move the largest value. That is compare the value to its parent. If the value is greater than parent, set value equal to parent, and move index to parent index. do this until i becomes 0.\n",
    "10. We inserting from 5, as we take it that the initial value if 2.\n",
    "11. If we insert the following the HEAP will end up been:\n",
    "\n",
    "```\n",
    "Insert(H,3);\n",
    "Insert(H,4);\n",
    "Insert(H,5);\n",
    "```\n",
    "Results:\n",
    "9 8 5 2 4 19 7 \n",
    "\n",
    "12. The above was test. Let create the heap, by inserting the elements using a loop.\n",
    "\n",
    "\n",
    "```\n",
    "for (i = 2, i<=7; i++)\n",
    "    Insert(H,i);\n",
    "```\n",
    "\n",
    "13. And lets use the above values of lession\n",
    "\n",
    "\n",
    "**Deleteion from HEAP**\n",
    "\n",
    "1. Where n length of HEAP. Keep the deleted value in val variable (and move deleted vale to last index position (A[n]=val). Element we want to delete is x. And we have i, thats where want to start, and j wil be the lchild of i. how do we get the lchild = i*2. \n",
    "\n",
    "\n",
    "\n",
    "```\n",
    " x = A[n]\n",
    "``` \n",
    " \n",
    "\n",
    "2. And we copy the last element to first place:\n",
    "\n",
    "```\n",
    " A[1]= A[n]\n",
    " \n",
    "```\n",
    "3. We check if right child is greater than left child, then move j to rchild location\n",
    "\n",
    "```\n",
    "if (A[j+1] > A[j]\n",
    "    j = j+1\n",
    "```\n",
    "\n",
    "4. Now check where parent is pointing and whoever was greater in point 3, whichever is less interachange.\n",
    "5. Now i should get j's position, and j should get lchild:\n",
    "\n",
    "```\n",
    "i = j;\n",
    "j = 2*j;\n",
    "\n",
    "\n",
    "```\n",
    "6. Return the deleted value.\n",
    "\n",
    "```\n",
    "int Delete (int A[], int n \n",
    "    int i, j, x. temp;\n",
    "    val=A[1];\n",
    "    x = A[n];\n",
    "    A[1]= A[n];\n",
    "    A[n]=val;\n",
    "    i=1; j = i*2;\n",
    "    \n",
    "    while(j < n-1){\n",
    "       if (A[j+1] > A[j])\n",
    "             j = j+1;\n",
    "       if (A[i] < A[j]){\n",
    "           temp=A[i];\n",
    "           A[i]=A[j];\n",
    "           A[j]=temp;\n",
    "           i = j;\n",
    "           j = 2*j;\n",
    "       }\n",
    "       else\n",
    "           break;\n",
    "       \n",
    "        \n",
    "    }\n",
    "    \n",
    "   return val; \n",
    "}    \n",
    "\n",
    "```\n"
   ]
  },
  {
   "cell_type": "code",
   "execution_count": 1,
   "metadata": {},
   "outputs": [],
   "source": [
    "#include <iostream> \n",
    "#include <climits>\n",
    "#include <math.h>\n",
    "#define INSERTION_OPERATOR operator<<\n",
    "#define EXTRACTION_OPERATOR operator>>\n",
    "#define ADDITION_OPERATOR operator+\n",
    "using namespace std; "
   ]
  },
  {
   "cell_type": "code",
   "execution_count": 2,
   "metadata": {},
   "outputs": [],
   "source": [
    "void Display (int A[]){\n",
    "   for (int i=1; i<=7; i++)\n",
    "   {\n",
    "     cout<<A[i]<<\" \";\n",
    "   }\n",
    "   cout<<endl;\n",
    "}"
   ]
  },
  {
   "cell_type": "code",
   "execution_count": 3,
   "metadata": {},
   "outputs": [],
   "source": [
    "int Delete (int A[], int n){\n",
    "    int i, j, x, temp,val;\n",
    "    val=A[1];\n",
    "    x = A[n];\n",
    "    A[1]= A[n];\n",
    "    A[n]=val;\n",
    "    i=1; j = i*2;\n",
    "    \n",
    "    while(j < n-1){\n",
    "       if (A[j+1] > A[j])\n",
    "             j = j+1;\n",
    "       if (A[i] < A[j]){\n",
    "           temp=A[i];\n",
    "           A[i]=A[j];\n",
    "           A[j]=temp;\n",
    "           i = j;\n",
    "           j = 2*j;\n",
    "       }\n",
    "       else\n",
    "           break;\n",
    "    }\n",
    "   return val; \n",
    "}    "
   ]
  },
  {
   "cell_type": "code",
   "execution_count": 4,
   "metadata": {},
   "outputs": [],
   "source": [
    "void Insert(int A[], int n){\n",
    "\n",
    "    int i = n, temp;\n",
    "    temp = A[i];\n",
    "    while(i >1 && temp>A[i/2])\n",
    "    {\n",
    "        A[i]=A[i/2];\n",
    "        i=i/2;\n",
    "    }\n",
    "    A[i]=temp;\n",
    "}"
   ]
  },
  {
   "cell_type": "code",
   "execution_count": 5,
   "metadata": {},
   "outputs": [
    {
     "name": "stdout",
     "output_type": "stream",
     "text": [
      "2 5 8 9 4 19 7 \n"
     ]
    }
   ],
   "source": [
    "//ignore 0\n",
    "int H[] = {0,2,5,8,9,4,19,7};\n",
    "Display(H);\n",
    "  \n",
    "        \n",
    "    "
   ]
  },
  {
   "cell_type": "code",
   "execution_count": 6,
   "metadata": {},
   "outputs": [
    {
     "name": "stdout",
     "output_type": "stream",
     "text": [
      "5 2 8 9 4 19 7 \n"
     ]
    }
   ],
   "source": [
    "//We will be inserting 5,8,9,and 4\n",
    "//\n",
    "Insert(H,2);\n",
    "Display(H);\n"
   ]
  },
  {
   "cell_type": "code",
   "execution_count": 7,
   "metadata": {},
   "outputs": [
    {
     "name": "stdout",
     "output_type": "stream",
     "text": [
      "9 8 5 2 4 19 7 \n"
     ]
    }
   ],
   "source": [
    "Insert(H,3);\n",
    "Insert(H,4);\n",
    "Insert(H,5);\n",
    "Display(H);"
   ]
  },
  {
   "cell_type": "code",
   "execution_count": 8,
   "metadata": {},
   "outputs": [
    {
     "name": "stdout",
     "output_type": "stream",
     "text": [
      "10 20 30 25 5 40 35 \n"
     ]
    }
   ],
   "source": [
    "int Q[] = {0,10,20,30,25,5,40,35};\n",
    "Display(Q);\n"
   ]
  },
  {
   "cell_type": "code",
   "execution_count": 9,
   "metadata": {},
   "outputs": [
    {
     "name": "stdout",
     "output_type": "stream",
     "text": [
      "40 25 35 10 5 20 30 \n"
     ]
    }
   ],
   "source": [
    "for (int i = 2; i<=7; i++)\n",
    "    Insert(Q,i);\n",
    "Display(Q);"
   ]
  },
  {
   "cell_type": "markdown",
   "metadata": {},
   "source": [
    "## Perform Deletion\n",
    "__\n",
    "\n",
    "The max value 40 should be deleted, and moved to last vacant space:\n",
    "\n"
   ]
  },
  {
   "cell_type": "code",
   "execution_count": 10,
   "metadata": {},
   "outputs": [
    {
     "name": "stdout",
     "output_type": "stream",
     "text": [
      "Delete Value is: 40\n",
      "35 25 30 10 5 20 40 \n"
     ]
    }
   ],
   "source": [
    "cout<< \"Delete Value is: \"<< Delete(Q,7)<<endl;\n",
    "Display(Q);"
   ]
  },
  {
   "cell_type": "code",
   "execution_count": 11,
   "metadata": {},
   "outputs": [
    {
     "name": "stdout",
     "output_type": "stream",
     "text": [
      "Delete Value is: 35\n",
      "30 25 20 10 5 35 40 \n"
     ]
    }
   ],
   "source": [
    "//Delete another elment, but heap size is 6 now\n",
    "\n",
    "cout<< \"Delete Value is: \"<< Delete(Q,6)<<endl;\n",
    "Display(Q)"
   ]
  },
  {
   "cell_type": "markdown",
   "metadata": {},
   "source": [
    "## Heap Sort\n",
    "__\n",
    "    \n",
    "Call Delete using a Loop.    \n"
   ]
  },
  {
   "cell_type": "code",
   "execution_count": 12,
   "metadata": {},
   "outputs": [
    {
     "name": "stdout",
     "output_type": "stream",
     "text": [
      "10 20 30 25 5 40 35 \n"
     ]
    }
   ],
   "source": [
    "int R[] = {0,10,20,30,25,5,40,35};\n",
    "Display(R);"
   ]
  },
  {
   "cell_type": "code",
   "execution_count": 13,
   "metadata": {},
   "outputs": [
    {
     "name": "stdout",
     "output_type": "stream",
     "text": [
      "40 25 35 10 5 20 30 \n"
     ]
    }
   ],
   "source": [
    "//Create Heap\n",
    "for (int i = 2; i<=7; i++)\n",
    "    Insert(R,i);\n",
    "Display(R);"
   ]
  },
  {
   "cell_type": "code",
   "execution_count": 14,
   "metadata": {},
   "outputs": [
    {
     "name": "stdout",
     "output_type": "stream",
     "text": [
      "5 10 20 25 30 35 40 \n"
     ]
    }
   ],
   "source": [
    "for (int i=7; i> 1; i--)\n",
    "     Delete(R,i);\n",
    "Display(R);"
   ]
  },
  {
   "cell_type": "code",
   "execution_count": null,
   "metadata": {},
   "outputs": [],
   "source": []
  }
 ],
 "metadata": {
  "kernelspec": {
   "display_name": "C++17",
   "language": "C++17",
   "name": "xcpp17"
  },
  "language_info": {
   "codemirror_mode": "text/x-c++src",
   "file_extension": ".cpp",
   "mimetype": "text/x-c++src",
   "name": "c++",
   "version": "17"
  }
 },
 "nbformat": 4,
 "nbformat_minor": 2
}

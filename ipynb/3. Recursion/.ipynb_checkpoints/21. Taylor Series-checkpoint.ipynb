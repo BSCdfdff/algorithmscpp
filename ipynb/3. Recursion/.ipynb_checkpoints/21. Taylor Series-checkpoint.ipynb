{
 "cells": [
  {
   "cell_type": "markdown",
   "metadata": {},
   "source": [
    "# Taylor Series"
   ]
  },
  {
   "cell_type": "markdown",
   "metadata": {},
   "source": [
    "## Taylor Series\n",
    "\n",
    "\n",
    "\n",
    "\n",
    "We need to write a recursive function for the summation of these following terms:\n",
    "\n",
    "\n",
    "$${e^x}={ 1 + x + {\\frac  {{{x^2}}} {{2!}} }+{\\frac  {{{x^3}}} {{3!}} }+{\\frac {{{x^4}}} {{4!}} }  }+{{\\frac{{{x^5}}}{{5!}}} +   \\ldots}  +  \\text {n terms}$$\n",
    "\n",
    "Note :  $ 1 + x $  is the same as $1 + {\\frac  {{{x}}} {{1!}} }$\n",
    "\n",
    "\n",
    "How does it read? \n",
    "\n",
    "e to power x, Thats is for any given value of x, we need to do the summation of these terms\n",
    "\n",
    "That is as we take more terms, we get more precise values\n",
    "\n",
    "How do we write a recursive function for this?\n",
    "\n",
    "**Here we can see there are three (3) operations that are performed on these terms:**\n",
    "\n",
    "1. Summation of Terms\n",
    "2. Power of x\n",
    "3. In denominator we take the factorial\n",
    "\n",
    "\n",
    "$sum(n) = 1+2+3+...+n$\n",
    "\n",
    "$fact(n) = 1*2*3*...+n$ \n",
    "\n",
    "$pow(x,n) = x*x*x*...+ ntimes$\n",
    "\n",
    "**Which has been written into recursive functions:**\n",
    "\n",
    "$sum(n-1)+n$\n",
    "\n",
    "$fact(n-1)*m$ \n",
    "\n",
    "$pow(x,n)*x$\n",
    "\n",
    "Goes into details about the summation function:\n",
    "\n",
    "Place pic here:\n",
    "\n",
    "The addition for the **Summation** is done at RETURNING time.\n",
    "\n",
    "Similar for **Factorial** the multiplication is done at RETURNING time \n",
    "\n",
    "Similar for **Power** \n",
    "\n",
    "\n",
    "For the Taylor series the function must perform three operations(s) as above but, function **CAN** return only one result. \n",
    "\n",
    "E.g. for summation sum(3) +4,and sum(3)+2, etc\n",
    "\n",
    "But what about the Factorial  and Power? Power and Factorial CANNOT be returned by Factorial. By Function can only return one value.\n",
    "\n",
    "\n",
    "So where we have to involve multiple values in recursion, then we MUST use **static variables**\n",
    "\n",
    "So now we need to REDEFINE th e recursive function using static variables.\n",
    "\n"
   ]
  },
  {
   "cell_type": "markdown",
   "metadata": {},
   "source": [
    "### Lets first take ${e^x}$ for 4 terms.\n",
    "\n",
    "Lets do the tracing, then do the function based on that.\n",
    "\n",
    "Place pic here and explain\n",
    "\n",
    "\n",
    "Start with $e(x, 4)$, then calls itself by 3, $e(x, 2)$, then calls itself by 2, $e(x, 1)$, then calls itself by 1, $e(x, 0)$.\n",
    "\n",
    "So when 0, it should return 0.\n",
    "\n",
    "When it goes back:\n",
    "\n",
    "For $e(x, 1)$, it should do, ${ 1 + x}$\n",
    "\n",
    "For $e(x, 2)$, it should do, $ 1 + x + {\\frac  {{{x^2}}} {{2!}} }$\n",
    "\n",
    "For $e(x, 3)$, it should do, $ 1 + x + {\\frac  {{{x^2}}} {{2!}} } +  {\\frac  {{{x^3}}} {{3!}} }$\n",
    "\n",
    "For $e(x, 4)$, it should do, $ 1 + x + {\\frac  {{{x^2}}} {{2!}} } +  {\\frac  {{{x^3}}} {{3!}} } +  {\\frac  {{{x^4}}} {{4!}} }$\n",
    "\n",
    "\n",
    "So to get to the next Factorial (Denominator) and Power (Numerator), I need the previous Factorial and Power, how do I get this. As indicated, I need some static variable or counter store to keep track of the previous Power and Factorial.\n",
    "\n",
    "So to handle the numerator and denominator, we take two static variables.\n",
    "\n",
    "P = Numerator = Power = set to 1  = $x^0$\n",
    "\n",
    "F = Denominator = Factorial = set to 1 = $0^!$\n",
    "\n",
    "And we trace again see..\n",
    "\n",
    "\n"
   ]
  },
  {
   "cell_type": "markdown",
   "metadata": {},
   "source": [
    "## With P and F introduces, lets retrace again (to use the new static variables)\n",
    "\n",
    "Start with $e(x, 4)$, then calls itself by 3, $e(x, 2)$, then calls itself by 2, $e(x, 1)$, then calls itself by 1, $e(x, 0)$.\n",
    "\n",
    "So when 0, it should return 1.\n",
    " \n",
    "When it goes back,for $e(x, 1)$, it should do, $1 + {\\frac  {{{x}}} {{1!}} }$\n",
    "\n",
    "So now we multiply P with x, and F with 1, of $e(x, 1)$\n",
    "\n",
    "$P =x$\n",
    "\n",
    "$F =1$\n",
    "\n",
    "And ${\\frac  {{{x}}} {{1!}} }$, can be written as $1 + {\\frac  {{{P}}} {{F}} }$\n",
    "\n",
    "That is \n",
    "\n",
    "$e(x, 1)$ =  $1 + {\\frac  {{{P}}} {{F}} }$\n",
    "\n",
    "Remember now:\n",
    "\n",
    "$P=P\\times{x}$\n",
    "\n",
    "$F=F\\times{1}$\n",
    "\n",
    "These are the two terms that we will be performing, so we will not write it every time.\n",
    "\n",
    "So lets go back up and do rest:\n",
    "\n",
    "\n",
    "$e(x, 2)$ =  $1 +{\\frac  {{{x}}} {{1!}} }+{\\frac  {{{x^2}}}  {{2!}} }$\n",
    "\n",
    "Where, \n",
    "\n",
    "$P =x\\times{x}$\n",
    "\n",
    "$F =1\\times{2}$\n",
    "\n",
    "\n",
    "\n",
    "\n",
    "$e(x, 3)$ =  $1 +{\\frac  {{{x}}} {{1!}} }+{\\frac  {{{x^2}}}  {{2!}} } +{\\frac  {{{x^3}}}  {{3!}} }$\n",
    "\n",
    "Where, \n",
    "\n",
    "$P =x\\times{x}\\times{x}$\n",
    "\n",
    "$F =1\\times{2}\\times{3}$\n",
    "\n",
    "\n",
    "$e(x, 4)$ =  $1 +{\\frac  {{{x}}} {{1!}} }+{\\frac  {{{x^2}}}  {{2!}} } +{\\frac  {{{x^3}}}  {{3!}} } +{\\frac  {{{x^4}}}  {{4!}} }$\n",
    "\n",
    "Where, \n",
    "\n",
    "$P =x\\times{x}\\times{x}\\times{x}$\n",
    "\n",
    "$F =1\\times{2}\\times{3}\\times{4}$\n",
    "\n",
    "\n",
    "This is how we get the result of Taylor Series.\n",
    "\n",
    "___\n",
    "___\n",
    "\n",
    "\n",
    "Lets write a function for it, using static variables.\n",
    "\n"
   ]
  },
  {
   "cell_type": "code",
   "execution_count": 1,
   "metadata": {},
   "outputs": [],
   "source": [
    "#include <iostream>\n",
    "#include <climits>\n",
    "#include <math.h>\n",
    "using namespace std;"
   ]
  },
  {
   "cell_type": "markdown",
   "metadata": {},
   "source": [
    "x = power of n\n",
    "\n",
    "n is how many terms we want"
   ]
  },
  {
   "cell_type": "code",
   "execution_count": 2,
   "metadata": {},
   "outputs": [],
   "source": [
    "double e(int x,int n);"
   ]
  },
  {
   "cell_type": "code",
   "execution_count": 3,
   "metadata": {},
   "outputs": [],
   "source": [
    "double e(int x, int n){        \n",
    "    static double P=1, F = 1;\n",
    "    double r;\n",
    "    \n",
    "    if (n ==0)                \n",
    "       return 1;   \n",
    "    else\n",
    "    {\n",
    "        r = e(x, n-1); \n",
    "        P=P*x;\n",
    "        F=F*n;\n",
    "        return r + P/F; \n",
    "    }\n",
    "}"
   ]
  },
  {
   "cell_type": "code",
   "execution_count": 4,
   "metadata": {},
   "outputs": [],
   "source": [
    "int x=4, y=9;\n",
    "double z=0;\n",
    "z =e(x,y);\n"
   ]
  },
  {
   "cell_type": "code",
   "execution_count": 5,
   "metadata": {},
   "outputs": [
    {
     "name": "stdout",
     "output_type": "stream",
     "text": [
      "54.1541\n"
     ]
    }
   ],
   "source": [
    "cout<<z<<endl; "
   ]
  },
  {
   "cell_type": "code",
   "execution_count": null,
   "metadata": {},
   "outputs": [],
   "source": []
  }
 ],
 "metadata": {
  "kernelspec": {
   "display_name": "C++17",
   "language": "C++17",
   "name": "xcpp17"
  },
  "language_info": {
   "codemirror_mode": "text/x-c++src",
   "file_extension": ".cpp",
   "mimetype": "text/x-c++src",
   "name": "c++",
   "version": "-std=c++17"
  }
 },
 "nbformat": 4,
 "nbformat_minor": 2
}

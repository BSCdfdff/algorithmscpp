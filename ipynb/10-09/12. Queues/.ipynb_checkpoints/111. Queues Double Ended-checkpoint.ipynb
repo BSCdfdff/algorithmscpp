{
 "cells": [
  {
   "cell_type": "markdown",
   "metadata": {},
   "source": [
    "# Queues\n",
    "\n",
    "+ Double Ended Queue\n"
   ]
  },
  {
   "cell_type": "markdown",
   "metadata": {},
   "source": [
    "## Double Ended\n",
    "\n",
    "___\n",
    "\n",
    "\n",
    "This implementation DOES not follow FIFO. You can use Array or Linked List\n",
    ".\n",
    "\n",
    "For both array and LL, we need front and rear pointers. and we use front for deletion and rear for inserting.\n",
    "\n",
    "But with DE Queue, we can use either or pointer for deletion or insertion. That is can use front to deletion or insert or use rear to delete or insert.\n",
    "\n",
    "Moving pointer (front and rear) forwards and backwards, as you insert or delete.\n",
    "\n",
    "Then we get some other types of restricted DE Queue:\n",
    "\n",
    "1. Input restricted DE Queue\n",
    "   + Front cannot insert, only delete\n",
    "   + Rear can insert and delete\n",
    "   \n",
    "   Who's job is it to insert, rear, so only rear can insert\n",
    "   \n",
    "   Here input means insert, so front cannot insert.\n",
    "   \n",
    "   \n",
    "2. Output restricted DE Queue\n",
    "   + Front can insert and delete\n",
    "   + Rear cannot delete, only insert\n",
    "\n",
    "   Who's job is it to delete, front, so only front can delete\n",
    "   Here output means delete, so rear cannot insert.\n",
    "\n",
    "\n"
   ]
  },
  {
   "cell_type": "markdown",
   "metadata": {},
   "source": [
    "## Implement code \n",
    "\n",
    "____\n",
    "\n",
    "Code the four operations.\n",
    "\n",
    "1. Insert from front\n",
    "2. Insert from rear\n",
    "3. Delete from front\n",
    "4. Delete from rear\n"
   ]
  },
  {
   "cell_type": "code",
   "execution_count": null,
   "metadata": {},
   "outputs": [],
   "source": []
  }
 ],
 "metadata": {
  "kernelspec": {
   "display_name": "C++17",
   "language": "C++17",
   "name": "xcpp17"
  },
  "language_info": {
   "codemirror_mode": "text/x-c++src",
   "file_extension": ".cpp",
   "mimetype": "text/x-c++src",
   "name": "c++",
   "version": "-std=c++17"
  }
 },
 "nbformat": 4,
 "nbformat_minor": 2
}

{
 "cells": [
  {
   "cell_type": "markdown",
   "metadata": {},
   "source": [
    "# Factorial of a number"
   ]
  },
  {
   "cell_type": "markdown",
   "metadata": {},
   "source": [
    "## Factorial\n",
    "\n",
    "Lets devise a recursive function for it:\n",
    "\n",
    "\n",
    "$n! =  1\\times2\\times3\\times4\\times5\\times....\\timesn$\n",
    "\n",
    "$5! = 1\\times2\\times3\\times4\\times5=120$\n",
    "\n",
    "$fact(n) = 1\\times2\\times3\\times4\\times5\\times...\\times\\(n-1)×n\\$\n",
    "\n",
    "$fact(n) = fact(n-1)×n$\n",
    "\n",
    "We know\n",
    "\n",
    "$0!=1$\n",
    "\n",
    "$1!=1$\n",
    "\n",
    "**And this is our recursive definition, which we can now convert to recursive function**\n",
    "\n",
    "$$ $$\n",
    "\n",
    "$$ $$\n",
    "\n",
    "\n",
    "$$\n",
    "fact(n) =\n",
    "\\begin{cases}\n",
    "1  & \\text{where $n = 1$ (Base Condition)} \\\\\n",
    "\\\\ \n",
    "fact(n-1)×n & \\text{where $n > 0$}\n",
    "\\end{cases}\n",
    "$$\n",
    "\n",
    "\n",
    "$$ $$\n",
    "\n",
    "$$ $$\n",
    "\n",
    "\n",
    "Remember when we do recurrence relation, we must have two statements, one for the large value of n, we normally have formula, and for small value we can give a direct answer.\n",
    "\n",
    "\n",
    "\n",
    "We can further say that\n",
    "\n",
    "This can be soled by:\n",
    "1. Recursion\n",
    "2. Loop\n",
    "3. Formula (no built in method)\n",
    "\n",
    "\n",
    "Recursion is very inefficient, as it uses stack internally. However as we can see above once you have the recurrent relation, it is very easy to convert it to recursive function. Whereas with loop you will need to figure out how to write the function.\n",
    "\n",
    "\n"
   ]
  },
  {
   "cell_type": "code",
   "execution_count": 1,
   "metadata": {},
   "outputs": [],
   "source": [
    "#include <iostream>\n",
    "#include <climits>\n",
    "#include <math.h>\n",
    "using namespace std;"
   ]
  },
  {
   "cell_type": "markdown",
   "metadata": {},
   "source": [
    "## Recursive Function\n",
    "\n",
    "Space/Memory\n",
    "\n",
    "$O(n)$\n",
    "\n",
    "Time Taken\n",
    "\n",
    "$O(n)$\n"
   ]
  },
  {
   "cell_type": "code",
   "execution_count": 2,
   "metadata": {},
   "outputs": [],
   "source": [
    "int fact(int n);"
   ]
  },
  {
   "cell_type": "code",
   "execution_count": 3,
   "metadata": {},
   "outputs": [],
   "source": [
    "int fact(int n){              \n",
    "    if (n ==0)                \n",
    "       return 1;\n",
    "    else    \n",
    "       return fact(n-1)*n;              \n",
    "    \n",
    "}"
   ]
  },
  {
   "cell_type": "code",
   "execution_count": 4,
   "metadata": {},
   "outputs": [],
   "source": [
    "int y, x=5;\n",
    "y =fact(x);\n"
   ]
  },
  {
   "cell_type": "code",
   "execution_count": 5,
   "metadata": {},
   "outputs": [
    {
     "name": "stdout",
     "output_type": "stream",
     "text": [
      "120\n"
     ]
    }
   ],
   "source": [
    "cout<<y<<endl; "
   ]
  },
  {
   "cell_type": "markdown",
   "metadata": {},
   "source": [
    "## For Loop/Iterative function\n",
    "\n",
    "Space/Memory\n",
    "\n",
    "n = 5, size of stack is 6\n",
    "\n",
    "$O(1)$\n",
    "\n",
    "Time Taken\n",
    "\n",
    "\n",
    "$O(n)$"
   ]
  },
  {
   "cell_type": "code",
   "execution_count": 6,
   "metadata": {},
   "outputs": [],
   "source": [
    "int iFact(int n){\n",
    "    int i, s = 1;\n",
    "    \n",
    "    for (int i=1; i<=n; i++){\n",
    "        s = s* i;\n",
    "    }\n",
    "    return s;\n",
    "}"
   ]
  },
  {
   "cell_type": "code",
   "execution_count": 7,
   "metadata": {},
   "outputs": [],
   "source": [
    "int b=5, k =0;\n",
    "\n",
    "k = iFact(b);"
   ]
  },
  {
   "cell_type": "code",
   "execution_count": 8,
   "metadata": {},
   "outputs": [
    {
     "name": "stdout",
     "output_type": "stream",
     "text": [
      "120\n"
     ]
    }
   ],
   "source": [
    "cout<<k<<endl;"
   ]
  },
  {
   "cell_type": "code",
   "execution_count": null,
   "metadata": {},
   "outputs": [],
   "source": []
  },
  {
   "cell_type": "code",
   "execution_count": null,
   "metadata": {},
   "outputs": [],
   "source": []
  }
 ],
 "metadata": {
  "kernelspec": {
   "display_name": "C++17",
   "language": "C++17",
   "name": "xcpp17"
  },
  "language_info": {
   "codemirror_mode": "text/x-c++src",
   "file_extension": ".cpp",
   "mimetype": "text/x-c++src",
   "name": "c++",
   "version": "-std=c++17"
  }
 },
 "nbformat": 4,
 "nbformat_minor": 2
}

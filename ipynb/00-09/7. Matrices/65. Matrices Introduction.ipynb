{
 "cells": [
  {
   "cell_type": "markdown",
   "metadata": {},
   "source": [
    "# Special Matrices\n",
    "\n",
    "+ Diagonal Matrix\n",
    "+ Lower Diagonal Matrix\n",
    "+ Upper Diagonal Matrix\n",
    "+ Symmetric Matrix\n",
    "+ Tridiagonal Matrix\n",
    "+ Band Matrix\n",
    "+ Toeplitz Matrix\n",
    "+ Sparse Matrix\n",
    "\n"
   ]
  },
  {
   "cell_type": "markdown",
   "metadata": {},
   "source": [
    "## Special Matrices\n",
    "\n",
    "These are sqaure matrices, i.e $5\\times{5}$ or $n\\times{n}$. And where there is a large number of zero elements.\n",
    "\n",
    "Since there is a large number of zero elements,we will be trying to save space, by NOT storing those zeros. And using one dimensional array, rather than two/multi-dimensional arrays.\n",
    "\n",
    "\n",
    "\n",
    "\n"
   ]
  },
  {
   "cell_type": "code",
   "execution_count": null,
   "metadata": {},
   "outputs": [],
   "source": []
  }
 ],
 "metadata": {
  "kernelspec": {
   "display_name": "C++17",
   "language": "C++17",
   "name": "xcpp17"
  },
  "language_info": {
   "codemirror_mode": "text/x-c++src",
   "file_extension": ".cpp",
   "mimetype": "text/x-c++src",
   "name": "c++",
   "version": "-std=c++17"
  }
 },
 "nbformat": 4,
 "nbformat_minor": 2
}

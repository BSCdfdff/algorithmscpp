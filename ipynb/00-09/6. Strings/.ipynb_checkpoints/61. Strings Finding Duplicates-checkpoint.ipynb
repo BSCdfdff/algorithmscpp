{
 "cells": [
  {
   "cell_type": "markdown",
   "metadata": {},
   "source": [
    "# Strings\n",
    "\n",
    "+ Character sets or ASCII Codes\n",
    "+ Character Array\n",
    "+ String\n",
    "+ Creating a string (in C Lang)\n"
   ]
  },
  {
   "cell_type": "markdown",
   "metadata": {},
   "source": [
    "## Finding Duplicates\n",
    "\n",
    "___\n",
    "\n",
    "Lets call this $A$:\n",
    "\n",
    "\n",
    "$$\n",
    "\\newcommand\\T{\\Rule{0pt}{1em}{.3em}}\n",
    "\\begin{array}{|r|r|r|r|r|r|r|r|r|r|}\n",
    "\\hline \n",
    "102\\T&105\\T&110\\T&100\\T&105\\T&110\\T&103\\T&\\text {\\\\}0  \\\\\\hline \n",
    "f\\T&i\\T&n\\T&d\\T&i\\T&n\\T&g\\T&\\text {\\\\}0  \\\\\\hline \n",
    "_0\\T&_1\\T&_2\\T&_3\\T&_4\\T&_5\\T&_6\\\\\\hline \n",
    "\\end{array}\n",
    "$$\n",
    "\n",
    "\n",
    "\n",
    "This is the same procedure when we dealt with arrays.\n",
    "\n",
    "1. Compare with other letters (same as arrays)\n",
    "2. Using HashTable and counting (same as arrays, but little change)\n",
    "3. Using Bits\n"
   ]
  },
  {
   "cell_type": "markdown",
   "metadata": {},
   "source": [
    "## Using HashTables\n",
    "\n",
    "We get the ASCII code equivalent codes for the letters:\n",
    "\n",
    "$$\n",
    "\\newcommand\\T{\\Rule{0pt}{1em}{.3em}}\n",
    "\\begin{array}{|r|r|r|r|r|r|r|r|r|r|}\n",
    "\\hline \n",
    "_{102}\\T&_{105}\\T&_{110}\\T&_{100}\\T&_{105}\\T&_{110}\\T&_{103}\\T&  \\\\\\hline \n",
    "f\\T&i\\T&n\\T&d\\T&i\\T&n\\T&g\\T&\\text {\\\\}0  \\\\\\hline \n",
    "_0\\T&_1\\T&_2\\T&_3\\T&_4\\T&_5\\T&_6\\T&_7 \\\\\\hline \n",
    "\\end{array}\n",
    "$$\n",
    "\n",
    "So we also need our hashing table, which is normally equal to the largest element value. And we know ASCII codes for lower case letter $a \\text{ to } z$ is $97 \\text{ to } 122$. That will be a very big hash table. But this is not good, as we can remap it as $a=0$ and $z =25$. So $25$ should be a sufficient size for the array. Remember this is only for lower case alphabet.\n",
    "\n",
    "So in order for this to work, that is start at $0$, we need to minus the letters ASCII code with $97$.\n",
    "\n",
    "Display table for $0 - 26$ spaces.\n",
    "\n",
    "\n",
    "\n",
    "$$\n",
    "\\newcommand\\T{\\Rule{0pt}{1em}{.3em}}\n",
    "\\begin{array}{|r|r|r|r|r|r|r|r|r|}\n",
    "\\hline \\require{cancel}  \n",
    "0\\T&0\\T&0\\T&\\cancel{0}1\\T&0\\T&\\cancel{0}1\\T&\\cancel{0}1\\T&0\\T&\\cancel{0}2\\T&0\\T&0\\T&0\\T&0\\T&\\cancel{0}2\\T&0\\T&0\\T&0\\T&0\\T&0\\T&0\\T&0\\T&0\\T&0\\T&0\\T&0\\T&0            \\\\\\hline \n",
    "_0\\T&_1\\T&_2\\T&_3\\T&_4\\T&_5\\T&_6\\T&_7\\T&_8\\T&_9\\T&_{10}\\T&_{11}\\T&_{12}\\T&_{13}\\T&_{14}\\T&_{15}\\T&_{16}\\T&_{17}\\T&_{18}\\T&_{19}\\T&_{20}\\T&_{21}\\T&_{22}\\T&_{23}\\T&_{24}\\T&_{25} \\\\\\hline \n",
    "\\end{array}\n",
    "$$\n",
    "\n",
    ".\n",
    "\n",
    "\n",
    "\n",
    "$$  f = 102 - 97 = 5, \\text{ increment } (1)$$\n",
    "$$  i = 105 - 97 = 8, \\text{ increment } (2)$$\n",
    "$$  n = 110 - 97 = 13, \\text{ increment } (2)$$\n",
    "$$  d = 100 - 97 = 3, \\text{ increment } (1)$$\n",
    "$$  g = 103 - 97 = 6, \\text{ increment } (1)$$\n",
    "\n"
   ]
  },
  {
   "cell_type": "code",
   "execution_count": 2,
   "metadata": {},
   "outputs": [],
   "source": [
    "#include <iostream>\n",
    "#include <climits>\n",
    "#include <math.h>\n",
    "using namespace std;"
   ]
  },
  {
   "cell_type": "markdown",
   "metadata": {},
   "source": [
    "### Using Has Table\n"
   ]
  },
  {
   "cell_type": "code",
   "execution_count": 2,
   "metadata": {},
   "outputs": [
    {
     "name": "stdout",
     "output_type": "stream",
     "text": [
      "i is appearing 2 times.\n",
      "n is appearing 2 times.\n"
     ]
    }
   ],
   "source": [
    "char  A[]=\"finding\";\n",
    "int  *H = new int [26];\n",
    "\n",
    "int i=0;\n",
    "int j=0;\n",
    "\n",
    "for(j = 0; j < 26;j++){\n",
    "    H[j]=0;\n",
    "}    \n",
    "\n",
    "char k;\n",
    "\n",
    "for(i = 0; A[i]!='\\0';i++){\n",
    "    k= A[i]-97;\n",
    "    H[k]++;\n",
    " \n",
    "}\n",
    "\n",
    "j=0;\n",
    "\n",
    "for(j = 0; j < 26;j++){\n",
    "  if (H[j] > 1)\n",
    "    cout<<char(j+97)<<\" is appearing \"<<H[j]<< \" times.\"<<endl; \n",
    " \n",
    "}\n",
    "\n"
   ]
  },
  {
   "cell_type": "code",
   "execution_count": null,
   "metadata": {},
   "outputs": [],
   "source": []
  },
  {
   "cell_type": "code",
   "execution_count": null,
   "metadata": {},
   "outputs": [],
   "source": []
  }
 ],
 "metadata": {
  "kernelspec": {
   "display_name": "C++17",
   "language": "C++17",
   "name": "xcpp17"
  },
  "language_info": {
   "codemirror_mode": "text/x-c++src",
   "file_extension": ".cpp",
   "mimetype": "text/x-c++src",
   "name": "c++",
   "version": "-std=c++17"
  }
 },
 "nbformat": 4,
 "nbformat_minor": 2
}

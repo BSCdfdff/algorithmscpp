{
 "cells": [
  {
   "cell_type": "markdown",
   "metadata": {},
   "source": [
    "# Messing with\n",
    "\n",
    "1. Linked Lists.\n",
    "    Main point point here(given our broad knowledge NOW :-) ) is a bit convaluted: Its uses array to demonstrated how we looop through a linked list in the second constructor (```LinkedList(int A[], int n)```). Lets feslg this function out: We using an array to populate a node, thats the essence. Set the first node (data) (first need to create it) equal to first element of array, and loop the rest of array elements to populate the nodes.Other point a pointer can only be defined in Heap. Also ```*next```, ```*first``` is also arbitrary, as we can use any variable name for this. \n",
    "\n"
   ]
  },
  {
   "cell_type": "code",
   "execution_count": null,
   "metadata": {},
   "outputs": [],
   "source": [
    "#include <iostream>\n",
    "#include <climits>\n",
    "#include <bitset>\n",
    "#include <math.h>\n",
    "#include <string>\n",
    "#define INSERTION_OPERATOR operator>>\n",
    "#define EXTRACTION_OPERATOR operator<<\n",
    "\n",
    "#define ADDITION_OPERATOR operator+\n",
    "#define SUBTRACT_OPERATOR operator-\n",
    "#define nn 8\n",
    "//#define n 16\n",
    "using namespace std;"
   ]
  },
  {
   "cell_type": "markdown",
   "metadata": {},
   "source": [
    "## Here we go..."
   ]
  },
  {
   "cell_type": "code",
   "execution_count": null,
   "metadata": {},
   "outputs": [],
   "source": [
    "class Node{\n",
    "public:    \n",
    "    int data;\n",
    "    Node *next;\n",
    "};\n",
    "\n",
    "class LinkedList{\n",
    "public:\n",
    "    Node *first;\n",
    "    \n",
    "    LinkedList(){\n",
    "        //first = NULL;\n",
    "        first = new Node();\n",
    "    }\n",
    "    LinkedList(int A[], int n);\n",
    "    ~LinkedList();\n",
    "    void Display();\n",
    "    int Len();\n",
    "    int Delete(int index);\n",
    "    void Insert(int index, int x);\n",
    "};"
   ]
  },
  {
   "cell_type": "code",
   "execution_count": null,
   "metadata": {},
   "outputs": [],
   "source": [
    "void LinkedList::Insert(int index, int x){\n",
    "    \n",
    "    Node *p=new Node;\n",
    "    p=first;\n",
    "    \n",
    "    if (index==0) {\n",
    "        Node *t = new Node();\n",
    "        t->data = x;\n",
    "        t->next=first;\n",
    "        first=t;\n",
    "    }    \n",
    "    else{\n",
    "        \n",
    "        for (int i=0;i < index; i++){\n",
    "            p=p->next;\n",
    "        }\n",
    "        \n",
    "        Node *t = new Node();\n",
    "        t->data = x;\n",
    "        t->next=p->next;\n",
    "        p->next=t;\n",
    "    }    \n",
    "    \n",
    "}"
   ]
  },
  {
   "cell_type": "code",
   "execution_count": null,
   "metadata": {},
   "outputs": [],
   "source": [
    "int LinkedList::Delete(int index){\n",
    "    Node *q, *p;\n",
    "    int x= -1;\n",
    "    \n",
    "    if (index < 0){\n",
    "        return -1;\n",
    "    }\n",
    "    \n",
    "    if (index == 0){\n",
    "       p=first;\n",
    "       first = first->next;\n",
    "       x=p->data;\n",
    "       delete p;\n",
    "    }else{\n",
    "       p=first; \n",
    "       \n",
    "        for (int i =0;i < index; i++){\n",
    "            q=p;\n",
    "            p=p->next;\n",
    "        }\n",
    "        \n",
    "        q->next=p->next;\n",
    "        x=p->data;\n",
    "        delete p;\n",
    "    }\n",
    "    return x;\n",
    "}"
   ]
  },
  {
   "cell_type": "code",
   "execution_count": null,
   "metadata": {},
   "outputs": [],
   "source": [
    "LinkedList::~LinkedList(){\n",
    "    \n",
    "    Node *p = new Node();\n",
    "    p=first;\n",
    "\n",
    "    while(first){\n",
    "        cout<<\"p->data = \"<<p->data<<endl;\n",
    "        first = first->next;\n",
    "        delete p;\n",
    "        p=first;\n",
    "    }\n",
    "}\n"
   ]
  },
  {
   "cell_type": "code",
   "execution_count": 6,
   "metadata": {},
   "outputs": [],
   "source": [
    "int LinkedList::Len(){\n",
    "    Node *p = new Node();\n",
    "    p=first;\n",
    "    int len=0;\n",
    "    while(p){\n",
    "        len++;\n",
    "        p=p->next;\n",
    "    }\n",
    "    \n",
    "    return len;\n",
    "}"
   ]
  },
  {
   "cell_type": "code",
   "execution_count": 7,
   "metadata": {},
   "outputs": [],
   "source": [
    "LinkedList::LinkedList(int A[], int n){\n",
    "    Node *last, *t;\n",
    "    \n",
    "    \n",
    "    first = new Node();\n",
    "    last= new Node();\n",
    "    \n",
    "    first->data=A[0];\n",
    "    first->next=NULL;\n",
    "    last = first;\n",
    "    \n",
    "    for (int i = 1; i < n;i++){\n",
    "        \n",
    "        t = new Node();\n",
    "        t->data = A[i];\n",
    "        t->next = NULL;\n",
    "        \n",
    "        last->next=t;\n",
    "        last=t;\n",
    "        \n",
    "    }\n",
    "    \n",
    "};"
   ]
  },
  {
   "cell_type": "code",
   "execution_count": 8,
   "metadata": {},
   "outputs": [],
   "source": [
    "void LinkedList::Display(){\n",
    "    Node *p=new Node();\n",
    "    p=first;\n",
    "    \n",
    "    while(p){\n",
    "        cout<<p->data<<\" \";\n",
    "        p=p->next;\n",
    "    }\n",
    "    cout<<endl;\n",
    "    \n",
    "};"
   ]
  },
  {
   "cell_type": "code",
   "execution_count": 9,
   "metadata": {},
   "outputs": [
    {
     "name": "stdout",
     "output_type": "stream",
     "text": [
      "3 4 5 10 11 \n",
      "5\n",
      "10\n",
      "3 4 5 11 \n",
      "3 4 5 10 11 \n",
      "1 3 4 5 10 11 \n",
      "p->data = 1\n",
      "p->data = 3\n",
      "p->data = 4\n",
      "p->data = 5\n",
      "p->data = 10\n",
      "p->data = 11\n"
     ]
    }
   ],
   "source": [
    "int A[5]={3,4,5,10,11};\n",
    "int n = 5;\n",
    "LinkedList l(A,n);\n",
    "l.Display();\n",
    "cout<<l.Len()<<endl;\n",
    "cout<<l.Delete(3)<<endl;\n",
    "l.Display();\n",
    "l.Insert(2,10);\n",
    "l.Display();\n",
    "l.Insert(0,1);\n",
    "l.Display();\n",
    "l.~LinkedList(); //\n"
   ]
  },
  {
   "cell_type": "code",
   "execution_count": null,
   "metadata": {},
   "outputs": [],
   "source": []
  },
  {
   "cell_type": "code",
   "execution_count": null,
   "metadata": {},
   "outputs": [],
   "source": [
    "Node *p = new Node();\n",
    "p->data=10;\n",
    "p->next = NULL;\n",
    "cout<<p->data<<endl;\n",
    "cout<<p->next<<endl;\n"
   ]
  },
  {
   "cell_type": "code",
   "execution_count": null,
   "metadata": {},
   "outputs": [],
   "source": []
  }
 ],
 "metadata": {
  "kernelspec": {
   "display_name": "C++17",
   "language": "C++17",
   "name": "xcpp17"
  },
  "language_info": {
   "codemirror_mode": "text/x-c++src",
   "file_extension": ".cpp",
   "mimetype": "text/x-c++src",
   "name": "c++",
   "version": "17"
  }
 },
 "nbformat": 4,
 "nbformat_minor": 2
}

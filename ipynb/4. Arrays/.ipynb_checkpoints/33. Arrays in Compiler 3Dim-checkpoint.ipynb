{
 "cells": [
  {
   "cell_type": "markdown",
   "metadata": {},
   "source": [
    "# Arrays in  Compiler\n",
    "\n",
    "+ For Three Dimensional Array"
   ]
  },
  {
   "cell_type": "markdown",
   "metadata": {},
   "source": [
    "## Row Major Mapping\n",
    "\n",
    "___\n",
    "\n",
    "\n",
    "Here we have Three(3) Dimensions:\n",
    "\n",
    " \n",
    "$$\\text {type } A[l][m][n]$$\n",
    "\n",
    "With row, we know we move from left to right.\n",
    "\n",
    "\n",
    "$$=  L_0 + [i\\times{m}\\times{n}+{j}\\times{n}+{k}] \\times w$$\n",
    "\n",
    "\n",
    "\n"
   ]
  },
  {
   "cell_type": "markdown",
   "metadata": {},
   "source": [
    "## Column Major Mapping\n",
    "\n",
    "___\n",
    "\n",
    "\n",
    "Here we have Three(3) Dimensions:\n",
    "\n",
    " \n",
    "$$\\text {type } A[l][m][n]$$\n",
    "\n",
    "With row, we know we move from right to left.\n",
    "\n",
    "Now  we start with k first\n",
    "\n",
    "$$=  L_0 + [k\\times{l}\\times{m}+{j}\\times{l}+{i}] \\times w$$\n",
    "\n",
    "\n",
    "\n"
   ]
  },
  {
   "cell_type": "code",
   "execution_count": null,
   "metadata": {},
   "outputs": [],
   "source": []
  }
 ],
 "metadata": {
  "kernelspec": {
   "display_name": "C++17",
   "language": "C++17",
   "name": "xcpp17"
  },
  "language_info": {
   "codemirror_mode": "text/x-c++src",
   "file_extension": ".cpp",
   "mimetype": "text/x-c++src",
   "name": "c++",
   "version": "-std=c++17"
  }
 },
 "nbformat": 4,
 "nbformat_minor": 2
}

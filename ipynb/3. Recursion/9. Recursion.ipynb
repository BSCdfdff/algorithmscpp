{
 "cells": [
  {
   "cell_type": "markdown",
   "metadata": {},
   "source": [
    "## Recursion\n",
    "\n",
    "+ \n"
   ]
  },
  {
   "cell_type": "markdown",
   "metadata": {},
   "source": [
    "## Recursion\n",
    "\n",
    "Function that calls itself.There must be an exit/base condition for function to know when to exit (itself).\n",
    "\n",
    "\n",
    "1. What is Recursion\n",
    "2. Example of Recursion \n",
    "3. Tracing Recursion\n",
    "4. Stack used in Recursion\n",
    "5. Time Complexity\n",
    "6. Recurrence Relation\n",
    "\n",
    "\n",
    "### Important here:\n",
    "\n",
    "***If we have (n-1) parameter string***\n",
    "\n",
    "1. Statements before the function call\n",
    "\n",
    "These statement will be actioned, every time the function gets called\n",
    "\n",
    "+ EXECUTE AT CALLING TIME [ASCENDING]\n",
    "\n",
    "\n",
    "2. Statements after the function call\n",
    "\n",
    "These statements will be actioned, once all functions have been called,  and when function is returning.\n",
    "\n",
    "+ EXECUTE AT RETURNING TIME [DESCENDING]\n",
    "\n",
    "There is two phases:\n",
    "\n",
    "1. Calling Phase\n",
    "2. Returning Phase\n",
    "\n",
    "### Why use recursion over loops?\n",
    "\n",
    "Loops only have ascending phase (i.e. forward only), whereas recursion has a ascending and descending phase. This is the power of recursion.\n",
    "\n"
   ]
  },
  {
   "cell_type": "markdown",
   "metadata": {},
   "source": [
    "## Tracing is done in form of tree\n",
    "\n",
    "\n",
    "### Place image of tracing here"
   ]
  },
  {
   "cell_type": "code",
   "execution_count": null,
   "metadata": {},
   "outputs": [],
   "source": [
    "#include <iostream>\n",
    "#include <climits>\n",
    "#include <math.h>\n",
    "using namespace std;"
   ]
  },
  {
   "cell_type": "code",
   "execution_count": null,
   "metadata": {},
   "outputs": [],
   "source": [
    "void fun(int n){\n",
    "    if (n > 0){\n",
    "        cout<<n<<endl;\n",
    "        fun(n-1);\n",
    "    }\n",
    "}\n",
    "    "
   ]
  },
  {
   "cell_type": "code",
   "execution_count": null,
   "metadata": {},
   "outputs": [],
   "source": [
    "int x=3;\n",
    "fun(x);\n"
   ]
  },
  {
   "cell_type": "code",
   "execution_count": null,
   "metadata": {},
   "outputs": [],
   "source": [
    "void fun1(int n){\n",
    "    if (n > 0){\n",
    "        fun1(n-1);\n",
    "        cout<<n<<endl;\n",
    "    }\n",
    "}\n",
    "    "
   ]
  },
  {
   "cell_type": "code",
   "execution_count": null,
   "metadata": {},
   "outputs": [],
   "source": [
    "int y=3;\n",
    "fun1(y);\n"
   ]
  },
  {
   "cell_type": "code",
   "execution_count": null,
   "metadata": {},
   "outputs": [],
   "source": []
  },
  {
   "cell_type": "code",
   "execution_count": null,
   "metadata": {},
   "outputs": [],
   "source": []
  },
  {
   "cell_type": "code",
   "execution_count": null,
   "metadata": {},
   "outputs": [],
   "source": []
  },
  {
   "cell_type": "code",
   "execution_count": null,
   "metadata": {},
   "outputs": [],
   "source": []
  },
  {
   "cell_type": "code",
   "execution_count": null,
   "metadata": {},
   "outputs": [],
   "source": []
  },
  {
   "cell_type": "code",
   "execution_count": null,
   "metadata": {},
   "outputs": [],
   "source": []
  }
 ],
 "metadata": {
  "kernelspec": {
   "display_name": "C++17",
   "language": "C++17",
   "name": "xcpp17"
  },
  "language_info": {
   "codemirror_mode": "text/x-c++src",
   "file_extension": ".cpp",
   "mimetype": "text/x-c++src",
   "name": "c++",
   "version": "-std=c++17"
  }
 },
 "nbformat": 4,
 "nbformat_minor": 2
}

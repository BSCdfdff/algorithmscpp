{
 "cells": [
  {
   "cell_type": "markdown",
   "metadata": {},
   "source": [
    "# Fibonacci Series"
   ]
  },
  {
   "cell_type": "markdown",
   "metadata": {},
   "source": [
    "## Fibonacci Series\n",
    "___\n",
    "\n",
    "\n",
    "\n",
    "\n",
    "$$ $$\n",
    "\n",
    "$$ $$\n",
    "\n",
    "\n",
    "$$\n",
    "pow(m,n) =\n",
    "\\begin{cases}\n",
    "1  & \\text{where $n = 0$ (Base Condition)} \\\\\n",
    "\\\\ \n",
    "pow(m,n-1)×m & \\text{where $n > 0$}\n",
    "\\end{cases}\n",
    "$$\n",
    "\n",
    "\n",
    "$$ $$\n",
    "\n",
    "$$ $$\n",
    "\n",
    "\n",
    "\n",
    "\n",
    "_____\n",
    "\n",
    "$${e^x}={ 1 + x + {\\frac  {{{x^2}}} {{2!}} }+{\\frac  {{{x^3}}} {{3!}} }+{\\frac {{{x^4}}} {{4!}} }  }+{{\\frac{{{x^5}}}{{5!}}} +   \\ldots}  +  \\text {n terms}$$\n",
    "\n",
    "\n",
    "Note :  $ 1 + x $  is the same as $1 + {\\frac  {{{x}}} {{1!}} }$\n",
    "\n",
    "\n",
    "This method will be faster by taking less number of multiplications.\n",
    "\n",
    "\n",
    "But where are the multiplications done?\n",
    "\n",
    "\n",
    "For the evaluation of say 4 ! and x power of 4, that is ($ {\\frac  {{{x^4}}} {{4!}} }$), then multiplication is done of all factorials and all powers of x. So for each term we need to perform some multiplication.\n",
    "\n",
    "So lets analyze from start:\n",
    "\n",
    "$${e^x}={ 1 + x + {\\frac  {{{x^2}}} {{2!}} }+{\\frac  {{{x^3}}} {{3!}} }+{\\frac {{{x^4}}} {{4!}} }  }+{{\\frac{{{x^5}}}{{5!}}} +   \\ldots}  +  \\text {n terms}$$\n",
    "\n",
    "\n",
    "___\n",
    " $$\\text{1 = no multiplication}$$\n",
    " \n",
    " $$\\text{For: }{\\frac  {{{x}}} {{1}} } \\text{= no multiplication} $$ \n",
    " \n",
    " $$\\text{For: }{\\frac  {{{x^2}}} {{2!}} } $$\n",
    "  $$\\text{Power: }x\\times{x}$$\n",
    "  $$\\text{Facotorial: }1\\times{2}$$  \n",
    " $$\\text{Total = 2 multiplications}$$\n",
    "\n",
    " $$\\text{For: }{\\frac  {{{x^3}}} {{3!}} } $$\n",
    "  $$\\text{Power: }x\\times{x}\\times{x}$$ \n",
    "  $$\\text{Facotorial: }1\\times{2}\\times{3}$$  \n",
    " $$\\text{Total = 4 multiplications}$$\n",
    " \n",
    " \n",
    "  $$\\text{For: }{\\frac  {{{x^4}}} {{4!}} } $$\n",
    " $$\\text{Power: }x\\times{x}\\times{x}\\times{x} $$\n",
    " $$\\text{Facotorial: }1\\times{2}\\times{3}\\times{4} $$\n",
    " $$\\text{Total = 6 multiplications}$$\n",
    " \n",
    " Total multiplications =  $2 [1+2+3+4]$\n",
    " \n",
    " So we know the summation of n terms ($[1+2+3+4]$)  is: \n",
    " \n",
    " $$   n(n+1)\\over 2$$\n",
    "\n",
    "\n",
    "So we can cross out/cancel the 2's,\n",
    "\n",
    "$$ \\require{cancel}\\cancel2 \\text{ }  n(n+1)\\over \\cancel2 $$\n",
    "\n",
    "\n",
    "Total multiplications for Taylor series: \n",
    "\n",
    "\n",
    "$$ n(n+1) $$\n",
    "\n",
    "$$ \\text O(n^2) $$\n",
    "\n",
    "$$ \\text (Quadratic) $$\n",
    "\n",
    "\n",
    "But can we reduce this total number of multiplications\n",
    "\n"
   ]
  },
  {
   "cell_type": "markdown",
   "metadata": {},
   "source": [
    "\n",
    "### Reduce Total Number of Multiplicaton\n",
    "___\n",
    "\n",
    "\n",
    "\n",
    "$${e^x}={ 1 + {\\frac  {{{x}}} {{1}} } + {\\frac  {{{x^2}}} {{1\\times2}} }+{\\frac  {{{x^3}}} {{1\\times2\\times3}} }+{\\frac {{{x^4}}} {{1\\times2\\times3\\times4}} }  }$$\n",
    "\n",
    "\n",
    "Lets take the common terms:\n",
    "\n",
    "\n",
    "\n",
    "$$1 + {\\frac  {{{x}}} {{1}} }    \\left[ 1 +  \\frac {{{x}}} {{2}} +\\frac  {{{x^2}}} {{2\\times3}}  + \\frac {{{x^3}}} {{2\\times3\\times4}}  \\right]$$\n",
    "\n",
    "\n",
    "\n",
    "$$1 + {\\frac  {{{x}}} {{1}} }    \\left[ 1 +  \\frac {{{x}}} {{2}}  \\left[ 1 +  \\frac  {{{x}}} {{3}}  + \\frac {{{x^2}}} {{3\\times4}}  \\right] \\right]$$\n",
    "\n",
    "\n",
    "\n",
    "$$1 + {\\frac  {{{x}}} {{1}} }    \\left[ 1 +  \\frac {{{x}}} {{2}}  \\left[ 1 +  \\frac  {{{x}}} {{3}}  + \\left[ 1 +   \\frac {{{x}}} {{4}} \\right] \\right] \\right]$$\n",
    "\n",
    "\n",
    "\n",
    "How did we reduce the number of multiplications?\n",
    "\n",
    "Infront of each bracket we can count a multiplication, that is 3 and last closing, is equal to 4.\n",
    "\n",
    "So up to 4 terms, only 4 multiplications is required, so it is reduced to:\n",
    "\n",
    "$$ \\text O(n) $$\n",
    "\n",
    "$$ \\text (Linear) $$\n",
    "\n",
    "\n",
    "Lets write a recursive function for this approach.\n",
    "\n",
    "\n",
    "\n",
    "From the above we can see that multiplication is done in this order:\n",
    "\n",
    "${ 1 +  \\frac {{{x}}} {{4}}}$, and then by ${ 1 +  \\frac {{{x}}} {{3}}}$, then by ${ 1 +  \\frac {{{x}}} {{2}}}$, etc.\n",
    "\n",
    "Thats is RETURNING TIME, nothing happens (with previous method most of work was done here), but  here at CALLING time ONLY\n",
    "\n",
    "So this can easily be done using loop:\n",
    "\n",
    "\n"
   ]
  },
  {
   "cell_type": "code",
   "execution_count": null,
   "metadata": {},
   "outputs": [],
   "source": [
    "#include <iostream>\n",
    "#include <climits>\n",
    "#include <math.h>\n",
    "using namespace std;"
   ]
  },
  {
   "cell_type": "markdown",
   "metadata": {},
   "source": [
    "## Using Loop"
   ]
  },
  {
   "cell_type": "code",
   "execution_count": null,
   "metadata": {},
   "outputs": [],
   "source": [
    "int fibLoop(int x);"
   ]
  },
  {
   "cell_type": "code",
   "execution_count": null,
   "metadata": {},
   "outputs": [],
   "source": [
    "int fibLoop(int n){    \n",
    "    int t0=0, t1=1, s=0;\n",
    "    if(n<=1)\n",
    "        return n;\n",
    "    for (int i = 2; i<=n;i++){\n",
    "        s=t0+t1;\n",
    "        t0=t1;\n",
    "        t1=s;\n",
    "    }\n",
    "    return s;\n",
    "    \n",
    "}"
   ]
  },
  {
   "cell_type": "code",
   "execution_count": null,
   "metadata": {},
   "outputs": [],
   "source": [
    "int x20=20;\n",
    "int z20=0;\n",
    "z20 =fibLoop(x20);"
   ]
  },
  {
   "cell_type": "code",
   "execution_count": null,
   "metadata": {},
   "outputs": [],
   "source": [
    "cout<<z20<<endl; "
   ]
  },
  {
   "cell_type": "markdown",
   "metadata": {},
   "source": [
    "## Normal Fibonacci\n"
   ]
  },
  {
   "cell_type": "code",
   "execution_count": null,
   "metadata": {},
   "outputs": [],
   "source": [
    "int fibRec(int x);"
   ]
  },
  {
   "cell_type": "code",
   "execution_count": null,
   "metadata": {},
   "outputs": [],
   "source": [
    "int fibRec(int n){    \n",
    "    if(n<=1)\n",
    "        return n;\n",
    "    return fibRec(n-2)+fibRec(n-1);\n",
    "\n",
    "}\n",
    "    "
   ]
  },
  {
   "cell_type": "code",
   "execution_count": null,
   "metadata": {},
   "outputs": [],
   "source": [
    "int x=20;\n",
    "int z=0;\n",
    "z =fibRec(x);"
   ]
  },
  {
   "cell_type": "code",
   "execution_count": null,
   "metadata": {},
   "outputs": [],
   "source": [
    "cout<<z<<endl; "
   ]
  },
  {
   "cell_type": "markdown",
   "metadata": {},
   "source": [
    "## ## Normal Fibonacci using Memoization (static variables)\n"
   ]
  },
  {
   "cell_type": "code",
   "execution_count": null,
   "metadata": {},
   "outputs": [],
   "source": [
    "int sz=50;\n",
    "int F[50];\n",
    "for(int i=0; i<sz;i++)\n",
    "{\n",
    "    F[i]=-1;\n",
    "}"
   ]
  },
  {
   "cell_type": "code",
   "execution_count": null,
   "metadata": {},
   "outputs": [],
   "source": [
    "int fibRecMem(int x);"
   ]
  },
  {
   "cell_type": "code",
   "execution_count": null,
   "metadata": {},
   "outputs": [],
   "source": [
    "int fibRecMem(int n){    \n",
    "    if(n<=1){\n",
    "        F[n]=n;\n",
    "        return n;\n",
    "    }\n",
    "    else\n",
    "    {\n",
    "     if (F[n-2]==-1)\n",
    "        F[n-2]=fibRecMem(n-2);\n",
    "     if (F[n-1]==-1)\n",
    "        F[n-1]=fibRecMem(n-1);\n",
    "    return fibRecMem(n-2)+fibRecMem(n-1);   \n",
    "    }\n",
    "}\n",
    "    "
   ]
  },
  {
   "cell_type": "code",
   "execution_count": null,
   "metadata": {},
   "outputs": [],
   "source": [
    "int x111=50;\n",
    "int z111=0;\n",
    "\n",
    "z111 =fibRecMem(x111);\n"
   ]
  },
  {
   "cell_type": "code",
   "execution_count": null,
   "metadata": {},
   "outputs": [],
   "source": [
    "cout<<z111<<endl; "
   ]
  },
  {
   "cell_type": "code",
   "execution_count": null,
   "metadata": {},
   "outputs": [],
   "source": []
  }
 ],
 "metadata": {
  "kernelspec": {
   "display_name": "C++17",
   "language": "C++17",
   "name": "xcpp17"
  },
  "language_info": {
   "codemirror_mode": "text/x-c++src",
   "file_extension": ".cpp",
   "mimetype": "text/x-c++src",
   "name": "c++",
   "version": "-std=c++17"
  }
 },
 "nbformat": 4,
 "nbformat_minor": 2
}

{
 "cells": [
  {
   "cell_type": "markdown",
   "metadata": {},
   "source": [
    "# Indirect Recursion"
   ]
  },
  {
   "cell_type": "markdown",
   "metadata": {},
   "source": [
    "## Indirect Recursion\n",
    "\n",
    "Where you have the following calls:\n",
    "\n",
    "Func A calls Func B\n",
    "\n",
    "Func B calls Func A\n",
    "\n",
    "Function A has indirect calls to itself through Function B\n",
    "\n",
    "Cannot get it to work, even with defining a protoype\n",
    "\n",
    "As I cannot test, the **output** is:\n",
    "\n",
    "$20-19-9-8-4-3-1$"
   ]
  },
  {
   "cell_type": "code",
   "execution_count": 3,
   "metadata": {},
   "outputs": [],
   "source": [
    "#include <iostream>\n",
    "#include <climits>\n",
    "#include <math.h>\n",
    "using namespace std;"
   ]
  },
  {
   "cell_type": "code",
   "execution_count": 2,
   "metadata": {},
   "outputs": [
    {
     "name": "stderr",
     "output_type": "stream",
     "text": [
      "\u001b[1minput_line_9:3:6: \u001b[0m\u001b[0;1;31merror: \u001b[0m\u001b[1m'funA' is not a class, namespace, or enumeration\u001b[0m\n",
      "void funA::funB(int n);\n",
      "\u001b[0;1;32m     ^\n",
      "\u001b[0m\u001b[1minput_line_9:2:7: \u001b[0m\u001b[0;1;30mnote: \u001b[0m'funA' declared here\u001b[0m\n",
      " void funA(int n);\n",
      "\u001b[0;1;32m      ^\n",
      "\u001b[0m"
     ]
    },
    {
     "ename": "Interpreter Error",
     "evalue": "",
     "output_type": "error",
     "traceback": [
      "Interpreter Error: "
     ]
    }
   ],
   "source": [
    "void funA(int n);\n",
    "void funB(int n);"
   ]
  },
  {
   "cell_type": "code",
   "execution_count": null,
   "metadata": {},
   "outputs": [],
   "source": [
    "void funA(int n){              \n",
    "    if (n > 0){                \n",
    "        cout<<n<<endl;         \n",
    "        funB(n-1);              \n",
    "    }\n",
    "}"
   ]
  },
  {
   "cell_type": "code",
   "execution_count": null,
   "metadata": {},
   "outputs": [],
   "source": [
    "void funB(int n){              \n",
    "    if (n > 0){                \n",
    "        cout<<n<<endl;         \n",
    "        funA(n/2);              \n",
    "    }\n",
    "}"
   ]
  },
  {
   "cell_type": "code",
   "execution_count": null,
   "metadata": {},
   "outputs": [],
   "source": [
    "int x=20;\n",
    "funA(x);\n"
   ]
  },
  {
   "cell_type": "code",
   "execution_count": null,
   "metadata": {},
   "outputs": [],
   "source": []
  }
 ],
 "metadata": {
  "kernelspec": {
   "display_name": "C++17",
   "language": "C++17",
   "name": "xcpp17"
  },
  "language_info": {
   "codemirror_mode": "text/x-c++src",
   "file_extension": ".cpp",
   "mimetype": "text/x-c++src",
   "name": "c++",
   "version": "-std=c++17"
  }
 },
 "nbformat": 4,
 "nbformat_minor": 2
}

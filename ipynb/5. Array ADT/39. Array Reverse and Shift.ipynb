{
 "cells": [
  {
   "cell_type": "markdown",
   "metadata": {},
   "source": [
    "# Array ADT\n",
    "\n",
    "+ Reverse\n",
    "+ Left Shift\n",
    "+ Left Rotate\n",
    "+ Right Shift\n",
    "+ Right Rotate\n"
   ]
  },
  {
   "cell_type": "markdown",
   "metadata": {},
   "source": [
    "## Our Array\n",
    "\n",
    "___\n",
    "\n",
    "Size = 15\n",
    "\n",
    "Length = 15\n",
    "\n",
    "How to read the table:\n",
    "\n",
    "1. First row contains the value(s)\n",
    "2. Second row contains the index\n",
    "\n",
    "\n",
    "$$\n",
    "\\newcommand\\T{\\Rule{0pt}{1em}{.3em}}\n",
    "\\begin{array}{|r|r|r|r|r|r|r|r|r|r|}\n",
    "\\hline \n",
    "8\\T&3\\T&9\\T&15\\T&6\\T&10\\T&7\\T&2\\T&12\\T&4  \\\\\\hline \n",
    "_0\\T&_1\\T&_2\\T&_3\\T&_4\\T&_5\\T&_6\\T&_7\\T&_8\\T&_9 \\\\\\hline \n",
    "\\end{array}\n",
    "$$\n",
    "\n"
   ]
  },
  {
   "cell_type": "markdown",
   "metadata": {},
   "source": [
    "## Reverse\n",
    "\n",
    "___\n",
    "\n",
    "#### Method 1:\n",
    "\n",
    "Lets call this A\n",
    "$$\n",
    "\\newcommand\\T{\\Rule{0pt}{1em}{.3em}}\n",
    "\\begin{array}{|r|r|r|r|r|r|r|r|r|r|}\n",
    "\\hline \n",
    "8\\T&3\\T&9\\T&15\\T&6\\T&10\\T&7\\T&2\\T&12\\T&4  \\\\\\hline \n",
    "_0\\T&_1\\T&_2\\T&_3\\T&_4\\T&_5\\T&_6\\T&_7\\T&_8\\T&_9 \\\\\\hline \n",
    "\\T&\\T&\\T&\\T&\\T&\\T&\\T&\\T&\\T&_i\\\\\\hline \n",
    "\\end{array}\n",
    "$$\n",
    "\n",
    "\n",
    "Here we require an extra array. \n",
    "\n",
    "Copy from A to B. Lets call this B \n",
    "\n",
    "$$\n",
    "\\newcommand\\T{\\Rule{0pt}{1em}{.3em}}\n",
    "\\begin{array}{|r|r|r|r|r|r|r|r|r|r|}\n",
    "\\hline \n",
    "4\\T&12\\T&2\\T&7\\T&10\\T&6\\T&15\\T&9\\T&3\\T&8  \\\\\\hline \n",
    "_0\\T&_1\\T&_2\\T&_3\\T&_4\\T&_5\\T&_6\\T&_7\\T&_8\\T&_9 \\\\\\hline\n",
    "_j&\\T&\\T&\\T&\\T&\\T&\\T&\\T&\\T&\\\\\\hline \n",
    "\\end{array}\n",
    "$$\n",
    "\n",
    "\n",
    "Note: In the code, we can see that inside a for loop we can have more than one \"iterator\". Normally we only have 1, e.g. $\\text {int } i$. However we can have multiple separated by comma.\n",
    "\n",
    "\n",
    "In Array A, $i$ will be set to the last element, and move backwards, i.e. gets decremented.\n",
    "\n",
    "In Array B, $j$ will be set to the First element, and move forward, i.e. gets incremented.\n",
    "\n",
    "So A will be tracked by $i$. Thats is we find $A[i]$, and assigned it to the first element if $j$, that is $B[j]$. So B will increase, and A will decrease. The combined for loop will take care of this logic.\n",
    "\n",
    "\n",
    "\n",
    "\n",
    "Then copy from B to A.\n",
    "\n",
    "$$\n",
    "\\newcommand\\T{\\Rule{0pt}{1em}{.3em}}\n",
    "\\begin{array}{|r|r|r|r|r|r|r|r|r|r|}\n",
    "\\hline \n",
    "8\\T&3\\T&9\\T&15\\T&6\\T&10\\T&7\\T&2\\T&12\\T&4  \\\\\\hline \n",
    "_0\\T&_1\\T&_2\\T&_3\\T&_4\\T&_5\\T&_6\\T&_7\\T&_8\\T&_9 \\\\\\hline \n",
    "\\end{array}\n",
    "$$\n",
    "\n",
    "\n",
    "\n",
    "Time taken order n: $O{(n)}$\n",
    "\n",
    "#### Method 2:\n",
    "\n",
    "Here we scan from two ends of the array (begining and end), and swap those items. Then move (increment start), and decrement the end. And swap those ones, and so on.\n",
    "\n",
    "\n",
    "\n",
    "$$\n",
    "\\newcommand\\T{\\Rule{0pt}{1em}{.3em}}\n",
    "\\begin{array}{|r|r|r|r|r|r|r|r|r|r|}\n",
    "\\hline \n",
    "8\\T&3\\T&9\\T&15\\T&6\\T&10\\T&7\\T&2\\T&12\\T&4  \\\\\\hline \n",
    "_0\\T&_1\\T&_2\\T&_3\\T&_4\\T&_5\\T&_6\\T&_7\\T&_8\\T&_9 \\\\\\hline \n",
    "_i\\T&\\T&\\T&\\T&\\T&\\T&\\T&\\T&\\T&_j\\\\\\hline \n",
    "\\end{array}\n",
    "$$\n",
    "\n",
    "Here we only require the one array.\n",
    "\n",
    "When do we stop? Very important we stop when $i$ equals or becomes greater than $j$. If you forget about this, you will return to same list as before.\n",
    "\n",
    "\n",
    "$$\n",
    "\\newcommand\\T{\\Rule{0pt}{1em}{.3em}}\n",
    "\\begin{array}{|r|r|r|r|r|r|r|r|r|r|}\n",
    "\\hline \n",
    "8\\T&3\\T&9\\T&15\\T&6\\T&10\\T&7\\T&2\\T&12\\T&4  \\\\\\hline \n",
    "_0\\T&_1\\T&_2\\T&_3\\T&_4\\T&_5\\T&_6\\T&_7\\T&_8\\T&_9 \\\\\\hline \n",
    "\\T&\\T&\\T&\\T&_i\\T&_j\\T&\\T&\\T&\\T&\\\\\\hline \n",
    "\\end{array}\n",
    "$$\n",
    "\n",
    "That is where $i$ becomes $5$, thats where the loop must stop\n",
    "___\n",
    "\n"
   ]
  },
  {
   "cell_type": "code",
   "execution_count": null,
   "metadata": {},
   "outputs": [],
   "source": [
    "#include <iostream>\n",
    "#include <climits>\n",
    "#include <math.h>\n",
    "using namespace std;"
   ]
  },
  {
   "cell_type": "code",
   "execution_count": null,
   "metadata": {},
   "outputs": [],
   "source": [
    "class Array{\n",
    "private:\n",
    "    int *A;\n",
    "    int size;\n",
    "    int length;\n",
    "    void Swap (int *x, int *y);\n",
    "public:\n",
    "    Array(){\n",
    "        size=10;\n",
    "        A=new int[10];\n",
    "        length = 0;\n",
    "        \n",
    "    }\n",
    "    Array(int sz){\n",
    "        size=sz;\n",
    "        A=new int[sz];\n",
    "        length = 0;\n",
    "        \n",
    "    }\n",
    "    ~Array(){\n",
    "        delete []A;\n",
    "    }\n",
    "    void Display();\n",
    "    void Insert (int index, int x);\n",
    "    void Revers1();\n",
    "    void Revers2();\n",
    "}"
   ]
  },
  {
   "cell_type": "code",
   "execution_count": null,
   "metadata": {},
   "outputs": [],
   "source": [
    "void Array::Swap (int *x, int *y){\n",
    "    int temp;\n",
    "    temp =*x;\n",
    "    *x=*y;\n",
    "    *y = temp;\n",
    "}"
   ]
  },
  {
   "cell_type": "code",
   "execution_count": null,
   "metadata": {},
   "outputs": [],
   "source": [
    "void Array::Revers1(){\n",
    "    int *B= new int[14];\n",
    "    \n",
    "    for(int i=length-1, j = 0; i>=0, j<length-1; i--, j++){\n",
    "       B[j] = A[i]; \n",
    "    }\n",
    "    \n",
    "    for(int i=0; i<length-1;i++){\n",
    "       A[i] = B[i]; \n",
    "    }\n",
    "    \n",
    "    \n",
    "    for(int i=0; i<14;i++)\n",
    "      cout<<B[i]<<\" \";      \n",
    "    cout<<endl;  \n",
    "    \n",
    "    \n",
    "}"
   ]
  },
  {
   "cell_type": "code",
   "execution_count": 5,
   "metadata": {},
   "outputs": [],
   "source": [
    "void Array::Revers2(){\n",
    "    int temp;\n",
    "    for(int i=0, j = length-1; i<j; i++, j--){\n",
    "       cout<<\"i:\"<<A[i]<<endl;\n",
    "       cout<<\"j:\"<<A[j]<<endl;\n",
    "       Swap(&A[i], &A[j]);\n",
    "    }\n",
    "    \n",
    "}"
   ]
  },
  {
   "cell_type": "code",
   "execution_count": 6,
   "metadata": {},
   "outputs": [],
   "source": [
    "void Array::Insert(int index, int x){\n",
    "   if  (index>=0 && index<=length){\n",
    "     for(int i=length-1;i>=index;i--)\n",
    "         A[i+1]=A[i];\n",
    "     A[index]=x;\n",
    "     length++;  \n",
    "   }\n",
    "}"
   ]
  },
  {
   "cell_type": "code",
   "execution_count": 7,
   "metadata": {},
   "outputs": [],
   "source": [
    "void Array::Display(){\n",
    "    for(int i=0; i<length;i++)\n",
    "      cout<<A[i]<<\" \";      \n",
    "    cout<<endl;      \n",
    "}"
   ]
  },
  {
   "cell_type": "code",
   "execution_count": 8,
   "metadata": {},
   "outputs": [],
   "source": [
    "Array arr(14);\n",
    "arr.Insert(0,4);\n",
    "arr.Insert(1,8);\n",
    "arr.Insert(2,10);\n",
    "arr.Insert(3,15);\n",
    "arr.Insert(4,18);\n",
    "arr.Insert(5,21);\n",
    "arr.Insert(6,24);\n",
    "arr.Insert(7,27);\n",
    "arr.Insert(8,29);\n",
    "arr.Insert(9,33);\n",
    "arr.Insert(10,34);\n",
    "arr.Insert(11,37);\n",
    "arr.Insert(12,39);\n",
    "arr.Insert(13,41);\n",
    "arr.Insert(14,43);\n"
   ]
  },
  {
   "cell_type": "code",
   "execution_count": 9,
   "metadata": {},
   "outputs": [
    {
     "name": "stdout",
     "output_type": "stream",
     "text": [
      "4 8 10 15 18 21 24 27 29 33 34 37 39 41 43 \n"
     ]
    }
   ],
   "source": [
    "arr.Display();"
   ]
  },
  {
   "cell_type": "code",
   "execution_count": 10,
   "metadata": {},
   "outputs": [],
   "source": [
    "//arr.Revers1();"
   ]
  },
  {
   "cell_type": "code",
   "execution_count": 11,
   "metadata": {},
   "outputs": [],
   "source": [
    "//arr.Display();"
   ]
  },
  {
   "cell_type": "code",
   "execution_count": 12,
   "metadata": {},
   "outputs": [
    {
     "name": "stdout",
     "output_type": "stream",
     "text": [
      "i:4\n",
      "j:43\n",
      "i:8\n",
      "j:41\n",
      "i:10\n",
      "j:39\n",
      "i:15\n",
      "j:37\n",
      "i:18\n",
      "j:34\n",
      "i:21\n",
      "j:33\n",
      "i:24\n",
      "j:29\n"
     ]
    }
   ],
   "source": [
    "arr.Revers2();"
   ]
  },
  {
   "cell_type": "code",
   "execution_count": 13,
   "metadata": {},
   "outputs": [
    {
     "name": "stdout",
     "output_type": "stream",
     "text": [
      "43 41 39 37 34 33 29 27 24 21 18 15 10 8 4 \n"
     ]
    }
   ],
   "source": [
    "arr.Display();"
   ]
  },
  {
   "cell_type": "code",
   "execution_count": null,
   "metadata": {},
   "outputs": [],
   "source": []
  }
 ],
 "metadata": {
  "kernelspec": {
   "display_name": "C++17",
   "language": "C++17",
   "name": "xcpp17"
  },
  "language_info": {
   "codemirror_mode": "text/x-c++src",
   "file_extension": ".cpp",
   "mimetype": "text/x-c++src",
   "name": "c++",
   "version": "-std=c++17"
  }
 },
 "nbformat": 4,
 "nbformat_minor": 2
}

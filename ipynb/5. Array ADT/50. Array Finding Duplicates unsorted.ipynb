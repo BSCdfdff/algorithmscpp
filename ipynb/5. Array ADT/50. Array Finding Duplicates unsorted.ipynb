{
 "cells": [
  {
   "cell_type": "markdown",
   "metadata": {},
   "source": [
    "# Array ADT\n",
    "\n",
    "+ Finding duplicates elements in unsorted array\n",
    "+ Using Hashing\n"
   ]
  },
  {
   "cell_type": "markdown",
   "metadata": {},
   "source": [
    "## Finding a Duplicates in a unsorted array\n",
    "\n",
    "___\n",
    "\n",
    "Lets call this A\n",
    "\n",
    "$$\n",
    "\\newcommand\\T{\\Rule{0pt}{1em}{.3em}}\n",
    "\\begin{array}{|r|r|r|r|r|r|r|r|r|r|}\n",
    "\\hline \n",
    "8\\T&3\\T&6\\T&4\\T&6\\T&5\\T&6\\T&8\\T&2\\T&7  \\\\\\hline \n",
    "_0\\T&_1\\T&_2\\T&_3\\T&_4\\T&_5\\T&_6\\T&_7\\T&_8\\T&_9 \\\\\\hline \n",
    "\\end{array}\n",
    "$$\n",
    "\n",
    "From observations we can see that 8 and 6 is duplicated.\n",
    "\n",
    "#### Method 1:\n",
    "\n",
    "\n",
    "\n"
   ]
  },
  {
   "cell_type": "code",
   "execution_count": 1,
   "metadata": {},
   "outputs": [],
   "source": [
    "#include <iostream>\n",
    "#include <climits>\n",
    "#include <math.h>\n",
    "using namespace std;"
   ]
  },
  {
   "cell_type": "code",
   "execution_count": 2,
   "metadata": {},
   "outputs": [],
   "source": [
    "class Array{\n",
    "private:\n",
    "    int *A;\n",
    "    int size;\n",
    "    int length;\n",
    "    void Swap (int *x, int *y);\n",
    "    int SumNatNos(int y);\n",
    "    bool FindDiffenceSuccess (int x,int y, int z);\n",
    "public:\n",
    "    Array(){\n",
    "        size=10;\n",
    "        A=new int[10];\n",
    "        length = 0;\n",
    "        \n",
    "    }\n",
    "    Array(int sz){\n",
    "        size=sz;\n",
    "        A=new int[sz];\n",
    "        length = 0;\n",
    "        \n",
    "    }\n",
    "    ~Array(){\n",
    "        delete []A;\n",
    "    }\n",
    "    void Display();\n",
    "    void Insert (int index, int x);\n",
    "    void FindDplicatesinSortedUsingHashing(int h);\n",
    "}"
   ]
  },
  {
   "cell_type": "code",
   "execution_count": 3,
   "metadata": {},
   "outputs": [],
   "source": [
    "int Array::SumNatNos (int y){\n",
    "    return  (y*(1+y))/2;    \n",
    "}\n",
    "\n"
   ]
  },
  {
   "cell_type": "code",
   "execution_count": 4,
   "metadata": {},
   "outputs": [],
   "source": [
    "bool Array::FindDiffenceSuccess (int x, int y, int z){\n",
    "    int a=0;\n",
    "    a= x - y;\n",
    "    if (a==z){\n",
    "     return true;    \n",
    "    }\n",
    "    return false; \n",
    "}"
   ]
  },
  {
   "cell_type": "code",
   "execution_count": 5,
   "metadata": {},
   "outputs": [],
   "source": [
    "void Array::Swap (int *x, int *y){\n",
    "    int temp;\n",
    "    temp =*x;\n",
    "    *x=*y;\n",
    "    *y = temp;\n",
    "}"
   ]
  },
  {
   "cell_type": "code",
   "execution_count": 6,
   "metadata": {},
   "outputs": [],
   "source": [
    "void Array::FindDplicatesinSortedUsingHashing (int h){\n",
    "    int *H = new int[12];\n",
    "    \n",
    "    for (int j = 0; j<h; j++) \n",
    "       H[j]=0;\n",
    "    \n",
    "    //same H[A[i]]=1\n",
    "    for(int i=0; i < length; i++ ){\n",
    "        H[A[i]]++;\n",
    "    }\n",
    "    \n",
    "    for (int j = 0; j<h; j++) \n",
    "       cout<<H[j]<<\" \";      \n",
    "    cout<<endl;      \n",
    "\n",
    "    for (int j = 1; j<h-1; j++) {\n",
    "        if (H[j]>=2)\n",
    "         cout<<j<<\" is appearing \"<<H[j]<< \" times.\"<<endl;     \n",
    "    }\n",
    "    \n",
    "      \n",
    "     \n",
    "}"
   ]
  },
  {
   "cell_type": "code",
   "execution_count": 7,
   "metadata": {},
   "outputs": [],
   "source": [
    "void Array::Insert(int index, int x){\n",
    "   if  (index>=0 && index<=length){\n",
    "     for(int i=length-1;i>=index;i--)\n",
    "         A[i+1]=A[i];\n",
    "     A[index]=x;\n",
    "     length++;  \n",
    "   }\n",
    "}"
   ]
  },
  {
   "cell_type": "code",
   "execution_count": 8,
   "metadata": {},
   "outputs": [],
   "source": [
    "void Array::Display(){\n",
    "    for(int i=0; i<length;i++)\n",
    "      cout<<A[i]<<\" \";      \n",
    "    cout<<endl;      \n",
    "}"
   ]
  },
  {
   "cell_type": "code",
   "execution_count": 9,
   "metadata": {},
   "outputs": [
    {
     "name": "stdout",
     "output_type": "stream",
     "text": [
      "0 0 0 1 0 0 1 0 2 0 1 0 1 0 0 3 0 0 0 0 \n",
      "8 is appearing 2 times.\n",
      "15 is appearing 3 times.\n"
     ]
    }
   ],
   "source": [
    "Array arr(10);\n",
    "arr.Insert(0,8);\n",
    "arr.Insert(1,3);\n",
    "arr.Insert(2,6);\n",
    "arr.Insert(3,4); \n",
    "arr.Insert(4,6);\n",
    "arr.Insert(5,5);\n",
    "arr.Insert(6,6);\n",
    "arr.Insert(7,8);\n",
    "arr.Insert(8,2);\n",
    "arr.Insert(9,7);\n",
    "arr.FindDplicatesinSortedUsingHashing(20);\n",
    "\n"
   ]
  },
  {
   "cell_type": "code",
   "execution_count": null,
   "metadata": {},
   "outputs": [],
   "source": []
  },
  {
   "cell_type": "code",
   "execution_count": null,
   "metadata": {},
   "outputs": [],
   "source": []
  }
 ],
 "metadata": {
  "kernelspec": {
   "display_name": "C++17",
   "language": "C++17",
   "name": "xcpp17"
  },
  "language_info": {
   "codemirror_mode": "text/x-c++src",
   "file_extension": ".cpp",
   "mimetype": "text/x-c++src",
   "name": "c++",
   "version": "-std=c++17"
  }
 },
 "nbformat": 4,
 "nbformat_minor": 2
}

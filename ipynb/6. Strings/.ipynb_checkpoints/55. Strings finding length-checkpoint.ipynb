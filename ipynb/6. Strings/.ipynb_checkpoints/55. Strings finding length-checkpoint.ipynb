{
 "cells": [
  {
   "cell_type": "markdown",
   "metadata": {},
   "source": [
    "# Strings\n",
    "\n",
    "+ Character sets or ASCII Codes\n",
    "+ Character Array\n",
    "+ String\n",
    "+ Creating a string (in C Lang)\n"
   ]
  },
  {
   "cell_type": "markdown",
   "metadata": {},
   "source": [
    "## Finding length of String\n",
    "\n",
    "___\n",
    "\n",
    "\n",
    "Remember the size of string (array), is the size of the arrat. The length of string is the number of letter the string is made up of, plus the null terminating character:\n",
    "\n",
    "\n",
    "$$\n",
    "\\newcommand\\T{\\Rule{0pt}{1em}{.3em}}\n",
    "\\begin{array}{|r|r|r|r|r|r|r|r|r|r|}\n",
    "\\hline \n",
    "W\\T&e\\T&l\\T&c\\T&o\\T&m\\T&e\\T& \\text {\\\\}0  \\\\\\hline \n",
    "_0\\T&_1\\T&_2\\T&_3\\T&_4\\T&_5\\T&_6\\T&_7\\ \\\\\\hline \n",
    "_i\\T&\\T&\\T&\\T&\\T&\\T&\\T&\\ \\\\\\hline \n",
    "\\end{array}\n",
    "$$\n",
    "\n",
    "We use a coiunter i, and see if that char is $\\text {\\\\}0$, if not move to next character. Once found we stop."
   ]
  },
  {
   "cell_type": "code",
   "execution_count": 1,
   "metadata": {},
   "outputs": [],
   "source": [
    "#include <iostream>\n",
    "#include <climits>\n",
    "#include <math.h>\n",
    "using namespace std;"
   ]
  },
  {
   "cell_type": "code",
   "execution_count": 2,
   "metadata": {},
   "outputs": [
    {
     "name": "stdout",
     "output_type": "stream",
     "text": [
      "length of string: 7\n"
     ]
    }
   ],
   "source": [
    "char const *n =\"Welcome\";\n",
    "int i;\n",
    "for(i=0;n[i]!='\\0' ;i++){}\n",
    "cout<<\"length of string: \"<<i<<endl;"
   ]
  },
  {
   "cell_type": "code",
   "execution_count": null,
   "metadata": {},
   "outputs": [],
   "source": []
  }
 ],
 "metadata": {
  "kernelspec": {
   "display_name": "C++17",
   "language": "C++17",
   "name": "xcpp17"
  },
  "language_info": {
   "codemirror_mode": "text/x-c++src",
   "file_extension": ".cpp",
   "mimetype": "text/x-c++src",
   "name": "c++",
   "version": "-std=c++17"
  }
 },
 "nbformat": 4,
 "nbformat_minor": 2
}

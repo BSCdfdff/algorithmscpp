{
 "cells": [
  {
   "cell_type": "markdown",
   "metadata": {},
   "source": [
    "# Strings\n",
    "\n",
    "+ Character sets or ASCII Codes\n",
    "+ Character Array\n",
    "+ String\n",
    "+ Creating a string (in C Lang)\n"
   ]
  },
  {
   "cell_type": "markdown",
   "metadata": {},
   "source": [
    "## Reversing a string\n",
    "\n",
    "___\n",
    "\n",
    "Lets call this $A$:\n",
    "\n",
    "$$\n",
    "\\newcommand\\T{\\Rule{0pt}{1em}{.3em}}\n",
    "\\begin{array}{|r|r|r|r|r|r|r|r|r|r|}\n",
    "\\hline \n",
    "P\\T&y\\T&t\\T&h\\T&o\\T&n\\T&\\text {\\\\}0  \\\\\\hline \n",
    "_0\\T&_1\\T&_2\\T&_3\\T&_4\\T&_5\\T&_6\\\\\\hline \n",
    "\\end{array}\n",
    "$$\n",
    "\n",
    "There are more than one method\n",
    "\n",
    "Lets call this $B$:\n",
    "\n",
    "$$\n",
    "\\newcommand\\T{\\Rule{0pt}{1em}{.3em}}\n",
    "\\begin{array}{|r|r|r|r|r|r|r|r|r|r|}\n",
    "\\hline \n",
    "\\T&\\T&\\T&\\T&\\T&\\T&\\  \\\\\\hline \n",
    "_0\\T&_1\\T&_2\\T&_3\\T&_4\\T&_5\\T&_6\\\\\\hline \n",
    "\\end{array}\n",
    "$$\n",
    "\n",
    "We use this array, to copy the reverse string of $A$ here. Here we make use of two counters $i$ and $j$. The counter $i$ will $\\text{decrease}$ in the direction of $0$, whereas the counter $j$ will $\\text{increase}$ to end. Remember at the end of $j$, we need to add $\\text{\\0}$.\n",
    "\n",
    "We start at $i$ less $1$, as the last char is $\\text{\\0}$. We start $j$ as the first position. We copy the char of where $i$ is, to $j$, $\\text{decrement }$ $i$, and $\\text{increment } $j$.\n",
    "\n"
   ]
  },
  {
   "cell_type": "markdown",
   "metadata": {},
   "source": [
    "## Second Method in reversing array\n",
    "\n",
    "Here no extra array is required.\n",
    " \n",
    "Remember in later C++ compilers strings are $\\text{IMMUTABLE}$, they cannot be changed. That is if it is a pointer, it cannot be changed.\n",
    "\n",
    "But if we define as a mutable string, as we define a string normally as an array of characters.\n",
    "\n",
    "As before we saw. we have two pointer, one starting at start, and the other at the end, and we swap the two\n"
   ]
  },
  {
   "cell_type": "code",
   "execution_count": 1,
   "metadata": {},
   "outputs": [],
   "source": [
    "#include <iostream>\n",
    "#include <climits>\n",
    "#include <math.h>\n",
    "using namespace std;"
   ]
  },
  {
   "cell_type": "markdown",
   "metadata": {},
   "source": [
    "### Check for invalid string\n",
    "\n",
    "** Need to loop using outside function\n"
   ]
  },
  {
   "cell_type": "code",
   "execution_count": 2,
   "metadata": {},
   "outputs": [
    {
     "name": "stdout",
     "output_type": "stream",
     "text": [
      "Reversed: nohtyp\n"
     ]
    }
   ],
   "source": [
    "char  A[] =\"python\";\n",
    "char B[7];\n",
    "int ii=0;\n",
    "int jj;\n",
    "\n",
    "for(;A[ii]!='\\0';ii++){\n",
    "}\n",
    "ii = ii-1;\n",
    "\n",
    "\n",
    "for(jj = 0; ii >=0; ii--, jj++){\n",
    "    B[jj] = A[ii];\n",
    "}\n",
    "\n",
    "B[jj] ='\\0';\n",
    "\n",
    "    cout<<\"Reversed: \"<<B<<endl;\n"
   ]
  },
  {
   "cell_type": "markdown",
   "metadata": {},
   "source": [
    "## Swapping of chars to reverse string"
   ]
  },
  {
   "cell_type": "code",
   "execution_count": 3,
   "metadata": {},
   "outputs": [],
   "source": [
    "void swap (char *A, char *B){\n",
    "    char temp;\n",
    "    temp = *A;\n",
    "    *A=*B;\n",
    "    *B=temp;\n",
    "   \n",
    "}"
   ]
  },
  {
   "cell_type": "code",
   "execution_count": 4,
   "metadata": {},
   "outputs": [
    {
     "name": "stdout",
     "output_type": "stream",
     "text": [
      "i:p\n",
      "j:n\n",
      "i:y\n",
      "j:o\n",
      "i:t\n",
      "j:h\n",
      "Reversed: nohtyp\n"
     ]
    }
   ],
   "source": [
    "char  AA[] =\"python\";\n",
    "int k=0;\n",
    "int i=0;\n",
    "int j;\n",
    "// int k =0;\n",
    "\n",
    "for(; AA[k]!='\\0';k++){\n",
    "}\n",
    "\n",
    "k = k -1;\n",
    "j = k;\n",
    "\n",
    "for(; i<j ;i++, j--){\n",
    "    cout<<\"i:\"<<A[i]<<endl;\n",
    "    cout<<\"j:\"<<A[j]<<endl;;\n",
    "    swap (&AA[i],&AA[j]);\n",
    "}\n",
    "\n",
    "\n",
    "cout<<\"Reversed: \"<<AA<<endl;"
   ]
  },
  {
   "cell_type": "code",
   "execution_count": null,
   "metadata": {},
   "outputs": [],
   "source": []
  },
  {
   "cell_type": "code",
   "execution_count": null,
   "metadata": {},
   "outputs": [],
   "source": []
  }
 ],
 "metadata": {
  "kernelspec": {
   "display_name": "C++17",
   "language": "C++17",
   "name": "xcpp17"
  },
  "language_info": {
   "codemirror_mode": "text/x-c++src",
   "file_extension": ".cpp",
   "mimetype": "text/x-c++src",
   "name": "c++",
   "version": "-std=c++17"
  }
 },
 "nbformat": 4,
 "nbformat_minor": 2
}

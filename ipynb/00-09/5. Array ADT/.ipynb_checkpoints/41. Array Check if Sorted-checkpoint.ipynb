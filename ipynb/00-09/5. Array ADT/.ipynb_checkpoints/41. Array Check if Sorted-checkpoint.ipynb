{
 "cells": [
  {
   "cell_type": "markdown",
   "metadata": {},
   "source": [
    "# Array ADT\n",
    "\n",
    "+ Insert into sorted array\n",
    "+ Check if array is sorted\n",
    "+ Arrange -ve values on left side and positive values on right hand side\n",
    "\n"
   ]
  },
  {
   "cell_type": "markdown",
   "metadata": {},
   "source": [
    "## Our Array\n",
    "\n",
    "___\n",
    "\n",
    "Size = 10\n",
    "\n",
    "Length = 8\n",
    "\n",
    "How to read the table:\n",
    "\n",
    "1. First row contains the value(s)\n",
    "2. Second row contains the index\n",
    "\n",
    "\n",
    "$$\n",
    "\\newcommand\\T{\\Rule{0pt}{1em}{.3em}}\n",
    "\\begin{array}{|r|r|r|r|r|r|r|r|r|r|}\n",
    "\\hline \n",
    "4\\T&8\\T&13\\T&16\\T&20\\T&25\\T&28\\T&33\\T&\\T&  \\\\\\hline \n",
    "_0\\T&_1\\T&_2\\T&_3\\T&_4\\T&_5\\T&_6\\T&_7\\T&_8\\T&_9 \\\\\\hline \n",
    "\\end{array}\n",
    "$$\n",
    "\n"
   ]
  },
  {
   "cell_type": "markdown",
   "metadata": {},
   "source": [
    "## Insert element into sorted array\n",
    "\n",
    "___\n",
    "\n",
    "We want to insert element 18 into its correct sorted position.\n",
    "\n",
    "\n",
    "$$\n",
    "\\newcommand\\T{\\Rule{0pt}{1em}{.3em}}\n",
    "\\begin{array}{|r|r|r|r|r|r|r|r|r|r|}\n",
    "\\hline \n",
    "4\\T&8\\T&13\\T&16\\T&20\\T&25\\T&28\\T&33\\T&\\T&  \\\\\\hline \n",
    "_0\\T&_1\\T&_2\\T&_3\\T&_4\\T&_5\\T&_6\\T&_7\\T&_8\\T&_9 \\\\\\hline \n",
    "\\end{array}\n",
    "$$\n",
    "\n",
    "We shift, starting at the last element $33$, to the right. And we use a while loop. Our starting point will be the length-1. Then we shift all the elements to right, but we need to increase the length as well (increment the length)\n",
    "\n",
    "\n",
    "\n",
    "\n",
    "\n",
    "\n"
   ]
  },
  {
   "cell_type": "markdown",
   "metadata": {},
   "source": [
    "## Check if array is sorted\n",
    "\n",
    "___\n",
    "\n",
    "You start at the first element, and more to next element and see if previous element is smaller than the next element.\n",
    "\n",
    "\n",
    "\n",
    "$$\n",
    "\\newcommand\\T{\\Rule{0pt}{1em}{.3em}}\n",
    "\\begin{array}{|r|r|r|r|r|r|r|r|r|r|}\n",
    "\\hline \n",
    "4\\T&8\\T&13\\T&16\\T&20\\T&25\\T&28\\T&33\\T&\\T&  \\\\\\hline \n",
    "_0\\T&_1\\T&_2\\T&_3\\T&_4\\T&_5\\T&_6\\T&_7\\T&_8\\T&_9 \\\\\\hline \n",
    "\\end{array}\n",
    "$$\n",
    "\n",
    "Rather lets say we have the following list:\n",
    "\n",
    "\n",
    "$$\n",
    "\\newcommand\\T{\\Rule{0pt}{1em}{.3em}}\n",
    "\\begin{array}{|r|r|r|r|r|r|r|r|r|r|}\n",
    "\\hline \n",
    "4\\T&8\\T&13\\T&26\\T&20\\T&25\\T&28\\T&33\\T&\\T&  \\\\\\hline \n",
    "_0\\T&_1\\T&_2\\T&_3\\T&_4\\T&_5\\T&_6\\T&_7\\T&_8\\T&_9 \\\\\\hline \n",
    "\\end{array}\n",
    "$$\n",
    "\n",
    "So 26 is in the wrong spot\n",
    "\n",
    "\n",
    "\n",
    "\n"
   ]
  },
  {
   "cell_type": "markdown",
   "metadata": {},
   "source": [
    "## Negative on Left hand side\n",
    "\n",
    "___\n",
    "\n",
    "You start at the first element, and more to next element and see if previous element is smaller than the next element.\n",
    "\n",
    "\n",
    "\n",
    "$$\n",
    "\\newcommand\\T{\\Rule{0pt}{1em}{.3em}}\n",
    "\\begin{array}{|r|r|r|r|r|r|r|r|r|r|}\n",
    "\\hline \n",
    "-6\\T&3\\T&-8\\T&10\\T&5\\T&-7\\T&-9\\T&12\\T&-4\\T&2  \\\\\\hline \n",
    "_0\\T&_1\\T&_2\\T&_3\\T&_4\\T&_5\\T&_6\\T&_7\\T&_8\\T&_9 \\\\\\hline \n",
    "\\end{array}\n",
    "$$\n",
    "\n",
    "So we want to have all negative on one side, then following by positive numbers in the format:\n",
    "\n",
    "\n",
    "$$\n",
    "\\newcommand\\T{\\Rule{0pt}{1em}{.3em}}\n",
    "\\begin{array}{|r|r|r|r|r|r|r|r|r|r|}\n",
    "\\hline \n",
    "-5\\T&-4\\T&-3\\T&-2\\T&-1\\T&1\\T&2\\T&3\\T&4\\T&5  \\\\\\hline \n",
    "_0\\T&_1\\T&_2\\T&_3\\T&_4\\T&_5\\T&_6\\T&_7\\T&_8\\T&_9 \\\\\\hline \n",
    "\\end{array}\n",
    "$$\n",
    "\n",
    "\n",
    "$$$$\n",
    "$$$$\n",
    "\n",
    "\n",
    "#### Lets start\n",
    "\n",
    "Take two pointers, one $i$ at the beginning of list, and $j$ as the end of list\n",
    "\n",
    "\n",
    "$$\n",
    "\\newcommand\\T{\\Rule{0pt}{1em}{.3em}}\n",
    "\\begin{array}{|r|r|r|r|r|r|r|r|r|r|}\n",
    "\\hline \n",
    "-6\\T&3\\T&-8\\T&10\\T&5\\T&-7\\T&-9\\T&12\\T&-4\\T&2  \\\\\\hline \n",
    "_0\\T&_1\\T&_2\\T&_3\\T&_4\\T&_5\\T&_6\\T&_7\\T&_8\\T&_9 \\\\\\hline \n",
    "_i\\T&\\T&\\T&\\T&\\T&\\T&\\T&\\T&\\T&_j \\\\\\hline \n",
    "\\end{array}\n",
    "$$\n",
    "\n",
    "$i$ will increase/increment until it reaches a positive number and $j$ will decrease/increment until it reaches a negative number. And once both these conditions are satisfied, then $i$ and $j$ will swap, $i$ becomes $j$, and $j$ becomes $i$. So the swap only occurs when $i$ less than $j$.\n",
    "\n",
    "\n",
    "$$$$\n",
    "\n",
    "$$\n",
    "\\newcommand\\T{\\Rule{0pt}{1em}{.3em}}\n",
    "\\begin{array}{|r|r|r|r|r|r|r|r|r|r|}\n",
    "\\hline \n",
    "-6\\T&3\\T&-8\\T&10\\T&5\\T&-7\\T&-9\\T&12\\T&-4\\T&2  \\\\\\hline \n",
    "_0\\T&_1\\T&_2\\T&_3\\T&_4\\T&_5\\T&_6\\T&_7\\T&_8\\T&_9 \\\\\\hline \n",
    "\\T&_i\\T&\\T&\\T&\\T&\\T&\\T&\\T&_j\\T& \\\\\\hline \n",
    "\\end{array}\n",
    "$$\n",
    "\n",
    "Increment $i$, till it reaches a positive value, i.e. $3$, and we stop. Decrement $j$, till it reaches a negative value, i.e. $-4$, and we stop. Then swap $A[i]$ with $A[j]$.\n",
    "\n",
    "$$$$\n",
    "\n",
    "$$\n",
    "\\newcommand\\T{\\Rule{0pt}{1em}{.3em}}\n",
    "\\begin{array}{|r|r|r|r|r|r|r|r|r|r|}\n",
    "\\hline \n",
    "-6\\T&-4\\T&-8\\T&10\\T&5\\T&-7\\T&-9\\T&12\\T&3\\T&2  \\\\\\hline \n",
    "_0\\T&_1\\T&_2\\T&_3\\T&_4\\T&_5\\T&_6\\T&_7\\T&_8\\T&_9 \\\\\\hline \n",
    "\\T&_i\\T&\\T&\\T&\\T&\\T&\\T&\\T&_j\\T& \\\\\\hline \n",
    "\\end{array}\n",
    "$$\n",
    "\n",
    "Next repeat: Increment $i$, till it reaches a positive value, i.e. $10$, and we stop. Decrement $j$, till it reaches a negative value, i.e. $-9$, and we stop. Then swap $A[i]$ with $A[j]$.\n",
    "\n",
    "$$$$\n",
    "\n",
    "$$\n",
    "\\newcommand\\T{\\Rule{0pt}{1em}{.3em}}\n",
    "\\begin{array}{|r|r|r|r|r|r|r|r|r|r|}\n",
    "\\hline \n",
    "-6\\T&-4\\T&-8\\T&-9\\T&5\\T&-7\\T&10\\T&12\\T&3\\T&2  \\\\\\hline \n",
    "_0\\T&_1\\T&_2\\T&_3\\T&_4\\T&_5\\T&_6\\T&_7\\T&_8\\T&_9 \\\\\\hline \n",
    "\\T&\\T&\\T&_i\\T&\\T&\\T&_j\\T&\\T&\\T& \\\\\\hline \n",
    "\\end{array}\n",
    "$$\n",
    "\n",
    "Next repeat: Increment $i$, till it reaches a positive value, i.e. $5$, and we stop. Decrement $j$, till it reaches a negative value, i.e. $-7$, and we stop. Then swap $A[i]$ with $A[j]$.\n",
    "\n",
    "$$$$\n",
    "\n",
    "$$\n",
    "\\newcommand\\T{\\Rule{0pt}{1em}{.3em}}\n",
    "\\begin{array}{|r|r|r|r|r|r|r|r|r|r|}\n",
    "\\hline \n",
    "-6\\T&-4\\T&-8\\T&-9\\T&-7\\T&5\\T&10\\T&12\\T&3\\T&2  \\\\\\hline \n",
    "_0\\T&_1\\T&_2\\T&_3\\T&_4\\T&_5\\T&_6\\T&_7\\T&_8\\T&_9 \\\\\\hline \n",
    "\\T&\\T&\\T&\\T&_i\\T&_j\\T&\\T&\\T&\\T& \\\\\\hline \n",
    "\\end{array}\n",
    "$$\n",
    "\n",
    "\n",
    "Next repeat: Increment $i$, till it reaches a positive value, i.e. $5$, and we stop. Decrement $j$, till it reaches a negative value, i.e. $-7$, and we stop. **Do not swap where $i$ > $j$.**\n",
    "\n",
    "$$$$\n",
    "\n",
    "$$\n",
    "\\newcommand\\T{\\Rule{0pt}{1em}{.3em}}\n",
    "\\begin{array}{|r|r|r|r|r|r|r|r|r|r|}\n",
    "\\hline \n",
    "-6\\T&-4\\T&-8\\T&-9\\T&-7\\T&5\\T&10\\T&12\\T&3\\T&2  \\\\\\hline \n",
    "_0\\T&_1\\T&_2\\T&_3\\T&_4\\T&_5\\T&_6\\T&_7\\T&_8\\T&_9 \\\\\\hline \n",
    "\\T&\\T&\\T&\\T&_j\\T&_i\\T&\\T&\\T&\\T& \\\\\\hline \n",
    "\\end{array}\n",
    "$$\n",
    "\n",
    "\n",
    "And loop all of the above where i < j.\n"
   ]
  },
  {
   "cell_type": "code",
   "execution_count": 1,
   "metadata": {},
   "outputs": [],
   "source": [
    "#include <iostream>\n",
    "#include <climits>\n",
    "#include <math.h>\n",
    "using namespace std;"
   ]
  },
  {
   "cell_type": "code",
   "execution_count": 2,
   "metadata": {},
   "outputs": [],
   "source": [
    "class Array{\n",
    "private:\n",
    "    int *A;\n",
    "    int size;\n",
    "    int length;\n",
    "    void Swap (int *x, int *y);\n",
    "public:\n",
    "    Array(){\n",
    "        size=10;\n",
    "        A=new int[10];\n",
    "        length = 0;\n",
    "        \n",
    "    }\n",
    "    Array(int sz){\n",
    "        size=sz;\n",
    "        A=new int[sz];\n",
    "        length = 0;\n",
    "        \n",
    "    }\n",
    "    ~Array(){\n",
    "        delete []A;\n",
    "    }\n",
    "    void Display();\n",
    "    void Insert (int index, int x);\n",
    "    void InsertVal(int x);\n",
    "    string CheckSortedList();\n",
    "    void NegLeftSide();\n",
    "    \n",
    "}"
   ]
  },
  {
   "cell_type": "code",
   "execution_count": 3,
   "metadata": {},
   "outputs": [],
   "source": [
    "void Array::NegLeftSide(){\n",
    "  int i = 0;\n",
    "  int j = length-1;\n",
    "    \n",
    "  while (i<j){\n",
    "      while(A[i] < 0)i++; //only when negative\n",
    "      while(A[j] >=0)j--; //only when positive\n",
    "      \n",
    "      if(i<j)\n",
    "          Swap(&A[i], &A[j] );\n",
    "      \n",
    "\n",
    "  }  \n",
    "}"
   ]
  },
  {
   "cell_type": "code",
   "execution_count": 4,
   "metadata": {},
   "outputs": [],
   "source": [
    "string Array::CheckSortedList(){\n",
    "  string isSorted=\"Sorted\";\n",
    "  for(int i=0;i < length-1; i++){\n",
    "      if (A[i] > A[i+1]){\n",
    "          isSorted=\"Not Sorted\";\n",
    "          return isSorted;\n",
    "      }\n",
    "    }\n",
    "  return isSorted;  \n",
    "}"
   ]
  },
  {
   "cell_type": "code",
   "execution_count": 5,
   "metadata": {},
   "outputs": [],
   "source": [
    "void Array::InsertVal(int x){\n",
    "   int i=length-1;\n",
    "   while(A[i]>x){\n",
    "     cout<<A[i]<<endl;\n",
    "     A[i+1]=A[i];\n",
    "     i--;\n",
    "    }\n",
    "    A[i+1]=x;\n",
    "    length++;  \n",
    "}"
   ]
  },
  {
   "cell_type": "code",
   "execution_count": 6,
   "metadata": {},
   "outputs": [],
   "source": [
    "void Array::Swap (int *x, int *y){\n",
    "    int temp;\n",
    "    temp =*x;\n",
    "    *x=*y;\n",
    "    *y = temp;\n",
    "}"
   ]
  },
  {
   "cell_type": "code",
   "execution_count": 7,
   "metadata": {},
   "outputs": [],
   "source": [
    "void Array::Insert(int index, int x){\n",
    "   if  (index>=0 && index<=length){\n",
    "     for(int i=length-1;i>=index;i--)\n",
    "         A[i+1]=A[i];\n",
    "     A[index]=x;\n",
    "     length++;  \n",
    "   }\n",
    "}"
   ]
  },
  {
   "cell_type": "code",
   "execution_count": 8,
   "metadata": {},
   "outputs": [],
   "source": [
    "void Array::Display(){\n",
    "    for(int i=0; i<length;i++)\n",
    "      cout<<A[i]<<\" \";      \n",
    "    cout<<endl;      \n",
    "}"
   ]
  },
  {
   "cell_type": "markdown",
   "metadata": {},
   "source": [
    "#### Insert value at"
   ]
  },
  {
   "cell_type": "code",
   "execution_count": 9,
   "metadata": {},
   "outputs": [
    {
     "name": "stdout",
     "output_type": "stream",
     "text": [
      "4 8 13 16 20 25 28 33 \n",
      "Insert Value At\n",
      "33\n",
      "28\n",
      "25\n",
      "20\n",
      "4 8 13 16 18 20 25 28 33 \n"
     ]
    }
   ],
   "source": [
    "Array arr(10);\n",
    "arr.Insert(0,4);\n",
    "arr.Insert(1,8);\n",
    "arr.Insert(2,13);\n",
    "arr.Insert(3,16);\n",
    "arr.Insert(4,20);\n",
    "arr.Insert(5,25);\n",
    "arr.Insert(6,28);\n",
    "arr.Insert(7,33);\n",
    "arr.Display();\n",
    "cout<<\"Insert Value At\"<<endl;\n",
    "arr.InsertVal(18);\n",
    "arr.Display();"
   ]
  },
  {
   "cell_type": "markdown",
   "metadata": {},
   "source": [
    "#### Check for Sorted List"
   ]
  },
  {
   "cell_type": "code",
   "execution_count": 10,
   "metadata": {},
   "outputs": [
    {
     "name": "stdout",
     "output_type": "stream",
     "text": [
      "4 8 13 26 20 25 28 33 \n",
      "Not Sorted\n",
      "4 8 13 26 20 25 28 33 \n"
     ]
    }
   ],
   "source": [
    "Array arrB(10);\n",
    "arrB.Insert(0,4);\n",
    "arrB.Insert(1,8);\n",
    "arrB.Insert(2,13);\n",
    "arrB.Insert(3,26);\n",
    "arrB.Insert(4,20);\n",
    "arrB.Insert(5,25);\n",
    "arrB.Insert(6,28);\n",
    "arrB.Insert(7,33);\n",
    "arrB.Display();\n",
    "cout<<arrB.CheckSortedList()<<endl;\n",
    "arrB.Display();"
   ]
  },
  {
   "cell_type": "code",
   "execution_count": 11,
   "metadata": {},
   "outputs": [
    {
     "name": "stdout",
     "output_type": "stream",
     "text": [
      "4 8 13 16 20 25 28 33 \n",
      "Sorted\n",
      "4 8 13 16 20 25 28 33 \n"
     ]
    }
   ],
   "source": [
    "Array arrC(10);\n",
    "arrC.Insert(0,4);\n",
    "arrC.Insert(1,8);\n",
    "arrC.Insert(2,13);\n",
    "arrC.Insert(3,16);\n",
    "arrC.Insert(4,20);\n",
    "arrC.Insert(5,25);\n",
    "arrC.Insert(6,28);\n",
    "arrC.Insert(7,33);\n",
    "arrC.Display();\n",
    "cout<<arrC.CheckSortedList()<<endl;\n",
    "arrC.Display();"
   ]
  },
  {
   "cell_type": "code",
   "execution_count": 12,
   "metadata": {},
   "outputs": [
    {
     "name": "stdout",
     "output_type": "stream",
     "text": [
      "-6 3 -8 10 -5 7 -9 12 -4 2 \n",
      "-6 -4 -8 -9 -5 7 10 12 3 2 \n"
     ]
    }
   ],
   "source": [
    "Array arrD(10);\n",
    "arrD.Insert(0,-6);\n",
    "arrD.Insert(1,3);\n",
    "arrD.Insert(2,-8);\n",
    "arrD.Insert(3,10);\n",
    "arrD.Insert(4,-5);\n",
    "arrD.Insert(5,7);\n",
    "arrD.Insert(6,-9);\n",
    "arrD.Insert(7,12);\n",
    "arrD.Insert(8,-4);\n",
    "arrD.Insert(9,2);\n",
    "arrD.Display();\n",
    "arrD.NegLeftSide();\n",
    "arrD.Display();"
   ]
  },
  {
   "cell_type": "code",
   "execution_count": null,
   "metadata": {},
   "outputs": [],
   "source": []
  },
  {
   "cell_type": "code",
   "execution_count": null,
   "metadata": {},
   "outputs": [],
   "source": []
  },
  {
   "cell_type": "code",
   "execution_count": null,
   "metadata": {},
   "outputs": [],
   "source": []
  },
  {
   "cell_type": "code",
   "execution_count": null,
   "metadata": {},
   "outputs": [],
   "source": []
  }
 ],
 "metadata": {
  "kernelspec": {
   "display_name": "C++17",
   "language": "C++17",
   "name": "xcpp17"
  },
  "language_info": {
   "codemirror_mode": "text/x-c++src",
   "file_extension": ".cpp",
   "mimetype": "text/x-c++src",
   "name": "c++",
   "version": "-std=c++17"
  }
 },
 "nbformat": 4,
 "nbformat_minor": 2
}

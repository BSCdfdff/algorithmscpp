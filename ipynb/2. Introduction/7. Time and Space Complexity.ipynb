{
 "cells": [
  {
   "cell_type": "markdown",
   "metadata": {},
   "source": [
    "## Time and Space Complexity\n",
    "\n",
    "+ Time\n"
   ]
  },
  {
   "cell_type": "markdown",
   "metadata": {},
   "source": [
    "## Space Complexity\n",
    "\n",
    "How much space is consumed/required for performing task in main memory\n",
    "\n",
    "Here we **NOT** concerned about the number of bytes\n",
    "\n",
    "But the amount of elements? i.e. n\n",
    "\n",
    "n elements\n",
    "\n",
    "Works very similar to time.\n",
    "\n",
    "\n"
   ]
  },
  {
   "cell_type": "code",
   "execution_count": 1,
   "metadata": {},
   "outputs": [],
   "source": [
    "#include <iostream>\n",
    "#include <climits>\n",
    "#include <math.h>\n",
    "using namespace std;"
   ]
  },
  {
   "cell_type": "code",
   "execution_count": 2,
   "metadata": {},
   "outputs": [
    {
     "name": "stdout",
     "output_type": "stream",
     "text": [
      "In hand Element: 0compare with: \n",
      "0\n",
      "1\n",
      "2\n",
      "3\n",
      "4\n",
      "In hand Element: 1compare with: \n",
      "0\n",
      "1\n",
      "2\n",
      "3\n",
      "4\n",
      "In hand Element: 2compare with: \n",
      "0\n",
      "1\n",
      "2\n",
      "3\n",
      "4\n",
      "In hand Element: 3compare with: \n",
      "0\n",
      "1\n",
      "2\n",
      "3\n",
      "4\n",
      "In hand Element: 4compare with: \n",
      "0\n",
      "1\n",
      "2\n",
      "3\n",
      "4\n"
     ]
    }
   ],
   "source": [
    "int n = 5;\n",
    "int t=0;\n",
    "for (int i = 0; i < 5; i++)\n",
    "{\n",
    "    cout<<\"In hand Element: \"<<i<<\"compare with: \"<<endl;\n",
    "    for(int j= 0; j < 5; j++)\n",
    "    {\n",
    "        t++;\n",
    "        //cout<<t<<endl;\n",
    "        cout<<j<<endl;\n",
    "    }\n",
    "}\n"
   ]
  },
  {
   "cell_type": "code",
   "execution_count": 3,
   "metadata": {},
   "outputs": [
    {
     "name": "stdout",
     "output_type": "stream",
     "text": [
      "25\n"
     ]
    }
   ],
   "source": [
    "cout<<t<<endl;"
   ]
  },
  {
   "cell_type": "code",
   "execution_count": 4,
   "metadata": {},
   "outputs": [
    {
     "name": "stdout",
     "output_type": "stream",
     "text": [
      "In hand Element: 0 compare with: \n",
      "1\n",
      "2\n",
      "3\n",
      "4\n",
      "In hand Element: 1 compare with: \n",
      "2\n",
      "3\n",
      "4\n",
      "In hand Element: 2 compare with: \n",
      "3\n",
      "4\n",
      "In hand Element: 3 compare with: \n",
      "4\n",
      "In hand Element: 4 compare with: \n"
     ]
    }
   ],
   "source": [
    "int tt=0;\n",
    "for (int i = 0; i < 5; i++)\n",
    "{\n",
    "    cout<<\"In hand Element: \"<<i<<\" compare with: \"<<endl;\n",
    "    for(int j= i+1; j < 5; j++)\n",
    "    {\n",
    "        tt++;\n",
    "        //cout<<t<<endl;\n",
    "        cout<<j<<endl;\n",
    "    }\n",
    "}\n"
   ]
  },
  {
   "cell_type": "code",
   "execution_count": 5,
   "metadata": {},
   "outputs": [
    {
     "name": "stdout",
     "output_type": "stream",
     "text": [
      "10\n"
     ]
    }
   ],
   "source": [
    "cout<<tt<<endl;"
   ]
  },
  {
   "cell_type": "code",
   "execution_count": 6,
   "metadata": {},
   "outputs": [
    {
     "name": "stdout",
     "output_type": "stream",
     "text": [
      "256\n",
      "128\n",
      "64\n",
      "32\n",
      "16\n",
      "8\n",
      "4\n",
      "2\n"
     ]
    }
   ],
   "source": [
    "int nn = 256;\n",
    "int ttt=0;\n",
    "for (int i = nn; i >1; i=(i/2))\n",
    "{\n",
    "    ttt++;\n",
    "    //cout<<t<<endl;\n",
    "    cout<<i<<endl;\n",
    "    \n",
    "}\n"
   ]
  },
  {
   "cell_type": "code",
   "execution_count": 7,
   "metadata": {},
   "outputs": [
    {
     "name": "stdout",
     "output_type": "stream",
     "text": [
      "8\n"
     ]
    }
   ],
   "source": [
    "cout<<ttt<<endl;"
   ]
  },
  {
   "cell_type": "code",
   "execution_count": 8,
   "metadata": {},
   "outputs": [
    {
     "name": "stdout",
     "output_type": "stream",
     "text": [
      "128\n",
      "64\n",
      "32\n",
      "16\n",
      "8\n",
      "4\n",
      "2\n",
      "1\n"
     ]
    }
   ],
   "source": [
    "int n2=256;\n",
    "int ii = n2;\n",
    "int t2=0;\n",
    "while (ii>1){\n",
    "    t2++;\n",
    "    ii = (ii/2);\n",
    "    //cout<<t<<endl;\n",
    "    cout<<ii<<endl;\n",
    "}\n"
   ]
  },
  {
   "cell_type": "code",
   "execution_count": 9,
   "metadata": {},
   "outputs": [
    {
     "name": "stdout",
     "output_type": "stream",
     "text": [
      "8\n"
     ]
    }
   ],
   "source": [
    "cout<<t2<<endl;"
   ]
  }
 ],
 "metadata": {
  "kernelspec": {
   "display_name": "C++17",
   "language": "C++17",
   "name": "xcpp17"
  },
  "language_info": {
   "codemirror_mode": "text/x-c++src",
   "file_extension": ".cpp",
   "mimetype": "text/x-c++src",
   "name": "c++",
   "version": "-std=c++17"
  }
 },
 "nbformat": 4,
 "nbformat_minor": 2
}

{
 "cells": [
  {
   "cell_type": "markdown",
   "metadata": {},
   "source": [
    "# Types of Recursion\n",
    "+ Tail Recursion\n",
    "+ Head Recursion\n",
    "+ Tree Recursion\n",
    "+ Indirect Recursion \n",
    "+ Nested Recursion\n",
    "    \n",
    "\n",
    "\n"
   ]
  },
  {
   "cell_type": "markdown",
   "metadata": {},
   "source": [
    "## Tail Recursion\n",
    "\n",
    "Seen before: Where the function calling itself, is the last statement.\n",
    "\n",
    "That is means everything (all statements preceding the functon call) is performed at CALLING Time, and function will not beforming at operation as  RETURNING time.\n",
    "\n",
    "\n",
    "```\n",
    "void fun1(int n){\n",
    "    if (n > 0){\n",
    "        cout<<n<<endl;\n",
    "        fun1(n-1);            //-------------TAIL\n",
    "        \n",
    "    }\n",
    "}\n",
    "```\n",
    "\n",
    "Where we have something where there is something remaining like \n",
    "\n",
    "```\n",
    "fun1(n-1)+ x; \n",
    "```\n",
    "\n",
    "The above will be performed at RETURNING Time.\n",
    "\n",
    "But then this WILL not be TAIL recursion.\n",
    "\n",
    "\n"
   ]
  },
  {
   "cell_type": "markdown",
   "metadata": {},
   "source": [
    "## Compare Tail Recursion with Loop\n",
    "\n",
    "The two can be converted to one another.\n",
    "\n",
    "But lets compare....\n"
   ]
  },
  {
   "cell_type": "markdown",
   "metadata": {},
   "source": [
    "## Using Tail Recursion "
   ]
  },
  {
   "cell_type": "code",
   "execution_count": 1,
   "metadata": {},
   "outputs": [],
   "source": [
    "#include <iostream>\n",
    "#include <climits>\n",
    "#include <math.h>\n",
    "using namespace std;"
   ]
  },
  {
   "cell_type": "code",
   "execution_count": 2,
   "metadata": {},
   "outputs": [],
   "source": [
    "void fun(int n){               //---T(n)\n",
    "    if (n > 0){                //---1\n",
    "        cout<<n<<endl;         //---1\n",
    "        fun(n-1);              //---T(n-1)\n",
    "    }\n",
    "}"
   ]
  },
  {
   "cell_type": "code",
   "execution_count": 3,
   "metadata": {},
   "outputs": [
    {
     "name": "stdout",
     "output_type": "stream",
     "text": [
      "3\n",
      "2\n",
      "1\n"
     ]
    }
   ],
   "source": [
    "int x=3;\n",
    "fun(x);\n"
   ]
  },
  {
   "cell_type": "markdown",
   "metadata": {},
   "source": [
    "## Using Loop \n",
    "\n",
    "Tail recursion can be easily converted to while loop with vert little effort\n",
    "\n",
    "In fact,such logic is best suited for while loop\n",
    "\n",
    "#### Which more efficient? Time:\n",
    "\n",
    "Both O(n)\n",
    "\n",
    "\n",
    "#### What is best i.t.o space?\n",
    "\n",
    "Recursion - **O**(n)\n",
    "Create 4 activation records in stack \n",
    "Calls itself 4 times\n",
    "\n",
    "Loop - **O**(1)\n",
    "Creates only 1 activation T(1) records in stack\n",
    "Its not calling itself\n",
    "\n",
    "So Loop is more efficient using Loop\n",
    "\n",
    "#### Conclusion\n",
    "If you need to write a tail recursion, it best to convert or to use a loop\n",
    "____"
   ]
  },
  {
   "cell_type": "code",
   "execution_count": 4,
   "metadata": {},
   "outputs": [],
   "source": [
    "void funLoop(int n){     //---T(n)\n",
    "  while (n > 0){         //---1\n",
    "     cout<<n<<endl;      //---1\n",
    "     n--;                //---1\n",
    "  }\n",
    "}"
   ]
  },
  {
   "cell_type": "code",
   "execution_count": 5,
   "metadata": {},
   "outputs": [
    {
     "name": "stdout",
     "output_type": "stream",
     "text": [
      "3\n",
      "2\n",
      "1\n"
     ]
    }
   ],
   "source": [
    "int x_1=3;\n",
    "funLoop(x_1);"
   ]
  }
 ],
 "metadata": {
  "kernelspec": {
   "display_name": "C++17",
   "language": "C++17",
   "name": "xcpp17"
  },
  "language_info": {
   "codemirror_mode": "text/x-c++src",
   "file_extension": ".cpp",
   "mimetype": "text/x-c++src",
   "name": "c++",
   "version": "-std=c++17"
  }
 },
 "nbformat": 4,
 "nbformat_minor": 2
}
